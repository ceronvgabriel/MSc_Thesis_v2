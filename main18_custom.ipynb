{
  "cells": [
    {
      "cell_type": "markdown",
      "source": [
        "# Import"
      ],
      "metadata": {
        "nteract": {
          "transient": {
            "deleting": false
          }
        }
      }
    },
    {
      "cell_type": "code",
      "source": [
        "a=1"
      ],
      "outputs": [],
      "execution_count": null,
      "metadata": {}
    },
    {
      "cell_type": "code",
      "source": [
        "get_ipython().set_next_input(\"code\")"
      ],
      "outputs": [],
      "execution_count": null,
      "metadata": {}
    },
    {
      "cell_type": "code",
      "source": [
        "code"
      ],
      "outputs": [],
      "execution_count": null,
      "metadata": {}
    },
    {
      "cell_type": "code",
      "source": [
        "s"
      ],
      "outputs": [],
      "execution_count": null,
      "metadata": {}
    },
    {
      "cell_type": "code",
      "source": [
        "# %%\r\n",
        "\r\n",
        "# %%\r\n",
        "\r\n",
        "import dill\r\n",
        "dill.load_session('notebook_env.db')\r\n"
      ],
      "outputs": [],
      "execution_count": null,
      "metadata": {}
    },
    {
      "cell_type": "code",
      "source": [
        "a"
      ],
      "outputs": [],
      "execution_count": null,
      "metadata": {}
    },
    {
      "cell_type": "code",
      "source": [
        "import ipynbname\r\n",
        "ipynbname.name()"
      ],
      "outputs": [],
      "execution_count": null,
      "metadata": {}
    },
    {
      "cell_type": "code",
      "source": [
        "import sys\r\n",
        "sys.path"
      ],
      "outputs": [],
      "execution_count": null,
      "metadata": {}
    },
    {
      "cell_type": "code",
      "source": [
        "import time\r\n",
        "import os\r\n",
        "path = os.path.abspath(time)"
      ],
      "outputs": [],
      "execution_count": null,
      "metadata": {}
    },
    {
      "cell_type": "code",
      "source": [
        "!python --version"
      ],
      "outputs": [],
      "execution_count": null,
      "metadata": {}
    },
    {
      "cell_type": "code",
      "source": [
        "%%javascript\n",
        "IPython.notebook.kernel.execute('nb_name = \"' + IPython.notebook.notebook_name + '\"')"
      ],
      "outputs": [],
      "execution_count": null,
      "metadata": {}
    },
    {
      "cell_type": "code",
      "source": [
        "%%javascript\n",
        "\n",
        "function sayHello() {\n",
        "    alert('Hello world!');\n",
        "}\n",
        "\n",
        "setTimeout(sayHello, 1000);"
      ],
      "outputs": [],
      "execution_count": null,
      "metadata": {}
    },
    {
      "cell_type": "code",
      "source": [
        "from IPython.display import display, Javascript\n",
        "\n",
        "# can have comments here :)\n",
        "js_cmd = 'IPython.notebook.kernel.execute(\\'nb_name = \"\\' + IPython.notebook.notebook_name + \\'\"\\')'\n",
        "display(Javascript(js_cmd))"
      ],
      "outputs": [],
      "execution_count": null,
      "metadata": {}
    },
    {
      "cell_type": "code",
      "source": [
        "%%javascript\n",
        "var nb = IPython.notebook;\n",
        "var kernel = IPython.notebook.kernel;\n",
        "var command = \"NOTEBOOK_FULL_PATH = '\" + IPython.notebook.base_url + IPython.notebook.notebook_path + \"'\";\n",
        "res=kernel.execute(command);"
      ],
      "outputs": [],
      "execution_count": null,
      "metadata": {}
    },
    {
      "cell_type": "code",
      "source": [
        "IPython.notebook"
      ],
      "outputs": [],
      "execution_count": null,
      "metadata": {}
    },
    {
      "cell_type": "code",
      "source": [
        "print(res.data)"
      ],
      "outputs": [],
      "execution_count": null,
      "metadata": {}
    },
    {
      "cell_type": "code",
      "source": [
        "NOTEBOOK_FULL_PATH"
      ],
      "outputs": [],
      "execution_count": null,
      "metadata": {}
    },
    {
      "cell_type": "code",
      "source": [
        "from IPython.display import display, Javascript\r\n",
        "res=Javascript(\"alert('Works')\")"
      ],
      "outputs": [],
      "execution_count": null,
      "metadata": {}
    },
    {
      "cell_type": "code",
      "source": [
        "from IPython.display import display, Javascript\r\n",
        "res=Javascript(\"NOTEBOOK_FULL_PATH = \" + 'IPython.notebook.base_url'+ ' + ' +'IPython.notebook.notebook_path')\r\n"
      ],
      "outputs": [],
      "execution_count": null,
      "metadata": {}
    },
    {
      "cell_type": "code",
      "source": [
        "print(res.data)"
      ],
      "outputs": [],
      "execution_count": null,
      "metadata": {}
    },
    {
      "cell_type": "code",
      "source": [
        "NOTEBOOK_FULL_PATH "
      ],
      "outputs": [],
      "execution_count": null,
      "metadata": {}
    },
    {
      "cell_type": "code",
      "source": [
        "from IPython.display import display, Javascript\n",
        "res=Javascript(\"NOTEBOOK_FULL_PATH = '\" + 'IPython.notebook.base_url'+ '+' +'IPython.notebook.notebook_path' + \"'\")\n",
        "\"NOTEBOOK_FULL_PATH = '\" + IPython.notebook.base_url + IPython.notebook.notebook_path + \"'\""
      ],
      "outputs": [],
      "execution_count": null,
      "metadata": {}
    },
    {
      "cell_type": "code",
      "source": [
        "NOTEBOOK_FULL_PATH "
      ],
      "outputs": [],
      "execution_count": null,
      "metadata": {}
    },
    {
      "cell_type": "code",
      "source": [
        "%lsmagic"
      ],
      "outputs": [],
      "execution_count": null,
      "metadata": {}
    },
    {
      "cell_type": "code",
      "source": [
        "def get_notebook_name():\n",
        "    \"\"\"Execute JS code to save Jupyter notebook name to variable `notebook_name`\"\"\"\n",
        "    from IPython.core.display import Javascript, display_javascript\n",
        "    js = Javascript(\"\"\"IPython.notebook.kernel.execute('notebook_name = \"' + IPython.notebook.notebook_name + '\"');\"\"\")\n",
        "    return display_javascript(js)\n",
        "\n",
        "def get_notebook_path():\n",
        "    \"\"\"Execute JS code to save Jupyter notebook path to variable `notebook_path`\"\"\"\n",
        "    from IPython.core.display import Javascript, display_javascript\n",
        "    js = Javascript(\"\"\"IPython.notebook.kernel.execute('notebook_path = \"' + IPython.notebook.notebook_path + '\"');\"\"\")\n",
        "    return display_javascript(js)\n",
        "\n",
        "# execute javascript\n",
        "get_notebook_name()\n",
        "get_notebook_path()"
      ],
      "outputs": [],
      "execution_count": null,
      "metadata": {}
    },
    {
      "cell_type": "code",
      "source": [
        "# print results\n",
        "print(f\"{notebook_name=}\")\n",
        "print(f\"{notebook_path=}\")"
      ],
      "outputs": [],
      "execution_count": null,
      "metadata": {}
    },
    {
      "cell_type": "code",
      "source": [
        "\r\n",
        "import json\r\n",
        "import os\r\n",
        "import urllib\r\n",
        "import IPython\r\n",
        "from IPython.lib import kernel\r\n",
        "connection_file_path = kernel.get_connection_file()\r\n",
        "connection_file = os.path.basename(connection_file_path)\r\n",
        "kernel_id = connection_file.split('-', 1)[1].split('.')[0]\r\n",
        "\r\n",
        "# Updated answer with semi-solutions for both IPython 2.x and IPython < 2.x\r\n",
        "if IPython.version_info[0] < 2:\r\n",
        "    ## Not sure if it's even possible to get the port for the\r\n",
        "    ## notebook app; so just using the default...\r\n",
        "    notebooks = json.load(urllib.request.urlopen('http://127.0.0.1:8888/notebooks'))\r\n",
        "    for nb in notebooks:\r\n",
        "        if nb['kernel_id'] == kernel_id:\r\n",
        "            print (nb['name'])\r\n",
        "            break\r\n",
        "else:\r\n",
        "    sessions = json.load(urllib.request.urlopen('http://127.0.0.1:8888/api/sessions'))\r\n",
        "    for sess in sessions:\r\n",
        "        if sess['kernel']['id'] == kernel_id:\r\n",
        "            print (sess['notebook']['name'])\r\n",
        "            break"
      ],
      "outputs": [],
      "execution_count": null,
      "metadata": {}
    },
    {
      "cell_type": "code",
      "source": [
        "import jupyterlab\n",
        "if jupyterlab.__version__.split(\".\")[0] == \"3\":\n",
        "    from jupyter_server import serverapp as app\n",
        "    key_srv_directory = 'root_dir'\n",
        "else : \n",
        "    from notebook import notebookapp as app\n",
        "    key_srv_directory = 'notebook_dir'\n",
        "import urllib\n",
        "import json\n",
        "import os\n",
        "import ipykernel\n",
        "\n",
        "def notebook_path(key_srv_directory, ):\n",
        "    \"\"\"Returns the absolute path of the Notebook or None if it cannot be determined\n",
        "    NOTE: works only when the security is token-based or there is also no password\n",
        "    \"\"\"\n",
        "    connection_file = os.path.basename(ipykernel.get_connection_file())\n",
        "    kernel_id = connection_file.split('-', 1)[1].split('.')[0]\n",
        "\n",
        "    for srv in app.list_running_servers():\n",
        "        try:\n",
        "            if srv['token']=='' and not srv['password']:  # No token and no password, ahem...\n",
        "                req = urllib.request.urlopen(srv['url']+'api/sessions')\n",
        "            else:\n",
        "                req = urllib.request.urlopen(srv['url']+'api/sessions?token='+srv['token'])\n",
        "            sessions = json.load(req)\n",
        "            for sess in sessions:\n",
        "                if sess['kernel']['id'] == kernel_id:\n",
        "                    return os.path.join(srv[key_srv_directory],sess['notebook']['path'])\n",
        "        except:\n",
        "            pass  # There may be stale entries in the runtime directory \n",
        "    return None"
      ],
      "outputs": [],
      "execution_count": null,
      "metadata": {}
    },
    {
      "cell_type": "code",
      "source": [
        "import os\n",
        "import json\n",
        "try:\n",
        "    from urllib2 import urlopen\n",
        "except:\n",
        "    from urllib.request import urlopen\n",
        "import ipykernel\n",
        "\n",
        "connection_file_path = ipykernel.get_connection_file()\n",
        "connection_file = os.path.basename(connection_file_path)\n",
        "kernel_id = connection_file.split('-', 1)[1].split('.')[0]    \n",
        "    \n",
        "running_servers = !jupyter notebook list\n",
        "running_servers = [s.split('::')[0].strip() for s in running_servers[1:]]\n",
        "nb_name = '???'\n",
        "for serv in running_servers:\n",
        "    uri_parts = serv.split('?')\n",
        "    uri_parts[0] += 'api/sessions'\n",
        "    sessions = json.load(urlopen('?'.join(uri_parts)))\n",
        "    for sess in sessions:\n",
        "        if sess['kernel']['id'] == kernel_id:\n",
        "            nb_name = os.path.basename(sess['notebook']['path'])\n",
        "            break\n",
        "    if nb_name != '???':\n",
        "        break\n",
        "print (f'[{nb_name}]')\n",
        "    "
      ],
      "outputs": [],
      "execution_count": null,
      "metadata": {}
    },
    {
      "cell_type": "code",
      "source": [
        "from IPython.display import display, Javascript\n",
        "\n",
        "# can have comments here :)\n",
        "js_cmd = 'IPython.notebook.kernel.execute(\\'nb_name = \"\\' + IPython.notebook.notebook_name + \\'\"\\')'\n",
        "print(display(Javascript(js_cmd)))"
      ],
      "outputs": [],
      "execution_count": null,
      "metadata": {}
    },
    {
      "cell_type": "code",
      "source": [
        "from jupyter_server import serverapp as app; \n",
        "import ipykernel, requests, os; \n",
        "kernel_id = os.path.basename(ipykernel.get_connection_file()).split('-', 1)[1].split('.')[0]; \n",
        "srv = next(app.list_running_servers());\n",
        "nb_path = srv[\"root_dir\"]+\"/\"+next(s for s in requests.get(srv['url']+'api/sessions?token='+srv['token']).json() if s[\"kernel\"][\"id\"]==kernel_id)['notebook']['path']"
      ],
      "outputs": [],
      "execution_count": null,
      "metadata": {}
    },
    {
      "cell_type": "code",
      "source": [
        "list(app.list_running_servers())"
      ],
      "outputs": [],
      "execution_count": null,
      "metadata": {}
    },
    {
      "cell_type": "code",
      "source": [
        "ipykernel.get_connection_file()"
      ],
      "outputs": [],
      "execution_count": null,
      "metadata": {}
    },
    {
      "cell_type": "code",
      "source": [
        "kernel_id"
      ],
      "outputs": [],
      "execution_count": null,
      "metadata": {}
    },
    {
      "cell_type": "code",
      "source": [
        "import jp_proxy_widget\n",
        "\n",
        "nb_name = None\n",
        "\n",
        "def save_name(name):\n",
        "    global nb_name\n",
        "    nb_name = name\n",
        "\n",
        "get_name = jp_proxy_widget.JSProxyWidget()\n",
        "get_name.js_init(\"\"\"\n",
        "var name = IPython.notebook.notebook_name;\n",
        "element.html(\"The name of the notebook is\" + name);\n",
        "save_name(name);\n",
        "\"\"\", save_name=save_name)\n",
        "get_name"
      ],
      "outputs": [],
      "execution_count": null,
      "metadata": {}
    },
    {
      "cell_type": "code",
      "source": [
        "import json\n",
        "import os.path\n",
        "import re\n",
        "import ipykernel\n",
        "import requests\n",
        "\n",
        "#try:  # Python 3\n",
        "#    from urllib.parse import urljoin\n",
        "#except ImportError:  # Python 2\n",
        "#    from urlparse import urljoin\n",
        "\n",
        "# Alternative that works for both Python 2 and 3:\n",
        "from requests.compat import urljoin\n",
        "\n",
        "try:  # Python 3 (see Edit2 below for why this may not work in Python 2)\n",
        "    from notebook.notebookapp import list_running_servers\n",
        "except ImportError:  # Python 2\n",
        "    import warnings\n",
        "    from IPython.utils.shimmodule import ShimWarning\n",
        "    with warnings.catch_warnings():\n",
        "        warnings.simplefilter(\"ignore\", category=ShimWarning)\n",
        "        from IPython.html.notebookapp import list_running_servers\n",
        "\n",
        "\n",
        "def get_notebook_name():\n",
        "    \"\"\"\n",
        "    Return the full path of the jupyter notebook.\n",
        "    \"\"\"\n",
        "    #kernel_id = re.search('kernel-(.*).json',ipykernel.connect.get_connection_file()).group(1)\n",
        "    kernel_id = os.path.basename(ipykernel.get_connection_file()).split('-', 1)[1].split('.')[0] # or this\n",
        "    \n",
        "    servers = list_running_servers()\n",
        "    for ss in servers:\n",
        "        response = requests.get(urljoin(ss['url'], 'api/sessions'),\n",
        "                                params={'token': ss.get('token', '')})\n",
        "        for nn in json.loads(response.text):\n",
        "            if nn['kernel']['id'] == kernel_id:\n",
        "                relative_path = nn['notebook']['path']\n",
        "                #return os.path.join(ss['notebook_dir'], relative_path)\n",
        "                #return relative_path\n",
        "                return relative_path.split(\"-\")[0]"
      ],
      "outputs": [],
      "execution_count": null,
      "metadata": {}
    },
    {
      "cell_type": "code",
      "source": [],
      "outputs": [],
      "execution_count": null,
      "metadata": {}
    },
    {
      "cell_type": "code",
      "source": [
        "print(get_notebook_name())"
      ],
      "outputs": [],
      "execution_count": null,
      "metadata": {}
    },
    {
      "cell_type": "code",
      "source": [
        "os.path.basename(ipykernel.get_connection_file()).split('-', 1)[1].split('.')[0]; "
      ],
      "outputs": [],
      "execution_count": null,
      "metadata": {}
    },
    {
      "cell_type": "code",
      "source": [
        "ipykernel.connect.get_connection_file()"
      ],
      "outputs": [],
      "execution_count": null,
      "metadata": {}
    },
    {
      "cell_type": "code",
      "source": [
        "import json\r\n",
        "import os.path\r\n",
        "import re\r\n",
        "import ipykernel\r\n",
        "import requests\r\n",
        "\r\n",
        "#try:  # Python 3\r\n",
        "#    from urllib.parse import urljoin\r\n",
        "#except ImportError:  # Python 2\r\n",
        "#    from urlparse import urljoin\r\n",
        "\r\n",
        "# Alternative that works for both Python 2 and 3:\r\n",
        "from requests.compat import urljoin\r\n",
        "\r\n",
        "try:  # Python 3 (see Edit2 below for why this may not work in Python 2)\r\n",
        "    from notebook.notebookapp import list_running_servers\r\n",
        "except ImportError:  # Python 2\r\n",
        "    import warnings\r\n",
        "    from IPython.utils.shimmodule import ShimWarning\r\n",
        "    with warnings.catch_warnings():\r\n",
        "        warnings.simplefilter(\"ignore\", category=ShimWarning)\r\n",
        "        from IPython.html.notebookapp import list_running_servers\r\n",
        "\r\n",
        "\r\n",
        "def get_notebook_name():\r\n",
        "    \"\"\"\r\n",
        "    Return the full path of the jupyter notebook.\r\n",
        "    \"\"\"\r\n",
        "    kernel_id = os.path.basename(ipykernel.get_connection_file()).split('-', 1)[1].split('.')[0] # .group(1)?\r\n",
        "    servers = list_running_servers()\r\n",
        "    for ss in servers:\r\n",
        "        response = requests.get(urljoin(ss['url'], 'api/sessions'),\r\n",
        "                                params={'token': ss.get('token', '')})\r\n",
        "        for nn in json.loads(response.text):\r\n",
        "            if nn['kernel']['id'] == kernel_id:\r\n",
        "                relative_path = nn['notebook']['path']\r\n",
        "                return os.path.join(ss['notebook_dir'], relative_path)"
      ],
      "outputs": [],
      "execution_count": null,
      "metadata": {}
    },
    {
      "cell_type": "code",
      "source": [
        "list(list_running_servers())"
      ],
      "outputs": [],
      "execution_count": null,
      "metadata": {}
    },
    {
      "cell_type": "code",
      "source": [
        "!jupyter notebook list"
      ],
      "outputs": [],
      "execution_count": null,
      "metadata": {}
    },
    {
      "cell_type": "code",
      "source": [
        "!jupyter --runtime-dir"
      ],
      "outputs": [],
      "execution_count": null,
      "metadata": {}
    },
    {
      "cell_type": "code",
      "source": [
        "!ls -a /home/gabrielceron/.local/share/jupyter/runtime"
      ],
      "outputs": [],
      "execution_count": null,
      "metadata": {}
    },
    {
      "cell_type": "code",
      "source": [
        "list(list_running_servers(runtime_dir='/home/gabrielceron/.local/share/jupyter/runtime/'))"
      ],
      "outputs": [],
      "execution_count": null,
      "metadata": {}
    },
    {
      "cell_type": "code",
      "source": [
        "!sudo ls /run/user/"
      ],
      "outputs": [],
      "execution_count": null,
      "metadata": {}
    },
    {
      "cell_type": "code",
      "source": [
        "!jupyter notebook list"
      ],
      "outputs": [],
      "execution_count": null,
      "metadata": {}
    },
    {
      "cell_type": "code",
      "source": [
        "#24956\r\n",
        "while(1):\r\n",
        "    continue"
      ],
      "outputs": [],
      "execution_count": null,
      "metadata": {}
    },
    {
      "cell_type": "markdown",
      "source": [
        "# Import"
      ],
      "metadata": {}
    },
    {
      "cell_type": "code",
      "source": [
        "%run imports.py"
      ],
      "outputs": [
        {
          "output_type": "stream",
          "name": "stdout",
          "text": [
            "Files already downloaded and verified\n",
            "Preparing data..\n",
            "Files already downloaded and verified\n",
            "GPU available:  False\n",
            "OS:  linux\n"
          ]
        },
        {
          "output_type": "stream",
          "name": "stderr",
          "text": [
            "/anaconda/envs/azureml_py36/lib/python3.6/site-packages/torch/utils/data/dataloader.py:481: UserWarning: This DataLoader will create 2 worker processes in total. Our suggested max number of worker in current system is 1, which is smaller than what this DataLoader is going to create. Please be aware that excessive worker creation might get DataLoader running slow or even freeze, lower the worker number to avoid potential slowness/freeze if necessary.\n",
            "  cpuset_checked))\n"
          ]
        }
      ],
      "execution_count": 1,
      "metadata": {}
    },
    {
      "cell_type": "code",
      "source": [
        "sys.platform"
      ],
      "outputs": [
        {
          "output_type": "execute_result",
          "execution_count": 12,
          "data": {
            "text/plain": "'linux'"
          },
          "metadata": {}
        }
      ],
      "execution_count": 12,
      "metadata": {
        "gather": {
          "logged": 1629301561463
        }
      }
    },
    {
      "cell_type": "code",
      "source": [
        "#Run if you want to autoreload your personal modules on change\r\n",
        "import autoreload\r\n",
        "%load_ext autoreload\r\n",
        "%autoreload 2\r\n",
        "\r\n",
        "#Next is needed in azure vm to autoreload modules in cwd\r\n",
        "import os\r\n",
        "pwd=os.popen(\"pwd\").read().rstrip()\r\n",
        "\r\n",
        "import sys\r\n",
        "sys.path.append(pwd)"
      ],
      "outputs": [],
      "execution_count": 1,
      "metadata": {
        "gather": {
          "logged": 1625555952740
        }
      }
    },
    {
      "cell_type": "code",
      "source": [
        "import time\r\n",
        "import log\r\n",
        "def log_time(func,ad_info=\"\"):\r\n",
        "    def wrapper(*args, **kwargs):\r\n",
        "        print()\r\n",
        "        start = time.process_time()\r\n",
        "        try:\r\n",
        "            best_acc=func(*args, **kwargs)\r\n",
        "            total=time.process_time() - start\r\n",
        "            log.log(\"Exec time: \" + str(total) + \"best_acc: \"  + str(best_acc) + \" \" + ad_info)\r\n",
        "        except Exception as e:\r\n",
        "            total=time.process_time() - start\r\n",
        "            log.log(\"Exec time: \" + str(total) + \" ERROR: \" + str(e) + \" \" + ad_info)\r\n",
        "    return wrapper"
      ],
      "outputs": [],
      "execution_count": 2,
      "metadata": {
        "gather": {
          "logged": 1625555955248
        },
        "nteract": {
          "transient": {
            "deleting": false
          }
        },
        "tags": []
      }
    },
    {
      "cell_type": "code",
      "source": [
        "#Show current devices (GPU)\r\n",
        "#print(torch.cuda.current_device())\r\n",
        "#from tensorflow.python.client import device_lib\r\n",
        "#device_lib.list_local_devices()"
      ],
      "outputs": [],
      "execution_count": 17,
      "metadata": {
        "gather": {
          "logged": 1625554855474
        },
        "nteract": {
          "transient": {
            "deleting": false
          }
        },
        "tags": []
      }
    },
    {
      "cell_type": "code",
      "source": [
        "'''Train CIFAR10 with PyTorch.'''\r\n",
        "import torch\r\n",
        "import torch.nn as nn\r\n",
        "import torch.optim as optim\r\n",
        "import torch.nn.functional as F\r\n",
        "import torch.backends.cudnn as cudnn\r\n",
        "\r\n",
        "\r\n",
        "import torchvision\r\n",
        "import torchvision.transforms as transforms\r\n",
        "\r\n",
        "import os\r\n",
        "import argparse\r\n",
        "\r\n",
        "#from models import *\r\n",
        "import utils\r\n",
        "from utils import progress_bar\r\n",
        "import time\r\n",
        "from torchvision import models\r\n",
        "\r\n",
        "import model_actions"
      ],
      "outputs": [],
      "execution_count": 19,
      "metadata": {
        "gather": {
          "logged": 1625555971911
        },
        "nteract": {
          "transient": {
            "deleting": false
          }
        },
        "tags": []
      }
    },
    {
      "cell_type": "code",
      "source": [
        "\r\n",
        "import sys\r\n",
        "sys.path.append('C:\\\\Python39\\\\lib\\\\site-packages')"
      ],
      "outputs": [],
      "execution_count": null,
      "metadata": {}
    },
    {
      "cell_type": "markdown",
      "source": [
        "# Run"
      ],
      "metadata": {}
    },
    {
      "cell_type": "code",
      "source": [
        "\r\n",
        "\r\n",
        "%run main_custom\r\n"
      ],
      "outputs": [],
      "execution_count": null,
      "metadata": {
        "collapsed": true,
        "jupyter": {
          "outputs_hidden": true,
          "source_hidden": false
        },
        "nteract": {
          "transient": {
            "deleting": false
          }
        }
      }
    },
    {
      "cell_type": "code",
      "source": [
        "#import resnet_18_custom\r\n",
        "#Parameters:\r\n",
        "\r\n",
        "# num_classes: int = 1000, # Output of Fully Connected layer\r\n",
        "#norm_layer: Optional[Callable[..., nn.Module]] = None\r\n",
        "#inplanes; in git resnet we also have default 64\r\n",
        "#layer_stride\r\n",
        "#layer_kernel_size\r\n",
        "\r\n",
        "#model=resnet_18_custom.resnet18(num_classes=10,layer_stride=4)\r\n",
        "default=models.resnet18(num_classes=10)"
      ],
      "outputs": [],
      "execution_count": null,
      "metadata": {
        "collapsed": true,
        "gather": {
          "logged": 1625549073978
        },
        "jupyter": {
          "outputs_hidden": true,
          "source_hidden": false
        },
        "nteract": {
          "transient": {
            "deleting": false
          }
        }
      }
    },
    {
      "cell_type": "code",
      "source": [
        "# run instead of import because of parameters\r\n",
        "%run main_custom"
      ],
      "outputs": [],
      "execution_count": null,
      "metadata": {
        "collapsed": true,
        "gather": {
          "logged": 1625553051576
        },
        "jupyter": {
          "outputs_hidden": true,
          "source_hidden": false
        },
        "nteract": {
          "transient": {
            "deleting": false
          }
        }
      }
    },
    {
      "cell_type": "code",
      "source": [
        "epochs=200\r\n",
        "model_desc=\"test_stride\"\r\n",
        "ad_info=\" saved: \" + model_desc + \" epochs: \" + str(epochs)\r\n",
        "log_time(train_model,ad_info=ad_info)(model,epochs,model_desc)"
      ],
      "outputs": [],
      "execution_count": null,
      "metadata": {
        "collapsed": true,
        "jupyter": {
          "outputs_hidden": true,
          "source_hidden": false
        },
        "nteract": {
          "transient": {
            "deleting": false
          }
        }
      }
    },
    {
      "cell_type": "code",
      "source": [
        "#Or use: from functools import partial; to bind function and arguments\r\n",
        "log_time(train_model)(model,\"test_time\")\r\n"
      ],
      "outputs": [],
      "execution_count": null,
      "metadata": {
        "collapsed": true,
        "jupyter": {
          "outputs_hidden": true,
          "source_hidden": false
        },
        "nteract": {
          "transient": {
            "deleting": false
          }
        }
      }
    },
    {
      "cell_type": "markdown",
      "source": [
        "# Batch Size mod"
      ],
      "metadata": {
        "nteract": {
          "transient": {
            "deleting": false
          }
        }
      }
    },
    {
      "cell_type": "code",
      "source": [
        "%run main_custom"
      ],
      "outputs": [],
      "execution_count": null,
      "metadata": {
        "collapsed": true,
        "jupyter": {
          "outputs_hidden": true,
          "source_hidden": false
        },
        "nteract": {
          "transient": {
            "deleting": false
          }
        }
      }
    },
    {
      "cell_type": "code",
      "source": [
        "class MyGroupNorm(nn.Module):\r\n",
        "    def __init__(self, num_channels):\r\n",
        "        super(MyGroupNorm, self).__init__()\r\n",
        "        self.norm = nn.GroupNorm(num_groups=2, num_channels=num_channels,\r\n",
        "                                 eps=1e-5, affine=True)\r\n",
        "    \r\n",
        "    def forward(self, x):\r\n",
        "        x = self.norm(x)\r\n",
        "        return x"
      ],
      "outputs": [],
      "execution_count": null,
      "metadata": {
        "collapsed": true,
        "gather": {
          "logged": 1625556010891
        },
        "jupyter": {
          "outputs_hidden": true,
          "source_hidden": false
        },
        "nteract": {
          "transient": {
            "deleting": false
          }
        }
      }
    },
    {
      "cell_type": "code",
      "source": [
        "model=resnet_18_custom.resnet18(num_classes=10)\r\n",
        "default_gn=models.resnet18(num_classes=10,norm_layer=MyGroupNorm)\r\n",
        "default=models.resnet18(num_classes=10)"
      ],
      "outputs": [],
      "execution_count": null,
      "metadata": {
        "collapsed": true,
        "gather": {
          "logged": 1625556014725
        },
        "jupyter": {
          "outputs_hidden": true,
          "source_hidden": false
        },
        "nteract": {
          "transient": {
            "deleting": false
          }
        }
      }
    },
    {
      "cell_type": "code",
      "source": [
        "default_gn"
      ],
      "outputs": [],
      "execution_count": null,
      "metadata": {
        "collapsed": true,
        "gather": {
          "logged": 1625554892309
        },
        "jupyter": {
          "outputs_hidden": true,
          "source_hidden": false
        },
        "nteract": {
          "transient": {
            "deleting": false
          }
        }
      }
    },
    {
      "cell_type": "code",
      "source": [
        "try:\r\n",
        "    epochs=200\r\n",
        "    model_desc=\"default_b_size_256\"\r\n",
        "    ad_info=\" saved: \" + model_desc + \" epochs: \" + str(epochs)\r\n",
        "    log_time(train_model,ad_info=ad_info)(default,epochs,model_desc,t_batch_size=256)\r\n",
        "\r\n",
        "    epochs=200\r\n",
        "    model_desc=\"default_b_size_512\"\r\n",
        "    ad_info=\" saved: \" + model_desc + \" epochs: \" + str(epochs)\r\n",
        "    log_time(train_model,ad_info=ad_info)(default,epochs,model_desc,t_batch_size=512)\r\n",
        "except:\r\n",
        "    pass\r\n",
        "from az_manage_proc import delete\r\n",
        "log.log(\"end\")\r\n",
        "delete()\r\n"
      ],
      "outputs": [],
      "execution_count": null,
      "metadata": {
        "collapsed": true,
        "gather": {
          "logged": 1625555064782
        },
        "jupyter": {
          "outputs_hidden": true,
          "source_hidden": false
        },
        "nteract": {
          "transient": {
            "deleting": false
          }
        }
      }
    },
    {
      "cell_type": "code",
      "source": [
        "model=models.resnet18(num_classes=10)\r\n",
        "\r\n",
        "criterion = nn.CrossEntropyLoss()\r\n",
        "\r\n",
        "# Observe that all parameters are being optimized\r\n",
        "#optimizer = optim.SGD(net.parameters(), lr=0.1, momentum=0.9, weight_decay=5e-4)\r\n",
        "\r\n",
        "# Decay LR by a factor of 0.1 every 7 epochs\r\n",
        "# exp_lr_scheduler = lr_scheduler.StepLR(optimizer_ft, step_size=7, gamma=0.1)\r\n",
        "\r\n",
        "#plateau_lr_scheduler = torch.optim.lr_scheduler.ReduceLROnPlateau(optimizer,patience=3,threshold=1e-3)\r\n",
        "optimizer = optim.SGD(model.parameters(), lr=0.1, #MOD: lr=args.lr,\r\n",
        "                        momentum=0.9, weight_decay=5e-4)\r\n",
        "scheduler = torch.optim.lr_scheduler.CosineAnnealingLR(optimizer, T_max=200)\r\n",
        "name=\"bs_64_sch_cosine_wd_5e-4/bs_64_sch_cosine_wd_5e-4\"\r\n",
        "run_and_delete(log.log_time,model_actions.progressive_train_3,model,300,name,20,criterion,scheduler)"
      ],
      "outputs": [
        {
          "output_type": "stream",
          "name": "stdout",
          "text": [
            "Found existing instance, use it.\n",
            "Training\n",
            "\n",
            "\n",
            "Epoch: 1\n",
            "\n",
            "Epoch: 2\n",
            "\n",
            "Epoch: 3\n",
            "\n",
            "Epoch: 4\n",
            "\n",
            "Epoch: 5\n",
            "\n",
            "Epoch: 6\n",
            "\n",
            "Epoch: 7\n",
            "\n",
            "Epoch: 8\n",
            "\n",
            "Epoch: 9\n",
            "\n",
            "Epoch: 10\n",
            "\n",
            "Epoch: 11\n",
            "\n",
            "Epoch: 12\n",
            "\n",
            "Epoch: 13\n",
            "\n",
            "Epoch: 14\n",
            "\n",
            "Epoch: 15\n",
            "\n",
            "Epoch: 16\n",
            "\n",
            "Epoch: 17\n",
            "\n",
            "Epoch: 18\n",
            "\n",
            "Epoch: 19\n",
            "\n",
            "Epoch: 20\n",
            "Saving.. epoch: 20\n",
            "\n",
            "\n",
            "Epoch: 21\n",
            "\n",
            "Epoch: 22\n",
            "\n",
            "Epoch: 23\n",
            "\n",
            "Epoch: 24\n",
            "\n",
            "Epoch: 25\n",
            "\n",
            "Epoch: 26\n",
            "\n",
            "Epoch: 27\n",
            "\n",
            "Epoch: 28\n",
            "\n",
            "Epoch: 29\n",
            "\n",
            "Epoch: 30\n",
            "\n",
            "Epoch: 31\n",
            "\n",
            "Epoch: 32\n",
            "\n",
            "Epoch: 33\n",
            "\n",
            "Epoch: 34\n",
            "\n",
            "Epoch: 35\n",
            "\n",
            "Epoch: 36\n",
            "\n",
            "Epoch: 37\n",
            "\n",
            "Epoch: 38\n",
            "\n",
            "Epoch: 39\n",
            "\n",
            "Epoch: 40\n",
            "Saving.. epoch: 40\n",
            "\n",
            "\n",
            "Epoch: 41\n",
            "\n",
            "Epoch: 42\n",
            "\n",
            "Epoch: 43\n",
            "\n",
            "Epoch: 44\n",
            "\n",
            "Epoch: 45\n",
            "\n",
            "Epoch: 46\n",
            "\n",
            "Epoch: 47\n",
            "\n",
            "Epoch: 48\n",
            "\n",
            "Epoch: 49\n",
            "\n",
            "Epoch: 50\n",
            "\n",
            "Epoch: 51\n",
            "\n",
            "Epoch: 52\n",
            "\n",
            "Epoch: 53\n",
            "\n",
            "Epoch: 54\n",
            "\n",
            "Epoch: 55\n",
            "\n",
            "Epoch: 56\n",
            "\n",
            "Epoch: 57\n",
            "\n",
            "Epoch: 58\n",
            "\n",
            "Epoch: 59\n",
            "\n",
            "Epoch: 60\n",
            "Saving.. epoch: 60\n",
            "\n",
            "\n",
            "Epoch: 61\n",
            "\n",
            "Epoch: 62\n",
            "\n",
            "Epoch: 63\n",
            "\n",
            "Epoch: 64\n",
            "\n",
            "Epoch: 65\n",
            "\n",
            "Epoch: 66\n",
            "\n",
            "Epoch: 67\n",
            "\n",
            "Epoch: 68\n",
            "\n",
            "Epoch: 69\n",
            "\n",
            "Epoch: 70\n",
            "\n",
            "Epoch: 71\n",
            "\n",
            "Epoch: 72\n",
            "\n",
            "Epoch: 73\n",
            "\n",
            "Epoch: 74\n",
            "\n",
            "Epoch: 75\n",
            "\n",
            "Epoch: 76\n",
            "\n",
            "Epoch: 77\n",
            "\n",
            "Epoch: 78\n",
            "\n",
            "Epoch: 79\n",
            "\n",
            "Epoch: 80\n",
            "Saving.. epoch: 80\n",
            "\n",
            "\n",
            "Epoch: 81\n",
            "\n",
            "Epoch: 82\n",
            "\n",
            "Epoch: 83\n",
            "\n",
            "Epoch: 84\n",
            "\n",
            "Epoch: 85\n",
            "\n",
            "Epoch: 86\n",
            "\n",
            "Epoch: 87\n",
            "\n",
            "Epoch: 88\n",
            "\n",
            "Epoch: 89\n",
            "\n",
            "Epoch: 90\n",
            "\n",
            "Epoch: 91\n",
            "\n",
            "Epoch: 92\n",
            "\n",
            "Epoch: 93\n",
            "\n",
            "Epoch: 94\n",
            "\n",
            "Epoch: 95\n",
            "\n",
            "Epoch: 96\n",
            "\n",
            "Epoch: 97\n",
            "\n",
            "Epoch: 98\n",
            "\n",
            "Epoch: 99\n",
            "\n",
            "Epoch: 100\n",
            "Saving.. epoch: 100\n",
            "\n",
            "\n",
            "Epoch: 101\n",
            "\n",
            "Epoch: 102\n",
            "\n",
            "Epoch: 103\n",
            "\n",
            "Epoch: 104\n",
            "\n",
            "Epoch: 105\n",
            "\n",
            "Epoch: 106\n",
            "\n",
            "Epoch: 107\n",
            "\n",
            "Epoch: 108\n",
            "\n",
            "Epoch: 109\n",
            "\n",
            "Epoch: 110\n",
            "\n",
            "Epoch: 111\n",
            "\n",
            "Epoch: 112\n",
            "\n",
            "Epoch: 113\n",
            "\n",
            "Epoch: 114\n",
            "\n",
            "Epoch: 115\n",
            "\n",
            "Epoch: 116\n",
            "\n",
            "Epoch: 117\n",
            "\n",
            "Epoch: 118\n",
            "\n",
            "Epoch: 119\n",
            "\n",
            "Epoch: 120\n",
            "Saving.. epoch: 120\n",
            "\n",
            "\n",
            "Epoch: 121\n",
            "\n",
            "Epoch: 122\n",
            "\n",
            "Epoch: 123\n",
            "\n",
            "Epoch: 124\n",
            "\n",
            "Epoch: 125\n",
            "\n",
            "Epoch: 126\n",
            "\n",
            "Epoch: 127\n",
            "\n",
            "Epoch: 128\n",
            "\n",
            "Epoch: 129\n",
            "\n",
            "Epoch: 130\n",
            "\n",
            "Epoch: 131\n",
            "\n",
            "Epoch: 132\n",
            "\n",
            "Epoch: 133\n",
            "\n",
            "Epoch: 134\n",
            "\n",
            "Epoch: 135\n",
            "\n",
            "Epoch: 136\n",
            "\n",
            "Epoch: 137\n",
            "\n",
            "Epoch: 138\n",
            "\n",
            "Epoch: 139\n",
            "\n",
            "Epoch: 140\n",
            "Saving.. epoch: 140\n",
            "\n",
            "\n",
            "Epoch: 141\n",
            "\n",
            "Epoch: 142\n",
            "\n",
            "Epoch: 143\n",
            "\n",
            "Epoch: 144\n",
            "\n",
            "Epoch: 145\n",
            "\n",
            "Epoch: 146\n",
            "\n",
            "Epoch: 147\n",
            "\n",
            "Epoch: 148\n",
            "\n",
            "Epoch: 149\n",
            "\n",
            "Epoch: 150\n",
            "\n",
            "Epoch: 151\n",
            "\n",
            "Epoch: 152\n",
            "\n",
            "Epoch: 153\n",
            "\n",
            "Epoch: 154\n",
            "\n",
            "Epoch: 155\n",
            "\n",
            "Epoch: 156\n",
            "\n",
            "Epoch: 157\n",
            "\n",
            "Epoch: 158\n",
            "\n",
            "Epoch: 159\n",
            "\n",
            "Epoch: 160\n",
            "Saving.. epoch: 160\n",
            "\n",
            "\n",
            "Epoch: 161\n",
            "\n",
            "Epoch: 162\n",
            "\n",
            "Epoch: 163\n",
            "\n",
            "Epoch: 164\n",
            "\n",
            "Epoch: 165\n",
            "\n",
            "Epoch: 166\n",
            "\n",
            "Epoch: 167\n",
            "\n",
            "Epoch: 168\n",
            "\n",
            "Epoch: 169\n",
            "\n",
            "Epoch: 170\n",
            "\n",
            "Epoch: 171\n",
            "\n",
            "Epoch: 172\n",
            "\n",
            "Epoch: 173\n",
            "\n",
            "Epoch: 174\n",
            "\n",
            "Epoch: 175\n",
            "\n",
            "Epoch: 176\n",
            "\n",
            "Epoch: 177\n",
            "\n",
            "Epoch: 178\n",
            "\n",
            "Epoch: 179\n",
            "\n",
            "Epoch: 180\n",
            "Saving.. epoch: 180\n",
            "\n",
            "\n",
            "Epoch: 181\n",
            "\n",
            "Epoch: 182\n",
            "\n",
            "Epoch: 183\n",
            "\n",
            "Epoch: 184\n",
            "\n",
            "Epoch: 185\n",
            "\n",
            "Epoch: 186\n",
            "\n",
            "Epoch: 187\n",
            "\n",
            "Epoch: 188\n",
            "\n",
            "Epoch: 189\n",
            "\n",
            "Epoch: 190\n",
            "\n",
            "Epoch: 191\n",
            "\n",
            "Epoch: 192\n",
            "\n",
            "Epoch: 193\n",
            "\n",
            "Epoch: 194\n",
            "\n",
            "Epoch: 195\n",
            "\n",
            "Epoch: 196\n",
            "\n",
            "Epoch: 197\n",
            "\n",
            "Epoch: 198\n",
            "\n",
            "Epoch: 199\n",
            "\n",
            "Epoch: 200\n",
            "Saving.. epoch: 200\n",
            "\n",
            "\n",
            "Epoch: 201\n",
            "\n",
            "Epoch: 202\n",
            "\n",
            "Epoch: 203\n",
            "\n",
            "Epoch: 204\n",
            "\n",
            "Epoch: 205\n",
            "\n",
            "Epoch: 206\n",
            "\n",
            "Epoch: 207\n",
            "\n",
            "Epoch: 208\n",
            "\n",
            "Epoch: 209\n",
            "\n",
            "Epoch: 210\n",
            "\n",
            "Epoch: 211\n",
            "\n",
            "Epoch: 212\n",
            "\n",
            "Epoch: 213\n",
            "\n",
            "Epoch: 214\n",
            "\n",
            "Epoch: 215\n",
            "\n",
            "Epoch: 216\n",
            "\n",
            "Epoch: 217\n",
            "\n",
            "Epoch: 218\n",
            "\n",
            "Epoch: 219\n",
            "\n",
            "Epoch: 220\n",
            "Saving.. epoch: 220\n",
            "\n",
            "\n",
            "Epoch: 221\n",
            "\n",
            "Epoch: 222\n",
            "\n",
            "Epoch: 223\n",
            "\n",
            "Epoch: 224\n",
            "\n",
            "Epoch: 225\n",
            "\n",
            "Epoch: 226\n",
            "\n",
            "Epoch: 227\n",
            "\n",
            "Epoch: 228\n",
            "\n",
            "Epoch: 229\n",
            "\n",
            "Epoch: 230\n",
            "\n",
            "Epoch: 231\n",
            "\n",
            "Epoch: 232\n",
            "\n",
            "Epoch: 233\n",
            "\n",
            "Epoch: 234\n",
            "\n",
            "Epoch: 235\n",
            "\n",
            "Epoch: 236\n",
            "\n",
            "Epoch: 237\n",
            "\n",
            "Epoch: 238\n",
            "\n",
            "Epoch: 239\n",
            "\n",
            "Epoch: 240\n",
            "Saving.. epoch: 240\n",
            "\n",
            "\n",
            "Epoch: 241\n",
            "\n",
            "Epoch: 242\n",
            "\n",
            "Epoch: 243\n",
            "\n",
            "Epoch: 244\n",
            "\n",
            "Epoch: 245\n",
            "\n",
            "Epoch: 246\n",
            "\n",
            "Epoch: 247\n",
            "\n",
            "Epoch: 248\n",
            "\n",
            "Epoch: 249\n",
            "\n",
            "Epoch: 250\n",
            "\n",
            "Epoch: 251\n",
            "\n",
            "Epoch: 252\n",
            "\n",
            "Epoch: 253\n",
            "\n",
            "Epoch: 254\n",
            "\n",
            "Epoch: 255\n",
            "\n",
            "Epoch: 256\n",
            "\n",
            "Epoch: 257\n",
            "\n",
            "Epoch: 258\n",
            "\n",
            "Epoch: 259\n",
            "\n",
            "Epoch: 260\n",
            "Saving.. epoch: 260\n",
            "\n",
            "\n",
            "Epoch: 261\n",
            "\n",
            "Epoch: 262\n",
            "\n",
            "Epoch: 263\n",
            "\n",
            "Epoch: 264\n",
            "\n",
            "Epoch: 265\n",
            "\n",
            "Epoch: 266\n",
            "\n",
            "Epoch: 267\n",
            "\n",
            "Epoch: 268\n",
            "\n",
            "Epoch: 269\n",
            "\n",
            "Epoch: 270\n",
            "\n",
            "Epoch: 271\n",
            "\n",
            "Epoch: 272\n",
            "\n",
            "Epoch: 273\n",
            "\n",
            "Epoch: 274\n",
            "\n",
            "Epoch: 275\n",
            "\n",
            "Epoch: 276\n",
            "\n",
            "Epoch: 277\n",
            "\n",
            "Epoch: 278\n",
            "\n",
            "Epoch: 279\n",
            "\n",
            "Epoch: 280\n",
            "Saving.. epoch: 280\n",
            "\n",
            "\n",
            "Epoch: 281\n",
            "\n",
            "Epoch: 282\n",
            "\n",
            "Epoch: 283\n",
            "\n",
            "Epoch: 284\n",
            "\n",
            "Epoch: 285\n",
            "\n",
            "Epoch: 286\n",
            "\n",
            "Epoch: 287\n",
            "\n",
            "Epoch: 288\n",
            "\n",
            "Epoch: 289\n",
            "\n",
            "Epoch: 290\n",
            "\n",
            "Epoch: 291\n",
            "\n",
            "Epoch: 292\n",
            "\n",
            "Epoch: 293\n",
            "\n",
            "Epoch: 294\n",
            "\n",
            "Epoch: 295\n",
            "\n",
            "Epoch: 296\n",
            "\n",
            "Epoch: 297\n",
            "\n",
            "Epoch: 298\n",
            "\n",
            "Epoch: 299\n",
            "\n",
            "Epoch: 300\n",
            "Saving.. epoch: 300\n",
            "\n",
            "Deleting VM\n",
            "Found existing instance, use it.\n",
            "Deleting......"
          ]
        },
        {
          "output_type": "stream",
          "name": "stderr",
          "text": [
            "/anaconda/envs/azureml_py36/lib/python3.6/site-packages/torch/nn/functional.py:718: UserWarning: Named tensors and all their associated APIs are an experimental feature and subject to change. Please do not use them for anything important until they are released as stable. (Triggered internally at  /pytorch/c10/core/TensorImpl.h:1156.)\n",
            "  return torch.max_pool2d(input, kernel_size, stride, padding, dilation, ceil_mode)\n",
            "/anaconda/envs/azureml_py36/lib/python3.6/site-packages/torch/optim/lr_scheduler.py:154: UserWarning: The epoch parameter in `scheduler.step()` was not necessary and is being deprecated where possible. Please use `scheduler.step()` to step the scheduler. During the deprecation, if epoch is different from None, the closed form is used instead of the new chainable form, where available. Please open an issue if you are unable to replicate your use case: https://github.com/pytorch/pytorch/issues/new/choose.\n",
            "  warnings.warn(EPOCH_DEPRECATION_WARNING, UserWarning)\n"
          ]
        }
      ],
      "execution_count": 4,
      "metadata": {
        "collapsed": true,
        "jupyter": {
          "source_hidden": false,
          "outputs_hidden": false
        },
        "nteract": {
          "transient": {
            "deleting": false
          }
        }
      }
    },
    {
      "cell_type": "code",
      "source": [
        "model=models.resnet18(num_classes=10)\r\n",
        "\r\n",
        "criterion = nn.CrossEntropyLoss()\r\n",
        "\r\n",
        "# Observe that all parameters are being optimized\r\n",
        "#optimizer = optim.SGD(net.parameters(), lr=0.1, momentum=0.9, weight_decay=5e-4)\r\n",
        "\r\n",
        "# Decay LR by a factor of 0.1 every 7 epochs\r\n",
        "# exp_lr_scheduler = lr_scheduler.StepLR(optimizer_ft, step_size=7, gamma=0.1)\r\n",
        "\r\n",
        "#plateau_lr_scheduler = torch.optim.lr_scheduler.ReduceLROnPlateau(optimizer,patience=3,threshold=1e-3)\r\n",
        "optimizer = optim.SGD(model.parameters(), lr=0.1, #MOD: lr=args.lr,\r\n",
        "                        momentum=0.9, weight_decay=5e-4)\r\n",
        "\r\n",
        "#scheduler = torch.optim.lr_scheduler.CosineAnnealingLR(optimizer, T_max=200)\r\n",
        "scheduler = torch.optim.lr_scheduler.CosineAnnealingLR(optimizer, T_max=200)\r\n",
        "\r\n",
        "#name=\"bs_1024_sch_cosine/bs_1024_sch_cosine\"\r\n",
        "name=\"bs_1024_sch_cosine/bs_1024_sch_cosine\"\r\n",
        "run_and_delete(log.log_time,model_actions.progressive_train_3,model,300,name,20,criterion,scheduler)"
      ],
      "outputs": [
        {
          "output_type": "stream",
          "name": "stdout",
          "text": [
            "Found existing instance, use it.\n",
            "Training\n",
            "\n",
            "\n",
            "Epoch: 1\n",
            "\n",
            "Epoch: 2\n",
            "\n",
            "Epoch: 3\n",
            "\n",
            "Epoch: 4\n",
            "\n",
            "Epoch: 5\n",
            "\n",
            "Epoch: 6\n",
            "\n",
            "Epoch: 7\n",
            "\n",
            "Epoch: 8\n",
            "\n",
            "Epoch: 9\n",
            "\n",
            "Epoch: 10\n",
            "\n",
            "Epoch: 11\n",
            "\n",
            "Epoch: 12\n",
            "\n",
            "Epoch: 13\n"
          ]
        }
      ],
      "execution_count": 4,
      "metadata": {
        "collapsed": true,
        "jupyter": {
          "source_hidden": false,
          "outputs_hidden": false
        },
        "nteract": {
          "transient": {
            "deleting": false
          }
        },
        "gather": {
          "logged": 1629352954769
        }
      }
    },
    {
      "cell_type": "code",
      "source": [
        "scheduler.__class__.__name__"
      ],
      "outputs": [
        {
          "output_type": "execute_result",
          "execution_count": 9,
          "data": {
            "text/plain": "'CosineAnnealingLR'"
          },
          "metadata": {}
        }
      ],
      "execution_count": 9,
      "metadata": {
        "collapsed": true,
        "jupyter": {
          "source_hidden": false,
          "outputs_hidden": false
        },
        "nteract": {
          "transient": {
            "deleting": false
          }
        },
        "gather": {
          "logged": 1629351284495
        }
      }
    },
    {
      "cell_type": "code",
      "source": [
        "model=models.resnet18(num_classes=10)\r\n",
        "\r\n",
        "criterion = nn.CrossEntropyLoss()\r\n",
        "\r\n",
        "# Observe that all parameters are being optimized\r\n",
        "#optimizer = optim.SGD(net.parameters(), lr=0.1, momentum=0.9, weight_decay=5e-4)\r\n",
        "\r\n",
        "# Decay LR by a factor of 0.1 every 7 epochs\r\n",
        "# exp_lr_scheduler = lr_scheduler.StepLR(optimizer_ft, step_size=7, gamma=0.1)\r\n",
        "\r\n",
        "\r\n",
        "optimizer = optim.SGD(model.parameters(), lr=0.1, #MOD: lr=args.lr,\r\n",
        "                        momentum=0.9, weight_decay=5e-4)\r\n",
        "\r\n",
        "#scheduler = torch.optim.lr_scheduler.CosineAnnealingLR(optimizer, T_max=200)\r\n",
        "scheduler = torch.optim.lr_scheduler.ReduceLROnPlateau(optimizer,patience=4,threshold=1e-3)\r\n",
        "\r\n",
        "#name=\"bs_1024_sch_cosine/bs_1024_sch_cosine\"\r\n",
        "name=\"bs_1024_sch_plateau/bs_1024_sch_plateau\"\r\n",
        "run_and_delete(log.log_time,model_actions.progressive_train_3,model,300,name,20,criterion,scheduler)"
      ],
      "outputs": [
        {
          "output_type": "stream",
          "name": "stdout",
          "text": [
            "Found existing instance, use it.\n",
            "Training\n",
            "\n",
            "\n",
            "Epoch: 1\n",
            "\n",
            "Epoch: 2\n",
            "\n",
            "Epoch: 3\n",
            "\n",
            "Epoch: 4\n",
            "\n",
            "Epoch: 5\n"
          ]
        },
        {
          "output_type": "stream",
          "name": "stderr",
          "text": [
            "/anaconda/envs/azureml_py36/lib/python3.6/site-packages/torch/nn/functional.py:718: UserWarning: Named tensors and all their associated APIs are an experimental feature and subject to change. Please do not use them for anything important until they are released as stable. (Triggered internally at  /pytorch/c10/core/TensorImpl.h:1156.)\n",
            "  return torch.max_pool2d(input, kernel_size, stride, padding, dilation, ceil_mode)\n"
          ]
        }
      ],
      "execution_count": 4,
      "metadata": {
        "collapsed": true,
        "jupyter": {
          "source_hidden": false,
          "outputs_hidden": false
        },
        "nteract": {
          "transient": {
            "deleting": false
          }
        }
      }
    },
    {
      "cell_type": "markdown",
      "source": [
        "# Train Test"
      ],
      "metadata": {}
    },
    {
      "cell_type": "code",
      "source": [
        "torch.cuda.is_available()"
      ],
      "outputs": [],
      "execution_count": null,
      "metadata": {}
    },
    {
      "cell_type": "code",
      "source": [
        "%run main_custom\r\n",
        "default=models.resnet18(num_classes=10)\r\n",
        "default.train()"
      ],
      "outputs": [],
      "execution_count": null,
      "metadata": {}
    },
    {
      "cell_type": "markdown",
      "source": [
        "# Running call stack"
      ],
      "metadata": {}
    },
    {
      "cell_type": "code",
      "source": [
        "# def tracefunc(frame, event, arg, indent=[0]):\r\n",
        "#       if event == \"call\":\r\n",
        "#           indent[0] += 2\r\n",
        "#           print(\"-\" * indent[0] + \"> call function\", frame.f_code.co_name)\r\n",
        "#       elif event == \"return\":\r\n",
        "#           print(\"<\" + \"-\" * indent[0], \"exit function\", frame.f_code.co_name)\r\n",
        "#           indent[0] -= 2\r\n",
        "#       return tracefunc\r\n",
        "\r\n",
        "# import sys\r\n",
        "# sys.setprofile(tracefunc)\r\n",
        "\r\n",
        "# default.train()"
      ],
      "outputs": [],
      "execution_count": null,
      "metadata": {
        "collapsed": true,
        "jupyter": {
          "outputs_hidden": true
        },
        "tags": []
      }
    },
    {
      "cell_type": "code",
      "source": [
        "# def tracefunc(frame, event, arg, indent=[0]):\r\n",
        "#       if event == \"call\":\r\n",
        "#           indent[0] += 2\r\n",
        "#           print(\"-\" * indent[0] + \"> call function\", frame.f_code.co_name)\r\n",
        "#       elif event == \"return\":\r\n",
        "#           print(\"<\" + \"-\" * indent[0], \"exit function\", frame.f_code.co_name)\r\n",
        "#           indent[0] -= 2\r\n",
        "#       return tracefunc\r\n",
        "\r\n",
        "# import sys\r\n",
        "# sys.setprofile(tracefunc)\r\n",
        "\r\n",
        "# default.train()"
      ],
      "outputs": [],
      "execution_count": null,
      "metadata": {}
    },
    {
      "cell_type": "code",
      "source": [
        "print(sys.getprofile())"
      ],
      "outputs": [
        {
          "output_type": "stream",
          "name": "stdout",
          "text": [
            "None\n"
          ]
        }
      ],
      "execution_count": 13,
      "metadata": {}
    },
    {
      "cell_type": "code",
      "source": [
        "sys.setprofile(None)"
      ],
      "outputs": [],
      "execution_count": 12,
      "metadata": {}
    },
    {
      "cell_type": "code",
      "source": [
        "from IPython.display import clear_output\r\n",
        "window=5\r\n",
        "c=0\r\n",
        "def tracefunc(frame, event, arg, indent=[0]):\r\n",
        "    # global c\r\n",
        "    # c=c+1\r\n",
        "    # if c==window:\r\n",
        "    #     clear_output(wait=True)\r\n",
        "    #     c=0\r\n",
        "    if event == \"call\":\r\n",
        "        indent[0] += 2\r\n",
        "        print(\"|\" * indent[0]+ \">\", frame.f_code.co_name,end=\"\\r\")\r\n",
        "    elif event == \"return\":\r\n",
        "#       print(\"<\" + \"-\" * indent[0], \"exit function\", frame.f_code.co_name)\r\n",
        "        indent[0] -= 2\r\n",
        "    return tracefunc\r\n",
        "\r\n",
        "import sys\r\n",
        "sys.setprofile(tracefunc)\r\n",
        "\r\n",
        "print(\"test\")"
      ],
      "outputs": [
        {
          "output_type": "stream",
          "name": "stdout",
          "text": [
            "||||||||> _wait_for_tstate_lock\n"
          ]
        }
      ],
      "execution_count": 6,
      "metadata": {}
    },
    {
      "cell_type": "code",
      "source": [],
      "outputs": [],
      "execution_count": null,
      "metadata": {}
    },
    {
      "cell_type": "code",
      "source": [
        "def clear(frame, event, arg, indent=[0]):\r\n",
        "    pass\r\n",
        "sys.setprofile(clear)"
      ],
      "outputs": [],
      "execution_count": 9,
      "metadata": {}
    },
    {
      "cell_type": "code",
      "source": [
        "print(\"\\r\",\"Yo\",end='\\r')\r\n",
        "print(\"\\r\",\"Yo\")\r\n",
        "print(end='\\r')\r\n",
        "from IPython.display import clear_output\r\n",
        "clear_output(wait=True)\r\n",
        "print(\"2\")"
      ],
      "outputs": [
        {
          "output_type": "stream",
          "name": "stdout",
          "text": [
            "2\n"
          ]
        }
      ],
      "execution_count": 6,
      "metadata": {}
    },
    {
      "cell_type": "code",
      "source": [
        "torch.cuda.is_available()"
      ],
      "outputs": [],
      "execution_count": null,
      "metadata": {}
    },
    {
      "cell_type": "code",
      "source": [
        "epochs=1\r\n",
        "model_desc=\"default_test\"\r\n",
        "ad_info=\" saved: \" + model_desc + \" epochs: \" + str(epochs)\r\n",
        "log_time(train_model,ad_info=ad_info)(default,epochs,model_desc,t_batch_size=32)"
      ],
      "outputs": [],
      "execution_count": null,
      "metadata": {}
    },
    {
      "cell_type": "markdown",
      "source": [
        "# Train networks 10 classes"
      ],
      "metadata": {}
    },
    {
      "cell_type": "code",
      "source": [
        "# utils.trace(False)\r\n",
        "# print(\"Test\")"
      ],
      "outputs": [],
      "execution_count": 26,
      "metadata": {}
    },
    {
      "cell_type": "code",
      "source": [
        "default=models.resnet18(num_classes=10)"
      ],
      "outputs": [],
      "execution_count": 3,
      "metadata": {}
    },
    {
      "cell_type": "code",
      "source": [
        "model_actions.train_model(default,epochs=1,save_folder=\"test_new\")"
      ],
      "outputs": [
        {
          "output_type": "stream",
          "name": "stdout",
          "text": [
            "Training\n",
            "Files already downloaded and verified\n",
            "==> Building model..\n",
            "\n",
            "Epoch: 0\n"
          ]
        },
        {
          "output_type": "stream",
          "name": "stderr",
          "text": [
            "/anaconda/envs/azureml_py36/lib/python3.6/site-packages/torch/nn/functional.py:718: UserWarning: Named tensors and all their associated APIs are an experimental feature and subject to change. Please do not use them for anything important until they are released as stable. (Triggered internally at  /pytorch/c10/core/TensorImpl.h:1156.)\n",
            "  return torch.max_pool2d(input, kernel_size, stride, padding, dilation, ceil_mode)\n"
          ]
        },
        {
          "output_type": "stream",
          "name": "stdout",
          "text": [
            " [================================================================>]  Step: 544ms | Tot: 4m49s | Loss: 2.058 | Acc: 31.464% (15732/50000)                                                                                                                                                                                                                                                                                                                                                                                                                                                                                                                                                                                                                                                                                                                                                                                                                                                                                              391/391 \n",
            " [================================================================>]  Step: 227ms | Tot: 23s598ms | Loss: 1.675 | Acc: 39.800% (3980/10000)                                                                                                                                                                                                                                                                                                                                                                                                                                                                                                                                                                                                                                                                                                                                                                                                                                                                                            100/100 \n",
            "Saving..\n"
          ]
        },
        {
          "output_type": "execute_result",
          "execution_count": 9,
          "data": {
            "text/plain": "39.8"
          },
          "metadata": {}
        }
      ],
      "execution_count": 9,
      "metadata": {}
    },
    {
      "cell_type": "code",
      "source": [
        "model_actions.train_model_resume(default,epochs=2,save_folder=\"test_new_4\",resume_folder=\"test_new_3\")"
      ],
      "outputs": [
        {
          "output_type": "stream",
          "name": "stdout",
          "text": [
            "Files already downloaded and verified\n",
            "==> Preparing data..\n",
            "Training\n",
            "Files already downloaded and verified\n",
            "==> Building model..\n",
            "==> Resuming from checkpoint..\n",
            "\n",
            "Epoch: 0\n",
            " [================================================================>]  Step: 4ms | Tot: 4ms | Loss: 1.128 | Acc: 59.996% (29998/50000)                                                                                                                                                                                                                                                                                                                                                                                                                                                                                                                                                                                                                                                                                                                                                                                                                                                                                                  391/391 \n",
            " [================================================================>]  Step: 5ms | Tot: 5ms | Loss: 1.161 | Acc: 60.340% (6034/10000)                                                                                                                                                                                                                                                                                                                                                                                                                                                                                                                                                                                                                                                                                                                                                                                                                                                                                                   100/100 \n",
            "Saving..\n",
            "\n",
            "Epoch: 1\n",
            " [================================================================>]  Step: 4ms | Tot: 4ms | Loss: 1.042 | Acc: 63.274% (31637/50000)                                                                                                                                                                                                                                                                                                                                                                                                                                                                                                                                                                                                                                                                                                                                                                                                                                                                                                  391/391 \n",
            " [================================================================>]  Step: 6ms | Tot: 6ms | Loss: 0.963 | Acc: 65.490% (6549/10000)                                                                                                                                                                                                                                                                                                                                                                                                                                                                                                                                                                                                                                                                                                                                                                                                                                                                                                   100/100 \n",
            "Saving..\n"
          ]
        },
        {
          "output_type": "execute_result",
          "execution_count": 12,
          "data": {
            "text/plain": "65.49"
          },
          "metadata": {}
        }
      ],
      "execution_count": 12,
      "metadata": {}
    },
    {
      "cell_type": "code",
      "source": [
        "model_actions.train_model_resume(default,epochs=1,save_folder=\"test_new_test_3\")"
      ],
      "outputs": [
        {
          "output_type": "stream",
          "name": "stdout",
          "text": [
            "Training\n",
            "Files already downloaded and verified\n",
            "==> Building model..\n",
            "\n",
            "Epoch: 0\n"
          ]
        },
        {
          "output_type": "stream",
          "name": "stderr",
          "text": [
            "/anaconda/envs/azureml_py38/lib/python3.8/site-packages/torch/nn/functional.py:718: UserWarning: Named tensors and all their associated APIs are an experimental feature and subject to change. Please do not use them for anything important until they are released as stable. (Triggered internally at  /opt/conda/conda-bld/pytorch_1623448234945/work/c10/core/TensorImpl.h:1156.)\n",
            "  return torch.max_pool2d(input, kernel_size, stride, padding, dilation, ceil_mode)\n"
          ]
        },
        {
          "output_type": "stream",
          "name": "stdout",
          "text": [
            " [================================================================>]  Step: 1ms | Tot: 1ms | Loss: 2.262 | Acc: 25.668% (12834/50000)                                                                                                                                                                                                                                                                                                                                                                                                                                                                                                                                                                                                                                                                                                                                                                                                                                                                                                  391/391 \n",
            " [================================================================>]  Step: 4ms | Tot: 4ms | Loss: 1.625 | Acc: 39.050% (3905/10000)                                                                                                                                                                                                                                                                                                                                                                                                                                                                                                                                                                                                                                                                                                                                                                                                                                                                                                   100/100 \n",
            "Saving..\n"
          ]
        },
        {
          "output_type": "execute_result",
          "execution_count": 4,
          "data": {
            "text/plain": "39.05"
          },
          "metadata": {}
        }
      ],
      "execution_count": 4,
      "metadata": {}
    },
    {
      "cell_type": "code",
      "source": [
        "#reload"
      ],
      "outputs": [
        {
          "output_type": "stream",
          "name": "stdout",
          "text": [
            "Files already downloaded and verified\n",
            "==> Preparing data..\n",
            "Files already downloaded and verified\n"
          ]
        }
      ],
      "execution_count": 13,
      "metadata": {}
    },
    {
      "cell_type": "code",
      "source": [
        "from az_manage_proc import *"
      ],
      "outputs": [],
      "execution_count": 4,
      "metadata": {}
    },
    {
      "cell_type": "code",
      "source": [
        "check_vm()"
      ],
      "outputs": [
        {
          "output_type": "stream",
          "name": "stdout",
          "text": [
            "Found existing instance, use it.\n"
          ]
        },
        {
          "output_type": "execute_result",
          "execution_count": 2,
          "data": {
            "text/plain": "True"
          },
          "metadata": {}
        }
      ],
      "execution_count": 2,
      "metadata": {
        "gather": {
          "logged": 1627967597819
        }
      }
    },
    {
      "cell_type": "code",
      "source": [
        "#@log.exception_handler\r\n",
        "def progressive_train(step,total,name):\r\n",
        "    '''step,total(number of steps),name(checkpoints save folder name)'''\r\n",
        "    model=models.resnet18(num_classes=10)\r\n",
        "    name_i=name+\"_epoch_\"+str(step)\r\n",
        "    name_i= name + \"/\" + name_i # create subfolder\r\n",
        "    res_v={}\r\n",
        "\r\n",
        "    res=log.log_save(name_i,model_actions.train_model_resume_noEarly,model,epochs=step,save_folder=name_i)\r\n",
        "    #res=log.log_save_(model_actions.train_model_resume,name_i,model,epochs=step,save_folder=name_i)\r\n",
        "    res_v=res\r\n",
        "    print(res[\"test_acc_v\"][-1])\r\n",
        "    log.log(\"Epoch: \"+str(step) + \" Accuracy: \" + str(res[\"test_acc_v\"][-1]) + \" Loss: \" + str(res[\"test_loss_v\"][-1]))\r\n",
        "\r\n",
        "    for i in range(2,total+1):# 2 because of previos train\r\n",
        "\r\n",
        "        name_i=name+\"_epoch_\"+str(step*i) #next name\r\n",
        "        name_j=name+\"_epoch_\"+str(step*i - step) #prev name\r\n",
        "\r\n",
        "        name_i= name + \"/\" + name_i # Create subfolder\r\n",
        "        name_j= name + \"/\" + name_j\r\n",
        "\r\n",
        "        res=log.log_save(name_i,model_actions.train_model_resume_noEarly,model,epochs=step,save_folder=name_i,resume_folder=name_j)\r\n",
        "        print(res[\"test_acc_v\"][-1])\r\n",
        "        log.log(\"Epoch: \"+str(step*i) + \" Accuracy: \" + str(res[\"test_acc_v\"][-1]) + \" Loss: \" + str(res[\"test_loss_v\"][-1]))\r\n",
        "\r\n",
        "        #append all results\r\n",
        "        res_v[\"test_acc_v\"].extend(res[\"test_acc_v\"])\r\n",
        "        res_v[\"test_loss_v\"].extend(res[\"test_loss_v\"])\r\n",
        "        res_v[\"train_acc_v\"].extend(res[\"train_acc_v\"])\r\n",
        "        res_v[\"train_loss_v\"].extend(res[\"train_loss_v\"])\r\n",
        "\r\n",
        "    log.save(res_v,name)\r\n",
        "    \r\n",
        "    return res_v\r\n"
      ],
      "outputs": [],
      "execution_count": 2,
      "metadata": {
        "gather": {
          "logged": 1628661976826
        }
      }
    },
    {
      "cell_type": "code",
      "source": [
        "y=[1,[2,3]]\r\n",
        "print([1,2])"
      ],
      "outputs": [
        {
          "output_type": "stream",
          "name": "stdout",
          "text": [
            "[1, 2]\n"
          ]
        }
      ],
      "execution_count": 13,
      "metadata": {}
    },
    {
      "cell_type": "code",
      "source": [
        "y[1]"
      ],
      "outputs": [
        {
          "output_type": "execute_result",
          "execution_count": 16,
          "data": {
            "text/plain": "[2, 3]"
          },
          "metadata": {}
        }
      ],
      "execution_count": 16,
      "metadata": {}
    },
    {
      "cell_type": "code",
      "source": [
        "x=1\r\n",
        "y=2\r\n",
        "z=3"
      ],
      "outputs": [],
      "execution_count": 24,
      "metadata": {}
    },
    {
      "cell_type": "code",
      "source": [
        "eval(\"x\")"
      ],
      "outputs": [
        {
          "output_type": "execute_result",
          "execution_count": 11,
          "data": {
            "text/plain": "1"
          },
          "metadata": {}
        }
      ],
      "execution_count": 11,
      "metadata": {}
    },
    {
      "cell_type": "code",
      "source": [
        "d={i:eval(i) for i in [\"x\",\"y\",\"z\"]}"
      ],
      "outputs": [],
      "execution_count": 27,
      "metadata": {}
    },
    {
      "cell_type": "code",
      "source": [
        "d[\"x\"]"
      ],
      "outputs": [
        {
          "output_type": "execute_result",
          "execution_count": 28,
          "data": {
            "text/plain": "1"
          },
          "metadata": {}
        }
      ],
      "execution_count": 28,
      "metadata": {}
    },
    {
      "cell_type": "code",
      "source": [
        "from az_manage_proc import *"
      ],
      "outputs": [],
      "execution_count": 8,
      "metadata": {
        "collapsed": true,
        "jupyter": {
          "source_hidden": false,
          "outputs_hidden": false
        },
        "nteract": {
          "transient": {
            "deleting": false
          }
        },
        "gather": {
          "logged": 1628662843229
        }
      }
    },
    {
      "cell_type": "code",
      "source": [
        "name=\"default_bs_128\"\r\n",
        "run_and_delete_(log.log_time,progressive_train,20,15,name)"
      ],
      "outputs": [
        {
          "output_type": "stream",
          "name": "stdout",
          "text": [
            "Found existing instance, use it.\n",
            "Training\n",
            "\n",
            "\n",
            "Epoch: 1\n",
            "\n",
            "Epoch: 2\n",
            "\n",
            "Epoch: 3\n",
            "\n",
            "Epoch: 4\n",
            "\n",
            "Epoch: 5\n",
            "\n",
            "Epoch: 6\n",
            "\n",
            "Epoch: 7\n",
            "\n",
            "Epoch: 8\n",
            "\n",
            "Epoch: 9\n",
            "\n",
            "Epoch: 10\n",
            "\n",
            "Epoch: 11\n",
            "\n",
            "Epoch: 12\n",
            "\n",
            "Epoch: 13\n",
            "\n",
            "Epoch: 14\n",
            "\n",
            "Epoch: 15\n",
            "\n",
            "Epoch: 16\n",
            "\n",
            "Epoch: 17\n",
            "\n",
            "Epoch: 18\n",
            "\n",
            "Epoch: 19\n",
            "\n",
            "Epoch: 20\n",
            "Saving.. epoch: 20\n",
            "\n",
            "73.0\n",
            "Training\n",
            "\n",
            "Resuming..\n",
            "Resumed epoch: 21\n",
            "\n",
            "\n",
            "Epoch: 21\n",
            "\n",
            "Epoch: 22\n",
            "\n",
            "Epoch: 23\n",
            "\n",
            "Epoch: 24\n",
            "\n",
            "Epoch: 25\n",
            "\n",
            "Epoch: 26\n",
            "\n",
            "Epoch: 27\n"
          ]
        }
      ],
      "execution_count": 10,
      "metadata": {
        "gather": {
          "logged": 1628662415412
        }
      }
    },
    {
      "cell_type": "code",
      "source": [
        "name=\"default_bs_128_v2/default_bs_128_v2\"\r\n",
        "model=models.resnet18(num_classes=10)\r\n",
        "run_and_delete_(log.log_time,model_actions.progressive_train_2,model,300,name,20)"
      ],
      "outputs": [
        {
          "output_type": "stream",
          "name": "stdout",
          "text": [
            "Found existing instance, use it.\n",
            "Training\n",
            "\n",
            "\n",
            "Epoch: 1\n",
            "\n",
            "Epoch: 2\n",
            "\n",
            "Epoch: 3\n",
            "\n",
            "Epoch: 4\n",
            "\n",
            "Epoch: 5\n",
            "\n",
            "Epoch: 6\n",
            "\n",
            "Epoch: 7\n",
            "\n",
            "Epoch: 8\n",
            "\n",
            "Epoch: 9\n",
            "\n",
            "Epoch: 10\n",
            "\n",
            "Epoch: 11\n",
            "\n",
            "Epoch: 12\n",
            "\n",
            "Epoch: 13\n",
            "\n",
            "Epoch: 14\n",
            "\n",
            "Epoch: 15\n",
            "\n",
            "Epoch: 16\n",
            "\n",
            "Epoch: 17\n",
            "\n",
            "Epoch: 18\n",
            "\n",
            "Epoch: 19\n",
            "\n",
            "Epoch: 20\n",
            "Saving.. epoch: 20\n",
            "\n",
            "\n",
            "Epoch: 21\n",
            "\n",
            "Epoch: 22\n",
            "\n",
            "Epoch: 23\n",
            "\n",
            "Epoch: 24\n",
            "\n",
            "Epoch: 25\n",
            "\n",
            "Epoch: 26\n",
            "\n",
            "Epoch: 27\n",
            "\n",
            "Epoch: 28\n",
            "\n",
            "Epoch: 29\n",
            "\n",
            "Epoch: 30\n",
            "\n",
            "Epoch: 31\n",
            "\n",
            "Epoch: 32\n",
            "\n",
            "Epoch: 33\n",
            "\n",
            "Epoch: 34\n",
            "\n",
            "Epoch: 35\n",
            "\n",
            "Epoch: 36\n",
            "\n",
            "Epoch: 37\n",
            "\n",
            "Epoch: 38\n",
            "\n",
            "Epoch: 39\n",
            "\n",
            "Epoch: 40\n",
            "Saving.. epoch: 40\n",
            "\n",
            "\n",
            "Epoch: 41\n",
            "\n",
            "Epoch: 42\n",
            "\n",
            "Epoch: 43\n",
            "\n",
            "Epoch: 44\n",
            "\n",
            "Epoch: 45\n",
            "\n",
            "Epoch: 46\n",
            "\n",
            "Epoch: 47\n",
            "\n",
            "Epoch: 48\n",
            "\n",
            "Epoch: 49\n",
            "\n",
            "Epoch: 50\n",
            "\n",
            "Epoch: 51\n",
            "\n",
            "Epoch: 52\n",
            "\n",
            "Epoch: 53\n",
            "\n",
            "Epoch: 54\n",
            "\n",
            "Epoch: 55\n",
            "\n",
            "Epoch: 56\n",
            "\n",
            "Epoch: 57\n",
            "\n",
            "Epoch: 58\n",
            "\n",
            "Epoch: 59\n",
            "\n",
            "Epoch: 60\n",
            "Saving.. epoch: 60\n",
            "\n",
            "\n",
            "Epoch: 61\n",
            "\n",
            "Epoch: 62\n",
            "\n",
            "Epoch: 63\n",
            "\n",
            "Epoch: 64\n",
            "\n",
            "Epoch: 65\n",
            "\n",
            "Epoch: 66\n",
            "\n",
            "Epoch: 67\n",
            "\n",
            "Epoch: 68\n",
            "\n",
            "Epoch: 69\n",
            "\n",
            "Epoch: 70\n",
            "\n",
            "Epoch: 71\n",
            "\n",
            "Epoch: 72\n",
            "\n",
            "Epoch: 73\n",
            "\n",
            "Epoch: 74\n",
            "\n",
            "Epoch: 75\n",
            "\n",
            "Epoch: 76\n",
            "\n",
            "Epoch: 77\n",
            "\n",
            "Epoch: 78\n",
            "\n",
            "Epoch: 79\n",
            "\n",
            "Epoch: 80\n",
            "Saving.. epoch: 80\n",
            "\n",
            "\n",
            "Epoch: 81\n",
            "\n",
            "Epoch: 82\n",
            "\n",
            "Epoch: 83\n",
            "\n",
            "Epoch: 84\n",
            "\n",
            "Epoch: 85\n",
            "\n",
            "Epoch: 86\n",
            "\n",
            "Epoch: 87\n",
            "\n",
            "Epoch: 88\n",
            "\n",
            "Epoch: 89\n",
            "\n",
            "Epoch: 90\n",
            "\n",
            "Epoch: 91\n",
            "\n",
            "Epoch: 92\n",
            "\n",
            "Epoch: 93\n",
            "\n",
            "Epoch: 94\n",
            "\n",
            "Epoch: 95\n",
            "\n",
            "Epoch: 96\n",
            "\n",
            "Epoch: 97\n",
            "\n",
            "Epoch: 98\n",
            "\n",
            "Epoch: 99\n",
            "\n",
            "Epoch: 100\n",
            "Saving.. epoch: 100\n",
            "\n",
            "\n",
            "Epoch: 101\n",
            "\n",
            "Epoch: 102\n",
            "\n",
            "Epoch: 103\n",
            "\n",
            "Epoch: 104\n",
            "\n",
            "Epoch: 105\n",
            "\n",
            "Epoch: 106\n",
            "\n",
            "Epoch: 107\n",
            "\n",
            "Epoch: 108\n",
            "\n",
            "Epoch: 109\n",
            "\n",
            "Epoch: 110\n",
            "\n",
            "Epoch: 111\n",
            "\n",
            "Epoch: 112\n",
            "\n",
            "Epoch: 113\n",
            "\n",
            "Epoch: 114\n",
            "\n",
            "Epoch: 115\n",
            "\n",
            "Epoch: 116\n",
            "\n",
            "Epoch: 117\n",
            "\n",
            "Epoch: 118\n",
            "\n",
            "Epoch: 119\n",
            "\n",
            "Epoch: 120\n",
            "Saving.. epoch: 120\n",
            "\n",
            "\n",
            "Epoch: 121\n",
            "\n",
            "Epoch: 122\n",
            "\n",
            "Epoch: 123\n",
            "\n",
            "Epoch: 124\n",
            "\n",
            "Epoch: 125\n",
            "\n",
            "Epoch: 126\n",
            "\n",
            "Epoch: 127\n",
            "\n",
            "Epoch: 128\n",
            "\n",
            "Epoch: 129\n",
            "\n",
            "Epoch: 130\n",
            "\n",
            "Epoch: 131\n",
            "\n",
            "Epoch: 132\n",
            "\n",
            "Epoch: 133\n",
            "\n",
            "Epoch: 134\n",
            "\n",
            "Epoch: 135\n",
            "\n",
            "Epoch: 136\n",
            "\n",
            "Epoch: 137\n",
            "\n",
            "Epoch: 138\n",
            "\n",
            "Epoch: 139\n",
            "\n",
            "Epoch: 140\n",
            "Saving.. epoch: 140\n",
            "\n",
            "\n",
            "Epoch: 141\n",
            "\n",
            "Epoch: 142\n",
            "\n",
            "Epoch: 143\n",
            "\n",
            "Epoch: 144\n",
            "\n",
            "Epoch: 145\n",
            "\n",
            "Epoch: 146\n",
            "\n",
            "Epoch: 147\n",
            "\n",
            "Epoch: 148\n",
            "\n",
            "Epoch: 149\n",
            "\n",
            "Epoch: 150\n",
            "\n",
            "Epoch: 151\n",
            "\n",
            "Epoch: 152\n",
            "\n",
            "Epoch: 153\n",
            "\n",
            "Epoch: 154\n",
            "\n",
            "Epoch: 155\n",
            "\n",
            "Epoch: 156\n",
            "\n",
            "Epoch: 157\n",
            "\n",
            "Epoch: 158\n",
            "\n",
            "Epoch: 159\n",
            "\n",
            "Epoch: 160\n",
            "Saving.. epoch: 160\n",
            "\n",
            "\n",
            "Epoch: 161\n",
            "\n",
            "Epoch: 162\n",
            "\n",
            "Epoch: 163\n",
            "\n",
            "Epoch: 164\n",
            "\n",
            "Epoch: 165\n",
            "\n",
            "Epoch: 166\n",
            "\n",
            "Epoch: 167\n",
            "\n",
            "Epoch: 168\n",
            "\n",
            "Epoch: 169\n",
            "\n",
            "Epoch: 170\n",
            "\n",
            "Epoch: 171\n",
            "\n",
            "Epoch: 172\n",
            "\n",
            "Epoch: 173\n",
            "\n",
            "Epoch: 174\n",
            "\n",
            "Epoch: 175\n",
            "\n",
            "Epoch: 176\n",
            "\n",
            "Epoch: 177\n",
            "\n",
            "Epoch: 178\n",
            "\n",
            "Epoch: 179\n",
            "\n",
            "Epoch: 180\n",
            "Saving.. epoch: 180\n",
            "\n",
            "\n",
            "Epoch: 181\n",
            "\n",
            "Epoch: 182\n",
            "\n",
            "Epoch: 183\n",
            "\n",
            "Epoch: 184\n",
            "\n",
            "Epoch: 185\n",
            "\n",
            "Epoch: 186\n",
            "\n",
            "Epoch: 187\n",
            "\n",
            "Epoch: 188\n",
            "\n",
            "Epoch: 189\n",
            "\n",
            "Epoch: 190\n",
            "\n",
            "Epoch: 191\n",
            "\n",
            "Epoch: 192\n",
            "\n",
            "Epoch: 193\n",
            "\n",
            "Epoch: 194\n",
            "\n",
            "Epoch: 195\n",
            "\n",
            "Epoch: 196\n",
            "\n",
            "Epoch: 197\n",
            "\n",
            "Epoch: 198\n",
            "\n",
            "Epoch: 199\n",
            "\n",
            "Epoch: 200\n",
            "Saving.. epoch: 200\n",
            "\n",
            "\n",
            "Epoch: 201\n",
            "\n",
            "Epoch: 202\n",
            "\n",
            "Epoch: 203\n",
            "\n",
            "Epoch: 204\n",
            "\n",
            "Epoch: 205\n",
            "\n",
            "Epoch: 206\n",
            "\n",
            "Epoch: 207\n",
            "\n",
            "Epoch: 208\n",
            "\n",
            "Epoch: 209\n",
            "\n",
            "Epoch: 210\n",
            "\n",
            "Epoch: 211\n",
            "\n",
            "Epoch: 212\n",
            "\n",
            "Epoch: 213\n",
            "\n",
            "Epoch: 214\n",
            "\n",
            "Epoch: 215\n",
            "\n",
            "Epoch: 216\n",
            "\n",
            "Epoch: 217\n",
            "\n",
            "Epoch: 218\n",
            "\n",
            "Epoch: 219\n",
            "\n",
            "Epoch: 220\n",
            "Saving.. epoch: 220\n",
            "\n",
            "\n",
            "Epoch: 221\n",
            "\n",
            "Epoch: 222\n",
            "\n",
            "Epoch: 223\n",
            "\n",
            "Epoch: 224\n",
            "\n",
            "Epoch: 225\n",
            "\n",
            "Epoch: 226\n",
            "\n",
            "Epoch: 227\n",
            "\n",
            "Epoch: 228\n",
            "\n",
            "Epoch: 229\n",
            "\n",
            "Epoch: 230\n",
            "\n",
            "Epoch: 231\n",
            "\n",
            "Epoch: 232\n",
            "\n",
            "Epoch: 233\n",
            "\n",
            "Epoch: 234\n",
            "\n",
            "Epoch: 235\n",
            "\n",
            "Epoch: 236\n",
            "\n",
            "Epoch: 237\n",
            "\n",
            "Epoch: 238\n",
            "\n",
            "Epoch: 239\n",
            "\n",
            "Epoch: 240\n",
            "Saving.. epoch: 240\n",
            "\n",
            "\n",
            "Epoch: 241\n",
            "\n",
            "Epoch: 242\n",
            "\n",
            "Epoch: 243\n",
            "\n",
            "Epoch: 244\n",
            "\n",
            "Epoch: 245\n",
            "\n",
            "Epoch: 246\n",
            "\n",
            "Epoch: 247\n",
            "\n",
            "Epoch: 248\n",
            "\n",
            "Epoch: 249\n",
            "\n",
            "Epoch: 250\n",
            "\n",
            "Epoch: 251\n",
            "\n",
            "Epoch: 252\n",
            "\n",
            "Epoch: 253\n",
            "\n",
            "Epoch: 254\n",
            "\n",
            "Epoch: 255\n"
          ]
        }
      ],
      "execution_count": 3,
      "metadata": {}
    },
    {
      "cell_type": "code",
      "source": [
        "name=\"test/test\"\r\n",
        "model=models.resnet18(num_classes=10)\r\n",
        "run_and_delete_test_(log.log_time,model_actions.progressive_train_2,model,4,name,2)"
      ],
      "outputs": [
        {
          "output_type": "stream",
          "name": "stdout",
          "text": [
            "Found existing instance, use it.\n",
            "Training\n",
            "\n",
            "\n",
            "Epoch: 1\n",
            "\n",
            "Epoch: 2\n",
            "Saving.. epoch: 2\n",
            "\n",
            "\n",
            "Epoch: 3\n",
            "\n",
            "Epoch: 4\n",
            "Saving.. epoch: 4\n",
            "\n",
            "Deleting VM\n"
          ]
        },
        {
          "output_type": "stream",
          "name": "stderr",
          "text": [
            "/anaconda/envs/azureml_py36/lib/python3.6/site-packages/torch/nn/functional.py:718: UserWarning: Named tensors and all their associated APIs are an experimental feature and subject to change. Please do not use them for anything important until they are released as stable. (Triggered internally at  /pytorch/c10/core/TensorImpl.h:1156.)\n",
            "  return torch.max_pool2d(input, kernel_size, stride, padding, dilation, ceil_mode)\n"
          ]
        }
      ],
      "execution_count": 2,
      "metadata": {
        "collapsed": true,
        "jupyter": {
          "source_hidden": false,
          "outputs_hidden": false
        },
        "nteract": {
          "transient": {
            "deleting": false
          }
        },
        "gather": {
          "logged": 1628728942161
        }
      }
    },
    {
      "cell_type": "markdown",
      "source": [
        "# Train Pytorch"
      ],
      "metadata": {}
    },
    {
      "cell_type": "code",
      "source": [
        "\r\n",
        "!pip install ipykernel --upgrade\r\n",
        "!python -m pip install pip --upgrade"
      ],
      "outputs": [
        {
          "output_type": "stream",
          "name": "stdout",
          "text": [
            "Requirement already satisfied: ipykernel in c:\\users\\gaboc\\appdata\\roaming\\python\\python39\\site-packages (6.0.2)\n",
            "Collecting ipykernel\n",
            "  Downloading ipykernel-6.1.0-py3-none-any.whl (122 kB)\n",
            "Requirement already satisfied: matplotlib-inline<0.2.0,>=0.1.0 in c:\\users\\gaboc\\appdata\\roaming\\python\\python39\\site-packages (from ipykernel) (0.1.2)\n",
            "Requirement already satisfied: ipython<8.0,>=7.23.1 in c:\\users\\gaboc\\appdata\\roaming\\python\\python39\\site-packages (from ipykernel) (7.25.0)\n",
            "Requirement already satisfied: debugpy<2.0,>=1.0.0 in c:\\users\\gaboc\\appdata\\roaming\\python\\python39\\site-packages (from ipykernel) (1.3.0)\n",
            "Requirement already satisfied: tornado<7.0,>=4.2 in c:\\users\\gaboc\\appdata\\roaming\\python\\python39\\site-packages (from ipykernel) (6.1)\n",
            "Requirement already satisfied: jupyter-client<7.0 in c:\\users\\gaboc\\appdata\\roaming\\python\\python39\\site-packages (from ipykernel) (6.1.12)\n",
            "Requirement already satisfied: traitlets<6.0,>=4.1.0 in c:\\users\\gaboc\\miniconda3\\lib\\site-packages (from ipykernel) (5.0.5)\n",
            "Requirement already satisfied: backcall in c:\\users\\gaboc\\appdata\\roaming\\python\\python39\\site-packages (from ipython<8.0,>=7.23.1->ipykernel) (0.2.0)\n",
            "Requirement already satisfied: pygments in c:\\users\\gaboc\\appdata\\roaming\\python\\python39\\site-packages (from ipython<8.0,>=7.23.1->ipykernel) (2.9.0)\n",
            "Requirement already satisfied: decorator in c:\\users\\gaboc\\appdata\\roaming\\python\\python39\\site-packages (from ipython<8.0,>=7.23.1->ipykernel) (5.0.9)\n",
            "Requirement already satisfied: setuptools>=18.5 in c:\\users\\gaboc\\miniconda3\\lib\\site-packages (from ipython<8.0,>=7.23.1->ipykernel) (51.0.0.post20201207)\n",
            "Requirement already satisfied: prompt-toolkit!=3.0.0,!=3.0.1,<3.1.0,>=2.0.0 in c:\\users\\gaboc\\appdata\\roaming\\python\\python39\\site-packages (from ipython<8.0,>=7.23.1->ipykernel) (3.0.19)\n",
            "Requirement already satisfied: jedi>=0.16 in c:\\users\\gaboc\\appdata\\roaming\\python\\python39\\site-packages (from ipython<8.0,>=7.23.1->ipykernel) (0.18.0)\n",
            "Requirement already satisfied: matplotlib-inline<0.2.0,>=0.1.0 in c:\\users\\gaboc\\appdata\\roaming\\python\\python39\\site-packages (from ipykernel) (0.1.2)\n",
            "Requirement already satisfied: colorama in c:\\users\\gaboc\\miniconda3\\lib\\site-packages (from ipython<8.0,>=7.23.1->ipykernel) (0.4.4)\n",
            "Requirement already satisfied: pickleshare in c:\\users\\gaboc\\appdata\\roaming\\python\\python39\\site-packages (from ipython<8.0,>=7.23.1->ipykernel) (0.7.5)\n",
            "Requirement already satisfied: traitlets<6.0,>=4.1.0 in c:\\users\\gaboc\\miniconda3\\lib\\site-packages (from ipykernel) (5.0.5)\n",
            "Requirement already satisfied: tornado<7.0,>=4.2 in c:\\users\\gaboc\\appdata\\roaming\\python\\python39\\site-packages (from ipykernel) (6.1)\n",
            "Requirement already satisfied: jupyter-core>=4.6.0 in c:\\users\\gaboc\\appdata\\roaming\\python\\python39\\site-packages (from jupyter-client<7.0->ipykernel) (4.7.1)\n",
            "Requirement already satisfied: python-dateutil>=2.1 in c:\\users\\gaboc\\appdata\\roaming\\python\\python39\\site-packages (from jupyter-client<7.0->ipykernel) (2.8.2)\n",
            "Requirement already satisfied: pyzmq>=13 in c:\\users\\gaboc\\appdata\\roaming\\python\\python39\\site-packages (from jupyter-client<7.0->ipykernel) (22.1.0)\n",
            "Requirement already satisfied: traitlets<6.0,>=4.1.0 in c:\\users\\gaboc\\miniconda3\\lib\\site-packages (from ipykernel) (5.0.5)\n",
            "Requirement already satisfied: pywin32>=1.0 in c:\\users\\gaboc\\miniconda3\\lib\\site-packages (from jupyter-core>=4.6.0->jupyter-client<7.0->ipykernel) (228)\n",
            "Requirement already satisfied: traitlets<6.0,>=4.1.0 in c:\\users\\gaboc\\miniconda3\\lib\\site-packages (from ipykernel) (5.0.5)\n",
            "Requirement already satisfied: traitlets<6.0,>=4.1.0 in c:\\users\\gaboc\\miniconda3\\lib\\site-packages (from ipykernel) (5.0.5)\n",
            "Collecting parso<0.9.0,>=0.8.0\n",
            "  Using cached parso-0.8.2-py2.py3-none-any.whl (94 kB)\n",
            "Requirement already satisfied: wcwidth in c:\\users\\gaboc\\miniconda3\\lib\\site-packages (from prompt-toolkit!=3.0.0,!=3.0.1,<3.1.0,>=2.0.0->ipython<8.0,>=7.23.1->ipykernel) (0.2.5)\n",
            "Requirement already satisfied: six>=1.5 in c:\\users\\gaboc\\miniconda3\\lib\\site-packages (from python-dateutil>=2.1->jupyter-client<7.0->ipykernel) (1.16.0)\n",
            "Requirement already satisfied: ipython-genutils in c:\\users\\gaboc\\miniconda3\\lib\\site-packages (from traitlets<6.0,>=4.1.0->ipykernel) (0.2.0)\n",
            "Installing collected packages: parso, ipykernel\n",
            "  Attempting uninstall: parso\n",
            "    Found existing installation: parso 0.7.0\n",
            "    Uninstalling parso-0.7.0:\n",
            "      Successfully uninstalled parso-0.7.0\n",
            "  Attempting uninstall: ipykernel\n",
            "    Found existing installation: ipykernel 6.0.2\n",
            "    Uninstalling ipykernel-6.0.2:\n",
            "      Successfully uninstalled ipykernel-6.0.2\n",
            "Successfully installed ipykernel-6.1.0 parso-0.8.2\n",
            "Requirement already satisfied: pip in c:\\users\\gaboc\\miniconda3\\lib\\site-packages (20.3.1)\n",
            "Collecting pip\n",
            "  Downloading pip-21.2.4-py3-none-any.whl (1.6 MB)\n",
            "Installing collected packages: pip\n",
            "  Attempting uninstall: pip\n",
            "    Found existing installation: pip 20.3.1\n",
            "    Uninstalling pip-20.3.1:\n",
            "      Successfully uninstalled pip-20.3.1\n",
            "Successfully installed pip-21.2.4\n"
          ]
        }
      ],
      "execution_count": 3,
      "metadata": {}
    },
    {
      "cell_type": "code",
      "source": [
        "%run train_pytorch.py"
      ],
      "outputs": [],
      "execution_count": null,
      "metadata": {}
    },
    {
      "cell_type": "code",
      "source": [
        "import utils\r\n",
        "import log"
      ],
      "outputs": [],
      "execution_count": 2,
      "metadata": {}
    },
    {
      "cell_type": "code",
      "source": [
        "utils.trace(True)"
      ],
      "outputs": [],
      "execution_count": null,
      "metadata": {}
    },
    {
      "cell_type": "code",
      "source": [
        "while(1):\r\n",
        "    pass"
      ],
      "outputs": [
        {
          "output_type": "stream",
          "name": "stdout",
          "text": [
            "Type help() for interactive help, or help(object) for help about object.\n",
            "\n",
            "Welcome to Python 3.9's help utility!\n",
            "\n",
            "If this is your first time using Python, you should definitely check out\n",
            "the tutorial on the Internet at https://docs.python.org/3.9/tutorial/.\n",
            "\n",
            "Enter the name of any module, keyword, or topic to get help on writing\n",
            "Python programs and using Python modules.  To quit this help utility and\n",
            "return to the interpreter, just type \"quit\".\n",
            "\n",
            "To get a list of available modules, keywords, symbols, or topics, type\n",
            "\"modules\", \"keywords\", \"symbols\", or \"topics\".  Each module also comes\n",
            "with a one-line summary of what it does; to list the modules whose name\n",
            "or summary contain a given string such as \"spam\", type \"modules spam\".\n",
            "\n",
            "\n",
            "You are now leaving help and returning to the Python interpreter.\n",
            "If you want to ask for help on a particular object directly from the\n",
            "interpreter, you can type \"help(object)\".  Executing \"help('string')\"\n",
            "has the same effect as typing a particular string at the help> prompt.\n",
            "Type help() for interactive help, or help(object) for help about object.\n",
            "\n",
            "Welcome to Python 3.9's help utility!\n",
            "\n",
            "If this is your first time using Python, you should definitely check out\n",
            "the tutorial on the Internet at https://docs.python.org/3.9/tutorial/.\n",
            "\n",
            "Enter the name of any module, keyword, or topic to get help on writing\n",
            "Python programs and using Python modules.  To quit this help utility and\n",
            "return to the interpreter, just type \"quit\".\n",
            "\n",
            "To get a list of available modules, keywords, symbols, or topics, type\n",
            "\"modules\", \"keywords\", \"symbols\", or \"topics\".  Each module also comes\n",
            "with a one-line summary of what it does; to list the modules whose name\n",
            "or summary contain a given string such as \"spam\", type \"modules spam\".\n",
            "\n",
            "No Python documentation found for 'h'.\n",
            "Use help() to get the interactive help utility.\n",
            "Use help(str) for help on the str class.\n",
            "\n",
            "\n",
            "You are now leaving help and returning to the Python interpreter.\n",
            "If you want to ask for help on a particular object directly from the\n",
            "interpreter, you can type \"help(object)\".  Executing \"help('string')\"\n",
            "has the same effect as typing a particular string at the help> prompt.\n"
          ]
        }
      ],
      "execution_count": 2,
      "metadata": {}
    },
    {
      "cell_type": "code",
      "source": [],
      "outputs": [],
      "execution_count": null,
      "metadata": {}
    },
    {
      "cell_type": "markdown",
      "source": [
        "# Train Personalized Schedule"
      ],
      "metadata": {}
    },
    {
      "cell_type": "code",
      "source": [
        "net=models.resnet18(num_classes=10)\r\n",
        "\r\n",
        "criterion = nn.CrossEntropyLoss()\r\n",
        "\r\n",
        "# Observe that all parameters are being optimized\r\n",
        "optimizer = optim.SGD(net.parameters(), lr=0.1, momentum=0.9, weight_decay=5e-4)\r\n",
        "\r\n",
        "# Decay LR by a factor of 0.1 every 7 epochs\r\n",
        "# exp_lr_scheduler = lr_scheduler.StepLR(optimizer_ft, step_size=7, gamma=0.1)\r\n",
        "\r\n",
        "plateau_lr_scheduler = torch.optim.lr_scheduler.ReduceLROnPlateau(optimizer,patience=3,threshold=1e-3)\r\n",
        "\r\n",
        "model_actions.progressive_train_3(net,epochs=5,save_folder=\"test_progressive3/test_progressive3\",criterion=criterion,scheduler=plateau_lr_scheduler, step=2)"
      ],
      "outputs": [
        {
          "output_type": "stream",
          "name": "stdout",
          "text": [
            "Files already downloaded and verified\n",
            "Preparing data..\n",
            "Files already downloaded and verified\n",
            "Training\n",
            "\n",
            "\n",
            "Epoch: 1\n",
            "\n",
            "Epoch: 2\n",
            "Saving.. epoch: 2\n",
            "\n",
            "\n",
            "Epoch: 3\n",
            "\n",
            "Epoch: 4\n",
            "Saving.. epoch: 4\n",
            "\n",
            "\n",
            "Epoch: 5\n"
          ]
        },
        {
          "output_type": "execute_result",
          "execution_count": 37,
          "data": {
            "text/plain": "{'train_acc_v': [31.598, 44.928, 52.114, 57.858, 61.908],\n 'train_loss_v': [2.0182601034927368,\n  1.5007746765136718,\n  1.320865361213684,\n  1.178256960105896,\n  1.0680373552703857],\n 'test_acc_v': [42.74, 51.65, 54.56, 61.58, 63.74],\n 'test_loss_v': [1.5700496077537536,\n  1.2949618947505952,\n  1.2730347537994384,\n  1.0884946280717849,\n  1.015749061703682],\n 'current_lr_v': [0.1, 0.1, 0.1, 0.1, 0.1],\n 'parameters': \"{'batch_size': 128, 'n_workers': 2, 'optimizer': {'class': <class 'torch.optim.sgd.SGD'>, 'dict': {'lr': 0.1, 'momentum': 0.9, 'dampening': 0, 'weight_decay': 0, 'nesterov': False}}, 'scheduler': {'class': <class 'torch.optim.lr_scheduler.ReduceLROnPlateau'>, 'dict': {'factor': 0.1, 'optimizer': SGD (\\nParameter Group 0\\n    dampening: 0\\n    lr: 0.1\\n    momentum: 0.9\\n    nesterov: False\\n    weight_decay: 0\\n), 'min_lrs': [0], 'patience': 3, 'verbose': False, 'cooldown': 0, 'cooldown_counter': 0, 'mode': 'min', 'threshold': 0.0001, 'threshold_mode': 'rel', 'best': 1.015749061703682, 'num_bad_epochs': 0, 'mode_worse': inf, 'eps': 1e-08, 'last_epoch': 5, '_last_lr': [0.1]}}}\"}"
          },
          "metadata": {}
        }
      ],
      "execution_count": 37,
      "metadata": {}
    },
    {
      "cell_type": "code",
      "source": [
        "model=models.resnet18(num_classes=10)\r\n",
        "\r\n",
        "criterion = nn.CrossEntropyLoss()\r\n",
        "\r\n",
        "# Observe that all parameters are being optimized\r\n",
        "optimizer = optim.SGD(model.parameters(), lr=0.1, momentum=0.9, weight_decay=5e-4)\r\n",
        "\r\n",
        "# Decay LR by a factor of 0.1 every 7 epochs\r\n",
        "# exp_lr_scheduler = lr_scheduler.StepLR(optimizer_ft, step_size=7, gamma=0.1)\r\n",
        "\r\n",
        "plateau_lr_scheduler = torch.optim.lr_scheduler.ReduceLROnPlateau(optimizer,patience=3,threshold=1e-3)\r\n",
        "\r\n",
        "\r\n",
        "name=\"default_bs_128_sch_plateau/default_bs_128_sch_plateau\"\r\n",
        "run_and_delete_(log.log_time,model_actions.progressive_train_3,model,300,name,20,criterion,plateau_lr_scheduler)"
      ],
      "outputs": [
        {
          "output_type": "stream",
          "name": "stdout",
          "text": [
            "Found existing instance, use it.\n",
            "Training\n",
            "\n",
            "\n",
            "Epoch: 1\n",
            "\n",
            "Epoch: 2\n",
            "\n",
            "Epoch: 3\n",
            "\n",
            "Epoch: 4\n",
            "\n",
            "Epoch: 5\n",
            "\n",
            "Epoch: 6\n",
            "\n",
            "Epoch: 7\n",
            "\n",
            "Epoch: 8\n",
            "\n",
            "Epoch: 9\n",
            "\n",
            "Epoch: 10\n",
            "\n",
            "Epoch: 11\n",
            "\n",
            "Epoch: 12\n",
            "\n",
            "Epoch: 13\n",
            "\n",
            "Epoch: 14\n",
            "\n",
            "Epoch: 15\n",
            "\n",
            "Epoch: 16\n",
            "\n",
            "Epoch: 17\n"
          ]
        },
        {
          "output_type": "stream",
          "name": "stderr",
          "text": [
            "/anaconda/envs/azureml_py36/lib/python3.6/site-packages/torch/nn/functional.py:718: UserWarning: Named tensors and all their associated APIs are an experimental feature and subject to change. Please do not use them for anything important until they are released as stable. (Triggered internally at  /pytorch/c10/core/TensorImpl.h:1156.)\n",
            "  return torch.max_pool2d(input, kernel_size, stride, padding, dilation, ceil_mode)\n"
          ]
        }
      ],
      "execution_count": 2,
      "metadata": {
        "gather": {
          "logged": 1629159440625
        }
      }
    },
    {
      "cell_type": "markdown",
      "source": [
        "# Graph results"
      ],
      "metadata": {
        "nteract": {
          "transient": {
            "deleting": false
          }
        }
      }
    },
    {
      "cell_type": "code",
      "source": [
        "loaded=log.load(\"default_bs_128_sch_plateau.json\")"
      ],
      "outputs": [],
      "execution_count": 5,
      "metadata": {
        "collapsed": true,
        "jupyter": {
          "source_hidden": false,
          "outputs_hidden": false
        },
        "nteract": {
          "transient": {
            "deleting": false
          }
        },
        "gather": {
          "logged": 1629301029789
        }
      }
    },
    {
      "cell_type": "code",
      "source": [
        "from matplotlib import pyplot as plt"
      ],
      "outputs": [],
      "execution_count": 8,
      "metadata": {
        "collapsed": true,
        "jupyter": {
          "source_hidden": false,
          "outputs_hidden": false
        },
        "nteract": {
          "transient": {
            "deleting": false
          }
        },
        "gather": {
          "logged": 1629301153523
        }
      }
    },
    {
      "cell_type": "code",
      "source": [
        "fig, ax1 = plt.subplots()\r\n",
        "\r\n",
        "color = 'tab:red'\r\n",
        "ax1.set_xlabel('time (s)')\r\n",
        "ax1.set_ylabel('exp', color=color)\r\n",
        "ax1.plot(loaded[\"test_acc_v\"], color=color)\r\n",
        "ax1.tick_params(axis='y', labelcolor=color)\r\n",
        "\r\n",
        "ax2 = ax1.twinx()  # instantiate a second axes that shares the same x-axis\r\n",
        "\r\n",
        "color = 'tab:blue'\r\n",
        "ax2.set_ylabel('sin', color=color)  # we already handled the x-label with ax1\r\n",
        "ax2.plot(np.log(loaded[\"current_lr_v\"]), color=color)\r\n",
        "ax2.tick_params(axis='y', labelcolor=color)\r\n",
        "\r\n",
        "fig.tight_layout()  # otherwise the right y-label is slightly clipped\r\n",
        "plt.show()"
      ],
      "outputs": [
        {
          "output_type": "display_data",
          "data": {
            "text/plain": "<Figure size 432x288 with 2 Axes>",
            "image/png": "[encoded data removed]"
          },
          "metadata": {
            "needs_background": "light"
          }
        }
      ],
      "execution_count": 13,
      "metadata": {
        "collapsed": true,
        "jupyter": {
          "source_hidden": false,
          "outputs_hidden": false
        },
        "nteract": {
          "transient": {
            "deleting": false
          }
        },
        "gather": {
          "logged": 1629301659165
        }
      }
    },
    {
      "cell_type": "code",
      "source": [
        "loaded=log.load(\"bs_64_sch_cosine_wd_5e-4.json\")"
      ],
      "outputs": [],
      "execution_count": 3,
      "metadata": {
        "collapsed": true,
        "jupyter": {
          "source_hidden": false,
          "outputs_hidden": false
        },
        "nteract": {
          "transient": {
            "deleting": false
          }
        },
        "gather": {
          "logged": 1629345103083
        }
      }
    },
    {
      "cell_type": "code",
      "source": [
        "fig, ax1 = plt.subplots()\r\n",
        "\r\n",
        "color = 'tab:red'\r\n",
        "ax1.set_xlabel('time (s)')\r\n",
        "ax1.set_ylabel('exp', color=color)\r\n",
        "ax1.plot(loaded[\"test_acc_v\"], color=color)\r\n",
        "ax1.tick_params(axis='y', labelcolor=color)\r\n",
        "\r\n",
        "ax2 = ax1.twinx()  # instantiate a second axes that shares the same x-axis\r\n",
        "\r\n",
        "color = 'tab:blue'\r\n",
        "ax2.set_ylabel('sin', color=color)  # we already handled the x-label with ax1\r\n",
        "ax2.plot(loaded[\"current_lr_v\"], color=color)\r\n",
        "ax2.tick_params(axis='y', labelcolor=color)\r\n",
        "\r\n",
        "fig.tight_layout()  # otherwise the right y-label is slightly clipped\r\n",
        "plt.show()"
      ],
      "outputs": [
        {
          "output_type": "display_data",
          "data": {
            "text/plain": "<Figure size 432x288 with 2 Axes>",
            "image/png": "[encoded data removed]"
          },
          "metadata": {
            "needs_background": "light"
          }
        }
      ],
      "execution_count": 4,
      "metadata": {
        "collapsed": true,
        "jupyter": {
          "source_hidden": false,
          "outputs_hidden": false
        },
        "nteract": {
          "transient": {
            "deleting": false
          }
        },
        "gather": {
          "logged": 1629345138253
        }
      }
    },
    {
      "cell_type": "code",
      "source": [
        "loaded=log.load(\"bs_1024_sch_cosine.json\")"
      ],
      "outputs": [],
      "execution_count": 2,
      "metadata": {
        "collapsed": true,
        "jupyter": {
          "source_hidden": false,
          "outputs_hidden": false
        },
        "nteract": {
          "transient": {
            "deleting": false
          }
        },
        "gather": {
          "logged": 1629432565693
        }
      }
    },
    {
      "cell_type": "code",
      "source": [
        "fig, ax1 = plt.subplots()\r\n",
        "\r\n",
        "color = 'tab:red'\r\n",
        "ax1.set_xlabel('time (s)')\r\n",
        "ax1.set_ylabel('exp', color=color)\r\n",
        "ax1.plot(loaded[\"test_acc_v\"], color=color)\r\n",
        "ax1.tick_params(axis='y', labelcolor=color)\r\n",
        "\r\n",
        "ax2 = ax1.twinx()  # instantiate a second axes that shares the same x-axis\r\n",
        "\r\n",
        "color = 'tab:blue'\r\n",
        "ax2.set_ylabel('sin', color=color)  # we already handled the x-label with ax1\r\n",
        "ax2.plot(loaded[\"current_lr_v\"], color=color)\r\n",
        "ax2.tick_params(axis='y', labelcolor=color)\r\n",
        "\r\n",
        "fig.tight_layout()  # otherwise the right y-label is slightly clipped\r\n",
        "plt.show()"
      ],
      "outputs": [
        {
          "output_type": "display_data",
          "data": {
            "text/plain": "<Figure size 432x288 with 2 Axes>",
            "image/png": "[encoded data removed]"
          },
          "metadata": {
            "needs_background": "light"
          }
        }
      ],
      "execution_count": 3,
      "metadata": {
        "collapsed": true,
        "jupyter": {
          "source_hidden": false,
          "outputs_hidden": false
        },
        "nteract": {
          "transient": {
            "deleting": false
          }
        },
        "gather": {
          "logged": 1629432573637
        }
      }
    },
    {
      "cell_type": "code",
      "source": [
        "loaded=log.load(\"bs_1024_sch_plateau.json\")\r\n",
        "\r\n",
        "fig, ax1 = plt.subplots()\r\n",
        "\r\n",
        "color = 'tab:red'\r\n",
        "ax1.set_xlabel('time (s)')\r\n",
        "ax1.set_ylabel('exp', color=color)\r\n",
        "ax1.plot(loaded[\"test_acc_v\"], color=color)\r\n",
        "ax1.tick_params(axis='y', labelcolor=color)\r\n",
        "\r\n",
        "ax2 = ax1.twinx()  # instantiate a second axes that shares the same x-axis\r\n",
        "\r\n",
        "color = 'tab:blue'\r\n",
        "ax2.set_ylabel('sin', color=color)  # we already handled the x-label with ax1\r\n",
        "ax2.plot(np.log(loaded[\"current_lr_v\"]), color=color)\r\n",
        "ax2.tick_params(axis='y', labelcolor=color)\r\n",
        "\r\n",
        "fig.tight_layout()  # otherwise the right y-label is slightly clipped\r\n",
        "plt.show()"
      ],
      "outputs": [
        {
          "output_type": "display_data",
          "data": {
            "text/plain": "<Figure size 432x288 with 2 Axes>",
            "image/png": "[encoded data removed]"
          },
          "metadata": {
            "needs_background": "light"
          }
        }
      ],
      "execution_count": 4,
      "metadata": {
        "collapsed": true,
        "jupyter": {
          "source_hidden": false,
          "outputs_hidden": false
        },
        "nteract": {
          "transient": {
            "deleting": false
          }
        },
        "gather": {
          "logged": 1629574409994
        }
      }
    }
  ],
  "metadata": {
    "kernel_info": {
      "name": "python3"
    },
    "kernelspec": {
      "name": "python3",
      "language": "python",
      "display_name": "Python 3"
    },
    "microsoft": {
      "host": {
        "AzureML": {
          "notebookHasBeenCompleted": true
        }
      }
    },
    "nteract": {
      "version": "nteract-front-end@1.0.0"
    },
    "toc-showtags": true,
    "interpreter": {
      "hash": "dee0b18f5efeed97723793285cb915e0fd443adf8426f935c8cb81cf81e23c84"
    },
    "language_info": {
      "name": "python",
      "version": "3.6.9",
      "mimetype": "text/x-python",
      "codemirror_mode": {
        "name": "ipython",
        "version": 3
      },
      "pygments_lexer": "ipython3",
      "nbconvert_exporter": "python",
      "file_extension": ".py"
    }
  },
  "nbformat": 4,
  "nbformat_minor": 4
}