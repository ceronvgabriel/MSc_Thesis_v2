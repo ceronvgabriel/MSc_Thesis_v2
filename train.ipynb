{
  "cells": [
    {
      "cell_type": "code",
      "execution_count": null,
      "source": [
        "%run imports.py"
      ],
      "outputs": [],
      "metadata": {}
    },
    {
      "cell_type": "code",
      "execution_count": null,
      "source": [
        "#bss=[64,128,256,512,1024]\r\n",
        "bss=[256]\r\n",
        "sch=\"cosine\"\r\n",
        "total_epochs=200\r\n",
        "step=40\r\n",
        "\r\n",
        "def train_prog():\r\n",
        "    for bs in bss:\r\n",
        "        print(\"Training bs: \" + str(bs))\r\n",
        "        name=\"bs_\"+str(bs) + \"_sch_\"+ sch\r\n",
        "        save_folder=name+\"/\"+name\r\n",
        "\r\n",
        "        net=models.resnet18(num_classes=10)\r\n",
        "        criterion = nn.CrossEntropyLoss()\r\n",
        "        # Observe that all parameters are being optimized\r\n",
        "        optimizer = optim.SGD(net.parameters(), lr=0.1, momentum=0.9, weight_decay=5e-4)\r\n",
        "        # Decay LR by a factor of 0.1 every 7 epochs\r\n",
        "        # exp_lr_scheduler = lr_scheduler.StepLR(optimizer_ft, step_size=7, gamma=0.1)\r\n",
        "        #plateau_lr_scheduler = torch.optim.lr_scheduler.ReduceLROnPlateau(optimizer,patience=3,threshold=1e-3)\r\n",
        "        if sch==\"cosine\":\r\n",
        "            scheduler = torch.optim.lr_scheduler.CosineAnnealingLR(optimizer, T_max=150)\r\n",
        "        elif sch==\"plateau\":\r\n",
        "            scheduler = torch.optim.lr_scheduler.ReduceLROnPlateau(optimizer,patience=3,threshold=1e-3)\r\n",
        "\r\n",
        "        model_actions.progressive_train_4(net,epochs=total_epochs,step=step,tr_bs=bs,save_folder=save_folder,criterion=criterion,scheduler=scheduler)"
      ],
      "outputs": [],
      "metadata": {}
    },
    {
      "cell_type": "code",
      "execution_count": null,
      "source": [
        "az_manage_proc.run_and_delete(log.log_time,train_prog)"
      ],
      "outputs": [],
      "metadata": {}
    }
  ],
  "metadata": {
    "kernelspec": {
      "display_name": "Python 3.6 - AzureML",
      "language": "python",
      "name": "python3-azureml"
    },
    "language_info": {
      "codemirror_mode": {
        "name": "ipython",
        "version": 3
      },
      "file_extension": ".py",
      "mimetype": "text/x-python",
      "name": "python",
      "nbconvert_exporter": "python",
      "pygments_lexer": "ipython3",
      "version": "3.6.8"
    },
    "nteract": {
      "version": "nteract-front-end@1.0.0"
    }
  },
  "nbformat": 4,
  "nbformat_minor": 2
}