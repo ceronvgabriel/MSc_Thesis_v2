{
  "cells": [
    {
      "cell_type": "code",
      "source": [
        "%run imports.py"
      ],
      "outputs": [
        {
          "output_type": "stream",
          "name": "stdout",
          "text": "Files already downloaded and verified\nPreparing data..\nFiles already downloaded and verified\nGPU available:  True\nOS:  linux\n"
        }
      ],
      "execution_count": 1,
      "metadata": {}
    },
    {
      "cell_type": "code",
      "source": [
        "#bss=[64,128,256,512,1024]\r\n",
        "bss=[2048]\r\n",
        "sch=\"plateau\"\r\n",
        "total_epochs=160\r\n",
        "step=20\r\n",
        "\r\n",
        "def train_plateau():\r\n",
        "    for bs in bss:\r\n",
        "        print(\"Training bs: \" + str(bs))\r\n",
        "        name=\"bs_\"+str(bs) + \"_sch_\"+ sch\r\n",
        "        save_folder=name+\"/\"+name\r\n",
        "\r\n",
        "        net=models.resnet18(num_classes=10)\r\n",
        "        criterion = nn.CrossEntropyLoss()\r\n",
        "        # Observe that all parameters are being optimized\r\n",
        "        optimizer = optim.SGD(net.parameters(), lr=0.1, momentum=0.9, weight_decay=5e-4)\r\n",
        "        # Decay LR by a factor of 0.1 every 7 epochs\r\n",
        "        # exp_lr_scheduler = lr_scheduler.StepLR(optimizer_ft, step_size=7, gamma=0.1)\r\n",
        "        plateau_lr_scheduler = torch.optim.lr_scheduler.ReduceLROnPlateau(optimizer,patience=3,threshold=1e-3)\r\n",
        "        \r\n",
        "        model_actions.progressive_train_4(net,epochs=total_epochs,step=step,tr_bs=bs,save_folder=save_folder,criterion=criterion,scheduler=plateau_lr_scheduler)"
      ],
      "outputs": [],
      "execution_count": 2,
      "metadata": {
        "gather": {
          "logged": 1632169745084
        }
      }
    },
    {
      "cell_type": "code",
      "source": [
        "az_manage_proc.run_and_delete(log.log_time,train_plateau)"
      ],
      "outputs": [
        {
          "output_type": "stream",
          "name": "stdout",
          "text": "Found existing instance, use it.\nTraining bs: 2048\nTraining\n\n\nEpoch: 1\n\nEpoch: 2\n\nEpoch: 3\n\nEpoch: 4\n\nEpoch: 5\n\nEpoch: 6\n\nEpoch: 7\n\nEpoch: 8\n\nEpoch: 9\n\nEpoch: 10\n\nEpoch: 11\n\nEpoch: 12\n\nEpoch: 13\n\nEpoch: 14\n\nEpoch: 15\n\nEpoch: 16\n\nEpoch: 17\n\nEpoch: 18\n\nEpoch: 19\n\nEpoch: 20\nSaving.. epoch: 20\n\n\nEpoch: 21\n\nEpoch: 22\n\nEpoch: 23\n\nEpoch: 24\n\nEpoch: 25\n\nEpoch: 26\n\nEpoch: 27\n\nEpoch: 28\n\nEpoch: 29\n\nEpoch: 30\n\nEpoch: 31\n\nEpoch: 32\n\nEpoch: 33\n\nEpoch: 34\n\nEpoch: 35\n\nEpoch: 36\n\nEpoch: 37\n\nEpoch: 38\n\nEpoch: 39\n\nEpoch: 40\nSaving.. epoch: 40\n\n\nEpoch: 41\n\nEpoch: 42\n\nEpoch: 43\n\nEpoch: 44\n\nEpoch: 45\n\nEpoch: 46\n\nEpoch: 47\n\nEpoch: 48\n\nEpoch: 49\n\nEpoch: 50\n\nEpoch: 51\n\nEpoch: 52\n\nEpoch: 53\n\nEpoch: 54\n\nEpoch: 55\n\nEpoch: 56\n\nEpoch: 57\n\nEpoch: 58\n\nEpoch: 59\n\nEpoch: 60\nSaving.. epoch: 60\n\n\nEpoch: 61\n\nEpoch: 62\n\nEpoch: 63\n\nEpoch: 64\n\nEpoch: 65\n\nEpoch: 66\n\nEpoch: 67\n\nEpoch: 68\n\nEpoch: 69\n\nEpoch: 70\n\nEpoch: 71\n\nEpoch: 72\n\nEpoch: 73\n\nEpoch: 74\n\nEpoch: 75\n\nEpoch: 76\n\nEpoch: 77\n\nEpoch: 78\n\nEpoch: 79\n\nEpoch: 80\nSaving.. epoch: 80\n\n\nEpoch: 81\n\nEpoch: 82\n\nEpoch: 83\n\nEpoch: 84\n\nEpoch: 85\n\nEpoch: 86\n\nEpoch: 87\n\nEpoch: 88\n\nEpoch: 89\n\nEpoch: 90\n\nEpoch: 91\n\nEpoch: 92\n\nEpoch: 93\n\nEpoch: 94\n\nEpoch: 95\n\nEpoch: 96\n\nEpoch: 97\n\nEpoch: 98\n\nEpoch: 99\n\nEpoch: 100\nSaving.. epoch: 100\n\n\nEpoch: 101\n\nEpoch: 102\n\nEpoch: 103\n\nEpoch: 104\n\nEpoch: 105\n\nEpoch: 106\n\nEpoch: 107\n\nEpoch: 108\n\nEpoch: 109\n\nEpoch: 110\n\nEpoch: 111\n\nEpoch: 112\n\nEpoch: 113\n\nEpoch: 114\n\nEpoch: 115\n\nEpoch: 116\n\nEpoch: 117\n\nEpoch: 118\n\nEpoch: 119\n\nEpoch: 120\nSaving.. epoch: 120\n\n\nEpoch: 121\n\nEpoch: 122\n\nEpoch: 123\n\nEpoch: 124\n\nEpoch: 125\n\nEpoch: 126\n\nEpoch: 127\n\nEpoch: 128\n\nEpoch: 129\n\nEpoch: 130\n\nEpoch: 131\n\nEpoch: 132\n\nEpoch: 133\n\nEpoch: 134\n\nEpoch: 135\n\nEpoch: 136\n\nEpoch: 137\n\nEpoch: 138\n\nEpoch: 139\n\nEpoch: 140\nSaving.. epoch: 140\n\n\nEpoch: 141\n\nEpoch: 142\n\nEpoch: 143\n\nEpoch: 144\n\nEpoch: 145\n\nEpoch: 146\n\nEpoch: 147\n\nEpoch: 148\n\nEpoch: 149\n\nEpoch: 150\n\nEpoch: 151\n\nEpoch: 152\n\nEpoch: 153\n\nEpoch: 154\n\nEpoch: 155\n\nEpoch: 156\n\nEpoch: 157\n\nEpoch: 158\n\nEpoch: 159\n\nEpoch: 160\nSaving.. epoch: 160\n\nError: module 'log' has no attribute 'save'\nDeleting VM\nFound existing instance, use it.\nDeleting..."
        },
        {
          "output_type": "stream",
          "name": "stderr",
          "text": "/anaconda/envs/azureml_py36/lib/python3.6/site-packages/torch/nn/functional.py:718: UserWarning: Named tensors and all their associated APIs are an experimental feature and subject to change. Please do not use them for anything important until they are released as stable. (Triggered internally at  /pytorch/c10/core/TensorImpl.h:1156.)\n  return torch.max_pool2d(input, kernel_size, stride, padding, dilation, ceil_mode)\n"
        }
      ],
      "execution_count": 3,
      "metadata": {
        "jupyter": {
          "source_hidden": false,
          "outputs_hidden": false
        },
        "nteract": {
          "transient": {
            "deleting": false
          }
        },
        "gather": {
          "logged": 1631487305166
        }
      }
    },
    {
      "cell_type": "markdown",
      "source": [
        "Show Training graphs"
      ],
      "metadata": {}
    },
    {
      "cell_type": "code",
      "source": [
        "\r\n"
      ],
      "outputs": [],
      "execution_count": 2,
      "metadata": {}
    },
    {
      "cell_type": "code",
      "source": [
        "\r\n",
        "bs=256\r\n",
        "loaded=utils.load(\"bs_\"+str(bs)+\"_sch_plateau.json\")\r\n",
        "\r\n",
        "fig, ax1 = plt.subplots()\r\n",
        "\r\n",
        "color = 'tab:red'\r\n",
        "ax1.set_xlabel('epochs')\r\n",
        "ax1.set_ylabel('acc,loss', color=color)\r\n",
        "ax1.plot(loaded[\"test_acc_v\"], color=color)\r\n",
        "ax1.tick_params(axis='y', labelcolor=color)\r\n",
        "\r\n",
        "ax2 = ax1.twinx()  # instantiate a second axes that shares the same x-axis\r\n",
        "\r\n",
        "color = 'tab:blue'\r\n",
        "ax2.set_ylabel('lr (log)', color=color)  # we already handled the x-label with ax1\r\n",
        "ax2.plot(np.log(loaded[\"current_lr_v\"]), color=color)\r\n",
        "ax2.tick_params(axis='y', labelcolor=color)\r\n",
        "\r\n",
        "fig.tight_layout()  # otherwise the right y-label is slightly clipped\r\n",
        "plt.show()"
      ],
      "outputs": [
        {
          "output_type": "display_data",
          "data": {
            "image/png": "[encoded data removed]",
            "text/plain": "<Figure size 432x288 with 2 Axes>"
          },
          "metadata": {
            "needs_background": "light"
          }
        }
      ],
      "execution_count": 5,
      "metadata": {}
    },
    {
      "cell_type": "code",
      "source": [
        "bs=256\r\n",
        "loaded=utils.load(\"bs_\"+str(bs)+\"_sch_plateau.json\")"
      ],
      "outputs": [],
      "execution_count": null,
      "metadata": {}
    },
    {
      "cell_type": "code",
      "source": [],
      "outputs": [],
      "execution_count": null,
      "metadata": {}
    }
  ],
  "metadata": {
    "orig_nbformat": 4,
    "language_info": {
      "name": "python",
      "version": "3.6.9",
      "mimetype": "text/x-python",
      "codemirror_mode": {
        "name": "ipython",
        "version": 3
      },
      "pygments_lexer": "ipython3",
      "nbconvert_exporter": "python",
      "file_extension": ".py"
    },
    "kernelspec": {
      "name": "python3",
      "language": "python",
      "display_name": "Python 3"
    },
    "interpreter": {
      "hash": "dee0b18f5efeed97723793285cb915e0fd443adf8426f935c8cb81cf81e23c84"
    },
    "kernel_info": {
      "name": "python3"
    },
    "nteract": {
      "version": "nteract-front-end@1.0.0"
    }
  },
  "nbformat": 4,
  "nbformat_minor": 2
}