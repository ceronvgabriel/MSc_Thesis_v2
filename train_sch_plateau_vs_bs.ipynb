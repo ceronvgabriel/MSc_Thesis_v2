{
  "cells": [
    {
      "cell_type": "code",
      "execution_count": 1,
      "source": [
        "%run imports.py"
      ],
      "outputs": [
        {
          "output_type": "stream",
          "name": "stdout",
          "text": [
            "Files already downloaded and verified\n",
            "Preparing data..\n",
            "Files already downloaded and verified\n",
            "GPU available:  True\n",
            "OS:  win32\n"
          ]
        }
      ],
      "metadata": {}
    },
    {
      "cell_type": "code",
      "execution_count": 13,
      "source": [
        "#bss=[64,128,256,512,1024]\r\n",
        "bss=[32]\r\n",
        "sch=\"plateau\"\r\n",
        "total_epochs=160\r\n",
        "step=40\r\n",
        "\r\n",
        "def train_plateau():\r\n",
        "    for bs in bss:\r\n",
        "        print(\"Training bs: \" + str(bs))\r\n",
        "        name=\"bs_\"+str(bs) + \"_sch_\"+ sch\r\n",
        "        save_folder=name+\"/\"+name\r\n",
        "\r\n",
        "        net=models.resnet18(num_classes=10)\r\n",
        "        criterion = nn.CrossEntropyLoss()\r\n",
        "        # Observe that all parameters are being optimized\r\n",
        "        optimizer = optim.SGD(net.parameters(), lr=0.1, momentum=0.9, weight_decay=5e-4)\r\n",
        "        # Decay LR by a factor of 0.1 every 7 epochs\r\n",
        "        # exp_lr_scheduler = lr_scheduler.StepLR(optimizer_ft, step_size=7, gamma=0.1)\r\n",
        "        plateau_lr_scheduler = torch.optim.lr_scheduler.ReduceLROnPlateau(optimizer,patience=3,threshold=1e-3)\r\n",
        "        \r\n",
        "        model_actions.progressive_train_4(net,epochs=total_epochs,step=step,tr_bs=bs,save_folder=save_folder,criterion=criterion,scheduler=plateau_lr_scheduler)"
      ],
      "outputs": [],
      "metadata": {
        "gather": {
          "logged": 1631487637303
        }
      }
    },
    {
      "cell_type": "code",
      "execution_count": 14,
      "source": [
        "az_manage_proc.run_and_delete(log.log_time,train_plateau)"
      ],
      "outputs": [
        {
          "output_type": "stream",
          "name": "stdout",
          "text": [
            "Found existing instance, use it.\n",
            "Training bs: 64\n",
            "Training\n",
            "\n",
            "\n",
            "Epoch: 1\n",
            "\n",
            "Epoch: 2\n",
            "\n",
            "Epoch: 3\n",
            "\n",
            "Epoch: 4\n",
            "\n",
            "Epoch: 5\n",
            "\n",
            "Epoch: 6\n",
            "\n",
            "Epoch: 7\n",
            "\n",
            "Epoch: 8\n",
            "\n",
            "Epoch: 9\n",
            "\n",
            "Epoch: 10\n",
            "\n",
            "Epoch: 11\n"
          ]
        }
      ],
      "metadata": {
        "jupyter": {
          "source_hidden": false,
          "outputs_hidden": false
        },
        "nteract": {
          "transient": {
            "deleting": false
          }
        },
        "gather": {
          "logged": 1631487305166
        }
      }
    },
    {
      "cell_type": "markdown",
      "source": [
        "Show Training graphs"
      ],
      "metadata": {}
    },
    {
      "cell_type": "code",
      "execution_count": 2,
      "source": [
        "\r\n"
      ],
      "outputs": [],
      "metadata": {}
    },
    {
      "cell_type": "code",
      "execution_count": 8,
      "source": [
        "\r\n",
        "bs=1024\r\n",
        "loaded=utils.load(\"bs_\"+str(bs)+\"_sch_plateau.json\")\r\n",
        "\r\n",
        "fig, ax1 = plt.subplots()\r\n",
        "\r\n",
        "color = 'tab:red'\r\n",
        "ax1.set_xlabel('epochs')\r\n",
        "ax1.set_ylabel('acc,loss', color=color)\r\n",
        "ax1.plot(loaded[\"test_acc_v\"], color=color)\r\n",
        "ax1.tick_params(axis='y', labelcolor=color)\r\n",
        "\r\n",
        "ax2 = ax1.twinx()  # instantiate a second axes that shares the same x-axis\r\n",
        "\r\n",
        "color = 'tab:blue'\r\n",
        "ax2.set_ylabel('lr (log)', color=color)  # we already handled the x-label with ax1\r\n",
        "ax2.plot(np.log(loaded[\"current_lr_v\"]), color=color)\r\n",
        "ax2.tick_params(axis='y', labelcolor=color)\r\n",
        "\r\n",
        "fig.tight_layout()  # otherwise the right y-label is slightly clipped\r\n",
        "plt.show()"
      ],
      "outputs": [
        {
          "output_type": "display_data",
          "data": {
            "image/png": "[encoded data removed]",
            "text/plain": [
              "<Figure size 432x288 with 2 Axes>"
            ]
          },
          "metadata": {
            "needs_background": "light"
          }
        }
      ],
      "metadata": {}
    },
    {
      "cell_type": "code",
      "execution_count": 6,
      "source": [
        "bs=256\r\n",
        "loaded=utils.load(\"bs_\"+str(bs)+\"_sch_plateau.json\")"
      ],
      "outputs": [],
      "metadata": {}
    },
    {
      "cell_type": "code",
      "execution_count": null,
      "source": [],
      "outputs": [],
      "metadata": {}
    }
  ],
  "metadata": {
    "orig_nbformat": 4,
    "language_info": {
      "name": "python",
      "version": "3.9.1",
      "mimetype": "text/x-python",
      "codemirror_mode": {
        "name": "ipython",
        "version": 3
      },
      "pygments_lexer": "ipython3",
      "nbconvert_exporter": "python",
      "file_extension": ".py"
    },
    "kernelspec": {
      "name": "python3",
      "display_name": "Python 3.9.1 64-bit ('base': conda)"
    },
    "interpreter": {
      "hash": "dee0b18f5efeed97723793285cb915e0fd443adf8426f935c8cb81cf81e23c84"
    },
    "kernel_info": {
      "name": "python3"
    },
    "nteract": {
      "version": "nteract-front-end@1.0.0"
    }
  },
  "nbformat": 4,
  "nbformat_minor": 2
}