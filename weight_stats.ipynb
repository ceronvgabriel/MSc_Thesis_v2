{
 "cells": [
  {
   "cell_type": "code",
   "execution_count": 10,
   "source": [
    "%run imports.py"
   ],
   "outputs": [
    {
     "output_type": "stream",
     "name": "stdout",
     "text": [
      "The autoreload extension is already loaded. To reload it, use:\n",
      "  %reload_ext autoreload\n",
      "GPU available:  True\n",
      "OS:  win32\n"
     ]
    },
    {
     "output_type": "display_data",
     "data": {
      "text/plain": [
       "<Figure size 432x288 with 0 Axes>"
      ]
     },
     "metadata": {}
    }
   ],
   "metadata": {}
  },
  {
   "cell_type": "code",
   "execution_count": 11,
   "source": [
    "model=model_actions.load(\"checkpoints/bs_128_sch_plateau/bs_128_sch_plateau_epoch_160\")"
   ],
   "outputs": [],
   "metadata": {}
  },
  {
   "cell_type": "code",
   "execution_count": 12,
   "source": [
    "conv_w=[]\r\n",
    "for name, param in model.named_parameters():\r\n",
    "    if \"conv\" in name and param.size()[2] == 3:\r\n",
    "        for i in param.tolist():\r\n",
    "            for j in i:\r\n",
    "                conv_w.append(j)"
   ],
   "outputs": [],
   "metadata": {}
  },
  {
   "cell_type": "code",
   "execution_count": 13,
   "source": [
    "conv_w_flat = np.array(conv_w).flatten()"
   ],
   "outputs": [],
   "metadata": {}
  },
  {
   "cell_type": "code",
   "execution_count": 14,
   "source": [
    "print(min(conv_w_flat))\r\n",
    "print(max(conv_w_flat))\r\n",
    "print(conv_w_flat.mean())\r\n",
    "print(conv_w_flat.std())"
   ],
   "outputs": [
    {
     "output_type": "stream",
     "name": "stdout",
     "text": [
      "-0.5033373236656189\n",
      "0.4561920464038849\n",
      "-0.00017370819079944112\n",
      "0.00780817245143656\n"
     ]
    }
   ],
   "metadata": {}
  },
  {
   "cell_type": "code",
   "execution_count": 18,
   "source": [
    "import matplotlib.style\r\n",
    "import matplotlib as mpl\r\n",
    "mpl.style.use('default')"
   ],
   "outputs": [],
   "metadata": {}
  },
  {
   "cell_type": "code",
   "execution_count": 19,
   "source": [
    "_=plt.hist(conv_w_flat, bins=500, density=True)"
   ],
   "outputs": [
    {
     "output_type": "display_data",
     "data": {
      "image/png": "[encoded data removed]",
      "text/plain": [
       "<Figure size 640x480 with 1 Axes>"
      ]
     },
     "metadata": {}
    }
   ],
   "metadata": {}
  },
  {
   "cell_type": "code",
   "execution_count": null,
   "source": [],
   "outputs": [],
   "metadata": {}
  }
 ],
 "metadata": {
  "orig_nbformat": 4,
  "language_info": {
   "name": "python",
   "version": "3.9.1",
   "mimetype": "text/x-python",
   "codemirror_mode": {
    "name": "ipython",
    "version": 3
   },
   "pygments_lexer": "ipython3",
   "nbconvert_exporter": "python",
   "file_extension": ".py"
  },
  "kernelspec": {
   "name": "python3",
   "display_name": "Python 3.9.1 64-bit ('base': conda)"
  },
  "interpreter": {
   "hash": "dee0b18f5efeed97723793285cb915e0fd443adf8426f935c8cb81cf81e23c84"
  }
 },
 "nbformat": 4,
 "nbformat_minor": 2
}