{
  "cells": [
    {
      "cell_type": "code",
      "source": [
        "%run imports.py"
      ],
      "outputs": [
        {
          "output_type": "stream",
          "name": "stdout",
          "text": "Files already downloaded and verified\nPreparing data..\nFiles already downloaded and verified\nGPU available:  True\nOS:  linux\n"
        }
      ],
      "execution_count": 1,
      "metadata": {}
    },
    {
      "cell_type": "code",
      "source": [
        "ms=[0,0.5,0.98]\r\n",
        "#wds=[0]\r\n",
        "sch=\"plateau\"\r\n",
        "total_epochs=160\r\n",
        "step=40\r\n",
        "bs=128\r\n",
        "wd=5e-5\r\n",
        "\r\n",
        "def train_prog():\r\n",
        "    print(\"Step: \" + str(1))\r\n",
        "    name=\"adam_\"+\"bs_\"+str(bs) \r\n",
        "    \r\n",
        "    save_folder=name+\"/\"+name\r\n",
        "    net=models.resnet18(num_classes=10)\r\n",
        "    criterion = nn.CrossEntropyLoss()\r\n",
        "\r\n",
        "    #optimizer = optim.SGD(net.parameters(), lr=0.1, momentum=m, weight_decay=wd)\r\n",
        "    optimizer = optim.Adam(net.parameters(), lr=0.1, betas=(0.9, 0.999), eps=1e-08, weight_decay=0, amsgrad=False)\r\n",
        "\r\n",
        "    if sch==\"cosine\":\r\n",
        "        scheduler = torch.optim.lr_scheduler.CosineAnnealingLR(optimizer, T_max=150)\r\n",
        "    elif sch==\"plateau\":\r\n",
        "        scheduler = torch.optim.lr_scheduler.ReduceLROnPlateau(optimizer,patience=3,threshold=1e-3)\r\n",
        "    elif sch==\"exp\":\r\n",
        "        # Decay LR by a factor of 0.1 every 7 epochs\r\n",
        "        scheduler = torch.optim.lr_scheduler.StepLR(optimizer, step_size=7, gamma=0.1)\r\n",
        "\r\n",
        "    model_actions.progressive_train_4(net,epochs=total_epochs,step=step,tr_bs=bs,save_folder=save_folder,criterion=criterion,scheduler=scheduler)\r\n",
        "\r\n"
      ],
      "outputs": [],
      "execution_count": 2,
      "metadata": {
        "gather": {
          "logged": 1633494871477
        }
      }
    },
    {
      "cell_type": "code",
      "source": [
        "az_manage_proc.run_and_delete(log.log_time,train_prog)"
      ],
      "outputs": [
        {
          "output_type": "stream",
          "name": "stdout",
          "text": "Found existing instance, use it.\nLogging time\nStep: 1\nTraining\n\n\nEpoch: 1\nSaving best..\n\nEpoch: 2\nSaving best..\n\nEpoch: 3\nSaving best..\n\nEpoch: 4\nSaving best..\n\nEpoch: 5\nSaving best..\n\nEpoch: 6\nSaving best..\n\nEpoch: 7\nSaving best..\n\nEpoch: 8\nSaving best..\n\nEpoch: 9\n\nEpoch: 10\nSaving best..\n\nEpoch: 11\n\nEpoch: 12\nSaving best..\n\nEpoch: 13\n\nEpoch: 14\nSaving best..\n\nEpoch: 15\nSaving best..\n\nEpoch: 16\nSaving best..\n\nEpoch: 17\n\nEpoch: 18\nSaving best..\n\nEpoch: 19\n\nEpoch: 20\nSaving best..\n\nEpoch: 21\nSaving best..\n\nEpoch: 22\n"
        }
      ],
      "execution_count": 3,
      "metadata": {
        "gather": {
          "logged": 1632367621302
        }
      }
    },
    {
      "cell_type": "code",
      "source": [
        "#Training for different weight decays, with weight statistics: ws\r\n",
        "\r\n",
        "wds=[0,5e-7,5e-5,5e-3,5e-1]\r\n",
        "#wds=[0]\r\n",
        "sch=\"plateau\"\r\n",
        "total_epochs=100\r\n",
        "step=20\r\n",
        "bs=128\r\n",
        "\r\n",
        "def train_prog_wd():\r\n",
        "    for wd in wds:\r\n",
        "        print(\"Step: \" + str(wd))\r\n",
        "\r\n",
        "        name=\"rmsprop\"+\"_wd_\" + str(wd)\r\n",
        "        save_folder=name+\"/\"+name\r\n",
        "\r\n",
        "        net=models.resnet18(num_classes=10)\r\n",
        "        criterion = nn.CrossEntropyLoss()\r\n",
        "        # Observe that all parameters are being optimized\r\n",
        "        #optimizer = optim.SGD(net.parameters(), lr=0.1, momentum=0.9, weight_decay=wd)\r\n",
        "        #optimizer = optim.Adam(net.parameters(), lr=0.1, betas=(0.9, 0.999), eps=1e-08, weight_decay=wd, amsgrad=False)\r\n",
        "        optimizer=torch.optim.RMSprop(net.parameters(), lr=0.1, alpha=0.99, eps=1e-08, weight_decay=wd, momentum=0, centered=False)\r\n",
        "        # Decay LR by a factor of 0.1 every 7 epochs\r\n",
        "        # exp_lr_scheduler = lr_scheduler.StepLR(optimizer_ft, step_size=7, gamma=0.1)\r\n",
        "        #plateau_lr_scheduler = torch.optim.lr_scheduler.ReduceLROnPlateau(optimizer,patience=3,threshold=1e-3)\r\n",
        "        if sch==\"cosine\":\r\n",
        "            scheduler = torch.optim.lr_scheduler.CosineAnnealingLR(optimizer, T_max=150)\r\n",
        "        elif sch==\"plateau\":\r\n",
        "            scheduler = torch.optim.lr_scheduler.ReduceLROnPlateau(optimizer,patience=3,threshold=1e-3)\r\n",
        "\r\n",
        "        model_actions.progressive_train_ws(net,epochs=total_epochs,step=step,tr_bs=bs,save_folder=save_folder,criterion=criterion,scheduler=scheduler)"
      ],
      "outputs": [],
      "execution_count": 3,
      "metadata": {
        "jupyter": {
          "source_hidden": false,
          "outputs_hidden": false
        },
        "nteract": {
          "transient": {
            "deleting": false
          }
        },
        "gather": {
          "logged": 1634271839123
        }
      }
    },
    {
      "cell_type": "code",
      "source": [
        "#Training for different weight decays, with weight statistics: ws\r\n",
        "\r\n",
        "alphas=[0,0.3,0.6,0.9]\r\n",
        "#wds=[0]\r\n",
        "sch=\"plateau\"\r\n",
        "total_epochs=100\r\n",
        "step=20\r\n",
        "bs=128\r\n",
        "wd=5e-5\r\n",
        "\r\n",
        "def train_prog_alpha():\r\n",
        "    for alpha in alphas:\r\n",
        "        print(\"Step: \" + str(alpha))\r\n",
        "\r\n",
        "        name=\"rmsprop\"+\"_alpha_\" + str(alpha)\r\n",
        "        save_folder=name+\"/\"+name\r\n",
        "\r\n",
        "        net=models.resnet18(num_classes=10)\r\n",
        "        criterion = nn.CrossEntropyLoss()\r\n",
        "        # Observe that all parameters are being optimized\r\n",
        "        #optimizer = optim.SGD(net.parameters(), lr=0.1, momentum=0.9, weight_decay=wd)\r\n",
        "        #optimizer = optim.Adam(net.parameters(), lr=0.1, betas=(0.9, 0.999), eps=1e-08, weight_decay=wd, amsgrad=False)\r\n",
        "        optimizer=torch.optim.RMSprop(net.parameters(), lr=0.1, alpha=alpha, eps=1e-08, weight_decay=wd, momentum=0, centered=False)\r\n",
        "        # Decay LR by a factor of 0.1 every 7 epochs\r\n",
        "        # exp_lr_scheduler = lr_scheduler.StepLR(optimizer_ft, step_size=7, gamma=0.1)\r\n",
        "        #plateau_lr_scheduler = torch.optim.lr_scheduler.ReduceLROnPlateau(optimizer,patience=3,threshold=1e-3)\r\n",
        "        if sch==\"cosine\":\r\n",
        "            scheduler = torch.optim.lr_scheduler.CosineAnnealingLR(optimizer, T_max=150)\r\n",
        "        elif sch==\"plateau\":\r\n",
        "            scheduler = torch.optim.lr_scheduler.ReduceLROnPlateau(optimizer,patience=3,threshold=1e-3)\r\n",
        "\r\n",
        "        model_actions.progressive_train_ws(net,epochs=total_epochs,step=step,tr_bs=bs,save_folder=save_folder,criterion=criterion,scheduler=scheduler)"
      ],
      "outputs": [],
      "execution_count": 4,
      "metadata": {
        "jupyter": {
          "source_hidden": false,
          "outputs_hidden": false
        },
        "nteract": {
          "transient": {
            "deleting": false
          }
        },
        "gather": {
          "logged": 1634271854838
        }
      }
    },
    {
      "cell_type": "code",
      "source": [
        "def both_wd_and_alpha():\r\n",
        "    train_prog_wd()\r\n",
        "    train_prog_alpha()"
      ],
      "outputs": [],
      "execution_count": 5,
      "metadata": {
        "jupyter": {
          "source_hidden": false,
          "outputs_hidden": false
        },
        "nteract": {
          "transient": {
            "deleting": false
          }
        },
        "gather": {
          "logged": 1634271860494
        }
      }
    },
    {
      "cell_type": "code",
      "source": [
        "az_manage_proc.run_and_delete(log.log_time,both_wd_and_alpha)"
      ],
      "outputs": [
        {
          "output_type": "stream",
          "name": "stdout",
          "text": "Found existing instance, use it.\nLogging time\nStep: 0\nTraining\n\n\nEpoch: 1\nSaving best..\n\nEpoch: 2\n\nEpoch: 3\nSaving best..\n\nEpoch: 4\nSaving best..\n\nEpoch: 5\nSaving best..\n\nEpoch: 6\n\nEpoch: 7\n\nEpoch: 8\n\nEpoch: 9\n\nEpoch: 10\nSaving best..\n\nEpoch: 11\nSaving best..\n\nEpoch: 12\nSaving best..\n\nEpoch: 13\nSaving best..\n\nEpoch: 14\n\nEpoch: 15\n\nEpoch: 16\n\nEpoch: 17\n\nEpoch: 18\nSaving best..\n\nEpoch: 19\n\nEpoch: 20\nSaving step..\n\nEpoch: 21\nSaving best..\n\nEpoch: 22\nSaving best..\n\nEpoch: 23\n"
        }
      ],
      "execution_count": 6,
      "metadata": {
        "jupyter": {
          "source_hidden": false,
          "outputs_hidden": false
        },
        "nteract": {
          "transient": {
            "deleting": false
          }
        }
      }
    },
    {
      "cell_type": "markdown",
      "source": [
        "# Graphs"
      ],
      "metadata": {}
    },
    {
      "cell_type": "code",
      "source": [
        "bs=128\r\n",
        "m=0.5\r\n",
        "loaded=utils.load(\"adam_\"+\"bs_\"+str(bs)+\".json\")\r\n",
        "\r\n",
        "fig, ax1 = plt.subplots()\r\n",
        "\r\n",
        "color = 'tab:red'\r\n",
        "ax1.set_xlabel('Epochs')\r\n",
        "ax1.set_ylabel('Accuracy', color=color)\r\n",
        "ax1.plot(loaded[\"test_acc_v\"], color=color)\r\n",
        "ax1.tick_params(axis='y', labelcolor=color)\r\n",
        "ax1.grid()\r\n",
        "\r\n",
        "ax2 = ax1.twinx()  # instantiate a second axes that shares the same x-axis\r\n",
        "\r\n",
        "color = 'tab:blue'\r\n",
        "ax2.set_ylabel('Learning Rate (log10)', color=color)  # we already handled the x-label with ax1\r\n",
        "ax2.plot(np.log10(loaded[\"current_lr_v\"]), color=color)\r\n",
        "ax2.tick_params(axis='y', labelcolor=color)\r\n",
        "\r\n",
        "#fig.tight_layout()  # otherwise the right y-label is slightly clipped\r\n",
        "fig.suptitle(\"Training Resnet18 with Adam Optimizer\")\r\n",
        "\r\n",
        "plt.show()"
      ],
      "outputs": [
        {
          "output_type": "display_data",
          "data": {
            "text/plain": "<Figure size 640x480 with 2 Axes>",
            "image/png": "[encoded data removed]"
          },
          "metadata": {}
        }
      ],
      "execution_count": 6,
      "metadata": {
        "gather": {
          "logged": 1633566267042
        }
      }
    },
    {
      "cell_type": "code",
      "source": [
        "bs=128\r\n",
        "m=0.5\r\n",
        "loaded=utils.load(\"adam_\"+\"bs_\"+str(bs)+\".json\")\r\n",
        "print(max(loaded[\"test_acc_v\"]))"
      ],
      "outputs": [
        {
          "output_type": "stream",
          "name": "stdout",
          "text": "76.75\n"
        }
      ],
      "execution_count": 5,
      "metadata": {
        "jupyter": {
          "source_hidden": false,
          "outputs_hidden": false
        },
        "nteract": {
          "transient": {
            "deleting": false
          }
        },
        "gather": {
          "logged": 1633566118075
        }
      }
    },
    {
      "cell_type": "code",
      "source": [
        "wd=5e-7\r\n",
        "loaded_meta=model_actions.load_meta(\"./checkpoints/bs_128_sch_plateau_wd_\"+str(wd)+\"/bs_128_sch_plateau_wd_\"+str(wd)+\"_epoch_137\")"
      ],
      "outputs": [],
      "execution_count": null,
      "metadata": {
        "jupyter": {
          "source_hidden": false,
          "outputs_hidden": false
        },
        "nteract": {
          "transient": {
            "deleting": false
          }
        }
      }
    },
    {
      "cell_type": "code",
      "source": [
        "loaded_meta[\"best_acc\"]"
      ],
      "outputs": [
        {
          "output_type": "execute_result",
          "execution_count": 27,
          "data": {
            "text/plain": "84.52"
          },
          "metadata": {}
        }
      ],
      "execution_count": 27,
      "metadata": {}
    }
  ],
  "metadata": {
    "orig_nbformat": 4,
    "language_info": {
      "name": "python",
      "version": "3.6.9",
      "mimetype": "text/x-python",
      "codemirror_mode": {
        "name": "ipython",
        "version": 3
      },
      "pygments_lexer": "ipython3",
      "nbconvert_exporter": "python",
      "file_extension": ".py"
    },
    "kernelspec": {
      "name": "python3",
      "language": "python",
      "display_name": "Python 3"
    },
    "interpreter": {
      "hash": "dee0b18f5efeed97723793285cb915e0fd443adf8426f935c8cb81cf81e23c84"
    },
    "kernel_info": {
      "name": "python3"
    },
    "nteract": {
      "version": "nteract-front-end@1.0.0"
    }
  },
  "nbformat": 4,
  "nbformat_minor": 2
}