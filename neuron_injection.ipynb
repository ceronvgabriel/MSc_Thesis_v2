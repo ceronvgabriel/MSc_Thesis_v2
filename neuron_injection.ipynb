{
  "cells": [
    {
      "cell_type": "markdown",
      "source": [
        "#Import"
      ],
      "metadata": {
        "id": "CUTSgXGmCKCS"
      }
    },
    {
      "cell_type": "code",
      "execution_count": 2,
      "source": [
        "#Run if you want to autoreload your personal modules on change\n",
        "import autoreload\n",
        "%load_ext autoreload\n",
        "%autoreload 2\n",
        "\n"
      ],
      "outputs": [],
      "metadata": {
        "id": "iCZG76K_evTn"
      }
    },
    {
      "cell_type": "code",
      "execution_count": 6,
      "source": [
        "import sys\n",
        "sys.path"
      ],
      "outputs": [
        {
          "output_type": "execute_result",
          "data": {
            "text/plain": [
              "['/mnt/batch/tasks/shared/LS_root/mounts/clusters/ins07202222/code',\n",
              " '/anaconda/envs/azureml_py38/lib/python38.zip',\n",
              " '/anaconda/envs/azureml_py38/lib/python3.8',\n",
              " '/anaconda/envs/azureml_py38/lib/python3.8/lib-dynload',\n",
              " '',\n",
              " '/anaconda/envs/azureml_py38/lib/python3.8/site-packages',\n",
              " '/anaconda/envs/azureml_py38/lib/python3.8/site-packages/IPython/extensions',\n",
              " '/home/azureuser/.ipython',\n",
              " '/anaconda/envs/azureml_py38/lib/python3.8/site-packages/azureml/_project/vendor']"
            ]
          },
          "metadata": {},
          "execution_count": 6
        }
      ],
      "metadata": {}
    },
    {
      "cell_type": "code",
      "execution_count": 16,
      "source": [
        "sys.path"
      ],
      "outputs": [
        {
          "output_type": "execute_result",
          "data": {
            "text/plain": [
              "['/mnt/batch/tasks/shared/LS_root/mounts/clusters/ins07202222/code',\n",
              " '/anaconda/envs/azureml_py38/lib/python38.zip',\n",
              " '/anaconda/envs/azureml_py38/lib/python3.8',\n",
              " '/anaconda/envs/azureml_py38/lib/python3.8/lib-dynload',\n",
              " '',\n",
              " '/anaconda/envs/azureml_py38/lib/python3.8/site-packages',\n",
              " '/anaconda/envs/azureml_py38/lib/python3.8/site-packages/IPython/extensions',\n",
              " '/home/azureuser/.ipython',\n",
              " '/anaconda/envs/azureml_py38/lib/python3.8/site-packages/azureml/_project/vendor']"
            ]
          },
          "metadata": {},
          "execution_count": 16
        }
      ],
      "metadata": {}
    },
    {
      "cell_type": "code",
      "execution_count": null,
      "source": [
        "#Next is needed in azure vm to autoreload modules in cwd\n",
        "import os\n",
        "pwd=os.popen(\"pwd\").read().rstrip()\n",
        "\n",
        "import sys\n",
        "sys.path.append(pwd)\n",
        "print(\"yo\")"
      ],
      "outputs": [],
      "metadata": {}
    },
    {
      "cell_type": "code",
      "execution_count": 14,
      "source": [
        "!cd Users/S242660/"
      ],
      "outputs": [
        {
          "output_type": "stream",
          "name": "stdout",
          "text": [
            "/bin/bash: line 0: cd: Users/Users/S242660/: No such file or directory\n"
          ]
        }
      ],
      "metadata": {}
    },
    {
      "cell_type": "code",
      "execution_count": 15,
      "source": [
        "!pwd"
      ],
      "outputs": [
        {
          "output_type": "stream",
          "name": "stdout",
          "text": [
            "/mnt/batch/tasks/shared/LS_root/mounts/clusters/ins07202222/code\n"
          ]
        }
      ],
      "metadata": {}
    },
    {
      "cell_type": "code",
      "execution_count": 3,
      "source": [
        "import pytorchfi_c"
      ],
      "outputs": [
        {
          "output_type": "error",
          "ename": "ModuleNotFoundError",
          "evalue": "No module named 'pytorchfi_c'",
          "traceback": [
            "\u001b[0;31m---------------------------------------------------------------------------\u001b[0m",
            "\u001b[0;31mModuleNotFoundError\u001b[0m                       Traceback (most recent call last)",
            "\u001b[0;32m<ipython-input-3-9490f02e361a>\u001b[0m in \u001b[0;36m<module>\u001b[0;34m\u001b[0m\n\u001b[0;32m----> 1\u001b[0;31m \u001b[0;32mimport\u001b[0m \u001b[0mpytorchfi_c\u001b[0m\u001b[0;34m\u001b[0m\u001b[0;34m\u001b[0m\u001b[0m\n\u001b[0m",
            "\u001b[0;31mModuleNotFoundError\u001b[0m: No module named 'pytorchfi_c'"
          ]
        }
      ],
      "metadata": {}
    },
    {
      "cell_type": "code",
      "execution_count": null,
      "source": [
        "import py"
      ],
      "outputs": [],
      "metadata": {}
    },
    {
      "cell_type": "code",
      "execution_count": null,
      "source": [
        "%cd drive/MyDrive/Colab\\ Notebooks\r\n",
        "!ls"
      ],
      "outputs": [
        {
          "output_type": "stream",
          "name": "stdout",
          "text": [
            "/content/drive/MyDrive/Colab Notebooks\n",
            " checkpoint\t        manyInjections.py\n",
            " checkpoint_default     manyInj.py\n",
            " data\t\t        MLPR\n",
            " decimal_test.csv       models\n",
            " decimal_test.npy       __pycache__\n",
            " faultInjection.ipynb   results\n",
            " load18_default.py      snippets.ipynb\n",
            " load18.py\t       'Support Vector Machine From Scratch.ipynb'\n",
            " main18_default.ipynb   utils_nb.ipynb\n",
            " main18.ipynb\t        utils.py\n",
            " main_default.py        wandb\n",
            " main.py\n"
          ]
        }
      ],
      "metadata": {
        "colab": {
          "base_uri": "https://localhost:8080/"
        },
        "id": "O4_2KWrPhKnZ",
        "executionInfo": {
          "status": "ok",
          "timestamp": 1623079087659,
          "user_tz": 300,
          "elapsed": 15,
          "user": {
            "displayName": "Gabriel Ceron Viveros",
            "photoUrl": "https://lh3.googleusercontent.com/a-/AOh14GhKuFxADeoNbpXSp3yfCRgm_vy86e4Q9hPd4K7flA=s64",
            "userId": "03642710981534596372"
          }
        },
        "outputId": "1a90704e-42b8-416d-96cf-c299c30ac103"
      }
    },
    {
      "cell_type": "code",
      "execution_count": null,
      "source": [
        "#Show current devices (GPU)\r\n",
        "#print(torch.cuda.current_device())\r\n",
        "from tensorflow.python.client import device_lib\r\n",
        "device_lib.list_local_devices()"
      ],
      "outputs": [
        {
          "output_type": "execute_result",
          "data": {
            "text/plain": [
              "[name: \"/device:CPU:0\"\n",
              " device_type: \"CPU\"\n",
              " memory_limit: 268435456\n",
              " locality {\n",
              " }\n",
              " incarnation: 2032632446091393088, name: \"/device:GPU:0\"\n",
              " device_type: \"GPU\"\n",
              " memory_limit: 14509932544\n",
              " locality {\n",
              "   bus_id: 1\n",
              "   links {\n",
              "   }\n",
              " }\n",
              " incarnation: 14480359891275526803\n",
              " physical_device_desc: \"device: 0, name: Tesla T4, pci bus id: 0000:00:04.0, compute capability: 7.5\"]"
            ]
          },
          "metadata": {
            "tags": []
          },
          "execution_count": 3
        }
      ],
      "metadata": {
        "colab": {
          "base_uri": "https://localhost:8080/"
        },
        "id": "qv7z9U0Gh_vd",
        "executionInfo": {
          "status": "ok",
          "timestamp": 1622785139371,
          "user_tz": 300,
          "elapsed": 7016,
          "user": {
            "displayName": "Gabriel Ceron Viveros",
            "photoUrl": "https://lh3.googleusercontent.com/a-/AOh14GhKuFxADeoNbpXSp3yfCRgm_vy86e4Q9hPd4K7flA=s64",
            "userId": "03642710981534596372"
          }
        },
        "outputId": "2cc92882-2c13-45e9-a664-d1a896de3d81"
      }
    },
    {
      "cell_type": "code",
      "execution_count": 5,
      "source": [
        "import sys\r\n",
        "sys.path"
      ],
      "outputs": [
        {
          "output_type": "execute_result",
          "data": {
            "text/plain": [
              "['/anaconda/envs/azureml_py36/lib/python36.zip',\n",
              " '/anaconda/envs/azureml_py36/lib/python3.6',\n",
              " '/anaconda/envs/azureml_py36/lib/python3.6/lib-dynload',\n",
              " '',\n",
              " '/anaconda/envs/azureml_py36/lib/python3.6/site-packages',\n",
              " '/anaconda/envs/azureml_py36/lib/python3.6/site-packages/xgboost-0.90-py3.6.egg',\n",
              " '/anaconda/envs/azureml_py36/lib/python3.6/site-packages/IPython/extensions',\n",
              " '/home/azureuser/.ipython',\n",
              " '/anaconda/envs/azureml_py36/lib/python3.6/site-packages/azureml/_project/vendor',\n",
              " '/anaconda/envs/azureml_py36/lib/python3.6/site-packages/azureml/automl/core/_vendor']"
            ]
          },
          "metadata": {},
          "execution_count": 5
        }
      ],
      "metadata": {}
    },
    {
      "cell_type": "code",
      "execution_count": null,
      "source": [
        "import torch\r\n",
        "import torch.nn as nn\r\n",
        "import torch.optim as optim\r\n",
        "import torch.nn.functional as F\r\n",
        "import torch.backends.cudnn as cudnn\r\n",
        "\r\n",
        "import torchvision\r\n",
        "import torchvision.transforms as transforms\r\n",
        "\r\n",
        "import os\r\n",
        "import argparse\r\n",
        "\r\n",
        "from models import *\r\n",
        "from utils import progress_bar"
      ],
      "outputs": [],
      "metadata": {
        "id": "MQIu7huShQmc"
      }
    },
    {
      "cell_type": "code",
      "execution_count": null,
      "source": [
        "!pip install pytorchfi"
      ],
      "outputs": [
        {
          "output_type": "stream",
          "name": "stdout",
          "text": [
            "Collecting pytorchfi\n",
            "  Downloading https://files.pythonhosted.org/packages/eb/04/b93c5fca9bace7833fb8315630701e08fa0280112b4f65c3b87bccbbdb00/pytorchfi-0.3.0-py3-none-any.whl\n",
            "Installing collected packages: pytorchfi\n",
            "Successfully installed pytorchfi-0.3.0\n"
          ]
        }
      ],
      "metadata": {
        "colab": {
          "base_uri": "https://localhost:8080/"
        },
        "id": "jw9srfrIiQ28",
        "executionInfo": {
          "status": "ok",
          "timestamp": 1622785215262,
          "user_tz": 300,
          "elapsed": 3305,
          "user": {
            "displayName": "Gabriel Ceron Viveros",
            "photoUrl": "https://lh3.googleusercontent.com/a-/AOh14GhKuFxADeoNbpXSp3yfCRgm_vy86e4Q9hPd4K7flA=s64",
            "userId": "03642710981534596372"
          }
        },
        "outputId": "f7834925-1333-4e62-f880-378ee3820865"
      }
    },
    {
      "cell_type": "code",
      "execution_count": null,
      "source": [
        "from pytorchfi.core import fault_injection as pfi_core\n",
        "from pytorchfi.errormodels import (\n",
        "    random_inj_per_layer,\n",
        "    random_inj_per_layer_batched,\n",
        "    random_neuron_inj,\n",
        "    random_neuron_inj_batched,\n",
        "    random_neuron_single_bit_inj,\n",
        "    random_neuron_single_bit_inj_batched,\n",
        "    random_weight_inj\n",
        ")\n",
        "\n",
        "import manyInj #Custom fault injector model\n",
        "import pytorchfi\n",
        "import numpy"
      ],
      "outputs": [],
      "metadata": {
        "id": "683kiSVOi9u4"
      }
    },
    {
      "cell_type": "markdown",
      "source": [
        "#Run 18"
      ],
      "metadata": {
        "id": "OcgjP3yEB0Di"
      }
    },
    {
      "cell_type": "code",
      "execution_count": null,
      "source": [
        "%run load18.py"
      ],
      "outputs": [
        {
          "output_type": "stream",
          "name": "stdout",
          "text": [
            "Files already downloaded and verified\n"
          ]
        }
      ],
      "metadata": {
        "colab": {
          "base_uri": "https://localhost:8080/"
        },
        "id": "gkDG2gZmhT39",
        "executionInfo": {
          "status": "ok",
          "timestamp": 1622785238375,
          "user_tz": 300,
          "elapsed": 22773,
          "user": {
            "displayName": "Gabriel Ceron Viveros",
            "photoUrl": "https://lh3.googleusercontent.com/a-/AOh14GhKuFxADeoNbpXSp3yfCRgm_vy86e4Q9hPd4K7flA=s64",
            "userId": "03642710981534596372"
          }
        },
        "outputId": "c8de68cc-8992-4d83-bdb4-ebc447c78d55"
      }
    },
    {
      "cell_type": "code",
      "execution_count": null,
      "source": [
        "test()"
      ],
      "outputs": [
        {
          "output_type": "stream",
          "name": "stdout",
          "text": [
            " [================================================================>]  Step: 36ms | Tot: 3s770ms | Loss: 0.179 | Acc: 95.520% (9552/10000) 100/100 \n"
          ]
        }
      ],
      "metadata": {
        "colab": {
          "base_uri": "https://localhost:8080/"
        },
        "id": "ZDYtMic0p9Ti",
        "executionInfo": {
          "status": "ok",
          "timestamp": 1622785243105,
          "user_tz": 300,
          "elapsed": 4751,
          "user": {
            "displayName": "Gabriel Ceron Viveros",
            "photoUrl": "https://lh3.googleusercontent.com/a-/AOh14GhKuFxADeoNbpXSp3yfCRgm_vy86e4Q9hPd4K7flA=s64",
            "userId": "03642710981534596372"
          }
        },
        "outputId": "a4f070fc-a5a8-4234-ca0a-5230bc1116ae"
      }
    },
    {
      "cell_type": "code",
      "execution_count": null,
      "source": [
        "#Function to test a given model\n",
        "def testM(model):\n",
        "    global best_acc\n",
        "    #model.eval()\n",
        "    test_loss = 0\n",
        "    correct = 0\n",
        "    total = 0\n",
        "    with torch.no_grad():\n",
        "        for batch_idx, (inputs, targets) in enumerate(testloader):\n",
        "            inputs, targets = inputs.to(device), targets.to(device)\n",
        "            outputs = model(inputs)\n",
        "            loss = criterion(outputs, targets)\n",
        "\n",
        "            test_loss += loss.item()\n",
        "            _, predicted = outputs.max(1)\n",
        "            total += targets.size(0)\n",
        "            correct += predicted.eq(targets).sum().item()\n",
        "\n",
        "        print('Loss: %.3f | Acc: %.3f%% (%d/%d)'%(test_loss/(batch_idx+1), 100.*correct/total, correct, total))\n",
        "        return correct/total\n"
      ],
      "outputs": [],
      "metadata": {
        "id": "aqubxZGGyKKI"
      }
    },
    {
      "cell_type": "code",
      "execution_count": null,
      "source": [
        "#Function to test a model with mixed presision (amp). however not giving big time improvements, at least in testing\n",
        "def testMamp(model):\n",
        "    global best_acc\n",
        "    #model.eval()\n",
        "    test_loss = 0\n",
        "    correct = 0\n",
        "    total = 0\n",
        "    with torch.no_grad():\n",
        "        for batch_idx, (inputs, targets) in enumerate(testloader):\n",
        "            with torch.cuda.amp.autocast():\n",
        "              inputs, targets = inputs.to(device), targets.to(device)\n",
        "              outputs = model(inputs)\n",
        "              loss = criterion(outputs, targets)\n",
        "\n",
        "            test_loss += loss.item()\n",
        "            _, predicted = outputs.max(1)\n",
        "            total += targets.size(0)\n",
        "            correct += predicted.eq(targets).sum().item()\n",
        "\n",
        "        print('Loss: %.3f | Acc: %.3f%% (%d/%d)'%(test_loss/(batch_idx+1), 100.*correct/total, correct, total))\n",
        "        return correct/total"
      ],
      "outputs": [],
      "metadata": {
        "id": "t-rE4yddlAx5"
      }
    },
    {
      "cell_type": "code",
      "execution_count": null,
      "source": [
        "test()"
      ],
      "outputs": [
        {
          "output_type": "stream",
          "name": "stdout",
          "text": [
            " [================================================================>]  Step: 30ms | Tot: 3s969ms | Loss: 0.179 | Acc: 95.520% (9552/10000) 100/100 \n"
          ]
        }
      ],
      "metadata": {
        "colab": {
          "base_uri": "https://localhost:8080/"
        },
        "id": "6Gvz9uKPqJJK",
        "executionInfo": {
          "status": "ok",
          "timestamp": 1622770495286,
          "user_tz": 300,
          "elapsed": 4509,
          "user": {
            "displayName": "Gabriel Ceron Viveros",
            "photoUrl": "https://lh3.googleusercontent.com/a-/AOh14GhKuFxADeoNbpXSp3yfCRgm_vy86e4Q9hPd4K7flA=s64",
            "userId": "03642710981534596372"
          }
        },
        "outputId": "5a8aca9f-eb9f-4f93-e29a-fba6fa12e980"
      }
    },
    {
      "cell_type": "code",
      "execution_count": null,
      "source": [
        "testMamp(net)"
      ],
      "outputs": [
        {
          "output_type": "stream",
          "name": "stdout",
          "text": [
            "Loss: 0.179 | Acc: 95.520% (9552/10000)\n"
          ]
        },
        {
          "output_type": "execute_result",
          "data": {
            "text/plain": [
              "0.9552"
            ]
          },
          "metadata": {
            "tags": []
          },
          "execution_count": 16
        }
      ],
      "metadata": {
        "colab": {
          "base_uri": "https://localhost:8080/"
        },
        "id": "YHkCyUoRlcQa",
        "executionInfo": {
          "status": "ok",
          "timestamp": 1622786181274,
          "user_tz": 300,
          "elapsed": 2211,
          "user": {
            "displayName": "Gabriel Ceron Viveros",
            "photoUrl": "https://lh3.googleusercontent.com/a-/AOh14GhKuFxADeoNbpXSp3yfCRgm_vy86e4Q9hPd4K7flA=s64",
            "userId": "03642710981534596372"
          }
        },
        "outputId": "8bf339bf-d86f-4ff2-9d53-ac4fbe6aab18"
      }
    },
    {
      "cell_type": "code",
      "execution_count": null,
      "source": [
        "#Change test batch size\n",
        "num_batches=100\n",
        "test_batch_size=int(numpy.shape(testset.data)[0]/num_batches)\n",
        "#test_batch_size=100\n",
        "testloader = torch.utils.data.DataLoader(\n",
        "    testset, batch_size=test_batch_size, shuffle=False, num_workers=2)\n"
      ],
      "outputs": [],
      "metadata": {
        "id": "U_8Q4j35pT7z"
      }
    },
    {
      "cell_type": "code",
      "execution_count": null,
      "source": [
        "original_acc=testM(net)"
      ],
      "outputs": [
        {
          "output_type": "stream",
          "name": "stdout",
          "text": [
            "Loss: 0.179 | Acc: 95.520% (9552/10000)\n"
          ]
        }
      ],
      "metadata": {
        "id": "0q3pr8fohXoK",
        "colab": {
          "base_uri": "https://localhost:8080/"
        },
        "executionInfo": {
          "status": "ok",
          "timestamp": 1622786408761,
          "user_tz": 300,
          "elapsed": 2788,
          "user": {
            "displayName": "Gabriel Ceron Viveros",
            "photoUrl": "https://lh3.googleusercontent.com/a-/AOh14GhKuFxADeoNbpXSp3yfCRgm_vy86e4Q9hPd4K7flA=s64",
            "userId": "03642710981534596372"
          }
        },
        "outputId": "818023a4-de77-4ee9-fbe0-202a2d6b7a6b"
      }
    },
    {
      "cell_type": "code",
      "execution_count": null,
      "source": [
        "test_features, test_labels = next(iter(testloader))\n",
        "#Get num channels, width and height of input data\n",
        "c,w,h=list(test_features[0].size())\n",
        "#Batchsize, see load18.py or main.py for batch size\n",
        "num_batches=int(numpy.shape(testset.data)[0]/test_batch_size)"
      ],
      "outputs": [],
      "metadata": {
        "id": "wNS9txqFmOHa"
      }
    },
    {
      "cell_type": "code",
      "execution_count": null,
      "source": [
        "#We introduce the test batch size because we may select the batch element on which apply an injection\n",
        "pfi_model = pfi_core(net, h, w, test_batch_size, c=c,debug=True,use_cuda=True)"
      ],
      "outputs": [],
      "metadata": {
        "id": "8YJQzewSnpe4"
      }
    },
    {
      "cell_type": "code",
      "execution_count": null,
      "source": [
        "testM(pfi_model.ORIG_MODEL)"
      ],
      "outputs": [
        {
          "output_type": "stream",
          "name": "stdout",
          "text": [
            "Loss: 0.179 | Acc: 95.520% (9552/10000)\n"
          ]
        },
        {
          "output_type": "execute_result",
          "data": {
            "text/plain": [
              "0.9552"
            ]
          },
          "metadata": {
            "tags": []
          },
          "execution_count": 33
        }
      ],
      "metadata": {
        "colab": {
          "base_uri": "https://localhost:8080/"
        },
        "id": "JXPvzkW8RHwd",
        "executionInfo": {
          "status": "ok",
          "timestamp": 1622786411926,
          "user_tz": 300,
          "elapsed": 2739,
          "user": {
            "displayName": "Gabriel Ceron Viveros",
            "photoUrl": "https://lh3.googleusercontent.com/a-/AOh14GhKuFxADeoNbpXSp3yfCRgm_vy86e4Q9hPd4K7flA=s64",
            "userId": "03642710981534596372"
          }
        },
        "outputId": "5c4b03f5-2f48-4d89-8e2e-8301dc0ae0fa"
      }
    },
    {
      "cell_type": "code",
      "execution_count": null,
      "source": [
        "#Get number of neurons per layer\n",
        "outputs=pfi_model.OUTPUT_SIZE\n",
        "total_neurons=sum(numpy.prod(outputs,axis=1))\n",
        "n_per_layer=numpy.prod(outputs,axis=1)"
      ],
      "outputs": [],
      "metadata": {
        "id": "qC9QVFGpGwWs"
      }
    },
    {
      "cell_type": "code",
      "execution_count": null,
      "source": [
        "#test injection for 1 layer\n",
        "import time\n",
        "l=17\n",
        "inj_perc=0.4\n",
        "start = time.process_time()\n",
        "print(\"layer: \",l)\n",
        "n_inj=int(n_per_layer[l]*inj_perc)\n",
        "print(\"n_inj: \",n_inj)\n",
        "many_layer=manyInj.many_n_inj_layer(pfi_model=pfi_model,n_inj=n_inj,layer=l,min_val=0,max_val=0)\n",
        "print(\"testing\")\n",
        "inj_acc=testMamp(many_layer)\n",
        "print(\"testing Orig\")\n",
        "orig_acc=testMamp(pfi_model.ORIG_MODEL)\n",
        "print(\"Diff: \",orig_acc-inj_acc)\n",
        "print(\"Time in layer: \",time.process_time() - start)"
      ],
      "outputs": [
        {
          "output_type": "stream",
          "name": "stdout",
          "text": [
            "layer:  17\n",
            "n_inj:  3276\n",
            "N injections:  3276\n",
            "testing\n",
            "Loss: 0.179 | Acc: 95.520% (9552/10000)\n",
            "testing Orig\n",
            "Loss: 0.179 | Acc: 95.520% (9552/10000)\n",
            "Diff:  0.0\n",
            "Time in layer:  165.57790371\n"
          ]
        }
      ],
      "metadata": {
        "colab": {
          "base_uri": "https://localhost:8080/"
        },
        "id": "jX4UQX9ymLz8",
        "executionInfo": {
          "status": "ok",
          "timestamp": 1622786600150,
          "user_tz": 300,
          "elapsed": 166993,
          "user": {
            "displayName": "Gabriel Ceron Viveros",
            "photoUrl": "https://lh3.googleusercontent.com/a-/AOh14GhKuFxADeoNbpXSp3yfCRgm_vy86e4Q9hPd4K7flA=s64",
            "userId": "03642710981534596372"
          }
        },
        "outputId": "e2d2853f-3dd2-40ff-8c4e-85f61071747b"
      }
    },
    {
      "cell_type": "code",
      "execution_count": null,
      "source": [
        "#Do injections for every layer with a percentage of layer neurons\n",
        "import time\n",
        "inj_perc=0.4\n",
        "print(\"Injection percentage for each layer: \" ,inj_perc)\n",
        "print(\"test batch size: \", test_batch_size)\n",
        "print(\"test batch number: \", num_batches)\n",
        "inj_acc_v=[]\n",
        "orig_acc_v=[]\n",
        "times_v=[]\n",
        "for l in range(pfi_model.get_total_conv()):\n",
        "  start = time.process_time()\n",
        "  print(\"layer: \",l)\n",
        "  n_inj=int(n_per_layer[l]*inj_perc)\n",
        "  print(\"n_inj: \",n_inj)\n",
        "  many_layer=manyInj.many_n_inj_layer(pfi_model=pfi_model,n_inj=n_inj,layer=l,min_val=0,max_val=0)\n",
        "  print(\"testing\")\n",
        "  inj_acc=testM(many_layer)\n",
        "  print(\"testing Orig\")\n",
        "  orig_acc=testM(pfi_model.ORIG_MODEL)\n",
        "  print(\"Diff: \",orig_acc-inj_acc)\n",
        "  inj_acc_v.append(inj_acc)\n",
        "  orig_acc_v.append(original_acc)\n",
        "  times_v.append(time.process_time() - start)\n",
        "  print(\"Time in layer: \",time.process_time() - start)"
      ],
      "outputs": [
        {
          "output_type": "stream",
          "name": "stdout",
          "text": [
            "Injection percentage for each layer:  0.4\n",
            "test batch size:  100\n",
            "test batch number:  100\n",
            "layer:  0\n",
            "n_inj:  26214\n",
            "N injections:  26214\n",
            "testing\n",
            "Loss: 0.180 | Acc: 95.510% (9551/10000)\n",
            "testing Orig\n",
            "Loss: 0.179 | Acc: 95.520% (9552/10000)\n",
            "Diff:  0.00010000000000010001\n",
            "Time in layer:  1441.761342555\n",
            "layer:  1\n",
            "n_inj:  26214\n",
            "N injections:  26214\n",
            "testing\n",
            "Loss: 0.180 | Acc: 95.480% (9548/10000)\n",
            "testing Orig\n",
            "Loss: 0.179 | Acc: 95.520% (9552/10000)\n",
            "Diff:  0.00040000000000006697\n",
            "Time in layer:  1444.881089298\n",
            "layer:  2\n",
            "n_inj:  26214\n",
            "N injections:  26214\n",
            "testing\n",
            "Loss: 0.179 | Acc: 95.520% (9552/10000)\n",
            "testing Orig\n",
            "Loss: 0.179 | Acc: 95.520% (9552/10000)\n",
            "Diff:  0.0\n",
            "Time in layer:  1438.5011066560005\n",
            "layer:  3\n",
            "n_inj:  26214\n",
            "N injections:  26214\n",
            "testing\n",
            "Loss: 0.179 | Acc: 95.510% (9551/10000)\n",
            "testing Orig\n",
            "Loss: 0.179 | Acc: 95.520% (9552/10000)\n",
            "Diff:  0.00010000000000010001\n",
            "Time in layer:  1439.4414176700002\n",
            "layer:  4\n",
            "n_inj:  26214\n",
            "N injections:  26214\n",
            "testing\n",
            "Loss: 0.179 | Acc: 95.510% (9551/10000)\n",
            "testing Orig\n",
            "Loss: 0.179 | Acc: 95.520% (9552/10000)\n",
            "Diff:  0.00010000000000010001\n",
            "Time in layer:  1442.277824279\n",
            "layer:  5\n",
            "n_inj:  13107\n",
            "N injections:  13107\n",
            "testing\n",
            "Loss: 0.179 | Acc: 95.490% (9549/10000)\n",
            "testing Orig\n",
            "Loss: 0.179 | Acc: 95.520% (9552/10000)\n",
            "Diff:  0.000300000000000078\n",
            "Time in layer:  723.2169932139996\n",
            "layer:  6\n",
            "n_inj:  13107\n",
            "N injections:  13107\n",
            "testing\n",
            "Loss: 0.179 | Acc: 95.510% (9551/10000)\n",
            "testing Orig\n",
            "Loss: 0.179 | Acc: 95.520% (9552/10000)\n",
            "Diff:  0.00010000000000010001\n",
            "Time in layer:  727.5016198499989\n",
            "layer:  7\n",
            "n_inj:  13107\n",
            "N injections:  13107\n",
            "testing\n",
            "Loss: 0.179 | Acc: 95.510% (9551/10000)\n",
            "testing Orig\n",
            "Loss: 0.179 | Acc: 95.520% (9552/10000)\n",
            "Diff:  0.00010000000000010001\n",
            "Time in layer:  713.991689696999\n",
            "layer:  8\n",
            "n_inj:  13107\n",
            "N injections:  13107\n",
            "testing\n",
            "Loss: 0.179 | Acc: 95.520% (9552/10000)\n",
            "testing Orig\n",
            "Loss: 0.179 | Acc: 95.520% (9552/10000)\n",
            "Diff:  0.0\n",
            "Time in layer:  717.5370558420018\n",
            "layer:  9\n",
            "n_inj:  13107\n",
            "N injections:  13107\n",
            "testing\n",
            "Loss: 0.179 | Acc: 95.520% (9552/10000)\n",
            "testing Orig\n",
            "Loss: 0.179 | Acc: 95.520% (9552/10000)\n",
            "Diff:  0.0\n",
            "Time in layer:  719.1881029439992\n",
            "layer:  10\n",
            "n_inj:  6553\n",
            "N injections:  6553\n",
            "testing\n",
            "Loss: 0.179 | Acc: 95.500% (9550/10000)\n",
            "testing Orig\n",
            "Loss: 0.179 | Acc: 95.520% (9552/10000)\n",
            "Diff:  0.000200000000000089\n",
            "Time in layer:  363.54033856800015\n",
            "layer:  11\n",
            "n_inj:  6553\n",
            "N injections:  6553\n",
            "testing\n",
            "Loss: 0.179 | Acc: 95.530% (9553/10000)\n",
            "testing Orig\n",
            "Loss: 0.179 | Acc: 95.520% (9552/10000)\n",
            "Diff:  -9.999999999998899e-05\n",
            "Time in layer:  361.1591963310002\n",
            "layer:  12\n",
            "n_inj:  6553\n",
            "N injections:  6553\n",
            "testing\n",
            "Loss: 0.179 | Acc: 95.520% (9552/10000)\n",
            "testing Orig\n",
            "Loss: 0.179 | Acc: 95.520% (9552/10000)\n",
            "Diff:  0.0\n",
            "Time in layer:  361.96906375100116\n",
            "layer:  13\n",
            "n_inj:  6553\n",
            "N injections:  6553\n",
            "testing\n",
            "Loss: 0.179 | Acc: 95.540% (9554/10000)\n",
            "testing Orig\n",
            "Loss: 0.179 | Acc: 95.520% (9552/10000)\n",
            "Diff:  -0.00019999999999997797\n",
            "Time in layer:  362.2435036320003\n",
            "layer:  14\n",
            "n_inj:  6553\n",
            "N injections:  6553\n",
            "testing\n",
            "Loss: 0.179 | Acc: 95.510% (9551/10000)\n",
            "testing Orig\n",
            "Loss: 0.179 | Acc: 95.520% (9552/10000)\n",
            "Diff:  0.00010000000000010001\n",
            "Time in layer:  357.521316538001\n",
            "layer:  15\n",
            "n_inj:  3276\n",
            "N injections:  3276\n",
            "testing\n",
            "Loss: 0.179 | Acc: 95.520% (9552/10000)\n",
            "testing Orig\n",
            "Loss: 0.179 | Acc: 95.520% (9552/10000)\n",
            "Diff:  0.0\n",
            "Time in layer:  179.70770772800097\n",
            "layer:  16\n",
            "n_inj:  3276\n",
            "N injections:  3276\n",
            "testing\n",
            "Loss: 0.179 | Acc: 95.530% (9553/10000)\n",
            "testing Orig\n",
            "Loss: 0.179 | Acc: 95.520% (9552/10000)\n",
            "Diff:  -9.999999999998899e-05\n",
            "Time in layer:  179.2883879150013\n",
            "layer:  17\n",
            "n_inj:  3276\n",
            "N injections:  3276\n",
            "testing\n",
            "Loss: 0.179 | Acc: 95.520% (9552/10000)\n",
            "testing Orig\n",
            "Loss: 0.179 | Acc: 95.520% (9552/10000)\n",
            "Diff:  0.0\n",
            "Time in layer:  179.04081917300027\n",
            "layer:  18\n",
            "n_inj:  3276\n",
            "N injections:  3276\n",
            "testing\n",
            "Loss: 0.179 | Acc: 95.520% (9552/10000)\n",
            "testing Orig\n",
            "Loss: 0.179 | Acc: 95.520% (9552/10000)\n",
            "Diff:  0.0\n",
            "Time in layer:  180.1289586189996\n",
            "layer:  19\n",
            "n_inj:  3276\n",
            "N injections:  3276\n",
            "testing\n"
          ]
        }
      ],
      "metadata": {
        "colab": {
          "base_uri": "https://localhost:8080/"
        },
        "id": "UfzXW95sbvzC",
        "outputId": "25c5077c-774b-42af-9af3-472b4ee6e067"
      }
    },
    {
      "cell_type": "code",
      "execution_count": null,
      "source": [
        "!mkdir -p results/40"
      ],
      "outputs": [],
      "metadata": {
        "id": "sa_eijhH8geG"
      }
    },
    {
      "cell_type": "code",
      "execution_count": null,
      "source": [
        "#Save results\n",
        "import json\n",
        "with open(\"./results/40/\"+\"inj_acc_v.json\", 'w') as fh:\n",
        "  json.dump(inj_acc_v,fh)\n",
        "with open(\"results/40/\"+\"orig_acc_v.json\", 'w') as fh:\n",
        "  json.dump(orig_acc_v,fh)\n",
        "with open(\"results/40/\"+\"times_v.json\", 'w') as fh:\n",
        "  json.dump(times_v,fh)"
      ],
      "outputs": [
        {
          "output_type": "error",
          "ename": "NameError",
          "evalue": "ignored",
          "traceback": [
            "\u001b[0;31m---------------------------------------------------------------------------\u001b[0m",
            "\u001b[0;31mNameError\u001b[0m                                 Traceback (most recent call last)",
            "\u001b[0;32m<ipython-input-2-91d899866aab>\u001b[0m in \u001b[0;36m<module>\u001b[0;34m()\u001b[0m\n\u001b[1;32m      1\u001b[0m \u001b[0;32mimport\u001b[0m \u001b[0mjson\u001b[0m\u001b[0;34m\u001b[0m\u001b[0;34m\u001b[0m\u001b[0m\n\u001b[1;32m      2\u001b[0m \u001b[0;32mwith\u001b[0m \u001b[0mopen\u001b[0m\u001b[0;34m(\u001b[0m\u001b[0;34m\"./results/40/\"\u001b[0m\u001b[0;34m+\u001b[0m\u001b[0;34m\"inj_acc_v.json\"\u001b[0m\u001b[0;34m,\u001b[0m \u001b[0;34m'w'\u001b[0m\u001b[0;34m)\u001b[0m \u001b[0;32mas\u001b[0m \u001b[0mfh\u001b[0m\u001b[0;34m:\u001b[0m\u001b[0;34m\u001b[0m\u001b[0;34m\u001b[0m\u001b[0m\n\u001b[0;32m----> 3\u001b[0;31m   \u001b[0mjson\u001b[0m\u001b[0;34m.\u001b[0m\u001b[0mdump\u001b[0m\u001b[0;34m(\u001b[0m\u001b[0minj_acc_v\u001b[0m\u001b[0;34m,\u001b[0m\u001b[0mfh\u001b[0m\u001b[0;34m)\u001b[0m\u001b[0;34m\u001b[0m\u001b[0;34m\u001b[0m\u001b[0m\n\u001b[0m\u001b[1;32m      4\u001b[0m \u001b[0;32mwith\u001b[0m \u001b[0mopen\u001b[0m\u001b[0;34m(\u001b[0m\u001b[0;34m\"results/40/\"\u001b[0m\u001b[0;34m+\u001b[0m\u001b[0;34m\"orig_acc_v.json\"\u001b[0m\u001b[0;34m,\u001b[0m \u001b[0;34m'w'\u001b[0m\u001b[0;34m)\u001b[0m \u001b[0;32mas\u001b[0m \u001b[0mfh\u001b[0m\u001b[0;34m:\u001b[0m\u001b[0;34m\u001b[0m\u001b[0;34m\u001b[0m\u001b[0m\n\u001b[1;32m      5\u001b[0m   \u001b[0mjson\u001b[0m\u001b[0;34m.\u001b[0m\u001b[0mdump\u001b[0m\u001b[0;34m(\u001b[0m\u001b[0morig_acc_v\u001b[0m\u001b[0;34m,\u001b[0m\u001b[0mfh\u001b[0m\u001b[0;34m)\u001b[0m\u001b[0;34m\u001b[0m\u001b[0;34m\u001b[0m\u001b[0m\n",
            "\u001b[0;31mNameError\u001b[0m: name 'inj_acc_v' is not defined"
          ]
        }
      ],
      "metadata": {
        "id": "oGGYB488CKjd",
        "colab": {
          "base_uri": "https://localhost:8080/",
          "height": 231
        },
        "executionInfo": {
          "status": "error",
          "timestamp": 1622784105325,
          "user_tz": 300,
          "elapsed": 8,
          "user": {
            "displayName": "Gabriel Ceron Viveros",
            "photoUrl": "https://lh3.googleusercontent.com/a-/AOh14GhKuFxADeoNbpXSp3yfCRgm_vy86e4Q9hPd4K7flA=s64",
            "userId": "03642710981534596372"
          }
        },
        "outputId": "2914dd7b-a9d9-47bc-b19a-866e81296708"
      }
    },
    {
      "cell_type": "code",
      "execution_count": null,
      "source": [
        "import json\n",
        "with open(\"./results/20/inj_acc_v.json\", 'r') as fh:\n",
        "  inj_acc=json.load(fh)\n",
        "with open(\"results/20/orig_acc_v.json\", 'r') as fh:\n",
        "  orig_acc=json.load(fh)"
      ],
      "outputs": [],
      "metadata": {
        "id": "N7BcB7cqDPDc"
      }
    },
    {
      "cell_type": "code",
      "execution_count": null,
      "source": [
        "import numpy\n",
        "numpy.mean(numpy.array(orig_acc) - numpy.array(inj_acc))"
      ],
      "outputs": [
        {
          "output_type": "execute_result",
          "data": {
            "text/plain": [
              "1.5000000000037205e-05"
            ]
          },
          "metadata": {
            "tags": []
          },
          "execution_count": 15
        }
      ],
      "metadata": {
        "colab": {
          "base_uri": "https://localhost:8080/"
        },
        "id": "WFHGa8KHEMKr",
        "executionInfo": {
          "status": "ok",
          "timestamp": 1623079385915,
          "user_tz": 300,
          "elapsed": 219,
          "user": {
            "displayName": "Gabriel Ceron Viveros",
            "photoUrl": "https://lh3.googleusercontent.com/a-/AOh14GhKuFxADeoNbpXSp3yfCRgm_vy86e4Q9hPd4K7flA=s64",
            "userId": "03642710981534596372"
          }
        },
        "outputId": "f84b9173-b325-48d3-bd7d-f71912f8cf02"
      }
    },
    {
      "cell_type": "markdown",
      "source": [
        "#Other tests"
      ],
      "metadata": {
        "id": "2tjwGkg2KMjv"
      }
    },
    {
      "cell_type": "code",
      "execution_count": null,
      "source": [],
      "outputs": [],
      "metadata": {
        "id": "jk-yduEwDiJD"
      }
    },
    {
      "cell_type": "code",
      "execution_count": null,
      "source": [
        "\n",
        "import decimal\n",
        "from numpy import asarray\n",
        "from numpy import savetxt\n",
        "from numpy import save\n",
        "# define data\n",
        "data = asarray([[decimal.Decimal(1),[decimal.Decimal(1),decimal.Decimal(1)]],[decimal.Decimal(1),[decimal.Decimal(1),decimal.Decimal(1)]]])\n",
        "# save to csv file\n",
        "save('decimal_test.npy', data)"
      ],
      "outputs": [
        {
          "output_type": "stream",
          "name": "stderr",
          "text": [
            "/usr/local/lib/python3.7/dist-packages/numpy/core/_asarray.py:83: VisibleDeprecationWarning: Creating an ndarray from ragged nested sequences (which is a list-or-tuple of lists-or-tuples-or ndarrays with different lengths or shapes) is deprecated. If you meant to do this, you must specify 'dtype=object' when creating the ndarray\n",
            "  return array(a, dtype, copy=False, order=order)\n"
          ]
        }
      ],
      "metadata": {
        "colab": {
          "base_uri": "https://localhost:8080/"
        },
        "id": "jq1h34CFFVJ1",
        "executionInfo": {
          "status": "ok",
          "timestamp": 1623046738918,
          "user_tz": 300,
          "elapsed": 267,
          "user": {
            "displayName": "Gabriel Ceron Viveros",
            "photoUrl": "https://lh3.googleusercontent.com/a-/AOh14GhKuFxADeoNbpXSp3yfCRgm_vy86e4Q9hPd4K7flA=s64",
            "userId": "03642710981534596372"
          }
        },
        "outputId": "3684218c-bf5f-4db4-f8e3-3bf1814b714a"
      }
    },
    {
      "cell_type": "code",
      "execution_count": null,
      "source": [
        "# load numpy array from npy file\n",
        "from numpy import load\n",
        "# load array\n",
        "data = load('decimal_test.npy',allow_pickle=True)\n",
        "# print the array\n",
        "data"
      ],
      "outputs": [
        {
          "output_type": "execute_result",
          "data": {
            "text/plain": [
              "array([[Decimal('1'), list([Decimal('1'), Decimal('1')])],\n",
              "       [Decimal('1'), list([Decimal('1'), Decimal('1')])]], dtype=object)"
            ]
          },
          "metadata": {
            "tags": []
          },
          "execution_count": 12
        }
      ],
      "metadata": {
        "colab": {
          "base_uri": "https://localhost:8080/"
        },
        "id": "ZteUaVgwHF2W",
        "executionInfo": {
          "status": "ok",
          "timestamp": 1623046932279,
          "user_tz": 300,
          "elapsed": 261,
          "user": {
            "displayName": "Gabriel Ceron Viveros",
            "photoUrl": "https://lh3.googleusercontent.com/a-/AOh14GhKuFxADeoNbpXSp3yfCRgm_vy86e4Q9hPd4K7flA=s64",
            "userId": "03642710981534596372"
          }
        },
        "outputId": "5ee72a3e-e1df-4cb6-d2ec-a1c0fea38d52"
      }
    },
    {
      "cell_type": "code",
      "execution_count": null,
      "source": [
        "data[0][1]"
      ],
      "outputs": [
        {
          "output_type": "execute_result",
          "data": {
            "text/plain": [
              "[Decimal('1'), Decimal('1')]"
            ]
          },
          "metadata": {
            "tags": []
          },
          "execution_count": 13
        }
      ],
      "metadata": {
        "id": "-dY_6ZX-Itg6",
        "colab": {
          "base_uri": "https://localhost:8080/"
        },
        "executionInfo": {
          "status": "ok",
          "timestamp": 1623046950874,
          "user_tz": 300,
          "elapsed": 250,
          "user": {
            "displayName": "Gabriel Ceron Viveros",
            "photoUrl": "https://lh3.googleusercontent.com/a-/AOh14GhKuFxADeoNbpXSp3yfCRgm_vy86e4Q9hPd4K7flA=s64",
            "userId": "03642710981534596372"
          }
        },
        "outputId": "4cbe6cf8-f04f-4345-e599-7e8f7a843a70"
      }
    },
    {
      "cell_type": "code",
      "execution_count": null,
      "source": [
        "\n",
        "many_layer=manyInj.many_n_inj_layer(pfi_model=pfi_model,n_inj=n_inj,layer=layer,min_val=0,max_val=0)"
      ],
      "outputs": [
        {
          "output_type": "stream",
          "name": "stdout",
          "text": [
            "N injections:  13107\n"
          ]
        }
      ],
      "metadata": {
        "colab": {
          "base_uri": "https://localhost:8080/"
        },
        "id": "kP-uljC8K5qM",
        "executionInfo": {
          "status": "ok",
          "timestamp": 1622679824350,
          "user_tz": 300,
          "elapsed": 7609,
          "user": {
            "displayName": "Gabriel Ceron Viveros",
            "photoUrl": "https://lh3.googleusercontent.com/a-/AOh14GhKuFxADeoNbpXSp3yfCRgm_vy86e4Q9hPd4K7flA=s64",
            "userId": "03642710981534596372"
          }
        },
        "outputId": "fa38df94-7405-447e-f1ab-942e387f3f5d"
      }
    },
    {
      "cell_type": "code",
      "execution_count": null,
      "source": [
        "len(pfi_model.CORRUPT_CONV)"
      ],
      "outputs": [
        {
          "output_type": "execute_result",
          "data": {
            "text/plain": [
              "1310700"
            ]
          },
          "metadata": {
            "tags": []
          },
          "execution_count": 112
        }
      ],
      "metadata": {
        "colab": {
          "base_uri": "https://localhost:8080/"
        },
        "id": "mYGbuSr6t0yU",
        "executionInfo": {
          "status": "ok",
          "timestamp": 1622679824352,
          "user_tz": 300,
          "elapsed": 29,
          "user": {
            "displayName": "Gabriel Ceron Viveros",
            "photoUrl": "https://lh3.googleusercontent.com/a-/AOh14GhKuFxADeoNbpXSp3yfCRgm_vy86e4Q9hPd4K7flA=s64",
            "userId": "03642710981534596372"
          }
        },
        "outputId": "8403880b-656e-43f5-d679-a194912f98f3"
      }
    },
    {
      "cell_type": "code",
      "execution_count": null,
      "source": [
        "inj_acc=testM(many_layer)"
      ],
      "outputs": [
        {
          "output_type": "stream",
          "name": "stdout",
          "text": [
            "Loss: 0.238 | Acc: 93.570% (9357/10000)\n"
          ]
        }
      ],
      "metadata": {
        "colab": {
          "base_uri": "https://localhost:8080/"
        },
        "id": "t1SYI1tChNzp",
        "executionInfo": {
          "status": "ok",
          "timestamp": 1622679950888,
          "user_tz": 300,
          "elapsed": 123796,
          "user": {
            "displayName": "Gabriel Ceron Viveros",
            "photoUrl": "https://lh3.googleusercontent.com/a-/AOh14GhKuFxADeoNbpXSp3yfCRgm_vy86e4Q9hPd4K7flA=s64",
            "userId": "03642710981534596372"
          }
        },
        "outputId": "ad89fa45-ad89-426f-ffc0-b51a66f8d76a"
      }
    },
    {
      "cell_type": "code",
      "execution_count": null,
      "source": [],
      "outputs": [
        {
          "output_type": "execute_result",
          "data": {
            "text/plain": [
              "1000"
            ]
          },
          "metadata": {
            "tags": []
          },
          "execution_count": 103
        }
      ],
      "metadata": {
        "colab": {
          "base_uri": "https://localhost:8080/"
        },
        "id": "WAwAW4UQP5v-",
        "executionInfo": {
          "status": "ok",
          "timestamp": 1622679729553,
          "user_tz": 300,
          "elapsed": 247,
          "user": {
            "displayName": "Gabriel Ceron Viveros",
            "photoUrl": "https://lh3.googleusercontent.com/a-/AOh14GhKuFxADeoNbpXSp3yfCRgm_vy86e4Q9hPd4K7flA=s64",
            "userId": "03642710981534596372"
          }
        },
        "outputId": "1f547a1c-3a09-44ad-9e82-a709c66bda4b"
      }
    },
    {
      "cell_type": "code",
      "execution_count": null,
      "source": [
        "t = torch.cuda.get_device_properties(0).total_memory\n",
        "r = torch.cuda.memory_reserved(0) \n",
        "a = torch.cuda.memory_allocated(0)\n",
        "f = r-a  # free inside reserved"
      ],
      "outputs": [],
      "metadata": {
        "id": "gej7kbSP08Wi"
      }
    },
    {
      "cell_type": "code",
      "execution_count": null,
      "source": [
        "torch.cuda.empty_cache()"
      ],
      "outputs": [],
      "metadata": {
        "id": "FDTrooRm3ogc"
      }
    },
    {
      "cell_type": "code",
      "execution_count": null,
      "source": [
        "test_batch_size"
      ],
      "outputs": [
        {
          "output_type": "execute_result",
          "data": {
            "text/plain": [
              "1000"
            ]
          },
          "metadata": {
            "tags": []
          },
          "execution_count": 91
        }
      ],
      "metadata": {
        "colab": {
          "base_uri": "https://localhost:8080/"
        },
        "id": "FEa7Fnau09xD",
        "executionInfo": {
          "status": "ok",
          "timestamp": 1622679257842,
          "user_tz": 300,
          "elapsed": 241,
          "user": {
            "displayName": "Gabriel Ceron Viveros",
            "photoUrl": "https://lh3.googleusercontent.com/a-/AOh14GhKuFxADeoNbpXSp3yfCRgm_vy86e4Q9hPd4K7flA=s64",
            "userId": "03642710981534596372"
          }
        },
        "outputId": "265b15e1-e75e-41bc-8da0-f3d85c992858"
      }
    },
    {
      "cell_type": "code",
      "execution_count": null,
      "source": [
        "rnib=random_neuron_inj_batched(pfi_model)\n",
        "rnpl=random_inj_per_layer_batched(pfi_model)"
      ],
      "outputs": [],
      "metadata": {
        "id": "uD_gsmPpx2j6"
      }
    },
    {
      "cell_type": "code",
      "execution_count": null,
      "source": [
        "testM(rnib)"
      ],
      "outputs": [
        {
          "output_type": "stream",
          "name": "stdout",
          "text": [
            "Loss: 0.179 | Acc: 95.520% (9552/10000)\n"
          ]
        }
      ],
      "metadata": {
        "colab": {
          "base_uri": "https://localhost:8080/"
        },
        "id": "ymSxI2eqyDcL",
        "executionInfo": {
          "status": "ok",
          "timestamp": 1621562167128,
          "user_tz": 300,
          "elapsed": 2681,
          "user": {
            "displayName": "Gabriel Ceron Viveros",
            "photoUrl": "https://lh3.googleusercontent.com/a-/AOh14GhKuFxADeoNbpXSp3yfCRgm_vy86e4Q9hPd4K7flA=s64",
            "userId": "03642710981534596372"
          }
        },
        "outputId": "ec55cf86-cecd-47aa-d748-34098397eb3b"
      }
    },
    {
      "cell_type": "code",
      "execution_count": null,
      "source": [
        "testM(net)"
      ],
      "outputs": [
        {
          "output_type": "stream",
          "name": "stdout",
          "text": [
            "Loss: 0.179 | Acc: 95.520% (9552/10000)\n"
          ]
        }
      ],
      "metadata": {
        "colab": {
          "base_uri": "https://localhost:8080/"
        },
        "id": "_es4YDmd0h0H",
        "executionInfo": {
          "status": "ok",
          "timestamp": 1621464595485,
          "user_tz": 300,
          "elapsed": 3295,
          "user": {
            "displayName": "Gabriel Ceron Viveros",
            "photoUrl": "https://lh3.googleusercontent.com/a-/AOh14GhKuFxADeoNbpXSp3yfCRgm_vy86e4Q9hPd4K7flA=s64",
            "userId": "03642710981534596372"
          }
        },
        "outputId": "440af7b7-d10f-43e3-e359-b6c6890fb84c"
      }
    },
    {
      "cell_type": "code",
      "execution_count": null,
      "source": [
        "testM(rnpl)"
      ],
      "outputs": [
        {
          "output_type": "stream",
          "name": "stdout",
          "text": [
            "Loss: 0.179 | Acc: 95.530% (9553/10000)\n"
          ]
        }
      ],
      "metadata": {
        "colab": {
          "base_uri": "https://localhost:8080/"
        },
        "id": "H0CTH6nY05pN",
        "executionInfo": {
          "status": "ok",
          "timestamp": 1621464697036,
          "user_tz": 300,
          "elapsed": 3774,
          "user": {
            "displayName": "Gabriel Ceron Viveros",
            "photoUrl": "https://lh3.googleusercontent.com/a-/AOh14GhKuFxADeoNbpXSp3yfCRgm_vy86e4Q9hPd4K7flA=s64",
            "userId": "03642710981534596372"
          }
        },
        "outputId": "fb769e32-08f7-49cd-afbc-9fab9dd590d5"
      }
    },
    {
      "cell_type": "code",
      "execution_count": null,
      "source": [],
      "outputs": [],
      "metadata": {
        "id": "MjEeMzGK2sJU"
      }
    },
    {
      "cell_type": "code",
      "execution_count": null,
      "source": [
        "many_model = many_n_injections(pfi_model,1000,min_val=0,max_val=0)"
      ],
      "outputs": [
        {
          "output_type": "stream",
          "name": "stdout",
          "text": [
            "N injections:  1000\n"
          ]
        }
      ],
      "metadata": {
        "colab": {
          "base_uri": "https://localhost:8080/"
        },
        "id": "gHKUBRZr3xE5",
        "executionInfo": {
          "status": "ok",
          "timestamp": 1622076424663,
          "user_tz": 300,
          "elapsed": 1477,
          "user": {
            "displayName": "Gabriel Ceron Viveros",
            "photoUrl": "https://lh3.googleusercontent.com/a-/AOh14GhKuFxADeoNbpXSp3yfCRgm_vy86e4Q9hPd4K7flA=s64",
            "userId": "03642710981534596372"
          }
        },
        "outputId": "9e6eae1f-345a-4fdb-d5fb-78a0e3c9708b"
      }
    },
    {
      "cell_type": "code",
      "execution_count": null,
      "source": [
        "testM(many_model)"
      ],
      "outputs": [
        {
          "output_type": "stream",
          "name": "stdout",
          "text": [
            "Loss: 0.563 | Acc: 81.040% (8104/10000)\n"
          ]
        }
      ],
      "metadata": {
        "colab": {
          "base_uri": "https://localhost:8080/"
        },
        "id": "xyZo0Y4G8Vev",
        "executionInfo": {
          "status": "ok",
          "timestamp": 1622076480263,
          "user_tz": 300,
          "elapsed": 52859,
          "user": {
            "displayName": "Gabriel Ceron Viveros",
            "photoUrl": "https://lh3.googleusercontent.com/a-/AOh14GhKuFxADeoNbpXSp3yfCRgm_vy86e4Q9hPd4K7flA=s64",
            "userId": "03642710981534596372"
          }
        },
        "outputId": "187867b3-e53e-4431-a83b-3b06334e5e5a"
      }
    },
    {
      "cell_type": "code",
      "execution_count": null,
      "source": [
        "#Number of neurons as for pytFI\n",
        "\n",
        "np.prod(pfi_model.OUTPUT_SIZE)\n",
        "accum=0\n",
        "for l in pfi_model.OUTPUT_SIZE:\n",
        "  accum += np.prod(l)\n",
        "  print(np.prod(l))\n",
        "accum"
      ],
      "outputs": [
        {
          "output_type": "stream",
          "name": "stdout",
          "text": [
            "16384\n",
            "4096\n",
            "4096\n",
            "4096\n",
            "4096\n",
            "2048\n",
            "2048\n",
            "2048\n",
            "2048\n",
            "2048\n",
            "1024\n",
            "1024\n",
            "1024\n",
            "1024\n",
            "1024\n",
            "512\n",
            "512\n",
            "512\n",
            "512\n",
            "512\n"
          ]
        },
        {
          "output_type": "execute_result",
          "data": {
            "text/plain": [
              "50688"
            ]
          },
          "metadata": {
            "tags": []
          },
          "execution_count": 71
        }
      ],
      "metadata": {
        "colab": {
          "base_uri": "https://localhost:8080/"
        },
        "id": "gAGILhRpC7Fz",
        "executionInfo": {
          "status": "ok",
          "timestamp": 1622089565768,
          "user_tz": 300,
          "elapsed": 254,
          "user": {
            "displayName": "Gabriel Ceron Viveros",
            "photoUrl": "https://lh3.googleusercontent.com/a-/AOh14GhKuFxADeoNbpXSp3yfCRgm_vy86e4Q9hPd4K7flA=s64",
            "userId": "03642710981534596372"
          }
        },
        "outputId": "daac90df-4cd9-45ac-b5aa-12db43fa30b8"
      }
    },
    {
      "cell_type": "code",
      "execution_count": null,
      "source": [
        "j=0\n",
        "for name, param in pfi_model.get_original_model().named_parameters():\n",
        "    if \"conv\" in name or \"downsample.0\" in name: \n",
        "      j=j+1\n",
        "      print(name,\"|\",param.size())\n"
      ],
      "outputs": [
        {
          "output_type": "stream",
          "name": "stdout",
          "text": [
            "module.conv1.weight | torch.Size([64, 3, 7, 7])\n",
            "module.layer1.0.conv1.weight | torch.Size([64, 64, 3, 3])\n",
            "module.layer1.0.conv2.weight | torch.Size([64, 64, 3, 3])\n",
            "module.layer1.1.conv1.weight | torch.Size([64, 64, 3, 3])\n",
            "module.layer1.1.conv2.weight | torch.Size([64, 64, 3, 3])\n",
            "module.layer2.0.conv1.weight | torch.Size([128, 64, 3, 3])\n",
            "module.layer2.0.conv2.weight | torch.Size([128, 128, 3, 3])\n",
            "module.layer2.0.downsample.0.weight | torch.Size([128, 64, 1, 1])\n",
            "module.layer2.1.conv1.weight | torch.Size([128, 128, 3, 3])\n",
            "module.layer2.1.conv2.weight | torch.Size([128, 128, 3, 3])\n",
            "module.layer3.0.conv1.weight | torch.Size([256, 128, 3, 3])\n",
            "module.layer3.0.conv2.weight | torch.Size([256, 256, 3, 3])\n",
            "module.layer3.0.downsample.0.weight | torch.Size([256, 128, 1, 1])\n",
            "module.layer3.1.conv1.weight | torch.Size([256, 256, 3, 3])\n",
            "module.layer3.1.conv2.weight | torch.Size([256, 256, 3, 3])\n",
            "module.layer4.0.conv1.weight | torch.Size([512, 256, 3, 3])\n",
            "module.layer4.0.conv2.weight | torch.Size([512, 512, 3, 3])\n",
            "module.layer4.0.downsample.0.weight | torch.Size([512, 256, 1, 1])\n",
            "module.layer4.1.conv1.weight | torch.Size([512, 512, 3, 3])\n",
            "module.layer4.1.conv2.weight | torch.Size([512, 512, 3, 3])\n"
          ]
        }
      ],
      "metadata": {
        "colab": {
          "base_uri": "https://localhost:8080/"
        },
        "id": "UrDRFHoATOBd",
        "executionInfo": {
          "status": "ok",
          "timestamp": 1622088407933,
          "user_tz": 300,
          "elapsed": 354,
          "user": {
            "displayName": "Gabriel Ceron Viveros",
            "photoUrl": "https://lh3.googleusercontent.com/a-/AOh14GhKuFxADeoNbpXSp3yfCRgm_vy86e4Q9hPd4K7flA=s64",
            "userId": "03642710981534596372"
          }
        },
        "outputId": "8fa1c9c1-650c-4dc9-bb07-aace6f45de32"
      }
    },
    {
      "cell_type": "code",
      "execution_count": null,
      "source": [
        "list(pfi_model.ORIG_MODEL.modules())"
      ],
      "outputs": [
        {
          "output_type": "error",
          "ename": "NameError",
          "evalue": "ignored",
          "traceback": [
            "\u001b[0;31m---------------------------------------------------------------------------\u001b[0m",
            "\u001b[0;31mNameError\u001b[0m                                 Traceback (most recent call last)",
            "\u001b[0;32m<ipython-input-18-04c078bec842>\u001b[0m in \u001b[0;36m<module>\u001b[0;34m()\u001b[0m\n\u001b[0;32m----> 1\u001b[0;31m \u001b[0mlist\u001b[0m\u001b[0;34m(\u001b[0m\u001b[0mpfi_model\u001b[0m\u001b[0;34m.\u001b[0m\u001b[0mORIG_MODEL\u001b[0m\u001b[0;34m.\u001b[0m\u001b[0mmodules\u001b[0m\u001b[0;34m(\u001b[0m\u001b[0;34m)\u001b[0m\u001b[0;34m)\u001b[0m\u001b[0;34m\u001b[0m\u001b[0;34m\u001b[0m\u001b[0m\n\u001b[0m",
            "\u001b[0;31mNameError\u001b[0m: name 'pfi_model' is not defined"
          ]
        }
      ],
      "metadata": {
        "colab": {
          "base_uri": "https://localhost:8080/",
          "height": 163
        },
        "id": "xpcrYdkFYHTM",
        "executionInfo": {
          "status": "error",
          "timestamp": 1622085777750,
          "user_tz": 300,
          "elapsed": 267,
          "user": {
            "displayName": "Gabriel Ceron Viveros",
            "photoUrl": "https://lh3.googleusercontent.com/a-/AOh14GhKuFxADeoNbpXSp3yfCRgm_vy86e4Q9hPd4K7flA=s64",
            "userId": "03642710981534596372"
          }
        },
        "outputId": "b381ba5b-bba3-434f-ae0b-099b074e725e"
      }
    },
    {
      "cell_type": "code",
      "execution_count": null,
      "source": [
        "pfi_model.get_original_model()"
      ],
      "outputs": [
        {
          "output_type": "execute_result",
          "data": {
            "text/plain": [
              "DataParallel(\n",
              "  (module): ResNet(\n",
              "    (conv1): Conv2d(3, 64, kernel_size=(7, 7), stride=(2, 2), padding=(3, 3), bias=False)\n",
              "    (bn1): BatchNorm2d(64, eps=1e-05, momentum=0.1, affine=True, track_running_stats=True)\n",
              "    (relu): ReLU(inplace=True)\n",
              "    (maxpool): MaxPool2d(kernel_size=3, stride=2, padding=1, dilation=1, ceil_mode=False)\n",
              "    (layer1): Sequential(\n",
              "      (0): BasicBlock(\n",
              "        (conv1): Conv2d(64, 64, kernel_size=(3, 3), stride=(1, 1), padding=(1, 1), bias=False)\n",
              "        (bn1): BatchNorm2d(64, eps=1e-05, momentum=0.1, affine=True, track_running_stats=True)\n",
              "        (relu): ReLU(inplace=True)\n",
              "        (conv2): Conv2d(64, 64, kernel_size=(3, 3), stride=(1, 1), padding=(1, 1), bias=False)\n",
              "        (bn2): BatchNorm2d(64, eps=1e-05, momentum=0.1, affine=True, track_running_stats=True)\n",
              "      )\n",
              "      (1): BasicBlock(\n",
              "        (conv1): Conv2d(64, 64, kernel_size=(3, 3), stride=(1, 1), padding=(1, 1), bias=False)\n",
              "        (bn1): BatchNorm2d(64, eps=1e-05, momentum=0.1, affine=True, track_running_stats=True)\n",
              "        (relu): ReLU(inplace=True)\n",
              "        (conv2): Conv2d(64, 64, kernel_size=(3, 3), stride=(1, 1), padding=(1, 1), bias=False)\n",
              "        (bn2): BatchNorm2d(64, eps=1e-05, momentum=0.1, affine=True, track_running_stats=True)\n",
              "      )\n",
              "    )\n",
              "    (layer2): Sequential(\n",
              "      (0): BasicBlock(\n",
              "        (conv1): Conv2d(64, 128, kernel_size=(3, 3), stride=(2, 2), padding=(1, 1), bias=False)\n",
              "        (bn1): BatchNorm2d(128, eps=1e-05, momentum=0.1, affine=True, track_running_stats=True)\n",
              "        (relu): ReLU(inplace=True)\n",
              "        (conv2): Conv2d(128, 128, kernel_size=(3, 3), stride=(1, 1), padding=(1, 1), bias=False)\n",
              "        (bn2): BatchNorm2d(128, eps=1e-05, momentum=0.1, affine=True, track_running_stats=True)\n",
              "        (downsample): Sequential(\n",
              "          (0): Conv2d(64, 128, kernel_size=(1, 1), stride=(2, 2), bias=False)\n",
              "          (1): BatchNorm2d(128, eps=1e-05, momentum=0.1, affine=True, track_running_stats=True)\n",
              "        )\n",
              "      )\n",
              "      (1): BasicBlock(\n",
              "        (conv1): Conv2d(128, 128, kernel_size=(3, 3), stride=(1, 1), padding=(1, 1), bias=False)\n",
              "        (bn1): BatchNorm2d(128, eps=1e-05, momentum=0.1, affine=True, track_running_stats=True)\n",
              "        (relu): ReLU(inplace=True)\n",
              "        (conv2): Conv2d(128, 128, kernel_size=(3, 3), stride=(1, 1), padding=(1, 1), bias=False)\n",
              "        (bn2): BatchNorm2d(128, eps=1e-05, momentum=0.1, affine=True, track_running_stats=True)\n",
              "      )\n",
              "    )\n",
              "    (layer3): Sequential(\n",
              "      (0): BasicBlock(\n",
              "        (conv1): Conv2d(128, 256, kernel_size=(3, 3), stride=(2, 2), padding=(1, 1), bias=False)\n",
              "        (bn1): BatchNorm2d(256, eps=1e-05, momentum=0.1, affine=True, track_running_stats=True)\n",
              "        (relu): ReLU(inplace=True)\n",
              "        (conv2): Conv2d(256, 256, kernel_size=(3, 3), stride=(1, 1), padding=(1, 1), bias=False)\n",
              "        (bn2): BatchNorm2d(256, eps=1e-05, momentum=0.1, affine=True, track_running_stats=True)\n",
              "        (downsample): Sequential(\n",
              "          (0): Conv2d(128, 256, kernel_size=(1, 1), stride=(2, 2), bias=False)\n",
              "          (1): BatchNorm2d(256, eps=1e-05, momentum=0.1, affine=True, track_running_stats=True)\n",
              "        )\n",
              "      )\n",
              "      (1): BasicBlock(\n",
              "        (conv1): Conv2d(256, 256, kernel_size=(3, 3), stride=(1, 1), padding=(1, 1), bias=False)\n",
              "        (bn1): BatchNorm2d(256, eps=1e-05, momentum=0.1, affine=True, track_running_stats=True)\n",
              "        (relu): ReLU(inplace=True)\n",
              "        (conv2): Conv2d(256, 256, kernel_size=(3, 3), stride=(1, 1), padding=(1, 1), bias=False)\n",
              "        (bn2): BatchNorm2d(256, eps=1e-05, momentum=0.1, affine=True, track_running_stats=True)\n",
              "      )\n",
              "    )\n",
              "    (layer4): Sequential(\n",
              "      (0): BasicBlock(\n",
              "        (conv1): Conv2d(256, 512, kernel_size=(3, 3), stride=(2, 2), padding=(1, 1), bias=False)\n",
              "        (bn1): BatchNorm2d(512, eps=1e-05, momentum=0.1, affine=True, track_running_stats=True)\n",
              "        (relu): ReLU(inplace=True)\n",
              "        (conv2): Conv2d(512, 512, kernel_size=(3, 3), stride=(1, 1), padding=(1, 1), bias=False)\n",
              "        (bn2): BatchNorm2d(512, eps=1e-05, momentum=0.1, affine=True, track_running_stats=True)\n",
              "        (downsample): Sequential(\n",
              "          (0): Conv2d(256, 512, kernel_size=(1, 1), stride=(2, 2), bias=False)\n",
              "          (1): BatchNorm2d(512, eps=1e-05, momentum=0.1, affine=True, track_running_stats=True)\n",
              "        )\n",
              "      )\n",
              "      (1): BasicBlock(\n",
              "        (conv1): Conv2d(512, 512, kernel_size=(3, 3), stride=(1, 1), padding=(1, 1), bias=False)\n",
              "        (bn1): BatchNorm2d(512, eps=1e-05, momentum=0.1, affine=True, track_running_stats=True)\n",
              "        (relu): ReLU(inplace=True)\n",
              "        (conv2): Conv2d(512, 512, kernel_size=(3, 3), stride=(1, 1), padding=(1, 1), bias=False)\n",
              "        (bn2): BatchNorm2d(512, eps=1e-05, momentum=0.1, affine=True, track_running_stats=True)\n",
              "      )\n",
              "    )\n",
              "    (avgpool): AdaptiveAvgPool2d(output_size=(1, 1))\n",
              "    (fc): Linear(in_features=512, out_features=1000, bias=True)\n",
              "  )\n",
              ")"
            ]
          },
          "metadata": {
            "tags": []
          },
          "execution_count": 54
        }
      ],
      "metadata": {
        "colab": {
          "base_uri": "https://localhost:8080/"
        },
        "id": "jTP0t7Ffp1Jg",
        "executionInfo": {
          "status": "ok",
          "timestamp": 1622086975495,
          "user_tz": 300,
          "elapsed": 253,
          "user": {
            "displayName": "Gabriel Ceron Viveros",
            "photoUrl": "https://lh3.googleusercontent.com/a-/AOh14GhKuFxADeoNbpXSp3yfCRgm_vy86e4Q9hPd4K7flA=s64",
            "userId": "03642710981534596372"
          }
        },
        "outputId": "3ea1ce50-e268-4237-c052-c3f1ea894110"
      }
    },
    {
      "cell_type": "code",
      "execution_count": null,
      "source": [
        "list(pfi_model.get_original_model().named_parameters())[0]"
      ],
      "outputs": [
        {
          "output_type": "error",
          "ename": "AttributeError",
          "evalue": "ignored",
          "traceback": [
            "\u001b[0;31m---------------------------------------------------------------------------\u001b[0m",
            "\u001b[0;31mAttributeError\u001b[0m                            Traceback (most recent call last)",
            "\u001b[0;32m<ipython-input-33-751020291272>\u001b[0m in \u001b[0;36m<module>\u001b[0;34m()\u001b[0m\n\u001b[0;32m----> 1\u001b[0;31m \u001b[0mlist\u001b[0m\u001b[0;34m(\u001b[0m\u001b[0mpfi_model\u001b[0m\u001b[0;34m.\u001b[0m\u001b[0mget_original_model\u001b[0m\u001b[0;34m(\u001b[0m\u001b[0;34m)\u001b[0m\u001b[0;34m.\u001b[0m\u001b[0mnamed_parameters\u001b[0m\u001b[0;34m(\u001b[0m\u001b[0;34m)\u001b[0m\u001b[0;34m)\u001b[0m\u001b[0;34m[\u001b[0m\u001b[0;36m0\u001b[0m\u001b[0;34m]\u001b[0m\u001b[0;34m.\u001b[0m\u001b[0mshape\u001b[0m\u001b[0;34m(\u001b[0m\u001b[0;34m)\u001b[0m\u001b[0;34m\u001b[0m\u001b[0;34m\u001b[0m\u001b[0m\n\u001b[0m",
            "\u001b[0;31mAttributeError\u001b[0m: 'tuple' object has no attribute 'shape'"
          ]
        }
      ],
      "metadata": {
        "colab": {
          "base_uri": "https://localhost:8080/",
          "height": 163
        },
        "id": "xN6o2Vggo77w",
        "executionInfo": {
          "status": "error",
          "timestamp": 1621562393949,
          "user_tz": 300,
          "elapsed": 281,
          "user": {
            "displayName": "Gabriel Ceron Viveros",
            "photoUrl": "https://lh3.googleusercontent.com/a-/AOh14GhKuFxADeoNbpXSp3yfCRgm_vy86e4Q9hPd4K7flA=s64",
            "userId": "03642710981534596372"
          }
        },
        "outputId": "f2a9d775-619b-4825-8ff5-71a270af4299"
      }
    },
    {
      "cell_type": "code",
      "execution_count": null,
      "source": [
        "random_w_model=random_weight_inj(pfi_model,10)"
      ],
      "outputs": [
        {
          "output_type": "error",
          "ename": "AssertionError",
          "evalue": "ignored",
          "traceback": [
            "\u001b[0;31m---------------------------------------------------------------------------\u001b[0m",
            "\u001b[0;31mAssertionError\u001b[0m                            Traceback (most recent call last)",
            "\u001b[0;32m<ipython-input-20-21f7f4c161d2>\u001b[0m in \u001b[0;36m<module>\u001b[0;34m()\u001b[0m\n\u001b[0;32m----> 1\u001b[0;31m \u001b[0mrandom_w_model\u001b[0m\u001b[0;34m=\u001b[0m\u001b[0mrandom_weight_inj\u001b[0m\u001b[0;34m(\u001b[0m\u001b[0mpfi_model\u001b[0m\u001b[0;34m,\u001b[0m\u001b[0;36m10\u001b[0m\u001b[0;34m)\u001b[0m\u001b[0;34m\u001b[0m\u001b[0;34m\u001b[0m\u001b[0m\n\u001b[0m",
            "\u001b[0;32m/usr/local/lib/python3.7/dist-packages/pytorchfi/errormodels.py\u001b[0m in \u001b[0;36mrandom_weight_inj\u001b[0;34m(pfi_model, corrupt_conv, min_val, max_val)\u001b[0m\n\u001b[1;32m    326\u001b[0m \u001b[0;34m\u001b[0m\u001b[0m\n\u001b[1;32m    327\u001b[0m \u001b[0;32mdef\u001b[0m \u001b[0mrandom_weight_inj\u001b[0m\u001b[0;34m(\u001b[0m\u001b[0mpfi_model\u001b[0m\u001b[0;34m,\u001b[0m \u001b[0mcorrupt_conv\u001b[0m\u001b[0;34m=\u001b[0m\u001b[0;34m-\u001b[0m\u001b[0;36m1\u001b[0m\u001b[0;34m,\u001b[0m \u001b[0mmin_val\u001b[0m\u001b[0;34m=\u001b[0m\u001b[0;34m-\u001b[0m\u001b[0;36m1\u001b[0m\u001b[0;34m,\u001b[0m \u001b[0mmax_val\u001b[0m\u001b[0;34m=\u001b[0m\u001b[0;36m1\u001b[0m\u001b[0;34m)\u001b[0m\u001b[0;34m:\u001b[0m\u001b[0;34m\u001b[0m\u001b[0;34m\u001b[0m\u001b[0m\n\u001b[0;32m--> 328\u001b[0;31m     \u001b[0;34m(\u001b[0m\u001b[0mconv\u001b[0m\u001b[0;34m,\u001b[0m \u001b[0mk\u001b[0m\u001b[0;34m,\u001b[0m \u001b[0mc_in\u001b[0m\u001b[0;34m,\u001b[0m \u001b[0mkH\u001b[0m\u001b[0;34m,\u001b[0m \u001b[0mkW\u001b[0m\u001b[0;34m)\u001b[0m \u001b[0;34m=\u001b[0m \u001b[0mrandom_weight_location\u001b[0m\u001b[0;34m(\u001b[0m\u001b[0mpfi_model\u001b[0m\u001b[0;34m,\u001b[0m \u001b[0mcorrupt_conv\u001b[0m\u001b[0;34m)\u001b[0m\u001b[0;34m\u001b[0m\u001b[0;34m\u001b[0m\u001b[0m\n\u001b[0m\u001b[1;32m    329\u001b[0m     \u001b[0mfaulty_val\u001b[0m \u001b[0;34m=\u001b[0m \u001b[0mrandom_value\u001b[0m\u001b[0;34m(\u001b[0m\u001b[0mmin_val\u001b[0m\u001b[0;34m=\u001b[0m\u001b[0mmin_val\u001b[0m\u001b[0;34m,\u001b[0m \u001b[0mmax_val\u001b[0m\u001b[0;34m=\u001b[0m\u001b[0mmax_val\u001b[0m\u001b[0;34m)\u001b[0m\u001b[0;34m\u001b[0m\u001b[0;34m\u001b[0m\u001b[0m\n\u001b[1;32m    330\u001b[0m \u001b[0;34m\u001b[0m\u001b[0m\n",
            "\u001b[0;32m/usr/local/lib/python3.7/dist-packages/pytorchfi/errormodels.py\u001b[0m in \u001b[0;36mrandom_weight_location\u001b[0;34m(pfi_model, conv)\u001b[0m\n\u001b[1;32m     46\u001b[0m             \u001b[0mcurr_layer\u001b[0m \u001b[0;34m+=\u001b[0m \u001b[0;36m1\u001b[0m\u001b[0;34m\u001b[0m\u001b[0;34m\u001b[0m\u001b[0m\n\u001b[1;32m     47\u001b[0m \u001b[0;34m\u001b[0m\u001b[0m\n\u001b[0;32m---> 48\u001b[0;31m     \u001b[0;32massert\u001b[0m \u001b[0mcurr_layer\u001b[0m \u001b[0;34m==\u001b[0m \u001b[0mpfi_model\u001b[0m\u001b[0;34m.\u001b[0m\u001b[0mget_total_conv\u001b[0m\u001b[0;34m(\u001b[0m\u001b[0;34m)\u001b[0m\u001b[0;34m\u001b[0m\u001b[0;34m\u001b[0m\u001b[0m\n\u001b[0m\u001b[1;32m     49\u001b[0m     \u001b[0;32massert\u001b[0m \u001b[0mlen\u001b[0m\u001b[0;34m(\u001b[0m\u001b[0mloc\u001b[0m\u001b[0;34m)\u001b[0m \u001b[0;34m==\u001b[0m \u001b[0;36m5\u001b[0m\u001b[0;34m\u001b[0m\u001b[0;34m\u001b[0m\u001b[0m\n\u001b[1;32m     50\u001b[0m \u001b[0;34m\u001b[0m\u001b[0m\n",
            "\u001b[0;31mAssertionError\u001b[0m: "
          ]
        }
      ],
      "metadata": {
        "colab": {
          "base_uri": "https://localhost:8080/",
          "height": 306
        },
        "id": "PvdmTTwblQQd",
        "executionInfo": {
          "status": "error",
          "timestamp": 1622075790542,
          "user_tz": 300,
          "elapsed": 255,
          "user": {
            "displayName": "Gabriel Ceron Viveros",
            "photoUrl": "https://lh3.googleusercontent.com/a-/AOh14GhKuFxADeoNbpXSp3yfCRgm_vy86e4Q9hPd4K7flA=s64",
            "userId": "03642710981534596372"
          }
        },
        "outputId": "7656921f-1d78-445b-da50-e11e6c61132e"
      }
    },
    {
      "cell_type": "code",
      "execution_count": null,
      "source": [
        "many_w_model=many_w_injections(pfi_model,100)"
      ],
      "outputs": [
        {
          "output_type": "stream",
          "name": "stdout",
          "text": [
            "N injections:  100\n"
          ]
        },
        {
          "output_type": "error",
          "ename": "AssertionError",
          "evalue": "ignored",
          "traceback": [
            "\u001b[0;31m---------------------------------------------------------------------------\u001b[0m",
            "\u001b[0;31mAssertionError\u001b[0m                            Traceback (most recent call last)",
            "\u001b[0;32m<ipython-input-16-4f36c9c283af>\u001b[0m in \u001b[0;36m<module>\u001b[0;34m()\u001b[0m\n\u001b[0;32m----> 1\u001b[0;31m \u001b[0mmany_wi_model\u001b[0m\u001b[0;34m=\u001b[0m\u001b[0mmany_w_injections\u001b[0m\u001b[0;34m(\u001b[0m\u001b[0mpfi_model\u001b[0m\u001b[0;34m,\u001b[0m\u001b[0;36m100\u001b[0m\u001b[0;34m)\u001b[0m\u001b[0;34m\u001b[0m\u001b[0;34m\u001b[0m\u001b[0m\n\u001b[0m",
            "\u001b[0;32m/content/drive/My Drive/Colab Notebooks/manyInjections.py\u001b[0m in \u001b[0;36mmany_w_injections\u001b[0;34m(pfi_model, n_inj, min_val, max_val, corrupt_conv)\u001b[0m\n\u001b[1;32m     93\u001b[0m \u001b[0;34m\u001b[0m\u001b[0m\n\u001b[1;32m     94\u001b[0m     \u001b[0;32mfor\u001b[0m \u001b[0mni\u001b[0m \u001b[0;32min\u001b[0m \u001b[0mrange\u001b[0m\u001b[0;34m(\u001b[0m\u001b[0mn_inj\u001b[0m\u001b[0;34m)\u001b[0m\u001b[0;34m:\u001b[0m\u001b[0;34m\u001b[0m\u001b[0;34m\u001b[0m\u001b[0m\n\u001b[0;32m---> 95\u001b[0;31m       \u001b[0;34m(\u001b[0m\u001b[0mconv\u001b[0m\u001b[0;34m,\u001b[0m \u001b[0mk\u001b[0m\u001b[0;34m,\u001b[0m \u001b[0mc\u001b[0m\u001b[0;34m,\u001b[0m \u001b[0mkH\u001b[0m\u001b[0;34m,\u001b[0m \u001b[0mkW\u001b[0m\u001b[0;34m)\u001b[0m \u001b[0;34m=\u001b[0m \u001b[0mrandom_weight_location\u001b[0m\u001b[0;34m(\u001b[0m\u001b[0mpfi_model\u001b[0m\u001b[0;34m,\u001b[0m \u001b[0mcorrupt_conv\u001b[0m\u001b[0;34m)\u001b[0m\u001b[0;34m\u001b[0m\u001b[0;34m\u001b[0m\u001b[0m\n\u001b[0m\u001b[1;32m     96\u001b[0m       \u001b[0mfaulty_val\u001b[0m \u001b[0;34m=\u001b[0m \u001b[0mrandom_value\u001b[0m\u001b[0;34m(\u001b[0m\u001b[0mmin_val\u001b[0m\u001b[0;34m=\u001b[0m\u001b[0mmin_val\u001b[0m\u001b[0;34m,\u001b[0m \u001b[0mmax_val\u001b[0m\u001b[0;34m=\u001b[0m\u001b[0mmax_val\u001b[0m\u001b[0;34m)\u001b[0m\u001b[0;34m\u001b[0m\u001b[0;34m\u001b[0m\u001b[0m\n\u001b[1;32m     97\u001b[0m \u001b[0;34m\u001b[0m\u001b[0m\n",
            "\u001b[0;32m/content/drive/My Drive/Colab Notebooks/manyInjections.py\u001b[0m in \u001b[0;36mrandom_weight_location\u001b[0;34m(pfi_model, conv)\u001b[0m\n\u001b[1;32m     43\u001b[0m             \u001b[0mcurr_layer\u001b[0m \u001b[0;34m+=\u001b[0m \u001b[0;36m1\u001b[0m\u001b[0;34m\u001b[0m\u001b[0;34m\u001b[0m\u001b[0m\n\u001b[1;32m     44\u001b[0m \u001b[0;34m\u001b[0m\u001b[0m\n\u001b[0;32m---> 45\u001b[0;31m     \u001b[0;32massert\u001b[0m \u001b[0mcurr_layer\u001b[0m \u001b[0;34m==\u001b[0m \u001b[0mpfi_model\u001b[0m\u001b[0;34m.\u001b[0m\u001b[0mget_total_conv\u001b[0m\u001b[0;34m(\u001b[0m\u001b[0;34m)\u001b[0m\u001b[0;34m\u001b[0m\u001b[0;34m\u001b[0m\u001b[0m\n\u001b[0m\u001b[1;32m     46\u001b[0m     \u001b[0;32massert\u001b[0m \u001b[0mlen\u001b[0m\u001b[0;34m(\u001b[0m\u001b[0mloc\u001b[0m\u001b[0;34m)\u001b[0m \u001b[0;34m==\u001b[0m \u001b[0;36m5\u001b[0m\u001b[0;34m\u001b[0m\u001b[0;34m\u001b[0m\u001b[0m\n\u001b[1;32m     47\u001b[0m \u001b[0;34m\u001b[0m\u001b[0m\n",
            "\u001b[0;31mAssertionError\u001b[0m: "
          ]
        }
      ],
      "metadata": {
        "colab": {
          "base_uri": "https://localhost:8080/",
          "height": 340
        },
        "id": "d7ZQCuSYfdWc",
        "executionInfo": {
          "status": "error",
          "timestamp": 1621561188568,
          "user_tz": 300,
          "elapsed": 297,
          "user": {
            "displayName": "Gabriel Ceron Viveros",
            "photoUrl": "https://lh3.googleusercontent.com/a-/AOh14GhKuFxADeoNbpXSp3yfCRgm_vy86e4Q9hPd4K7flA=s64",
            "userId": "03642710981534596372"
          }
        },
        "outputId": "8d24de49-543d-4f8b-9136-060872d8ea4e"
      }
    },
    {
      "cell_type": "code",
      "execution_count": null,
      "source": [
        "import pytorchfi\n",
        "print(pytorchfi.__file__)"
      ],
      "outputs": [
        {
          "output_type": "error",
          "ename": "ModuleNotFoundError",
          "evalue": "ignored",
          "traceback": [
            "\u001b[0;31m---------------------------------------------------------------------------\u001b[0m",
            "\u001b[0;31mModuleNotFoundError\u001b[0m                       Traceback (most recent call last)",
            "\u001b[0;32m<ipython-input-6-4f30ca588f34>\u001b[0m in \u001b[0;36m<module>\u001b[0;34m()\u001b[0m\n\u001b[0;32m----> 1\u001b[0;31m \u001b[0;32mimport\u001b[0m \u001b[0mpytorchfi\u001b[0m\u001b[0;34m\u001b[0m\u001b[0;34m\u001b[0m\u001b[0m\n\u001b[0m\u001b[1;32m      2\u001b[0m \u001b[0mprint\u001b[0m\u001b[0;34m(\u001b[0m\u001b[0mpytorchfi\u001b[0m\u001b[0;34m.\u001b[0m\u001b[0m__file__\u001b[0m\u001b[0;34m)\u001b[0m\u001b[0;34m\u001b[0m\u001b[0;34m\u001b[0m\u001b[0m\n",
            "\u001b[0;31mModuleNotFoundError\u001b[0m: No module named 'pytorchfi'",
            "",
            "\u001b[0;31m---------------------------------------------------------------------------\u001b[0;32m\nNOTE: If your import is failing due to a missing package, you can\nmanually install dependencies using either !pip or !apt.\n\nTo view examples of installing some common dependencies, click the\n\"Open Examples\" button below.\n\u001b[0;31m---------------------------------------------------------------------------\u001b[0m\n"
          ]
        }
      ],
      "metadata": {
        "colab": {
          "base_uri": "https://localhost:8080/",
          "height": 316
        },
        "id": "PuqhVo-enOV3",
        "executionInfo": {
          "status": "error",
          "timestamp": 1622075362804,
          "user_tz": 300,
          "elapsed": 433,
          "user": {
            "displayName": "Gabriel Ceron Viveros",
            "photoUrl": "https://lh3.googleusercontent.com/a-/AOh14GhKuFxADeoNbpXSp3yfCRgm_vy86e4Q9hPd4K7flA=s64",
            "userId": "03642710981534596372"
          }
        },
        "outputId": "e96c8d1f-8a06-4c91-e976-b119a75f1e0c"
      }
    },
    {
      "cell_type": "markdown",
      "source": [
        "From here I'll try to load trained weights to default pytorch resnet18"
      ],
      "metadata": {
        "id": "YG6l50SIx28h"
      }
    },
    {
      "cell_type": "code",
      "execution_count": null,
      "source": [
        "%run load18_default.py"
      ],
      "outputs": [
        {
          "output_type": "stream",
          "name": "stdout",
          "text": [
            "Files already downloaded and verified\n"
          ]
        }
      ],
      "metadata": {
        "colab": {
          "base_uri": "https://localhost:8080/"
        },
        "id": "DkT9wq5pxzy4",
        "executionInfo": {
          "status": "ok",
          "timestamp": 1622085680704,
          "user_tz": 300,
          "elapsed": 19345,
          "user": {
            "displayName": "Gabriel Ceron Viveros",
            "photoUrl": "https://lh3.googleusercontent.com/a-/AOh14GhKuFxADeoNbpXSp3yfCRgm_vy86e4Q9hPd4K7flA=s64",
            "userId": "03642710981534596372"
          }
        },
        "outputId": "042fd4c7-37fa-42f6-8080-a5faee5d855b"
      }
    },
    {
      "cell_type": "code",
      "execution_count": null,
      "source": [
        "test()"
      ],
      "outputs": [
        {
          "output_type": "stream",
          "name": "stdout",
          "text": [
            " [================================================================>]  Step: 63ms | Tot: 3s43ms | Loss: 0.622 | Acc: 79.530% (7953/10000) 100/100 \n"
          ]
        }
      ],
      "metadata": {
        "id": "kAiCUYNd0mxN",
        "colab": {
          "base_uri": "https://localhost:8080/"
        },
        "executionInfo": {
          "status": "ok",
          "timestamp": 1622085804624,
          "user_tz": 300,
          "elapsed": 3536,
          "user": {
            "displayName": "Gabriel Ceron Viveros",
            "photoUrl": "https://lh3.googleusercontent.com/a-/AOh14GhKuFxADeoNbpXSp3yfCRgm_vy86e4Q9hPd4K7flA=s64",
            "userId": "03642710981534596372"
          }
        },
        "outputId": "2c0ae526-302f-4bc5-8c52-cfc3c75488b2"
      }
    }
  ],
  "metadata": {
    "colab": {
      "name": "neuron_injection.ipynb",
      "provenance": [],
      "collapsed_sections": [],
      "mount_file_id": "1WSLPiXC8m8VFqPxkQrg72wxwx3IjGtXU",
      "authorship_tag": "ABX9TyMxyV2qlrZLJZVLFgOg+8If"
    },
    "kernelspec": {
      "name": "python3-azureml",
      "language": "python",
      "display_name": "Python 3.6 - AzureML"
    },
    "accelerator": "GPU",
    "kernel_info": {
      "name": "python3"
    },
    "nteract": {
      "version": "nteract-front-end@1.0.0"
    },
    "language_info": {
      "name": "python",
      "version": "3.6.9",
      "mimetype": "text/x-python",
      "codemirror_mode": {
        "name": "ipython",
        "version": 3
      },
      "pygments_lexer": "ipython3",
      "nbconvert_exporter": "python",
      "file_extension": ".py"
    }
  },
  "nbformat": 4,
  "nbformat_minor": 2
}