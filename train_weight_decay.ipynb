{
  "cells": [
    {
      "cell_type": "code",
      "source": [
        "%run imports.py"
      ],
      "outputs": [
        {
          "output_type": "stream",
          "name": "stdout",
          "text": "Files already downloaded and verified\nPreparing data..\nFiles already downloaded and verified\nGPU available:  True\nOS:  linux\n"
        }
      ],
      "execution_count": 1,
      "metadata": {}
    },
    {
      "cell_type": "code",
      "source": [
        "wds=[0,5e-7,5e-5,5e-3,5e-1,50]\r\n",
        "#wds=[0]\r\n",
        "sch=\"plateau\"\r\n",
        "total_epochs=160\r\n",
        "step=40\r\n",
        "bs=128\r\n",
        "\r\n",
        "def train_prog():\r\n",
        "    for wd in wds:\r\n",
        "        print(\"Step: \" + str(wd))\r\n",
        "\r\n",
        "        name=\"bs_\"+str(bs) + \"_sch_\"+ sch + \"_wd_\" + str(wd)\r\n",
        "        save_folder=name+\"/\"+name\r\n",
        "\r\n",
        "        net=models.resnet18(num_classes=10)\r\n",
        "        criterion = nn.CrossEntropyLoss()\r\n",
        "        # Observe that all parameters are being optimized\r\n",
        "        optimizer = optim.SGD(net.parameters(), lr=0.1, momentum=0.9, weight_decay=wd)\r\n",
        "        # Decay LR by a factor of 0.1 every 7 epochs\r\n",
        "        # exp_lr_scheduler = lr_scheduler.StepLR(optimizer_ft, step_size=7, gamma=0.1)\r\n",
        "        #plateau_lr_scheduler = torch.optim.lr_scheduler.ReduceLROnPlateau(optimizer,patience=3,threshold=1e-3)\r\n",
        "        if sch==\"cosine\":\r\n",
        "            scheduler = torch.optim.lr_scheduler.CosineAnnealingLR(optimizer, T_max=150)\r\n",
        "        elif sch==\"plateau\":\r\n",
        "            scheduler = torch.optim.lr_scheduler.ReduceLROnPlateau(optimizer,patience=3,threshold=1e-3)\r\n",
        "\r\n",
        "        model_actions.progressive_train_4(net,epochs=total_epochs,step=step,tr_bs=bs,save_folder=save_folder,criterion=criterion,scheduler=scheduler)"
      ],
      "outputs": [],
      "execution_count": 5,
      "metadata": {
        "gather": {
          "logged": 1632367776561
        }
      }
    },
    {
      "cell_type": "code",
      "source": [
        "az_manage_proc.run_and_delete(log.log_time,train_prog)"
      ],
      "outputs": [
        {
          "output_type": "stream",
          "name": "stdout",
          "text": "Found existing instance, use it.\nStep: 0\nTraining\n\n\nEpoch: 1\nSaving.. epoch: 1\n\n\nEpoch: 2\nSaving.. epoch: 2\n\n\nEpoch: 3\nSaving.. epoch: 3\n\n\nEpoch: 4\nSaving.. epoch: 4\n\n\nEpoch: 5\n"
        }
      ],
      "execution_count": 6,
      "metadata": {
        "gather": {
          "logged": 1632367621302
        }
      }
    }
  ],
  "metadata": {
    "orig_nbformat": 4,
    "language_info": {
      "name": "python",
      "version": "3.6.9",
      "mimetype": "text/x-python",
      "codemirror_mode": {
        "name": "ipython",
        "version": 3
      },
      "pygments_lexer": "ipython3",
      "nbconvert_exporter": "python",
      "file_extension": ".py"
    },
    "kernelspec": {
      "name": "python3",
      "language": "python",
      "display_name": "Python 3"
    },
    "interpreter": {
      "hash": "dee0b18f5efeed97723793285cb915e0fd443adf8426f935c8cb81cf81e23c84"
    },
    "kernel_info": {
      "name": "python3"
    },
    "nteract": {
      "version": "nteract-front-end@1.0.0"
    }
  },
  "nbformat": 4,
  "nbformat_minor": 2
}