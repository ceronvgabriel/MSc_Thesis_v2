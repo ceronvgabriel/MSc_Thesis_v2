{
 "cells": [
  {
   "cell_type": "code",
   "execution_count": null,
   "source": [
    "%run imports.py"
   ],
   "outputs": [],
   "metadata": {}
  },
  {
   "cell_type": "code",
   "execution_count": null,
   "source": [
    "wds=[0,5e-7,5e-5,5e-3,5e-1,50]\r\n",
    "sch=\"plateau\"\r\n",
    "total_epochs=160\r\n",
    "step=40\r\n",
    "bs=128\r\n",
    "\r\n",
    "def train_prog():\r\n",
    "    for wd in wds:\r\n",
    "        print(\"Step: \" + str(wd))\r\n",
    "\r\n",
    "        name=\"bs_\"+str(bs) + \"_sch_\"+ sch + \"_wd_\" + str(wd)\r\n",
    "        save_folder=name+\"/\"+name\r\n",
    "\r\n",
    "        net=models.resnet18(num_classes=10)\r\n",
    "        criterion = nn.CrossEntropyLoss()\r\n",
    "        # Observe that all parameters are being optimized\r\n",
    "        optimizer = optim.SGD(net.parameters(), lr=0.1, momentum=0.9, weight_decay=wd)\r\n",
    "        # Decay LR by a factor of 0.1 every 7 epochs\r\n",
    "        # exp_lr_scheduler = lr_scheduler.StepLR(optimizer_ft, step_size=7, gamma=0.1)\r\n",
    "        #plateau_lr_scheduler = torch.optim.lr_scheduler.ReduceLROnPlateau(optimizer,patience=3,threshold=1e-3)\r\n",
    "        if sch==\"cosine\":\r\n",
    "            scheduler = torch.optim.lr_scheduler.CosineAnnealingLR(optimizer, T_max=150)\r\n",
    "        elif sch==\"plateau\":\r\n",
    "            scheduler = torch.optim.lr_scheduler.ReduceLROnPlateau(optimizer,patience=3,threshold=1e-3)\r\n",
    "\r\n",
    "        model_actions.progressive_train_4(net,epochs=total_epochs,step=step,tr_bs=bs,save_folder=save_folder,criterion=criterion,scheduler=scheduler)"
   ],
   "outputs": [],
   "metadata": {}
  },
  {
   "cell_type": "code",
   "execution_count": 6,
   "source": [
    "az_manage_proc.run_and_delete(log.log_time,train_prog)"
   ],
   "outputs": [
    {
     "output_type": "execute_result",
     "data": {
      "text/plain": [
       "'5e-05'"
      ]
     },
     "metadata": {},
     "execution_count": 6
    }
   ],
   "metadata": {}
  }
 ],
 "metadata": {
  "orig_nbformat": 4,
  "language_info": {
   "name": "python",
   "version": "3.9.1",
   "mimetype": "text/x-python",
   "codemirror_mode": {
    "name": "ipython",
    "version": 3
   },
   "pygments_lexer": "ipython3",
   "nbconvert_exporter": "python",
   "file_extension": ".py"
  },
  "kernelspec": {
   "name": "python3",
   "display_name": "Python 3.9.1 64-bit (conda)"
  },
  "interpreter": {
   "hash": "dee0b18f5efeed97723793285cb915e0fd443adf8426f935c8cb81cf81e23c84"
  }
 },
 "nbformat": 4,
 "nbformat_minor": 2
}