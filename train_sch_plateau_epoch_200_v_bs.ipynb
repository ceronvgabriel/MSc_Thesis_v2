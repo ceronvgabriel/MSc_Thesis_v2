{
 "cells": [
  {
   "cell_type": "code",
   "execution_count": 2,
   "source": [
    "%run imports.py"
   ],
   "outputs": [
    {
     "output_type": "stream",
     "name": "stdout",
     "text": [
      "Files already downloaded and verified\n",
      "Preparing data..\n",
      "Files already downloaded and verified\n",
      "GPU available:  True\n",
      "OS:  win32\n"
     ]
    }
   ],
   "metadata": {}
  },
  {
   "cell_type": "code",
   "execution_count": 3,
   "source": [
    "#bss=[64,128,256,512]\r\n",
    "bss=[32]\r\n",
    "sch=\"plateau\"\r\n",
    "total_epochs=5\r\n",
    "step=2\r\n",
    "\r\n",
    "for bs in bss:\r\n",
    "    name=\"bs_\"+str(bs) + \"_sch_\"+ sch\r\n",
    "    save_folder=name+\"/\"+name\r\n",
    "\r\n",
    "    net=models.resnet18(num_classes=10)\r\n",
    "    criterion = nn.CrossEntropyLoss()\r\n",
    "    # Observe that all parameters are being optimized\r\n",
    "    optimizer = optim.SGD(net.parameters(), lr=0.1, momentum=0.9, weight_decay=5e-4)\r\n",
    "    # Decay LR by a factor of 0.1 every 7 epochs\r\n",
    "    # exp_lr_scheduler = lr_scheduler.StepLR(optimizer_ft, step_size=7, gamma=0.1)\r\n",
    "    plateau_lr_scheduler = torch.optim.lr_scheduler.ReduceLROnPlateau(optimizer,patience=3,threshold=1e-3)\r\n",
    "    \r\n",
    "    model_actions.progressive_train_4(net,epochs=total_epochs,step=step,tr_bs=bs,save_folder=save_folder,criterion=criterion,scheduler=plateau_lr_scheduler)"
   ],
   "outputs": [
    {
     "output_type": "stream",
     "name": "stdout",
     "text": [
      "Training\n",
      "\n",
      "\n",
      "Epoch: 1\n",
      "\n",
      "Epoch: 2\n",
      "Saving.. epoch: 2\n",
      "\n",
      "\n",
      "Epoch: 3\n",
      "\n",
      "Epoch: 4\n",
      "Saving.. epoch: 4\n",
      "\n",
      "\n",
      "Epoch: 5\n"
     ]
    }
   ],
   "metadata": {}
  }
 ],
 "metadata": {
  "orig_nbformat": 4,
  "language_info": {
   "name": "python",
   "version": "3.9.1",
   "mimetype": "text/x-python",
   "codemirror_mode": {
    "name": "ipython",
    "version": 3
   },
   "pygments_lexer": "ipython3",
   "nbconvert_exporter": "python",
   "file_extension": ".py"
  },
  "kernelspec": {
   "name": "python3",
   "display_name": "Python 3.9.1 64-bit (conda)"
  },
  "interpreter": {
   "hash": "dee0b18f5efeed97723793285cb915e0fd443adf8426f935c8cb81cf81e23c84"
  }
 },
 "nbformat": 4,
 "nbformat_minor": 2
}