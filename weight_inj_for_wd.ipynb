{
  "cells": [
    {
      "cell_type": "code",
      "source": [
        "%run imports.py"
      ],
      "outputs": [
        {
          "output_type": "stream",
          "name": "stdout",
          "text": "Files already downloaded and verified\nPreparing data..\nFiles already downloaded and verified\nGPU available:  False\nOS:  linux\n"
        },
        {
          "output_type": "stream",
          "name": "stderr",
          "text": "/anaconda/envs/azureml_py36/lib/python3.6/site-packages/torch/utils/data/dataloader.py:481: UserWarning: This DataLoader will create 6 worker processes in total. Our suggested max number of worker in current system is 1, which is smaller than what this DataLoader is going to create. Please be aware that excessive worker creation might get DataLoader running slow or even freeze, lower the worker number to avoid potential slowness/freeze if necessary.\n  cpuset_checked))\n"
        }
      ],
      "execution_count": 1,
      "metadata": {}
    },
    {
      "cell_type": "code",
      "source": [
        "#Set up Test Variables:\r\n",
        "\r\n",
        "#Test batch size\r\n",
        "num_batches=100\r\n",
        "\r\n",
        "transform_test = transforms.Compose([\r\n",
        "        transforms.ToTensor(),\r\n",
        "        transforms.Normalize((0.4914, 0.4822, 0.4465), (0.2023, 0.1994, 0.2010)),\r\n",
        "    ])\r\n",
        "\r\n",
        "testset = torchvision.datasets.CIFAR10(\r\n",
        "        root='./data', train=False, download=True, transform=transform_test)\r\n",
        "\r\n",
        "test_batch_size=int(numpy.shape(testset.data)[0]/num_batches)\r\n",
        "#test_batch_size=100\r\n",
        "\r\n",
        "testloader = torch.utils.data.DataLoader(\r\n",
        "    testset, batch_size=test_batch_size, shuffle=False, num_workers=2)\r\n",
        "\r\n",
        "test_features, test_labels = next(iter(testloader))\r\n",
        "#Get num channels, width and height of input data\r\n",
        "c,w,h=list(test_features[0].size())\r\n",
        "#Batchsize, see load18.py or main.py for batch size\r\n",
        "num_batches=int(numpy.shape(testset.data)[0]/test_batch_size)\r\n",
        "\r\n",
        "from many_inj import progressive_inj_zero"
      ],
      "outputs": [
        {
          "output_type": "stream",
          "name": "stdout",
          "text": "Files already downloaded and verified\n"
        },
        {
          "output_type": "stream",
          "name": "stderr",
          "text": "/anaconda/envs/azureml_py36/lib/python3.6/site-packages/torch/utils/data/dataloader.py:481: UserWarning: This DataLoader will create 2 worker processes in total. Our suggested max number of worker in current system is 1, which is smaller than what this DataLoader is going to create. Please be aware that excessive worker creation might get DataLoader running slow or even freeze, lower the worker number to avoid potential slowness/freeze if necessary.\n  cpuset_checked))\n"
        }
      ],
      "execution_count": 2,
      "metadata": {
        "gather": {
          "logged": 1632448035279
        }
      }
    },
    {
      "cell_type": "code",
      "source": [
        "#For epoch 160, azure\r\n",
        "\r\n",
        "wds=[0,5e-7,5e-5,5e-3]\r\n",
        "#wds=[0]\r\n",
        "sch=\"plateau\"\r\n",
        "\r\n",
        "tot=100000\r\n",
        "step=10000\r\n",
        "n_exp=5\r\n",
        "bs=128\r\n",
        "\r\n",
        "def inj_zero_plateau_epoch_160():\r\n",
        "\r\n",
        "    for wd in wds:\r\n",
        "        print(\"Inj iteration: \" + str(wd))\r\n",
        "        name = \"bs_\"+str(bs)+\"_sch_\"+sch + \"_wd_\"+str(wd)\r\n",
        "        \r\n",
        "        path=\"./checkpoints/\"+ name\r\n",
        "        path_best= path + \"/\"+name+\"_epoch_160\"\r\n",
        "\r\n",
        "        model = model_actions.load(path_best)\r\n",
        "\r\n",
        "        pfi_model = pfi_core(model.eval(), h, w, test_batch_size, c=c,debug=True,use_cuda=torch.cuda.is_available())\r\n",
        "\r\n",
        "        res = many_inj.progressive_inj_zero(pfi_model,tot,step,n_exp=n_exp)\r\n",
        "\r\n",
        "        save_name = name + \"_inj_zero_tot_\" + str(tot)+\"_step_\" + str(step) + \"_nexp_\"+ str(n_exp) + \"_epoch_160\"\r\n",
        "        save_data={}\r\n",
        "        save_data[\"avg\"]=res[0]\r\n",
        "        save_data[\"std\"]=res[1]\r\n",
        "        save_data[\"loss_avg\"] = [2]\r\n",
        "        save_data[\"loss_std\"] = [3]\r\n",
        "        utils.save(save_data,save_name)"
      ],
      "outputs": [],
      "execution_count": 4,
      "metadata": {
        "gather": {
          "logged": 1632441196680
        }
      }
    },
    {
      "cell_type": "code",
      "source": [
        "az_manage_proc.run_and_delete(log.log_time,inj_zero_plateau_epoch_160)"
      ],
      "outputs": [
        {
          "output_type": "stream",
          "name": "stdout",
          "text": "Found existing instance, use it.\nInj iteration: 0\nInjection: 0 of 100000\nInjection: 10000 of 100000\nInjection: 20000 of 100000\nInjection: 30000 of 100000\nInjection: 40000 of 100000\nInjection: 50000 of 100000\nInjection: 60000 of 100000\nInjection: 70000 of 100000\nInjection: 80000 of 100000\nInjection: 90000 of 100000\nInjection: 100000 of 100000\n"
        },
        {
          "output_type": "stream",
          "name": "stderr",
          "text": "/anaconda/envs/azureml_py36/lib/python3.6/site-packages/torch/nn/functional.py:718: UserWarning: Named tensors and all their associated APIs are an experimental feature and subject to change. Please do not use them for anything important until they are released as stable. (Triggered internally at  /pytorch/c10/core/TensorImpl.h:1156.)\n  return torch.max_pool2d(input, kernel_size, stride, padding, dilation, ceil_mode)\n"
        }
      ],
      "execution_count": 5,
      "metadata": {}
    },
    {
      "cell_type": "code",
      "source": [
        "#Graphs for 100k injections, all epoch 160\r\n",
        "wds=[0,5e-7,5e-5,5e-3]\r\n",
        "sch=\"plateau\"\r\n",
        "tot=100000\r\n",
        "step=10000\r\n",
        "n_exp=5\r\n",
        "best_accs=[]\r\n",
        "x=np.array(range(0,11))*step\r\n",
        "bs=128\r\n",
        "\r\n",
        "for wd in wds:\r\n",
        "    print(\"Inj for: \" + str(wd))\r\n",
        "    name = \"bs_\"+str(bs)+\"_sch_\"+sch + \"_wd_\"+str(wd)\r\n",
        "    save_name = name + \"_inj_zero_tot_\" + str(tot)+\"_step_\" + str(step) + \"_nexp_\"+ str(n_exp) + \"_epoch_160\"\r\n",
        "    loaded=utils.load(save_name + \".json\")\r\n",
        "    best_accs.append(loaded[\"avg\"][0])\r\n",
        "    plt.plot(x,loaded[\"avg\"])\r\n",
        "\r\n",
        "plt.title(\"Accuracy vs Injections for different Weight decay values, epoch 160\")\r\n",
        "plt.legend(wds,title=\"Weight decay\")\r\n",
        "plt.xlabel(\"Injections\")\r\n",
        "plt.ylabel(\"Accuracy\")"
      ],
      "outputs": [
        {
          "output_type": "stream",
          "name": "stdout",
          "text": "Inj for: 0\nInj for: 5e-07\nInj for: 5e-05\nInj for: 0.005\n"
        },
        {
          "output_type": "execute_result",
          "execution_count": 6,
          "data": {
            "text/plain": "Text(0, 0.5, 'Accuracy')"
          },
          "metadata": {}
        },
        {
          "output_type": "display_data",
          "data": {
            "text/plain": "<Figure size 432x288 with 1 Axes>",
            "image/png": "[encoded data removed]"
          },
          "metadata": {
            "needs_background": "light"
          }
        }
      ],
      "execution_count": 6,
      "metadata": {
        "gather": {
          "logged": 1632448208193
        }
      }
    },
    {
      "cell_type": "code",
      "source": [
        "#Same graph but with loss\r\n",
        "wds=[0,5e-7,5e-5,5e-3]\r\n",
        "sch=\"plateau\"\r\n",
        "tot=100000\r\n",
        "step=10000\r\n",
        "n_exp=5\r\n",
        "best_accs=[]\r\n",
        "x=np.array(range(0,11))*step\r\n",
        "bs=128\r\n",
        "\r\n",
        "for wd in wds:\r\n",
        "    print(\"Inj for: \" + str(wd))\r\n",
        "    name = \"bs_\"+str(bs)+\"_sch_\"+sch + \"_wd_\"+str(wd)\r\n",
        "    save_name = name + \"_inj_zero_tot_\" + str(tot)+\"_step_\" + str(step) + \"_nexp_\"+ str(n_exp) + \"_epoch_160\"\r\n",
        "    loaded=utils.load(save_name + \".json\")\r\n",
        "    best_accs.append(loaded[\"avg\"][0])\r\n",
        "    plt.plot(x,loaded[\"avg\"])\r\n",
        "\r\n",
        "plt.title(\"Accuracy vs Injections for different Weight decay values, epoch 160\")\r\n",
        "plt.legend(wds,title=\"Weight decay\")\r\n",
        "plt.xlabel(\"Injections\")\r\n",
        "plt.ylabel(\"Accuracy\")"
      ],
      "outputs": [
        {
          "output_type": "stream",
          "name": "stdout",
          "text": "Inj for: 0\n"
        },
        {
          "output_type": "error",
          "ename": "ValueError",
          "evalue": "x and y must have same first dimension, but have shapes (11,) and (1,)",
          "traceback": [
            "\u001b[0;31m---------------------------------------------------------------------------\u001b[0m",
            "\u001b[0;31mValueError\u001b[0m                                Traceback (most recent call last)",
            "\u001b[0;32m<ipython-input-7-2371bbec8aa7>\u001b[0m in \u001b[0;36m<module>\u001b[0;34m\u001b[0m\n\u001b[1;32m     15\u001b[0m     \u001b[0mloaded\u001b[0m\u001b[0;34m=\u001b[0m\u001b[0mutils\u001b[0m\u001b[0;34m.\u001b[0m\u001b[0mload\u001b[0m\u001b[0;34m(\u001b[0m\u001b[0msave_name\u001b[0m \u001b[0;34m+\u001b[0m \u001b[0;34m\".json\"\u001b[0m\u001b[0;34m)\u001b[0m\u001b[0;34m\u001b[0m\u001b[0;34m\u001b[0m\u001b[0m\n\u001b[1;32m     16\u001b[0m     \u001b[0mbest_accs\u001b[0m\u001b[0;34m.\u001b[0m\u001b[0mappend\u001b[0m\u001b[0;34m(\u001b[0m\u001b[0mloaded\u001b[0m\u001b[0;34m[\u001b[0m\u001b[0;34m\"avg\"\u001b[0m\u001b[0;34m]\u001b[0m\u001b[0;34m[\u001b[0m\u001b[0;36m0\u001b[0m\u001b[0;34m]\u001b[0m\u001b[0;34m)\u001b[0m\u001b[0;34m\u001b[0m\u001b[0;34m\u001b[0m\u001b[0m\n\u001b[0;32m---> 17\u001b[0;31m     \u001b[0mplt\u001b[0m\u001b[0;34m.\u001b[0m\u001b[0mplot\u001b[0m\u001b[0;34m(\u001b[0m\u001b[0mx\u001b[0m\u001b[0;34m,\u001b[0m\u001b[0mloaded\u001b[0m\u001b[0;34m[\u001b[0m\u001b[0;34m\"loss_avg\"\u001b[0m\u001b[0;34m]\u001b[0m\u001b[0;34m)\u001b[0m\u001b[0;34m\u001b[0m\u001b[0;34m\u001b[0m\u001b[0m\n\u001b[0m\u001b[1;32m     18\u001b[0m \u001b[0;34m\u001b[0m\u001b[0m\n\u001b[1;32m     19\u001b[0m \u001b[0mplt\u001b[0m\u001b[0;34m.\u001b[0m\u001b[0mtitle\u001b[0m\u001b[0;34m(\u001b[0m\u001b[0;34m\"Accuracy vs Injections for different Weight decay values, epoch 160\"\u001b[0m\u001b[0;34m)\u001b[0m\u001b[0;34m\u001b[0m\u001b[0;34m\u001b[0m\u001b[0m\n",
            "\u001b[0;32m/anaconda/envs/azureml_py36/lib/python3.6/site-packages/matplotlib/pyplot.py\u001b[0m in \u001b[0;36mplot\u001b[0;34m(scalex, scaley, data, *args, **kwargs)\u001b[0m\n\u001b[1;32m   2761\u001b[0m     return gca().plot(\n\u001b[1;32m   2762\u001b[0m         *args, scalex=scalex, scaley=scaley, **({\"data\": data} if data\n\u001b[0;32m-> 2763\u001b[0;31m         is not None else {}), **kwargs)\n\u001b[0m\u001b[1;32m   2764\u001b[0m \u001b[0;34m\u001b[0m\u001b[0m\n\u001b[1;32m   2765\u001b[0m \u001b[0;34m\u001b[0m\u001b[0m\n",
            "\u001b[0;32m/anaconda/envs/azureml_py36/lib/python3.6/site-packages/matplotlib/axes/_axes.py\u001b[0m in \u001b[0;36mplot\u001b[0;34m(self, scalex, scaley, data, *args, **kwargs)\u001b[0m\n\u001b[1;32m   1644\u001b[0m         \"\"\"\n\u001b[1;32m   1645\u001b[0m         \u001b[0mkwargs\u001b[0m \u001b[0;34m=\u001b[0m \u001b[0mcbook\u001b[0m\u001b[0;34m.\u001b[0m\u001b[0mnormalize_kwargs\u001b[0m\u001b[0;34m(\u001b[0m\u001b[0mkwargs\u001b[0m\u001b[0;34m,\u001b[0m \u001b[0mmlines\u001b[0m\u001b[0;34m.\u001b[0m\u001b[0mLine2D\u001b[0m\u001b[0;34m)\u001b[0m\u001b[0;34m\u001b[0m\u001b[0;34m\u001b[0m\u001b[0m\n\u001b[0;32m-> 1646\u001b[0;31m         \u001b[0mlines\u001b[0m \u001b[0;34m=\u001b[0m \u001b[0;34m[\u001b[0m\u001b[0;34m*\u001b[0m\u001b[0mself\u001b[0m\u001b[0;34m.\u001b[0m\u001b[0m_get_lines\u001b[0m\u001b[0;34m(\u001b[0m\u001b[0;34m*\u001b[0m\u001b[0margs\u001b[0m\u001b[0;34m,\u001b[0m \u001b[0mdata\u001b[0m\u001b[0;34m=\u001b[0m\u001b[0mdata\u001b[0m\u001b[0;34m,\u001b[0m \u001b[0;34m**\u001b[0m\u001b[0mkwargs\u001b[0m\u001b[0;34m)\u001b[0m\u001b[0;34m]\u001b[0m\u001b[0;34m\u001b[0m\u001b[0;34m\u001b[0m\u001b[0m\n\u001b[0m\u001b[1;32m   1647\u001b[0m         \u001b[0;32mfor\u001b[0m \u001b[0mline\u001b[0m \u001b[0;32min\u001b[0m \u001b[0mlines\u001b[0m\u001b[0;34m:\u001b[0m\u001b[0;34m\u001b[0m\u001b[0;34m\u001b[0m\u001b[0m\n\u001b[1;32m   1648\u001b[0m             \u001b[0mself\u001b[0m\u001b[0;34m.\u001b[0m\u001b[0madd_line\u001b[0m\u001b[0;34m(\u001b[0m\u001b[0mline\u001b[0m\u001b[0;34m)\u001b[0m\u001b[0;34m\u001b[0m\u001b[0;34m\u001b[0m\u001b[0m\n",
            "\u001b[0;32m/anaconda/envs/azureml_py36/lib/python3.6/site-packages/matplotlib/axes/_base.py\u001b[0m in \u001b[0;36m__call__\u001b[0;34m(self, *args, **kwargs)\u001b[0m\n\u001b[1;32m    214\u001b[0m                 \u001b[0mthis\u001b[0m \u001b[0;34m+=\u001b[0m \u001b[0margs\u001b[0m\u001b[0;34m[\u001b[0m\u001b[0;36m0\u001b[0m\u001b[0;34m]\u001b[0m\u001b[0;34m,\u001b[0m\u001b[0;34m\u001b[0m\u001b[0;34m\u001b[0m\u001b[0m\n\u001b[1;32m    215\u001b[0m                 \u001b[0margs\u001b[0m \u001b[0;34m=\u001b[0m \u001b[0margs\u001b[0m\u001b[0;34m[\u001b[0m\u001b[0;36m1\u001b[0m\u001b[0;34m:\u001b[0m\u001b[0;34m]\u001b[0m\u001b[0;34m\u001b[0m\u001b[0;34m\u001b[0m\u001b[0m\n\u001b[0;32m--> 216\u001b[0;31m             \u001b[0;32myield\u001b[0m \u001b[0;32mfrom\u001b[0m \u001b[0mself\u001b[0m\u001b[0;34m.\u001b[0m\u001b[0m_plot_args\u001b[0m\u001b[0;34m(\u001b[0m\u001b[0mthis\u001b[0m\u001b[0;34m,\u001b[0m \u001b[0mkwargs\u001b[0m\u001b[0;34m)\u001b[0m\u001b[0;34m\u001b[0m\u001b[0;34m\u001b[0m\u001b[0m\n\u001b[0m\u001b[1;32m    217\u001b[0m \u001b[0;34m\u001b[0m\u001b[0m\n\u001b[1;32m    218\u001b[0m     \u001b[0;32mdef\u001b[0m \u001b[0mget_next_color\u001b[0m\u001b[0;34m(\u001b[0m\u001b[0mself\u001b[0m\u001b[0;34m)\u001b[0m\u001b[0;34m:\u001b[0m\u001b[0;34m\u001b[0m\u001b[0;34m\u001b[0m\u001b[0m\n",
            "\u001b[0;32m/anaconda/envs/azureml_py36/lib/python3.6/site-packages/matplotlib/axes/_base.py\u001b[0m in \u001b[0;36m_plot_args\u001b[0;34m(self, tup, kwargs)\u001b[0m\n\u001b[1;32m    340\u001b[0m \u001b[0;34m\u001b[0m\u001b[0m\n\u001b[1;32m    341\u001b[0m         \u001b[0;32mif\u001b[0m \u001b[0mx\u001b[0m\u001b[0;34m.\u001b[0m\u001b[0mshape\u001b[0m\u001b[0;34m[\u001b[0m\u001b[0;36m0\u001b[0m\u001b[0;34m]\u001b[0m \u001b[0;34m!=\u001b[0m \u001b[0my\u001b[0m\u001b[0;34m.\u001b[0m\u001b[0mshape\u001b[0m\u001b[0;34m[\u001b[0m\u001b[0;36m0\u001b[0m\u001b[0;34m]\u001b[0m\u001b[0;34m:\u001b[0m\u001b[0;34m\u001b[0m\u001b[0;34m\u001b[0m\u001b[0m\n\u001b[0;32m--> 342\u001b[0;31m             raise ValueError(f\"x and y must have same first dimension, but \"\n\u001b[0m\u001b[1;32m    343\u001b[0m                              f\"have shapes {x.shape} and {y.shape}\")\n\u001b[1;32m    344\u001b[0m         \u001b[0;32mif\u001b[0m \u001b[0mx\u001b[0m\u001b[0;34m.\u001b[0m\u001b[0mndim\u001b[0m \u001b[0;34m>\u001b[0m \u001b[0;36m2\u001b[0m \u001b[0;32mor\u001b[0m \u001b[0my\u001b[0m\u001b[0;34m.\u001b[0m\u001b[0mndim\u001b[0m \u001b[0;34m>\u001b[0m \u001b[0;36m2\u001b[0m\u001b[0;34m:\u001b[0m\u001b[0;34m\u001b[0m\u001b[0;34m\u001b[0m\u001b[0m\n",
            "\u001b[0;31mValueError\u001b[0m: x and y must have same first dimension, but have shapes (11,) and (1,)"
          ]
        }
      ],
      "execution_count": 7,
      "metadata": {
        "jupyter": {
          "source_hidden": false,
          "outputs_hidden": false
        },
        "nteract": {
          "transient": {
            "deleting": false
          }
        }
      }
    },
    {
      "cell_type": "code",
      "source": [
        "    name = \"bs_\"+str(bs)+\"_sch_\"+sch + \"_wd_\"+str(0)\r\n",
        "    save_name = name + \"_inj_zero_tot_\" + str(tot)+\"_step_\" + str(step) + \"_nexp_\"+ str(n_exp) + \"_epoch_160\"\r\n",
        "    loaded=utils.load(save_name + \".json\")"
      ],
      "outputs": [],
      "execution_count": 8,
      "metadata": {
        "jupyter": {
          "source_hidden": false,
          "outputs_hidden": false
        },
        "nteract": {
          "transient": {
            "deleting": false
          }
        },
        "gather": {
          "logged": 1632448579279
        }
      }
    },
    {
      "cell_type": "code",
      "source": [],
      "outputs": [
        {
          "output_type": "execute_result",
          "execution_count": 9,
          "data": {
            "text/plain": "{'avg': [0.8354000000000001,\n  0.8057000000000001,\n  0.7679400000000001,\n  0.7329600000000001,\n  0.6671400000000001,\n  0.61706,\n  0.5562400000000001,\n  0.44261999999999996,\n  0.39254,\n  0.35205999999999993,\n  0.32866],\n 'std': [1.1102230246251565e-16,\n  0.0018143869488066904,\n  0.014294278575709937,\n  0.02104733712373133,\n  0.02737243869296267,\n  0.024317943992040125,\n  0.05146216474265342,\n  0.05954478650562113,\n  0.06758096181618015,\n  0.05841347789680051,\n  0.03665861972306104],\n 'loss_avg': [2],\n 'loss_std': [3]}"
          },
          "metadata": {}
        }
      ],
      "execution_count": 9,
      "metadata": {
        "jupyter": {
          "source_hidden": false,
          "outputs_hidden": false
        },
        "nteract": {
          "transient": {
            "deleting": false
          }
        },
        "gather": {
          "logged": 1632448584801
        }
      }
    }
  ],
  "metadata": {
    "orig_nbformat": 4,
    "language_info": {
      "name": "python",
      "version": "3.6.9",
      "mimetype": "text/x-python",
      "codemirror_mode": {
        "name": "ipython",
        "version": 3
      },
      "pygments_lexer": "ipython3",
      "nbconvert_exporter": "python",
      "file_extension": ".py"
    },
    "kernelspec": {
      "name": "python3",
      "language": "python",
      "display_name": "Python 3"
    },
    "interpreter": {
      "hash": "dee0b18f5efeed97723793285cb915e0fd443adf8426f935c8cb81cf81e23c84"
    },
    "kernel_info": {
      "name": "python3"
    },
    "nteract": {
      "version": "nteract-front-end@1.0.0"
    }
  },
  "nbformat": 4,
  "nbformat_minor": 2
}