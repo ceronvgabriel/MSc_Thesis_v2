{
  "cells": [
    {
      "cell_type": "code",
      "execution_count": 1,
      "source": [
        "#Run if you want to autoreload your personal modules on change\n",
        "import autoreload\n",
        "get_ipython().run_line_magic('load_ext', 'autoreload')\n",
        "get_ipython().run_line_magic('autoreload', '2')\n",
        "#Next is needed in azure vm to autoreload modules in cwd\n",
        "import os\n",
        "pwd=os.popen(\"pwd\").read().rstrip()\n",
        "import sys\n",
        "sys.path.append(pwd)\n",
        "'''Train CIFAR10 with PyTorch.'''\n",
        "import torch\n",
        "import torch.nn as nn\n",
        "import torch.optim as optim\n",
        "import torch.nn.functional as F\n",
        "import torch.backends.cudnn as cudnn\n",
        "import numpy as np\n",
        "from matplotlib import pyplot as plt\n",
        "import numpy\n",
        "import sklearn\n",
        "import torchvision\n",
        "import torchvision.transforms as transforms\n",
        "import os\n",
        "import argparse\n",
        "#from models import *\n",
        "import utils\n",
        "#from utils import progress_bar\n",
        "import time\n",
        "from torchvision import models\n",
        "import model_actions\n",
        "import az_manage_proc\n",
        "import load\n",
        "import log\n",
        "import many_inj\n",
        "#import many_inj_ni\n",
        "from pytorchfi_c.core import fault_injection as pfi_core\n",
        "#from pytorchfi_ni.core import fault_injection as pfi_core\n",
        "print(\"GPU available: \",torch.cuda.is_available())\n",
        "print(\"OS: \",sys.platform)"
      ],
      "outputs": [
        {
          "output_type": "stream",
          "name": "stdout",
          "text": [
            "Files already downloaded and verified\n",
            "Preparing data..\n",
            "Files already downloaded and verified\n",
            "GPU available:  True\n",
            "OS:  linux\n"
          ]
        }
      ],
      "metadata": {}
    },
    {
      "cell_type": "code",
      "execution_count": 2,
      "source": [
        "num_batches = 100\n",
        "c,w,h=3,32,32"
      ],
      "outputs": [],
      "metadata": {}
    },
    {
      "cell_type": "code",
      "execution_count": 3,
      "source": [
        "model=model_actions.load(\"checkpoints/bs_128_sch_plateau/bs_128_sch_plateau_epoch_160\")"
      ],
      "outputs": [],
      "metadata": {}
    },
    {
      "cell_type": "code",
      "execution_count": 4,
      "source": [
        "model_actions.test(model.eval())"
      ],
      "outputs": [
        {
          "output_type": "stream",
          "name": "stderr",
          "text": [
            "/anaconda/envs/azureml_py36/lib/python3.6/site-packages/torch/nn/functional.py:718: UserWarning: Named tensors and all their associated APIs are an experimental feature and subject to change. Please do not use them for anything important until they are released as stable. (Triggered internally at  /pytorch/c10/core/TensorImpl.h:1156.)\n",
            "  return torch.max_pool2d(input, kernel_size, stride, padding, dilation, ceil_mode)\n"
          ]
        },
        {
          "output_type": "execute_result",
          "data": {
            "text/plain": [
              "(0.8552, 35.54125779867172)"
            ]
          },
          "metadata": {},
          "execution_count": 4
        }
      ],
      "metadata": {}
    },
    {
      "cell_type": "code",
      "execution_count": 5,
      "source": [
        "#debug=True? num_batches?\n",
        "pfi_model = pfi_core(model.eval(), h, w, num_batches\n",
        ", c=c\n",
        "#,debug=True\n",
        ",use_cuda=torch.cuda.is_available())"
      ],
      "outputs": [],
      "metadata": {}
    },
    {
      "cell_type": "code",
      "execution_count": 6,
      "source": [
        "many_model = many_inj.many_n_inj(pfi_model,1000,min_val=0,max_val=0)"
      ],
      "outputs": [],
      "metadata": {}
    },
    {
      "cell_type": "code",
      "execution_count": 7,
      "source": [
        "print(model_actions.test(many_model))"
      ],
      "outputs": [
        {
          "output_type": "stream",
          "name": "stdout",
          "text": [
            "(0.8548, 35.58250993490219)\n"
          ]
        }
      ],
      "metadata": {}
    },
    {
      "cell_type": "code",
      "execution_count": 8,
      "source": [
        "def test_ni():\n",
        "    many_model = many_inj.many_n_inj(pfi_model,10000,min_val=0,max_val=0)\n",
        "    print(model_actions.test(many_model))"
      ],
      "outputs": [],
      "metadata": {}
    },
    {
      "cell_type": "code",
      "execution_count": 9,
      "source": [
        "az_manage_proc.run_and_delete(log.log_time,test_ni)"
      ],
      "outputs": [
        {
          "output_type": "stream",
          "name": "stdout",
          "text": [
            "Found existing instance, use it.\n",
            "Logging time\n",
            "(0.8477, 37.146108746528625)\n",
            "Total time: 503.306086996\n",
            "Deleting VM\n",
            "Found existing instance, use it.\n",
            "Deleting...................."
          ]
        }
      ],
      "metadata": {}
    }
  ],
  "metadata": {
    "orig_nbformat": 4,
    "language_info": {
      "name": "python",
      "version": "3.6.9",
      "mimetype": "text/x-python",
      "codemirror_mode": {
        "name": "ipython",
        "version": 3
      },
      "pygments_lexer": "ipython3",
      "nbconvert_exporter": "python",
      "file_extension": ".py"
    },
    "kernelspec": {
      "name": "python3",
      "display_name": "Python 3.6.9 64-bit ('azureml_py36': conda)"
    },
    "interpreter": {
      "hash": "0b23af0ce16aa97b5d48acae7fae86d8f282aae2868783ba0fe17672ed39eae2"
    },
    "kernel_info": {
      "name": "python3"
    },
    "nteract": {
      "version": "nteract-front-end@1.0.0"
    }
  },
  "nbformat": 4,
  "nbformat_minor": 2
}