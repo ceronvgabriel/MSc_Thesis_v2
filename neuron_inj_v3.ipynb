{
  "cells": [
    {
      "cell_type": "code",
      "source": [
        "#Run if you want to autoreload your personal modules on change\n",
        "import autoreload\n",
        "get_ipython().run_line_magic('load_ext', 'autoreload')\n",
        "get_ipython().run_line_magic('autoreload', '2')\n",
        "#Next is needed in azure vm to autoreload modules in cwd\n",
        "import os\n",
        "pwd=os.popen(\"pwd\").read().rstrip()\n",
        "import sys\n",
        "sys.path.append(pwd)\n",
        "'''Train CIFAR10 with PyTorch.'''\n",
        "import torch\n",
        "import torch.nn as nn\n",
        "import torch.optim as optim\n",
        "import torch.nn.functional as F\n",
        "import torch.backends.cudnn as cudnn\n",
        "import numpy as np\n",
        "from matplotlib import pyplot as plt\n",
        "import numpy\n",
        "import sklearn\n",
        "import torchvision\n",
        "import torchvision.transforms as transforms\n",
        "import os\n",
        "import argparse\n",
        "#from models import *\n",
        "import utils\n",
        "#from utils import progress_bar\n",
        "import time\n",
        "from torchvision import models\n",
        "import model_actions\n",
        "import az_manage_proc\n",
        "import load\n",
        "import log\n",
        "import many_inj\n",
        "#import many_inj_ni\n",
        "from pytorchfi_c.core import fault_injection as pfi_core\n",
        "#from pytorchfi_ni.core import fault_injection as pfi_core\n",
        "print(\"GPU available: \",torch.cuda.is_available())\n",
        "print(\"OS: \",sys.platform)"
      ],
      "outputs": [
        {
          "output_type": "stream",
          "name": "stdout",
          "text": "Files already downloaded and verified\nPreparing data..\nFiles already downloaded and verified\nGPU available:  True\nOS:  linux\n"
        }
      ],
      "execution_count": 1,
      "metadata": {
        "gather": {
          "logged": 1633570903222
        }
      }
    },
    {
      "cell_type": "code",
      "source": [
        "num_batches = 100\n",
        "c,w,h=3,32,32"
      ],
      "outputs": [],
      "execution_count": 2,
      "metadata": {
        "gather": {
          "logged": 1633570903770
        }
      }
    },
    {
      "cell_type": "code",
      "source": [
        "model=model_actions.load(\"checkpoints/bs_128_sch_plateau/bs_128_sch_plateau_epoch_160\")"
      ],
      "outputs": [],
      "execution_count": 3,
      "metadata": {
        "gather": {
          "logged": 1633570956340
        }
      }
    },
    {
      "cell_type": "code",
      "source": [
        "model_actions.test(model.eval())"
      ],
      "outputs": [
        {
          "output_type": "execute_result",
          "execution_count": 4,
          "data": {
            "text/plain": "(0.8552, 35.54125779867172)"
          },
          "metadata": {}
        }
      ],
      "execution_count": 4,
      "metadata": {
        "gather": {
          "logged": 1633570959929
        }
      }
    },
    {
      "cell_type": "code",
      "source": [
        "#debug=True? num_batches?\n",
        "pfi_model = pfi_core(model.eval(), h, w, num_batches\n",
        ", c=c\n",
        "#,debug=True\n",
        ",use_cuda=torch.cuda.is_available())"
      ],
      "outputs": [],
      "execution_count": 5,
      "metadata": {
        "gather": {
          "logged": 1633570960458
        }
      }
    },
    {
      "cell_type": "code",
      "source": [
        "def test_ni():\n",
        "    many_model = many_inj.many_n_inj(pfi_model,100000,min_val=0,max_val=0)\n",
        "    res=model_actions.test(many_model)\n",
        "    utils.save(res,\"result_ni_100k\")"
      ],
      "outputs": [],
      "execution_count": 6,
      "metadata": {
        "gather": {
          "logged": 1633570960785
        }
      }
    },
    {
      "cell_type": "code",
      "source": [
        "az_manage_proc.run_and_delete(log.log_time,test_ni)"
      ],
      "outputs": [
        {
          "output_type": "stream",
          "name": "stdout",
          "text": "Found existing instance, use it.\nLogging time\nTotal time: 4836.239633814\nDeleting VM\nFound existing instance, use it.\nDeleting...."
        }
      ],
      "execution_count": 7,
      "metadata": {}
    },
    {
      "cell_type": "code",
      "source": [],
      "outputs": [],
      "execution_count": null,
      "metadata": {
        "jupyter": {
          "source_hidden": false,
          "outputs_hidden": false
        },
        "nteract": {
          "transient": {
            "deleting": false
          }
        }
      }
    },
    {
      "cell_type": "code",
      "source": [],
      "outputs": [],
      "execution_count": null,
      "metadata": {
        "jupyter": {
          "source_hidden": false,
          "outputs_hidden": false
        },
        "nteract": {
          "transient": {
            "deleting": false
          }
        }
      }
    }
  ],
  "metadata": {
    "orig_nbformat": 4,
    "language_info": {
      "name": "python",
      "version": "3.6.9",
      "mimetype": "text/x-python",
      "codemirror_mode": {
        "name": "ipython",
        "version": 3
      },
      "pygments_lexer": "ipython3",
      "nbconvert_exporter": "python",
      "file_extension": ".py"
    },
    "kernelspec": {
      "name": "python3",
      "language": "python",
      "display_name": "Python 3"
    },
    "interpreter": {
      "hash": "0b23af0ce16aa97b5d48acae7fae86d8f282aae2868783ba0fe17672ed39eae2"
    },
    "kernel_info": {
      "name": "python3"
    },
    "nteract": {
      "version": "nteract-front-end@1.0.0"
    },
    "microsoft": {
      "host": {
        "AzureML": {
          "notebookHasBeenCompleted": true
        }
      }
    }
  },
  "nbformat": 4,
  "nbformat_minor": 2
}