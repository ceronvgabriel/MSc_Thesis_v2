{
  "cells": [
    {
      "cell_type": "code",
      "source": [
        "#Run if you want to autoreload your personal modules on change\n",
        "import autoreload\n",
        "get_ipython().run_line_magic('load_ext', 'autoreload')\n",
        "get_ipython().run_line_magic('autoreload', '2')\n",
        "#Next is needed in azure vm to autoreload modules in cwd\n",
        "import os\n",
        "pwd=os.popen(\"pwd\").read().rstrip()\n",
        "import sys\n",
        "sys.path.append(pwd)\n",
        "'''Train CIFAR10 with PyTorch.'''\n",
        "import torch\n",
        "import torch.nn as nn\n",
        "import torch.optim as optim\n",
        "import torch.nn.functional as F\n",
        "import torch.backends.cudnn as cudnn\n",
        "import numpy as np\n",
        "\n",
        "from matplotlib import pyplot as plt\n",
        "import matplotlib.style\n",
        "import matplotlib as mpl\n",
        "mpl.style.use('default')\n",
        "\n",
        "import numpy\n",
        "import sklearn\n",
        "import torchvision\n",
        "import torchvision.transforms as transforms\n",
        "import os\n",
        "import argparse\n",
        "#from models import *\n",
        "import utils\n",
        "#from utils import progress_bar\n",
        "import time\n",
        "from torchvision import models\n",
        "import model_actions\n",
        "import az_manage_proc\n",
        "import load\n",
        "import log\n",
        "import many_inj\n",
        "from pytorchfi_c.core import fault_injection as pfi_core\n",
        "print(\"GPU available: \",torch.cuda.is_available())\n",
        "print(\"OS: \",sys.platform)\n",
        "\n",
        "\n"
      ],
      "outputs": [
        {
          "output_type": "stream",
          "name": "stdout",
          "text": "Files already downloaded and verified\nPreparing data..\nFiles already downloaded and verified\nGPU available:  True\nOS:  linux\n"
        }
      ],
      "execution_count": 1,
      "metadata": {}
    },
    {
      "cell_type": "code",
      "source": [
        "load=model_actions.load(\"checkpoints/bs_128_sch_plateau/bs_128_sch_plateau_epoch_160\")"
      ],
      "outputs": [],
      "execution_count": 3,
      "metadata": {}
    },
    {
      "cell_type": "code",
      "source": [
        "model_actions.test(load)"
      ],
      "outputs": [
        {
          "output_type": "stream",
          "name": "stdout",
          "text": "Files already downloaded and verified\nPreparing data..\nFiles already downloaded and verified\n"
        },
        {
          "output_type": "execute_result",
          "execution_count": 5,
          "data": {
            "text/plain": "(0.8327, 41.23639443516731)"
          },
          "metadata": {}
        }
      ],
      "execution_count": 5,
      "metadata": {}
    },
    {
      "cell_type": "code",
      "source": [
        "model1=load\n",
        "model2=load"
      ],
      "outputs": [],
      "execution_count": 17,
      "metadata": {}
    },
    {
      "cell_type": "code",
      "source": [
        "model_actions.test_bagg([model1,model2])"
      ],
      "outputs": [
        {
          "output_type": "execute_result",
          "execution_count": 18,
          "data": {
            "text/plain": "(0.8327, 0)"
          },
          "metadata": {}
        }
      ],
      "execution_count": 18,
      "metadata": {}
    },
    {
      "cell_type": "code",
      "source": [
        "list(enumerate([1,2,3]))"
      ],
      "outputs": [
        {
          "output_type": "execute_result",
          "execution_count": 13,
          "data": {
            "text/plain": "[(0, 1), (1, 2), (2, 3)]"
          },
          "metadata": {}
        }
      ],
      "execution_count": 13,
      "metadata": {}
    }
  ],
  "metadata": {
    "kernelspec": {
      "name": "python3-azureml",
      "language": "python",
      "display_name": "Python 3.6 - AzureML"
    },
    "language_info": {
      "name": "python",
      "version": "3.6.9",
      "mimetype": "text/x-python",
      "codemirror_mode": {
        "name": "ipython",
        "version": 3
      },
      "pygments_lexer": "ipython3",
      "nbconvert_exporter": "python",
      "file_extension": ".py"
    },
    "orig_nbformat": 4,
    "kernel_info": {
      "name": "python3-azureml"
    },
    "nteract": {
      "version": "nteract-front-end@1.0.0"
    }
  },
  "nbformat": 4,
  "nbformat_minor": 2
}