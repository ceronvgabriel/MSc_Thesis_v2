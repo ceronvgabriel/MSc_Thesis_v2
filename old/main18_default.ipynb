{
  "cells": [
    {
      "cell_type": "code",
      "source": [
        "#Run if you want to autoreload your personal modules on change\n",
        "%load_ext autoreload\n",
        "%autoreload 2"
      ],
      "outputs": [],
      "execution_count": 1,
      "metadata": {
        "id": "AXn_DcTuDtNr",
        "executionInfo": {
          "status": "ok",
          "timestamp": 1622068967804,
          "user_tz": 300,
          "elapsed": 26,
          "user": {
            "displayName": "Gabriel Ceron Viveros",
            "photoUrl": "https://lh3.googleusercontent.com/a-/AOh14GhKuFxADeoNbpXSp3yfCRgm_vy86e4Q9hPd4K7flA=s64",
            "userId": "03642710981534596372"
          }
        }
      }
    },
    {
      "cell_type": "code",
      "source": [
        "#Installing module to import ipynb files\n",
        "!pip install import-ipynb"
      ],
      "outputs": [
        {
          "output_type": "stream",
          "name": "stdout",
          "text": [
            "Collecting import-ipynb\n",
            "  Downloading https://files.pythonhosted.org/packages/63/35/495e0021bfdcc924c7cdec4e9fbb87c88dd03b9b9b22419444dc370c8a45/import-ipynb-0.1.3.tar.gz\n",
            "Building wheels for collected packages: import-ipynb\n",
            "  Building wheel for import-ipynb (setup.py) ... \u001b[?25l\u001b[?25hdone\n",
            "  Created wheel for import-ipynb: filename=import_ipynb-0.1.3-cp37-none-any.whl size=2976 sha256=b3e3b506b19f22359a0feb0d087432c5d242a60465c11020d006528cca3fb111\n",
            "  Stored in directory: /root/.cache/pip/wheels/b4/7b/e9/a3a6e496115dffdb4e3085d0ae39ffe8a814eacc44bbf494b5\n",
            "Successfully built import-ipynb\n",
            "Installing collected packages: import-ipynb\n",
            "Successfully installed import-ipynb-0.1.3\n"
          ]
        }
      ],
      "execution_count": null,
      "metadata": {
        "colab": {
          "base_uri": "https://localhost:8080/"
        },
        "id": "tNYkvbbfveQb",
        "executionInfo": {
          "status": "ok",
          "timestamp": 1620863182462,
          "user_tz": 300,
          "elapsed": 4447,
          "user": {
            "displayName": "Gabriel Ceron Viveros",
            "photoUrl": "https://lh3.googleusercontent.com/a-/AOh14GhKuFxADeoNbpXSp3yfCRgm_vy86e4Q9hPd4K7flA=s64",
            "userId": "03642710981534596372"
          }
        },
        "outputId": "be8e6fca-33c5-4dfa-ffd6-97db43415868"
      }
    },
    {
      "cell_type": "code",
      "source": [
        "#After importing this module you can import ipynb files just as if they were .py files\n",
        "import import_ipynb\n",
        "#Mounting Drive and changing working path to desired folder\n",
        "from google.colab import drive\n",
        "drive.mount('/content/gdrive')\n",
        "import sys\n",
        "sys.path.append('/content/gdrive/My Drive/Colab Notebooks')\n",
        "%cd gdrive/MyDrive/Colab\\ Notebooks\n"
      ],
      "outputs": [],
      "execution_count": null,
      "metadata": {
        "id": "llmjE2AwxLxy"
      }
    },
    {
      "cell_type": "code",
      "source": [
        "#Otherwise if you added Drive manually (left panel) just change the working directory:\n",
        "#Note that the folder's name change if Drive is loaded by commands or manually: gdrive/drive\n",
        "%cd drive/MyDrive/Colab\\ Notebooks\n",
        "!ls"
      ],
      "outputs": [
        {
          "output_type": "stream",
          "name": "stdout",
          "text": [
            "/content/drive/MyDrive/Colab Notebooks\n",
            " checkpoint\t        MLPR\n",
            " data\t\t        models\n",
            " faultInjection.ipynb   __pycache__\n",
            " load18.py\t       'Support Vector Machine From Scratch.ipynb'\n",
            " load18_pyt_try.py      test_4.ipynb\n",
            " main18_default.ipynb   test_5.py\n",
            " main18.ipynb\t        test_6.py\n",
            " main_default.py        utils_nb.ipynb\n",
            " main.py\t        utils.py\n",
            " manyInjections.py      wandb\n"
          ]
        }
      ],
      "execution_count": 2,
      "metadata": {
        "id": "rkFqDDGF7j_3",
        "colab": {
          "base_uri": "https://localhost:8080/"
        },
        "executionInfo": {
          "status": "ok",
          "timestamp": 1622068987635,
          "user_tz": 300,
          "elapsed": 304,
          "user": {
            "displayName": "Gabriel Ceron Viveros",
            "photoUrl": "https://lh3.googleusercontent.com/a-/AOh14GhKuFxADeoNbpXSp3yfCRgm_vy86e4Q9hPd4K7flA=s64",
            "userId": "03642710981534596372"
          }
        },
        "outputId": "b51f87c4-0a07-46d5-b636-1f7853b104af"
      }
    },
    {
      "cell_type": "code",
      "source": [
        "!pip install wandb\n",
        "import wandb\n",
        "wandb.init()"
      ],
      "outputs": [
        {
          "output_type": "stream",
          "name": "stdout",
          "text": [
            "Collecting wandb\n",
            "\u001b[?25l  Downloading https://files.pythonhosted.org/packages/98/5f/45439b4767334b868e1c8c35b1b0ba3747d8c21be77b79f09eed7aa3c72b/wandb-0.10.30-py2.py3-none-any.whl (1.8MB)\n",
            "\u001b[K     |████████████████████████████████| 1.8MB 7.5MB/s \n",
            "\u001b[?25hCollecting configparser>=3.8.1\n",
            "  Downloading https://files.pythonhosted.org/packages/fd/01/ff260a18caaf4457eb028c96eeb405c4a230ca06c8ec9c1379f813caa52e/configparser-5.0.2-py3-none-any.whl\n",
            "Collecting shortuuid>=0.5.0\n",
            "  Downloading https://files.pythonhosted.org/packages/25/a6/2ecc1daa6a304e7f1b216f0896b26156b78e7c38e1211e9b798b4716c53d/shortuuid-1.0.1-py3-none-any.whl\n",
            "Requirement already satisfied: psutil>=5.0.0 in /usr/local/lib/python3.7/dist-packages (from wandb) (5.4.8)\n",
            "Collecting subprocess32>=3.5.3\n",
            "\u001b[?25l  Downloading https://files.pythonhosted.org/packages/32/c8/564be4d12629b912ea431f1a50eb8b3b9d00f1a0b1ceff17f266be190007/subprocess32-3.5.4.tar.gz (97kB)\n",
            "\u001b[K     |████████████████████████████████| 102kB 13.6MB/s \n",
            "\u001b[?25hRequirement already satisfied: python-dateutil>=2.6.1 in /usr/local/lib/python3.7/dist-packages (from wandb) (2.8.1)\n",
            "Collecting pathtools\n",
            "  Downloading https://files.pythonhosted.org/packages/e7/7f/470d6fcdf23f9f3518f6b0b76be9df16dcc8630ad409947f8be2eb0ed13a/pathtools-0.1.2.tar.gz\n",
            "Requirement already satisfied: six>=1.13.0 in /usr/local/lib/python3.7/dist-packages (from wandb) (1.15.0)\n",
            "Collecting GitPython>=1.0.0\n",
            "\u001b[?25l  Downloading https://files.pythonhosted.org/packages/27/da/6f6224fdfc47dab57881fe20c0d1bc3122be290198ba0bf26a953a045d92/GitPython-3.1.17-py3-none-any.whl (166kB)\n",
            "\u001b[K     |████████████████████████████████| 174kB 34.9MB/s \n",
            "\u001b[?25hRequirement already satisfied: Click>=7.0 in /usr/local/lib/python3.7/dist-packages (from wandb) (7.1.2)\n",
            "Requirement already satisfied: requests<3,>=2.0.0 in /usr/local/lib/python3.7/dist-packages (from wandb) (2.23.0)\n",
            "Requirement already satisfied: protobuf>=3.12.0 in /usr/local/lib/python3.7/dist-packages (from wandb) (3.12.4)\n",
            "Collecting docker-pycreds>=0.4.0\n",
            "  Downloading https://files.pythonhosted.org/packages/f5/e8/f6bd1eee09314e7e6dee49cbe2c5e22314ccdb38db16c9fc72d2fa80d054/docker_pycreds-0.4.0-py2.py3-none-any.whl\n",
            "Requirement already satisfied: promise<3,>=2.0 in /usr/local/lib/python3.7/dist-packages (from wandb) (2.3)\n",
            "Collecting sentry-sdk>=0.4.0\n",
            "\u001b[?25l  Downloading https://files.pythonhosted.org/packages/1c/4a/a54b254f67d8f4052338d54ebe90126f200693440a93ef76d254d581e3ec/sentry_sdk-1.1.0-py2.py3-none-any.whl (131kB)\n",
            "\u001b[K     |████████████████████████████████| 133kB 35.1MB/s \n",
            "\u001b[?25hRequirement already satisfied: PyYAML in /usr/local/lib/python3.7/dist-packages (from wandb) (3.13)\n",
            "Requirement already satisfied: typing-extensions>=3.7.4.0; python_version < \"3.8\" in /usr/local/lib/python3.7/dist-packages (from GitPython>=1.0.0->wandb) (3.7.4.3)\n",
            "Collecting gitdb<5,>=4.0.1\n",
            "\u001b[?25l  Downloading https://files.pythonhosted.org/packages/ea/e8/f414d1a4f0bbc668ed441f74f44c116d9816833a48bf81d22b697090dba8/gitdb-4.0.7-py3-none-any.whl (63kB)\n",
            "\u001b[K     |████████████████████████████████| 71kB 8.5MB/s \n",
            "\u001b[?25hRequirement already satisfied: chardet<4,>=3.0.2 in /usr/local/lib/python3.7/dist-packages (from requests<3,>=2.0.0->wandb) (3.0.4)\n",
            "Requirement already satisfied: idna<3,>=2.5 in /usr/local/lib/python3.7/dist-packages (from requests<3,>=2.0.0->wandb) (2.10)\n",
            "Requirement already satisfied: urllib3!=1.25.0,!=1.25.1,<1.26,>=1.21.1 in /usr/local/lib/python3.7/dist-packages (from requests<3,>=2.0.0->wandb) (1.24.3)\n",
            "Requirement already satisfied: certifi>=2017.4.17 in /usr/local/lib/python3.7/dist-packages (from requests<3,>=2.0.0->wandb) (2020.12.5)\n",
            "Requirement already satisfied: setuptools in /usr/local/lib/python3.7/dist-packages (from protobuf>=3.12.0->wandb) (56.1.0)\n",
            "Collecting smmap<5,>=3.0.1\n",
            "  Downloading https://files.pythonhosted.org/packages/68/ee/d540eb5e5996eb81c26ceffac6ee49041d473bc5125f2aa995cf51ec1cf1/smmap-4.0.0-py2.py3-none-any.whl\n",
            "Building wheels for collected packages: subprocess32, pathtools\n",
            "  Building wheel for subprocess32 (setup.py) ... \u001b[?25l\u001b[?25hdone\n",
            "  Created wheel for subprocess32: filename=subprocess32-3.5.4-cp37-none-any.whl size=6489 sha256=919ad79e62f0ee7fa9e17aa7bf8ad73ed1ed08713cbdc442a51d7a9efd0b930f\n",
            "  Stored in directory: /root/.cache/pip/wheels/68/39/1a/5e402bdfdf004af1786c8b853fd92f8c4a04f22aad179654d1\n",
            "  Building wheel for pathtools (setup.py) ... \u001b[?25l\u001b[?25hdone\n",
            "  Created wheel for pathtools: filename=pathtools-0.1.2-cp37-none-any.whl size=8786 sha256=255cdc58ea8c70419bcf730ad7ce9ccb06286e106f742e34e96bad9d6e7a557d\n",
            "  Stored in directory: /root/.cache/pip/wheels/0b/04/79/c3b0c3a0266a3cb4376da31e5bfe8bba0c489246968a68e843\n",
            "Successfully built subprocess32 pathtools\n",
            "Installing collected packages: configparser, shortuuid, subprocess32, pathtools, smmap, gitdb, GitPython, docker-pycreds, sentry-sdk, wandb\n",
            "Successfully installed GitPython-3.1.17 configparser-5.0.2 docker-pycreds-0.4.0 gitdb-4.0.7 pathtools-0.1.2 sentry-sdk-1.1.0 shortuuid-1.0.1 smmap-4.0.0 subprocess32-3.5.4 wandb-0.10.30\n"
          ]
        },
        {
          "output_type": "display_data",
          "data": {
            "application/javascript": "\n        window._wandbApiKey = new Promise((resolve, reject) => {\n            function loadScript(url) {\n            return new Promise(function(resolve, reject) {\n                let newScript = document.createElement(\"script\");\n                newScript.onerror = reject;\n                newScript.onload = resolve;\n                document.body.appendChild(newScript);\n                newScript.src = url;\n            });\n            }\n            loadScript(\"https://cdn.jsdelivr.net/npm/postmate/build/postmate.min.js\").then(() => {\n            const iframe = document.createElement('iframe')\n            iframe.style.cssText = \"width:0;height:0;border:none\"\n            document.body.appendChild(iframe)\n            const handshake = new Postmate({\n                container: iframe,\n                url: 'https://wandb.ai/authorize'\n            });\n            const timeout = setTimeout(() => reject(\"Couldn't auto authenticate\"), 5000)\n            handshake.then(function(child) {\n                child.on('authorize', data => {\n                    clearTimeout(timeout)\n                    resolve(data)\n                });\n            });\n            })\n        });\n    ",
            "text/plain": "<IPython.core.display.Javascript object>"
          },
          "metadata": {
            "tags": []
          }
        },
        {
          "output_type": "stream",
          "name": "stderr",
          "text": [
            "\u001b[34m\u001b[1mwandb\u001b[0m: Appending key for api.wandb.ai to your netrc file: /root/.netrc\n"
          ]
        },
        {
          "output_type": "display_data",
          "data": {
            "text/html": "\n                Tracking run with wandb version 0.10.30<br/>\n                Syncing run <strong style=\"color:#cdcd00\">cool-sunset-3</strong> to <a href=\"https://wandb.ai\" target=\"_blank\">Weights & Biases</a> <a href=\"https://docs.wandb.com/integrations/jupyter.html\" target=\"_blank\">(Documentation)</a>.<br/>\n                Project page: <a href=\"https://wandb.ai/gceron/uncategorized\" target=\"_blank\">https://wandb.ai/gceron/uncategorized</a><br/>\n                Run page: <a href=\"https://wandb.ai/gceron/uncategorized/runs/267ag9bd\" target=\"_blank\">https://wandb.ai/gceron/uncategorized/runs/267ag9bd</a><br/>\n                Run data is saved locally in <code>/content/drive/MyDrive/Colab Notebooks/wandb/run-20210526_224324-267ag9bd</code><br/><br/>\n            ",
            "text/plain": "<IPython.core.display.HTML object>"
          },
          "metadata": {
            "tags": []
          }
        },
        {
          "output_type": "execute_result",
          "execution_count": 3,
          "data": {
            "text/plain": "<wandb.sdk.wandb_run.Run at 0x7f6c78915390>",
            "text/html": "<h1>Run(267ag9bd)</h1><iframe src=\"https://wandb.ai/gceron/uncategorized/runs/267ag9bd\" style=\"border:none;width:100%;height:400px\"></iframe>"
          },
          "metadata": {
            "tags": []
          }
        }
      ],
      "execution_count": 3,
      "metadata": {
        "colab": {
          "base_uri": "https://localhost:8080/",
          "height": 1000
        },
        "id": "zsc1c5uCIGaK",
        "executionInfo": {
          "status": "ok",
          "timestamp": 1622069007508,
          "user_tz": 300,
          "elapsed": 14166,
          "user": {
            "displayName": "Gabriel Ceron Viveros",
            "photoUrl": "https://lh3.googleusercontent.com/a-/AOh14GhKuFxADeoNbpXSp3yfCRgm_vy86e4Q9hPd4K7flA=s64",
            "userId": "03642710981534596372"
          }
        },
        "outputId": "14a2d1d3-62a9-4ffa-879f-0921875e2e79"
      }
    },
    {
      "cell_type": "code",
      "source": [
        "'''Train CIFAR10 with PyTorch.'''\n",
        "import torch\n",
        "import torch.nn as nn\n",
        "import torch.optim as optim\n",
        "import torch.nn.functional as F\n",
        "import torch.backends.cudnn as cudnn\n",
        "\n",
        "import torchvision\n",
        "import torchvision.transforms as transforms\n",
        "\n",
        "import os\n",
        "import argparse\n",
        "\n",
        "from models import *\n",
        "from utils import progress_bar"
      ],
      "outputs": [],
      "execution_count": 4,
      "metadata": {
        "id": "zfsjFX3pH6i0",
        "executionInfo": {
          "status": "ok",
          "timestamp": 1622069049932,
          "user_tz": 300,
          "elapsed": 4896,
          "user": {
            "displayName": "Gabriel Ceron Viveros",
            "photoUrl": "https://lh3.googleusercontent.com/a-/AOh14GhKuFxADeoNbpXSp3yfCRgm_vy86e4Q9hPd4K7flA=s64",
            "userId": "03642710981534596372"
          }
        }
      }
    },
    {
      "cell_type": "code",
      "source": [
        "%run main_default.py"
      ],
      "outputs": [
        {
          "output_type": "stream",
          "name": "stdout",
          "text": [
            "Error in callback <bound method _WandbInit._resume_backend of <wandb.sdk.wandb_init._WandbInit object at 0x7f6c8326efd0>> (for pre_run_cell):\n"
          ]
        },
        {
          "output_type": "error",
          "ename": "Exception",
          "evalue": "ignored",
          "traceback": [
            "\u001b[0;31m---------------------------------------------------------------------------\u001b[0m",
            "\u001b[0;31mException\u001b[0m                                 Traceback (most recent call last)",
            "\u001b[0;32m/usr/local/lib/python3.7/dist-packages/wandb/sdk/wandb_init.py\u001b[0m in \u001b[0;36m_resume_backend\u001b[0;34m(self)\u001b[0m\n\u001b[1;32m    257\u001b[0m         \u001b[0;32mif\u001b[0m \u001b[0mself\u001b[0m\u001b[0;34m.\u001b[0m\u001b[0mbackend\u001b[0m \u001b[0;32mis\u001b[0m \u001b[0;32mnot\u001b[0m \u001b[0;32mNone\u001b[0m\u001b[0;34m:\u001b[0m\u001b[0;34m\u001b[0m\u001b[0;34m\u001b[0m\u001b[0m\n\u001b[1;32m    258\u001b[0m             \u001b[0mlogger\u001b[0m\u001b[0;34m.\u001b[0m\u001b[0minfo\u001b[0m\u001b[0;34m(\u001b[0m\u001b[0;34m\"resuming backend\"\u001b[0m\u001b[0;34m)\u001b[0m\u001b[0;34m\u001b[0m\u001b[0;34m\u001b[0m\u001b[0m\n\u001b[0;32m--> 259\u001b[0;31m             \u001b[0mself\u001b[0m\u001b[0;34m.\u001b[0m\u001b[0mbackend\u001b[0m\u001b[0;34m.\u001b[0m\u001b[0minterface\u001b[0m\u001b[0;34m.\u001b[0m\u001b[0mpublish_resume\u001b[0m\u001b[0;34m(\u001b[0m\u001b[0;34m)\u001b[0m\u001b[0;34m\u001b[0m\u001b[0;34m\u001b[0m\u001b[0m\n\u001b[0m\u001b[1;32m    260\u001b[0m \u001b[0;34m\u001b[0m\u001b[0m\n\u001b[1;32m    261\u001b[0m     \u001b[0;32mdef\u001b[0m \u001b[0m_jupyter_teardown\u001b[0m\u001b[0;34m(\u001b[0m\u001b[0mself\u001b[0m\u001b[0;34m)\u001b[0m\u001b[0;34m:\u001b[0m\u001b[0;34m\u001b[0m\u001b[0;34m\u001b[0m\u001b[0m\n",
            "\u001b[0;32m/usr/local/lib/python3.7/dist-packages/wandb/sdk/interface/interface.py\u001b[0m in \u001b[0;36mpublish_resume\u001b[0;34m(self)\u001b[0m\n\u001b[1;32m    595\u001b[0m         \u001b[0mresume\u001b[0m \u001b[0;34m=\u001b[0m \u001b[0mpb\u001b[0m\u001b[0;34m.\u001b[0m\u001b[0mResumeRequest\u001b[0m\u001b[0;34m(\u001b[0m\u001b[0;34m)\u001b[0m\u001b[0;34m\u001b[0m\u001b[0;34m\u001b[0m\u001b[0m\n\u001b[1;32m    596\u001b[0m         \u001b[0mrec\u001b[0m \u001b[0;34m=\u001b[0m \u001b[0mself\u001b[0m\u001b[0;34m.\u001b[0m\u001b[0m_make_request\u001b[0m\u001b[0;34m(\u001b[0m\u001b[0mresume\u001b[0m\u001b[0;34m=\u001b[0m\u001b[0mresume\u001b[0m\u001b[0;34m)\u001b[0m\u001b[0;34m\u001b[0m\u001b[0;34m\u001b[0m\u001b[0m\n\u001b[0;32m--> 597\u001b[0;31m         \u001b[0mself\u001b[0m\u001b[0;34m.\u001b[0m\u001b[0m_publish\u001b[0m\u001b[0;34m(\u001b[0m\u001b[0mrec\u001b[0m\u001b[0;34m)\u001b[0m\u001b[0;34m\u001b[0m\u001b[0;34m\u001b[0m\u001b[0m\n\u001b[0m\u001b[1;32m    598\u001b[0m \u001b[0;34m\u001b[0m\u001b[0m\n\u001b[1;32m    599\u001b[0m     \u001b[0;32mdef\u001b[0m \u001b[0m_publish_run\u001b[0m\u001b[0;34m(\u001b[0m\u001b[0mself\u001b[0m\u001b[0;34m,\u001b[0m \u001b[0mrun\u001b[0m\u001b[0;34m:\u001b[0m \u001b[0mpb\u001b[0m\u001b[0;34m.\u001b[0m\u001b[0mRunRecord\u001b[0m\u001b[0;34m)\u001b[0m \u001b[0;34m->\u001b[0m \u001b[0;32mNone\u001b[0m\u001b[0;34m:\u001b[0m\u001b[0;34m\u001b[0m\u001b[0;34m\u001b[0m\u001b[0m\n",
            "\u001b[0;32m/usr/local/lib/python3.7/dist-packages/wandb/sdk/interface/interface.py\u001b[0m in \u001b[0;36m_publish\u001b[0;34m(self, record, local)\u001b[0m\n\u001b[1;32m    526\u001b[0m     \u001b[0;32mdef\u001b[0m \u001b[0m_publish\u001b[0m\u001b[0;34m(\u001b[0m\u001b[0mself\u001b[0m\u001b[0;34m,\u001b[0m \u001b[0mrecord\u001b[0m\u001b[0;34m:\u001b[0m \u001b[0mpb\u001b[0m\u001b[0;34m.\u001b[0m\u001b[0mRecord\u001b[0m\u001b[0;34m,\u001b[0m \u001b[0mlocal\u001b[0m\u001b[0;34m:\u001b[0m \u001b[0mbool\u001b[0m \u001b[0;34m=\u001b[0m \u001b[0;32mNone\u001b[0m\u001b[0;34m)\u001b[0m \u001b[0;34m->\u001b[0m \u001b[0;32mNone\u001b[0m\u001b[0;34m:\u001b[0m\u001b[0;34m\u001b[0m\u001b[0;34m\u001b[0m\u001b[0m\n\u001b[1;32m    527\u001b[0m         \u001b[0;32mif\u001b[0m \u001b[0mself\u001b[0m\u001b[0;34m.\u001b[0m\u001b[0m_process\u001b[0m \u001b[0;32mand\u001b[0m \u001b[0;32mnot\u001b[0m \u001b[0mself\u001b[0m\u001b[0;34m.\u001b[0m\u001b[0m_process\u001b[0m\u001b[0;34m.\u001b[0m\u001b[0mis_alive\u001b[0m\u001b[0;34m(\u001b[0m\u001b[0;34m)\u001b[0m\u001b[0;34m:\u001b[0m\u001b[0;34m\u001b[0m\u001b[0;34m\u001b[0m\u001b[0m\n\u001b[0;32m--> 528\u001b[0;31m             \u001b[0;32mraise\u001b[0m \u001b[0mException\u001b[0m\u001b[0;34m(\u001b[0m\u001b[0;34m\"The wandb backend process has shutdown\"\u001b[0m\u001b[0;34m)\u001b[0m\u001b[0;34m\u001b[0m\u001b[0;34m\u001b[0m\u001b[0m\n\u001b[0m\u001b[1;32m    529\u001b[0m         \u001b[0;32mif\u001b[0m \u001b[0mlocal\u001b[0m\u001b[0;34m:\u001b[0m\u001b[0;34m\u001b[0m\u001b[0;34m\u001b[0m\u001b[0m\n\u001b[1;32m    530\u001b[0m             \u001b[0mrecord\u001b[0m\u001b[0;34m.\u001b[0m\u001b[0mcontrol\u001b[0m\u001b[0;34m.\u001b[0m\u001b[0mlocal\u001b[0m \u001b[0;34m=\u001b[0m \u001b[0mlocal\u001b[0m\u001b[0;34m\u001b[0m\u001b[0;34m\u001b[0m\u001b[0m\n",
            "\u001b[0;31mException\u001b[0m: The wandb backend process has shutdown"
          ]
        },
        {
          "output_type": "stream",
          "name": "stdout",
          "text": [
            "==> Preparing data..\n",
            "Files already downloaded and verified\n",
            "Files already downloaded and verified\n",
            "==> Building model..\n",
            "\n",
            "Epoch: 0\n"
          ]
        },
        {
          "output_type": "stream",
          "name": "stderr",
          "text": [
            "Exception in thread Thread-14:\n",
            "Traceback (most recent call last):\n",
            "  File \"/usr/lib/python3.7/threading.py\", line 926, in _bootstrap_inner\n",
            "    self.run()\n",
            "  File \"/usr/lib/python3.7/threading.py\", line 870, in run\n",
            "    self._target(*self._args, **self._kwargs)\n",
            "  File \"/usr/local/lib/python3.7/dist-packages/wandb/sdk/wandb_run.py\", line 198, in check_status\n",
            "    status_response = self._interface.communicate_stop_status()\n",
            "  File \"/usr/local/lib/python3.7/dist-packages/wandb/sdk/interface/interface.py\", line 735, in communicate_stop_status\n",
            "    resp = self._communicate(req, timeout=timeout, local=True)\n",
            "  File \"/usr/local/lib/python3.7/dist-packages/wandb/sdk/interface/interface.py\", line 537, in _communicate\n",
            "    return self._communicate_async(rec, local=local).get(timeout=timeout)\n",
            "  File \"/usr/local/lib/python3.7/dist-packages/wandb/sdk/interface/interface.py\", line 542, in _communicate_async\n",
            "    raise Exception(\"The wandb backend process has shutdown\")\n",
            "Exception: The wandb backend process has shutdown\n",
            "\n"
          ]
        },
        {
          "output_type": "stream",
          "name": "stdout",
          "text": [
            " [================================================================>]  Step: 351ms | Tot: 22s298ms | Loss: 2.174 | Acc: 31.166% (15583/50000) 391/391 \n",
            " [================================================================>]  Step: 43ms | Tot: 2s999ms | Loss: 1.592 | Acc: 42.740% (4274/10000) 100/100 \n",
            "Saving..\n",
            "\n",
            "Epoch: 1\n",
            " [================================================================>]  Step: 32ms | Tot: 21s848ms | Loss: 1.514 | Acc: 44.784% (22392/50000) 391/391 \n",
            " [================================================================>]  Step: 22ms | Tot: 3s16ms | Loss: 1.412 | Acc: 49.330% (4933/10000) 100/100 \n",
            "Saving..\n",
            "\n",
            "Epoch: 2\n",
            " [================================================================>]  Step: 33ms | Tot: 22s197ms | Loss: 1.307 | Acc: 53.018% (26509/50000) 391/391 \n",
            " [================================================================>]  Step: 27ms | Tot: 3s49ms | Loss: 1.251 | Acc: 55.530% (5553/10000) 100/100 \n",
            "Saving..\n",
            "\n",
            "Epoch: 3\n",
            " [================================================================>]  Step: 33ms | Tot: 21s791ms | Loss: 1.164 | Acc: 58.634% (29317/50000) 391/391 \n",
            " [================================================================>]  Step: 26ms | Tot: 2s984ms | Loss: 1.051 | Acc: 63.660% (6366/10000) 100/100 \n",
            "Saving..\n",
            "\n",
            "Epoch: 4\n",
            " [================================================================>]  Step: 32ms | Tot: 21s788ms | Loss: 1.086 | Acc: 61.812% (30906/50000) 391/391 \n",
            " [================================================================>]  Step: 27ms | Tot: 3s37ms | Loss: 0.997 | Acc: 64.710% (6471/10000) 100/100 \n",
            "Saving..\n",
            "\n",
            "Epoch: 5\n",
            " [================================================================>]  Step: 35ms | Tot: 22s64ms | Loss: 1.002 | Acc: 64.896% (32448/50000) 391/391 \n",
            " [================================================================>]  Step: 26ms | Tot: 3s67ms | Loss: 0.946 | Acc: 67.640% (6764/10000) 100/100 \n",
            "Saving..\n",
            "\n",
            "Epoch: 6\n",
            " [================================================================>]  Step: 32ms | Tot: 21s733ms | Loss: 0.957 | Acc: 66.724% (33362/50000) 391/391 \n",
            " [================================================================>]  Step: 22ms | Tot: 3s31ms | Loss: 0.966 | Acc: 66.870% (6687/10000) 100/100 \n",
            "\n",
            "Epoch: 7\n",
            " [================================================================>]  Step: 34ms | Tot: 21s744ms | Loss: 0.919 | Acc: 68.234% (34117/50000) 391/391 \n",
            " [================================================================>]  Step: 23ms | Tot: 3s253ms | Loss: 0.990 | Acc: 65.820% (6582/10000) 100/100 \n",
            "\n",
            "Epoch: 8\n",
            " [================================================================>]  Step: 31ms | Tot: 22s870ms | Loss: 0.883 | Acc: 69.348% (34674/50000) 391/391 \n",
            " [================================================================>]  Step: 30ms | Tot: 3s174ms | Loss: 0.888 | Acc: 69.470% (6947/10000) 100/100 \n",
            "Saving..\n",
            "\n",
            "Epoch: 9\n",
            " [================================================================>]  Step: 37ms | Tot: 22s820ms | Loss: 0.860 | Acc: 70.358% (35179/50000) 391/391 \n",
            " [================================================================>]  Step: 28ms | Tot: 3s88ms | Loss: 0.939 | Acc: 67.580% (6758/10000) 100/100 \n",
            "\n",
            "Epoch: 10\n",
            " [================================================================>]  Step: 33ms | Tot: 22s237ms | Loss: 0.836 | Acc: 71.218% (35609/50000) 391/391 \n",
            " [================================================================>]  Step: 23ms | Tot: 3s45ms | Loss: 0.841 | Acc: 71.560% (7156/10000) 100/100 \n",
            "Saving..\n",
            "\n",
            "Epoch: 11\n",
            " [================================================================>]  Step: 35ms | Tot: 21s973ms | Loss: 0.824 | Acc: 71.722% (35861/50000) 391/391 \n",
            " [================================================================>]  Step: 23ms | Tot: 3s41ms | Loss: 0.787 | Acc: 73.770% (7377/10000) 100/100 \n",
            "Saving..\n",
            "\n",
            "Epoch: 12\n",
            " [================================================================>]  Step: 34ms | Tot: 21s766ms | Loss: 0.810 | Acc: 72.234% (36117/50000) 391/391 \n",
            " [================================================================>]  Step: 48ms | Tot: 3s61ms | Loss: 0.923 | Acc: 68.530% (6853/10000) 100/100 \n",
            "\n",
            "Epoch: 13\n",
            " [================================================================>]  Step: 34ms | Tot: 21s656ms | Loss: 0.791 | Acc: 72.928% (36464/50000) 391/391 \n",
            " [================================================================>]  Step: 26ms | Tot: 3s64ms | Loss: 0.907 | Acc: 69.240% (6924/10000) 100/100 \n",
            "\n",
            "Epoch: 14\n",
            " [================================================================>]  Step: 35ms | Tot: 21s677ms | Loss: 0.783 | Acc: 73.270% (36635/50000) 391/391 \n",
            " [================================================================>]  Step: 25ms | Tot: 3s128ms | Loss: 1.004 | Acc: 67.030% (6703/10000) 100/100 \n",
            "\n",
            "Epoch: 15\n",
            " [================================================================>]  Step: 33ms | Tot: 21s909ms | Loss: 0.763 | Acc: 73.868% (36934/50000) 391/391 \n",
            " [================================================================>]  Step: 25ms | Tot: 3s15ms | Loss: 0.838 | Acc: 71.670% (7167/10000) 100/100 \n",
            "\n",
            "Epoch: 16\n",
            " [================================================================>]  Step: 35ms | Tot: 21s894ms | Loss: 0.760 | Acc: 73.886% (36943/50000) 391/391 \n",
            " [================================================================>]  Step: 23ms | Tot: 2s990ms | Loss: 0.772 | Acc: 73.590% (7359/10000) 100/100 \n",
            "\n",
            "Epoch: 17\n",
            " [================================================================>]  Step: 34ms | Tot: 21s421ms | Loss: 0.758 | Acc: 74.162% (37081/50000) 391/391 \n",
            " [================================================================>]  Step: 23ms | Tot: 3s17ms | Loss: 0.792 | Acc: 72.570% (7257/10000) 100/100 \n",
            "\n",
            "Epoch: 18\n",
            " [================================================================>]  Step: 34ms | Tot: 21s825ms | Loss: 0.743 | Acc: 74.640% (37320/50000) 391/391 \n",
            " [================================================================>]  Step: 32ms | Tot: 2s968ms | Loss: 0.800 | Acc: 72.660% (7266/10000) 100/100 \n",
            "\n",
            "Epoch: 19\n",
            " [================================================================>]  Step: 37ms | Tot: 22s896ms | Loss: 0.737 | Acc: 74.750% (37375/50000) 391/391 \n",
            " [================================================================>]  Step: 27ms | Tot: 3s218ms | Loss: 0.863 | Acc: 71.490% (7149/10000) 100/100 \n",
            "\n",
            "Epoch: 20\n",
            " [================================================================>]  Step: 35ms | Tot: 23s87ms | Loss: 0.728 | Acc: 75.152% (37576/50000) 391/391 \n",
            " [================================================================>]  Step: 27ms | Tot: 3s228ms | Loss: 0.714 | Acc: 75.760% (7576/10000) 100/100 \n",
            "Saving..\n",
            "\n",
            "Epoch: 21\n",
            " [================================================================>]  Step: 33ms | Tot: 22s108ms | Loss: 0.729 | Acc: 75.066% (37533/50000) 391/391 \n",
            " [================================================================>]  Step: 24ms | Tot: 3s67ms | Loss: 0.773 | Acc: 73.970% (7397/10000) 100/100 \n",
            "\n",
            "Epoch: 22\n",
            " [================================================================>]  Step: 34ms | Tot: 21s839ms | Loss: 0.724 | Acc: 75.262% (37631/50000) 391/391 \n",
            " [================================================================>]  Step: 25ms | Tot: 3s24ms | Loss: 0.820 | Acc: 72.460% (7246/10000) 100/100 \n",
            "\n",
            "Epoch: 23\n",
            " [================================================================>]  Step: 35ms | Tot: 21s861ms | Loss: 0.715 | Acc: 75.742% (37871/50000) 391/391 \n",
            " [================================================================>]  Step: 27ms | Tot: 3s94ms | Loss: 0.786 | Acc: 73.150% (7315/10000) 100/100 \n",
            "\n",
            "Epoch: 24\n",
            " [================================================================>]  Step: 34ms | Tot: 21s928ms | Loss: 0.707 | Acc: 75.824% (37912/50000) 391/391 \n",
            " [================================================================>]  Step: 26ms | Tot: 3s61ms | Loss: 0.857 | Acc: 72.170% (7217/10000) 100/100 \n",
            "\n",
            "Epoch: 25\n",
            " [================================================================>]  Step: 34ms | Tot: 22s288ms | Loss: 0.706 | Acc: 76.004% (38002/50000) 391/391 \n",
            " [================================================================>]  Step: 25ms | Tot: 3s160ms | Loss: 0.757 | Acc: 74.590% (7459/10000) 100/100 \n",
            "\n",
            "Epoch: 26\n",
            " [================================================================>]  Step: 32ms | Tot: 21s546ms | Loss: 0.697 | Acc: 76.320% (38160/50000) 391/391 \n",
            " [================================================================>]  Step: 32ms | Tot: 3s23ms | Loss: 0.803 | Acc: 72.820% (7282/10000) 100/100 \n",
            "\n",
            "Epoch: 27\n",
            " [================================================================>]  Step: 45ms | Tot: 21s629ms | Loss: 0.699 | Acc: 75.822% (37911/50000) 391/391 \n",
            " [================================================================>]  Step: 24ms | Tot: 2s980ms | Loss: 0.756 | Acc: 74.470% (7447/10000) 100/100 \n",
            "\n",
            "Epoch: 28\n",
            " [================================================================>]  Step: 33ms | Tot: 21s686ms | Loss: 0.691 | Acc: 76.304% (38152/50000) 391/391 \n",
            " [================================================================>]  Step: 29ms | Tot: 3s77ms | Loss: 0.766 | Acc: 74.860% (7486/10000) 100/100 \n",
            "\n",
            "Epoch: 29\n",
            " [================================================================>]  Step: 37ms | Tot: 21s924ms | Loss: 0.688 | Acc: 76.540% (38270/50000) 391/391 \n",
            " [================================================================>]  Step: 26ms | Tot: 3s264ms | Loss: 0.748 | Acc: 74.400% (7440/10000) 100/100 \n",
            "\n",
            "Epoch: 30\n",
            " [================================================================>]  Step: 34ms | Tot: 21s903ms | Loss: 0.688 | Acc: 76.642% (38321/50000) 391/391 \n",
            " [================================================================>]  Step: 25ms | Tot: 3s64ms | Loss: 0.729 | Acc: 75.350% (7535/10000) 100/100 \n",
            "\n",
            "Epoch: 31\n",
            " [================================================================>]  Step: 28ms | Tot: 21s553ms | Loss: 0.679 | Acc: 76.794% (38397/50000) 391/391 \n",
            " [================================================================>]  Step: 27ms | Tot: 3s11ms | Loss: 0.741 | Acc: 75.270% (7527/10000) 100/100 \n",
            "\n",
            "Epoch: 32\n",
            " [================================================================>]  Step: 39ms | Tot: 21s965ms | Loss: 0.675 | Acc: 76.978% (38489/50000) 391/391 \n",
            " [================================================================>]  Step: 29ms | Tot: 3s63ms | Loss: 0.885 | Acc: 71.740% (7174/10000) 100/100 \n",
            "\n",
            "Epoch: 33\n",
            " [================================================================>]  Step: 33ms | Tot: 22s46ms | Loss: 0.680 | Acc: 76.846% (38423/50000) 391/391 \n",
            " [================================================================>]  Step: 25ms | Tot: 3s148ms | Loss: 0.808 | Acc: 73.650% (7365/10000) 100/100 \n",
            "\n",
            "Epoch: 34\n",
            " [================================================================>]  Step: 34ms | Tot: 22s155ms | Loss: 0.672 | Acc: 77.106% (38553/50000) 391/391 \n",
            " [================================================================>]  Step: 28ms | Tot: 3s29ms | Loss: 0.811 | Acc: 72.950% (7295/10000) 100/100 \n",
            "\n",
            "Epoch: 35\n",
            " [================================================================>]  Step: 35ms | Tot: 21s798ms | Loss: 0.679 | Acc: 76.970% (38485/50000) 391/391 \n",
            " [================================================================>]  Step: 27ms | Tot: 3s85ms | Loss: 0.741 | Acc: 74.970% (7497/10000) 100/100 \n",
            "\n",
            "Epoch: 36\n",
            " [================================================================>]  Step: 35ms | Tot: 21s784ms | Loss: 0.666 | Acc: 77.382% (38691/50000) 391/391 \n",
            " [================================================================>]  Step: 28ms | Tot: 3s107ms | Loss: 0.662 | Acc: 77.880% (7788/10000) 100/100 \n",
            "Saving..\n",
            "\n",
            "Epoch: 37\n",
            " [================================================================>]  Step: 36ms | Tot: 22s322ms | Loss: 0.662 | Acc: 77.454% (38727/50000) 391/391 \n",
            " [================================================================>]  Step: 23ms | Tot: 3s50ms | Loss: 0.760 | Acc: 74.180% (7418/10000) 100/100 \n",
            "\n",
            "Epoch: 38\n",
            " [================================================================>]  Step: 32ms | Tot: 21s920ms | Loss: 0.660 | Acc: 77.474% (38737/50000) 391/391 \n",
            " [================================================================>]  Step: 31ms | Tot: 3s192ms | Loss: 0.829 | Acc: 72.920% (7292/10000) 100/100 \n",
            "\n",
            "Epoch: 39\n",
            " [================================================================>]  Step: 37ms | Tot: 21s545ms | Loss: 0.662 | Acc: 77.576% (38788/50000) 391/391 \n",
            " [================================================================>]  Step: 17ms | Tot: 3s141ms | Loss: 0.802 | Acc: 73.690% (7369/10000) 100/100 \n",
            "\n",
            "Epoch: 40\n",
            " [================================================================>]  Step: 33ms | Tot: 21s780ms | Loss: 0.652 | Acc: 77.898% (38949/50000) 391/391 \n",
            " [================================================================>]  Step: 25ms | Tot: 3s17ms | Loss: 0.722 | Acc: 76.190% (7619/10000) 100/100 \n",
            "\n",
            "Epoch: 41\n",
            " [================================================================>]  Step: 34ms | Tot: 21s883ms | Loss: 0.656 | Acc: 77.616% (38808/50000) 391/391 \n",
            " [================================================================>]  Step: 30ms | Tot: 3s94ms | Loss: 0.765 | Acc: 74.140% (7414/10000) 100/100 \n",
            "\n",
            "Epoch: 42\n",
            " [================================================================>]  Step: 33ms | Tot: 21s726ms | Loss: 0.655 | Acc: 77.770% (38885/50000) 391/391 \n",
            " [================================================================>]  Step: 30ms | Tot: 3s131ms | Loss: 0.742 | Acc: 75.220% (7522/10000) 100/100 \n",
            "\n",
            "Epoch: 43\n",
            " [================================================================>]  Step: 33ms | Tot: 22s47ms | Loss: 0.646 | Acc: 77.802% (38901/50000) 391/391 \n",
            " [================================================================>]  Step: 31ms | Tot: 3s84ms | Loss: 0.792 | Acc: 73.450% (7345/10000) 100/100 \n",
            "\n",
            "Epoch: 44\n",
            " [================================================================>]  Step: 35ms | Tot: 21s590ms | Loss: 0.643 | Acc: 78.108% (39054/50000) 391/391 \n",
            " [================================================================>]  Step: 24ms | Tot: 2s967ms | Loss: 0.718 | Acc: 76.070% (7607/10000) 100/100 \n",
            "\n",
            "Epoch: 45\n",
            " [================================================================>]  Step: 32ms | Tot: 21s559ms | Loss: 0.645 | Acc: 77.950% (38975/50000) 391/391 \n",
            " [================================================================>]  Step: 26ms | Tot: 3s172ms | Loss: 0.813 | Acc: 72.960% (7296/10000) 100/100 \n",
            "\n",
            "Epoch: 46\n",
            " [================================================================>]  Step: 35ms | Tot: 22s568ms | Loss: 0.644 | Acc: 78.054% (39027/50000) 391/391 \n",
            " [================================================================>]  Step: 30ms | Tot: 3s273ms | Loss: 0.659 | Acc: 77.390% (7739/10000) 100/100 \n",
            "\n",
            "Epoch: 47\n",
            " [================================================================>]  Step: 34ms | Tot: 22s336ms | Loss: 0.650 | Acc: 77.680% (38840/50000) 391/391 \n",
            " [================================================================>]  Step: 27ms | Tot: 3s143ms | Loss: 0.781 | Acc: 74.170% (7417/10000) 100/100 \n",
            "\n",
            "Epoch: 48\n",
            " [================================================================>]  Step: 35ms | Tot: 22s270ms | Loss: 0.630 | Acc: 78.388% (39194/50000) 391/391 \n",
            " [================================================================>]  Step: 31ms | Tot: 3s194ms | Loss: 0.818 | Acc: 73.460% (7346/10000) 100/100 \n",
            "\n",
            "Epoch: 49\n",
            " [================================================================>]  Step: 34ms | Tot: 22s204ms | Loss: 0.631 | Acc: 78.606% (39303/50000) 391/391 \n",
            " [================================================================>]  Step: 29ms | Tot: 3s267ms | Loss: 0.689 | Acc: 77.090% (7709/10000) 100/100 \n",
            "\n",
            "Epoch: 50\n",
            " [================================================================>]  Step: 32ms | Tot: 22s290ms | Loss: 0.634 | Acc: 78.562% (39281/50000) 391/391 \n",
            " [================================================================>]  Step: 33ms | Tot: 3s202ms | Loss: 0.705 | Acc: 76.460% (7646/10000) 100/100 \n",
            "\n",
            "Epoch: 51\n",
            " [================================================================>]  Step: 32ms | Tot: 22s64ms | Loss: 0.634 | Acc: 78.416% (39208/50000) 391/391 \n",
            " [================================================================>]  Step: 31ms | Tot: 3s189ms | Loss: 0.675 | Acc: 76.720% (7672/10000) 100/100 \n",
            "\n",
            "Epoch: 52\n",
            " [================================================================>]  Step: 36ms | Tot: 22s354ms | Loss: 0.618 | Acc: 78.806% (39403/50000) 391/391 \n",
            " [================================================================>]  Step: 33ms | Tot: 3s194ms | Loss: 0.689 | Acc: 76.560% (7656/10000) 100/100 \n",
            "\n",
            "Epoch: 53\n",
            " [================================================================>]  Step: 37ms | Tot: 22s371ms | Loss: 0.620 | Acc: 78.798% (39399/50000) 391/391 \n",
            " [================================================================>]  Step: 27ms | Tot: 3s246ms | Loss: 0.740 | Acc: 74.670% (7467/10000) 100/100 \n",
            "\n",
            "Epoch: 54\n",
            " [================================================================>]  Step: 31ms | Tot: 22s75ms | Loss: 0.629 | Acc: 78.634% (39317/50000) 391/391 \n",
            " [================================================================>]  Step: 25ms | Tot: 3s254ms | Loss: 0.656 | Acc: 77.800% (7780/10000) 100/100 \n",
            "\n",
            "Epoch: 55\n",
            " [================================================================>]  Step: 34ms | Tot: 22s245ms | Loss: 0.616 | Acc: 78.928% (39464/50000) 391/391 \n",
            " [================================================================>]  Step: 44ms | Tot: 3s220ms | Loss: 0.827 | Acc: 72.660% (7266/10000) 100/100 \n",
            "\n",
            "Epoch: 56\n",
            " [================================================================>]  Step: 34ms | Tot: 21s949ms | Loss: 0.616 | Acc: 79.082% (39541/50000) 391/391 \n",
            " [================================================================>]  Step: 25ms | Tot: 3s185ms | Loss: 0.797 | Acc: 73.260% (7326/10000) 100/100 \n",
            "\n",
            "Epoch: 57\n",
            " [================================================================>]  Step: 48ms | Tot: 22s24ms | Loss: 0.618 | Acc: 78.918% (39459/50000) 391/391 \n",
            " [================================================================>]  Step: 32ms | Tot: 3s208ms | Loss: 0.732 | Acc: 75.740% (7574/10000) 100/100 \n",
            "\n",
            "Epoch: 58\n",
            " [================================================================>]  Step: 33ms | Tot: 21s981ms | Loss: 0.610 | Acc: 79.254% (39627/50000) 391/391 \n",
            " [================================================================>]  Step: 27ms | Tot: 3s309ms | Loss: 0.659 | Acc: 78.130% (7813/10000) 100/100 \n",
            "Saving..\n",
            "\n",
            "Epoch: 59\n",
            " [================================================================>]  Step: 34ms | Tot: 22s431ms | Loss: 0.608 | Acc: 79.214% (39607/50000) 391/391 \n",
            " [================================================================>]  Step: 27ms | Tot: 3s119ms | Loss: 0.636 | Acc: 78.460% (7846/10000) 100/100 \n",
            "Saving..\n",
            "\n",
            "Epoch: 60\n",
            " [================================================================>]  Step: 39ms | Tot: 22s420ms | Loss: 0.609 | Acc: 79.364% (39682/50000) 391/391 \n",
            " [================================================================>]  Step: 23ms | Tot: 3s197ms | Loss: 0.709 | Acc: 76.200% (7620/10000) 100/100 \n",
            "\n",
            "Epoch: 61\n",
            " [================================================================>]  Step: 33ms | Tot: 22s170ms | Loss: 0.601 | Acc: 79.482% (39741/50000) 391/391 \n",
            " [================================================================>]  Step: 25ms | Tot: 3s442ms | Loss: 0.648 | Acc: 78.140% (7814/10000) 100/100 \n",
            "\n",
            "Epoch: 62\n",
            " [================================================================>]  Step: 35ms | Tot: 21s932ms | Loss: 0.608 | Acc: 79.176% (39588/50000) 391/391 \n",
            " [================================================================>]  Step: 28ms | Tot: 3s204ms | Loss: 0.702 | Acc: 76.880% (7688/10000) 100/100 \n",
            "\n",
            "Epoch: 63\n",
            " [================================================================>]  Step: 40ms | Tot: 22s188ms | Loss: 0.597 | Acc: 79.492% (39746/50000) 391/391 \n",
            " [================================================================>]  Step: 17ms | Tot: 3s206ms | Loss: 0.670 | Acc: 77.960% (7796/10000) 100/100 \n",
            "\n",
            "Epoch: 64\n",
            " [================================================================>]  Step: 34ms | Tot: 22s309ms | Loss: 0.599 | Acc: 79.612% (39806/50000) 391/391 \n",
            " [================================================================>]  Step: 31ms | Tot: 3s345ms | Loss: 0.780 | Acc: 74.100% (7410/10000) 100/100 \n",
            "\n",
            "Epoch: 65\n",
            " [================================================================>]  Step: 38ms | Tot: 22s393ms | Loss: 0.599 | Acc: 79.504% (39752/50000) 391/391 \n",
            " [================================================================>]  Step: 23ms | Tot: 3s359ms | Loss: 0.619 | Acc: 78.830% (7883/10000) 100/100 \n",
            "Saving..\n",
            "\n",
            "Epoch: 66\n",
            " [================================================================>]  Step: 32ms | Tot: 22s816ms | Loss: 0.585 | Acc: 80.024% (40012/50000) 391/391 \n",
            " [================================================================>]  Step: 32ms | Tot: 3s372ms | Loss: 0.710 | Acc: 76.070% (7607/10000) 100/100 \n",
            "\n",
            "Epoch: 67\n",
            " [================================================================>]  Step: 35ms | Tot: 23s41ms | Loss: 0.590 | Acc: 79.928% (39964/50000) 391/391 \n",
            " [================================================================>]  Step: 27ms | Tot: 3s266ms | Loss: 0.653 | Acc: 78.290% (7829/10000) 100/100 \n",
            "\n",
            "Epoch: 68\n",
            " [================================================================>]  Step: 42ms | Tot: 22s669ms | Loss: 0.591 | Acc: 79.886% (39943/50000) 391/391 \n",
            " [================================================================>]  Step: 28ms | Tot: 3s158ms | Loss: 0.634 | Acc: 78.010% (7801/10000) 100/100 \n",
            "\n",
            "Epoch: 69\n",
            " [================================================================>]  Step: 36ms | Tot: 22s599ms | Loss: 0.580 | Acc: 80.160% (40080/50000) 391/391 \n",
            " [================================================================>]  Step: 28ms | Tot: 3s235ms | Loss: 0.682 | Acc: 77.430% (7743/10000) 100/100 \n",
            "\n",
            "Epoch: 70\n",
            " [================================================================>]  Step: 34ms | Tot: 22s409ms | Loss: 0.584 | Acc: 79.974% (39987/50000) 391/391 \n",
            " [================================================================>]  Step: 32ms | Tot: 3s351ms | Loss: 0.636 | Acc: 78.500% (7850/10000) 100/100 \n",
            "\n",
            "Epoch: 71\n",
            " [================================================================>]  Step: 36ms | Tot: 22s586ms | Loss: 0.575 | Acc: 80.300% (40150/50000) 391/391 \n",
            " [================================================================>]  Step: 26ms | Tot: 3s171ms | Loss: 0.742 | Acc: 74.850% (7485/10000) 100/100 \n",
            "\n",
            "Epoch: 72\n",
            " [================================================================>]  Step: 34ms | Tot: 22s672ms | Loss: 0.570 | Acc: 80.596% (40298/50000) 391/391 \n",
            " [================================================================>]  Step: 23ms | Tot: 3s171ms | Loss: 0.637 | Acc: 78.790% (7879/10000) 100/100 \n",
            "\n",
            "Epoch: 73\n",
            " [================================================================>]  Step: 35ms | Tot: 22s285ms | Loss: 0.567 | Acc: 80.558% (40279/50000) 391/391 \n",
            " [================================================================>]  Step: 27ms | Tot: 3s270ms | Loss: 0.651 | Acc: 78.400% (7840/10000) 100/100 \n",
            "\n",
            "Epoch: 74\n",
            " [================================================================>]  Step: 36ms | Tot: 22s398ms | Loss: 0.566 | Acc: 80.922% (40461/50000) 391/391 \n",
            " [================================================================>]  Step: 25ms | Tot: 3s309ms | Loss: 0.775 | Acc: 74.750% (7475/10000) 100/100 \n",
            "\n",
            "Epoch: 75\n",
            " [================================================================>]  Step: 37ms | Tot: 22s290ms | Loss: 0.572 | Acc: 80.436% (40218/50000) 391/391 \n",
            " [================================================================>]  Step: 28ms | Tot: 3s310ms | Loss: 0.700 | Acc: 76.790% (7679/10000) 100/100 \n",
            "\n",
            "Epoch: 76\n",
            " [================================================================>]  Step: 35ms | Tot: 22s545ms | Loss: 0.565 | Acc: 80.734% (40367/50000) 391/391 \n",
            " [================================================================>]  Step: 27ms | Tot: 3s307ms | Loss: 0.579 | Acc: 80.470% (8047/10000) 100/100 \n",
            "Saving..\n",
            "\n",
            "Epoch: 77\n",
            " [================================================================>]  Step: 39ms | Tot: 23s60ms | Loss: 0.559 | Acc: 80.910% (40455/50000) 391/391 \n",
            " [================================================================>]  Step: 27ms | Tot: 3s365ms | Loss: 0.654 | Acc: 77.830% (7783/10000) 100/100 \n",
            "\n",
            "Epoch: 78\n",
            " [================================================================>]  Step: 37ms | Tot: 23s32ms | Loss: 0.555 | Acc: 80.914% (40457/50000) 391/391 \n",
            " [================================================================>]  Step: 26ms | Tot: 3s406ms | Loss: 0.662 | Acc: 78.190% (7819/10000) 100/100 \n",
            "\n",
            "Epoch: 79\n",
            " [================================================================>]  Step: 36ms | Tot: 22s841ms | Loss: 0.554 | Acc: 80.778% (40389/50000) 391/391 \n",
            " [================================================================>]  Step: 27ms | Tot: 3s379ms | Loss: 0.630 | Acc: 78.480% (7848/10000) 100/100 \n",
            "\n",
            "Epoch: 80\n",
            " [================================================================>]  Step: 32ms | Tot: 23s247ms | Loss: 0.547 | Acc: 81.182% (40591/50000) 391/391 \n",
            " [================================================================>]  Step: 29ms | Tot: 3s387ms | Loss: 0.731 | Acc: 75.870% (7587/10000) 100/100 \n",
            "\n",
            "Epoch: 81\n",
            " [================================================================>]  Step: 36ms | Tot: 22s696ms | Loss: 0.548 | Acc: 81.402% (40701/50000) 391/391 \n",
            " [================================================================>]  Step: 26ms | Tot: 3s322ms | Loss: 0.648 | Acc: 78.210% (7821/10000) 100/100 \n",
            "\n",
            "Epoch: 82\n",
            " [================================================================>]  Step: 32ms | Tot: 22s364ms | Loss: 0.553 | Acc: 81.232% (40616/50000) 391/391 \n",
            " [================================================================>]  Step: 28ms | Tot: 3s187ms | Loss: 0.646 | Acc: 78.460% (7846/10000) 100/100 \n",
            "\n",
            "Epoch: 83\n",
            " [================================================================>]  Step: 36ms | Tot: 22s451ms | Loss: 0.550 | Acc: 81.176% (40588/50000) 391/391 \n",
            " [================================================================>]  Step: 25ms | Tot: 3s138ms | Loss: 0.632 | Acc: 78.880% (7888/10000) 100/100 \n",
            "\n",
            "Epoch: 84\n",
            " [================================================================>]  Step: 35ms | Tot: 22s521ms | Loss: 0.541 | Acc: 81.508% (40754/50000) 391/391 \n",
            " [================================================================>]  Step: 29ms | Tot: 3s336ms | Loss: 0.660 | Acc: 77.730% (7773/10000) 100/100 \n",
            "\n",
            "Epoch: 85\n",
            " [================================================================>]  Step: 34ms | Tot: 22s367ms | Loss: 0.534 | Acc: 81.654% (40827/50000) 391/391 \n",
            " [================================================================>]  Step: 32ms | Tot: 3s254ms | Loss: 0.786 | Acc: 74.690% (7469/10000) 100/100 \n",
            "\n",
            "Epoch: 86\n",
            " [================================================================>]  Step: 36ms | Tot: 22s587ms | Loss: 0.533 | Acc: 81.644% (40822/50000) 391/391 \n",
            " [================================================================>]  Step: 29ms | Tot: 3s290ms | Loss: 0.588 | Acc: 80.600% (8060/10000) 100/100 \n",
            "Saving..\n",
            "\n",
            "Epoch: 87\n",
            " [================================================================>]  Step: 34ms | Tot: 22s570ms | Loss: 0.532 | Acc: 81.740% (40870/50000) 391/391 \n",
            " [================================================================>]  Step: 20ms | Tot: 3s223ms | Loss: 0.667 | Acc: 77.770% (7777/10000) 100/100 \n",
            "\n",
            "Epoch: 88\n",
            " [================================================================>]  Step: 33ms | Tot: 22s575ms | Loss: 0.526 | Acc: 82.122% (41061/50000) 391/391 \n",
            " [================================================================>]  Step: 23ms | Tot: 3s192ms | Loss: 0.589 | Acc: 80.270% (8027/10000) 100/100 \n",
            "\n",
            "Epoch: 89\n",
            " [================================================================>]  Step: 36ms | Tot: 22s407ms | Loss: 0.526 | Acc: 81.888% (40944/50000) 391/391 \n",
            " [================================================================>]  Step: 39ms | Tot: 3s222ms | Loss: 0.625 | Acc: 80.050% (8005/10000) 100/100 \n",
            "\n",
            "Epoch: 90\n",
            " [================================================================>]  Step: 35ms | Tot: 22s333ms | Loss: 0.514 | Acc: 82.528% (41264/50000) 391/391 \n",
            " [================================================================>]  Step: 27ms | Tot: 3s281ms | Loss: 0.563 | Acc: 81.020% (8102/10000) 100/100 \n",
            "Saving..\n",
            "\n",
            "Epoch: 91\n",
            " [================================================================>]  Step: 36ms | Tot: 22s453ms | Loss: 0.514 | Acc: 82.304% (41152/50000) 391/391 \n",
            " [================================================================>]  Step: 22ms | Tot: 3s268ms | Loss: 0.673 | Acc: 77.490% (7749/10000) 100/100 \n",
            "\n",
            "Epoch: 92\n",
            " [================================================================>]  Step: 39ms | Tot: 22s333ms | Loss: 0.514 | Acc: 82.682% (41341/50000) 391/391 \n",
            " [================================================================>]  Step: 33ms | Tot: 3s191ms | Loss: 0.625 | Acc: 79.120% (7912/10000) 100/100 \n",
            "\n",
            "Epoch: 93\n",
            " [================================================================>]  Step: 38ms | Tot: 22s376ms | Loss: 0.513 | Acc: 82.426% (41213/50000) 391/391 \n",
            " [================================================================>]  Step: 32ms | Tot: 3s357ms | Loss: 0.649 | Acc: 78.490% (7849/10000) 100/100 \n",
            "\n",
            "Epoch: 94\n",
            " [================================================================>]  Step: 36ms | Tot: 22s284ms | Loss: 0.510 | Acc: 82.394% (41197/50000) 391/391 \n",
            " [================================================================>]  Step: 29ms | Tot: 3s342ms | Loss: 0.653 | Acc: 78.410% (7841/10000) 100/100 \n",
            "\n",
            "Epoch: 95\n",
            " [================================================================>]  Step: 35ms | Tot: 22s60ms | Loss: 0.503 | Acc: 82.744% (41372/50000) 391/391 \n",
            " [================================================================>]  Step: 28ms | Tot: 3s323ms | Loss: 0.593 | Acc: 80.920% (8092/10000) 100/100 \n",
            "\n",
            "Epoch: 96\n",
            " [================================================================>]  Step: 35ms | Tot: 22s692ms | Loss: 0.496 | Acc: 83.088% (41544/50000) 391/391 \n",
            " [================================================================>]  Step: 22ms | Tot: 3s180ms | Loss: 0.605 | Acc: 80.180% (8018/10000) 100/100 \n",
            "\n",
            "Epoch: 97\n",
            " [================================================================>]  Step: 36ms | Tot: 22s546ms | Loss: 0.495 | Acc: 83.130% (41565/50000) 391/391 \n",
            " [================================================================>]  Step: 16ms | Tot: 3s336ms | Loss: 0.637 | Acc: 78.770% (7877/10000) 100/100 \n",
            "\n",
            "Epoch: 98\n",
            " [================================================================>]  Step: 35ms | Tot: 22s935ms | Loss: 0.495 | Acc: 82.978% (41489/50000) 391/391 \n",
            " [================================================================>]  Step: 22ms | Tot: 3s259ms | Loss: 0.599 | Acc: 79.900% (7990/10000) 100/100 \n",
            "\n",
            "Epoch: 99\n",
            " [================================================================>]  Step: 35ms | Tot: 22s618ms | Loss: 0.489 | Acc: 83.234% (41617/50000) 391/391 \n",
            " [================================================================>]  Step: 25ms | Tot: 3s333ms | Loss: 0.629 | Acc: 79.300% (7930/10000) 100/100 \n",
            "Error in callback <bound method _WandbInit._pause_backend of <wandb.sdk.wandb_init._WandbInit object at 0x7f6c8326efd0>> (for post_run_cell):\n"
          ]
        },
        {
          "output_type": "error",
          "ename": "Exception",
          "evalue": "ignored",
          "traceback": [
            "\u001b[0;31m---------------------------------------------------------------------------\u001b[0m",
            "\u001b[0;31mException\u001b[0m                                 Traceback (most recent call last)",
            "\u001b[0;32m/usr/local/lib/python3.7/dist-packages/wandb/sdk/wandb_init.py\u001b[0m in \u001b[0;36m_pause_backend\u001b[0;34m(self)\u001b[0m\n\u001b[1;32m    252\u001b[0m                 \u001b[0mres\u001b[0m \u001b[0;34m=\u001b[0m \u001b[0mself\u001b[0m\u001b[0;34m.\u001b[0m\u001b[0mrun\u001b[0m\u001b[0;34m.\u001b[0m\u001b[0mlog_code\u001b[0m\u001b[0;34m(\u001b[0m\u001b[0mroot\u001b[0m\u001b[0;34m=\u001b[0m\u001b[0;32mNone\u001b[0m\u001b[0;34m)\u001b[0m\u001b[0;34m\u001b[0m\u001b[0;34m\u001b[0m\u001b[0m\n\u001b[1;32m    253\u001b[0m                 \u001b[0mlogger\u001b[0m\u001b[0;34m.\u001b[0m\u001b[0minfo\u001b[0m\u001b[0;34m(\u001b[0m\u001b[0;34m\"saved code: %s\"\u001b[0m\u001b[0;34m,\u001b[0m \u001b[0mres\u001b[0m\u001b[0;34m)\u001b[0m\u001b[0;34m\u001b[0m\u001b[0;34m\u001b[0m\u001b[0m\n\u001b[0;32m--> 254\u001b[0;31m             \u001b[0mself\u001b[0m\u001b[0;34m.\u001b[0m\u001b[0mbackend\u001b[0m\u001b[0;34m.\u001b[0m\u001b[0minterface\u001b[0m\u001b[0;34m.\u001b[0m\u001b[0mpublish_pause\u001b[0m\u001b[0;34m(\u001b[0m\u001b[0;34m)\u001b[0m\u001b[0;34m\u001b[0m\u001b[0;34m\u001b[0m\u001b[0m\n\u001b[0m\u001b[1;32m    255\u001b[0m \u001b[0;34m\u001b[0m\u001b[0m\n\u001b[1;32m    256\u001b[0m     \u001b[0;32mdef\u001b[0m \u001b[0m_resume_backend\u001b[0m\u001b[0;34m(\u001b[0m\u001b[0mself\u001b[0m\u001b[0;34m)\u001b[0m\u001b[0;34m:\u001b[0m\u001b[0;34m\u001b[0m\u001b[0;34m\u001b[0m\u001b[0m\n",
            "\u001b[0;32m/usr/local/lib/python3.7/dist-packages/wandb/sdk/interface/interface.py\u001b[0m in \u001b[0;36mpublish_pause\u001b[0;34m(self)\u001b[0m\n\u001b[1;32m    590\u001b[0m         \u001b[0mpause\u001b[0m \u001b[0;34m=\u001b[0m \u001b[0mpb\u001b[0m\u001b[0;34m.\u001b[0m\u001b[0mPauseRequest\u001b[0m\u001b[0;34m(\u001b[0m\u001b[0;34m)\u001b[0m\u001b[0;34m\u001b[0m\u001b[0;34m\u001b[0m\u001b[0m\n\u001b[1;32m    591\u001b[0m         \u001b[0mrec\u001b[0m \u001b[0;34m=\u001b[0m \u001b[0mself\u001b[0m\u001b[0;34m.\u001b[0m\u001b[0m_make_request\u001b[0m\u001b[0;34m(\u001b[0m\u001b[0mpause\u001b[0m\u001b[0;34m=\u001b[0m\u001b[0mpause\u001b[0m\u001b[0;34m)\u001b[0m\u001b[0;34m\u001b[0m\u001b[0;34m\u001b[0m\u001b[0m\n\u001b[0;32m--> 592\u001b[0;31m         \u001b[0mself\u001b[0m\u001b[0;34m.\u001b[0m\u001b[0m_publish\u001b[0m\u001b[0;34m(\u001b[0m\u001b[0mrec\u001b[0m\u001b[0;34m)\u001b[0m\u001b[0;34m\u001b[0m\u001b[0;34m\u001b[0m\u001b[0m\n\u001b[0m\u001b[1;32m    593\u001b[0m \u001b[0;34m\u001b[0m\u001b[0m\n\u001b[1;32m    594\u001b[0m     \u001b[0;32mdef\u001b[0m \u001b[0mpublish_resume\u001b[0m\u001b[0;34m(\u001b[0m\u001b[0mself\u001b[0m\u001b[0;34m)\u001b[0m \u001b[0;34m->\u001b[0m \u001b[0;32mNone\u001b[0m\u001b[0;34m:\u001b[0m\u001b[0;34m\u001b[0m\u001b[0;34m\u001b[0m\u001b[0m\n",
            "\u001b[0;32m/usr/local/lib/python3.7/dist-packages/wandb/sdk/interface/interface.py\u001b[0m in \u001b[0;36m_publish\u001b[0;34m(self, record, local)\u001b[0m\n\u001b[1;32m    526\u001b[0m     \u001b[0;32mdef\u001b[0m \u001b[0m_publish\u001b[0m\u001b[0;34m(\u001b[0m\u001b[0mself\u001b[0m\u001b[0;34m,\u001b[0m \u001b[0mrecord\u001b[0m\u001b[0;34m:\u001b[0m \u001b[0mpb\u001b[0m\u001b[0;34m.\u001b[0m\u001b[0mRecord\u001b[0m\u001b[0;34m,\u001b[0m \u001b[0mlocal\u001b[0m\u001b[0;34m:\u001b[0m \u001b[0mbool\u001b[0m \u001b[0;34m=\u001b[0m \u001b[0;32mNone\u001b[0m\u001b[0;34m)\u001b[0m \u001b[0;34m->\u001b[0m \u001b[0;32mNone\u001b[0m\u001b[0;34m:\u001b[0m\u001b[0;34m\u001b[0m\u001b[0;34m\u001b[0m\u001b[0m\n\u001b[1;32m    527\u001b[0m         \u001b[0;32mif\u001b[0m \u001b[0mself\u001b[0m\u001b[0;34m.\u001b[0m\u001b[0m_process\u001b[0m \u001b[0;32mand\u001b[0m \u001b[0;32mnot\u001b[0m \u001b[0mself\u001b[0m\u001b[0;34m.\u001b[0m\u001b[0m_process\u001b[0m\u001b[0;34m.\u001b[0m\u001b[0mis_alive\u001b[0m\u001b[0;34m(\u001b[0m\u001b[0;34m)\u001b[0m\u001b[0;34m:\u001b[0m\u001b[0;34m\u001b[0m\u001b[0;34m\u001b[0m\u001b[0m\n\u001b[0;32m--> 528\u001b[0;31m             \u001b[0;32mraise\u001b[0m \u001b[0mException\u001b[0m\u001b[0;34m(\u001b[0m\u001b[0;34m\"The wandb backend process has shutdown\"\u001b[0m\u001b[0;34m)\u001b[0m\u001b[0;34m\u001b[0m\u001b[0;34m\u001b[0m\u001b[0m\n\u001b[0m\u001b[1;32m    529\u001b[0m         \u001b[0;32mif\u001b[0m \u001b[0mlocal\u001b[0m\u001b[0;34m:\u001b[0m\u001b[0;34m\u001b[0m\u001b[0;34m\u001b[0m\u001b[0m\n\u001b[1;32m    530\u001b[0m             \u001b[0mrecord\u001b[0m\u001b[0;34m.\u001b[0m\u001b[0mcontrol\u001b[0m\u001b[0;34m.\u001b[0m\u001b[0mlocal\u001b[0m \u001b[0;34m=\u001b[0m \u001b[0mlocal\u001b[0m\u001b[0;34m\u001b[0m\u001b[0;34m\u001b[0m\u001b[0m\n",
            "\u001b[0;31mException\u001b[0m: The wandb backend process has shutdown"
          ]
        }
      ],
      "execution_count": 7,
      "metadata": {
        "colab": {
          "base_uri": "https://localhost:8080/",
          "height": 1000
        },
        "id": "W5NAdH8uH-7V",
        "executionInfo": {
          "status": "ok",
          "timestamp": 1622072490191,
          "user_tz": 300,
          "elapsed": 1414576,
          "user": {
            "displayName": "Gabriel Ceron Viveros",
            "photoUrl": "https://lh3.googleusercontent.com/a-/AOh14GhKuFxADeoNbpXSp3yfCRgm_vy86e4Q9hPd4K7flA=s64",
            "userId": "03642710981534596372"
          }
        },
        "outputId": "9b23e09d-89e8-43c4-b422-224cce3aec22"
      }
    },
    {
      "cell_type": "code",
      "source": [
        "%run load18.py"
      ],
      "outputs": [
        {
          "output_type": "stream",
          "name": "stdout",
          "text": [
            "Files already downloaded and verified\n"
          ]
        },
        {
          "output_type": "error",
          "ename": "KeyboardInterrupt",
          "evalue": "ignored",
          "traceback": [
            "\u001b[0;31m---------------------------------------------------------------------------\u001b[0m",
            "\u001b[0;31mKeyboardInterrupt\u001b[0m                         Traceback (most recent call last)",
            "\u001b[0;32m/content/drive/MyDrive/Colab Notebooks/load18.py\u001b[0m in \u001b[0;36m<module>\u001b[0;34m()\u001b[0m\n\u001b[1;32m     30\u001b[0m \u001b[0;34m\u001b[0m\u001b[0m\n\u001b[1;32m     31\u001b[0m \u001b[0mnet\u001b[0m \u001b[0;34m=\u001b[0m \u001b[0mResNet18\u001b[0m\u001b[0;34m(\u001b[0m\u001b[0;34m)\u001b[0m\u001b[0;34m\u001b[0m\u001b[0;34m\u001b[0m\u001b[0m\n\u001b[0;32m---> 32\u001b[0;31m \u001b[0mnet\u001b[0m \u001b[0;34m=\u001b[0m \u001b[0mnet\u001b[0m\u001b[0;34m.\u001b[0m\u001b[0mto\u001b[0m\u001b[0;34m(\u001b[0m\u001b[0mdevice\u001b[0m\u001b[0;34m)\u001b[0m\u001b[0;34m\u001b[0m\u001b[0;34m\u001b[0m\u001b[0m\n\u001b[0m\u001b[1;32m     33\u001b[0m \u001b[0;34m\u001b[0m\u001b[0m\n\u001b[1;32m     34\u001b[0m \u001b[0;32mif\u001b[0m \u001b[0mdevice\u001b[0m \u001b[0;34m==\u001b[0m \u001b[0;34m'cuda'\u001b[0m\u001b[0;34m:\u001b[0m\u001b[0;34m\u001b[0m\u001b[0;34m\u001b[0m\u001b[0m\n",
            "\u001b[0;32m/usr/local/lib/python3.7/dist-packages/torch/nn/modules/module.py\u001b[0m in \u001b[0;36mto\u001b[0;34m(self, *args, **kwargs)\u001b[0m\n\u001b[1;32m    671\u001b[0m             \u001b[0;32mreturn\u001b[0m \u001b[0mt\u001b[0m\u001b[0;34m.\u001b[0m\u001b[0mto\u001b[0m\u001b[0;34m(\u001b[0m\u001b[0mdevice\u001b[0m\u001b[0;34m,\u001b[0m \u001b[0mdtype\u001b[0m \u001b[0;32mif\u001b[0m \u001b[0mt\u001b[0m\u001b[0;34m.\u001b[0m\u001b[0mis_floating_point\u001b[0m\u001b[0;34m(\u001b[0m\u001b[0;34m)\u001b[0m \u001b[0;32mor\u001b[0m \u001b[0mt\u001b[0m\u001b[0;34m.\u001b[0m\u001b[0mis_complex\u001b[0m\u001b[0;34m(\u001b[0m\u001b[0;34m)\u001b[0m \u001b[0;32melse\u001b[0m \u001b[0;32mNone\u001b[0m\u001b[0;34m,\u001b[0m \u001b[0mnon_blocking\u001b[0m\u001b[0;34m)\u001b[0m\u001b[0;34m\u001b[0m\u001b[0;34m\u001b[0m\u001b[0m\n\u001b[1;32m    672\u001b[0m \u001b[0;34m\u001b[0m\u001b[0m\n\u001b[0;32m--> 673\u001b[0;31m         \u001b[0;32mreturn\u001b[0m \u001b[0mself\u001b[0m\u001b[0;34m.\u001b[0m\u001b[0m_apply\u001b[0m\u001b[0;34m(\u001b[0m\u001b[0mconvert\u001b[0m\u001b[0;34m)\u001b[0m\u001b[0;34m\u001b[0m\u001b[0;34m\u001b[0m\u001b[0m\n\u001b[0m\u001b[1;32m    674\u001b[0m \u001b[0;34m\u001b[0m\u001b[0m\n\u001b[1;32m    675\u001b[0m     def register_backward_hook(\n",
            "\u001b[0;32m/usr/local/lib/python3.7/dist-packages/torch/nn/modules/module.py\u001b[0m in \u001b[0;36m_apply\u001b[0;34m(self, fn)\u001b[0m\n\u001b[1;32m    385\u001b[0m     \u001b[0;32mdef\u001b[0m \u001b[0m_apply\u001b[0m\u001b[0;34m(\u001b[0m\u001b[0mself\u001b[0m\u001b[0;34m,\u001b[0m \u001b[0mfn\u001b[0m\u001b[0;34m)\u001b[0m\u001b[0;34m:\u001b[0m\u001b[0;34m\u001b[0m\u001b[0;34m\u001b[0m\u001b[0m\n\u001b[1;32m    386\u001b[0m         \u001b[0;32mfor\u001b[0m \u001b[0mmodule\u001b[0m \u001b[0;32min\u001b[0m \u001b[0mself\u001b[0m\u001b[0;34m.\u001b[0m\u001b[0mchildren\u001b[0m\u001b[0;34m(\u001b[0m\u001b[0;34m)\u001b[0m\u001b[0;34m:\u001b[0m\u001b[0;34m\u001b[0m\u001b[0;34m\u001b[0m\u001b[0m\n\u001b[0;32m--> 387\u001b[0;31m             \u001b[0mmodule\u001b[0m\u001b[0;34m.\u001b[0m\u001b[0m_apply\u001b[0m\u001b[0;34m(\u001b[0m\u001b[0mfn\u001b[0m\u001b[0;34m)\u001b[0m\u001b[0;34m\u001b[0m\u001b[0;34m\u001b[0m\u001b[0m\n\u001b[0m\u001b[1;32m    388\u001b[0m \u001b[0;34m\u001b[0m\u001b[0m\n\u001b[1;32m    389\u001b[0m         \u001b[0;32mdef\u001b[0m \u001b[0mcompute_should_use_set_data\u001b[0m\u001b[0;34m(\u001b[0m\u001b[0mtensor\u001b[0m\u001b[0;34m,\u001b[0m \u001b[0mtensor_applied\u001b[0m\u001b[0;34m)\u001b[0m\u001b[0;34m:\u001b[0m\u001b[0;34m\u001b[0m\u001b[0;34m\u001b[0m\u001b[0m\n",
            "\u001b[0;32m/usr/local/lib/python3.7/dist-packages/torch/nn/modules/module.py\u001b[0m in \u001b[0;36m_apply\u001b[0;34m(self, fn)\u001b[0m\n\u001b[1;32m    407\u001b[0m                 \u001b[0;31m# `with torch.no_grad():`\u001b[0m\u001b[0;34m\u001b[0m\u001b[0;34m\u001b[0m\u001b[0;34m\u001b[0m\u001b[0m\n\u001b[1;32m    408\u001b[0m                 \u001b[0;32mwith\u001b[0m \u001b[0mtorch\u001b[0m\u001b[0;34m.\u001b[0m\u001b[0mno_grad\u001b[0m\u001b[0;34m(\u001b[0m\u001b[0;34m)\u001b[0m\u001b[0;34m:\u001b[0m\u001b[0;34m\u001b[0m\u001b[0;34m\u001b[0m\u001b[0m\n\u001b[0;32m--> 409\u001b[0;31m                     \u001b[0mparam_applied\u001b[0m \u001b[0;34m=\u001b[0m \u001b[0mfn\u001b[0m\u001b[0;34m(\u001b[0m\u001b[0mparam\u001b[0m\u001b[0;34m)\u001b[0m\u001b[0;34m\u001b[0m\u001b[0;34m\u001b[0m\u001b[0m\n\u001b[0m\u001b[1;32m    410\u001b[0m                 \u001b[0mshould_use_set_data\u001b[0m \u001b[0;34m=\u001b[0m \u001b[0mcompute_should_use_set_data\u001b[0m\u001b[0;34m(\u001b[0m\u001b[0mparam\u001b[0m\u001b[0;34m,\u001b[0m \u001b[0mparam_applied\u001b[0m\u001b[0;34m)\u001b[0m\u001b[0;34m\u001b[0m\u001b[0;34m\u001b[0m\u001b[0m\n\u001b[1;32m    411\u001b[0m                 \u001b[0;32mif\u001b[0m \u001b[0mshould_use_set_data\u001b[0m\u001b[0;34m:\u001b[0m\u001b[0;34m\u001b[0m\u001b[0;34m\u001b[0m\u001b[0m\n",
            "\u001b[0;32m/usr/local/lib/python3.7/dist-packages/torch/nn/modules/module.py\u001b[0m in \u001b[0;36mconvert\u001b[0;34m(t)\u001b[0m\n\u001b[1;32m    669\u001b[0m                 return t.to(device, dtype if t.is_floating_point() or t.is_complex() else None,\n\u001b[1;32m    670\u001b[0m                             non_blocking, memory_format=convert_to_format)\n\u001b[0;32m--> 671\u001b[0;31m             \u001b[0;32mreturn\u001b[0m \u001b[0mt\u001b[0m\u001b[0;34m.\u001b[0m\u001b[0mto\u001b[0m\u001b[0;34m(\u001b[0m\u001b[0mdevice\u001b[0m\u001b[0;34m,\u001b[0m \u001b[0mdtype\u001b[0m \u001b[0;32mif\u001b[0m \u001b[0mt\u001b[0m\u001b[0;34m.\u001b[0m\u001b[0mis_floating_point\u001b[0m\u001b[0;34m(\u001b[0m\u001b[0;34m)\u001b[0m \u001b[0;32mor\u001b[0m \u001b[0mt\u001b[0m\u001b[0;34m.\u001b[0m\u001b[0mis_complex\u001b[0m\u001b[0;34m(\u001b[0m\u001b[0;34m)\u001b[0m \u001b[0;32melse\u001b[0m \u001b[0;32mNone\u001b[0m\u001b[0;34m,\u001b[0m \u001b[0mnon_blocking\u001b[0m\u001b[0;34m)\u001b[0m\u001b[0;34m\u001b[0m\u001b[0;34m\u001b[0m\u001b[0m\n\u001b[0m\u001b[1;32m    672\u001b[0m \u001b[0;34m\u001b[0m\u001b[0m\n\u001b[1;32m    673\u001b[0m         \u001b[0;32mreturn\u001b[0m \u001b[0mself\u001b[0m\u001b[0;34m.\u001b[0m\u001b[0m_apply\u001b[0m\u001b[0;34m(\u001b[0m\u001b[0mconvert\u001b[0m\u001b[0;34m)\u001b[0m\u001b[0;34m\u001b[0m\u001b[0;34m\u001b[0m\u001b[0m\n",
            "\u001b[0;31mKeyboardInterrupt\u001b[0m: "
          ]
        }
      ],
      "execution_count": 6,
      "metadata": {
        "colab": {
          "base_uri": "https://localhost:8080/",
          "height": 442
        },
        "id": "I6y0NLu_Y2BB",
        "executionInfo": {
          "status": "ok",
          "timestamp": 1622069895745,
          "user_tz": 300,
          "elapsed": 12488,
          "user": {
            "displayName": "Gabriel Ceron Viveros",
            "photoUrl": "https://lh3.googleusercontent.com/a-/AOh14GhKuFxADeoNbpXSp3yfCRgm_vy86e4Q9hPd4K7flA=s64",
            "userId": "03642710981534596372"
          }
        },
        "outputId": "22f8a97d-ba82-49ca-bc59-252051633da7"
      }
    },
    {
      "cell_type": "code",
      "source": [
        "test()"
      ],
      "outputs": [
        {
          "output_type": "stream",
          "name": "stdout",
          "text": [
            " [================================================================>]  Step: 37ms | Tot: 4s16ms | Loss: 0.179 | Acc: 95.520% (9552/10000) 100/100 \n"
          ]
        }
      ],
      "execution_count": null,
      "metadata": {
        "colab": {
          "base_uri": "https://localhost:8080/"
        },
        "id": "5v26qBNleMuX",
        "executionInfo": {
          "status": "ok",
          "timestamp": 1621458806131,
          "user_tz": 300,
          "elapsed": 4799,
          "user": {
            "displayName": "Gabriel Ceron Viveros",
            "photoUrl": "https://lh3.googleusercontent.com/a-/AOh14GhKuFxADeoNbpXSp3yfCRgm_vy86e4Q9hPd4K7flA=s64",
            "userId": "03642710981534596372"
          }
        },
        "outputId": "133ee57c-673e-4257-c9b3-2bd3fb8973b9"
      }
    },
    {
      "cell_type": "code",
      "source": [],
      "outputs": [],
      "execution_count": null,
      "metadata": {
        "id": "03RggtWqih1H"
      }
    }
  ],
  "metadata": {
    "colab": {
      "name": "main18_default.ipynb",
      "provenance": [],
      "collapsed_sections": [],
      "mount_file_id": "1mCBkFsKbeKjoHarOlyRQVKFePcXqpyb5",
      "authorship_tag": "ABX9TyN/TFHDdW+0N1VhLDYw/k7u"
    },
    "kernelspec": {
      "name": "python3",
      "language": "python",
      "display_name": "Python 3"
    },
    "language_info": {
      "name": "python",
      "version": "3.6.9",
      "mimetype": "text/x-python",
      "codemirror_mode": {
        "name": "ipython",
        "version": 3
      },
      "pygments_lexer": "ipython3",
      "nbconvert_exporter": "python",
      "file_extension": ".py"
    },
    "accelerator": "GPU",
    "kernel_info": {
      "name": "python3"
    },
    "nteract": {
      "version": "nteract-front-end@1.0.0"
    }
  },
  "nbformat": 4,
  "nbformat_minor": 0
}