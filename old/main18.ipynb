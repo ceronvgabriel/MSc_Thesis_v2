{
  "cells": [
    {
      "cell_type": "code",
      "source": [
        "#Run if you want to autoreload your personal modules on change\n",
        "%load_ext autoreload\n",
        "%autoreload 2"
      ],
      "outputs": [],
      "execution_count": 1,
      "metadata": {
        "id": "AXn_DcTuDtNr",
        "executionInfo": {
          "status": "ok",
          "timestamp": 1621455421794,
          "user_tz": 300,
          "elapsed": 1543,
          "user": {
            "displayName": "Gabriel Ceron Viveros",
            "photoUrl": "https://lh3.googleusercontent.com/a-/AOh14GhKuFxADeoNbpXSp3yfCRgm_vy86e4Q9hPd4K7flA=s64",
            "userId": "03642710981534596372"
          }
        }
      }
    },
    {
      "cell_type": "code",
      "source": [
        "#Installing module to import ipynb files\n",
        "!pip install import-ipynb"
      ],
      "outputs": [
        {
          "output_type": "stream",
          "name": "stdout",
          "text": [
            "Collecting import-ipynb\n",
            "  Downloading https://files.pythonhosted.org/packages/63/35/495e0021bfdcc924c7cdec4e9fbb87c88dd03b9b9b22419444dc370c8a45/import-ipynb-0.1.3.tar.gz\n",
            "Building wheels for collected packages: import-ipynb\n",
            "  Building wheel for import-ipynb (setup.py) ... \u001b[?25l\u001b[?25hdone\n",
            "  Created wheel for import-ipynb: filename=import_ipynb-0.1.3-cp37-none-any.whl size=2976 sha256=b3e3b506b19f22359a0feb0d087432c5d242a60465c11020d006528cca3fb111\n",
            "  Stored in directory: /root/.cache/pip/wheels/b4/7b/e9/a3a6e496115dffdb4e3085d0ae39ffe8a814eacc44bbf494b5\n",
            "Successfully built import-ipynb\n",
            "Installing collected packages: import-ipynb\n",
            "Successfully installed import-ipynb-0.1.3\n"
          ]
        }
      ],
      "execution_count": null,
      "metadata": {
        "colab": {
          "base_uri": "https://localhost:8080/"
        },
        "id": "tNYkvbbfveQb",
        "executionInfo": {
          "status": "ok",
          "timestamp": 1620863182462,
          "user_tz": 300,
          "elapsed": 4447,
          "user": {
            "displayName": "Gabriel Ceron Viveros",
            "photoUrl": "https://lh3.googleusercontent.com/a-/AOh14GhKuFxADeoNbpXSp3yfCRgm_vy86e4Q9hPd4K7flA=s64",
            "userId": "03642710981534596372"
          }
        },
        "outputId": "be8e6fca-33c5-4dfa-ffd6-97db43415868"
      }
    },
    {
      "cell_type": "code",
      "source": [
        "#After importing this module you can import ipynb files just as if they were .py files\n",
        "import import_ipynb\n",
        "#Mounting Drive and changing working path to desired folder\n",
        "from google.colab import drive\n",
        "drive.mount('/content/gdrive')\n",
        "import sys\n",
        "sys.path.append('/content/gdrive/My Drive/Colab Notebooks')\n",
        "%cd gdrive/MyDrive/Colab\\ Notebooks\n"
      ],
      "outputs": [],
      "execution_count": null,
      "metadata": {
        "id": "llmjE2AwxLxy"
      }
    },
    {
      "cell_type": "code",
      "source": [
        "#Otherwise if you added Drive manually (left panel) just change the working directory:\n",
        "#Note that the folder's name change if Drive is loaded by commands or manually: gdrive/drive\n",
        "%cd drive/MyDrive/Colab\\ Notebooks\n",
        "!ls"
      ],
      "outputs": [
        {
          "output_type": "stream",
          "name": "stdout",
          "text": [
            "[Errno 2] No such file or directory: 'drive/MyDrive/Colab Notebooks'\n",
            "/content/drive/MyDrive/Colab Notebooks\n",
            "checkpoint    main.py  __pycache__   test_6.py\t     wandb\n",
            "data\t      MLPR     test_4.ipynb  utils_nb.ipynb\n",
            "main18.ipynb  models   test_5.py     utils.py\n"
          ]
        }
      ],
      "execution_count": 3,
      "metadata": {
        "id": "rkFqDDGF7j_3",
        "colab": {
          "base_uri": "https://localhost:8080/"
        },
        "executionInfo": {
          "status": "ok",
          "timestamp": 1621455463625,
          "user_tz": 300,
          "elapsed": 742,
          "user": {
            "displayName": "Gabriel Ceron Viveros",
            "photoUrl": "https://lh3.googleusercontent.com/a-/AOh14GhKuFxADeoNbpXSp3yfCRgm_vy86e4Q9hPd4K7flA=s64",
            "userId": "03642710981534596372"
          }
        },
        "outputId": "32db2ab5-6a39-4943-8697-750857f30c3e"
      }
    },
    {
      "cell_type": "code",
      "source": [
        "!pip install wandb\n",
        "import wandb\n",
        "wandb.init()"
      ],
      "outputs": [
        {
          "output_type": "stream",
          "name": "stdout",
          "text": [
            "Collecting wandb\n",
            "\u001b[?25l  Downloading https://files.pythonhosted.org/packages/98/5f/45439b4767334b868e1c8c35b1b0ba3747d8c21be77b79f09eed7aa3c72b/wandb-0.10.30-py2.py3-none-any.whl (1.8MB)\n",
            "\r\u001b[K     |▏                               | 10kB 25.0MB/s eta 0:00:01\r\u001b[K     |▍                               | 20kB 32.6MB/s eta 0:00:01\r\u001b[K     |▌                               | 30kB 28.9MB/s eta 0:00:01\r\u001b[K     |▊                               | 40kB 19.7MB/s eta 0:00:01\r\u001b[K     |█                               | 51kB 9.4MB/s eta 0:00:01\r\u001b[K     |█                               | 61kB 9.8MB/s eta 0:00:01\r\u001b[K     |█▎                              | 71kB 10.3MB/s eta 0:00:01\r\u001b[K     |█▌                              | 81kB 11.4MB/s eta 0:00:01\r\u001b[K     |█▋                              | 92kB 11.5MB/s eta 0:00:01\r\u001b[K     |█▉                              | 102kB 9.0MB/s eta 0:00:01\r\u001b[K     |██                              | 112kB 9.0MB/s eta 0:00:01\r\u001b[K     |██▏                             | 122kB 9.0MB/s eta 0:00:01\r\u001b[K     |██▍                             | 133kB 9.0MB/s eta 0:00:01\r\u001b[K     |██▌                             | 143kB 9.0MB/s eta 0:00:01\r\u001b[K     |██▊                             | 153kB 9.0MB/s eta 0:00:01\r\u001b[K     |███                             | 163kB 9.0MB/s eta 0:00:01\r\u001b[K     |███                             | 174kB 9.0MB/s eta 0:00:01\r\u001b[K     |███▎                            | 184kB 9.0MB/s eta 0:00:01\r\u001b[K     |███▍                            | 194kB 9.0MB/s eta 0:00:01\r\u001b[K     |███▋                            | 204kB 9.0MB/s eta 0:00:01\r\u001b[K     |███▉                            | 215kB 9.0MB/s eta 0:00:01\r\u001b[K     |████                            | 225kB 9.0MB/s eta 0:00:01\r\u001b[K     |████▏                           | 235kB 9.0MB/s eta 0:00:01\r\u001b[K     |████▍                           | 245kB 9.0MB/s eta 0:00:01\r\u001b[K     |████▌                           | 256kB 9.0MB/s eta 0:00:01\r\u001b[K     |████▊                           | 266kB 9.0MB/s eta 0:00:01\r\u001b[K     |█████                           | 276kB 9.0MB/s eta 0:00:01\r\u001b[K     |█████                           | 286kB 9.0MB/s eta 0:00:01\r\u001b[K     |█████▎                          | 296kB 9.0MB/s eta 0:00:01\r\u001b[K     |█████▍                          | 307kB 9.0MB/s eta 0:00:01\r\u001b[K     |█████▋                          | 317kB 9.0MB/s eta 0:00:01\r\u001b[K     |█████▉                          | 327kB 9.0MB/s eta 0:00:01\r\u001b[K     |██████                          | 337kB 9.0MB/s eta 0:00:01\r\u001b[K     |██████▏                         | 348kB 9.0MB/s eta 0:00:01\r\u001b[K     |██████▍                         | 358kB 9.0MB/s eta 0:00:01\r\u001b[K     |██████▌                         | 368kB 9.0MB/s eta 0:00:01\r\u001b[K     |██████▊                         | 378kB 9.0MB/s eta 0:00:01\r\u001b[K     |██████▉                         | 389kB 9.0MB/s eta 0:00:01\r\u001b[K     |███████                         | 399kB 9.0MB/s eta 0:00:01\r\u001b[K     |███████▎                        | 409kB 9.0MB/s eta 0:00:01\r\u001b[K     |███████▍                        | 419kB 9.0MB/s eta 0:00:01\r\u001b[K     |███████▋                        | 430kB 9.0MB/s eta 0:00:01\r\u001b[K     |███████▉                        | 440kB 9.0MB/s eta 0:00:01\r\u001b[K     |████████                        | 450kB 9.0MB/s eta 0:00:01\r\u001b[K     |████████▏                       | 460kB 9.0MB/s eta 0:00:01\r\u001b[K     |████████▍                       | 471kB 9.0MB/s eta 0:00:01\r\u001b[K     |████████▌                       | 481kB 9.0MB/s eta 0:00:01\r\u001b[K     |████████▊                       | 491kB 9.0MB/s eta 0:00:01\r\u001b[K     |████████▉                       | 501kB 9.0MB/s eta 0:00:01\r\u001b[K     |█████████                       | 512kB 9.0MB/s eta 0:00:01\r\u001b[K     |█████████▎                      | 522kB 9.0MB/s eta 0:00:01\r\u001b[K     |█████████▍                      | 532kB 9.0MB/s eta 0:00:01\r\u001b[K     |█████████▋                      | 542kB 9.0MB/s eta 0:00:01\r\u001b[K     |█████████▉                      | 552kB 9.0MB/s eta 0:00:01\r\u001b[K     |██████████                      | 563kB 9.0MB/s eta 0:00:01\r\u001b[K     |██████████▏                     | 573kB 9.0MB/s eta 0:00:01\r\u001b[K     |██████████▎                     | 583kB 9.0MB/s eta 0:00:01\r\u001b[K     |██████████▌                     | 593kB 9.0MB/s eta 0:00:01\r\u001b[K     |██████████▊                     | 604kB 9.0MB/s eta 0:00:01\r\u001b[K     |██████████▉                     | 614kB 9.0MB/s eta 0:00:01\r\u001b[K     |███████████                     | 624kB 9.0MB/s eta 0:00:01\r\u001b[K     |███████████▎                    | 634kB 9.0MB/s eta 0:00:01\r\u001b[K     |███████████▍                    | 645kB 9.0MB/s eta 0:00:01\r\u001b[K     |███████████▋                    | 655kB 9.0MB/s eta 0:00:01\r\u001b[K     |███████████▉                    | 665kB 9.0MB/s eta 0:00:01\r\u001b[K     |████████████                    | 675kB 9.0MB/s eta 0:00:01\r\u001b[K     |████████████▏                   | 686kB 9.0MB/s eta 0:00:01\r\u001b[K     |████████████▎                   | 696kB 9.0MB/s eta 0:00:01\r\u001b[K     |████████████▌                   | 706kB 9.0MB/s eta 0:00:01\r\u001b[K     |████████████▊                   | 716kB 9.0MB/s eta 0:00:01\r\u001b[K     |████████████▉                   | 727kB 9.0MB/s eta 0:00:01\r\u001b[K     |█████████████                   | 737kB 9.0MB/s eta 0:00:01\r\u001b[K     |█████████████▎                  | 747kB 9.0MB/s eta 0:00:01\r\u001b[K     |█████████████▍                  | 757kB 9.0MB/s eta 0:00:01\r\u001b[K     |█████████████▋                  | 768kB 9.0MB/s eta 0:00:01\r\u001b[K     |█████████████▊                  | 778kB 9.0MB/s eta 0:00:01\r\u001b[K     |██████████████                  | 788kB 9.0MB/s eta 0:00:01\r\u001b[K     |██████████████▏                 | 798kB 9.0MB/s eta 0:00:01\r\u001b[K     |██████████████▎                 | 808kB 9.0MB/s eta 0:00:01\r\u001b[K     |██████████████▌                 | 819kB 9.0MB/s eta 0:00:01\r\u001b[K     |██████████████▊                 | 829kB 9.0MB/s eta 0:00:01\r\u001b[K     |██████████████▉                 | 839kB 9.0MB/s eta 0:00:01\r\u001b[K     |███████████████                 | 849kB 9.0MB/s eta 0:00:01\r\u001b[K     |███████████████▎                | 860kB 9.0MB/s eta 0:00:01\r\u001b[K     |███████████████▍                | 870kB 9.0MB/s eta 0:00:01\r\u001b[K     |███████████████▋                | 880kB 9.0MB/s eta 0:00:01\r\u001b[K     |███████████████▊                | 890kB 9.0MB/s eta 0:00:01\r\u001b[K     |████████████████                | 901kB 9.0MB/s eta 0:00:01\r\u001b[K     |████████████████▏               | 911kB 9.0MB/s eta 0:00:01\r\u001b[K     |████████████████▎               | 921kB 9.0MB/s eta 0:00:01\r\u001b[K     |████████████████▌               | 931kB 9.0MB/s eta 0:00:01\r\u001b[K     |████████████████▊               | 942kB 9.0MB/s eta 0:00:01\r\u001b[K     |████████████████▉               | 952kB 9.0MB/s eta 0:00:01\r\u001b[K     |█████████████████               | 962kB 9.0MB/s eta 0:00:01\r\u001b[K     |█████████████████▏              | 972kB 9.0MB/s eta 0:00:01\r\u001b[K     |█████████████████▍              | 983kB 9.0MB/s eta 0:00:01\r\u001b[K     |█████████████████▋              | 993kB 9.0MB/s eta 0:00:01\r\u001b[K     |█████████████████▊              | 1.0MB 9.0MB/s eta 0:00:01\r\u001b[K     |██████████████████              | 1.0MB 9.0MB/s eta 0:00:01\r\u001b[K     |██████████████████▏             | 1.0MB 9.0MB/s eta 0:00:01\r\u001b[K     |██████████████████▎             | 1.0MB 9.0MB/s eta 0:00:01\r\u001b[K     |██████████████████▌             | 1.0MB 9.0MB/s eta 0:00:01\r\u001b[K     |██████████████████▊             | 1.1MB 9.0MB/s eta 0:00:01\r\u001b[K     |██████████████████▉             | 1.1MB 9.0MB/s eta 0:00:01\r\u001b[K     |███████████████████             | 1.1MB 9.0MB/s eta 0:00:01\r\u001b[K     |███████████████████▏            | 1.1MB 9.0MB/s eta 0:00:01\r\u001b[K     |███████████████████▍            | 1.1MB 9.0MB/s eta 0:00:01\r\u001b[K     |███████████████████▋            | 1.1MB 9.0MB/s eta 0:00:01\r\u001b[K     |███████████████████▊            | 1.1MB 9.0MB/s eta 0:00:01\r\u001b[K     |████████████████████            | 1.1MB 9.0MB/s eta 0:00:01\r\u001b[K     |████████████████████▏           | 1.1MB 9.0MB/s eta 0:00:01\r\u001b[K     |████████████████████▎           | 1.1MB 9.0MB/s eta 0:00:01\r\u001b[K     |████████████████████▌           | 1.2MB 9.0MB/s eta 0:00:01\r\u001b[K     |████████████████████▋           | 1.2MB 9.0MB/s eta 0:00:01\r\u001b[K     |████████████████████▉           | 1.2MB 9.0MB/s eta 0:00:01\r\u001b[K     |█████████████████████           | 1.2MB 9.0MB/s eta 0:00:01\r\u001b[K     |█████████████████████▏          | 1.2MB 9.0MB/s eta 0:00:01\r\u001b[K     |█████████████████████▍          | 1.2MB 9.0MB/s eta 0:00:01\r\u001b[K     |█████████████████████▋          | 1.2MB 9.0MB/s eta 0:00:01\r\u001b[K     |█████████████████████▊          | 1.2MB 9.0MB/s eta 0:00:01\r\u001b[K     |██████████████████████          | 1.2MB 9.0MB/s eta 0:00:01\r\u001b[K     |██████████████████████▏         | 1.2MB 9.0MB/s eta 0:00:01\r\u001b[K     |██████████████████████▎         | 1.3MB 9.0MB/s eta 0:00:01\r\u001b[K     |██████████████████████▌         | 1.3MB 9.0MB/s eta 0:00:01\r\u001b[K     |██████████████████████▋         | 1.3MB 9.0MB/s eta 0:00:01\r\u001b[K     |██████████████████████▉         | 1.3MB 9.0MB/s eta 0:00:01\r\u001b[K     |███████████████████████         | 1.3MB 9.0MB/s eta 0:00:01\r\u001b[K     |███████████████████████▏        | 1.3MB 9.0MB/s eta 0:00:01\r\u001b[K     |███████████████████████▍        | 1.3MB 9.0MB/s eta 0:00:01\r\u001b[K     |███████████████████████▋        | 1.3MB 9.0MB/s eta 0:00:01\r\u001b[K     |███████████████████████▊        | 1.3MB 9.0MB/s eta 0:00:01\r\u001b[K     |████████████████████████        | 1.4MB 9.0MB/s eta 0:00:01\r\u001b[K     |████████████████████████        | 1.4MB 9.0MB/s eta 0:00:01\r\u001b[K     |████████████████████████▎       | 1.4MB 9.0MB/s eta 0:00:01\r\u001b[K     |████████████████████████▌       | 1.4MB 9.0MB/s eta 0:00:01\r\u001b[K     |████████████████████████▋       | 1.4MB 9.0MB/s eta 0:00:01\r\u001b[K     |████████████████████████▉       | 1.4MB 9.0MB/s eta 0:00:01\r\u001b[K     |█████████████████████████       | 1.4MB 9.0MB/s eta 0:00:01\r\u001b[K     |█████████████████████████▏      | 1.4MB 9.0MB/s eta 0:00:01\r\u001b[K     |█████████████████████████▍      | 1.4MB 9.0MB/s eta 0:00:01\r\u001b[K     |█████████████████████████▋      | 1.4MB 9.0MB/s eta 0:00:01\r\u001b[K     |█████████████████████████▊      | 1.5MB 9.0MB/s eta 0:00:01\r\u001b[K     |██████████████████████████      | 1.5MB 9.0MB/s eta 0:00:01\r\u001b[K     |██████████████████████████      | 1.5MB 9.0MB/s eta 0:00:01\r\u001b[K     |██████████████████████████▎     | 1.5MB 9.0MB/s eta 0:00:01\r\u001b[K     |██████████████████████████▌     | 1.5MB 9.0MB/s eta 0:00:01\r\u001b[K     |██████████████████████████▋     | 1.5MB 9.0MB/s eta 0:00:01\r\u001b[K     |██████████████████████████▉     | 1.5MB 9.0MB/s eta 0:00:01\r\u001b[K     |███████████████████████████     | 1.5MB 9.0MB/s eta 0:00:01\r\u001b[K     |███████████████████████████▏    | 1.5MB 9.0MB/s eta 0:00:01\r\u001b[K     |███████████████████████████▍    | 1.5MB 9.0MB/s eta 0:00:01\r\u001b[K     |███████████████████████████▌    | 1.6MB 9.0MB/s eta 0:00:01\r\u001b[K     |███████████████████████████▊    | 1.6MB 9.0MB/s eta 0:00:01\r\u001b[K     |████████████████████████████    | 1.6MB 9.0MB/s eta 0:00:01\r\u001b[K     |████████████████████████████    | 1.6MB 9.0MB/s eta 0:00:01\r\u001b[K     |████████████████████████████▎   | 1.6MB 9.0MB/s eta 0:00:01\r\u001b[K     |████████████████████████████▌   | 1.6MB 9.0MB/s eta 0:00:01\r\u001b[K     |████████████████████████████▋   | 1.6MB 9.0MB/s eta 0:00:01\r\u001b[K     |████████████████████████████▉   | 1.6MB 9.0MB/s eta 0:00:01\r\u001b[K     |█████████████████████████████   | 1.6MB 9.0MB/s eta 0:00:01\r\u001b[K     |█████████████████████████████▏  | 1.6MB 9.0MB/s eta 0:00:01\r\u001b[K     |█████████████████████████████▍  | 1.7MB 9.0MB/s eta 0:00:01\r\u001b[K     |█████████████████████████████▌  | 1.7MB 9.0MB/s eta 0:00:01\r\u001b[K     |█████████████████████████████▊  | 1.7MB 9.0MB/s eta 0:00:01\r\u001b[K     |██████████████████████████████  | 1.7MB 9.0MB/s eta 0:00:01\r\u001b[K     |██████████████████████████████  | 1.7MB 9.0MB/s eta 0:00:01\r\u001b[K     |██████████████████████████████▎ | 1.7MB 9.0MB/s eta 0:00:01\r\u001b[K     |██████████████████████████████▌ | 1.7MB 9.0MB/s eta 0:00:01\r\u001b[K     |██████████████████████████████▋ | 1.7MB 9.0MB/s eta 0:00:01\r\u001b[K     |██████████████████████████████▉ | 1.7MB 9.0MB/s eta 0:00:01\r\u001b[K     |███████████████████████████████ | 1.8MB 9.0MB/s eta 0:00:01\r\u001b[K     |███████████████████████████████▏| 1.8MB 9.0MB/s eta 0:00:01\r\u001b[K     |███████████████████████████████▍| 1.8MB 9.0MB/s eta 0:00:01\r\u001b[K     |███████████████████████████████▌| 1.8MB 9.0MB/s eta 0:00:01\r\u001b[K     |███████████████████████████████▊| 1.8MB 9.0MB/s eta 0:00:01\r\u001b[K     |████████████████████████████████| 1.8MB 9.0MB/s eta 0:00:01\r",
            "\u001b[K     |████████████████████████████████| 1.8MB 9.0MB/s \n",
            "\u001b[?25hCollecting pathtools\n",
            "  Downloading https://files.pythonhosted.org/packages/e7/7f/470d6fcdf23f9f3518f6b0b76be9df16dcc8630ad409947f8be2eb0ed13a/pathtools-0.1.2.tar.gz\n",
            "Requirement already satisfied: protobuf>=3.12.0 in /usr/local/lib/python3.7/dist-packages (from wandb) (3.12.4)\n",
            "Requirement already satisfied: python-dateutil>=2.6.1 in /usr/local/lib/python3.7/dist-packages (from wandb) (2.8.1)\n",
            "Requirement already satisfied: PyYAML in /usr/local/lib/python3.7/dist-packages (from wandb) (3.13)\n",
            "Collecting configparser>=3.8.1\n",
            "  Downloading https://files.pythonhosted.org/packages/fd/01/ff260a18caaf4457eb028c96eeb405c4a230ca06c8ec9c1379f813caa52e/configparser-5.0.2-py3-none-any.whl\n",
            "Collecting sentry-sdk>=0.4.0\n",
            "\u001b[?25l  Downloading https://files.pythonhosted.org/packages/1c/4a/a54b254f67d8f4052338d54ebe90126f200693440a93ef76d254d581e3ec/sentry_sdk-1.1.0-py2.py3-none-any.whl (131kB)\n",
            "\u001b[K     |████████████████████████████████| 133kB 47.9MB/s \n",
            "\u001b[?25hCollecting GitPython>=1.0.0\n",
            "\u001b[?25l  Downloading https://files.pythonhosted.org/packages/27/da/6f6224fdfc47dab57881fe20c0d1bc3122be290198ba0bf26a953a045d92/GitPython-3.1.17-py3-none-any.whl (166kB)\n",
            "\u001b[K     |████████████████████████████████| 174kB 51.7MB/s \n",
            "\u001b[?25hCollecting subprocess32>=3.5.3\n",
            "\u001b[?25l  Downloading https://files.pythonhosted.org/packages/32/c8/564be4d12629b912ea431f1a50eb8b3b9d00f1a0b1ceff17f266be190007/subprocess32-3.5.4.tar.gz (97kB)\n",
            "\u001b[K     |████████████████████████████████| 102kB 14.1MB/s \n",
            "\u001b[?25hRequirement already satisfied: promise<3,>=2.0 in /usr/local/lib/python3.7/dist-packages (from wandb) (2.3)\n",
            "Collecting shortuuid>=0.5.0\n",
            "  Downloading https://files.pythonhosted.org/packages/25/a6/2ecc1daa6a304e7f1b216f0896b26156b78e7c38e1211e9b798b4716c53d/shortuuid-1.0.1-py3-none-any.whl\n",
            "Requirement already satisfied: six>=1.13.0 in /usr/local/lib/python3.7/dist-packages (from wandb) (1.15.0)\n",
            "Collecting docker-pycreds>=0.4.0\n",
            "  Downloading https://files.pythonhosted.org/packages/f5/e8/f6bd1eee09314e7e6dee49cbe2c5e22314ccdb38db16c9fc72d2fa80d054/docker_pycreds-0.4.0-py2.py3-none-any.whl\n",
            "Requirement already satisfied: requests<3,>=2.0.0 in /usr/local/lib/python3.7/dist-packages (from wandb) (2.23.0)\n",
            "Requirement already satisfied: Click>=7.0 in /usr/local/lib/python3.7/dist-packages (from wandb) (8.0.0)\n",
            "Requirement already satisfied: psutil>=5.0.0 in /usr/local/lib/python3.7/dist-packages (from wandb) (5.4.8)\n",
            "Requirement already satisfied: setuptools in /usr/local/lib/python3.7/dist-packages (from protobuf>=3.12.0->wandb) (56.1.0)\n",
            "Requirement already satisfied: urllib3>=1.10.0 in /usr/local/lib/python3.7/dist-packages (from sentry-sdk>=0.4.0->wandb) (1.24.3)\n",
            "Requirement already satisfied: certifi in /usr/local/lib/python3.7/dist-packages (from sentry-sdk>=0.4.0->wandb) (2020.12.5)\n",
            "Collecting gitdb<5,>=4.0.1\n",
            "\u001b[?25l  Downloading https://files.pythonhosted.org/packages/ea/e8/f414d1a4f0bbc668ed441f74f44c116d9816833a48bf81d22b697090dba8/gitdb-4.0.7-py3-none-any.whl (63kB)\n",
            "\u001b[K     |████████████████████████████████| 71kB 10.9MB/s \n",
            "\u001b[?25hRequirement already satisfied: typing-extensions>=3.7.4.0; python_version < \"3.8\" in /usr/local/lib/python3.7/dist-packages (from GitPython>=1.0.0->wandb) (3.7.4.3)\n",
            "Requirement already satisfied: idna<3,>=2.5 in /usr/local/lib/python3.7/dist-packages (from requests<3,>=2.0.0->wandb) (2.10)\n",
            "Requirement already satisfied: chardet<4,>=3.0.2 in /usr/local/lib/python3.7/dist-packages (from requests<3,>=2.0.0->wandb) (3.0.4)\n",
            "Collecting smmap<5,>=3.0.1\n",
            "  Downloading https://files.pythonhosted.org/packages/68/ee/d540eb5e5996eb81c26ceffac6ee49041d473bc5125f2aa995cf51ec1cf1/smmap-4.0.0-py2.py3-none-any.whl\n",
            "Building wheels for collected packages: pathtools, subprocess32\n",
            "  Building wheel for pathtools (setup.py) ... \u001b[?25l\u001b[?25hdone\n",
            "  Created wheel for pathtools: filename=pathtools-0.1.2-cp37-none-any.whl size=8786 sha256=989b5497f0623f732ab2605cd0611b2a89b5bb37634ebd166ea2408601958e02\n",
            "  Stored in directory: /root/.cache/pip/wheels/0b/04/79/c3b0c3a0266a3cb4376da31e5bfe8bba0c489246968a68e843\n",
            "  Building wheel for subprocess32 (setup.py) ... \u001b[?25l\u001b[?25hdone\n",
            "  Created wheel for subprocess32: filename=subprocess32-3.5.4-cp37-none-any.whl size=6489 sha256=977fb24fb6eaf949623bed8ec4531fc01a9a0a02e7aab8d666f9d2b4e1f7fe4a\n",
            "  Stored in directory: /root/.cache/pip/wheels/68/39/1a/5e402bdfdf004af1786c8b853fd92f8c4a04f22aad179654d1\n",
            "Successfully built pathtools subprocess32\n",
            "Installing collected packages: pathtools, configparser, sentry-sdk, smmap, gitdb, GitPython, subprocess32, shortuuid, docker-pycreds, wandb\n",
            "Successfully installed GitPython-3.1.17 configparser-5.0.2 docker-pycreds-0.4.0 gitdb-4.0.7 pathtools-0.1.2 sentry-sdk-1.1.0 shortuuid-1.0.1 smmap-4.0.0 subprocess32-3.5.4 wandb-0.10.30\n"
          ]
        },
        {
          "output_type": "display_data",
          "data": {
            "application/javascript": "\n        window._wandbApiKey = new Promise((resolve, reject) => {\n            function loadScript(url) {\n            return new Promise(function(resolve, reject) {\n                let newScript = document.createElement(\"script\");\n                newScript.onerror = reject;\n                newScript.onload = resolve;\n                document.body.appendChild(newScript);\n                newScript.src = url;\n            });\n            }\n            loadScript(\"https://cdn.jsdelivr.net/npm/postmate/build/postmate.min.js\").then(() => {\n            const iframe = document.createElement('iframe')\n            iframe.style.cssText = \"width:0;height:0;border:none\"\n            document.body.appendChild(iframe)\n            const handshake = new Postmate({\n                container: iframe,\n                url: 'https://wandb.ai/authorize'\n            });\n            const timeout = setTimeout(() => reject(\"Couldn't auto authenticate\"), 5000)\n            handshake.then(function(child) {\n                child.on('authorize', data => {\n                    clearTimeout(timeout)\n                    resolve(data)\n                });\n            });\n            })\n        });\n    ",
            "text/plain": "<IPython.core.display.Javascript object>"
          },
          "metadata": {
            "tags": []
          }
        },
        {
          "output_type": "stream",
          "name": "stderr",
          "text": [
            "\u001b[34m\u001b[1mwandb\u001b[0m: Appending key for api.wandb.ai to your netrc file: /root/.netrc\n"
          ]
        },
        {
          "output_type": "display_data",
          "data": {
            "text/html": "\n                Tracking run with wandb version 0.10.30<br/>\n                Syncing run <strong style=\"color:#cdcd00\">light-bird-2</strong> to <a href=\"https://wandb.ai\" target=\"_blank\">Weights & Biases</a> <a href=\"https://docs.wandb.com/integrations/jupyter.html\" target=\"_blank\">(Documentation)</a>.<br/>\n                Project page: <a href=\"https://wandb.ai/gceron/uncategorized\" target=\"_blank\">https://wandb.ai/gceron/uncategorized</a><br/>\n                Run page: <a href=\"https://wandb.ai/gceron/uncategorized/runs/376k2gha\" target=\"_blank\">https://wandb.ai/gceron/uncategorized/runs/376k2gha</a><br/>\n                Run data is saved locally in <code>/content/drive/My Drive/Colab Notebooks/wandb/run-20210519_201812-376k2gha</code><br/><br/>\n            ",
            "text/plain": "<IPython.core.display.HTML object>"
          },
          "metadata": {
            "tags": []
          }
        },
        {
          "output_type": "execute_result",
          "execution_count": 4,
          "data": {
            "text/plain": "<wandb.sdk.wandb_run.Run at 0x7f06b89b67d0>",
            "text/html": "<h1>Run(376k2gha)</h1><iframe src=\"https://wandb.ai/gceron/uncategorized/runs/376k2gha\" style=\"border:none;width:100%;height:400px\"></iframe>"
          },
          "metadata": {
            "tags": []
          }
        }
      ],
      "execution_count": 4,
      "metadata": {
        "colab": {
          "base_uri": "https://localhost:8080/",
          "height": 1000
        },
        "id": "zsc1c5uCIGaK",
        "executionInfo": {
          "status": "ok",
          "timestamp": 1621455496857,
          "user_tz": 300,
          "elapsed": 17234,
          "user": {
            "displayName": "Gabriel Ceron Viveros",
            "photoUrl": "https://lh3.googleusercontent.com/a-/AOh14GhKuFxADeoNbpXSp3yfCRgm_vy86e4Q9hPd4K7flA=s64",
            "userId": "03642710981534596372"
          }
        },
        "outputId": "ed779b6c-a50d-4e5c-e7e4-02274cde05bc"
      }
    },
    {
      "cell_type": "code",
      "source": [
        "'''Train CIFAR10 with PyTorch.'''\n",
        "import torch\n",
        "import torch.nn as nn\n",
        "import torch.optim as optim\n",
        "import torch.nn.functional as F\n",
        "import torch.backends.cudnn as cudnn\n",
        "\n",
        "import torchvision\n",
        "import torchvision.transforms as transforms\n",
        "\n",
        "import os\n",
        "import argparse\n",
        "\n",
        "from models import *\n",
        "from utils import progress_bar"
      ],
      "outputs": [],
      "execution_count": 5,
      "metadata": {
        "id": "zfsjFX3pH6i0",
        "executionInfo": {
          "status": "ok",
          "timestamp": 1621455534443,
          "user_tz": 300,
          "elapsed": 6325,
          "user": {
            "displayName": "Gabriel Ceron Viveros",
            "photoUrl": "https://lh3.googleusercontent.com/a-/AOh14GhKuFxADeoNbpXSp3yfCRgm_vy86e4Q9hPd4K7flA=s64",
            "userId": "03642710981534596372"
          }
        }
      }
    },
    {
      "cell_type": "code",
      "source": [
        "%run main.py"
      ],
      "outputs": [
        {
          "output_type": "stream",
          "name": "stdout",
          "text": [
            "==> Preparing data..\n",
            "Files already downloaded and verified\n",
            "Files already downloaded and verified\n",
            "==> Building model..\n"
          ]
        },
        {
          "output_type": "error",
          "ename": "KeyboardInterrupt",
          "evalue": "ignored",
          "traceback": [
            "\u001b[0;31m---------------------------------------------------------------------------\u001b[0m",
            "\u001b[0;31mKeyboardInterrupt\u001b[0m                         Traceback (most recent call last)",
            "\u001b[0;32m/content/drive/My Drive/Colab Notebooks/main.py\u001b[0m in \u001b[0;36m<module>\u001b[0;34m()\u001b[0m\n\u001b[1;32m     70\u001b[0m \u001b[0;31m# net = RegNetX_200MF()\u001b[0m\u001b[0;34m\u001b[0m\u001b[0;34m\u001b[0m\u001b[0;34m\u001b[0m\u001b[0m\n\u001b[1;32m     71\u001b[0m \u001b[0;31m#net = SimpleDLA()\u001b[0m\u001b[0;34m\u001b[0m\u001b[0;34m\u001b[0m\u001b[0;34m\u001b[0m\u001b[0m\n\u001b[0;32m---> 72\u001b[0;31m \u001b[0mnet\u001b[0m \u001b[0;34m=\u001b[0m \u001b[0mnet\u001b[0m\u001b[0;34m.\u001b[0m\u001b[0mto\u001b[0m\u001b[0;34m(\u001b[0m\u001b[0mdevice\u001b[0m\u001b[0;34m)\u001b[0m\u001b[0;34m\u001b[0m\u001b[0;34m\u001b[0m\u001b[0m\n\u001b[0m\u001b[1;32m     73\u001b[0m \u001b[0;32mif\u001b[0m \u001b[0mdevice\u001b[0m \u001b[0;34m==\u001b[0m \u001b[0;34m'cuda'\u001b[0m\u001b[0;34m:\u001b[0m\u001b[0;34m\u001b[0m\u001b[0;34m\u001b[0m\u001b[0m\n\u001b[1;32m     74\u001b[0m     \u001b[0mnet\u001b[0m \u001b[0;34m=\u001b[0m \u001b[0mtorch\u001b[0m\u001b[0;34m.\u001b[0m\u001b[0mnn\u001b[0m\u001b[0;34m.\u001b[0m\u001b[0mDataParallel\u001b[0m\u001b[0;34m(\u001b[0m\u001b[0mnet\u001b[0m\u001b[0;34m)\u001b[0m\u001b[0;34m\u001b[0m\u001b[0;34m\u001b[0m\u001b[0m\n",
            "\u001b[0;32m/usr/local/lib/python3.7/dist-packages/torch/nn/modules/module.py\u001b[0m in \u001b[0;36mto\u001b[0;34m(self, *args, **kwargs)\u001b[0m\n\u001b[1;32m    671\u001b[0m             \u001b[0;32mreturn\u001b[0m \u001b[0mt\u001b[0m\u001b[0;34m.\u001b[0m\u001b[0mto\u001b[0m\u001b[0;34m(\u001b[0m\u001b[0mdevice\u001b[0m\u001b[0;34m,\u001b[0m \u001b[0mdtype\u001b[0m \u001b[0;32mif\u001b[0m \u001b[0mt\u001b[0m\u001b[0;34m.\u001b[0m\u001b[0mis_floating_point\u001b[0m\u001b[0;34m(\u001b[0m\u001b[0;34m)\u001b[0m \u001b[0;32mor\u001b[0m \u001b[0mt\u001b[0m\u001b[0;34m.\u001b[0m\u001b[0mis_complex\u001b[0m\u001b[0;34m(\u001b[0m\u001b[0;34m)\u001b[0m \u001b[0;32melse\u001b[0m \u001b[0;32mNone\u001b[0m\u001b[0;34m,\u001b[0m \u001b[0mnon_blocking\u001b[0m\u001b[0;34m)\u001b[0m\u001b[0;34m\u001b[0m\u001b[0;34m\u001b[0m\u001b[0m\n\u001b[1;32m    672\u001b[0m \u001b[0;34m\u001b[0m\u001b[0m\n\u001b[0;32m--> 673\u001b[0;31m         \u001b[0;32mreturn\u001b[0m \u001b[0mself\u001b[0m\u001b[0;34m.\u001b[0m\u001b[0m_apply\u001b[0m\u001b[0;34m(\u001b[0m\u001b[0mconvert\u001b[0m\u001b[0;34m)\u001b[0m\u001b[0;34m\u001b[0m\u001b[0;34m\u001b[0m\u001b[0m\n\u001b[0m\u001b[1;32m    674\u001b[0m \u001b[0;34m\u001b[0m\u001b[0m\n\u001b[1;32m    675\u001b[0m     def register_backward_hook(\n",
            "\u001b[0;32m/usr/local/lib/python3.7/dist-packages/torch/nn/modules/module.py\u001b[0m in \u001b[0;36m_apply\u001b[0;34m(self, fn)\u001b[0m\n\u001b[1;32m    385\u001b[0m     \u001b[0;32mdef\u001b[0m \u001b[0m_apply\u001b[0m\u001b[0;34m(\u001b[0m\u001b[0mself\u001b[0m\u001b[0;34m,\u001b[0m \u001b[0mfn\u001b[0m\u001b[0;34m)\u001b[0m\u001b[0;34m:\u001b[0m\u001b[0;34m\u001b[0m\u001b[0;34m\u001b[0m\u001b[0m\n\u001b[1;32m    386\u001b[0m         \u001b[0;32mfor\u001b[0m \u001b[0mmodule\u001b[0m \u001b[0;32min\u001b[0m \u001b[0mself\u001b[0m\u001b[0;34m.\u001b[0m\u001b[0mchildren\u001b[0m\u001b[0;34m(\u001b[0m\u001b[0;34m)\u001b[0m\u001b[0;34m:\u001b[0m\u001b[0;34m\u001b[0m\u001b[0;34m\u001b[0m\u001b[0m\n\u001b[0;32m--> 387\u001b[0;31m             \u001b[0mmodule\u001b[0m\u001b[0;34m.\u001b[0m\u001b[0m_apply\u001b[0m\u001b[0;34m(\u001b[0m\u001b[0mfn\u001b[0m\u001b[0;34m)\u001b[0m\u001b[0;34m\u001b[0m\u001b[0;34m\u001b[0m\u001b[0m\n\u001b[0m\u001b[1;32m    388\u001b[0m \u001b[0;34m\u001b[0m\u001b[0m\n\u001b[1;32m    389\u001b[0m         \u001b[0;32mdef\u001b[0m \u001b[0mcompute_should_use_set_data\u001b[0m\u001b[0;34m(\u001b[0m\u001b[0mtensor\u001b[0m\u001b[0;34m,\u001b[0m \u001b[0mtensor_applied\u001b[0m\u001b[0;34m)\u001b[0m\u001b[0;34m:\u001b[0m\u001b[0;34m\u001b[0m\u001b[0;34m\u001b[0m\u001b[0m\n",
            "\u001b[0;32m/usr/local/lib/python3.7/dist-packages/torch/nn/modules/module.py\u001b[0m in \u001b[0;36m_apply\u001b[0;34m(self, fn)\u001b[0m\n\u001b[1;32m    407\u001b[0m                 \u001b[0;31m# `with torch.no_grad():`\u001b[0m\u001b[0;34m\u001b[0m\u001b[0;34m\u001b[0m\u001b[0;34m\u001b[0m\u001b[0m\n\u001b[1;32m    408\u001b[0m                 \u001b[0;32mwith\u001b[0m \u001b[0mtorch\u001b[0m\u001b[0;34m.\u001b[0m\u001b[0mno_grad\u001b[0m\u001b[0;34m(\u001b[0m\u001b[0;34m)\u001b[0m\u001b[0;34m:\u001b[0m\u001b[0;34m\u001b[0m\u001b[0;34m\u001b[0m\u001b[0m\n\u001b[0;32m--> 409\u001b[0;31m                     \u001b[0mparam_applied\u001b[0m \u001b[0;34m=\u001b[0m \u001b[0mfn\u001b[0m\u001b[0;34m(\u001b[0m\u001b[0mparam\u001b[0m\u001b[0;34m)\u001b[0m\u001b[0;34m\u001b[0m\u001b[0;34m\u001b[0m\u001b[0m\n\u001b[0m\u001b[1;32m    410\u001b[0m                 \u001b[0mshould_use_set_data\u001b[0m \u001b[0;34m=\u001b[0m \u001b[0mcompute_should_use_set_data\u001b[0m\u001b[0;34m(\u001b[0m\u001b[0mparam\u001b[0m\u001b[0;34m,\u001b[0m \u001b[0mparam_applied\u001b[0m\u001b[0;34m)\u001b[0m\u001b[0;34m\u001b[0m\u001b[0;34m\u001b[0m\u001b[0m\n\u001b[1;32m    411\u001b[0m                 \u001b[0;32mif\u001b[0m \u001b[0mshould_use_set_data\u001b[0m\u001b[0;34m:\u001b[0m\u001b[0;34m\u001b[0m\u001b[0;34m\u001b[0m\u001b[0m\n",
            "\u001b[0;32m/usr/local/lib/python3.7/dist-packages/torch/nn/modules/module.py\u001b[0m in \u001b[0;36mconvert\u001b[0;34m(t)\u001b[0m\n\u001b[1;32m    669\u001b[0m                 return t.to(device, dtype if t.is_floating_point() or t.is_complex() else None,\n\u001b[1;32m    670\u001b[0m                             non_blocking, memory_format=convert_to_format)\n\u001b[0;32m--> 671\u001b[0;31m             \u001b[0;32mreturn\u001b[0m \u001b[0mt\u001b[0m\u001b[0;34m.\u001b[0m\u001b[0mto\u001b[0m\u001b[0;34m(\u001b[0m\u001b[0mdevice\u001b[0m\u001b[0;34m,\u001b[0m \u001b[0mdtype\u001b[0m \u001b[0;32mif\u001b[0m \u001b[0mt\u001b[0m\u001b[0;34m.\u001b[0m\u001b[0mis_floating_point\u001b[0m\u001b[0;34m(\u001b[0m\u001b[0;34m)\u001b[0m \u001b[0;32mor\u001b[0m \u001b[0mt\u001b[0m\u001b[0;34m.\u001b[0m\u001b[0mis_complex\u001b[0m\u001b[0;34m(\u001b[0m\u001b[0;34m)\u001b[0m \u001b[0;32melse\u001b[0m \u001b[0;32mNone\u001b[0m\u001b[0;34m,\u001b[0m \u001b[0mnon_blocking\u001b[0m\u001b[0;34m)\u001b[0m\u001b[0;34m\u001b[0m\u001b[0;34m\u001b[0m\u001b[0m\n\u001b[0m\u001b[1;32m    672\u001b[0m \u001b[0;34m\u001b[0m\u001b[0m\n\u001b[1;32m    673\u001b[0m         \u001b[0;32mreturn\u001b[0m \u001b[0mself\u001b[0m\u001b[0;34m.\u001b[0m\u001b[0m_apply\u001b[0m\u001b[0;34m(\u001b[0m\u001b[0mconvert\u001b[0m\u001b[0;34m)\u001b[0m\u001b[0;34m\u001b[0m\u001b[0;34m\u001b[0m\u001b[0m\n",
            "\u001b[0;31mKeyboardInterrupt\u001b[0m: "
          ]
        }
      ],
      "execution_count": 6,
      "metadata": {
        "colab": {
          "base_uri": "https://localhost:8080/",
          "height": 493
        },
        "id": "W5NAdH8uH-7V",
        "executionInfo": {
          "status": "ok",
          "timestamp": 1621455565792,
          "user_tz": 300,
          "elapsed": 22067,
          "user": {
            "displayName": "Gabriel Ceron Viveros",
            "photoUrl": "https://lh3.googleusercontent.com/a-/AOh14GhKuFxADeoNbpXSp3yfCRgm_vy86e4Q9hPd4K7flA=s64",
            "userId": "03642710981534596372"
          }
        },
        "outputId": "8542b7ec-7079-4c3d-e803-6173d3500df7"
      }
    },
    {
      "cell_type": "code",
      "source": [
        "%run load18.py"
      ],
      "outputs": [
        {
          "output_type": "stream",
          "name": "stdout",
          "text": [
            "Files already downloaded and verified\n"
          ]
        }
      ],
      "execution_count": 12,
      "metadata": {
        "colab": {
          "base_uri": "https://localhost:8080/"
        },
        "id": "I6y0NLu_Y2BB",
        "executionInfo": {
          "status": "ok",
          "timestamp": 1621458797796,
          "user_tz": 300,
          "elapsed": 1909,
          "user": {
            "displayName": "Gabriel Ceron Viveros",
            "photoUrl": "https://lh3.googleusercontent.com/a-/AOh14GhKuFxADeoNbpXSp3yfCRgm_vy86e4Q9hPd4K7flA=s64",
            "userId": "03642710981534596372"
          }
        },
        "outputId": "3a04bd6f-feb4-4a2f-c236-7f767d51a290"
      }
    },
    {
      "cell_type": "code",
      "source": [
        "test()"
      ],
      "outputs": [
        {
          "output_type": "stream",
          "name": "stdout",
          "text": [
            " [================================================================>]  Step: 37ms | Tot: 4s16ms | Loss: 0.179 | Acc: 95.520% (9552/10000) 100/100 \n"
          ]
        }
      ],
      "execution_count": 13,
      "metadata": {
        "colab": {
          "base_uri": "https://localhost:8080/"
        },
        "id": "5v26qBNleMuX",
        "executionInfo": {
          "status": "ok",
          "timestamp": 1621458806131,
          "user_tz": 300,
          "elapsed": 4799,
          "user": {
            "displayName": "Gabriel Ceron Viveros",
            "photoUrl": "https://lh3.googleusercontent.com/a-/AOh14GhKuFxADeoNbpXSp3yfCRgm_vy86e4Q9hPd4K7flA=s64",
            "userId": "03642710981534596372"
          }
        },
        "outputId": "133ee57c-673e-4257-c9b3-2bd3fb8973b9"
      }
    },
    {
      "cell_type": "code",
      "source": [],
      "outputs": [],
      "execution_count": null,
      "metadata": {
        "id": "03RggtWqih1H"
      }
    }
  ],
  "metadata": {
    "colab": {
      "name": "main18.ipynb",
      "provenance": [],
      "collapsed_sections": [],
      "history_visible": true,
      "mount_file_id": "1USrRsHUg0o28eSJBLWFbaCuLX9cp3Cm0",
      "authorship_tag": "ABX9TyPVz8ISs3vvwR0ARi7ylN95"
    },
    "kernelspec": {
      "name": "python3",
      "language": "python",
      "display_name": "Python 3"
    },
    "language_info": {
      "name": "python",
      "version": "3.6.9",
      "mimetype": "text/x-python",
      "codemirror_mode": {
        "name": "ipython",
        "version": 3
      },
      "pygments_lexer": "ipython3",
      "nbconvert_exporter": "python",
      "file_extension": ".py"
    },
    "accelerator": "GPU",
    "kernel_info": {
      "name": "python3"
    },
    "nteract": {
      "version": "nteract-front-end@1.0.0"
    }
  },
  "nbformat": 4,
  "nbformat_minor": 0
}