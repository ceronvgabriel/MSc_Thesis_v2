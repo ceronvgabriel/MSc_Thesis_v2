{
  "cells": [
    {
      "cell_type": "markdown",
      "source": [
        "#Import"
      ],
      "metadata": {
        "id": "CUTSgXGmCKCS"
      }
    },
    {
      "cell_type": "code",
      "source": [
        "#Run if you want to autoreload your personal modules on change\n",
        "%load_ext autoreload\n",
        "%autoreload 2\n",
        "\n",
        "#Next is needed in azure vm to autoreload modules in cwd\n",
        "import os\n",
        "pwd=os.popen(\"pwd\").read().rstrip()\n",
        "\n",
        "import sys\n",
        "sys.path.append(pwd)"
      ],
      "outputs": [
        {
          "output_type": "stream",
          "name": "stdout",
          "text": [
            "The autoreload extension is already loaded. To reload it, use:\n",
            "  %reload_ext autoreload\n"
          ]
        }
      ],
      "execution_count": 19,
      "metadata": {
        "id": "iCZG76K_evTn",
        "executionInfo": {
          "status": "ok",
          "timestamp": 1625355240662,
          "user_tz": 300,
          "elapsed": 198,
          "user": {
            "displayName": "Gabriel Ceron Viveros",
            "photoUrl": "https://lh3.googleusercontent.com/a-/AOh14GhKuFxADeoNbpXSp3yfCRgm_vy86e4Q9hPd4K7flA=s64",
            "userId": "03642710981534596372"
          }
        },
        "gather": {
          "logged": 1625578671204
        }
      }
    },
    {
      "cell_type": "code",
      "source": [
        "%cd drive/MyDrive/Colab\\ Notebooks\n",
        "!ls"
      ],
      "outputs": [
        {
          "output_type": "stream",
          "name": "stdout",
          "text": [
            "[Errno 2] No such file or directory: 'drive/MyDrive/Colab Notebooks'\n",
            "/mnt/batch/tasks/shared/LS_root/mounts/clusters/s2426601/code/Users/S242660/thesis\n",
            "__pycache__\t\t     main18_default.ipynb\r\n",
            "az_manage_proc.py\t     main18_default.ipynb.amltmp\r\n",
            "az_manage_proc.py.amltmp     main_custom.py\r\n",
            "azure_manage_proc.py.amltmp  main_custom.py.amltmp\r\n",
            "checkpoint\t\t     main_default.py\r\n",
            "checkpoint_default\t     main_default.py.amltmp\r\n",
            "checkpoint_default_2\t     manyInj.py\r\n",
            "checkpoints\t\t     models\r\n",
            "data\t\t\t     neuron_injection.ipynb\r\n",
            "load18.py\t\t     neuron_injection.ipynb.amltmp\r\n",
            "load18_default.py\t     pytorchfi\r\n",
            "log.log\t\t\t     resnet_18_custom.py\r\n",
            "log.py\t\t\t     resnet_18_custom.py.amltmp\r\n",
            "log.py.amltmp\t\t     snippets.ipynb\r\n",
            "main.py\t\t\t     utils.py\r\n",
            "main18.ipynb\t\t     wandb\r\n",
            "main18.ipynb.amltmp\t     weight_injections.ipynb\r\n",
            "main18_custom.ipynb\t     weight_injections.ipynb.amltmp\r\n",
            "main18_custom.ipynb.amltmp\r\n"
          ]
        }
      ],
      "execution_count": 2,
      "metadata": {
        "colab": {
          "base_uri": "https://localhost:8080/"
        },
        "id": "O4_2KWrPhKnZ",
        "executionInfo": {
          "status": "ok",
          "timestamp": 1625355241071,
          "user_tz": 300,
          "elapsed": 216,
          "user": {
            "displayName": "Gabriel Ceron Viveros",
            "photoUrl": "https://lh3.googleusercontent.com/a-/AOh14GhKuFxADeoNbpXSp3yfCRgm_vy86e4Q9hPd4K7flA=s64",
            "userId": "03642710981534596372"
          }
        },
        "outputId": "3c67bb1c-03d6-48f8-9598-8519abac38e2"
      }
    },
    {
      "cell_type": "code",
      "source": [
        "#Show current devices (GPU)\n",
        "#print(torch.cuda.current_device())\n",
        "from tensorflow.python.client import device_lib\n",
        "device_lib.list_local_devices()"
      ],
      "outputs": [
        {
          "output_type": "execute_result",
          "execution_count": 3,
          "data": {
            "text/plain": "[name: \"/device:CPU:0\"\n device_type: \"CPU\"\n memory_limit: 268435456\n locality {\n }\n incarnation: 17181313802977743763, name: \"/device:GPU:0\"\n device_type: \"GPU\"\n memory_limit: 14509932544\n locality {\n   bus_id: 1\n   links {\n   }\n }\n incarnation: 1528906781517698820\n physical_device_desc: \"device: 0, name: Tesla T4, pci bus id: 0000:00:04.0, compute capability: 7.5\"]"
          },
          "metadata": {
            "tags": []
          }
        }
      ],
      "execution_count": 3,
      "metadata": {
        "colab": {
          "base_uri": "https://localhost:8080/"
        },
        "id": "qv7z9U0Gh_vd",
        "executionInfo": {
          "status": "ok",
          "timestamp": 1625355247626,
          "user_tz": 300,
          "elapsed": 6557,
          "user": {
            "displayName": "Gabriel Ceron Viveros",
            "photoUrl": "https://lh3.googleusercontent.com/a-/AOh14GhKuFxADeoNbpXSp3yfCRgm_vy86e4Q9hPd4K7flA=s64",
            "userId": "03642710981534596372"
          }
        },
        "outputId": "26498852-683e-4563-b97d-cd0f3c40cab4"
      }
    },
    {
      "cell_type": "code",
      "source": [
        "import torch\n",
        "import torch.nn as nn\n",
        "import torch.optim as optim\n",
        "import torch.nn.functional as F\n",
        "import torch.backends.cudnn as cudnn\n",
        "\n",
        "import torchvision\n",
        "import torchvision.transforms as transforms\n",
        "\n",
        "import os\n",
        "import argparse\n",
        "\n",
        "from models import *\n",
        "from utils import progress_bar\n",
        "\n",
        "import numpy as np\n",
        "\n"
      ],
      "outputs": [],
      "execution_count": 4,
      "metadata": {
        "id": "MQIu7huShQmc",
        "executionInfo": {
          "status": "ok",
          "timestamp": 1625355261459,
          "user_tz": 300,
          "elapsed": 5573,
          "user": {
            "displayName": "Gabriel Ceron Viveros",
            "photoUrl": "https://lh3.googleusercontent.com/a-/AOh14GhKuFxADeoNbpXSp3yfCRgm_vy86e4Q9hPd4K7flA=s64",
            "userId": "03642710981534596372"
          }
        },
        "gather": {
          "logged": 1625578159499
        }
      }
    },
    {
      "cell_type": "code",
      "source": [
        "#!pip install pytorchfi\n",
        "\n",
        "#import local customized pytorchfi module for this project, mod from ver 0.3.0:\n",
        "\n",
        "import pytorchfi"
      ],
      "outputs": [],
      "execution_count": 5,
      "metadata": {
        "id": "jw9srfrIiQ28",
        "executionInfo": {
          "status": "ok",
          "timestamp": 1625355277618,
          "user_tz": 300,
          "elapsed": 468,
          "user": {
            "displayName": "Gabriel Ceron Viveros",
            "photoUrl": "https://lh3.googleusercontent.com/a-/AOh14GhKuFxADeoNbpXSp3yfCRgm_vy86e4Q9hPd4K7flA=s64",
            "userId": "03642710981534596372"
          }
        },
        "gather": {
          "logged": 1625578160073
        }
      }
    },
    {
      "cell_type": "code",
      "source": [
        "from pytorchfi.core import fault_injection as pfi_core\n",
        "from pytorchfi.errormodels import (\n",
        "    random_inj_per_layer,\n",
        "    random_inj_per_layer_batched,\n",
        "    random_neuron_inj,\n",
        "    random_neuron_inj_batched,\n",
        "    random_neuron_single_bit_inj,\n",
        "    random_neuron_single_bit_inj_batched,\n",
        "    random_weight_inj\n",
        ")\n",
        "\n",
        "import manyInj #Custom fault injector model\n",
        "import pytorchfi\n",
        "import numpy"
      ],
      "outputs": [],
      "execution_count": 6,
      "metadata": {
        "id": "683kiSVOi9u4",
        "executionInfo": {
          "status": "ok",
          "timestamp": 1625355282303,
          "user_tz": 300,
          "elapsed": 1571,
          "user": {
            "displayName": "Gabriel Ceron Viveros",
            "photoUrl": "https://lh3.googleusercontent.com/a-/AOh14GhKuFxADeoNbpXSp3yfCRgm_vy86e4Q9hPd4K7flA=s64",
            "userId": "03642710981534596372"
          }
        },
        "gather": {
          "logged": 1625578160555
        }
      }
    },
    {
      "cell_type": "markdown",
      "source": [
        "#Run"
      ],
      "metadata": {
        "id": "9Ry19OvoPkts"
      }
    },
    {
      "cell_type": "code",
      "source": [
        "%run load18.py"
      ],
      "outputs": [
        {
          "output_type": "stream",
          "name": "stdout",
          "text": [
            "Files already downloaded and verified\n"
          ]
        }
      ],
      "execution_count": 7,
      "metadata": {
        "colab": {
          "base_uri": "https://localhost:8080/"
        },
        "id": "gkDG2gZmhT39",
        "executionInfo": {
          "status": "ok",
          "timestamp": 1625355342040,
          "user_tz": 300,
          "elapsed": 26621,
          "user": {
            "displayName": "Gabriel Ceron Viveros",
            "photoUrl": "https://lh3.googleusercontent.com/a-/AOh14GhKuFxADeoNbpXSp3yfCRgm_vy86e4Q9hPd4K7flA=s64",
            "userId": "03642710981534596372"
          }
        },
        "outputId": "16f47277-2cae-4f9a-cb74-088f32e64624"
      }
    },
    {
      "cell_type": "code",
      "source": [
        "test()"
      ],
      "outputs": [
        {
          "output_type": "stream",
          "name": "stdout",
          "text": [
            " [================================================================>]  Step: 37ms | Tot: 3s690ms | Loss: 0.179 | Acc: 95.520% (9552/10000) 100/100 \n"
          ]
        }
      ],
      "execution_count": 8,
      "metadata": {
        "colab": {
          "base_uri": "https://localhost:8080/"
        },
        "id": "ZDYtMic0p9Ti",
        "executionInfo": {
          "status": "ok",
          "timestamp": 1625355346486,
          "user_tz": 300,
          "elapsed": 4468,
          "user": {
            "displayName": "Gabriel Ceron Viveros",
            "photoUrl": "https://lh3.googleusercontent.com/a-/AOh14GhKuFxADeoNbpXSp3yfCRgm_vy86e4Q9hPd4K7flA=s64",
            "userId": "03642710981534596372"
          }
        },
        "outputId": "eeab4edf-fc72-482c-983d-a4277e5739f1"
      }
    },
    {
      "cell_type": "code",
      "source": [
        "#Function to test a given model\n",
        "def testM(model):\n",
        "    global best_acc\n",
        "    #model.eval()\n",
        "    test_loss = 0\n",
        "    correct = 0\n",
        "    total = 0\n",
        "    with torch.no_grad():\n",
        "        for batch_idx, (inputs, targets) in enumerate(testloader):\n",
        "            inputs, targets = inputs.to(device), targets.to(device)\n",
        "            outputs = model(inputs)\n",
        "            loss = criterion(outputs, targets)\n",
        "\n",
        "            test_loss += loss.item()\n",
        "            _, predicted = outputs.max(1)\n",
        "            total += targets.size(0)\n",
        "            correct += predicted.eq(targets).sum().item()\n",
        "\n",
        "        print('Loss: %.3f | Acc: %.3f%% (%d/%d)'%(test_loss/(batch_idx+1), 100.*correct/total, correct, total))\n",
        "        return correct/total\n"
      ],
      "outputs": [],
      "execution_count": 7,
      "metadata": {
        "id": "aqubxZGGyKKI",
        "executionInfo": {
          "status": "ok",
          "timestamp": 1625355346488,
          "user_tz": 300,
          "elapsed": 23,
          "user": {
            "displayName": "Gabriel Ceron Viveros",
            "photoUrl": "https://lh3.googleusercontent.com/a-/AOh14GhKuFxADeoNbpXSp3yfCRgm_vy86e4Q9hPd4K7flA=s64",
            "userId": "03642710981534596372"
          }
        },
        "gather": {
          "logged": 1625578164893
        }
      }
    },
    {
      "cell_type": "code",
      "source": [
        "test()"
      ],
      "outputs": [
        {
          "output_type": "stream",
          "name": "stdout",
          "text": [
            " [================================================================>]  Step: 29ms | Tot: 3s801ms | Loss: 0.179 | Acc: 95.520% (9552/10000) 100/100 \n"
          ]
        }
      ],
      "execution_count": 10,
      "metadata": {
        "colab": {
          "base_uri": "https://localhost:8080/"
        },
        "id": "6Gvz9uKPqJJK",
        "executionInfo": {
          "status": "ok",
          "timestamp": 1625355350523,
          "user_tz": 300,
          "elapsed": 4057,
          "user": {
            "displayName": "Gabriel Ceron Viveros",
            "photoUrl": "https://lh3.googleusercontent.com/a-/AOh14GhKuFxADeoNbpXSp3yfCRgm_vy86e4Q9hPd4K7flA=s64",
            "userId": "03642710981534596372"
          }
        },
        "outputId": "4b02ea59-2bd9-4f30-cdc2-9ea1e4455df1"
      }
    },
    {
      "cell_type": "code",
      "source": [
        "#Change test batch size\n",
        "num_batches=100\n",
        "\n",
        "transform_test = transforms.Compose([\n",
        "        transforms.ToTensor(),\n",
        "        transforms.Normalize((0.4914, 0.4822, 0.4465), (0.2023, 0.1994, 0.2010)),\n",
        "    ])\n",
        "\n",
        "testset = torchvision.datasets.CIFAR10(\n",
        "        root='./data', train=False, download=True, transform=transform_test)\n",
        "\n",
        "test_batch_size=int(numpy.shape(testset.data)[0]/num_batches)\n",
        "#test_batch_size=100\n",
        "\n",
        "testloader = torch.utils.data.DataLoader(\n",
        "    testset, batch_size=test_batch_size, shuffle=False, num_workers=2)\n"
      ],
      "outputs": [
        {
          "output_type": "stream",
          "name": "stdout",
          "text": [
            "Files already downloaded and verified\n"
          ]
        }
      ],
      "execution_count": 12,
      "metadata": {
        "id": "U_8Q4j35pT7z",
        "executionInfo": {
          "status": "ok",
          "timestamp": 1625355350524,
          "user_tz": 300,
          "elapsed": 27,
          "user": {
            "displayName": "Gabriel Ceron Viveros",
            "photoUrl": "https://lh3.googleusercontent.com/a-/AOh14GhKuFxADeoNbpXSp3yfCRgm_vy86e4Q9hPd4K7flA=s64",
            "userId": "03642710981534596372"
          }
        },
        "gather": {
          "logged": 1625578376029
        }
      }
    },
    {
      "cell_type": "code",
      "source": [
        "original_acc=testM(net)"
      ],
      "outputs": [
        {
          "output_type": "stream",
          "name": "stdout",
          "text": [
            "Loss: 0.179 | Acc: 95.520% (9552/10000)\n"
          ]
        }
      ],
      "execution_count": 12,
      "metadata": {
        "id": "0q3pr8fohXoK",
        "colab": {
          "base_uri": "https://localhost:8080/"
        },
        "executionInfo": {
          "status": "ok",
          "timestamp": 1625355353423,
          "user_tz": 300,
          "elapsed": 2922,
          "user": {
            "displayName": "Gabriel Ceron Viveros",
            "photoUrl": "https://lh3.googleusercontent.com/a-/AOh14GhKuFxADeoNbpXSp3yfCRgm_vy86e4Q9hPd4K7flA=s64",
            "userId": "03642710981534596372"
          }
        },
        "outputId": "e3f8e8c4-4f89-4990-a4de-e6c19de0ab8f"
      }
    },
    {
      "cell_type": "code",
      "source": [
        "test_features, test_labels = next(iter(testloader))\n",
        "#Get num channels, width and height of input data\n",
        "c,w,h=list(test_features[0].size())\n",
        "#Batchsize, see load18.py or main.py for batch size\n",
        "num_batches=int(numpy.shape(testset.data)[0]/test_batch_size)"
      ],
      "outputs": [],
      "execution_count": 13,
      "metadata": {
        "id": "wNS9txqFmOHa",
        "executionInfo": {
          "status": "ok",
          "timestamp": 1625355353695,
          "user_tz": 300,
          "elapsed": 278,
          "user": {
            "displayName": "Gabriel Ceron Viveros",
            "photoUrl": "https://lh3.googleusercontent.com/a-/AOh14GhKuFxADeoNbpXSp3yfCRgm_vy86e4Q9hPd4K7flA=s64",
            "userId": "03642710981534596372"
          }
        },
        "gather": {
          "logged": 1625578386193
        }
      }
    },
    {
      "cell_type": "code",
      "source": [
        "#We introduce the test batch size because we may select the batch element on which apply an injection\n",
        "pfi_model = pfi_core(net, h, w, test_batch_size, c=c,debug=True,use_cuda=True)"
      ],
      "outputs": [],
      "execution_count": 14,
      "metadata": {
        "id": "8YJQzewSnpe4",
        "executionInfo": {
          "status": "ok",
          "timestamp": 1625355353696,
          "user_tz": 300,
          "elapsed": 5,
          "user": {
            "displayName": "Gabriel Ceron Viveros",
            "photoUrl": "https://lh3.googleusercontent.com/a-/AOh14GhKuFxADeoNbpXSp3yfCRgm_vy86e4Q9hPd4K7flA=s64",
            "userId": "03642710981534596372"
          }
        }
      }
    },
    {
      "cell_type": "code",
      "source": [
        "testM(pfi_model.ORIG_MODEL)"
      ],
      "outputs": [
        {
          "output_type": "stream",
          "name": "stdout",
          "text": [
            "Loss: 0.179 | Acc: 95.520% (9552/10000)\n"
          ]
        },
        {
          "output_type": "execute_result",
          "execution_count": 15,
          "data": {
            "text/plain": "0.9552"
          },
          "metadata": {
            "tags": []
          }
        }
      ],
      "execution_count": 15,
      "metadata": {
        "colab": {
          "base_uri": "https://localhost:8080/"
        },
        "id": "JXPvzkW8RHwd",
        "executionInfo": {
          "status": "ok",
          "timestamp": 1625355356553,
          "user_tz": 300,
          "elapsed": 2861,
          "user": {
            "displayName": "Gabriel Ceron Viveros",
            "photoUrl": "https://lh3.googleusercontent.com/a-/AOh14GhKuFxADeoNbpXSp3yfCRgm_vy86e4Q9hPd4K7flA=s64",
            "userId": "03642710981534596372"
          }
        },
        "outputId": "ed863df3-f19a-4b5e-c530-400cfd9b8e6d"
      }
    },
    {
      "cell_type": "markdown",
      "source": [
        "#Refactor test"
      ],
      "metadata": {
        "id": "0CLuwZ8qoEMw"
      }
    },
    {
      "cell_type": "code",
      "source": [
        "#get_total_layers()\n",
        "len(pfi_model.OUTPUT_SIZE)\n"
      ],
      "outputs": [
        {
          "output_type": "execute_result",
          "execution_count": 30,
          "data": {
            "text/plain": "20"
          },
          "metadata": {
            "tags": []
          }
        }
      ],
      "execution_count": null,
      "metadata": {
        "id": "AWHD8k2tUeol",
        "colab": {
          "base_uri": "https://localhost:8080/"
        },
        "executionInfo": {
          "status": "ok",
          "timestamp": 1625271693993,
          "user_tz": 300,
          "elapsed": 212,
          "user": {
            "displayName": "Gabriel Ceron Viveros",
            "photoUrl": "https://lh3.googleusercontent.com/a-/AOh14GhKuFxADeoNbpXSp3yfCRgm_vy86e4Q9hPd4K7flA=s64",
            "userId": "03642710981534596372"
          }
        },
        "outputId": "a6337bee-45e5-43bb-ebb8-4e29abef95f0"
      }
    },
    {
      "cell_type": "code",
      "source": [
        "pfi_model.OUTPUT_SIZE"
      ],
      "outputs": [
        {
          "output_type": "execute_result",
          "execution_count": 32,
          "data": {
            "text/plain": "[[1, 64, 32, 32],\n [1, 64, 32, 32],\n [1, 64, 32, 32],\n [1, 64, 32, 32],\n [1, 64, 32, 32],\n [1, 128, 16, 16],\n [1, 128, 16, 16],\n [1, 128, 16, 16],\n [1, 128, 16, 16],\n [1, 128, 16, 16],\n [1, 256, 8, 8],\n [1, 256, 8, 8],\n [1, 256, 8, 8],\n [1, 256, 8, 8],\n [1, 256, 8, 8],\n [1, 512, 4, 4],\n [1, 512, 4, 4],\n [1, 512, 4, 4],\n [1, 512, 4, 4],\n [1, 512, 4, 4]]"
          },
          "metadata": {
            "tags": []
          }
        }
      ],
      "execution_count": null,
      "metadata": {
        "colab": {
          "base_uri": "https://localhost:8080/"
        },
        "id": "t5pZ5FG5vf3m",
        "executionInfo": {
          "status": "ok",
          "timestamp": 1625271719211,
          "user_tz": 300,
          "elapsed": 210,
          "user": {
            "displayName": "Gabriel Ceron Viveros",
            "photoUrl": "https://lh3.googleusercontent.com/a-/AOh14GhKuFxADeoNbpXSp3yfCRgm_vy86e4Q9hPd4K7flA=s64",
            "userId": "03642710981534596372"
          }
        },
        "outputId": "ee2cd2bc-8c59-41cc-db0b-ab88c654870a"
      }
    },
    {
      "cell_type": "code",
      "source": [
        "#Downsample in the case of gitcode\n",
        "j=0\n",
        "for name, param in pfi_model.get_original_model().named_parameters():\n",
        "    if \"conv\" in name or \"downsample.0\" in name: \n",
        "      j=j+1\n",
        "      print(name,\"|\",param.size())"
      ],
      "outputs": [
        {
          "output_type": "stream",
          "name": "stdout",
          "text": [
            "module.conv1.weight | torch.Size([64, 3, 3, 3])\n",
            "module.layer1.0.conv1.weight | torch.Size([64, 64, 3, 3])\n",
            "module.layer1.0.conv2.weight | torch.Size([64, 64, 3, 3])\n",
            "module.layer1.1.conv1.weight | torch.Size([64, 64, 3, 3])\n",
            "module.layer1.1.conv2.weight | torch.Size([64, 64, 3, 3])\n",
            "module.layer2.0.conv1.weight | torch.Size([128, 64, 3, 3])\n",
            "module.layer2.0.conv2.weight | torch.Size([128, 128, 3, 3])\n",
            "module.layer2.1.conv1.weight | torch.Size([128, 128, 3, 3])\n",
            "module.layer2.1.conv2.weight | torch.Size([128, 128, 3, 3])\n",
            "module.layer3.0.conv1.weight | torch.Size([256, 128, 3, 3])\n",
            "module.layer3.0.conv2.weight | torch.Size([256, 256, 3, 3])\n",
            "module.layer3.1.conv1.weight | torch.Size([256, 256, 3, 3])\n",
            "module.layer3.1.conv2.weight | torch.Size([256, 256, 3, 3])\n",
            "module.layer4.0.conv1.weight | torch.Size([512, 256, 3, 3])\n",
            "module.layer4.0.conv2.weight | torch.Size([512, 512, 3, 3])\n",
            "module.layer4.1.conv1.weight | torch.Size([512, 512, 3, 3])\n",
            "module.layer4.1.conv2.weight | torch.Size([512, 512, 3, 3])\n"
          ]
        }
      ],
      "execution_count": null,
      "metadata": {
        "id": "XgkElcm0b_nc",
        "colab": {
          "base_uri": "https://localhost:8080/"
        },
        "executionInfo": {
          "status": "ok",
          "timestamp": 1625271078919,
          "user_tz": 300,
          "elapsed": 189,
          "user": {
            "displayName": "Gabriel Ceron Viveros",
            "photoUrl": "https://lh3.googleusercontent.com/a-/AOh14GhKuFxADeoNbpXSp3yfCRgm_vy86e4Q9hPd4K7flA=s64",
            "userId": "03642710981534596372"
          }
        },
        "outputId": "e02497b6-1110-4385-a734-c9fd72431d27"
      }
    },
    {
      "cell_type": "code",
      "source": [
        "j"
      ],
      "outputs": [
        {
          "output_type": "execute_result",
          "execution_count": 27,
          "data": {
            "text/plain": "17"
          },
          "metadata": {
            "tags": []
          }
        }
      ],
      "execution_count": null,
      "metadata": {
        "colab": {
          "base_uri": "https://localhost:8080/"
        },
        "id": "XngGH44ctKA2",
        "executionInfo": {
          "status": "ok",
          "timestamp": 1625271084835,
          "user_tz": 300,
          "elapsed": 202,
          "user": {
            "displayName": "Gabriel Ceron Viveros",
            "photoUrl": "https://lh3.googleusercontent.com/a-/AOh14GhKuFxADeoNbpXSp3yfCRgm_vy86e4Q9hPd4K7flA=s64",
            "userId": "03642710981534596372"
          }
        },
        "outputId": "cfde0de0-a008-4414-8afe-62db2fd38be9"
      }
    },
    {
      "cell_type": "code",
      "source": [
        "#Shortcut for default pytorch net\n",
        "j=0\n",
        "for name, param in pfi_model.get_original_model().named_parameters():\n",
        "    if \"conv\" in name or \"shortcut.0\" in name: \n",
        "      j=j+1\n",
        "      print(name,\"|\",param.size())"
      ],
      "outputs": [
        {
          "output_type": "stream",
          "name": "stdout",
          "text": [
            "module.conv1.weight | torch.Size([64, 3, 3, 3])\n",
            "module.layer1.0.conv1.weight | torch.Size([64, 64, 3, 3])\n",
            "module.layer1.0.conv2.weight | torch.Size([64, 64, 3, 3])\n",
            "module.layer1.1.conv1.weight | torch.Size([64, 64, 3, 3])\n",
            "module.layer1.1.conv2.weight | torch.Size([64, 64, 3, 3])\n",
            "module.layer2.0.conv1.weight | torch.Size([128, 64, 3, 3])\n",
            "module.layer2.0.conv2.weight | torch.Size([128, 128, 3, 3])\n",
            "module.layer2.0.shortcut.0.weight | torch.Size([128, 64, 1, 1])\n",
            "module.layer2.1.conv1.weight | torch.Size([128, 128, 3, 3])\n",
            "module.layer2.1.conv2.weight | torch.Size([128, 128, 3, 3])\n",
            "module.layer3.0.conv1.weight | torch.Size([256, 128, 3, 3])\n",
            "module.layer3.0.conv2.weight | torch.Size([256, 256, 3, 3])\n",
            "module.layer3.0.shortcut.0.weight | torch.Size([256, 128, 1, 1])\n",
            "module.layer3.1.conv1.weight | torch.Size([256, 256, 3, 3])\n",
            "module.layer3.1.conv2.weight | torch.Size([256, 256, 3, 3])\n",
            "module.layer4.0.conv1.weight | torch.Size([512, 256, 3, 3])\n",
            "module.layer4.0.conv2.weight | torch.Size([512, 512, 3, 3])\n",
            "module.layer4.0.shortcut.0.weight | torch.Size([512, 256, 1, 1])\n",
            "module.layer4.1.conv1.weight | torch.Size([512, 512, 3, 3])\n",
            "module.layer4.1.conv2.weight | torch.Size([512, 512, 3, 3])\n"
          ]
        }
      ],
      "execution_count": null,
      "metadata": {
        "colab": {
          "base_uri": "https://localhost:8080/"
        },
        "id": "mvIz7vqH0GUG",
        "executionInfo": {
          "status": "ok",
          "timestamp": 1625273082321,
          "user_tz": 300,
          "elapsed": 225,
          "user": {
            "displayName": "Gabriel Ceron Viveros",
            "photoUrl": "https://lh3.googleusercontent.com/a-/AOh14GhKuFxADeoNbpXSp3yfCRgm_vy86e4Q9hPd4K7flA=s64",
            "userId": "03642710981534596372"
          }
        },
        "outputId": "deb96113-b3b6-4691-94e3-a2b47e063f95"
      }
    },
    {
      "cell_type": "code",
      "source": [
        "j"
      ],
      "outputs": [
        {
          "output_type": "execute_result",
          "execution_count": 36,
          "data": {
            "text/plain": "20"
          },
          "metadata": {
            "tags": []
          }
        }
      ],
      "execution_count": null,
      "metadata": {
        "colab": {
          "base_uri": "https://localhost:8080/"
        },
        "id": "qa1-vOxt00RT",
        "executionInfo": {
          "status": "ok",
          "timestamp": 1625273094385,
          "user_tz": 300,
          "elapsed": 223,
          "user": {
            "displayName": "Gabriel Ceron Viveros",
            "photoUrl": "https://lh3.googleusercontent.com/a-/AOh14GhKuFxADeoNbpXSp3yfCRgm_vy86e4Q9hPd4K7flA=s64",
            "userId": "03642710981534596372"
          }
        },
        "outputId": "8a56a195-b55a-481d-cc05-d73b8f5a1773"
      }
    },
    {
      "cell_type": "code",
      "source": [
        "j=0\n",
        "for name, param in pfi_model.get_original_model().named_parameters():\n",
        "    if \"features\" in name and \"weight\" in name:\n",
        "      j=j+1\n",
        "      print(name,\"|\",param.size())"
      ],
      "outputs": [],
      "execution_count": null,
      "metadata": {
        "id": "3tSyOIHntR2z"
      }
    },
    {
      "cell_type": "code",
      "source": [
        "for name, param in pfi_model.get_original_model().named_parameters():\n",
        "    print(name)"
      ],
      "outputs": [
        {
          "output_type": "stream",
          "name": "stdout",
          "text": [
            "module.conv1.weight\n",
            "module.bn1.weight\n",
            "module.bn1.bias\n",
            "module.layer1.0.conv1.weight\n",
            "module.layer1.0.bn1.weight\n",
            "module.layer1.0.bn1.bias\n",
            "module.layer1.0.conv2.weight\n",
            "module.layer1.0.bn2.weight\n",
            "module.layer1.0.bn2.bias\n",
            "module.layer1.1.conv1.weight\n",
            "module.layer1.1.bn1.weight\n",
            "module.layer1.1.bn1.bias\n",
            "module.layer1.1.conv2.weight\n",
            "module.layer1.1.bn2.weight\n",
            "module.layer1.1.bn2.bias\n",
            "module.layer2.0.conv1.weight\n",
            "module.layer2.0.bn1.weight\n",
            "module.layer2.0.bn1.bias\n",
            "module.layer2.0.conv2.weight\n",
            "module.layer2.0.bn2.weight\n",
            "module.layer2.0.bn2.bias\n",
            "module.layer2.0.shortcut.0.weight\n",
            "module.layer2.0.shortcut.1.weight\n",
            "module.layer2.0.shortcut.1.bias\n",
            "module.layer2.1.conv1.weight\n",
            "module.layer2.1.bn1.weight\n",
            "module.layer2.1.bn1.bias\n",
            "module.layer2.1.conv2.weight\n",
            "module.layer2.1.bn2.weight\n",
            "module.layer2.1.bn2.bias\n",
            "module.layer3.0.conv1.weight\n",
            "module.layer3.0.bn1.weight\n",
            "module.layer3.0.bn1.bias\n",
            "module.layer3.0.conv2.weight\n",
            "module.layer3.0.bn2.weight\n",
            "module.layer3.0.bn2.bias\n",
            "module.layer3.0.shortcut.0.weight\n",
            "module.layer3.0.shortcut.1.weight\n",
            "module.layer3.0.shortcut.1.bias\n",
            "module.layer3.1.conv1.weight\n",
            "module.layer3.1.bn1.weight\n",
            "module.layer3.1.bn1.bias\n",
            "module.layer3.1.conv2.weight\n",
            "module.layer3.1.bn2.weight\n",
            "module.layer3.1.bn2.bias\n",
            "module.layer4.0.conv1.weight\n",
            "module.layer4.0.bn1.weight\n",
            "module.layer4.0.bn1.bias\n",
            "module.layer4.0.conv2.weight\n",
            "module.layer4.0.bn2.weight\n",
            "module.layer4.0.bn2.bias\n",
            "module.layer4.0.shortcut.0.weight\n",
            "module.layer4.0.shortcut.1.weight\n",
            "module.layer4.0.shortcut.1.bias\n",
            "module.layer4.1.conv1.weight\n",
            "module.layer4.1.bn1.weight\n",
            "module.layer4.1.bn1.bias\n",
            "module.layer4.1.conv2.weight\n",
            "module.layer4.1.bn2.weight\n",
            "module.layer4.1.bn2.bias\n",
            "module.linear.weight\n",
            "module.linear.bias\n"
          ]
        }
      ],
      "execution_count": null,
      "metadata": {
        "colab": {
          "base_uri": "https://localhost:8080/"
        },
        "id": "qNO6FIbew2ws",
        "executionInfo": {
          "status": "ok",
          "timestamp": 1625272054000,
          "user_tz": 300,
          "elapsed": 241,
          "user": {
            "displayName": "Gabriel Ceron Viveros",
            "photoUrl": "https://lh3.googleusercontent.com/a-/AOh14GhKuFxADeoNbpXSp3yfCRgm_vy86e4Q9hPd4K7flA=s64",
            "userId": "03642710981534596372"
          }
        },
        "outputId": "1fff0abd-7b9d-4bb0-aab5-8b91e06b8a50"
      }
    },
    {
      "cell_type": "code",
      "source": [
        "pfi_model.get_original_model()"
      ],
      "outputs": [
        {
          "output_type": "execute_result",
          "execution_count": 34,
          "data": {
            "text/plain": "DataParallel(\n  (module): ResNet(\n    (conv1): Conv2d(3, 64, kernel_size=(3, 3), stride=(1, 1), padding=(1, 1), bias=False)\n    (bn1): BatchNorm2d(64, eps=1e-05, momentum=0.1, affine=True, track_running_stats=True)\n    (layer1): Sequential(\n      (0): BasicBlock(\n        (conv1): Conv2d(64, 64, kernel_size=(3, 3), stride=(1, 1), padding=(1, 1), bias=False)\n        (bn1): BatchNorm2d(64, eps=1e-05, momentum=0.1, affine=True, track_running_stats=True)\n        (conv2): Conv2d(64, 64, kernel_size=(3, 3), stride=(1, 1), padding=(1, 1), bias=False)\n        (bn2): BatchNorm2d(64, eps=1e-05, momentum=0.1, affine=True, track_running_stats=True)\n        (shortcut): Sequential()\n      )\n      (1): BasicBlock(\n        (conv1): Conv2d(64, 64, kernel_size=(3, 3), stride=(1, 1), padding=(1, 1), bias=False)\n        (bn1): BatchNorm2d(64, eps=1e-05, momentum=0.1, affine=True, track_running_stats=True)\n        (conv2): Conv2d(64, 64, kernel_size=(3, 3), stride=(1, 1), padding=(1, 1), bias=False)\n        (bn2): BatchNorm2d(64, eps=1e-05, momentum=0.1, affine=True, track_running_stats=True)\n        (shortcut): Sequential()\n      )\n    )\n    (layer2): Sequential(\n      (0): BasicBlock(\n        (conv1): Conv2d(64, 128, kernel_size=(3, 3), stride=(2, 2), padding=(1, 1), bias=False)\n        (bn1): BatchNorm2d(128, eps=1e-05, momentum=0.1, affine=True, track_running_stats=True)\n        (conv2): Conv2d(128, 128, kernel_size=(3, 3), stride=(1, 1), padding=(1, 1), bias=False)\n        (bn2): BatchNorm2d(128, eps=1e-05, momentum=0.1, affine=True, track_running_stats=True)\n        (shortcut): Sequential(\n          (0): Conv2d(64, 128, kernel_size=(1, 1), stride=(2, 2), bias=False)\n          (1): BatchNorm2d(128, eps=1e-05, momentum=0.1, affine=True, track_running_stats=True)\n        )\n      )\n      (1): BasicBlock(\n        (conv1): Conv2d(128, 128, kernel_size=(3, 3), stride=(1, 1), padding=(1, 1), bias=False)\n        (bn1): BatchNorm2d(128, eps=1e-05, momentum=0.1, affine=True, track_running_stats=True)\n        (conv2): Conv2d(128, 128, kernel_size=(3, 3), stride=(1, 1), padding=(1, 1), bias=False)\n        (bn2): BatchNorm2d(128, eps=1e-05, momentum=0.1, affine=True, track_running_stats=True)\n        (shortcut): Sequential()\n      )\n    )\n    (layer3): Sequential(\n      (0): BasicBlock(\n        (conv1): Conv2d(128, 256, kernel_size=(3, 3), stride=(2, 2), padding=(1, 1), bias=False)\n        (bn1): BatchNorm2d(256, eps=1e-05, momentum=0.1, affine=True, track_running_stats=True)\n        (conv2): Conv2d(256, 256, kernel_size=(3, 3), stride=(1, 1), padding=(1, 1), bias=False)\n        (bn2): BatchNorm2d(256, eps=1e-05, momentum=0.1, affine=True, track_running_stats=True)\n        (shortcut): Sequential(\n          (0): Conv2d(128, 256, kernel_size=(1, 1), stride=(2, 2), bias=False)\n          (1): BatchNorm2d(256, eps=1e-05, momentum=0.1, affine=True, track_running_stats=True)\n        )\n      )\n      (1): BasicBlock(\n        (conv1): Conv2d(256, 256, kernel_size=(3, 3), stride=(1, 1), padding=(1, 1), bias=False)\n        (bn1): BatchNorm2d(256, eps=1e-05, momentum=0.1, affine=True, track_running_stats=True)\n        (conv2): Conv2d(256, 256, kernel_size=(3, 3), stride=(1, 1), padding=(1, 1), bias=False)\n        (bn2): BatchNorm2d(256, eps=1e-05, momentum=0.1, affine=True, track_running_stats=True)\n        (shortcut): Sequential()\n      )\n    )\n    (layer4): Sequential(\n      (0): BasicBlock(\n        (conv1): Conv2d(256, 512, kernel_size=(3, 3), stride=(2, 2), padding=(1, 1), bias=False)\n        (bn1): BatchNorm2d(512, eps=1e-05, momentum=0.1, affine=True, track_running_stats=True)\n        (conv2): Conv2d(512, 512, kernel_size=(3, 3), stride=(1, 1), padding=(1, 1), bias=False)\n        (bn2): BatchNorm2d(512, eps=1e-05, momentum=0.1, affine=True, track_running_stats=True)\n        (shortcut): Sequential(\n          (0): Conv2d(256, 512, kernel_size=(1, 1), stride=(2, 2), bias=False)\n          (1): BatchNorm2d(512, eps=1e-05, momentum=0.1, affine=True, track_running_stats=True)\n        )\n      )\n      (1): BasicBlock(\n        (conv1): Conv2d(512, 512, kernel_size=(3, 3), stride=(1, 1), padding=(1, 1), bias=False)\n        (bn1): BatchNorm2d(512, eps=1e-05, momentum=0.1, affine=True, track_running_stats=True)\n        (conv2): Conv2d(512, 512, kernel_size=(3, 3), stride=(1, 1), padding=(1, 1), bias=False)\n        (bn2): BatchNorm2d(512, eps=1e-05, momentum=0.1, affine=True, track_running_stats=True)\n        (shortcut): Sequential()\n      )\n    )\n    (linear): Linear(in_features=512, out_features=10, bias=True)\n  )\n)"
          },
          "metadata": {
            "tags": []
          }
        }
      ],
      "execution_count": null,
      "metadata": {
        "colab": {
          "base_uri": "https://localhost:8080/"
        },
        "id": "KKUjpWIDzojH",
        "executionInfo": {
          "status": "ok",
          "timestamp": 1625272783433,
          "user_tz": 300,
          "elapsed": 276,
          "user": {
            "displayName": "Gabriel Ceron Viveros",
            "photoUrl": "https://lh3.googleusercontent.com/a-/AOh14GhKuFxADeoNbpXSp3yfCRgm_vy86e4Q9hPd4K7flA=s64",
            "userId": "03642710981534596372"
          }
        },
        "outputId": "e9b889c5-1341-43c1-aaf9-6006e77c53c4"
      }
    },
    {
      "cell_type": "code",
      "source": [
        "# Number of parameters of the resnet18\n",
        "loc=[]\n",
        "loc_=[]\n",
        "for name, param in pfi_model.get_original_model().named_parameters():\n",
        "        if \"conv\" in name or \"shortcut.0\" in name or \"downsample.0\" in name:\n",
        "                for dim in param.size():\n",
        "                    #loc[name].append(dim)\n",
        "                    loc_.append({str(name):dim})\n",
        "                loc.append()"
      ],
      "outputs": [],
      "execution_count": 31,
      "metadata": {
        "id": "Qgi2RGj_cqlb",
        "executionInfo": {
          "status": "ok",
          "timestamp": 1625351448133,
          "user_tz": 300,
          "elapsed": 193,
          "user": {
            "displayName": "Gabriel Ceron Viveros",
            "photoUrl": "https://lh3.googleusercontent.com/a-/AOh14GhKuFxADeoNbpXSp3yfCRgm_vy86e4Q9hPd4K7flA=s64",
            "userId": "03642710981534596372"
          }
        }
      }
    },
    {
      "cell_type": "code",
      "source": [
        "# Number of parameters of the resnet18\n",
        "loc=[]\n",
        "\n",
        "for name, param in pfi_model.get_original_model().named_parameters():\n",
        "        if \"conv\" in name or \"shortcut.0\" in name or \"downsample.0\" in name:\n",
        "                loc_=[]\n",
        "                for dim in param.size():\n",
        "                    #loc[name].append(dim)\n",
        "                    loc_.append(dim)\n",
        "                loc.append(loc_)"
      ],
      "outputs": [],
      "execution_count": 38,
      "metadata": {
        "id": "ERviylzkfcCI",
        "executionInfo": {
          "status": "ok",
          "timestamp": 1625352557641,
          "user_tz": 300,
          "elapsed": 200,
          "user": {
            "displayName": "Gabriel Ceron Viveros",
            "photoUrl": "https://lh3.googleusercontent.com/a-/AOh14GhKuFxADeoNbpXSp3yfCRgm_vy86e4Q9hPd4K7flA=s64",
            "userId": "03642710981534596372"
          }
        }
      }
    },
    {
      "cell_type": "code",
      "source": [
        "np.prod(loc,axis=1)"
      ],
      "outputs": [
        {
          "output_type": "execute_result",
          "execution_count": 43,
          "data": {
            "text/plain": "array([   1728,   36864,   36864,   36864,   36864,   73728,  147456,\n          8192,  147456,  147456,  294912,  589824,   32768,  589824,\n        589824, 1179648, 2359296,  131072, 2359296, 2359296])"
          },
          "metadata": {
            "tags": []
          }
        }
      ],
      "execution_count": 43,
      "metadata": {
        "colab": {
          "base_uri": "https://localhost:8080/"
        },
        "id": "KP8W99vplE-m",
        "executionInfo": {
          "status": "ok",
          "timestamp": 1625352859302,
          "user_tz": 300,
          "elapsed": 222,
          "user": {
            "displayName": "Gabriel Ceron Viveros",
            "photoUrl": "https://lh3.googleusercontent.com/a-/AOh14GhKuFxADeoNbpXSp3yfCRgm_vy86e4Q9hPd4K7flA=s64",
            "userId": "03642710981534596372"
          }
        },
        "outputId": "8e7ca4ab-237c-4f65-8827-f99bb8ff9609"
      }
    },
    {
      "cell_type": "code",
      "source": [
        "sum(np.prod(loc,axis=1))"
      ],
      "outputs": [
        {
          "output_type": "execute_result",
          "execution_count": 42,
          "data": {
            "text/plain": "11159232"
          },
          "metadata": {
            "tags": []
          }
        }
      ],
      "execution_count": 42,
      "metadata": {
        "colab": {
          "base_uri": "https://localhost:8080/"
        },
        "id": "ibalCfQcjdR3",
        "executionInfo": {
          "status": "ok",
          "timestamp": 1625352659741,
          "user_tz": 300,
          "elapsed": 217,
          "user": {
            "displayName": "Gabriel Ceron Viveros",
            "photoUrl": "https://lh3.googleusercontent.com/a-/AOh14GhKuFxADeoNbpXSp3yfCRgm_vy86e4Q9hPd4K7flA=s64",
            "userId": "03642710981534596372"
          }
        },
        "outputId": "e40b0f6b-f3ae-4838-c891-90b04f7147c2"
      }
    },
    {
      "cell_type": "code",
      "source": [
        "list(pfi_model.get_original_model().named_parameters())[0][1][0]"
      ],
      "outputs": [
        {
          "output_type": "execute_result",
          "execution_count": 49,
          "data": {
            "text/plain": "tensor([[[-1.3289e-10, -2.7323e-10,  1.6403e-09],\n         [-1.3949e-09, -5.3062e-10,  5.8823e-11],\n         [ 5.1922e-10,  1.2216e-09,  1.5527e-09]],\n\n        [[-2.0898e-10, -1.6902e-11,  9.4456e-10],\n         [-6.7424e-10, -2.2620e-10,  1.7317e-10],\n         [ 1.5561e-09,  7.0692e-10,  1.3345e-09]],\n\n        [[ 7.5248e-10,  4.7087e-10,  1.2638e-09],\n         [-5.2548e-10, -5.2869e-10,  9.4454e-11],\n         [ 2.9251e-10,  3.5621e-10,  7.8323e-10]]], device='cuda:0',\n       grad_fn=<SelectBackward>)"
          },
          "metadata": {
            "tags": []
          }
        }
      ],
      "execution_count": 49,
      "metadata": {
        "colab": {
          "base_uri": "https://localhost:8080/"
        },
        "id": "aJr3S7hIdjwW",
        "executionInfo": {
          "status": "ok",
          "timestamp": 1625353281027,
          "user_tz": 300,
          "elapsed": 199,
          "user": {
            "displayName": "Gabriel Ceron Viveros",
            "photoUrl": "https://lh3.googleusercontent.com/a-/AOh14GhKuFxADeoNbpXSp3yfCRgm_vy86e4Q9hPd4K7flA=s64",
            "userId": "03642710981534596372"
          }
        },
        "outputId": "e8722026-4087-441e-bf39-f7c37b336dd0"
      }
    },
    {
      "cell_type": "markdown",
      "source": [
        "#Injections"
      ],
      "metadata": {
        "id": "z0yFKTew1nvl"
      }
    },
    {
      "cell_type": "code",
      "source": [
        "#import error_models_custom"
      ],
      "outputs": [],
      "execution_count": null,
      "metadata": {
        "id": "Tb4VB17AoBDz"
      }
    },
    {
      "cell_type": "code",
      "source": [
        "#wiModel = error_models_custom.random_weight_inj(pfi_model)"
      ],
      "outputs": [],
      "execution_count": null,
      "metadata": {
        "id": "OeWBZqBcQ8Bi"
      }
    },
    {
      "cell_type": "code",
      "source": [
        "pfi_model.get_total_conv()"
      ],
      "outputs": [
        {
          "output_type": "execute_result",
          "execution_count": 41,
          "data": {
            "text/plain": "20"
          },
          "metadata": {
            "tags": []
          }
        }
      ],
      "execution_count": null,
      "metadata": {
        "colab": {
          "base_uri": "https://localhost:8080/"
        },
        "id": "Z9KdHrS810TH",
        "executionInfo": {
          "status": "ok",
          "timestamp": 1625273547141,
          "user_tz": 300,
          "elapsed": 225,
          "user": {
            "displayName": "Gabriel Ceron Viveros",
            "photoUrl": "https://lh3.googleusercontent.com/a-/AOh14GhKuFxADeoNbpXSp3yfCRgm_vy86e4Q9hPd4K7flA=s64",
            "userId": "03642710981534596372"
          }
        },
        "outputId": "c3fb612a-b16f-4bd9-c7e1-c7a36d66023e"
      }
    },
    {
      "cell_type": "code",
      "source": [
        "pfi_model.declare_weight_fi(conv_num=0,k=0, c=0, h=0, w=0, value=0)"
      ],
      "outputs": [],
      "execution_count": null,
      "metadata": {
        "id": "75htqVAYnDBH"
      }
    },
    {
      "cell_type": "code",
      "source": [
        "list(pfi_model.get_corrupted_model().named_parameters())[0][1][0]"
      ],
      "outputs": [
        {
          "output_type": "execute_result",
          "execution_count": 17,
          "data": {
            "text/plain": "tensor([[[ 0.0000e+00, -2.7323e-10,  1.6403e-09],\n         [-1.3949e-09, -5.3062e-10,  5.8823e-11],\n         [ 5.1922e-10,  1.2216e-09,  1.5527e-09]],\n\n        [[-2.0898e-10, -1.6902e-11,  9.4456e-10],\n         [-6.7424e-10, -2.2620e-10,  1.7317e-10],\n         [ 1.5561e-09,  7.0692e-10,  1.3345e-09]],\n\n        [[ 7.5248e-10,  4.7087e-10,  1.2638e-09],\n         [-5.2548e-10, -5.2869e-10,  9.4454e-11],\n         [ 2.9251e-10,  3.5621e-10,  7.8323e-10]]], device='cuda:0',\n       grad_fn=<SelectBackward>)"
          },
          "metadata": {
            "tags": []
          }
        }
      ],
      "execution_count": 17,
      "metadata": {
        "colab": {
          "base_uri": "https://localhost:8080/"
        },
        "id": "xLmP6uISoJ2h",
        "executionInfo": {
          "status": "ok",
          "timestamp": 1625355482501,
          "user_tz": 300,
          "elapsed": 192,
          "user": {
            "displayName": "Gabriel Ceron Viveros",
            "photoUrl": "https://lh3.googleusercontent.com/a-/AOh14GhKuFxADeoNbpXSp3yfCRgm_vy86e4Q9hPd4K7flA=s64",
            "userId": "03642710981534596372"
          }
        },
        "outputId": "cccf8f8a-a999-4265-e448-918c756093bb"
      }
    },
    {
      "cell_type": "code",
      "source": [
        "manyWInj = manyInj.many_w_injections(pfi_model,1000)"
      ],
      "outputs": [
        {
          "output_type": "stream",
          "name": "stdout",
          "text": [
            "N injections:  1000\n",
            " Injection:  999"
          ]
        }
      ],
      "execution_count": 40,
      "metadata": {
        "colab": {
          "base_uri": "https://localhost:8080/"
        },
        "id": "7losETV416y7",
        "executionInfo": {
          "status": "ok",
          "timestamp": 1625363540988,
          "user_tz": 300,
          "elapsed": 1716,
          "user": {
            "displayName": "Gabriel Ceron Viveros",
            "photoUrl": "https://lh3.googleusercontent.com/a-/AOh14GhKuFxADeoNbpXSp3yfCRgm_vy86e4Q9hPd4K7flA=s64",
            "userId": "03642710981534596372"
          }
        },
        "outputId": "99ba7c4c-c5d8-432e-9614-d2bb244167ca"
      }
    },
    {
      "cell_type": "code",
      "source": [
        "list(manyWInj.named_parameters())[0][1][0]"
      ],
      "outputs": [
        {
          "output_type": "execute_result",
          "execution_count": 19,
          "data": {
            "text/plain": "tensor([[[-1.3289e-10, -2.7323e-10,  1.6403e-09],\n         [-1.3949e-09, -5.3062e-10,  5.8823e-11],\n         [ 5.1922e-10,  1.2216e-09,  1.5527e-09]],\n\n        [[-2.0898e-10, -1.6902e-11,  9.4456e-10],\n         [-6.7424e-10, -2.2620e-10,  1.7317e-10],\n         [ 1.5561e-09,  7.0692e-10,  1.3345e-09]],\n\n        [[ 7.5248e-10,  4.7087e-10,  1.2638e-09],\n         [-5.2548e-10, -5.2869e-10,  9.4454e-11],\n         [ 2.9251e-10,  3.5621e-10,  7.8323e-10]]], device='cuda:0',\n       grad_fn=<SelectBackward>)"
          },
          "metadata": {
            "tags": []
          }
        }
      ],
      "execution_count": 19,
      "metadata": {
        "colab": {
          "base_uri": "https://localhost:8080/"
        },
        "id": "KfPb6XUNtDMh",
        "executionInfo": {
          "status": "ok",
          "timestamp": 1625355681100,
          "user_tz": 300,
          "elapsed": 190,
          "user": {
            "displayName": "Gabriel Ceron Viveros",
            "photoUrl": "https://lh3.googleusercontent.com/a-/AOh14GhKuFxADeoNbpXSp3yfCRgm_vy86e4Q9hPd4K7flA=s64",
            "userId": "03642710981534596372"
          }
        },
        "outputId": "517b7788-d755-4cef-acff-ec1673d548b2"
      }
    },
    {
      "cell_type": "code",
      "source": [
        "testM(manyWInj)"
      ],
      "outputs": [
        {
          "output_type": "stream",
          "name": "stdout",
          "text": [
            "Loss: 3.162 | Acc: 26.370% (2637/10000)\n"
          ]
        },
        {
          "output_type": "execute_result",
          "execution_count": 41,
          "data": {
            "text/plain": "0.2637"
          },
          "metadata": {
            "tags": []
          }
        }
      ],
      "execution_count": 41,
      "metadata": {
        "colab": {
          "base_uri": "https://localhost:8080/"
        },
        "id": "DuAuVbDI94ko",
        "executionInfo": {
          "status": "ok",
          "timestamp": 1625363544417,
          "user_tz": 300,
          "elapsed": 2837,
          "user": {
            "displayName": "Gabriel Ceron Viveros",
            "photoUrl": "https://lh3.googleusercontent.com/a-/AOh14GhKuFxADeoNbpXSp3yfCRgm_vy86e4Q9hPd4K7flA=s64",
            "userId": "03642710981534596372"
          }
        },
        "outputId": "149a5549-74e8-4ba3-a57e-199e1fbca848"
      }
    },
    {
      "cell_type": "code",
      "source": [],
      "outputs": [],
      "execution_count": null,
      "metadata": {
        "collapsed": true,
        "jupyter": {
          "source_hidden": false,
          "outputs_hidden": false
        },
        "nteract": {
          "transient": {
            "deleting": false
          }
        }
      }
    },
    {
      "cell_type": "markdown",
      "source": [
        "#Test for batches mod"
      ],
      "metadata": {
        "nteract": {
          "transient": {
            "deleting": false
          }
        }
      }
    },
    {
      "cell_type": "code",
      "source": [
        "%run load.py"
      ],
      "outputs": [],
      "execution_count": 24,
      "metadata": {
        "collapsed": true,
        "jupyter": {
          "source_hidden": false,
          "outputs_hidden": false
        },
        "nteract": {
          "transient": {
            "deleting": false
          }
        }
      }
    },
    {
      "cell_type": "code",
      "source": [
        "\r\n",
        "net_256=load('default_b_size_256')\r\n",
        "net_512=load('default_b_size_512')"
      ],
      "outputs": [],
      "execution_count": 25,
      "metadata": {
        "collapsed": true,
        "jupyter": {
          "source_hidden": false,
          "outputs_hidden": false
        },
        "nteract": {
          "transient": {
            "deleting": false
          }
        },
        "gather": {
          "logged": 1625579070361
        }
      }
    },
    {
      "cell_type": "code",
      "source": [],
      "outputs": [
        {
          "output_type": "execute_result",
          "execution_count": 29,
          "data": {
            "text/plain": "32"
          },
          "metadata": {}
        }
      ],
      "execution_count": 29,
      "metadata": {
        "collapsed": true,
        "jupyter": {
          "source_hidden": false,
          "outputs_hidden": false
        },
        "nteract": {
          "transient": {
            "deleting": false
          }
        },
        "gather": {
          "logged": 1625579217757
        }
      }
    },
    {
      "cell_type": "code",
      "source": [
        "pfi_model = pfi_core(net_256, h, w, test_batch_size, c=c,debug=True,use_cuda=True)\r\n",
        "acc_v=[]\r\n",
        "for i in range(0,100):\r\n",
        "  manyWInj = manyInj.many_w_injections(pfi_model,1000)\r\n",
        "  acc=testM(manyWInj)\r\n",
        "  acc_v.append(acc)\r\n",
        "np.average(acc_v)"
      ],
      "outputs": [
        {
          "output_type": "error",
          "ename": "ValueError",
          "evalue": "Expected more than 1 value per channel when training, got input size torch.Size([1, 512, 1, 1])",
          "traceback": [
            "\u001b[0;31m---------------------------------------------------------------------------\u001b[0m",
            "\u001b[0;31mValueError\u001b[0m                                Traceback (most recent call last)",
            "\u001b[0;32m<ipython-input-28-a52e59e54959>\u001b[0m in \u001b[0;36m<module>\u001b[0;34m\u001b[0m\n\u001b[0;32m----> 1\u001b[0;31m \u001b[0mpfi_model\u001b[0m \u001b[0;34m=\u001b[0m \u001b[0mpfi_core\u001b[0m\u001b[0;34m(\u001b[0m\u001b[0mnet_256\u001b[0m\u001b[0;34m,\u001b[0m \u001b[0mh\u001b[0m\u001b[0;34m,\u001b[0m \u001b[0mw\u001b[0m\u001b[0;34m,\u001b[0m \u001b[0mtest_batch_size\u001b[0m\u001b[0;34m,\u001b[0m \u001b[0mc\u001b[0m\u001b[0;34m=\u001b[0m\u001b[0mc\u001b[0m\u001b[0;34m,\u001b[0m\u001b[0mdebug\u001b[0m\u001b[0;34m=\u001b[0m\u001b[0;32mTrue\u001b[0m\u001b[0;34m,\u001b[0m\u001b[0muse_cuda\u001b[0m\u001b[0;34m=\u001b[0m\u001b[0;32mTrue\u001b[0m\u001b[0;34m)\u001b[0m\u001b[0;34m\u001b[0m\u001b[0;34m\u001b[0m\u001b[0m\n\u001b[0m\u001b[1;32m      2\u001b[0m \u001b[0macc_v\u001b[0m\u001b[0;34m=\u001b[0m\u001b[0;34m[\u001b[0m\u001b[0;34m]\u001b[0m\u001b[0;34m\u001b[0m\u001b[0;34m\u001b[0m\u001b[0m\n\u001b[1;32m      3\u001b[0m \u001b[0;32mfor\u001b[0m \u001b[0mi\u001b[0m \u001b[0;32min\u001b[0m \u001b[0mrange\u001b[0m\u001b[0;34m(\u001b[0m\u001b[0;36m0\u001b[0m\u001b[0;34m,\u001b[0m\u001b[0;36m100\u001b[0m\u001b[0;34m)\u001b[0m\u001b[0;34m:\u001b[0m\u001b[0;34m\u001b[0m\u001b[0;34m\u001b[0m\u001b[0m\n\u001b[1;32m      4\u001b[0m   \u001b[0mmanyWInj\u001b[0m \u001b[0;34m=\u001b[0m \u001b[0mmanyInj\u001b[0m\u001b[0;34m.\u001b[0m\u001b[0mmany_w_injections\u001b[0m\u001b[0;34m(\u001b[0m\u001b[0mpfi_model\u001b[0m\u001b[0;34m,\u001b[0m\u001b[0;36m1000\u001b[0m\u001b[0;34m)\u001b[0m\u001b[0;34m\u001b[0m\u001b[0;34m\u001b[0m\u001b[0m\n\u001b[1;32m      5\u001b[0m   \u001b[0macc\u001b[0m\u001b[0;34m=\u001b[0m\u001b[0mtestM\u001b[0m\u001b[0;34m(\u001b[0m\u001b[0mmanyWInj\u001b[0m\u001b[0;34m)\u001b[0m\u001b[0;34m\u001b[0m\u001b[0;34m\u001b[0m\u001b[0m\n",
            "\u001b[0;32m/mnt/batch/tasks/shared/LS_root/mounts/clusters/s2426601/code/Users/S242660/thesis/pytorchfi/core.py\u001b[0m in \u001b[0;36m__init__\u001b[0;34m(self, model, h, w, batch_size, **kwargs)\u001b[0m\n\u001b[1;32m     52\u001b[0m         )\n\u001b[1;32m     53\u001b[0m \u001b[0;34m\u001b[0m\u001b[0m\n\u001b[0;32m---> 54\u001b[0;31m         \u001b[0mself\u001b[0m\u001b[0;34m.\u001b[0m\u001b[0mORIG_MODEL\u001b[0m\u001b[0;34m(\u001b[0m\u001b[0m_dummyTensor\u001b[0m\u001b[0;34m)\u001b[0m\u001b[0;34m\u001b[0m\u001b[0;34m\u001b[0m\u001b[0m\n\u001b[0m\u001b[1;32m     55\u001b[0m \u001b[0;34m\u001b[0m\u001b[0m\n\u001b[1;32m     56\u001b[0m         \u001b[0;32mfor\u001b[0m \u001b[0mi\u001b[0m \u001b[0;32min\u001b[0m \u001b[0mrange\u001b[0m\u001b[0;34m(\u001b[0m\u001b[0mlen\u001b[0m\u001b[0;34m(\u001b[0m\u001b[0mhandles\u001b[0m\u001b[0;34m)\u001b[0m\u001b[0;34m)\u001b[0m\u001b[0;34m:\u001b[0m\u001b[0;34m\u001b[0m\u001b[0;34m\u001b[0m\u001b[0m\n",
            "\u001b[0;32m/anaconda/envs/azureml_py36/lib/python3.6/site-packages/torch/nn/modules/module.py\u001b[0m in \u001b[0;36m_call_impl\u001b[0;34m(self, *input, **kwargs)\u001b[0m\n\u001b[1;32m    887\u001b[0m             \u001b[0mresult\u001b[0m \u001b[0;34m=\u001b[0m \u001b[0mself\u001b[0m\u001b[0;34m.\u001b[0m\u001b[0m_slow_forward\u001b[0m\u001b[0;34m(\u001b[0m\u001b[0;34m*\u001b[0m\u001b[0minput\u001b[0m\u001b[0;34m,\u001b[0m \u001b[0;34m**\u001b[0m\u001b[0mkwargs\u001b[0m\u001b[0;34m)\u001b[0m\u001b[0;34m\u001b[0m\u001b[0;34m\u001b[0m\u001b[0m\n\u001b[1;32m    888\u001b[0m         \u001b[0;32melse\u001b[0m\u001b[0;34m:\u001b[0m\u001b[0;34m\u001b[0m\u001b[0;34m\u001b[0m\u001b[0m\n\u001b[0;32m--> 889\u001b[0;31m             \u001b[0mresult\u001b[0m \u001b[0;34m=\u001b[0m \u001b[0mself\u001b[0m\u001b[0;34m.\u001b[0m\u001b[0mforward\u001b[0m\u001b[0;34m(\u001b[0m\u001b[0;34m*\u001b[0m\u001b[0minput\u001b[0m\u001b[0;34m,\u001b[0m \u001b[0;34m**\u001b[0m\u001b[0mkwargs\u001b[0m\u001b[0;34m)\u001b[0m\u001b[0;34m\u001b[0m\u001b[0;34m\u001b[0m\u001b[0m\n\u001b[0m\u001b[1;32m    890\u001b[0m         for hook in itertools.chain(\n\u001b[1;32m    891\u001b[0m                 \u001b[0m_global_forward_hooks\u001b[0m\u001b[0;34m.\u001b[0m\u001b[0mvalues\u001b[0m\u001b[0;34m(\u001b[0m\u001b[0;34m)\u001b[0m\u001b[0;34m,\u001b[0m\u001b[0;34m\u001b[0m\u001b[0;34m\u001b[0m\u001b[0m\n",
            "\u001b[0;32m/anaconda/envs/azureml_py36/lib/python3.6/site-packages/torch/nn/parallel/data_parallel.py\u001b[0m in \u001b[0;36mforward\u001b[0;34m(self, *inputs, **kwargs)\u001b[0m\n\u001b[1;32m    163\u001b[0m \u001b[0;34m\u001b[0m\u001b[0m\n\u001b[1;32m    164\u001b[0m         \u001b[0;32mif\u001b[0m \u001b[0mlen\u001b[0m\u001b[0;34m(\u001b[0m\u001b[0mself\u001b[0m\u001b[0;34m.\u001b[0m\u001b[0mdevice_ids\u001b[0m\u001b[0;34m)\u001b[0m \u001b[0;34m==\u001b[0m \u001b[0;36m1\u001b[0m\u001b[0;34m:\u001b[0m\u001b[0;34m\u001b[0m\u001b[0;34m\u001b[0m\u001b[0m\n\u001b[0;32m--> 165\u001b[0;31m             \u001b[0;32mreturn\u001b[0m \u001b[0mself\u001b[0m\u001b[0;34m.\u001b[0m\u001b[0mmodule\u001b[0m\u001b[0;34m(\u001b[0m\u001b[0;34m*\u001b[0m\u001b[0minputs\u001b[0m\u001b[0;34m[\u001b[0m\u001b[0;36m0\u001b[0m\u001b[0;34m]\u001b[0m\u001b[0;34m,\u001b[0m \u001b[0;34m**\u001b[0m\u001b[0mkwargs\u001b[0m\u001b[0;34m[\u001b[0m\u001b[0;36m0\u001b[0m\u001b[0;34m]\u001b[0m\u001b[0;34m)\u001b[0m\u001b[0;34m\u001b[0m\u001b[0;34m\u001b[0m\u001b[0m\n\u001b[0m\u001b[1;32m    166\u001b[0m         \u001b[0mreplicas\u001b[0m \u001b[0;34m=\u001b[0m \u001b[0mself\u001b[0m\u001b[0;34m.\u001b[0m\u001b[0mreplicate\u001b[0m\u001b[0;34m(\u001b[0m\u001b[0mself\u001b[0m\u001b[0;34m.\u001b[0m\u001b[0mmodule\u001b[0m\u001b[0;34m,\u001b[0m \u001b[0mself\u001b[0m\u001b[0;34m.\u001b[0m\u001b[0mdevice_ids\u001b[0m\u001b[0;34m[\u001b[0m\u001b[0;34m:\u001b[0m\u001b[0mlen\u001b[0m\u001b[0;34m(\u001b[0m\u001b[0minputs\u001b[0m\u001b[0;34m)\u001b[0m\u001b[0;34m]\u001b[0m\u001b[0;34m)\u001b[0m\u001b[0;34m\u001b[0m\u001b[0;34m\u001b[0m\u001b[0m\n\u001b[1;32m    167\u001b[0m         \u001b[0moutputs\u001b[0m \u001b[0;34m=\u001b[0m \u001b[0mself\u001b[0m\u001b[0;34m.\u001b[0m\u001b[0mparallel_apply\u001b[0m\u001b[0;34m(\u001b[0m\u001b[0mreplicas\u001b[0m\u001b[0;34m,\u001b[0m \u001b[0minputs\u001b[0m\u001b[0;34m,\u001b[0m \u001b[0mkwargs\u001b[0m\u001b[0;34m)\u001b[0m\u001b[0;34m\u001b[0m\u001b[0;34m\u001b[0m\u001b[0m\n",
            "\u001b[0;32m/anaconda/envs/azureml_py36/lib/python3.6/site-packages/torch/nn/modules/module.py\u001b[0m in \u001b[0;36m_call_impl\u001b[0;34m(self, *input, **kwargs)\u001b[0m\n\u001b[1;32m    887\u001b[0m             \u001b[0mresult\u001b[0m \u001b[0;34m=\u001b[0m \u001b[0mself\u001b[0m\u001b[0;34m.\u001b[0m\u001b[0m_slow_forward\u001b[0m\u001b[0;34m(\u001b[0m\u001b[0;34m*\u001b[0m\u001b[0minput\u001b[0m\u001b[0;34m,\u001b[0m \u001b[0;34m**\u001b[0m\u001b[0mkwargs\u001b[0m\u001b[0;34m)\u001b[0m\u001b[0;34m\u001b[0m\u001b[0;34m\u001b[0m\u001b[0m\n\u001b[1;32m    888\u001b[0m         \u001b[0;32melse\u001b[0m\u001b[0;34m:\u001b[0m\u001b[0;34m\u001b[0m\u001b[0;34m\u001b[0m\u001b[0m\n\u001b[0;32m--> 889\u001b[0;31m             \u001b[0mresult\u001b[0m \u001b[0;34m=\u001b[0m \u001b[0mself\u001b[0m\u001b[0;34m.\u001b[0m\u001b[0mforward\u001b[0m\u001b[0;34m(\u001b[0m\u001b[0;34m*\u001b[0m\u001b[0minput\u001b[0m\u001b[0;34m,\u001b[0m \u001b[0;34m**\u001b[0m\u001b[0mkwargs\u001b[0m\u001b[0;34m)\u001b[0m\u001b[0;34m\u001b[0m\u001b[0;34m\u001b[0m\u001b[0m\n\u001b[0m\u001b[1;32m    890\u001b[0m         for hook in itertools.chain(\n\u001b[1;32m    891\u001b[0m                 \u001b[0m_global_forward_hooks\u001b[0m\u001b[0;34m.\u001b[0m\u001b[0mvalues\u001b[0m\u001b[0;34m(\u001b[0m\u001b[0;34m)\u001b[0m\u001b[0;34m,\u001b[0m\u001b[0;34m\u001b[0m\u001b[0;34m\u001b[0m\u001b[0m\n",
            "\u001b[0;32m/anaconda/envs/azureml_py36/lib/python3.6/site-packages/torchvision/models/resnet.py\u001b[0m in \u001b[0;36mforward\u001b[0;34m(self, x)\u001b[0m\n\u001b[1;32m    247\u001b[0m \u001b[0;34m\u001b[0m\u001b[0m\n\u001b[1;32m    248\u001b[0m     \u001b[0;32mdef\u001b[0m \u001b[0mforward\u001b[0m\u001b[0;34m(\u001b[0m\u001b[0mself\u001b[0m\u001b[0;34m,\u001b[0m \u001b[0mx\u001b[0m\u001b[0;34m:\u001b[0m \u001b[0mTensor\u001b[0m\u001b[0;34m)\u001b[0m \u001b[0;34m->\u001b[0m \u001b[0mTensor\u001b[0m\u001b[0;34m:\u001b[0m\u001b[0;34m\u001b[0m\u001b[0;34m\u001b[0m\u001b[0m\n\u001b[0;32m--> 249\u001b[0;31m         \u001b[0;32mreturn\u001b[0m \u001b[0mself\u001b[0m\u001b[0;34m.\u001b[0m\u001b[0m_forward_impl\u001b[0m\u001b[0;34m(\u001b[0m\u001b[0mx\u001b[0m\u001b[0;34m)\u001b[0m\u001b[0;34m\u001b[0m\u001b[0;34m\u001b[0m\u001b[0m\n\u001b[0m\u001b[1;32m    250\u001b[0m \u001b[0;34m\u001b[0m\u001b[0m\n\u001b[1;32m    251\u001b[0m \u001b[0;34m\u001b[0m\u001b[0m\n",
            "\u001b[0;32m/anaconda/envs/azureml_py36/lib/python3.6/site-packages/torchvision/models/resnet.py\u001b[0m in \u001b[0;36m_forward_impl\u001b[0;34m(self, x)\u001b[0m\n\u001b[1;32m    238\u001b[0m         \u001b[0mx\u001b[0m \u001b[0;34m=\u001b[0m \u001b[0mself\u001b[0m\u001b[0;34m.\u001b[0m\u001b[0mlayer2\u001b[0m\u001b[0;34m(\u001b[0m\u001b[0mx\u001b[0m\u001b[0;34m)\u001b[0m\u001b[0;34m\u001b[0m\u001b[0;34m\u001b[0m\u001b[0m\n\u001b[1;32m    239\u001b[0m         \u001b[0mx\u001b[0m \u001b[0;34m=\u001b[0m \u001b[0mself\u001b[0m\u001b[0;34m.\u001b[0m\u001b[0mlayer3\u001b[0m\u001b[0;34m(\u001b[0m\u001b[0mx\u001b[0m\u001b[0;34m)\u001b[0m\u001b[0;34m\u001b[0m\u001b[0;34m\u001b[0m\u001b[0m\n\u001b[0;32m--> 240\u001b[0;31m         \u001b[0mx\u001b[0m \u001b[0;34m=\u001b[0m \u001b[0mself\u001b[0m\u001b[0;34m.\u001b[0m\u001b[0mlayer4\u001b[0m\u001b[0;34m(\u001b[0m\u001b[0mx\u001b[0m\u001b[0;34m)\u001b[0m\u001b[0;34m\u001b[0m\u001b[0;34m\u001b[0m\u001b[0m\n\u001b[0m\u001b[1;32m    241\u001b[0m \u001b[0;34m\u001b[0m\u001b[0m\n\u001b[1;32m    242\u001b[0m         \u001b[0mx\u001b[0m \u001b[0;34m=\u001b[0m \u001b[0mself\u001b[0m\u001b[0;34m.\u001b[0m\u001b[0mavgpool\u001b[0m\u001b[0;34m(\u001b[0m\u001b[0mx\u001b[0m\u001b[0;34m)\u001b[0m\u001b[0;34m\u001b[0m\u001b[0;34m\u001b[0m\u001b[0m\n",
            "\u001b[0;32m/anaconda/envs/azureml_py36/lib/python3.6/site-packages/torch/nn/modules/module.py\u001b[0m in \u001b[0;36m_call_impl\u001b[0;34m(self, *input, **kwargs)\u001b[0m\n\u001b[1;32m    887\u001b[0m             \u001b[0mresult\u001b[0m \u001b[0;34m=\u001b[0m \u001b[0mself\u001b[0m\u001b[0;34m.\u001b[0m\u001b[0m_slow_forward\u001b[0m\u001b[0;34m(\u001b[0m\u001b[0;34m*\u001b[0m\u001b[0minput\u001b[0m\u001b[0;34m,\u001b[0m \u001b[0;34m**\u001b[0m\u001b[0mkwargs\u001b[0m\u001b[0;34m)\u001b[0m\u001b[0;34m\u001b[0m\u001b[0;34m\u001b[0m\u001b[0m\n\u001b[1;32m    888\u001b[0m         \u001b[0;32melse\u001b[0m\u001b[0;34m:\u001b[0m\u001b[0;34m\u001b[0m\u001b[0;34m\u001b[0m\u001b[0m\n\u001b[0;32m--> 889\u001b[0;31m             \u001b[0mresult\u001b[0m \u001b[0;34m=\u001b[0m \u001b[0mself\u001b[0m\u001b[0;34m.\u001b[0m\u001b[0mforward\u001b[0m\u001b[0;34m(\u001b[0m\u001b[0;34m*\u001b[0m\u001b[0minput\u001b[0m\u001b[0;34m,\u001b[0m \u001b[0;34m**\u001b[0m\u001b[0mkwargs\u001b[0m\u001b[0;34m)\u001b[0m\u001b[0;34m\u001b[0m\u001b[0;34m\u001b[0m\u001b[0m\n\u001b[0m\u001b[1;32m    890\u001b[0m         for hook in itertools.chain(\n\u001b[1;32m    891\u001b[0m                 \u001b[0m_global_forward_hooks\u001b[0m\u001b[0;34m.\u001b[0m\u001b[0mvalues\u001b[0m\u001b[0;34m(\u001b[0m\u001b[0;34m)\u001b[0m\u001b[0;34m,\u001b[0m\u001b[0;34m\u001b[0m\u001b[0;34m\u001b[0m\u001b[0m\n",
            "\u001b[0;32m/anaconda/envs/azureml_py36/lib/python3.6/site-packages/torch/nn/modules/container.py\u001b[0m in \u001b[0;36mforward\u001b[0;34m(self, input)\u001b[0m\n\u001b[1;32m    117\u001b[0m     \u001b[0;32mdef\u001b[0m \u001b[0mforward\u001b[0m\u001b[0;34m(\u001b[0m\u001b[0mself\u001b[0m\u001b[0;34m,\u001b[0m \u001b[0minput\u001b[0m\u001b[0;34m)\u001b[0m\u001b[0;34m:\u001b[0m\u001b[0;34m\u001b[0m\u001b[0;34m\u001b[0m\u001b[0m\n\u001b[1;32m    118\u001b[0m         \u001b[0;32mfor\u001b[0m \u001b[0mmodule\u001b[0m \u001b[0;32min\u001b[0m \u001b[0mself\u001b[0m\u001b[0;34m:\u001b[0m\u001b[0;34m\u001b[0m\u001b[0;34m\u001b[0m\u001b[0m\n\u001b[0;32m--> 119\u001b[0;31m             \u001b[0minput\u001b[0m \u001b[0;34m=\u001b[0m \u001b[0mmodule\u001b[0m\u001b[0;34m(\u001b[0m\u001b[0minput\u001b[0m\u001b[0;34m)\u001b[0m\u001b[0;34m\u001b[0m\u001b[0;34m\u001b[0m\u001b[0m\n\u001b[0m\u001b[1;32m    120\u001b[0m         \u001b[0;32mreturn\u001b[0m \u001b[0minput\u001b[0m\u001b[0;34m\u001b[0m\u001b[0;34m\u001b[0m\u001b[0m\n\u001b[1;32m    121\u001b[0m \u001b[0;34m\u001b[0m\u001b[0m\n",
            "\u001b[0;32m/anaconda/envs/azureml_py36/lib/python3.6/site-packages/torch/nn/modules/module.py\u001b[0m in \u001b[0;36m_call_impl\u001b[0;34m(self, *input, **kwargs)\u001b[0m\n\u001b[1;32m    887\u001b[0m             \u001b[0mresult\u001b[0m \u001b[0;34m=\u001b[0m \u001b[0mself\u001b[0m\u001b[0;34m.\u001b[0m\u001b[0m_slow_forward\u001b[0m\u001b[0;34m(\u001b[0m\u001b[0;34m*\u001b[0m\u001b[0minput\u001b[0m\u001b[0;34m,\u001b[0m \u001b[0;34m**\u001b[0m\u001b[0mkwargs\u001b[0m\u001b[0;34m)\u001b[0m\u001b[0;34m\u001b[0m\u001b[0;34m\u001b[0m\u001b[0m\n\u001b[1;32m    888\u001b[0m         \u001b[0;32melse\u001b[0m\u001b[0;34m:\u001b[0m\u001b[0;34m\u001b[0m\u001b[0;34m\u001b[0m\u001b[0m\n\u001b[0;32m--> 889\u001b[0;31m             \u001b[0mresult\u001b[0m \u001b[0;34m=\u001b[0m \u001b[0mself\u001b[0m\u001b[0;34m.\u001b[0m\u001b[0mforward\u001b[0m\u001b[0;34m(\u001b[0m\u001b[0;34m*\u001b[0m\u001b[0minput\u001b[0m\u001b[0;34m,\u001b[0m \u001b[0;34m**\u001b[0m\u001b[0mkwargs\u001b[0m\u001b[0;34m)\u001b[0m\u001b[0;34m\u001b[0m\u001b[0;34m\u001b[0m\u001b[0m\n\u001b[0m\u001b[1;32m    890\u001b[0m         for hook in itertools.chain(\n\u001b[1;32m    891\u001b[0m                 \u001b[0m_global_forward_hooks\u001b[0m\u001b[0;34m.\u001b[0m\u001b[0mvalues\u001b[0m\u001b[0;34m(\u001b[0m\u001b[0;34m)\u001b[0m\u001b[0;34m,\u001b[0m\u001b[0;34m\u001b[0m\u001b[0;34m\u001b[0m\u001b[0m\n",
            "\u001b[0;32m/anaconda/envs/azureml_py36/lib/python3.6/site-packages/torchvision/models/resnet.py\u001b[0m in \u001b[0;36mforward\u001b[0;34m(self, x)\u001b[0m\n\u001b[1;32m     69\u001b[0m \u001b[0;34m\u001b[0m\u001b[0m\n\u001b[1;32m     70\u001b[0m         \u001b[0mout\u001b[0m \u001b[0;34m=\u001b[0m \u001b[0mself\u001b[0m\u001b[0;34m.\u001b[0m\u001b[0mconv1\u001b[0m\u001b[0;34m(\u001b[0m\u001b[0mx\u001b[0m\u001b[0;34m)\u001b[0m\u001b[0;34m\u001b[0m\u001b[0;34m\u001b[0m\u001b[0m\n\u001b[0;32m---> 71\u001b[0;31m         \u001b[0mout\u001b[0m \u001b[0;34m=\u001b[0m \u001b[0mself\u001b[0m\u001b[0;34m.\u001b[0m\u001b[0mbn1\u001b[0m\u001b[0;34m(\u001b[0m\u001b[0mout\u001b[0m\u001b[0;34m)\u001b[0m\u001b[0;34m\u001b[0m\u001b[0;34m\u001b[0m\u001b[0m\n\u001b[0m\u001b[1;32m     72\u001b[0m         \u001b[0mout\u001b[0m \u001b[0;34m=\u001b[0m \u001b[0mself\u001b[0m\u001b[0;34m.\u001b[0m\u001b[0mrelu\u001b[0m\u001b[0;34m(\u001b[0m\u001b[0mout\u001b[0m\u001b[0;34m)\u001b[0m\u001b[0;34m\u001b[0m\u001b[0;34m\u001b[0m\u001b[0m\n\u001b[1;32m     73\u001b[0m \u001b[0;34m\u001b[0m\u001b[0m\n",
            "\u001b[0;32m/anaconda/envs/azureml_py36/lib/python3.6/site-packages/torch/nn/modules/module.py\u001b[0m in \u001b[0;36m_call_impl\u001b[0;34m(self, *input, **kwargs)\u001b[0m\n\u001b[1;32m    887\u001b[0m             \u001b[0mresult\u001b[0m \u001b[0;34m=\u001b[0m \u001b[0mself\u001b[0m\u001b[0;34m.\u001b[0m\u001b[0m_slow_forward\u001b[0m\u001b[0;34m(\u001b[0m\u001b[0;34m*\u001b[0m\u001b[0minput\u001b[0m\u001b[0;34m,\u001b[0m \u001b[0;34m**\u001b[0m\u001b[0mkwargs\u001b[0m\u001b[0;34m)\u001b[0m\u001b[0;34m\u001b[0m\u001b[0;34m\u001b[0m\u001b[0m\n\u001b[1;32m    888\u001b[0m         \u001b[0;32melse\u001b[0m\u001b[0;34m:\u001b[0m\u001b[0;34m\u001b[0m\u001b[0;34m\u001b[0m\u001b[0m\n\u001b[0;32m--> 889\u001b[0;31m             \u001b[0mresult\u001b[0m \u001b[0;34m=\u001b[0m \u001b[0mself\u001b[0m\u001b[0;34m.\u001b[0m\u001b[0mforward\u001b[0m\u001b[0;34m(\u001b[0m\u001b[0;34m*\u001b[0m\u001b[0minput\u001b[0m\u001b[0;34m,\u001b[0m \u001b[0;34m**\u001b[0m\u001b[0mkwargs\u001b[0m\u001b[0;34m)\u001b[0m\u001b[0;34m\u001b[0m\u001b[0;34m\u001b[0m\u001b[0m\n\u001b[0m\u001b[1;32m    890\u001b[0m         for hook in itertools.chain(\n\u001b[1;32m    891\u001b[0m                 \u001b[0m_global_forward_hooks\u001b[0m\u001b[0;34m.\u001b[0m\u001b[0mvalues\u001b[0m\u001b[0;34m(\u001b[0m\u001b[0;34m)\u001b[0m\u001b[0;34m,\u001b[0m\u001b[0;34m\u001b[0m\u001b[0;34m\u001b[0m\u001b[0m\n",
            "\u001b[0;32m/anaconda/envs/azureml_py36/lib/python3.6/site-packages/torch/nn/modules/batchnorm.py\u001b[0m in \u001b[0;36mforward\u001b[0;34m(self, input)\u001b[0m\n\u001b[1;32m    138\u001b[0m             \u001b[0mself\u001b[0m\u001b[0;34m.\u001b[0m\u001b[0mrunning_mean\u001b[0m \u001b[0;32mif\u001b[0m \u001b[0;32mnot\u001b[0m \u001b[0mself\u001b[0m\u001b[0;34m.\u001b[0m\u001b[0mtraining\u001b[0m \u001b[0;32mor\u001b[0m \u001b[0mself\u001b[0m\u001b[0;34m.\u001b[0m\u001b[0mtrack_running_stats\u001b[0m \u001b[0;32melse\u001b[0m \u001b[0;32mNone\u001b[0m\u001b[0;34m,\u001b[0m\u001b[0;34m\u001b[0m\u001b[0;34m\u001b[0m\u001b[0m\n\u001b[1;32m    139\u001b[0m             \u001b[0mself\u001b[0m\u001b[0;34m.\u001b[0m\u001b[0mrunning_var\u001b[0m \u001b[0;32mif\u001b[0m \u001b[0;32mnot\u001b[0m \u001b[0mself\u001b[0m\u001b[0;34m.\u001b[0m\u001b[0mtraining\u001b[0m \u001b[0;32mor\u001b[0m \u001b[0mself\u001b[0m\u001b[0;34m.\u001b[0m\u001b[0mtrack_running_stats\u001b[0m \u001b[0;32melse\u001b[0m \u001b[0;32mNone\u001b[0m\u001b[0;34m,\u001b[0m\u001b[0;34m\u001b[0m\u001b[0;34m\u001b[0m\u001b[0m\n\u001b[0;32m--> 140\u001b[0;31m             self.weight, self.bias, bn_training, exponential_average_factor, self.eps)\n\u001b[0m\u001b[1;32m    141\u001b[0m \u001b[0;34m\u001b[0m\u001b[0m\n\u001b[1;32m    142\u001b[0m \u001b[0;34m\u001b[0m\u001b[0m\n",
            "\u001b[0;32m/anaconda/envs/azureml_py36/lib/python3.6/site-packages/torch/nn/functional.py\u001b[0m in \u001b[0;36mbatch_norm\u001b[0;34m(input, running_mean, running_var, weight, bias, training, momentum, eps)\u001b[0m\n\u001b[1;32m   2145\u001b[0m         )\n\u001b[1;32m   2146\u001b[0m     \u001b[0;32mif\u001b[0m \u001b[0mtraining\u001b[0m\u001b[0;34m:\u001b[0m\u001b[0;34m\u001b[0m\u001b[0;34m\u001b[0m\u001b[0m\n\u001b[0;32m-> 2147\u001b[0;31m         \u001b[0m_verify_batch_size\u001b[0m\u001b[0;34m(\u001b[0m\u001b[0minput\u001b[0m\u001b[0;34m.\u001b[0m\u001b[0msize\u001b[0m\u001b[0;34m(\u001b[0m\u001b[0;34m)\u001b[0m\u001b[0;34m)\u001b[0m\u001b[0;34m\u001b[0m\u001b[0;34m\u001b[0m\u001b[0m\n\u001b[0m\u001b[1;32m   2148\u001b[0m \u001b[0;34m\u001b[0m\u001b[0m\n\u001b[1;32m   2149\u001b[0m     return torch.batch_norm(\n",
            "\u001b[0;32m/anaconda/envs/azureml_py36/lib/python3.6/site-packages/torch/nn/functional.py\u001b[0m in \u001b[0;36m_verify_batch_size\u001b[0;34m(size)\u001b[0m\n\u001b[1;32m   2112\u001b[0m         \u001b[0msize_prods\u001b[0m \u001b[0;34m*=\u001b[0m \u001b[0msize\u001b[0m\u001b[0;34m[\u001b[0m\u001b[0mi\u001b[0m \u001b[0;34m+\u001b[0m \u001b[0;36m2\u001b[0m\u001b[0;34m]\u001b[0m\u001b[0;34m\u001b[0m\u001b[0;34m\u001b[0m\u001b[0m\n\u001b[1;32m   2113\u001b[0m     \u001b[0;32mif\u001b[0m \u001b[0msize_prods\u001b[0m \u001b[0;34m==\u001b[0m \u001b[0;36m1\u001b[0m\u001b[0;34m:\u001b[0m\u001b[0;34m\u001b[0m\u001b[0;34m\u001b[0m\u001b[0m\n\u001b[0;32m-> 2114\u001b[0;31m         \u001b[0;32mraise\u001b[0m \u001b[0mValueError\u001b[0m\u001b[0;34m(\u001b[0m\u001b[0;34m\"Expected more than 1 value per channel when training, got input size {}\"\u001b[0m\u001b[0;34m.\u001b[0m\u001b[0mformat\u001b[0m\u001b[0;34m(\u001b[0m\u001b[0msize\u001b[0m\u001b[0;34m)\u001b[0m\u001b[0;34m)\u001b[0m\u001b[0;34m\u001b[0m\u001b[0;34m\u001b[0m\u001b[0m\n\u001b[0m\u001b[1;32m   2115\u001b[0m \u001b[0;34m\u001b[0m\u001b[0m\n\u001b[1;32m   2116\u001b[0m \u001b[0;34m\u001b[0m\u001b[0m\n",
            "\u001b[0;31mValueError\u001b[0m: Expected more than 1 value per channel when training, got input size torch.Size([1, 512, 1, 1])"
          ]
        }
      ],
      "execution_count": 28,
      "metadata": {
        "collapsed": true,
        "jupyter": {
          "source_hidden": false,
          "outputs_hidden": false
        },
        "nteract": {
          "transient": {
            "deleting": false
          }
        }
      }
    }
  ],
  "metadata": {
    "colab": {
      "name": "weight_injections.ipynb",
      "provenance": [],
      "collapsed_sections": [
        "CUTSgXGmCKCS",
        "9Ry19OvoPkts"
      ],
      "mount_file_id": "1LcrhbhN0MFCCzapt9JGkjaImubD_xoIn",
      "authorship_tag": "ABX9TyNCZTsO2OlYP/IyY8g5mQtM"
    },
    "kernelspec": {
      "name": "python3",
      "language": "python",
      "display_name": "Python 3"
    },
    "language_info": {
      "name": "python",
      "version": "3.6.9",
      "mimetype": "text/x-python",
      "codemirror_mode": {
        "name": "ipython",
        "version": 3
      },
      "pygments_lexer": "ipython3",
      "nbconvert_exporter": "python",
      "file_extension": ".py"
    },
    "accelerator": "GPU",
    "kernel_info": {
      "name": "python3"
    },
    "nteract": {
      "version": "nteract-front-end@1.0.0"
    }
  },
  "nbformat": 4,
  "nbformat_minor": 0
}