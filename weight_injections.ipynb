{
  "cells": [
    {
      "cell_type": "markdown",
      "source": [
        "# Import"
      ],
      "metadata": {
        "id": "CUTSgXGmCKCS"
      }
    },
    {
      "cell_type": "code",
      "execution_count": 1,
      "source": [
        "%run imports.py"
      ],
      "outputs": [
        {
          "output_type": "stream",
          "name": "stdout",
          "text": [
            "Files already downloaded and verified\n",
            "Preparing data..\n",
            "Files already downloaded and verified\n",
            "GPU available:  True\n",
            "OS:  win32\n"
          ]
        }
      ],
      "metadata": {
        "collapsed": true,
        "jupyter": {
          "source_hidden": false,
          "outputs_hidden": true
        },
        "nteract": {
          "transient": {
            "deleting": false
          }
        }
      }
    },
    {
      "cell_type": "code",
      "execution_count": 2,
      "source": [
        "#Set up Test Variables:\r\n",
        "\r\n",
        "#Test batch size\r\n",
        "num_batches=100\r\n",
        "\r\n",
        "transform_test = transforms.Compose([\r\n",
        "        transforms.ToTensor(),\r\n",
        "        transforms.Normalize((0.4914, 0.4822, 0.4465), (0.2023, 0.1994, 0.2010)),\r\n",
        "    ])\r\n",
        "\r\n",
        "testset = torchvision.datasets.CIFAR10(\r\n",
        "        root='./data', train=False, download=True, transform=transform_test)\r\n",
        "\r\n",
        "test_batch_size=int(numpy.shape(testset.data)[0]/num_batches)\r\n",
        "#test_batch_size=100\r\n",
        "\r\n",
        "testloader = torch.utils.data.DataLoader(\r\n",
        "    testset, batch_size=test_batch_size, shuffle=False, num_workers=2)\r\n",
        "\r\n",
        "test_features, test_labels = next(iter(testloader))\r\n",
        "#Get num channels, width and height of input data\r\n",
        "c,w,h=list(test_features[0].size())\r\n",
        "#Batchsize, see load18.py or main.py for batch size\r\n",
        "num_batches=int(numpy.shape(testset.data)[0]/test_batch_size)"
      ],
      "outputs": [
        {
          "output_type": "stream",
          "name": "stdout",
          "text": [
            "Files already downloaded and verified\n"
          ]
        }
      ],
      "metadata": {
        "id": "MQIu7huShQmc",
        "executionInfo": {
          "status": "ok",
          "timestamp": 1625355261459,
          "user_tz": 300,
          "elapsed": 5573,
          "user": {
            "displayName": "Gabriel Ceron Viveros",
            "photoUrl": "https://lh3.googleusercontent.com/a-/AOh14GhKuFxADeoNbpXSp3yfCRgm_vy86e4Q9hPd4K7flA=s64",
            "userId": "03642710981534596372"
          }
        },
        "gather": {
          "logged": 1625880057773
        }
      }
    },
    {
      "cell_type": "markdown",
      "source": [
        "# Run"
      ],
      "metadata": {
        "id": "9Ry19OvoPkts"
      }
    },
    {
      "cell_type": "code",
      "execution_count": 7,
      "source": [
        "#%run load18.py"
      ],
      "outputs": [
        {
          "output_type": "stream",
          "name": "stdout",
          "text": [
            "Files already downloaded and verified\n"
          ]
        }
      ],
      "metadata": {
        "colab": {
          "base_uri": "https://localhost:8080/"
        },
        "id": "gkDG2gZmhT39",
        "executionInfo": {
          "status": "ok",
          "timestamp": 1625355342040,
          "user_tz": 300,
          "elapsed": 26621,
          "user": {
            "displayName": "Gabriel Ceron Viveros",
            "photoUrl": "https://lh3.googleusercontent.com/a-/AOh14GhKuFxADeoNbpXSp3yfCRgm_vy86e4Q9hPd4K7flA=s64",
            "userId": "03642710981534596372"
          }
        },
        "outputId": "16f47277-2cae-4f9a-cb74-088f32e64624"
      }
    },
    {
      "cell_type": "code",
      "execution_count": 17,
      "source": [
        "#We introduce the test batch size because we may select the batch element on which apply an injection\r\n",
        "pfi_model = pfi_core(net, h, w, test_batch_size, c=c,debug=True,use_cuda=True)"
      ],
      "outputs": [
        {
          "output_type": "error",
          "ename": "NameError",
          "evalue": "name 'net' is not defined",
          "traceback": [
            "\u001b[0;31m---------------------------------------------------------------------------\u001b[0m",
            "\u001b[0;31mNameError\u001b[0m                                 Traceback (most recent call last)",
            "\u001b[0;32m<ipython-input-17-d6c6699f170c>\u001b[0m in \u001b[0;36m<module>\u001b[0;34m\u001b[0m\n\u001b[1;32m      1\u001b[0m \u001b[0;31m#We introduce the test batch size because we may select the batch element on which apply an injection\u001b[0m\u001b[0;34m\u001b[0m\u001b[0;34m\u001b[0m\u001b[0;34m\u001b[0m\u001b[0m\n\u001b[0;32m----> 2\u001b[0;31m \u001b[0mpfi_model\u001b[0m \u001b[0;34m=\u001b[0m \u001b[0mpfi_core\u001b[0m\u001b[0;34m(\u001b[0m\u001b[0mnet\u001b[0m\u001b[0;34m,\u001b[0m \u001b[0mh\u001b[0m\u001b[0;34m,\u001b[0m \u001b[0mw\u001b[0m\u001b[0;34m,\u001b[0m \u001b[0mtest_batch_size\u001b[0m\u001b[0;34m,\u001b[0m \u001b[0mc\u001b[0m\u001b[0;34m=\u001b[0m\u001b[0mc\u001b[0m\u001b[0;34m,\u001b[0m\u001b[0mdebug\u001b[0m\u001b[0;34m=\u001b[0m\u001b[0;32mTrue\u001b[0m\u001b[0;34m,\u001b[0m\u001b[0muse_cuda\u001b[0m\u001b[0;34m=\u001b[0m\u001b[0;32mTrue\u001b[0m\u001b[0;34m)\u001b[0m\u001b[0;34m\u001b[0m\u001b[0;34m\u001b[0m\u001b[0m\n\u001b[0m",
            "\u001b[0;31mNameError\u001b[0m: name 'net' is not defined"
          ]
        }
      ],
      "metadata": {
        "id": "8YJQzewSnpe4",
        "executionInfo": {
          "status": "ok",
          "timestamp": 1625355353696,
          "user_tz": 300,
          "elapsed": 5,
          "user": {
            "displayName": "Gabriel Ceron Viveros",
            "photoUrl": "https://lh3.googleusercontent.com/a-/AOh14GhKuFxADeoNbpXSp3yfCRgm_vy86e4Q9hPd4K7flA=s64",
            "userId": "03642710981534596372"
          }
        }
      }
    },
    {
      "cell_type": "code",
      "execution_count": 15,
      "source": [
        "testM(pfi_model.ORIG_MODEL)"
      ],
      "outputs": [
        {
          "output_type": "stream",
          "name": "stdout",
          "text": [
            "Loss: 0.179 | Acc: 95.520% (9552/10000)\n"
          ]
        },
        {
          "output_type": "execute_result",
          "data": {
            "text/plain": [
              "0.9552"
            ]
          },
          "metadata": {
            "tags": []
          },
          "execution_count": 15
        }
      ],
      "metadata": {
        "colab": {
          "base_uri": "https://localhost:8080/"
        },
        "id": "JXPvzkW8RHwd",
        "executionInfo": {
          "status": "ok",
          "timestamp": 1625355356553,
          "user_tz": 300,
          "elapsed": 2861,
          "user": {
            "displayName": "Gabriel Ceron Viveros",
            "photoUrl": "https://lh3.googleusercontent.com/a-/AOh14GhKuFxADeoNbpXSp3yfCRgm_vy86e4Q9hPd4K7flA=s64",
            "userId": "03642710981534596372"
          }
        },
        "outputId": "ed863df3-f19a-4b5e-c530-400cfd9b8e6d"
      }
    },
    {
      "cell_type": "markdown",
      "source": [
        "# Refactor test"
      ],
      "metadata": {
        "id": "0CLuwZ8qoEMw"
      }
    },
    {
      "cell_type": "code",
      "execution_count": null,
      "source": [
        "#get_total_layers()\r\n",
        "len(pfi_model.OUTPUT_SIZE)\r\n"
      ],
      "outputs": [
        {
          "output_type": "execute_result",
          "data": {
            "text/plain": [
              "20"
            ]
          },
          "metadata": {
            "tags": []
          },
          "execution_count": 30
        }
      ],
      "metadata": {
        "id": "AWHD8k2tUeol",
        "colab": {
          "base_uri": "https://localhost:8080/"
        },
        "executionInfo": {
          "status": "ok",
          "timestamp": 1625271693993,
          "user_tz": 300,
          "elapsed": 212,
          "user": {
            "displayName": "Gabriel Ceron Viveros",
            "photoUrl": "https://lh3.googleusercontent.com/a-/AOh14GhKuFxADeoNbpXSp3yfCRgm_vy86e4Q9hPd4K7flA=s64",
            "userId": "03642710981534596372"
          }
        },
        "outputId": "a6337bee-45e5-43bb-ebb8-4e29abef95f0"
      }
    },
    {
      "cell_type": "code",
      "execution_count": null,
      "source": [
        "pfi_model.OUTPUT_SIZE"
      ],
      "outputs": [
        {
          "output_type": "execute_result",
          "data": {
            "text/plain": [
              "[[1, 64, 32, 32],\n",
              " [1, 64, 32, 32],\n",
              " [1, 64, 32, 32],\n",
              " [1, 64, 32, 32],\n",
              " [1, 64, 32, 32],\n",
              " [1, 128, 16, 16],\n",
              " [1, 128, 16, 16],\n",
              " [1, 128, 16, 16],\n",
              " [1, 128, 16, 16],\n",
              " [1, 128, 16, 16],\n",
              " [1, 256, 8, 8],\n",
              " [1, 256, 8, 8],\n",
              " [1, 256, 8, 8],\n",
              " [1, 256, 8, 8],\n",
              " [1, 256, 8, 8],\n",
              " [1, 512, 4, 4],\n",
              " [1, 512, 4, 4],\n",
              " [1, 512, 4, 4],\n",
              " [1, 512, 4, 4],\n",
              " [1, 512, 4, 4]]"
            ]
          },
          "metadata": {
            "tags": []
          },
          "execution_count": 32
        }
      ],
      "metadata": {
        "colab": {
          "base_uri": "https://localhost:8080/"
        },
        "id": "t5pZ5FG5vf3m",
        "executionInfo": {
          "status": "ok",
          "timestamp": 1625271719211,
          "user_tz": 300,
          "elapsed": 210,
          "user": {
            "displayName": "Gabriel Ceron Viveros",
            "photoUrl": "https://lh3.googleusercontent.com/a-/AOh14GhKuFxADeoNbpXSp3yfCRgm_vy86e4Q9hPd4K7flA=s64",
            "userId": "03642710981534596372"
          }
        },
        "outputId": "ee2cd2bc-8c59-41cc-db0b-ab88c654870a"
      }
    },
    {
      "cell_type": "code",
      "execution_count": null,
      "source": [
        "#Downsample in the case of gitcode\r\n",
        "j=0\r\n",
        "for name, param in pfi_model.get_original_model().named_parameters():\r\n",
        "    if \"conv\" in name or \"downsample.0\" in name: \r\n",
        "      j=j+1\r\n",
        "      print(name,\"|\",param.size())"
      ],
      "outputs": [
        {
          "output_type": "stream",
          "name": "stdout",
          "text": [
            "module.conv1.weight | torch.Size([64, 3, 3, 3])\n",
            "module.layer1.0.conv1.weight | torch.Size([64, 64, 3, 3])\n",
            "module.layer1.0.conv2.weight | torch.Size([64, 64, 3, 3])\n",
            "module.layer1.1.conv1.weight | torch.Size([64, 64, 3, 3])\n",
            "module.layer1.1.conv2.weight | torch.Size([64, 64, 3, 3])\n",
            "module.layer2.0.conv1.weight | torch.Size([128, 64, 3, 3])\n",
            "module.layer2.0.conv2.weight | torch.Size([128, 128, 3, 3])\n",
            "module.layer2.1.conv1.weight | torch.Size([128, 128, 3, 3])\n",
            "module.layer2.1.conv2.weight | torch.Size([128, 128, 3, 3])\n",
            "module.layer3.0.conv1.weight | torch.Size([256, 128, 3, 3])\n",
            "module.layer3.0.conv2.weight | torch.Size([256, 256, 3, 3])\n",
            "module.layer3.1.conv1.weight | torch.Size([256, 256, 3, 3])\n",
            "module.layer3.1.conv2.weight | torch.Size([256, 256, 3, 3])\n",
            "module.layer4.0.conv1.weight | torch.Size([512, 256, 3, 3])\n",
            "module.layer4.0.conv2.weight | torch.Size([512, 512, 3, 3])\n",
            "module.layer4.1.conv1.weight | torch.Size([512, 512, 3, 3])\n",
            "module.layer4.1.conv2.weight | torch.Size([512, 512, 3, 3])\n"
          ]
        }
      ],
      "metadata": {
        "id": "XgkElcm0b_nc",
        "colab": {
          "base_uri": "https://localhost:8080/"
        },
        "executionInfo": {
          "status": "ok",
          "timestamp": 1625271078919,
          "user_tz": 300,
          "elapsed": 189,
          "user": {
            "displayName": "Gabriel Ceron Viveros",
            "photoUrl": "https://lh3.googleusercontent.com/a-/AOh14GhKuFxADeoNbpXSp3yfCRgm_vy86e4Q9hPd4K7flA=s64",
            "userId": "03642710981534596372"
          }
        },
        "outputId": "e02497b6-1110-4385-a734-c9fd72431d27"
      }
    },
    {
      "cell_type": "code",
      "execution_count": null,
      "source": [
        "j"
      ],
      "outputs": [
        {
          "output_type": "execute_result",
          "data": {
            "text/plain": [
              "17"
            ]
          },
          "metadata": {
            "tags": []
          },
          "execution_count": 27
        }
      ],
      "metadata": {
        "colab": {
          "base_uri": "https://localhost:8080/"
        },
        "id": "XngGH44ctKA2",
        "executionInfo": {
          "status": "ok",
          "timestamp": 1625271084835,
          "user_tz": 300,
          "elapsed": 202,
          "user": {
            "displayName": "Gabriel Ceron Viveros",
            "photoUrl": "https://lh3.googleusercontent.com/a-/AOh14GhKuFxADeoNbpXSp3yfCRgm_vy86e4Q9hPd4K7flA=s64",
            "userId": "03642710981534596372"
          }
        },
        "outputId": "cfde0de0-a008-4414-8afe-62db2fd38be9"
      }
    },
    {
      "cell_type": "code",
      "execution_count": null,
      "source": [
        "#Shortcut for default pytorch net\r\n",
        "j=0\r\n",
        "for name, param in pfi_model.get_original_model().named_parameters():\r\n",
        "    if \"conv\" in name or \"shortcut.0\" in name: \r\n",
        "      j=j+1\r\n",
        "      print(name,\"|\",param.size())"
      ],
      "outputs": [
        {
          "output_type": "stream",
          "name": "stdout",
          "text": [
            "module.conv1.weight | torch.Size([64, 3, 3, 3])\n",
            "module.layer1.0.conv1.weight | torch.Size([64, 64, 3, 3])\n",
            "module.layer1.0.conv2.weight | torch.Size([64, 64, 3, 3])\n",
            "module.layer1.1.conv1.weight | torch.Size([64, 64, 3, 3])\n",
            "module.layer1.1.conv2.weight | torch.Size([64, 64, 3, 3])\n",
            "module.layer2.0.conv1.weight | torch.Size([128, 64, 3, 3])\n",
            "module.layer2.0.conv2.weight | torch.Size([128, 128, 3, 3])\n",
            "module.layer2.0.shortcut.0.weight | torch.Size([128, 64, 1, 1])\n",
            "module.layer2.1.conv1.weight | torch.Size([128, 128, 3, 3])\n",
            "module.layer2.1.conv2.weight | torch.Size([128, 128, 3, 3])\n",
            "module.layer3.0.conv1.weight | torch.Size([256, 128, 3, 3])\n",
            "module.layer3.0.conv2.weight | torch.Size([256, 256, 3, 3])\n",
            "module.layer3.0.shortcut.0.weight | torch.Size([256, 128, 1, 1])\n",
            "module.layer3.1.conv1.weight | torch.Size([256, 256, 3, 3])\n",
            "module.layer3.1.conv2.weight | torch.Size([256, 256, 3, 3])\n",
            "module.layer4.0.conv1.weight | torch.Size([512, 256, 3, 3])\n",
            "module.layer4.0.conv2.weight | torch.Size([512, 512, 3, 3])\n",
            "module.layer4.0.shortcut.0.weight | torch.Size([512, 256, 1, 1])\n",
            "module.layer4.1.conv1.weight | torch.Size([512, 512, 3, 3])\n",
            "module.layer4.1.conv2.weight | torch.Size([512, 512, 3, 3])\n"
          ]
        }
      ],
      "metadata": {
        "colab": {
          "base_uri": "https://localhost:8080/"
        },
        "id": "mvIz7vqH0GUG",
        "executionInfo": {
          "status": "ok",
          "timestamp": 1625273082321,
          "user_tz": 300,
          "elapsed": 225,
          "user": {
            "displayName": "Gabriel Ceron Viveros",
            "photoUrl": "https://lh3.googleusercontent.com/a-/AOh14GhKuFxADeoNbpXSp3yfCRgm_vy86e4Q9hPd4K7flA=s64",
            "userId": "03642710981534596372"
          }
        },
        "outputId": "deb96113-b3b6-4691-94e3-a2b47e063f95"
      }
    },
    {
      "cell_type": "code",
      "execution_count": null,
      "source": [
        "j"
      ],
      "outputs": [
        {
          "output_type": "execute_result",
          "data": {
            "text/plain": [
              "20"
            ]
          },
          "metadata": {
            "tags": []
          },
          "execution_count": 36
        }
      ],
      "metadata": {
        "colab": {
          "base_uri": "https://localhost:8080/"
        },
        "id": "qa1-vOxt00RT",
        "executionInfo": {
          "status": "ok",
          "timestamp": 1625273094385,
          "user_tz": 300,
          "elapsed": 223,
          "user": {
            "displayName": "Gabriel Ceron Viveros",
            "photoUrl": "https://lh3.googleusercontent.com/a-/AOh14GhKuFxADeoNbpXSp3yfCRgm_vy86e4Q9hPd4K7flA=s64",
            "userId": "03642710981534596372"
          }
        },
        "outputId": "8a56a195-b55a-481d-cc05-d73b8f5a1773"
      }
    },
    {
      "cell_type": "code",
      "execution_count": null,
      "source": [
        "j=0\r\n",
        "for name, param in pfi_model.get_original_model().named_parameters():\r\n",
        "    if \"features\" in name and \"weight\" in name:\r\n",
        "      j=j+1\r\n",
        "      print(name,\"|\",param.size())"
      ],
      "outputs": [],
      "metadata": {
        "id": "3tSyOIHntR2z"
      }
    },
    {
      "cell_type": "code",
      "execution_count": null,
      "source": [
        "for name, param in pfi_model.get_original_model().named_parameters():\r\n",
        "    print(name)"
      ],
      "outputs": [
        {
          "output_type": "stream",
          "name": "stdout",
          "text": [
            "module.conv1.weight\n",
            "module.bn1.weight\n",
            "module.bn1.bias\n",
            "module.layer1.0.conv1.weight\n",
            "module.layer1.0.bn1.weight\n",
            "module.layer1.0.bn1.bias\n",
            "module.layer1.0.conv2.weight\n",
            "module.layer1.0.bn2.weight\n",
            "module.layer1.0.bn2.bias\n",
            "module.layer1.1.conv1.weight\n",
            "module.layer1.1.bn1.weight\n",
            "module.layer1.1.bn1.bias\n",
            "module.layer1.1.conv2.weight\n",
            "module.layer1.1.bn2.weight\n",
            "module.layer1.1.bn2.bias\n",
            "module.layer2.0.conv1.weight\n",
            "module.layer2.0.bn1.weight\n",
            "module.layer2.0.bn1.bias\n",
            "module.layer2.0.conv2.weight\n",
            "module.layer2.0.bn2.weight\n",
            "module.layer2.0.bn2.bias\n",
            "module.layer2.0.shortcut.0.weight\n",
            "module.layer2.0.shortcut.1.weight\n",
            "module.layer2.0.shortcut.1.bias\n",
            "module.layer2.1.conv1.weight\n",
            "module.layer2.1.bn1.weight\n",
            "module.layer2.1.bn1.bias\n",
            "module.layer2.1.conv2.weight\n",
            "module.layer2.1.bn2.weight\n",
            "module.layer2.1.bn2.bias\n",
            "module.layer3.0.conv1.weight\n",
            "module.layer3.0.bn1.weight\n",
            "module.layer3.0.bn1.bias\n",
            "module.layer3.0.conv2.weight\n",
            "module.layer3.0.bn2.weight\n",
            "module.layer3.0.bn2.bias\n",
            "module.layer3.0.shortcut.0.weight\n",
            "module.layer3.0.shortcut.1.weight\n",
            "module.layer3.0.shortcut.1.bias\n",
            "module.layer3.1.conv1.weight\n",
            "module.layer3.1.bn1.weight\n",
            "module.layer3.1.bn1.bias\n",
            "module.layer3.1.conv2.weight\n",
            "module.layer3.1.bn2.weight\n",
            "module.layer3.1.bn2.bias\n",
            "module.layer4.0.conv1.weight\n",
            "module.layer4.0.bn1.weight\n",
            "module.layer4.0.bn1.bias\n",
            "module.layer4.0.conv2.weight\n",
            "module.layer4.0.bn2.weight\n",
            "module.layer4.0.bn2.bias\n",
            "module.layer4.0.shortcut.0.weight\n",
            "module.layer4.0.shortcut.1.weight\n",
            "module.layer4.0.shortcut.1.bias\n",
            "module.layer4.1.conv1.weight\n",
            "module.layer4.1.bn1.weight\n",
            "module.layer4.1.bn1.bias\n",
            "module.layer4.1.conv2.weight\n",
            "module.layer4.1.bn2.weight\n",
            "module.layer4.1.bn2.bias\n",
            "module.linear.weight\n",
            "module.linear.bias\n"
          ]
        }
      ],
      "metadata": {
        "colab": {
          "base_uri": "https://localhost:8080/"
        },
        "id": "qNO6FIbew2ws",
        "executionInfo": {
          "status": "ok",
          "timestamp": 1625272054000,
          "user_tz": 300,
          "elapsed": 241,
          "user": {
            "displayName": "Gabriel Ceron Viveros",
            "photoUrl": "https://lh3.googleusercontent.com/a-/AOh14GhKuFxADeoNbpXSp3yfCRgm_vy86e4Q9hPd4K7flA=s64",
            "userId": "03642710981534596372"
          }
        },
        "outputId": "1fff0abd-7b9d-4bb0-aab5-8b91e06b8a50"
      }
    },
    {
      "cell_type": "code",
      "execution_count": null,
      "source": [
        "pfi_model.get_original_model()"
      ],
      "outputs": [
        {
          "output_type": "execute_result",
          "data": {
            "text/plain": [
              "DataParallel(\n",
              "  (module): ResNet(\n",
              "    (conv1): Conv2d(3, 64, kernel_size=(3, 3), stride=(1, 1), padding=(1, 1), bias=False)\n",
              "    (bn1): BatchNorm2d(64, eps=1e-05, momentum=0.1, affine=True, track_running_stats=True)\n",
              "    (layer1): Sequential(\n",
              "      (0): BasicBlock(\n",
              "        (conv1): Conv2d(64, 64, kernel_size=(3, 3), stride=(1, 1), padding=(1, 1), bias=False)\n",
              "        (bn1): BatchNorm2d(64, eps=1e-05, momentum=0.1, affine=True, track_running_stats=True)\n",
              "        (conv2): Conv2d(64, 64, kernel_size=(3, 3), stride=(1, 1), padding=(1, 1), bias=False)\n",
              "        (bn2): BatchNorm2d(64, eps=1e-05, momentum=0.1, affine=True, track_running_stats=True)\n",
              "        (shortcut): Sequential()\n",
              "      )\n",
              "      (1): BasicBlock(\n",
              "        (conv1): Conv2d(64, 64, kernel_size=(3, 3), stride=(1, 1), padding=(1, 1), bias=False)\n",
              "        (bn1): BatchNorm2d(64, eps=1e-05, momentum=0.1, affine=True, track_running_stats=True)\n",
              "        (conv2): Conv2d(64, 64, kernel_size=(3, 3), stride=(1, 1), padding=(1, 1), bias=False)\n",
              "        (bn2): BatchNorm2d(64, eps=1e-05, momentum=0.1, affine=True, track_running_stats=True)\n",
              "        (shortcut): Sequential()\n",
              "      )\n",
              "    )\n",
              "    (layer2): Sequential(\n",
              "      (0): BasicBlock(\n",
              "        (conv1): Conv2d(64, 128, kernel_size=(3, 3), stride=(2, 2), padding=(1, 1), bias=False)\n",
              "        (bn1): BatchNorm2d(128, eps=1e-05, momentum=0.1, affine=True, track_running_stats=True)\n",
              "        (conv2): Conv2d(128, 128, kernel_size=(3, 3), stride=(1, 1), padding=(1, 1), bias=False)\n",
              "        (bn2): BatchNorm2d(128, eps=1e-05, momentum=0.1, affine=True, track_running_stats=True)\n",
              "        (shortcut): Sequential(\n",
              "          (0): Conv2d(64, 128, kernel_size=(1, 1), stride=(2, 2), bias=False)\n",
              "          (1): BatchNorm2d(128, eps=1e-05, momentum=0.1, affine=True, track_running_stats=True)\n",
              "        )\n",
              "      )\n",
              "      (1): BasicBlock(\n",
              "        (conv1): Conv2d(128, 128, kernel_size=(3, 3), stride=(1, 1), padding=(1, 1), bias=False)\n",
              "        (bn1): BatchNorm2d(128, eps=1e-05, momentum=0.1, affine=True, track_running_stats=True)\n",
              "        (conv2): Conv2d(128, 128, kernel_size=(3, 3), stride=(1, 1), padding=(1, 1), bias=False)\n",
              "        (bn2): BatchNorm2d(128, eps=1e-05, momentum=0.1, affine=True, track_running_stats=True)\n",
              "        (shortcut): Sequential()\n",
              "      )\n",
              "    )\n",
              "    (layer3): Sequential(\n",
              "      (0): BasicBlock(\n",
              "        (conv1): Conv2d(128, 256, kernel_size=(3, 3), stride=(2, 2), padding=(1, 1), bias=False)\n",
              "        (bn1): BatchNorm2d(256, eps=1e-05, momentum=0.1, affine=True, track_running_stats=True)\n",
              "        (conv2): Conv2d(256, 256, kernel_size=(3, 3), stride=(1, 1), padding=(1, 1), bias=False)\n",
              "        (bn2): BatchNorm2d(256, eps=1e-05, momentum=0.1, affine=True, track_running_stats=True)\n",
              "        (shortcut): Sequential(\n",
              "          (0): Conv2d(128, 256, kernel_size=(1, 1), stride=(2, 2), bias=False)\n",
              "          (1): BatchNorm2d(256, eps=1e-05, momentum=0.1, affine=True, track_running_stats=True)\n",
              "        )\n",
              "      )\n",
              "      (1): BasicBlock(\n",
              "        (conv1): Conv2d(256, 256, kernel_size=(3, 3), stride=(1, 1), padding=(1, 1), bias=False)\n",
              "        (bn1): BatchNorm2d(256, eps=1e-05, momentum=0.1, affine=True, track_running_stats=True)\n",
              "        (conv2): Conv2d(256, 256, kernel_size=(3, 3), stride=(1, 1), padding=(1, 1), bias=False)\n",
              "        (bn2): BatchNorm2d(256, eps=1e-05, momentum=0.1, affine=True, track_running_stats=True)\n",
              "        (shortcut): Sequential()\n",
              "      )\n",
              "    )\n",
              "    (layer4): Sequential(\n",
              "      (0): BasicBlock(\n",
              "        (conv1): Conv2d(256, 512, kernel_size=(3, 3), stride=(2, 2), padding=(1, 1), bias=False)\n",
              "        (bn1): BatchNorm2d(512, eps=1e-05, momentum=0.1, affine=True, track_running_stats=True)\n",
              "        (conv2): Conv2d(512, 512, kernel_size=(3, 3), stride=(1, 1), padding=(1, 1), bias=False)\n",
              "        (bn2): BatchNorm2d(512, eps=1e-05, momentum=0.1, affine=True, track_running_stats=True)\n",
              "        (shortcut): Sequential(\n",
              "          (0): Conv2d(256, 512, kernel_size=(1, 1), stride=(2, 2), bias=False)\n",
              "          (1): BatchNorm2d(512, eps=1e-05, momentum=0.1, affine=True, track_running_stats=True)\n",
              "        )\n",
              "      )\n",
              "      (1): BasicBlock(\n",
              "        (conv1): Conv2d(512, 512, kernel_size=(3, 3), stride=(1, 1), padding=(1, 1), bias=False)\n",
              "        (bn1): BatchNorm2d(512, eps=1e-05, momentum=0.1, affine=True, track_running_stats=True)\n",
              "        (conv2): Conv2d(512, 512, kernel_size=(3, 3), stride=(1, 1), padding=(1, 1), bias=False)\n",
              "        (bn2): BatchNorm2d(512, eps=1e-05, momentum=0.1, affine=True, track_running_stats=True)\n",
              "        (shortcut): Sequential()\n",
              "      )\n",
              "    )\n",
              "    (linear): Linear(in_features=512, out_features=10, bias=True)\n",
              "  )\n",
              ")"
            ]
          },
          "metadata": {
            "tags": []
          },
          "execution_count": 34
        }
      ],
      "metadata": {
        "colab": {
          "base_uri": "https://localhost:8080/"
        },
        "id": "KKUjpWIDzojH",
        "executionInfo": {
          "status": "ok",
          "timestamp": 1625272783433,
          "user_tz": 300,
          "elapsed": 276,
          "user": {
            "displayName": "Gabriel Ceron Viveros",
            "photoUrl": "https://lh3.googleusercontent.com/a-/AOh14GhKuFxADeoNbpXSp3yfCRgm_vy86e4Q9hPd4K7flA=s64",
            "userId": "03642710981534596372"
          }
        },
        "outputId": "e9b889c5-1341-43c1-aaf9-6006e77c53c4"
      }
    },
    {
      "cell_type": "code",
      "execution_count": 31,
      "source": [
        "# Number of parameters of the resnet18\r\n",
        "loc=[]\r\n",
        "loc_=[]\r\n",
        "for name, param in pfi_model.get_original_model().named_parameters():\r\n",
        "        if \"conv\" in name or \"shortcut.0\" in name or \"downsample.0\" in name:\r\n",
        "                for dim in param.size():\r\n",
        "                    #loc[name].append(dim)\r\n",
        "                    loc_.append({str(name):dim})\r\n",
        "                loc.append()"
      ],
      "outputs": [],
      "metadata": {
        "id": "Qgi2RGj_cqlb",
        "executionInfo": {
          "status": "ok",
          "timestamp": 1625351448133,
          "user_tz": 300,
          "elapsed": 193,
          "user": {
            "displayName": "Gabriel Ceron Viveros",
            "photoUrl": "https://lh3.googleusercontent.com/a-/AOh14GhKuFxADeoNbpXSp3yfCRgm_vy86e4Q9hPd4K7flA=s64",
            "userId": "03642710981534596372"
          }
        }
      }
    },
    {
      "cell_type": "code",
      "execution_count": 38,
      "source": [
        "# Number of parameters of the resnet18\r\n",
        "loc=[]\r\n",
        "\r\n",
        "for name, param in pfi_model.get_original_model().named_parameters():\r\n",
        "        if \"conv\" in name or \"shortcut.0\" in name or \"downsample.0\" in name:\r\n",
        "                loc_=[]\r\n",
        "                for dim in param.size():\r\n",
        "                    #loc[name].append(dim)\r\n",
        "                    loc_.append(dim)\r\n",
        "                loc.append(loc_)"
      ],
      "outputs": [],
      "metadata": {
        "id": "ERviylzkfcCI",
        "executionInfo": {
          "status": "ok",
          "timestamp": 1625352557641,
          "user_tz": 300,
          "elapsed": 200,
          "user": {
            "displayName": "Gabriel Ceron Viveros",
            "photoUrl": "https://lh3.googleusercontent.com/a-/AOh14GhKuFxADeoNbpXSp3yfCRgm_vy86e4Q9hPd4K7flA=s64",
            "userId": "03642710981534596372"
          }
        }
      }
    },
    {
      "cell_type": "code",
      "execution_count": 43,
      "source": [
        "np.prod(loc,axis=1)"
      ],
      "outputs": [
        {
          "output_type": "execute_result",
          "data": {
            "text/plain": [
              "array([   1728,   36864,   36864,   36864,   36864,   73728,  147456,\n",
              "          8192,  147456,  147456,  294912,  589824,   32768,  589824,\n",
              "        589824, 1179648, 2359296,  131072, 2359296, 2359296])"
            ]
          },
          "metadata": {
            "tags": []
          },
          "execution_count": 43
        }
      ],
      "metadata": {
        "colab": {
          "base_uri": "https://localhost:8080/"
        },
        "id": "KP8W99vplE-m",
        "executionInfo": {
          "status": "ok",
          "timestamp": 1625352859302,
          "user_tz": 300,
          "elapsed": 222,
          "user": {
            "displayName": "Gabriel Ceron Viveros",
            "photoUrl": "https://lh3.googleusercontent.com/a-/AOh14GhKuFxADeoNbpXSp3yfCRgm_vy86e4Q9hPd4K7flA=s64",
            "userId": "03642710981534596372"
          }
        },
        "outputId": "8e7ca4ab-237c-4f65-8827-f99bb8ff9609"
      }
    },
    {
      "cell_type": "code",
      "execution_count": 42,
      "source": [
        "sum(np.prod(loc,axis=1))"
      ],
      "outputs": [
        {
          "output_type": "execute_result",
          "data": {
            "text/plain": [
              "11159232"
            ]
          },
          "metadata": {
            "tags": []
          },
          "execution_count": 42
        }
      ],
      "metadata": {
        "colab": {
          "base_uri": "https://localhost:8080/"
        },
        "id": "ibalCfQcjdR3",
        "executionInfo": {
          "status": "ok",
          "timestamp": 1625352659741,
          "user_tz": 300,
          "elapsed": 217,
          "user": {
            "displayName": "Gabriel Ceron Viveros",
            "photoUrl": "https://lh3.googleusercontent.com/a-/AOh14GhKuFxADeoNbpXSp3yfCRgm_vy86e4Q9hPd4K7flA=s64",
            "userId": "03642710981534596372"
          }
        },
        "outputId": "e40b0f6b-f3ae-4838-c891-90b04f7147c2"
      }
    },
    {
      "cell_type": "code",
      "execution_count": 49,
      "source": [
        "list(pfi_model.get_original_model().named_parameters())[0][1][0]"
      ],
      "outputs": [
        {
          "output_type": "execute_result",
          "data": {
            "text/plain": [
              "tensor([[[-1.3289e-10, -2.7323e-10,  1.6403e-09],\n",
              "         [-1.3949e-09, -5.3062e-10,  5.8823e-11],\n",
              "         [ 5.1922e-10,  1.2216e-09,  1.5527e-09]],\n",
              "\n",
              "        [[-2.0898e-10, -1.6902e-11,  9.4456e-10],\n",
              "         [-6.7424e-10, -2.2620e-10,  1.7317e-10],\n",
              "         [ 1.5561e-09,  7.0692e-10,  1.3345e-09]],\n",
              "\n",
              "        [[ 7.5248e-10,  4.7087e-10,  1.2638e-09],\n",
              "         [-5.2548e-10, -5.2869e-10,  9.4454e-11],\n",
              "         [ 2.9251e-10,  3.5621e-10,  7.8323e-10]]], device='cuda:0',\n",
              "       grad_fn=<SelectBackward>)"
            ]
          },
          "metadata": {
            "tags": []
          },
          "execution_count": 49
        }
      ],
      "metadata": {
        "colab": {
          "base_uri": "https://localhost:8080/"
        },
        "id": "aJr3S7hIdjwW",
        "executionInfo": {
          "status": "ok",
          "timestamp": 1625353281027,
          "user_tz": 300,
          "elapsed": 199,
          "user": {
            "displayName": "Gabriel Ceron Viveros",
            "photoUrl": "https://lh3.googleusercontent.com/a-/AOh14GhKuFxADeoNbpXSp3yfCRgm_vy86e4Q9hPd4K7flA=s64",
            "userId": "03642710981534596372"
          }
        },
        "outputId": "e8722026-4087-441e-bf39-f7c37b336dd0"
      }
    },
    {
      "cell_type": "markdown",
      "source": [
        "# Injections"
      ],
      "metadata": {
        "id": "z0yFKTew1nvl"
      }
    },
    {
      "cell_type": "code",
      "execution_count": null,
      "source": [
        "#import error_models_custom"
      ],
      "outputs": [],
      "metadata": {
        "id": "Tb4VB17AoBDz"
      }
    },
    {
      "cell_type": "code",
      "execution_count": null,
      "source": [
        "#wiModel = error_models_custom.random_weight_inj(pfi_model)"
      ],
      "outputs": [],
      "metadata": {
        "id": "OeWBZqBcQ8Bi"
      }
    },
    {
      "cell_type": "code",
      "execution_count": null,
      "source": [
        "pfi_model.get_total_conv()"
      ],
      "outputs": [
        {
          "output_type": "execute_result",
          "data": {
            "text/plain": [
              "20"
            ]
          },
          "metadata": {
            "tags": []
          },
          "execution_count": 41
        }
      ],
      "metadata": {
        "colab": {
          "base_uri": "https://localhost:8080/"
        },
        "id": "Z9KdHrS810TH",
        "executionInfo": {
          "status": "ok",
          "timestamp": 1625273547141,
          "user_tz": 300,
          "elapsed": 225,
          "user": {
            "displayName": "Gabriel Ceron Viveros",
            "photoUrl": "https://lh3.googleusercontent.com/a-/AOh14GhKuFxADeoNbpXSp3yfCRgm_vy86e4Q9hPd4K7flA=s64",
            "userId": "03642710981534596372"
          }
        },
        "outputId": "c3fb612a-b16f-4bd9-c7e1-c7a36d66023e"
      }
    },
    {
      "cell_type": "code",
      "execution_count": null,
      "source": [
        "pfi_model.declare_weight_fi(conv_num=0,k=0, c=0, h=0, w=0, value=0)"
      ],
      "outputs": [],
      "metadata": {
        "id": "75htqVAYnDBH"
      }
    },
    {
      "cell_type": "code",
      "execution_count": 17,
      "source": [
        "list(pfi_model.get_corrupted_model().named_parameters())[0][1][0]"
      ],
      "outputs": [
        {
          "output_type": "execute_result",
          "data": {
            "text/plain": [
              "tensor([[[ 0.0000e+00, -2.7323e-10,  1.6403e-09],\n",
              "         [-1.3949e-09, -5.3062e-10,  5.8823e-11],\n",
              "         [ 5.1922e-10,  1.2216e-09,  1.5527e-09]],\n",
              "\n",
              "        [[-2.0898e-10, -1.6902e-11,  9.4456e-10],\n",
              "         [-6.7424e-10, -2.2620e-10,  1.7317e-10],\n",
              "         [ 1.5561e-09,  7.0692e-10,  1.3345e-09]],\n",
              "\n",
              "        [[ 7.5248e-10,  4.7087e-10,  1.2638e-09],\n",
              "         [-5.2548e-10, -5.2869e-10,  9.4454e-11],\n",
              "         [ 2.9251e-10,  3.5621e-10,  7.8323e-10]]], device='cuda:0',\n",
              "       grad_fn=<SelectBackward>)"
            ]
          },
          "metadata": {
            "tags": []
          },
          "execution_count": 17
        }
      ],
      "metadata": {
        "colab": {
          "base_uri": "https://localhost:8080/"
        },
        "id": "xLmP6uISoJ2h",
        "executionInfo": {
          "status": "ok",
          "timestamp": 1625355482501,
          "user_tz": 300,
          "elapsed": 192,
          "user": {
            "displayName": "Gabriel Ceron Viveros",
            "photoUrl": "https://lh3.googleusercontent.com/a-/AOh14GhKuFxADeoNbpXSp3yfCRgm_vy86e4Q9hPd4K7flA=s64",
            "userId": "03642710981534596372"
          }
        },
        "outputId": "cccf8f8a-a999-4265-e448-918c756093bb"
      }
    },
    {
      "cell_type": "code",
      "execution_count": 40,
      "source": [
        "manyWInj = manyInj.many_w_injections(pfi_model,1000)"
      ],
      "outputs": [
        {
          "output_type": "stream",
          "name": "stdout",
          "text": [
            "N injections:  1000\n",
            " Injection:  999"
          ]
        }
      ],
      "metadata": {
        "colab": {
          "base_uri": "https://localhost:8080/"
        },
        "id": "7losETV416y7",
        "executionInfo": {
          "status": "ok",
          "timestamp": 1625363540988,
          "user_tz": 300,
          "elapsed": 1716,
          "user": {
            "displayName": "Gabriel Ceron Viveros",
            "photoUrl": "https://lh3.googleusercontent.com/a-/AOh14GhKuFxADeoNbpXSp3yfCRgm_vy86e4Q9hPd4K7flA=s64",
            "userId": "03642710981534596372"
          }
        },
        "outputId": "99ba7c4c-c5d8-432e-9614-d2bb244167ca"
      }
    },
    {
      "cell_type": "code",
      "execution_count": 19,
      "source": [
        "list(manyWInj.named_parameters())[0][1][0]"
      ],
      "outputs": [
        {
          "output_type": "execute_result",
          "data": {
            "text/plain": [
              "tensor([[[-1.3289e-10, -2.7323e-10,  1.6403e-09],\n",
              "         [-1.3949e-09, -5.3062e-10,  5.8823e-11],\n",
              "         [ 5.1922e-10,  1.2216e-09,  1.5527e-09]],\n",
              "\n",
              "        [[-2.0898e-10, -1.6902e-11,  9.4456e-10],\n",
              "         [-6.7424e-10, -2.2620e-10,  1.7317e-10],\n",
              "         [ 1.5561e-09,  7.0692e-10,  1.3345e-09]],\n",
              "\n",
              "        [[ 7.5248e-10,  4.7087e-10,  1.2638e-09],\n",
              "         [-5.2548e-10, -5.2869e-10,  9.4454e-11],\n",
              "         [ 2.9251e-10,  3.5621e-10,  7.8323e-10]]], device='cuda:0',\n",
              "       grad_fn=<SelectBackward>)"
            ]
          },
          "metadata": {
            "tags": []
          },
          "execution_count": 19
        }
      ],
      "metadata": {
        "colab": {
          "base_uri": "https://localhost:8080/"
        },
        "id": "KfPb6XUNtDMh",
        "executionInfo": {
          "status": "ok",
          "timestamp": 1625355681100,
          "user_tz": 300,
          "elapsed": 190,
          "user": {
            "displayName": "Gabriel Ceron Viveros",
            "photoUrl": "https://lh3.googleusercontent.com/a-/AOh14GhKuFxADeoNbpXSp3yfCRgm_vy86e4Q9hPd4K7flA=s64",
            "userId": "03642710981534596372"
          }
        },
        "outputId": "517b7788-d755-4cef-acff-ec1673d548b2"
      }
    },
    {
      "cell_type": "code",
      "execution_count": 41,
      "source": [
        "testM(manyWInj)"
      ],
      "outputs": [
        {
          "output_type": "stream",
          "name": "stdout",
          "text": [
            "Loss: 3.162 | Acc: 26.370% (2637/10000)\n"
          ]
        },
        {
          "output_type": "execute_result",
          "data": {
            "text/plain": [
              "0.2637"
            ]
          },
          "metadata": {
            "tags": []
          },
          "execution_count": 41
        }
      ],
      "metadata": {
        "colab": {
          "base_uri": "https://localhost:8080/"
        },
        "id": "DuAuVbDI94ko",
        "executionInfo": {
          "status": "ok",
          "timestamp": 1625363544417,
          "user_tz": 300,
          "elapsed": 2837,
          "user": {
            "displayName": "Gabriel Ceron Viveros",
            "photoUrl": "https://lh3.googleusercontent.com/a-/AOh14GhKuFxADeoNbpXSp3yfCRgm_vy86e4Q9hPd4K7flA=s64",
            "userId": "03642710981534596372"
          }
        },
        "outputId": "149a5549-74e8-4ba3-a57e-199e1fbca848"
      }
    },
    {
      "cell_type": "code",
      "execution_count": null,
      "source": [],
      "outputs": [],
      "metadata": {
        "collapsed": true,
        "jupyter": {
          "source_hidden": false,
          "outputs_hidden": false
        },
        "nteract": {
          "transient": {
            "deleting": false
          }
        }
      }
    },
    {
      "cell_type": "markdown",
      "source": [
        "# Injections in git(custom) and pytorch(default) resnets"
      ],
      "metadata": {}
    },
    {
      "cell_type": "code",
      "execution_count": 43,
      "source": [
        "net_custom=model_actions.load_custom(\"checkpoint\")\n",
        "net_default=model_actions.load(\"checkpoint_default\",num_classes=1000)"
      ],
      "outputs": [],
      "metadata": {}
    },
    {
      "cell_type": "code",
      "execution_count": 44,
      "source": [
        "model_actions.test(net_custom)"
      ],
      "outputs": [
        {
          "output_type": "stream",
          "name": "stdout",
          "text": [
            " [================================================================>]  Step: 1h47s | Tot: 3h29m | Loss: 0.247 | Acc: 93.430% (9343/10000)                                                                                                                                                                                                                                                                                                                                                                                                                                                                                                                                                                                                                                                                                                                                                                                                                                                                                               100/100 \n"
          ]
        },
        {
          "output_type": "execute_result",
          "data": {
            "text/plain": [
              "0.9343"
            ]
          },
          "metadata": {},
          "execution_count": 44
        }
      ],
      "metadata": {}
    },
    {
      "cell_type": "code",
      "execution_count": 45,
      "source": [
        "model_actions.test(net_default)"
      ],
      "outputs": [
        {
          "output_type": "stream",
          "name": "stdout",
          "text": [
            " [================================================================>]  Step: 29s869ms | Tot: 3h30m | Loss: 0.600 | Acc: 80.090% (8009/10000)                                                                                                                                                                                                                                                                                                                                                                                                                                                                                                                                                                                                                                                                                                                                                                                                                                                                                            100/100 \n"
          ]
        },
        {
          "output_type": "execute_result",
          "data": {
            "text/plain": [
              "0.8009"
            ]
          },
          "metadata": {},
          "execution_count": 45
        }
      ],
      "metadata": {}
    },
    {
      "cell_type": "code",
      "execution_count": 47,
      "source": [
        "from model_actions import test"
      ],
      "outputs": [],
      "metadata": {}
    },
    {
      "cell_type": "code",
      "execution_count": 49,
      "source": [
        "pfi_model = pfi_core(net_custom.eval(), h, w, test_batch_size, c=c,debug=True,use_cuda=torch.cuda.is_available())\r\n",
        "acc_v=[]\r\n",
        "for i in range(0,10):\r\n",
        "  manyWInj = many_inj.many_w_injections(pfi_model,1000)\r\n",
        "  acc=test(manyWInj)\r\n",
        "  acc_v.append(acc)\r\n",
        "print(test(pfi_model.ORIG_MODEL))\r\n",
        "print(np.average(acc_v))\r\n",
        "log.save(acc_v,\"net_custom_1000_w_inj_10_times\")"
      ],
      "outputs": [
        {
          "output_type": "stream",
          "name": "stdout",
          "text": [
            "N injections:  1000\n",
            " Injection:  999 [================================================================>]  Step: 3m23s | Tot: 3h40m | Loss: 3.532 | Acc: 21.280% (2128/10000)                                                                                                                                                                                                                                                                                                                                                                                                                                                                                                                                                                                                                                                                                                                                                                                                                                                                                               100/100 \n",
            "N injections:  1000\n",
            " Injection:  999 [================================================================>]  Step: 1m59s | Tot: 3h42m | Loss: 5.277 | Acc: 14.970% (1497/10000)                                                                                                                                                                                                                                                                                                                                                                                                                                                                                                                                                                                                                                                                                                                                                                                                                                                                                               100/100 \n",
            "N injections:  1000\n",
            " Injection:  999 [================================================================>]  Step: 1m53s | Tot: 3h44m | Loss: 3.056 | Acc: 31.080% (3108/10000)                                                                                                                                                                                                                                                                                                                                                                                                                                                                                                                                                                                                                                                                                                                                                                                                                                                                                               100/100 \n",
            "N injections:  1000\n",
            " Injection:  999 [================================================================>]  Step: 1m52s | Tot: 3h46m | Loss: 4.755 | Acc: 18.090% (1809/10000)                                                                                                                                                                                                                                                                                                                                                                                                                                                                                                                                                                                                                                                                                                                                                                                                                                                                                               100/100 \n",
            "N injections:  1000\n",
            " Injection:  999 [================================================================>]  Step: 1m52s | Tot: 3h48m | Loss: 3.700 | Acc: 23.420% (2342/10000)                                                                                                                                                                                                                                                                                                                                                                                                                                                                                                                                                                                                                                                                                                                                                                                                                                                                                               100/100 \n",
            "N injections:  1000\n",
            " Injection:  999 [================================================================>]  Step: 1m50s | Tot: 3h50m | Loss: 2.710 | Acc: 31.400% (3140/10000)                                                                                                                                                                                                                                                                                                                                                                                                                                                                                                                                                                                                                                                                                                                                                                                                                                                                                               100/100 \n",
            "N injections:  1000\n",
            " Injection:  999 [================================================================>]  Step: 1m52s | Tot: 3h51m | Loss: 1.923 | Acc: 53.750% (5375/10000)                                                                                                                                                                                                                                                                                                                                                                                                                                                                                                                                                                                                                                                                                                                                                                                                                                                                                               100/100 \n",
            "N injections:  1000\n",
            " Injection:  999 [================================================================>]  Step: 1m51s | Tot: 3h53m | Loss: 2.955 | Acc: 25.110% (2511/10000)                                                                                                                                                                                                                                                                                                                                                                                                                                                                                                                                                                                                                                                                                                                                                                                                                                                                                               100/100 \n",
            "N injections:  1000\n",
            " Injection:  999 [================================================================>]  Step: 1m50s | Tot: 3h55m | Loss: 2.356 | Acc: 43.630% (4363/10000)                                                                                                                                                                                                                                                                                                                                                                                                                                                                                                                                                                                                                                                                                                                                                                                                                                                                                               100/100 \n",
            "N injections:  1000\n",
            " Injection:  999 [================================================================>]  Step: 1m52s | Tot: 3h57m | Loss: 3.025 | Acc: 32.000% (3200/10000)                                                                                                                                                                                                                                                                                                                                                                                                                                                                                                                                                                                                                                                                                                                                                                                                                                                                                               100/100 \n",
            " [================================================================>]  Step: 1m52s | Tot: 3h59m | Loss: 0.235 | Acc: 93.770% (9377/10000)                                                                                                                                                                                                                                                                                                                                                                                                                                                                                                                                                                                                                                                                                                                                                                                                                                                                                               100/100 \n",
            "0.9377\n",
            "0.29473\n"
          ]
        }
      ],
      "metadata": {}
    },
    {
      "cell_type": "code",
      "execution_count": 50,
      "source": [
        "load=log.load(\"net_custom_1000_w_inj_10_times\")\r\n",
        "print(np.mean(load))\r\n",
        "print(np.std(load))"
      ],
      "outputs": [
        {
          "output_type": "stream",
          "name": "stdout",
          "text": [
            "0.29473\n",
            "0.11248041651772098\n"
          ]
        }
      ],
      "metadata": {}
    },
    {
      "cell_type": "code",
      "execution_count": 48,
      "source": [
        "pfi_model = pfi_core(net_default.eval(), h, w, test_batch_size, c=c,debug=True,use_cuda=torch.cuda.is_available())\r\n",
        "acc_v=[]\r\n",
        "for i in range(0,10):\r\n",
        "  manyWInj = many_inj.many_w_injections(pfi_model,1000)\r\n",
        "  acc=test(manyWInj)\r\n",
        "  acc_v.append(acc)\r\n",
        "print(test(pfi_model.ORIG_MODEL))\r\n",
        "print(np.average(acc_v))\r\n",
        "log.save(acc_v,\"net_default_1000_w_inj_10_times\")"
      ],
      "outputs": [
        {
          "output_type": "stream",
          "name": "stdout",
          "text": [
            "N injections:  1000\n",
            " Injection:  999 [================================================================>]  Step: 2m49s | Tot: 3h33m | Loss: 0.686 | Acc: 77.190% (7719/10000)                                                                                                                                                                                                                                                                                                                                                                                                                                                                                                                                                                                                                                                                                                                                                                                                                                                                                               100/100 \n",
            "N injections:  1000\n",
            " Injection:  999 [================================================================>]  Step: 25s441ms | Tot: 3h33m | Loss: 0.766 | Acc: 74.660% (7466/10000)                                                                                                                                                                                                                                                                                                                                                                                                                                                                                                                                                                                                                                                                                                                                                                                                                                                                                            100/100 \n",
            "N injections:  1000\n",
            " Injection:  999 [================================================================>]  Step: 24s959ms | Tot: 3h33m | Loss: 0.706 | Acc: 76.170% (7617/10000)                                                                                                                                                                                                                                                                                                                                                                                                                                                                                                                                                                                                                                                                                                                                                                                                                                                                                            100/100 \n",
            "N injections:  1000\n",
            " Injection:  999 [================================================================>]  Step: 25s404ms | Tot: 3h34m | Loss: 0.665 | Acc: 77.920% (7792/10000)                                                                                                                                                                                                                                                                                                                                                                                                                                                                                                                                                                                                                                                                                                                                                                                                                                                                                            100/100 \n",
            "N injections:  1000\n",
            " Injection:  999 [================================================================>]  Step: 25s129ms | Tot: 3h34m | Loss: 0.700 | Acc: 76.610% (7661/10000)                                                                                                                                                                                                                                                                                                                                                                                                                                                                                                                                                                                                                                                                                                                                                                                                                                                                                            100/100 \n",
            "N injections:  1000\n",
            " Injection:  999 [================================================================>]  Step: 24s647ms | Tot: 3h35m | Loss: 0.659 | Acc: 77.910% (7791/10000)                                                                                                                                                                                                                                                                                                                                                                                                                                                                                                                                                                                                                                                                                                                                                                                                                                                                                            100/100 \n",
            "N injections:  1000\n",
            " Injection:  999 [================================================================>]  Step: 25s67ms | Tot: 3h35m | Loss: 0.693 | Acc: 76.370% (7637/10000)                                                                                                                                                                                                                                                                                                                                                                                                                                                                                                                                                                                                                                                                                                                                                                                                                                                                                             100/100 \n",
            "N injections:  1000\n",
            " Injection:  999 [================================================================>]  Step: 25s261ms | Tot: 3h35m | Loss: 0.700 | Acc: 75.990% (7599/10000)                                                                                                                                                                                                                                                                                                                                                                                                                                                                                                                                                                                                                                                                                                                                                                                                                                                                                            100/100 \n",
            "N injections:  1000\n",
            " Injection:  999 [================================================================>]  Step: 24s813ms | Tot: 3h36m | Loss: 0.757 | Acc: 74.630% (7463/10000)                                                                                                                                                                                                                                                                                                                                                                                                                                                                                                                                                                                                                                                                                                                                                                                                                                                                                            100/100 \n",
            "N injections:  1000\n",
            " Injection:  999 [================================================================>]  Step: 24s601ms | Tot: 3h36m | Loss: 0.698 | Acc: 76.550% (7655/10000)                                                                                                                                                                                                                                                                                                                                                                                                                                                                                                                                                                                                                                                                                                                                                                                                                                                                                            100/100 \n",
            " [================================================================>]  Step: 23s128ms | Tot: 3h37m | Loss: 0.572 | Acc: 80.680% (8068/10000)                                                                                                                                                                                                                                                                                                                                                                                                                                                                                                                                                                                                                                                                                                                                                                                                                                                                                            100/100 \n",
            "0.8068\n",
            "0.764\n"
          ]
        }
      ],
      "metadata": {}
    },
    {
      "cell_type": "code",
      "execution_count": null,
      "source": [
        "load=log.load(\"net_default_1000_w_inj_10_times\")\r\n",
        "print(np.mean(load))\r\n",
        "print(np.std(load))"
      ],
      "outputs": [],
      "metadata": {}
    },
    {
      "cell_type": "markdown",
      "source": [
        "# Test for batches parameter var"
      ],
      "metadata": {
        "nteract": {
          "transient": {
            "deleting": false
          }
        }
      }
    },
    {
      "cell_type": "code",
      "execution_count": 5,
      "source": [
        "import load"
      ],
      "outputs": [],
      "metadata": {
        "collapsed": true,
        "jupyter": {
          "source_hidden": false,
          "outputs_hidden": false
        },
        "nteract": {
          "transient": {
            "deleting": false
          }
        },
        "gather": {
          "logged": 1625863836075
        }
      }
    },
    {
      "cell_type": "code",
      "execution_count": 16,
      "source": [
        "#For git resnet\r\n",
        "#%run load18.py"
      ],
      "outputs": [
        {
          "output_type": "stream",
          "name": "stdout",
          "text": [
            "Files already downloaded and verified\n"
          ]
        }
      ],
      "metadata": {
        "collapsed": true,
        "jupyter": {
          "source_hidden": false,
          "outputs_hidden": false
        },
        "nteract": {
          "transient": {
            "deleting": false
          }
        }
      }
    },
    {
      "cell_type": "code",
      "execution_count": 6,
      "source": [
        "import load\r\n",
        "net_default=load.load('checkpoint_default',num_classes=1000)\r\n",
        "net_256=load.load('default_b_size_256')\r\n",
        "net_512=load.load('default_b_size_512')"
      ],
      "outputs": [],
      "metadata": {
        "collapsed": true,
        "jupyter": {
          "source_hidden": false,
          "outputs_hidden": false
        },
        "nteract": {
          "transient": {
            "deleting": false
          }
        },
        "gather": {
          "logged": 1625863849574
        }
      }
    },
    {
      "cell_type": "code",
      "execution_count": 26,
      "source": [
        "testM(net_default)"
      ],
      "outputs": [
        {
          "output_type": "stream",
          "name": "stdout",
          "text": [
            "Loss: 0.600 | Acc: 80.090% (8009/10000)\n"
          ]
        },
        {
          "output_type": "execute_result",
          "data": {
            "text/plain": [
              "0.8009"
            ]
          },
          "metadata": {},
          "execution_count": 26
        }
      ],
      "metadata": {
        "collapsed": true,
        "jupyter": {
          "source_hidden": false,
          "outputs_hidden": false
        },
        "nteract": {
          "transient": {
            "deleting": false
          }
        },
        "gather": {
          "logged": 1625711286182
        }
      }
    },
    {
      "cell_type": "code",
      "execution_count": 12,
      "source": [
        "net=load.load('checkpoint',num_classes=1000)"
      ],
      "outputs": [],
      "metadata": {
        "collapsed": true,
        "jupyter": {
          "source_hidden": false,
          "outputs_hidden": false
        },
        "nteract": {
          "transient": {
            "deleting": false
          }
        },
        "gather": {
          "logged": 1625710442417
        }
      }
    },
    {
      "cell_type": "code",
      "execution_count": 29,
      "source": [
        "!ls checkpoints"
      ],
      "outputs": [
        {
          "output_type": "stream",
          "name": "stdout",
          "text": [
            "Group_Norm\t    checkpoint_default_colab  test\r\n",
            "checkpoint\t    default_2\t\t      test_num_classes_10\r\n",
            "checkpoint_custom   default_b_size_256\t      test_stride\r\n",
            "checkpoint_default  default_b_size_512\r\n"
          ]
        }
      ],
      "metadata": {
        "collapsed": true,
        "jupyter": {
          "source_hidden": false,
          "outputs_hidden": false
        },
        "nteract": {
          "transient": {
            "deleting": false
          }
        }
      }
    },
    {
      "cell_type": "code",
      "execution_count": 38,
      "source": [
        "net_colab=load.load('checkpoint_default_colab',num_classes=1000)"
      ],
      "outputs": [],
      "metadata": {
        "collapsed": true,
        "jupyter": {
          "source_hidden": false,
          "outputs_hidden": false
        },
        "nteract": {
          "transient": {
            "deleting": false
          }
        },
        "gather": {
          "logged": 1625715048563
        }
      }
    },
    {
      "cell_type": "code",
      "execution_count": 32,
      "source": [
        "from pytorchfi_c.core import fault_injection as pfi_core"
      ],
      "outputs": [],
      "metadata": {
        "collapsed": true,
        "jupyter": {
          "source_hidden": false,
          "outputs_hidden": false
        },
        "nteract": {
          "transient": {
            "deleting": false
          }
        },
        "gather": {
          "logged": 1625866616686
        }
      }
    },
    {
      "cell_type": "code",
      "execution_count": 33,
      "source": [
        "pfi_model = pfi_core(net_colab, h, w, test_batch_size, c=c,debug=True,use_cuda=torch.cuda.is_available())"
      ],
      "outputs": [
        {
          "output_type": "error",
          "ename": "NameError",
          "evalue": "name 'net_colab' is not defined",
          "traceback": [
            "\u001b[0;31m---------------------------------------------------------------------------\u001b[0m",
            "\u001b[0;31mNameError\u001b[0m                                 Traceback (most recent call last)",
            "\u001b[0;32m<ipython-input-33-8b8a4274823f>\u001b[0m in \u001b[0;36m<module>\u001b[0;34m\u001b[0m\n\u001b[0;32m----> 1\u001b[0;31m \u001b[0mpfi_model\u001b[0m \u001b[0;34m=\u001b[0m \u001b[0mpfi_core\u001b[0m\u001b[0;34m(\u001b[0m\u001b[0mnet_colab\u001b[0m\u001b[0;34m,\u001b[0m \u001b[0mh\u001b[0m\u001b[0;34m,\u001b[0m \u001b[0mw\u001b[0m\u001b[0;34m,\u001b[0m \u001b[0mtest_batch_size\u001b[0m\u001b[0;34m,\u001b[0m \u001b[0mc\u001b[0m\u001b[0;34m=\u001b[0m\u001b[0mc\u001b[0m\u001b[0;34m,\u001b[0m\u001b[0mdebug\u001b[0m\u001b[0;34m=\u001b[0m\u001b[0;32mTrue\u001b[0m\u001b[0;34m,\u001b[0m\u001b[0muse_cuda\u001b[0m\u001b[0;34m=\u001b[0m\u001b[0mtorch\u001b[0m\u001b[0;34m.\u001b[0m\u001b[0mcuda\u001b[0m\u001b[0;34m.\u001b[0m\u001b[0mis_available\u001b[0m\u001b[0;34m(\u001b[0m\u001b[0;34m)\u001b[0m\u001b[0;34m)\u001b[0m\u001b[0;34m\u001b[0m\u001b[0;34m\u001b[0m\u001b[0m\n\u001b[0m",
            "\u001b[0;31mNameError\u001b[0m: name 'net_colab' is not defined"
          ]
        }
      ],
      "metadata": {
        "collapsed": true,
        "jupyter": {
          "source_hidden": false,
          "outputs_hidden": false
        },
        "nteract": {
          "transient": {
            "deleting": false
          }
        },
        "gather": {
          "logged": 1625715609889
        }
      }
    },
    {
      "cell_type": "code",
      "execution_count": 41,
      "source": [
        "pfi_model = pfi_core(net_256.eval(), h, w, test_batch_size, c=c,debug=True,use_cuda=torch.cuda.is_available())\r\n",
        "acc_v=[]\r\n",
        "for i in range(0,10):\r\n",
        "  manyWInj = many_inj.many_w_injections(pfi_model,1000)\r\n",
        "  acc=testM(manyWInj)\r\n",
        "  acc_v.append(acc)\r\n",
        "print(testM(pfi_model.ORIG_MODEL))\r\n",
        "print(np.average(acc_v))\r\n"
      ],
      "outputs": [
        {
          "output_type": "stream",
          "name": "stdout",
          "text": [
            "N injections:  1000\n",
            " Injection:  999Loss: 1.994 | Acc: 56.490% (5649/10000)\n",
            "N injections:  1000\n",
            " Injection:  999Loss: 1.723 | Acc: 62.260% (6226/10000)\n",
            "N injections:  1000\n",
            " Injection:  999Loss: 1.392 | Acc: 69.510% (6951/10000)\n",
            "N injections:  1000\n",
            " Injection:  999Loss: 1.407 | Acc: 67.640% (6764/10000)\n",
            "N injections:  1000\n",
            " Injection:  999Loss: 1.544 | Acc: 64.590% (6459/10000)\n",
            "N injections:  1000\n",
            " Injection:  999Loss: 1.970 | Acc: 57.630% (5763/10000)\n",
            "N injections:  1000\n",
            " Injection:  999Loss: 2.743 | Acc: 50.710% (5071/10000)\n",
            "N injections:  1000\n",
            " Injection:  999Loss: 1.372 | Acc: 69.700% (6970/10000)\n",
            "N injections:  1000\n",
            " Injection:  999Loss: 1.707 | Acc: 61.560% (6156/10000)\n",
            "N injections:  1000\n",
            " Injection:  999Loss: 1.425 | Acc: 66.810% (6681/10000)\n",
            "Loss: 0.520 | Acc: 88.590% (8859/10000)\n",
            "0.8859\n",
            "0.6269\n"
          ]
        }
      ],
      "metadata": {
        "collapsed": true,
        "jupyter": {
          "source_hidden": false,
          "outputs_hidden": false
        },
        "nteract": {
          "transient": {
            "deleting": false
          }
        },
        "gather": {
          "logged": 1625867082322
        }
      }
    },
    {
      "cell_type": "code",
      "execution_count": 62,
      "source": [
        "pfi_model = pfi_core(net_512.eval(), h, w, test_batch_size, c=c,debug=True,use_cuda=torch.cuda.is_available())\r\n",
        "acc_v=[]\r\n",
        "for i in range(0,10):\r\n",
        "  manyWInj = manyInj.many_w_injections(pfi_model,1000)\r\n",
        "  acc=testM(manyWInj)\r\n",
        "  acc_v.append(acc)\r\n",
        "print(testM(pfi_model.ORIG_MODEL))\r\n",
        "print(np.average(acc_v))"
      ],
      "outputs": [
        {
          "output_type": "stream",
          "name": "stdout",
          "text": [
            "N injections:  1000\n",
            " Injection:  999Loss: 2.077 | Acc: 58.830% (5883/10000)\n",
            "N injections:  1000\n",
            " Injection:  999Loss: 1.951 | Acc: 58.580% (5858/10000)\n",
            "N injections:  1000\n",
            " Injection:  999Loss: 2.285 | Acc: 54.380% (5438/10000)\n",
            "N injections:  1000\n",
            " Injection:  999Loss: 1.997 | Acc: 59.490% (5949/10000)\n",
            "N injections:  1000\n",
            " Injection:  999Loss: 2.872 | Acc: 46.040% (4604/10000)\n",
            "N injections:  1000\n",
            " Injection:  999Loss: 1.810 | Acc: 60.550% (6055/10000)\n",
            "N injections:  1000\n",
            " Injection:  999Loss: 2.431 | Acc: 50.610% (5061/10000)\n",
            "N injections:  1000\n",
            " Injection:  999Loss: 2.215 | Acc: 57.320% (5732/10000)\n",
            "N injections:  1000\n",
            " Injection:  999Loss: 2.469 | Acc: 48.690% (4869/10000)\n",
            "N injections:  1000\n",
            " Injection:  999Loss: 3.252 | Acc: 38.140% (3814/10000)\n",
            "Loss: 0.512 | Acc: 88.730% (8873/10000)\n",
            "0.8873\n",
            "0.53263\n"
          ]
        }
      ],
      "metadata": {
        "collapsed": true,
        "jupyter": {
          "source_hidden": false,
          "outputs_hidden": false
        },
        "nteract": {
          "transient": {
            "deleting": false
          }
        },
        "gather": {
          "logged": 1625717882016
        }
      }
    },
    {
      "cell_type": "markdown",
      "source": [
        "# Weight with inj bit flip"
      ],
      "metadata": {
        "nteract": {
          "transient": {
            "deleting": false
          }
        }
      }
    },
    {
      "cell_type": "code",
      "execution_count": 5,
      "source": [
        "import load\r\n",
        "net_default=load.load('checkpoint_default',num_classes=1000)\r\n",
        "#net_256=load.load('default_b_size_256')\r\n",
        "#net_512=load.load('default_b_size_512')\r\n",
        "\r\n",
        "import model_actions\r\n",
        "from model_actions import test"
      ],
      "outputs": [
        {
          "output_type": "stream",
          "name": "stdout",
          "text": [
            "Files already downloaded and verified\n"
          ]
        }
      ],
      "metadata": {}
    },
    {
      "cell_type": "code",
      "execution_count": 6,
      "source": [
        "model_actions.test(net_default)"
      ],
      "outputs": [
        {
          "output_type": "stream",
          "name": "stderr",
          "text": [
            "/anaconda/envs/azureml_py36/lib/python3.6/site-packages/torch/nn/functional.py:718: UserWarning: Named tensors and all their associated APIs are an experimental feature and subject to change. Please do not use them for anything important until they are released as stable. (Triggered internally at  /pytorch/c10/core/TensorImpl.h:1156.)\n",
            "  return torch.max_pool2d(input, kernel_size, stride, padding, dilation, ceil_mode)\n"
          ]
        },
        {
          "output_type": "stream",
          "name": "stdout",
          "text": [
            " [================================================================>]  Step: 6m24s | Tot: 6m24s | Loss: 0.600 | Acc: 80.090% (8009/10000)                                                                                                                                                                                                                                                                                                                                                                                                                                                                                                                                                                                                                                                                                                                                                                                                                                                                                               100/100 \n"
          ]
        },
        {
          "output_type": "execute_result",
          "data": {
            "text/plain": [
              "0.8009"
            ]
          },
          "metadata": {},
          "execution_count": 6
        }
      ],
      "metadata": {}
    },
    {
      "cell_type": "code",
      "execution_count": 10,
      "source": [
        "stats.func_avg(model_actions.test,3,net_default)"
      ],
      "outputs": [
        {
          "output_type": "stream",
          "name": "stdout",
          "text": [
            " [================================================================>]  Step: 4m12s | Tot: 14m22s | Loss: 0.600 | Acc: 80.090% (8009/10000)                                                                                                                                                                                                                                                                                                                                                                                                                                                                                                                                                                                                                                                                                                                                                                                                                                                                                              100/100 \n",
            " [================================================================>]  Step: 37s133ms | Tot: 14m59s | Loss: 0.600 | Acc: 80.090% (8009/10000)                                                                                                                                                                                                                                                                                                                                                                                                                                                                                                                                                                                                                                                                                                                                                                                                                                                                                           100/100 \n",
            " [================================================================>]  Step: 33s494ms | Tot: 15m33s | Loss: 0.600 | Acc: 80.090% (8009/10000)                                                                                                                                                                                                                                                                                                                                                                                                                                                                                                                                                                                                                                                                                                                                                                                                                                                                                           100/100 \n"
          ]
        },
        {
          "output_type": "execute_result",
          "data": {
            "text/plain": [
              "0.8009"
            ]
          },
          "metadata": {},
          "execution_count": 10
        }
      ],
      "metadata": {}
    },
    {
      "cell_type": "markdown",
      "source": [
        "## Bit importnace"
      ],
      "metadata": {}
    },
    {
      "cell_type": "code",
      "execution_count": 6,
      "source": [
        "pfi_model = pfi_core(net_default.eval(), h, w, test_batch_size, c=c,debug=True,use_cuda=torch.cuda.is_available())"
      ],
      "outputs": [
        {
          "output_type": "stream",
          "name": "stderr",
          "text": [
            "/anaconda/envs/azureml_py36/lib/python3.6/site-packages/torch/nn/functional.py:718: UserWarning: Named tensors and all their associated APIs are an experimental feature and subject to change. Please do not use them for anything important until they are released as stable. (Triggered internally at  /pytorch/c10/core/TensorImpl.h:1156.)\n",
            "  return torch.max_pool2d(input, kernel_size, stride, padding, dilation, ceil_mode)\n"
          ]
        }
      ],
      "metadata": {}
    },
    {
      "cell_type": "code",
      "execution_count": null,
      "source": [
        "#pfi_model.declare_weight_bit_fi()"
      ],
      "outputs": [],
      "metadata": {}
    },
    {
      "cell_type": "markdown",
      "source": [
        "## Showing that a single bit flip(62 zero based, layer 0) may destroy the model inference (10%)"
      ],
      "metadata": {}
    },
    {
      "cell_type": "code",
      "execution_count": 12,
      "source": [
        "#Test changing specific bit in layer 0\r\n",
        "mwinj=pfi_model.declare_weight_bit_fi(conv_num=0,k=0, c=0, h=0, w=0, value=0, bits=62)\r\n",
        "v=list(pfi_model.get_corrupted_model().named_parameters())[0][1][0][0][0][0].item()\r\n",
        "print(v)\r\n",
        "test(mwinj)"
      ],
      "outputs": [
        {
          "output_type": "stream",
          "name": "stdout",
          "text": [
            "inf\n",
            " [================================================================>]  Step: 2m11s | Tot: 10m54s | Loss: nan | Acc: 10.140% (1014/10000)                                                                                                                                                                                                                                                                                                                                                                                                                                                                                                                                                                                                                                                                                                                                                                                                                                                                                                100/100 \n"
          ]
        },
        {
          "output_type": "execute_result",
          "data": {
            "text/plain": [
              "0.1014"
            ]
          },
          "metadata": {},
          "execution_count": 12
        }
      ],
      "metadata": {}
    },
    {
      "cell_type": "code",
      "execution_count": 14,
      "source": [
        "#Changing in another layer\r\n",
        "mwinj=pfi_model.declare_weight_bit_fi(conv_num=9,k=0, c=0, h=0, w=0, value=0, bits=62)\r\n",
        "v=list(pfi_model.get_corrupted_model().named_parameters())[0][1][0][0][0][0].item()\r\n",
        "print(v)\r\n",
        "test(mwinj)"
      ],
      "outputs": [
        {
          "output_type": "stream",
          "name": "stdout",
          "text": [
            "0.06807292997837067\n",
            " [================================================================>]  Step: 41s338ms | Tot: 12m38s | Loss: nan | Acc: 10.010% (1001/10000)                                                                                                                                                                                                                                                                                                                                                                                                                                                                                                                                                                                                                                                                                                                                                                                                                                                                                             100/100 \n"
          ]
        },
        {
          "output_type": "execute_result",
          "data": {
            "text/plain": [
              "0.1001"
            ]
          },
          "metadata": {},
          "execution_count": 14
        }
      ],
      "metadata": {}
    },
    {
      "cell_type": "code",
      "execution_count": 15,
      "source": [
        "many_bit_inj=many_inj.many_w_bit_injections(pfi_model,1,bit=63)\r\n",
        "model_actions.test(pfi_model.get_corrupted_model())"
      ],
      "outputs": [
        {
          "output_type": "stream",
          "name": "stdout",
          "text": [
            "N injections:  1\n",
            " Injection:  0 [================================================================>]  Step: 55s397ms | Tot: 56m19s | Loss: 0.572 | Acc: 80.680% (8068/10000)                                                                                                                                                                                                                                                                                                                                                                                                                                                                                                                                                                                                                                                                                                                                                                                                                                                                                           100/100 \n"
          ]
        },
        {
          "output_type": "execute_result",
          "data": {
            "text/plain": [
              "0.8068"
            ]
          },
          "metadata": {},
          "execution_count": 15
        }
      ],
      "metadata": {
        "collapsed": true,
        "jupyter": {
          "source_hidden": false,
          "outputs_hidden": false
        },
        "nteract": {
          "transient": {
            "deleting": false
          }
        },
        "gather": {
          "logged": 1625877445542
        }
      }
    },
    {
      "cell_type": "markdown",
      "source": [
        "Save next output"
      ],
      "metadata": {}
    },
    {
      "cell_type": "code",
      "execution_count": 199,
      "source": [
        "\r\n",
        "#pfi_model = pfi_core(net_512.eval(), h, w, test_batch_size, c=c,debug=True,use_cuda=torch.cuda.is_available())\r\n",
        "acc_v=[]\r\n",
        "for i in range(0,10):\r\n",
        "  manyWInj = many_inj.many_w_bit_injections(pfi_model,100)\r\n",
        "  acc=testM(manyWInj)\r\n",
        "  acc_v.append(acc)\r\n",
        "print(testM(pfi_model.ORIG_MODEL))\r\n",
        "print(np.average(acc_v))"
      ],
      "outputs": [
        {
          "output_type": "stream",
          "name": "stdout",
          "text": [
            "N injections:  100\n",
            " Injection:  99 [================================================================>]  Step: 4h26m | Tot: 4h26m | Loss: 0.563 | Acc: 81.020% (8102/10000) 100/100 \n",
            "N injections:  100\n",
            " Injection:  99 [================================================================>]  Step: 1m4s | Tot: 4h27m | Loss: 0.563 | Acc: 81.020% (8102/10000) 100/100 \n",
            "N injections:  100\n",
            " Injection:  99 [================================================================>]  Step: 1m2s | Tot: 4h28m | Loss: 0.563 | Acc: 81.020% (8102/10000) 100/100 \n",
            "N injections:  100\n",
            " Injection:  99 [================================================================>]  Step: 1m2s | Tot: 4h29m | Loss: 0.563 | Acc: 81.020% (8102/10000) 100/100 \n",
            "N injections:  100\n",
            " Injection:  99 [================================================================>]  Step: 1m2s | Tot: 4h30m | Loss: 0.563 | Acc: 80.910% (8091/10000) 100/100 \n",
            "N injections:  100\n",
            " Injection:  99 [================================================================>]  Step: 32s301ms | Tot: 4h31m | Loss: nan | Acc: 10.000% (1000/10000) 100/100 \n",
            "N injections:  100\n",
            " Injection:  99 [================================================================>]  Step: 35s446ms | Tot: 4h31m | Loss: 0.563 | Acc: 81.020% (8102/10000) 100/100 \n",
            "N injections:  100\n",
            " Injection:  99 [================================================================>]  Step: 39s208ms | Tot: 4h32m | Loss: 0.568 | Acc: 80.740% (8074/10000) 100/100 \n",
            "N injections:  100\n",
            " Injection:  99 [================================================================>]  Step: 30s759ms | Tot: 4h32m | Loss: 0.563 | Acc: 81.020% (8102/10000) 100/100 \n",
            "N injections:  100\n",
            " Injection:  99 [================================================================>]  Step: 30s335ms | Tot: 4h33m | Loss: 0.563 | Acc: 81.020% (8102/10000) 100/100 \n",
            " [================================================================>]  Step: 32s442ms | Tot: 4h33m | Loss: 0.563 | Acc: 81.020% (8102/10000) 100/100 \n",
            "0.8102\n",
            "0.7387900000000001\n"
          ]
        },
        {
          "output_type": "stream",
          "name": "stderr",
          "text": [
            "/anaconda/envs/azureml_py38/lib/python3.8/site-packages/torch/utils/data/dataloader.py:478: UserWarning: This DataLoader will create 2 worker processes in total. Our suggested max number of worker in current system is 1, which is smaller than what this DataLoader is going to create. Please be aware that excessive worker creation might get DataLoader running slow or even freeze, lower the worker number to avoid potential slowness/freeze if necessary.\n",
            "  warnings.warn(_create_warning_msg(\n"
          ]
        }
      ],
      "metadata": {
        "collapsed": true,
        "jupyter": {
          "source_hidden": false,
          "outputs_hidden": false
        },
        "nteract": {
          "transient": {
            "deleting": false
          }
        },
        "gather": {
          "logged": 1625879627429
        }
      }
    },
    {
      "cell_type": "code",
      "execution_count": 16,
      "source": [
        "from model_actions import test"
      ],
      "outputs": [],
      "metadata": {}
    },
    {
      "cell_type": "code",
      "execution_count": 10,
      "source": [
        "#Save this output\r\n",
        "#pfi_model = pfi_core(net_512.eval(), h, w, test_batch_size, c=c,debug=True,use_cuda=torch.cuda.is_available())\r\n",
        "acc_v=[]\r\n",
        "for i in range(0,10):\r\n",
        "  manyWInj = many_inj.many_w_bit_injections(pfi_model,1,bits=62)\r\n",
        "  acc=test(manyWInj)\r\n",
        "  acc_v.append(acc)\r\n",
        "print(np.average(acc_v))"
      ],
      "outputs": [
        {
          "output_type": "stream",
          "name": "stdout",
          "text": [
            " [================================================================>]  Step: 3m36s | Tot: 9m25s | Loss: nan | Acc: 10.050% (1005/10000)                                                                                                                                                                                                                                                                                                                                                                                                                                                                                                                                                                                                                                                                                                                                                                                                                                                                                                 100/100 \n",
            " [================================================================>]  Step: 16s116ms | Tot: 9m41s | Loss: nan | Acc: 10.000% (1000/10000)                                                                                                                                                                                                                                                                                                                                                                                                                                                                                                                                                                                                                                                                                                                                                                                                                                                                                              100/100 \n",
            " [================================================================>]  Step: 20s192ms | Tot: 10m1s | Loss: nan | Acc: 10.000% (1000/10000)                                                                                                                                                                                                                                                                                                                                                                                                                                                                                                                                                                                                                                                                                                                                                                                                                                                                                              100/100 \n",
            " [================================================================>]  Step: 19s859ms | Tot: 10m21s | Loss: nan | Acc: 10.000% (1000/10000)                                                                                                                                                                                                                                                                                                                                                                                                                                                                                                                                                                                                                                                                                                                                                                                                                                                                                             100/100 \n",
            " [================================================================>]  Step: 19s832ms | Tot: 10m41s | Loss: nan | Acc: 10.020% (1002/10000)                                                                                                                                                                                                                                                                                                                                                                                                                                                                                                                                                                                                                                                                                                                                                                                                                                                                                             100/100 \n",
            " [================================================================>]  Step: 20s198ms | Tot: 11m1s | Loss: nan | Acc: 10.130% (1013/10000)                                                                                                                                                                                                                                                                                                                                                                                                                                                                                                                                                                                                                                                                                                                                                                                                                                                                                              100/100 \n",
            " [================================================================>]  Step: 20s107ms | Tot: 11m21s | Loss: nan | Acc: 40.020% (4002/10000)                                                                                                                                                                                                                                                                                                                                                                                                                                                                                                                                                                                                                                                                                                                                                                                                                                                                                             100/100 \n",
            " [================================================================>]  Step: 20s221ms | Tot: 11m41s | Loss: nan | Acc: 30.460% (3046/10000)                                                                                                                                                                                                                                                                                                                                                                                                                                                                                                                                                                                                                                                                                                                                                                                                                                                                                             100/100 \n",
            " [================================================================>]  Step: 20s27ms | Tot: 12m1s | Loss: nan | Acc: 10.000% (1000/10000)                                                                                                                                                                                                                                                                                                                                                                                                                                                                                                                                                                                                                                                                                                                                                                                                                                                                                               100/100 \n",
            " [================================================================>]  Step: 19s352ms | Tot: 12m21s | Loss: nan | Acc: 10.000% (1000/10000)                                                                                                                                                                                                                                                                                                                                                                                                                                                                                                                                                                                                                                                                                                                                                                                                                                                                                             100/100 \n",
            "0.15068\n"
          ]
        }
      ],
      "metadata": {}
    },
    {
      "cell_type": "code",
      "execution_count": 19,
      "source": [
        "# inj per bit\r\n",
        "#pfi_model = pfi_core(net_512.eval(), h, w, test_batch_size, c=c,debug=True,use_cuda=torch.cuda.is_available())\r\n",
        "acc_v=[]\r\n",
        "for i in range(64):\r\n",
        "  manyWInj = many_inj.many_w_bit_injections(pfi_model,10000,bits=i)\r\n",
        "  acc=test(manyWInj)\r\n",
        "  acc_v.append(acc)\r\n",
        "log.save(acc_v,\"10000_w_inj_per_bit\")\r\n"
      ],
      "outputs": [
        {
          "output_type": "stream",
          "name": "stdout",
          "text": [
            " [================================================================>]  Step: 55m4s | Tot: 2h9m | Loss: 0.563 | Acc: 81.020% (8102/10000)                                                                                                                                                                                                                                                                                                                                                                                                                                                                                                                                                                                                                                                                                                                                                                                                                                                                                                100/100 \n",
            " [================================================================>]  Step: 14s926ms | Tot: 2h10m | Loss: 0.563 | Acc: 81.020% (8102/10000)                                                                                                                                                                                                                                                                                                                                                                                                                                                                                                                                                                                                                                                                                                                                                                                                                                                                                            100/100 \n",
            " [================================================================>]  Step: 21s331ms | Tot: 2h10m | Loss: 0.563 | Acc: 81.020% (8102/10000)                                                                                                                                                                                                                                                                                                                                                                                                                                                                                                                                                                                                                                                                                                                                                                                                                                                                                            100/100 \n",
            " [================================================================>]  Step: 16s226ms | Tot: 2h10m | Loss: 0.563 | Acc: 81.020% (8102/10000)                                                                                                                                                                                                                                                                                                                                                                                                                                                                                                                                                                                                                                                                                                                                                                                                                                                                                            100/100 \n",
            " [================================================================>]  Step: 17s326ms | Tot: 2h11m | Loss: 0.563 | Acc: 81.020% (8102/10000)                                                                                                                                                                                                                                                                                                                                                                                                                                                                                                                                                                                                                                                                                                                                                                                                                                                                                            100/100 \n",
            " [================================================================>]  Step: 16s114ms | Tot: 2h11m | Loss: 0.563 | Acc: 81.020% (8102/10000)                                                                                                                                                                                                                                                                                                                                                                                                                                                                                                                                                                                                                                                                                                                                                                                                                                                                                            100/100 \n",
            " [================================================================>]  Step: 14s380ms | Tot: 2h11m | Loss: 0.563 | Acc: 81.020% (8102/10000)                                                                                                                                                                                                                                                                                                                                                                                                                                                                                                                                                                                                                                                                                                                                                                                                                                                                                            100/100 \n",
            " [================================================================>]  Step: 15s55ms | Tot: 2h11m | Loss: 0.563 | Acc: 81.020% (8102/10000)                                                                                                                                                                                                                                                                                                                                                                                                                                                                                                                                                                                                                                                                                                                                                                                                                                                                                             100/100 \n",
            " [================================================================>]  Step: 16s940ms | Tot: 2h12m | Loss: 0.563 | Acc: 81.020% (8102/10000)                                                                                                                                                                                                                                                                                                                                                                                                                                                                                                                                                                                                                                                                                                                                                                                                                                                                                            100/100 \n",
            " [================================================================>]  Step: 31s693ms | Tot: 2h12m | Loss: 0.563 | Acc: 81.020% (8102/10000)                                                                                                                                                                                                                                                                                                                                                                                                                                                                                                                                                                                                                                                                                                                                                                                                                                                                                            100/100 \n",
            " [================================================================>]  Step: 19s952ms | Tot: 2h13m | Loss: 0.563 | Acc: 81.020% (8102/10000)                                                                                                                                                                                                                                                                                                                                                                                                                                                                                                                                                                                                                                                                                                                                                                                                                                                                                            100/100 \n",
            " [================================================================>]  Step: 17s617ms | Tot: 2h13m | Loss: 0.563 | Acc: 81.020% (8102/10000)                                                                                                                                                                                                                                                                                                                                                                                                                                                                                                                                                                                                                                                                                                                                                                                                                                                                                            100/100 \n",
            " [================================================================>]  Step: 16s372ms | Tot: 2h13m | Loss: 0.563 | Acc: 81.020% (8102/10000)                                                                                                                                                                                                                                                                                                                                                                                                                                                                                                                                                                                                                                                                                                                                                                                                                                                                                            100/100 \n",
            " [================================================================>]  Step: 16s570ms | Tot: 2h13m | Loss: 0.563 | Acc: 81.020% (8102/10000)                                                                                                                                                                                                                                                                                                                                                                                                                                                                                                                                                                                                                                                                                                                                                                                                                                                                                            100/100 \n",
            " [================================================================>]  Step: 18s941ms | Tot: 2h14m | Loss: 0.563 | Acc: 81.020% (8102/10000)                                                                                                                                                                                                                                                                                                                                                                                                                                                                                                                                                                                                                                                                                                                                                                                                                                                                                            100/100 \n",
            " [================================================================>]  Step: 16s306ms | Tot: 2h14m | Loss: 0.563 | Acc: 81.020% (8102/10000)                                                                                                                                                                                                                                                                                                                                                                                                                                                                                                                                                                                                                                                                                                                                                                                                                                                                                            100/100 \n",
            " [================================================================>]  Step: 15s305ms | Tot: 2h14m | Loss: 0.563 | Acc: 81.020% (8102/10000)                                                                                                                                                                                                                                                                                                                                                                                                                                                                                                                                                                                                                                                                                                                                                                                                                                                                                            100/100 \n",
            " [================================================================>]  Step: 15s595ms | Tot: 2h14m | Loss: 0.563 | Acc: 81.020% (8102/10000)                                                                                                                                                                                                                                                                                                                                                                                                                                                                                                                                                                                                                                                                                                                                                                                                                                                                                            100/100 \n",
            " [================================================================>]  Step: 14s699ms | Tot: 2h15m | Loss: 0.563 | Acc: 81.020% (8102/10000)                                                                                                                                                                                                                                                                                                                                                                                                                                                                                                                                                                                                                                                                                                                                                                                                                                                                                            100/100 \n",
            " [================================================================>]  Step: 14s799ms | Tot: 2h15m | Loss: 0.563 | Acc: 81.020% (8102/10000)                                                                                                                                                                                                                                                                                                                                                                                                                                                                                                                                                                                                                                                                                                                                                                                                                                                                                            100/100 \n",
            " [================================================================>]  Step: 19s637ms | Tot: 2h15m | Loss: 0.563 | Acc: 81.020% (8102/10000)                                                                                                                                                                                                                                                                                                                                                                                                                                                                                                                                                                                                                                                                                                                                                                                                                                                                                            100/100 \n",
            " [================================================================>]  Step: 15s548ms | Tot: 2h16m | Loss: 0.563 | Acc: 81.020% (8102/10000)                                                                                                                                                                                                                                                                                                                                                                                                                                                                                                                                                                                                                                                                                                                                                                                                                                                                                            100/100 \n",
            " [================================================================>]  Step: 17s40ms | Tot: 2h16m | Loss: 0.563 | Acc: 81.020% (8102/10000)                                                                                                                                                                                                                                                                                                                                                                                                                                                                                                                                                                                                                                                                                                                                                                                                                                                                                             100/100 \n",
            " [================================================================>]  Step: 15s345ms | Tot: 2h16m | Loss: 0.563 | Acc: 81.020% (8102/10000)                                                                                                                                                                                                                                                                                                                                                                                                                                                                                                                                                                                                                                                                                                                                                                                                                                                                                            100/100 \n",
            " [================================================================>]  Step: 15s110ms | Tot: 2h16m | Loss: 0.563 | Acc: 81.020% (8102/10000)                                                                                                                                                                                                                                                                                                                                                                                                                                                                                                                                                                                                                                                                                                                                                                                                                                                                                            100/100 \n",
            " [================================================================>]  Step: 14s697ms | Tot: 2h17m | Loss: 0.563 | Acc: 81.020% (8102/10000)                                                                                                                                                                                                                                                                                                                                                                                                                                                                                                                                                                                                                                                                                                                                                                                                                                                                                            100/100 \n",
            " [================================================================>]  Step: 14s700ms | Tot: 2h17m | Loss: 0.563 | Acc: 81.020% (8102/10000)                                                                                                                                                                                                                                                                                                                                                                                                                                                                                                                                                                                                                                                                                                                                                                                                                                                                                            100/100 \n",
            " [================================================================>]  Step: 15s178ms | Tot: 2h17m | Loss: 0.563 | Acc: 81.020% (8102/10000)                                                                                                                                                                                                                                                                                                                                                                                                                                                                                                                                                                                                                                                                                                                                                                                                                                                                                            100/100 \n",
            " [================================================================>]  Step: 14s584ms | Tot: 2h17m | Loss: 0.563 | Acc: 81.020% (8102/10000)                                                                                                                                                                                                                                                                                                                                                                                                                                                                                                                                                                                                                                                                                                                                                                                                                                                                                            100/100 \n",
            " [================================================================>]  Step: 14s710ms | Tot: 2h18m | Loss: 0.563 | Acc: 81.020% (8102/10000)                                                                                                                                                                                                                                                                                                                                                                                                                                                                                                                                                                                                                                                                                                                                                                                                                                                                                            100/100 \n",
            " [================================================================>]  Step: 15s27ms | Tot: 2h18m | Loss: 0.563 | Acc: 81.020% (8102/10000)                                                                                                                                                                                                                                                                                                                                                                                                                                                                                                                                                                                                                                                                                                                                                                                                                                                                                             100/100 \n",
            " [================================================================>]  Step: 15s10ms | Tot: 2h18m | Loss: 0.563 | Acc: 81.020% (8102/10000)                                                                                                                                                                                                                                                                                                                                                                                                                                                                                                                                                                                                                                                                                                                                                                                                                                                                                             100/100 \n",
            " [================================================================>]  Step: 15s153ms | Tot: 2h18m | Loss: 0.563 | Acc: 81.020% (8102/10000)                                                                                                                                                                                                                                                                                                                                                                                                                                                                                                                                                                                                                                                                                                                                                                                                                                                                                            100/100 \n",
            " [================================================================>]  Step: 14s628ms | Tot: 2h19m | Loss: 0.563 | Acc: 81.020% (8102/10000)                                                                                                                                                                                                                                                                                                                                                                                                                                                                                                                                                                                                                                                                                                                                                                                                                                                                                            100/100 \n",
            " [================================================================>]  Step: 14s942ms | Tot: 2h19m | Loss: 0.563 | Acc: 81.020% (8102/10000)                                                                                                                                                                                                                                                                                                                                                                                                                                                                                                                                                                                                                                                                                                                                                                                                                                                                                            100/100 \n",
            " [================================================================>]  Step: 14s852ms | Tot: 2h19m | Loss: 0.563 | Acc: 81.020% (8102/10000)                                                                                                                                                                                                                                                                                                                                                                                                                                                                                                                                                                                                                                                                                                                                                                                                                                                                                            100/100 \n",
            " [================================================================>]  Step: 14s789ms | Tot: 2h19m | Loss: 0.563 | Acc: 81.020% (8102/10000)                                                                                                                                                                                                                                                                                                                                                                                                                                                                                                                                                                                                                                                                                                                                                                                                                                                                                            100/100 \n",
            " [================================================================>]  Step: 15s56ms | Tot: 2h20m | Loss: 0.563 | Acc: 81.020% (8102/10000)                                                                                                                                                                                                                                                                                                                                                                                                                                                                                                                                                                                                                                                                                                                                                                                                                                                                                             100/100 \n",
            " [================================================================>]  Step: 14s858ms | Tot: 2h20m | Loss: 0.563 | Acc: 81.020% (8102/10000)                                                                                                                                                                                                                                                                                                                                                                                                                                                                                                                                                                                                                                                                                                                                                                                                                                                                                            100/100 \n",
            " [================================================================>]  Step: 14s724ms | Tot: 2h20m | Loss: 0.563 | Acc: 81.020% (8102/10000)                                                                                                                                                                                                                                                                                                                                                                                                                                                                                                                                                                                                                                                                                                                                                                                                                                                                                            100/100 \n",
            " [================================================================>]  Step: 14s926ms | Tot: 2h20m | Loss: 0.563 | Acc: 81.020% (8102/10000)                                                                                                                                                                                                                                                                                                                                                                                                                                                                                                                                                                                                                                                                                                                                                                                                                                                                                            100/100 \n",
            " [================================================================>]  Step: 14s899ms | Tot: 2h21m | Loss: 0.563 | Acc: 81.020% (8102/10000)                                                                                                                                                                                                                                                                                                                                                                                                                                                                                                                                                                                                                                                                                                                                                                                                                                                                                            100/100 \n",
            " [================================================================>]  Step: 14s960ms | Tot: 2h21m | Loss: 0.563 | Acc: 81.020% (8102/10000)                                                                                                                                                                                                                                                                                                                                                                                                                                                                                                                                                                                                                                                                                                                                                                                                                                                                                            100/100 \n",
            " [================================================================>]  Step: 14s701ms | Tot: 2h21m | Loss: 0.563 | Acc: 81.020% (8102/10000)                                                                                                                                                                                                                                                                                                                                                                                                                                                                                                                                                                                                                                                                                                                                                                                                                                                                                            100/100 \n",
            " [================================================================>]  Step: 14s998ms | Tot: 2h21m | Loss: 0.563 | Acc: 81.020% (8102/10000)                                                                                                                                                                                                                                                                                                                                                                                                                                                                                                                                                                                                                                                                                                                                                                                                                                                                                            100/100 \n",
            " [================================================================>]  Step: 14s683ms | Tot: 2h22m | Loss: 0.563 | Acc: 81.010% (8101/10000)                                                                                                                                                                                                                                                                                                                                                                                                                                                                                                                                                                                                                                                                                                                                                                                                                                                                                            100/100 \n",
            " [================================================================>]  Step: 14s997ms | Tot: 2h22m | Loss: 0.563 | Acc: 81.070% (8107/10000)                                                                                                                                                                                                                                                                                                                                                                                                                                                                                                                                                                                                                                                                                                                                                                                                                                                                                            100/100 \n",
            " [================================================================>]  Step: 14s997ms | Tot: 2h22m | Loss: 0.563 | Acc: 81.000% (8100/10000)                                                                                                                                                                                                                                                                                                                                                                                                                                                                                                                                                                                                                                                                                                                                                                                                                                                                                            100/100 \n",
            " [================================================================>]  Step: 18s117ms | Tot: 2h22m | Loss: 0.564 | Acc: 80.980% (8098/10000)                                                                                                                                                                                                                                                                                                                                                                                                                                                                                                                                                                                                                                                                                                                                                                                                                                                                                            100/100 \n",
            " [================================================================>]  Step: 16s756ms | Tot: 2h23m | Loss: 0.564 | Acc: 81.040% (8104/10000)                                                                                                                                                                                                                                                                                                                                                                                                                                                                                                                                                                                                                                                                                                                                                                                                                                                                                            100/100 \n",
            " [================================================================>]  Step: 16s151ms | Tot: 2h23m | Loss: 0.566 | Acc: 80.960% (8096/10000)                                                                                                                                                                                                                                                                                                                                                                                                                                                                                                                                                                                                                                                                                                                                                                                                                                                                                            100/100 \n",
            " [================================================================>]  Step: 15s158ms | Tot: 2h23m | Loss: 0.565 | Acc: 80.930% (8093/10000)                                                                                                                                                                                                                                                                                                                                                                                                                                                                                                                                                                                                                                                                                                                                                                                                                                                                                            100/100 \n",
            " [================================================================>]  Step: 15s177ms | Tot: 2h23m | Loss: 0.593 | Acc: 80.070% (8007/10000)                                                                                                                                                                                                                                                                                                                                                                                                                                                                                                                                                                                                                                                                                                                                                                                                                                                                                            100/100 \n",
            " [================================================================>]  Step: 15s68ms | Tot: 2h24m | Loss: 0.966 | Acc: 69.220% (6922/10000)                                                                                                                                                                                                                                                                                                                                                                                                                                                                                                                                                                                                                                                                                                                                                                                                                                                                                             100/100 \n",
            " [================================================================>]  Step: 14s794ms | Tot: 2h24m | Loss: 6.391 | Acc: 13.810% (1381/10000)                                                                                                                                                                                                                                                                                                                                                                                                                                                                                                                                                                                                                                                                                                                                                                                                                                                                                            100/100 \n",
            " [================================================================>]  Step: 14s871ms | Tot: 2h24m | Loss: 1.372 | Acc: 56.170% (5617/10000)                                                                                                                                                                                                                                                                                                                                                                                                                                                                                                                                                                                                                                                                                                                                                                                                                                                                                            100/100 \n",
            " [================================================================>]  Step: 14s960ms | Tot: 2h24m | Loss: 0.594 | Acc: 80.000% (8000/10000)                                                                                                                                                                                                                                                                                                                                                                                                                                                                                                                                                                                                                                                                                                                                                                                                                                                                                            100/100 \n",
            " [================================================================>]  Step: 14s883ms | Tot: 2h25m | Loss: 0.651 | Acc: 78.150% (7815/10000)                                                                                                                                                                                                                                                                                                                                                                                                                                                                                                                                                                                                                                                                                                                                                                                                                                                                                            100/100 \n",
            " [================================================================>]  Step: 15s751ms | Tot: 2h25m | Loss: 0.644 | Acc: 78.490% (7849/10000)                                                                                                                                                                                                                                                                                                                                                                                                                                                                                                                                                                                                                                                                                                                                                                                                                                                                                            100/100 \n",
            " [================================================================>]  Step: 1m28s | Tot: 2h26m | Loss: 0.639 | Acc: 78.670% (7867/10000)                                                                                                                                                                                                                                                                                                                                                                                                                                                                                                                                                                                                                                                                                                                                                                                                                                                                                               100/100 \n",
            " [================================================================>]  Step: 28s59ms | Tot: 2h27m | Loss: 0.627 | Acc: 78.980% (7898/10000)                                                                                                                                                                                                                                                                                                                                                                                                                                                                                                                                                                                                                                                                                                                                                                                                                                                                                             100/100 \n",
            " [================================================================>]  Step: 31s145ms | Tot: 2h27m | Loss: 0.601 | Acc: 79.670% (7967/10000)                                                                                                                                                                                                                                                                                                                                                                                                                                                                                                                                                                                                                                                                                                                                                                                                                                                                                            100/100 \n",
            " [================================================================>]  Step: 30s12ms | Tot: 2h28m | Loss: nan | Acc: 10.000% (1000/10000)                                                                                                                                                                                                                                                                                                                                                                                                                                                                                                                                                                                                                                                                                                                                                                                                                                                                                               100/100 \n",
            " [================================================================>]  Step: 30s558ms | Tot: 2h28m | Loss: 0.941 | Acc: 68.860% (6886/10000)                                                                                                                                                                                                                                                                                                                                                                                                                                                                                                                                                                                                                                                                                                                                                                                                                                                                                            100/100 \n"
          ]
        }
      ],
      "metadata": {}
    },
    {
      "cell_type": "code",
      "execution_count": 27,
      "source": [
        "name=\"1000_w_inj_per_bit\"\r\n",
        "load=log.load(name)\r\n",
        "fig, ax = plt.subplots()\r\n",
        "ax.plot(load)\r\n",
        "fig.savefig(\"images/\"+name+\".png\")"
      ],
      "outputs": [],
      "metadata": {}
    },
    {
      "cell_type": "code",
      "execution_count": 32,
      "source": [
        "\r\n"
      ],
      "outputs": [
        {
          "output_type": "display_data",
          "data": {
            "image/png": "[encoded data removed]",
            "text/plain": [
              "<Figure size 432x288 with 1 Axes>"
            ]
          },
          "metadata": {
            "needs_background": "light"
          }
        }
      ],
      "metadata": {}
    },
    {
      "cell_type": "code",
      "execution_count": 20,
      "source": [
        "from pytorchfi_c.core import bit_flip_f32"
      ],
      "outputs": [],
      "metadata": {}
    },
    {
      "cell_type": "code",
      "execution_count": null,
      "source": [
        "# output value from bitflip\r\n",
        "from pytorchfi_c.core import bit_flip_f32\r\n",
        "f=np.float64(0.1)\r\n",
        "print(np.finfo(f))\r\n",
        "acc_v=[]\r\n",
        "for i in range(64):\r\n",
        "  acc_v.append(bit_flip_f32(f))\r\n",
        "log.save(acc_v,\"bitflip64_per_bit_orig_0_1\")"
      ],
      "outputs": [],
      "metadata": {}
    },
    {
      "cell_type": "markdown",
      "source": [
        "# Weight injection with FC"
      ],
      "metadata": {}
    },
    {
      "cell_type": "code",
      "execution_count": 25,
      "source": [
        "import load\r\n",
        "net_default=load.load('checkpoint_default',num_classes=1000)\r\n",
        "net_256=load.load('default_b_size_256')\r\n",
        "#net_512=load.load('default_b_size_512')\r\n",
        "\r\n",
        "import model_actions\r\n",
        "from model_actions import test"
      ],
      "outputs": [],
      "metadata": {}
    },
    {
      "cell_type": "code",
      "execution_count": 6,
      "source": [
        "model_actions.test(net_default)"
      ],
      "outputs": [
        {
          "output_type": "stream",
          "name": "stderr",
          "text": [
            "/anaconda/envs/azureml_py38/lib/python3.8/site-packages/torch/nn/functional.py:718: UserWarning: Named tensors and all their associated APIs are an experimental feature and subject to change. Please do not use them for anything important until they are released as stable. (Triggered internally at  /opt/conda/conda-bld/pytorch_1623448234945/work/c10/core/TensorImpl.h:1156.)\n",
            "  return torch.max_pool2d(input, kernel_size, stride, padding, dilation, ceil_mode)\n"
          ]
        },
        {
          "output_type": "stream",
          "name": "stdout",
          "text": [
            " [================================================================>]  Step: 1m46s | Tot: 1m46s | Loss: 0.600 | Acc: 80.090% (8009/10000)                                                                                                                                                                                                                                                                                                                                                                                                                                                                                                                                                                                                                                                                                                                                                                                                                                                                                               100/100 \n"
          ]
        },
        {
          "output_type": "execute_result",
          "data": {
            "text/plain": [
              "0.8009"
            ]
          },
          "metadata": {},
          "execution_count": 6
        }
      ],
      "metadata": {}
    },
    {
      "cell_type": "code",
      "execution_count": 17,
      "source": [
        "for name,param in net_default.named_parameters():\r\n",
        "    print(name)"
      ],
      "outputs": [
        {
          "output_type": "stream",
          "name": "stdout",
          "text": [
            "module.conv1.weight\n",
            "module.bn1.weight\n",
            "module.bn1.bias\n",
            "module.layer1.0.conv1.weight\n",
            "module.layer1.0.bn1.weight\n",
            "module.layer1.0.bn1.bias\n",
            "module.layer1.0.conv2.weight\n",
            "module.layer1.0.bn2.weight\n",
            "module.layer1.0.bn2.bias\n",
            "module.layer1.1.conv1.weight\n",
            "module.layer1.1.bn1.weight\n",
            "module.layer1.1.bn1.bias\n",
            "module.layer1.1.conv2.weight\n",
            "module.layer1.1.bn2.weight\n",
            "module.layer1.1.bn2.bias\n",
            "module.layer2.0.conv1.weight\n",
            "module.layer2.0.bn1.weight\n",
            "module.layer2.0.bn1.bias\n",
            "module.layer2.0.conv2.weight\n",
            "module.layer2.0.bn2.weight\n",
            "module.layer2.0.bn2.bias\n",
            "module.layer2.0.downsample.0.weight\n",
            "module.layer2.0.downsample.1.weight\n",
            "module.layer2.0.downsample.1.bias\n",
            "module.layer2.1.conv1.weight\n",
            "module.layer2.1.bn1.weight\n",
            "module.layer2.1.bn1.bias\n",
            "module.layer2.1.conv2.weight\n",
            "module.layer2.1.bn2.weight\n",
            "module.layer2.1.bn2.bias\n",
            "module.layer3.0.conv1.weight\n",
            "module.layer3.0.bn1.weight\n",
            "module.layer3.0.bn1.bias\n",
            "module.layer3.0.conv2.weight\n",
            "module.layer3.0.bn2.weight\n",
            "module.layer3.0.bn2.bias\n",
            "module.layer3.0.downsample.0.weight\n",
            "module.layer3.0.downsample.1.weight\n",
            "module.layer3.0.downsample.1.bias\n",
            "module.layer3.1.conv1.weight\n",
            "module.layer3.1.bn1.weight\n",
            "module.layer3.1.bn1.bias\n",
            "module.layer3.1.conv2.weight\n",
            "module.layer3.1.bn2.weight\n",
            "module.layer3.1.bn2.bias\n",
            "module.layer4.0.conv1.weight\n",
            "module.layer4.0.bn1.weight\n",
            "module.layer4.0.bn1.bias\n",
            "module.layer4.0.conv2.weight\n",
            "module.layer4.0.bn2.weight\n",
            "module.layer4.0.bn2.bias\n",
            "module.layer4.0.downsample.0.weight\n",
            "module.layer4.0.downsample.1.weight\n",
            "module.layer4.0.downsample.1.bias\n",
            "module.layer4.1.conv1.weight\n",
            "module.layer4.1.bn1.weight\n",
            "module.layer4.1.bn1.bias\n",
            "module.layer4.1.conv2.weight\n",
            "module.layer4.1.bn2.weight\n",
            "module.layer4.1.bn2.bias\n",
            "module.fc.weight\n",
            "module.fc.bias\n"
          ]
        }
      ],
      "metadata": {}
    },
    {
      "cell_type": "code",
      "execution_count": 19,
      "source": [
        "for name,param in net_default.named_parameters():\r\n",
        "    if \"fc.weight\" in name:\r\n",
        "        print(param.size())"
      ],
      "outputs": [
        {
          "output_type": "stream",
          "name": "stdout",
          "text": [
            "torch.Size([1000, 512])\n"
          ]
        }
      ],
      "metadata": {}
    },
    {
      "cell_type": "code",
      "execution_count": 26,
      "source": [
        "pfi_model = pfi_core(net_256.eval(), h, w, test_batch_size, c=c,debug=True,use_cuda=torch.cuda.is_available())"
      ],
      "outputs": [],
      "metadata": {}
    },
    {
      "cell_type": "code",
      "execution_count": 12,
      "source": [
        "pfi_model.get_total_conv()\r\n",
        "#so FC layer should be the last one, 20"
      ],
      "outputs": [
        {
          "output_type": "execute_result",
          "data": {
            "text/plain": [
              "20"
            ]
          },
          "metadata": {},
          "execution_count": 12
        }
      ],
      "metadata": {}
    },
    {
      "cell_type": "code",
      "execution_count": 8,
      "source": [
        "_=pfi_model.declare_weight_fi_fc(conv_num=20,value=0,fcx_v=0,fcy_v=0)"
      ],
      "outputs": [],
      "metadata": {}
    },
    {
      "cell_type": "code",
      "execution_count": 11,
      "source": [
        "for name,param in pfi_model.get_corrupted_model().named_parameters():\r\n",
        "    if \"fc.weight\" in name:\r\n",
        "        print(param)"
      ],
      "outputs": [
        {
          "output_type": "stream",
          "name": "stdout",
          "text": [
            "Parameter containing:\n",
            "tensor([[ 0.0000, -0.0848,  0.0974,  ...,  0.1891, -0.0144,  0.0007],\n",
            "        [ 0.0941,  0.0284,  0.0587,  ..., -0.0556,  0.0267,  0.0074],\n",
            "        [ 0.2396,  0.1323,  0.0023,  ...,  0.1205,  0.0316,  0.1029],\n",
            "        ...,\n",
            "        [-0.0012, -0.0012, -0.0008,  ..., -0.0007, -0.0005, -0.0007],\n",
            "        [-0.0012, -0.0012, -0.0008,  ..., -0.0007, -0.0005, -0.0007],\n",
            "        [-0.0012, -0.0012, -0.0008,  ..., -0.0007, -0.0005, -0.0007]],\n",
            "       requires_grad=True)\n"
          ]
        }
      ],
      "metadata": {}
    },
    {
      "cell_type": "code",
      "execution_count": 18,
      "source": [
        "i=0\r\n",
        "for name, param in net_default.named_parameters():\r\n",
        "    if \"conv\" in name or \"shortcut.0\" in name or \"downsample.0\" in name or \"fc.weight\" in name:\r\n",
        "        i=i+1\r\n",
        "        print(name)\r\n",
        "\r\n",
        "print(i)"
      ],
      "outputs": [
        {
          "output_type": "stream",
          "name": "stdout",
          "text": [
            "module.conv1.weight\n",
            "module.layer1.0.conv1.weight\n",
            "module.layer1.0.conv2.weight\n",
            "module.layer1.1.conv1.weight\n",
            "module.layer1.1.conv2.weight\n",
            "module.layer2.0.conv1.weight\n",
            "module.layer2.0.conv2.weight\n",
            "module.layer2.0.downsample.0.weight\n",
            "module.layer2.1.conv1.weight\n",
            "module.layer2.1.conv2.weight\n",
            "module.layer3.0.conv1.weight\n",
            "module.layer3.0.conv2.weight\n",
            "module.layer3.0.downsample.0.weight\n",
            "module.layer3.1.conv1.weight\n",
            "module.layer3.1.conv2.weight\n",
            "module.layer4.0.conv1.weight\n",
            "module.layer4.0.conv2.weight\n",
            "module.layer4.0.downsample.0.weight\n",
            "module.layer4.1.conv1.weight\n",
            "module.layer4.1.conv2.weight\n",
            "module.fc.weight\n",
            "21\n"
          ]
        }
      ],
      "metadata": {}
    },
    {
      "cell_type": "code",
      "execution_count": null,
      "source": [],
      "outputs": [],
      "metadata": {}
    },
    {
      "cell_type": "code",
      "execution_count": 9,
      "source": [
        "model_actions.test(pfi_model.get_corrupted_model())"
      ],
      "outputs": [
        {
          "output_type": "stream",
          "name": "stdout",
          "text": [
            " [================================================================>]  Step: 1m7s | Tot: 2m54s | Loss: 0.571 | Acc: 80.700% (8070/10000)                                                                                                                                                                                                                                                                                                                                                                                                                                                                                                                                                                                                                                                                                                                                                                                                                                                                                                100/100 \n"
          ]
        },
        {
          "output_type": "execute_result",
          "data": {
            "text/plain": [
              "0.807"
            ]
          },
          "metadata": {},
          "execution_count": 9
        }
      ],
      "metadata": {}
    },
    {
      "cell_type": "markdown",
      "source": [
        "## Many inj in FC"
      ],
      "metadata": {}
    },
    {
      "cell_type": "code",
      "execution_count": 38,
      "source": [
        "mwifc=many_inj.many_w_injections_fc(pfi_model=pfi_model,n_inj=10000,corrupt_conv=20)"
      ],
      "outputs": [
        {
          "output_type": "stream",
          "name": "stdout",
          "text": [
            "[20, 20, 20, 20, 20, 20, 20, 20, 20, 20, 20, 20, 20, 20, 20, 20, 20, 20, 20, 20, 20, 20, 20, 20, 20, 20, 20, 20, 20, 20, 20, 20, 20, 20, 20, 20, 20, 20, 20, 20, 20, 20, 20, 20, 20, 20, 20, 20, 20, 20, 20, 20, 20, 20, 20, 20, 20, 20, 20, 20, 20, 20, 20, 20, 20, 20, 20, 20, 20, 20, 20, 20, 20, 20, 20, 20, 20, 20, 20, 20, 20, 20, 20, 20, 20, 20, 20, 20, 20, 20, 20, 20, 20, 20, 20, 20, 20, 20, 20, 20, 20, 20, 20, 20, 20, 20, 20, 20, 20, 20, 20, 20, 20, 20, 20, 20, 20, 20, 20, 20, 20, 20, 20, 20, 20, 20, 20, 20, 20, 20, 20, 20, 20, 20, 20, 20, 20, 20, 20, 20, 20, 20, 20, 20, 20, 20, 20, 20, 20, 20, 20, 20, 20, 20, 20, 20, 20, 20, 20, 20, 20, 20, 20, 20, 20, 20, 20, 20, 20, 20, 20, 20, 20, 20, 20, 20, 20, 20, 20, 20, 20, 20, 20, 20, 20, 20, 20, 20, 20, 20, 20, 20, 20, 20, 20, 20, 20, 20, 20, 20, 20, 20, 20, 20, 20, 20, 20, 20, 20, 20, 20, 20, 20, 20, 20, 20, 20, 20, 20, 20, 20, 20, 20, 20, 20, 20, 20, 20, 20, 20, 20, 20, 20, 20, 20, 20, 20, 20, 20, 20, 20, 20, 20, 20, 20, 20, 20, 20, 20, 20, 20, 20, 20, 20, 20, 20, 20, 20, 20, 20, 20, 20, 20, 20, 20, 20, 20, 20, 20, 20, 20, 20, 20, 20, 20, 20, 20, 20, 20, 20, 20, 20, 20, 20, 20, 20, 20, 20, 20, 20, 20, 20, 20, 20, 20, 20, 20, 20, 20, 20, 20, 20, 20, 20, 20, 20, 20, 20, 20, 20, 20, 20, 20, 20, 20, 20, 20, 20, 20, 20, 20, 20, 20, 20, 20, 20, 20, 20, 20, 20, 20, 20, 20, 20, 20, 20, 20, 20, 20, 20, 20, 20, 20, 20, 20, 20, 20, 20, 20, 20, 20, 20, 20, 20, 20, 20, 20, 20, 20, 20, 20, 20, 20, 20, 20, 20, 20, 20, 20, 20, 20, 20, 20, 20, 20, 20, 20, 20, 20, 20, 20, 20, 20, 20, 20, 20, 20, 20, 20, 20, 20, 20, 20, 20, 20, 20, 20, 20, 20, 20, 20, 20, 20, 20, 20, 20, 20, 20, 20, 20, 20, 20, 20, 20, 20, 20, 20, 20, 20, 20, 20, 20, 20, 20, 20, 20, 20, 20, 20, 20, 20, 20, 20, 20, 20, 20, 20, 20, 20, 20, 20, 20, 20, 20, 20, 20, 20, 20, 20, 20, 20, 20, 20, 20, 20, 20, 20, 20, 20, 20, 20, 20, 20, 20, 20, 20, 20, 20, 20, 20, 20, 20, 20, 20, 20, 20, 20, 20, 20, 20, 20, 20, 20, 20, 20, 20, 20, 20, 20, 20, 20, 20, 20, 20, 20, 20, 20, 20, 20, 20, 20, 20, 20, 20, 20, 20, 20, 20, 20, 20, 20, 20, 20, 20, 20, 20, 20, 20, 20, 20, 20, 20, 20, 20, 20, 20, 20, 20, 20, 20, 20, 20, 20, 20, 20, 20, 20, 20, 20, 20, 20, 20, 20, 20, 20, 20, 20, 20, 20, 20, 20, 20, 20, 20, 20, 20, 20, 20, 20, 20, 20, 20, 20, 20, 20, 20, 20, 20, 20, 20, 20, 20, 20, 20, 20, 20, 20, 20, 20, 20, 20, 20, 20, 20, 20, 20, 20, 20, 20, 20, 20, 20, 20, 20, 20, 20, 20, 20, 20, 20, 20, 20, 20, 20, 20, 20, 20, 20, 20, 20, 20, 20, 20, 20, 20, 20, 20, 20, 20, 20, 20, 20, 20, 20, 20, 20, 20, 20, 20, 20, 20, 20, 20, 20, 20, 20, 20, 20, 20, 20, 20, 20, 20, 20, 20, 20, 20, 20, 20, 20, 20, 20, 20, 20, 20, 20, 20, 20, 20, 20, 20, 20, 20, 20, 20, 20, 20, 20, 20, 20, 20, 20, 20, 20, 20, 20, 20, 20, 20, 20, 20, 20, 20, 20, 20, 20, 20, 20, 20, 20, 20, 20, 20, 20, 20, 20, 20, 20, 20, 20, 20, 20, 20, 20, 20, 20, 20, 20, 20, 20, 20, 20, 20, 20, 20, 20, 20, 20, 20, 20, 20, 20, 20, 20, 20, 20, 20, 20, 20, 20, 20, 20, 20, 20, 20, 20, 20, 20, 20, 20, 20, 20, 20, 20, 20, 20, 20, 20, 20, 20, 20, 20, 20, 20, 20, 20, 20, 20, 20, 20, 20, 20, 20, 20, 20, 20, 20, 20, 20, 20, 20, 20, 20, 20, 20, 20, 20, 20, 20, 20, 20, 20, 20, 20, 20, 20, 20, 20, 20, 20, 20, 20, 20, 20, 20, 20, 20, 20, 20, 20, 20, 20, 20, 20, 20, 20, 20, 20, 20, 20, 20, 20, 20, 20, 20, 20, 20, 20, 20, 20, 20, 20, 20, 20, 20, 20, 20, 20, 20, 20, 20, 20, 20, 20, 20, 20, 20, 20, 20, 20, 20, 20, 20, 20, 20, 20, 20, 20, 20, 20, 20, 20, 20, 20, 20, 20, 20, 20, 20, 20, 20, 20, 20, 20, 20, 20, 20, 20, 20, 20, 20, 20, 20, 20, 20, 20, 20, 20, 20, 20, 20, 20, 20, 20, 20, 20, 20, 20, 20, 20, 20, 20, 20, 20, 20, 20, 20, 20, 20, 20, 20, 20, 20, 20, 20, 20, 20, 20, 20, 20, 20, 20, 20, 20, 20, 20, 20, 20, 20, 20, 20, 20, 20, 20, 20, 20, 20, 20, 20, 20, 20, 20, 20, 20, 20, 20, 20, 20, 20, 20, 20, 20, 20, 20, 20, 20, 20, 20, 20, 20, 20, 20, 20, 20, 20, 20, 20, 20, 20, 20, 20, 20, 20, 20, 20, 20, 20, 20, 20, 20, 20, 20, 20, 20, 20, 20, 20, 20, 20, 20, 20, 20, 20, 20, 20, 20, 20, 20, 20, 20, 20, 20, 20, 20, 20, 20, 20, 20, 20, 20, 20, 20, 20, 20, 20, 20, 20, 20, 20, 20, 20, 20, 20, 20, 20, 20, 20, 20, 20, 20, 20, 20, 20, 20, 20, 20, 20, 20, 20, 20, 20, 20, 20, 20, 20, 20, 20, 20, 20, 20, 20, 20, 20, 20, 20, 20, 20, 20, 20, 20, 20, 20, 20, 20, 20, 20, 20, 20, 20, 20, 20, 20, 20, 20, 20, 20, 20, 20, 20, 20, 20, 20, 20, 20, 20, 20, 20, 20, 20, 20, 20, 20, 20, 20, 20, 20, 20, 20, 20, 20, 20, 20, 20, 20, 20, 20, 20, 20, 20, 20, 20, 20, 20, 20, 20, 20, 20, 20, 20, 20, 20, 20, 20, 20, 20, 20, 20, 20, 20, 20, 20, 20, 20, 20, 20, 20, 20, 20, 20, 20, 20, 20, 20, 20, 20, 20, 20, 20, 20, 20, 20, 20, 20, 20, 20, 20, 20, 20, 20, 20, 20, 20, 20, 20, 20, 20, 20, 20, 20, 20, 20, 20, 20, 20, 20, 20, 20, 20, 20, 20, 20, 20, 20, 20, 20, 20, 20, 20, 20, 20, 20, 20, 20, 20, 20, 20, 20, 20, 20, 20, 20, 20, 20, 20, 20, 20, 20, 20, 20, 20, 20, 20, 20, 20, 20, 20, 20, 20, 20, 20, 20, 20, 20, 20, 20, 20, 20, 20, 20, 20, 20, 20, 20, 20, 20, 20, 20, 20, 20, 20, 20, 20, 20, 20, 20, 20, 20, 20, 20, 20, 20, 20, 20, 20, 20, 20, 20, 20, 20, 20, 20, 20, 20, 20, 20, 20, 20, 20, 20, 20, 20, 20, 20, 20, 20, 20, 20, 20, 20, 20, 20, 20, 20, 20, 20, 20, 20, 20, 20, 20, 20, 20, 20, 20, 20, 20, 20, 20, 20, 20, 20, 20, 20, 20, 20, 20, 20, 20, 20, 20, 20, 20, 20, 20, 20, 20, 20, 20, 20, 20, 20, 20, 20, 20, 20, 20, 20, 20, 20, 20, 20, 20, 20, 20, 20, 20, 20, 20, 20, 20, 20, 20, 20, 20, 20, 20, 20, 20, 20, 20, 20, 20, 20, 20, 20, 20, 20, 20, 20, 20, 20, 20, 20, 20, 20, 20, 20, 20, 20, 20, 20, 20, 20, 20, 20, 20, 20, 20, 20, 20, 20, 20, 20, 20, 20, 20, 20, 20, 20, 20, 20, 20, 20, 20, 20, 20, 20, 20, 20, 20, 20, 20, 20, 20, 20, 20, 20, 20, 20, 20, 20, 20, 20, 20, 20, 20, 20, 20, 20, 20, 20, 20, 20, 20, 20, 20, 20, 20, 20, 20, 20, 20, 20, 20, 20, 20, 20, 20, 20, 20, 20, 20, 20, 20, 20, 20, 20, 20, 20, 20, 20, 20, 20, 20, 20, 20, 20, 20, 20, 20, 20, 20, 20, 20, 20, 20, 20, 20, 20, 20, 20, 20, 20, 20, 20, 20, 20, 20, 20, 20, 20, 20, 20, 20, 20, 20, 20, 20, 20, 20, 20, 20, 20, 20, 20, 20, 20, 20, 20, 20, 20, 20, 20, 20, 20, 20, 20, 20, 20, 20, 20, 20, 20, 20, 20, 20, 20, 20, 20, 20, 20, 20, 20, 20, 20, 20, 20, 20, 20, 20, 20, 20, 20, 20, 20, 20, 20, 20, 20, 20, 20, 20, 20, 20, 20, 20, 20, 20, 20, 20, 20, 20, 20, 20, 20, 20, 20, 20, 20, 20, 20, 20, 20, 20, 20, 20, 20, 20, 20, 20, 20, 20, 20, 20, 20, 20, 20, 20, 20, 20, 20, 20, 20, 20, 20, 20, 20, 20, 20, 20, 20, 20, 20, 20, 20, 20, 20, 20, 20, 20, 20, 20, 20, 20, 20, 20, 20, 20, 20, 20, 20, 20, 20, 20, 20, 20, 20, 20, 20, 20, 20, 20, 20, 20, 20, 20, 20, 20, 20, 20, 20, 20, 20, 20, 20, 20, 20, 20, 20, 20, 20, 20, 20, 20, 20, 20, 20, 20, 20, 20, 20, 20, 20, 20, 20, 20, 20, 20, 20, 20, 20, 20, 20, 20, 20, 20, 20, 20, 20, 20, 20, 20, 20, 20, 20, 20, 20, 20, 20, 20, 20, 20, 20, 20, 20, 20, 20, 20, 20, 20, 20, 20, 20, 20, 20, 20, 20, 20, 20, 20, 20, 20, 20, 20, 20, 20, 20, 20, 20, 20, 20, 20, 20, 20, 20, 20, 20, 20, 20, 20, 20, 20, 20, 20, 20, 20, 20, 20, 20, 20, 20, 20, 20, 20, 20, 20, 20, 20, 20, 20, 20, 20, 20, 20, 20, 20, 20, 20, 20, 20, 20, 20, 20, 20, 20, 20, 20, 20, 20, 20, 20, 20, 20, 20, 20, 20, 20, 20, 20, 20, 20, 20, 20, 20, 20, 20, 20, 20, 20, 20, 20, 20, 20, 20, 20, 20, 20, 20, 20, 20, 20, 20, 20, 20, 20, 20, 20, 20, 20, 20, 20, 20, 20, 20, 20, 20, 20, 20, 20, 20, 20, 20, 20, 20, 20, 20, 20, 20, 20, 20, 20, 20, 20, 20, 20, 20, 20, 20, 20, 20, 20, 20, 20, 20, 20, 20, 20, 20, 20, 20, 20, 20, 20, 20, 20, 20, 20, 20, 20, 20, 20, 20, 20, 20, 20, 20, 20, 20, 20, 20, 20, 20, 20, 20, 20, 20, 20, 20, 20, 20, 20, 20, 20, 20, 20, 20, 20, 20, 20, 20, 20, 20, 20, 20, 20, 20, 20, 20, 20, 20, 20, 20, 20, 20, 20, 20, 20, 20, 20, 20, 20, 20, 20, 20, 20, 20, 20, 20, 20, 20, 20, 20, 20, 20, 20, 20, 20, 20, 20, 20, 20, 20, 20, 20, 20, 20, 20, 20, 20, 20, 20, 20, 20, 20, 20, 20, 20, 20, 20, 20, 20, 20, 20, 20, 20, 20, 20, 20, 20, 20, 20, 20, 20, 20, 20, 20, 20, 20, 20, 20, 20, 20, 20, 20, 20, 20, 20, 20, 20, 20, 20, 20, 20, 20, 20, 20, 20, 20, 20, 20, 20, 20, 20, 20, 20, 20, 20, 20, 20, 20, 20, 20, 20, 20, 20, 20, 20, 20, 20, 20, 20, 20, 20, 20, 20, 20, 20, 20, 20, 20, 20, 20, 20, 20, 20, 20, 20, 20, 20, 20, 20, 20, 20, 20, 20, 20, 20, 20, 20, 20, 20, 20, 20, 20, 20, 20, 20, 20, 20, 20, 20, 20, 20, 20, 20, 20, 20, 20, 20, 20, 20, 20, 20, 20, 20, 20, 20, 20, 20, 20, 20, 20, 20, 20, 20, 20, 20, 20, 20, 20, 20, 20, 20, 20, 20, 20, 20, 20, 20, 20, 20, 20, 20, 20, 20, 20, 20, 20, 20, 20, 20, 20, 20, 20, 20, 20, 20, 20, 20, 20, 20, 20, 20, 20, 20, 20, 20, 20, 20, 20, 20, 20, 20, 20, 20, 20, 20, 20, 20, 20, 20, 20, 20, 20, 20, 20, 20, 20, 20, 20, 20, 20, 20, 20, 20, 20, 20, 20, 20, 20, 20, 20, 20, 20, 20, 20, 20, 20, 20, 20, 20, 20, 20, 20, 20, 20, 20, 20, 20, 20, 20, 20, 20, 20, 20, 20, 20, 20, 20, 20, 20, 20, 20, 20, 20, 20, 20, 20, 20, 20, 20, 20, 20, 20, 20, 20, 20, 20, 20, 20, 20, 20, 20, 20, 20, 20, 20, 20, 20, 20, 20, 20, 20, 20, 20, 20, 20, 20, 20, 20, 20, 20, 20, 20, 20, 20, 20, 20, 20, 20, 20, 20, 20, 20, 20, 20, 20, 20, 20, 20, 20, 20, 20, 20, 20, 20, 20, 20, 20, 20, 20, 20, 20, 20, 20, 20, 20, 20, 20, 20, 20, 20, 20, 20, 20, 20, 20, 20, 20, 20, 20, 20, 20, 20, 20, 20, 20, 20, 20, 20, 20, 20, 20, 20, 20, 20, 20, 20, 20, 20, 20, 20, 20, 20, 20, 20, 20, 20, 20, 20, 20, 20, 20, 20, 20, 20, 20, 20, 20, 20, 20, 20, 20, 20, 20, 20, 20, 20, 20, 20, 20, 20, 20, 20, 20, 20, 20, 20, 20, 20, 20, 20, 20, 20, 20, 20, 20, 20, 20, 20, 20, 20, 20, 20, 20, 20, 20, 20, 20, 20, 20, 20, 20, 20, 20, 20, 20, 20, 20, 20, 20, 20, 20, 20, 20, 20, 20, 20, 20, 20, 20, 20, 20, 20, 20, 20, 20, 20, 20, 20, 20, 20, 20, 20, 20, 20, 20, 20, 20, 20, 20, 20, 20, 20, 20, 20, 20, 20, 20, 20, 20, 20, 20, 20, 20, 20, 20, 20, 20, 20, 20, 20, 20, 20, 20, 20, 20, 20, 20, 20, 20, 20, 20, 20, 20, 20, 20, 20, 20, 20, 20, 20, 20, 20, 20, 20, 20, 20, 20, 20, 20, 20, 20, 20, 20, 20, 20, 20, 20, 20, 20, 20, 20, 20, 20, 20, 20, 20, 20, 20, 20, 20, 20, 20, 20, 20, 20, 20, 20, 20, 20, 20, 20, 20, 20, 20, 20, 20, 20, 20, 20, 20, 20, 20, 20, 20, 20, 20, 20, 20, 20, 20, 20, 20, 20, 20, 20, 20, 20, 20, 20, 20, 20, 20, 20, 20, 20, 20, 20, 20, 20, 20, 20, 20, 20, 20, 20, 20, 20, 20, 20, 20, 20, 20, 20, 20, 20, 20, 20, 20, 20, 20, 20, 20, 20, 20, 20, 20, 20, 20, 20, 20, 20, 20, 20, 20, 20, 20, 20, 20, 20, 20, 20, 20, 20, 20, 20, 20, 20, 20, 20, 20, 20, 20, 20, 20, 20, 20, 20, 20, 20, 20, 20, 20, 20, 20, 20, 20, 20, 20, 20, 20, 20, 20, 20, 20, 20, 20, 20, 20, 20, 20, 20, 20, 20, 20, 20, 20, 20, 20, 20, 20, 20, 20, 20, 20, 20, 20, 20, 20, 20, 20, 20, 20, 20, 20, 20, 20, 20, 20, 20, 20, 20, 20, 20, 20, 20, 20, 20, 20, 20, 20, 20, 20, 20, 20, 20, 20, 20, 20, 20, 20, 20, 20, 20, 20, 20, 20, 20, 20, 20, 20, 20, 20, 20, 20, 20, 20, 20, 20, 20, 20, 20, 20, 20, 20, 20, 20, 20, 20, 20, 20, 20, 20, 20, 20, 20, 20, 20, 20, 20, 20, 20, 20, 20, 20, 20, 20, 20, 20, 20, 20, 20, 20, 20, 20, 20, 20, 20, 20, 20, 20, 20, 20, 20, 20, 20, 20, 20, 20, 20, 20, 20, 20, 20, 20, 20, 20, 20, 20, 20, 20, 20, 20, 20, 20, 20, 20, 20, 20, 20, 20, 20, 20, 20, 20, 20, 20, 20, 20, 20, 20, 20, 20, 20, 20, 20, 20, 20, 20, 20, 20, 20, 20, 20, 20, 20, 20, 20, 20, 20, 20, 20, 20, 20, 20, 20, 20, 20, 20, 20, 20, 20, 20, 20, 20, 20, 20, 20, 20, 20, 20, 20, 20, 20, 20, 20, 20, 20, 20, 20, 20, 20, 20, 20, 20, 20, 20, 20, 20, 20, 20, 20, 20, 20, 20, 20, 20, 20, 20, 20, 20, 20, 20, 20, 20, 20, 20, 20, 20, 20, 20, 20, 20, 20, 20, 20, 20, 20, 20, 20, 20, 20, 20, 20, 20, 20, 20, 20, 20, 20, 20, 20, 20, 20, 20, 20, 20, 20, 20, 20, 20, 20, 20, 20, 20, 20, 20, 20, 20, 20, 20, 20, 20, 20, 20, 20, 20, 20, 20, 20, 20, 20, 20, 20, 20, 20, 20, 20, 20, 20, 20, 20, 20, 20, 20, 20, 20, 20, 20, 20, 20, 20, 20, 20, 20, 20, 20, 20, 20, 20, 20, 20, 20, 20, 20, 20, 20, 20, 20, 20, 20, 20, 20, 20, 20, 20, 20, 20, 20, 20, 20, 20, 20, 20, 20, 20, 20, 20, 20, 20, 20, 20, 20, 20, 20, 20, 20, 20, 20, 20, 20, 20, 20, 20, 20, 20, 20, 20, 20, 20, 20, 20, 20, 20, 20, 20, 20, 20, 20, 20, 20, 20, 20, 20, 20, 20, 20, 20, 20, 20, 20, 20, 20, 20, 20, 20, 20, 20, 20, 20, 20, 20, 20, 20, 20, 20, 20, 20, 20, 20, 20, 20, 20, 20, 20, 20, 20, 20, 20, 20, 20, 20, 20, 20, 20, 20, 20, 20, 20, 20, 20, 20, 20, 20, 20, 20, 20, 20, 20, 20, 20, 20, 20, 20, 20, 20, 20, 20, 20, 20, 20, 20, 20, 20, 20, 20, 20, 20, 20, 20, 20, 20, 20, 20, 20, 20, 20, 20, 20, 20, 20, 20, 20, 20, 20, 20, 20, 20, 20, 20, 20, 20, 20, 20, 20, 20, 20, 20, 20, 20, 20, 20, 20, 20, 20, 20, 20, 20, 20, 20, 20, 20, 20, 20, 20, 20, 20, 20, 20, 20, 20, 20, 20, 20, 20, 20, 20, 20, 20, 20, 20, 20, 20, 20, 20, 20, 20, 20, 20, 20, 20, 20, 20, 20, 20, 20, 20, 20, 20, 20, 20, 20, 20, 20, 20, 20, 20, 20, 20, 20, 20, 20, 20, 20, 20, 20, 20, 20, 20, 20, 20, 20, 20, 20, 20, 20, 20, 20, 20, 20, 20, 20, 20, 20, 20, 20, 20, 20, 20, 20, 20, 20, 20, 20, 20, 20, 20, 20, 20, 20, 20, 20, 20, 20, 20, 20, 20, 20, 20, 20, 20, 20, 20, 20, 20, 20, 20, 20, 20, 20, 20, 20, 20, 20, 20, 20, 20, 20, 20, 20, 20, 20, 20, 20, 20, 20, 20, 20, 20, 20, 20, 20, 20, 20, 20, 20, 20, 20, 20, 20, 20, 20, 20, 20, 20, 20, 20, 20, 20, 20, 20, 20, 20, 20, 20, 20, 20, 20, 20, 20, 20, 20, 20, 20, 20, 20, 20, 20, 20, 20, 20, 20, 20, 20, 20, 20, 20, 20, 20, 20, 20, 20, 20, 20, 20, 20, 20, 20, 20, 20, 20, 20, 20, 20, 20, 20, 20, 20, 20, 20, 20, 20, 20, 20, 20, 20, 20, 20, 20, 20, 20, 20, 20, 20, 20, 20, 20, 20, 20, 20, 20, 20, 20, 20, 20, 20, 20, 20, 20, 20, 20, 20, 20, 20, 20, 20, 20, 20, 20, 20, 20, 20, 20, 20, 20, 20, 20, 20, 20, 20, 20, 20, 20, 20, 20, 20, 20, 20, 20, 20, 20, 20, 20, 20, 20, 20, 20, 20, 20, 20, 20, 20, 20, 20, 20, 20, 20, 20, 20, 20, 20, 20, 20, 20, 20, 20, 20, 20, 20, 20, 20, 20, 20, 20, 20, 20, 20, 20, 20, 20, 20, 20, 20, 20, 20, 20, 20, 20, 20, 20, 20, 20, 20, 20, 20, 20, 20, 20, 20, 20, 20, 20, 20, 20, 20, 20, 20, 20, 20, 20, 20, 20, 20, 20, 20, 20, 20, 20, 20, 20, 20, 20, 20, 20, 20, 20, 20, 20, 20, 20, 20, 20, 20, 20, 20, 20, 20, 20, 20, 20, 20, 20, 20, 20, 20, 20, 20, 20, 20, 20, 20, 20, 20, 20, 20, 20, 20, 20, 20, 20, 20, 20, 20, 20, 20, 20, 20, 20, 20, 20, 20, 20, 20, 20, 20, 20, 20, 20, 20, 20, 20, 20, 20, 20, 20, 20, 20, 20, 20, 20, 20, 20, 20, 20, 20, 20, 20, 20, 20, 20, 20, 20, 20, 20, 20, 20, 20, 20, 20, 20, 20, 20, 20, 20, 20, 20, 20, 20, 20, 20, 20, 20, 20, 20, 20, 20, 20, 20, 20, 20, 20, 20, 20, 20, 20, 20, 20, 20, 20, 20, 20, 20, 20, 20, 20, 20, 20, 20, 20, 20, 20, 20, 20, 20, 20, 20, 20, 20, 20, 20, 20, 20, 20, 20, 20, 20, 20, 20, 20, 20, 20, 20, 20, 20, 20, 20, 20, 20, 20, 20, 20, 20, 20, 20, 20, 20, 20, 20, 20, 20, 20, 20, 20, 20, 20, 20, 20, 20, 20, 20, 20, 20, 20, 20, 20, 20, 20, 20, 20, 20, 20, 20, 20, 20, 20, 20, 20, 20, 20, 20, 20, 20, 20, 20, 20, 20, 20, 20, 20, 20, 20, 20, 20, 20, 20, 20, 20, 20, 20, 20, 20, 20, 20, 20, 20, 20, 20, 20, 20, 20, 20, 20, 20, 20, 20, 20, 20, 20, 20, 20, 20, 20, 20, 20, 20, 20, 20, 20, 20, 20, 20, 20, 20, 20, 20, 20, 20, 20, 20, 20, 20, 20, 20, 20, 20, 20, 20, 20, 20, 20, 20, 20, 20, 20, 20, 20, 20, 20, 20, 20, 20, 20, 20, 20, 20, 20, 20, 20, 20, 20, 20, 20, 20, 20, 20, 20, 20, 20, 20, 20, 20, 20, 20, 20, 20, 20, 20, 20, 20, 20, 20, 20, 20, 20, 20, 20, 20, 20, 20, 20, 20, 20, 20, 20, 20, 20, 20, 20, 20, 20, 20, 20, 20, 20, 20, 20, 20, 20, 20, 20, 20, 20, 20, 20, 20, 20, 20, 20, 20, 20, 20, 20, 20, 20, 20, 20, 20, 20, 20, 20, 20, 20, 20, 20, 20, 20, 20, 20, 20, 20, 20, 20, 20, 20, 20, 20, 20, 20, 20, 20, 20, 20, 20, 20, 20, 20, 20, 20, 20, 20, 20, 20, 20, 20, 20, 20, 20, 20, 20, 20, 20, 20, 20, 20, 20, 20, 20, 20, 20, 20, 20, 20, 20, 20, 20, 20, 20, 20, 20, 20, 20, 20, 20, 20, 20, 20, 20, 20, 20, 20, 20, 20, 20, 20, 20, 20, 20, 20, 20, 20, 20, 20, 20, 20, 20, 20, 20, 20, 20, 20, 20, 20, 20, 20, 20, 20, 20, 20, 20, 20, 20, 20, 20, 20, 20, 20, 20, 20, 20, 20, 20, 20, 20, 20, 20, 20, 20, 20, 20, 20, 20, 20, 20, 20, 20, 20, 20, 20, 20, 20, 20, 20, 20, 20, 20, 20, 20, 20, 20, 20, 20, 20, 20, 20, 20, 20, 20, 20, 20, 20, 20, 20, 20, 20, 20, 20, 20, 20, 20, 20, 20, 20, 20, 20, 20, 20, 20, 20, 20, 20, 20, 20, 20, 20, 20, 20, 20, 20, 20, 20, 20, 20, 20, 20, 20, 20, 20, 20, 20, 20, 20, 20, 20, 20, 20, 20, 20, 20, 20, 20, 20, 20, 20, 20, 20, 20, 20, 20, 20, 20, 20, 20, 20, 20, 20, 20, 20, 20, 20, 20, 20, 20, 20, 20, 20, 20, 20, 20, 20, 20, 20, 20, 20, 20, 20, 20, 20, 20, 20, 20, 20, 20, 20, 20, 20, 20, 20, 20, 20, 20, 20, 20, 20, 20, 20, 20, 20, 20, 20, 20, 20, 20, 20, 20, 20, 20, 20, 20, 20, 20, 20, 20, 20, 20, 20, 20, 20, 20, 20, 20, 20, 20, 20, 20, 20, 20, 20, 20, 20, 20, 20, 20, 20, 20, 20, 20, 20, 20, 20, 20, 20, 20, 20, 20, 20, 20, 20, 20, 20, 20, 20, 20, 20, 20, 20, 20, 20, 20, 20, 20, 20, 20, 20, 20, 20, 20, 20, 20, 20, 20, 20, 20, 20, 20, 20, 20, 20, 20, 20, 20, 20, 20, 20, 20, 20, 20, 20, 20, 20, 20, 20, 20, 20, 20, 20, 20, 20, 20, 20, 20, 20, 20, 20, 20, 20, 20, 20, 20, 20, 20, 20, 20, 20, 20, 20, 20, 20, 20, 20, 20, 20, 20, 20, 20, 20, 20, 20, 20, 20, 20, 20, 20, 20, 20, 20, 20, 20, 20, 20, 20, 20, 20, 20, 20, 20, 20, 20, 20, 20, 20, 20, 20, 20, 20, 20, 20, 20, 20, 20, 20, 20, 20, 20, 20, 20, 20, 20, 20, 20, 20, 20, 20, 20, 20, 20, 20, 20, 20, 20, 20, 20, 20, 20, 20, 20, 20, 20, 20, 20, 20, 20, 20, 20, 20, 20, 20, 20, 20, 20, 20, 20, 20, 20, 20, 20, 20, 20, 20, 20, 20, 20, 20, 20, 20, 20, 20, 20, 20, 20, 20, 20, 20, 20, 20, 20, 20, 20, 20, 20, 20, 20, 20, 20, 20, 20, 20, 20, 20, 20, 20, 20, 20, 20, 20, 20, 20, 20, 20, 20, 20, 20, 20, 20, 20, 20, 20, 20, 20, 20, 20, 20, 20, 20, 20, 20, 20, 20, 20, 20, 20, 20, 20, 20, 20, 20, 20, 20, 20, 20, 20, 20, 20, 20, 20, 20, 20, 20, 20, 20, 20, 20, 20, 20, 20, 20, 20, 20, 20, 20, 20, 20, 20, 20, 20, 20, 20, 20, 20, 20, 20, 20, 20, 20, 20, 20, 20, 20, 20, 20, 20, 20, 20, 20, 20, 20, 20, 20, 20, 20, 20, 20, 20, 20, 20, 20, 20, 20, 20, 20, 20, 20, 20, 20, 20, 20, 20, 20, 20, 20, 20, 20, 20, 20, 20, 20, 20, 20, 20, 20, 20, 20, 20, 20, 20, 20, 20, 20, 20, 20, 20, 20, 20, 20, 20, 20, 20, 20, 20, 20, 20, 20, 20, 20, 20, 20, 20, 20, 20, 20, 20, 20, 20, 20, 20, 20, 20, 20, 20, 20, 20, 20, 20, 20, 20, 20, 20, 20, 20, 20, 20, 20, 20, 20, 20, 20, 20, 20, 20, 20, 20, 20, 20, 20, 20, 20, 20, 20, 20, 20, 20, 20, 20, 20, 20, 20, 20, 20, 20, 20, 20, 20, 20, 20, 20, 20, 20, 20, 20, 20, 20, 20, 20, 20, 20, 20, 20, 20, 20, 20, 20, 20, 20, 20, 20, 20, 20, 20, 20, 20, 20, 20, 20, 20, 20, 20, 20, 20, 20, 20, 20, 20, 20, 20, 20, 20, 20, 20, 20, 20, 20, 20, 20, 20, 20, 20, 20, 20, 20, 20, 20, 20, 20, 20, 20, 20, 20, 20, 20, 20, 20, 20, 20, 20, 20, 20, 20, 20, 20, 20, 20, 20, 20, 20, 20, 20, 20, 20, 20, 20, 20, 20, 20, 20, 20, 20, 20, 20, 20, 20, 20, 20, 20, 20, 20, 20, 20, 20, 20, 20, 20, 20, 20, 20, 20, 20, 20, 20, 20, 20, 20, 20, 20, 20, 20, 20, 20, 20, 20, 20, 20, 20, 20, 20, 20, 20, 20, 20, 20, 20, 20, 20, 20, 20, 20, 20, 20, 20, 20, 20, 20, 20, 20, 20, 20, 20, 20, 20, 20, 20, 20, 20, 20, 20, 20, 20, 20, 20, 20, 20, 20, 20, 20, 20, 20, 20, 20, 20, 20, 20, 20, 20, 20, 20, 20, 20, 20, 20, 20, 20, 20, 20, 20, 20, 20, 20, 20, 20, 20, 20, 20, 20, 20, 20, 20, 20, 20, 20, 20, 20, 20, 20, 20, 20, 20, 20, 20, 20, 20, 20, 20, 20, 20, 20, 20, 20, 20, 20, 20, 20, 20, 20, 20, 20, 20, 20, 20, 20, 20, 20, 20, 20, 20, 20, 20, 20, 20, 20, 20, 20, 20, 20, 20, 20, 20, 20, 20, 20, 20, 20, 20, 20, 20, 20, 20, 20, 20, 20, 20, 20, 20, 20, 20, 20, 20, 20, 20, 20, 20, 20, 20, 20, 20, 20, 20, 20, 20, 20, 20, 20, 20, 20, 20, 20, 20, 20, 20, 20, 20, 20, 20, 20, 20, 20, 20, 20, 20, 20, 20, 20, 20, 20, 20, 20, 20, 20, 20, 20, 20, 20, 20, 20, 20, 20, 20, 20, 20, 20, 20, 20, 20, 20, 20, 20, 20, 20, 20, 20, 20, 20, 20, 20, 20, 20, 20, 20, 20, 20, 20, 20, 20, 20, 20, 20, 20, 20, 20, 20, 20, 20, 20, 20, 20, 20, 20, 20, 20, 20, 20, 20, 20, 20, 20, 20, 20, 20, 20, 20, 20, 20, 20, 20, 20, 20, 20, 20, 20, 20, 20, 20, 20, 20, 20, 20, 20, 20, 20, 20, 20, 20, 20, 20, 20, 20, 20, 20, 20, 20, 20, 20, 20, 20, 20, 20, 20, 20, 20, 20, 20, 20, 20, 20, 20, 20, 20, 20, 20, 20, 20, 20, 20, 20, 20, 20, 20, 20, 20, 20, 20, 20, 20, 20, 20, 20, 20, 20, 20, 20, 20, 20, 20, 20, 20, 20, 20, 20, 20, 20, 20, 20, 20, 20, 20, 20, 20, 20, 20, 20, 20, 20, 20, 20, 20, 20, 20, 20, 20, 20, 20, 20, 20, 20, 20, 20, 20, 20, 20, 20, 20, 20, 20, 20, 20, 20, 20, 20, 20, 20, 20, 20, 20, 20, 20, 20, 20, 20, 20, 20, 20, 20, 20, 20, 20, 20, 20, 20, 20, 20, 20, 20, 20, 20, 20, 20, 20, 20, 20, 20, 20, 20, 20, 20, 20, 20, 20, 20, 20, 20, 20, 20, 20, 20, 20, 20, 20, 20, 20, 20, 20, 20, 20, 20, 20, 20, 20, 20, 20, 20, 20, 20, 20, 20, 20, 20, 20, 20, 20, 20, 20, 20, 20, 20, 20, 20, 20, 20, 20, 20, 20, 20, 20, 20, 20, 20, 20, 20, 20, 20, 20, 20, 20, 20, 20, 20, 20, 20, 20, 20, 20, 20, 20, 20, 20, 20, 20, 20, 20, 20, 20, 20, 20, 20, 20, 20, 20, 20, 20, 20, 20, 20, 20, 20, 20, 20, 20, 20, 20, 20, 20, 20, 20, 20, 20, 20, 20, 20, 20, 20, 20, 20, 20, 20, 20, 20, 20, 20, 20, 20, 20, 20, 20, 20, 20, 20, 20, 20, 20, 20, 20, 20, 20, 20, 20, 20, 20, 20, 20, 20, 20, 20, 20, 20, 20, 20, 20, 20, 20, 20, 20, 20, 20, 20, 20, 20, 20, 20, 20, 20, 20, 20, 20, 20, 20, 20, 20, 20, 20, 20, 20, 20, 20, 20, 20, 20, 20, 20, 20, 20, 20, 20, 20, 20, 20, 20, 20, 20, 20, 20, 20, 20, 20, 20, 20, 20, 20, 20, 20, 20, 20, 20, 20, 20, 20, 20, 20, 20, 20, 20, 20, 20, 20, 20, 20, 20, 20, 20, 20, 20, 20, 20, 20, 20, 20, 20, 20, 20, 20, 20, 20, 20, 20, 20, 20, 20, 20, 20, 20, 20, 20, 20, 20, 20, 20, 20, 20, 20, 20, 20, 20, 20, 20, 20, 20, 20, 20, 20, 20, 20, 20, 20, 20, 20, 20, 20, 20, 20, 20, 20, 20, 20, 20, 20, 20, 20, 20, 20, 20, 20, 20, 20, 20, 20, 20, 20, 20, 20, 20, 20, 20, 20, 20, 20, 20, 20, 20, 20, 20, 20, 20, 20, 20, 20, 20, 20, 20, 20, 20, 20, 20, 20, 20, 20, 20, 20, 20, 20, 20, 20, 20, 20, 20, 20, 20, 20, 20, 20, 20, 20, 20, 20, 20, 20, 20, 20, 20, 20, 20, 20, 20, 20, 20, 20, 20, 20, 20, 20, 20, 20, 20, 20, 20, 20, 20, 20, 20, 20, 20, 20, 20, 20, 20, 20, 20, 20, 20, 20, 20, 20, 20, 20, 20, 20, 20, 20, 20, 20, 20, 20, 20, 20, 20, 20, 20, 20, 20, 20, 20, 20, 20, 20, 20, 20, 20, 20, 20, 20, 20, 20, 20, 20, 20, 20, 20, 20, 20, 20, 20, 20, 20, 20, 20, 20, 20, 20, 20, 20, 20, 20, 20, 20, 20, 20, 20, 20, 20, 20, 20, 20, 20, 20, 20, 20, 20, 20, 20, 20, 20, 20, 20, 20, 20, 20, 20, 20, 20, 20, 20, 20, 20, 20, 20, 20, 20, 20, 20, 20, 20, 20, 20, 20, 20, 20, 20, 20, 20, 20, 20, 20, 20, 20, 20, 20, 20, 20, 20, 20, 20, 20, 20, 20, 20, 20, 20, 20, 20, 20, 20, 20, 20, 20, 20, 20, 20, 20, 20, 20, 20, 20, 20, 20, 20, 20, 20, 20, 20, 20, 20, 20, 20, 20, 20, 20, 20, 20, 20, 20, 20, 20, 20, 20, 20, 20, 20, 20, 20, 20, 20, 20, 20, 20, 20, 20, 20, 20, 20, 20, 20, 20, 20, 20, 20, 20, 20, 20, 20, 20, 20, 20, 20, 20, 20, 20, 20, 20, 20, 20, 20, 20, 20, 20, 20, 20, 20, 20, 20, 20, 20, 20, 20, 20, 20, 20, 20, 20, 20, 20, 20, 20, 20, 20, 20, 20, 20, 20, 20, 20, 20, 20, 20, 20, 20, 20, 20, 20, 20, 20, 20, 20, 20, 20, 20, 20, 20, 20, 20, 20, 20, 20, 20, 20, 20, 20, 20, 20, 20, 20, 20, 20, 20, 20, 20, 20, 20, 20, 20, 20, 20, 20, 20, 20, 20, 20, 20, 20, 20, 20, 20, 20, 20, 20, 20, 20, 20, 20, 20, 20, 20, 20, 20, 20, 20, 20, 20, 20, 20, 20, 20, 20, 20, 20, 20, 20, 20, 20, 20, 20, 20, 20, 20, 20, 20, 20, 20, 20, 20, 20, 20, 20, 20, 20, 20, 20, 20, 20, 20, 20, 20, 20, 20, 20, 20, 20, 20, 20, 20, 20, 20, 20, 20, 20, 20, 20, 20, 20, 20, 20, 20, 20, 20, 20, 20, 20, 20, 20, 20, 20, 20, 20, 20, 20, 20, 20, 20, 20, 20, 20, 20, 20, 20, 20, 20, 20, 20, 20, 20, 20, 20, 20, 20, 20, 20, 20, 20, 20, 20, 20, 20, 20, 20, 20, 20, 20, 20, 20, 20, 20, 20, 20, 20, 20, 20, 20, 20, 20, 20, 20, 20, 20, 20, 20, 20, 20, 20, 20, 20, 20, 20, 20, 20, 20, 20, 20, 20, 20, 20, 20, 20, 20, 20, 20, 20, 20, 20, 20, 20, 20, 20, 20, 20, 20, 20, 20, 20, 20, 20, 20, 20, 20, 20, 20, 20, 20, 20, 20, 20, 20, 20, 20, 20, 20, 20, 20, 20, 20, 20, 20, 20, 20, 20, 20, 20, 20, 20, 20, 20, 20, 20, 20, 20, 20, 20, 20, 20, 20, 20, 20, 20, 20, 20, 20, 20, 20, 20, 20, 20, 20, 20, 20, 20, 20, 20, 20, 20, 20, 20, 20, 20, 20, 20, 20, 20, 20, 20, 20, 20, 20, 20, 20, 20, 20, 20, 20, 20, 20, 20, 20, 20, 20, 20, 20, 20, 20, 20, 20, 20, 20, 20, 20, 20, 20, 20, 20, 20, 20, 20, 20, 20, 20, 20, 20, 20, 20, 20, 20, 20, 20, 20, 20, 20, 20, 20, 20, 20, 20, 20, 20, 20, 20, 20, 20, 20, 20, 20, 20, 20, 20, 20, 20, 20, 20, 20, 20, 20, 20, 20, 20, 20, 20, 20, 20, 20, 20, 20, 20, 20, 20, 20, 20, 20, 20, 20, 20, 20, 20, 20, 20, 20, 20, 20, 20, 20, 20, 20, 20, 20, 20, 20, 20, 20, 20, 20, 20, 20, 20, 20, 20, 20, 20, 20, 20, 20, 20, 20, 20, 20, 20, 20, 20, 20, 20, 20, 20, 20, 20, 20, 20, 20, 20, 20, 20, 20, 20, 20, 20, 20, 20, 20, 20, 20, 20, 20, 20, 20, 20, 20, 20, 20, 20, 20, 20, 20, 20, 20, 20, 20, 20, 20, 20, 20, 20, 20, 20, 20, 20, 20, 20, 20, 20, 20, 20, 20, 20, 20, 20, 20, 20, 20, 20, 20, 20, 20, 20, 20, 20, 20, 20, 20, 20, 20, 20, 20, 20, 20, 20, 20, 20, 20, 20, 20, 20, 20, 20, 20, 20, 20, 20, 20, 20, 20, 20, 20, 20, 20, 20, 20, 20, 20, 20, 20, 20, 20, 20, 20, 20, 20, 20, 20, 20, 20, 20, 20, 20, 20, 20, 20, 20, 20, 20, 20, 20, 20, 20, 20, 20, 20, 20, 20, 20, 20, 20, 20, 20, 20, 20, 20, 20, 20, 20, 20, 20, 20, 20, 20, 20, 20, 20, 20, 20, 20, 20, 20, 20, 20, 20, 20, 20, 20, 20, 20, 20, 20, 20, 20, 20, 20, 20, 20, 20, 20, 20, 20, 20, 20, 20, 20, 20, 20, 20, 20, 20, 20, 20, 20, 20, 20, 20, 20, 20, 20, 20, 20, 20, 20, 20, 20, 20, 20, 20, 20, 20, 20, 20, 20, 20, 20, 20, 20, 20, 20, 20, 20, 20, 20, 20, 20, 20, 20, 20, 20, 20, 20, 20, 20, 20, 20, 20, 20, 20, 20, 20, 20, 20, 20, 20, 20, 20, 20, 20, 20, 20, 20, 20, 20, 20, 20, 20, 20, 20, 20, 20, 20, 20, 20, 20, 20, 20, 20, 20, 20, 20, 20, 20, 20, 20, 20, 20, 20, 20, 20, 20, 20, 20, 20, 20, 20, 20, 20, 20, 20, 20, 20, 20, 20, 20, 20, 20, 20, 20, 20, 20, 20, 20, 20, 20, 20, 20, 20, 20, 20, 20, 20, 20, 20, 20, 20, 20, 20, 20, 20, 20, 20, 20, 20, 20, 20, 20, 20, 20, 20, 20, 20, 20, 20, 20, 20, 20, 20, 20, 20, 20, 20, 20, 20, 20, 20, 20, 20, 20, 20, 20, 20, 20, 20, 20, 20, 20, 20, 20, 20, 20, 20, 20, 20, 20, 20, 20, 20, 20, 20, 20, 20, 20, 20, 20, 20, 20, 20, 20, 20, 20, 20, 20, 20, 20, 20, 20, 20, 20, 20, 20, 20, 20, 20, 20, 20, 20, 20, 20, 20, 20, 20, 20, 20, 20, 20, 20, 20, 20, 20, 20, 20, 20, 20, 20, 20, 20, 20, 20, 20, 20, 20, 20, 20, 20, 20, 20, 20, 20, 20, 20, 20, 20, 20, 20, 20, 20, 20, 20, 20, 20, 20, 20, 20, 20, 20, 20, 20, 20, 20, 20, 20, 20, 20, 20, 20, 20, 20, 20, 20, 20, 20, 20, 20, 20, 20, 20, 20, 20, 20, 20, 20, 20, 20, 20, 20, 20, 20, 20, 20, 20, 20, 20, 20, 20, 20, 20, 20, 20, 20, 20, 20, 20, 20, 20, 20, 20, 20, 20, 20, 20, 20, 20, 20, 20, 20, 20, 20, 20, 20, 20, 20, 20, 20, 20, 20, 20, 20, 20, 20, 20, 20, 20, 20, 20, 20, 20, 20, 20, 20, 20, 20, 20, 20, 20, 20, 20, 20, 20, 20, 20, 20, 20, 20, 20, 20, 20, 20, 20, 20, 20, 20, 20, 20, 20, 20, 20, 20, 20, 20, 20, 20, 20, 20, 20, 20, 20, 20, 20, 20, 20, 20, 20, 20, 20, 20, 20, 20, 20, 20, 20, 20, 20, 20, 20, 20, 20, 20, 20, 20, 20, 20, 20, 20, 20, 20, 20, 20, 20, 20, 20, 20, 20, 20, 20, 20, 20, 20, 20, 20, 20, 20, 20, 20, 20, 20, 20, 20, 20, 20, 20, 20, 20, 20, 20, 20, 20, 20, 20, 20, 20, 20, 20, 20, 20, 20, 20, 20, 20, 20, 20, 20, 20, 20, 20, 20, 20, 20, 20, 20, 20, 20, 20, 20, 20, 20, 20, 20, 20, 20, 20, 20, 20, 20, 20, 20, 20, 20, 20, 20, 20, 20, 20, 20, 20, 20, 20, 20, 20, 20, 20, 20, 20, 20, 20, 20, 20, 20, 20, 20, 20, 20, 20, 20, 20, 20, 20, 20, 20, 20, 20, 20, 20, 20, 20, 20, 20, 20, 20, 20, 20, 20, 20, 20, 20, 20, 20, 20, 20, 20, 20, 20, 20, 20, 20, 20, 20, 20, 20, 20, 20, 20, 20, 20, 20, 20, 20, 20, 20, 20, 20, 20, 20, 20, 20, 20, 20, 20, 20, 20, 20, 20, 20, 20, 20, 20, 20, 20, 20, 20, 20, 20, 20, 20, 20, 20, 20, 20, 20, 20, 20, 20, 20, 20, 20, 20, 20, 20, 20, 20, 20, 20, 20, 20, 20, 20, 20, 20, 20, 20, 20, 20, 20, 20, 20, 20, 20, 20, 20, 20, 20, 20, 20, 20, 20, 20, 20, 20, 20, 20, 20, 20, 20, 20, 20, 20, 20, 20, 20, 20, 20, 20, 20, 20, 20, 20, 20, 20, 20, 20, 20, 20, 20, 20, 20, 20, 20, 20, 20, 20, 20, 20, 20, 20, 20, 20, 20, 20, 20, 20, 20, 20, 20, 20, 20, 20, 20, 20, 20, 20, 20, 20, 20, 20, 20, 20, 20, 20, 20, 20, 20, 20, 20, 20, 20, 20, 20, 20, 20, 20, 20, 20, 20, 20, 20, 20, 20, 20, 20, 20, 20, 20, 20, 20, 20, 20, 20, 20, 20, 20, 20, 20, 20, 20, 20, 20, 20, 20, 20, 20, 20, 20, 20, 20, 20, 20, 20, 20, 20, 20, 20, 20, 20, 20, 20, 20, 20, 20, 20, 20, 20, 20, 20, 20, 20, 20, 20, 20, 20, 20, 20, 20, 20, 20, 20, 20, 20, 20, 20, 20, 20, 20, 20, 20, 20, 20, 20, 20, 20, 20, 20, 20, 20, 20, 20, 20, 20, 20, 20, 20, 20, 20, 20, 20, 20, 20, 20, 20, 20, 20, 20, 20, 20, 20, 20, 20, 20, 20, 20, 20, 20, 20, 20, 20, 20, 20, 20, 20, 20, 20, 20, 20, 20, 20, 20, 20, 20, 20, 20, 20, 20, 20, 20, 20, 20, 20, 20, 20, 20, 20, 20, 20, 20, 20, 20, 20, 20, 20, 20, 20, 20, 20, 20, 20, 20, 20, 20, 20, 20, 20, 20, 20, 20, 20, 20, 20, 20, 20, 20, 20, 20, 20, 20, 20, 20, 20, 20, 20, 20, 20, 20, 20, 20, 20, 20, 20, 20, 20, 20, 20, 20, 20, 20, 20, 20, 20, 20, 20, 20, 20, 20, 20, 20, 20, 20, 20, 20, 20, 20, 20, 20, 20, 20, 20, 20, 20, 20, 20, 20, 20, 20, 20, 20, 20, 20, 20, 20, 20, 20, 20, 20, 20, 20, 20, 20, 20, 20, 20, 20, 20, 20, 20, 20, 20, 20, 20, 20, 20, 20, 20, 20, 20, 20, 20, 20, 20, 20, 20, 20, 20, 20, 20, 20, 20, 20, 20, 20, 20, 20, 20, 20, 20, 20, 20, 20, 20, 20, 20, 20, 20, 20, 20, 20, 20, 20, 20, 20, 20, 20, 20, 20, 20, 20, 20, 20, 20, 20, 20, 20, 20, 20, 20, 20, 20, 20, 20, 20, 20, 20, 20, 20, 20, 20, 20, 20, 20, 20, 20, 20, 20, 20, 20, 20, 20, 20, 20, 20, 20, 20, 20, 20, 20, 20, 20, 20, 20, 20, 20, 20, 20, 20, 20, 20, 20, 20, 20, 20, 20, 20, 20, 20, 20, 20, 20, 20, 20, 20, 20, 20, 20, 20, 20, 20, 20, 20, 20, 20, 20, 20, 20, 20, 20, 20, 20, 20, 20, 20, 20, 20, 20, 20, 20, 20, 20, 20, 20, 20, 20, 20, 20, 20, 20, 20, 20, 20, 20, 20, 20, 20, 20, 20, 20, 20, 20, 20, 20, 20, 20, 20, 20, 20, 20, 20, 20, 20, 20, 20, 20, 20, 20, 20, 20, 20, 20, 20, 20, 20, 20, 20, 20, 20, 20, 20, 20, 20, 20, 20, 20, 20, 20, 20, 20, 20, 20, 20, 20, 20, 20, 20, 20, 20, 20, 20, 20, 20, 20, 20, 20, 20, 20, 20, 20, 20, 20, 20, 20, 20, 20, 20, 20, 20, 20, 20, 20, 20, 20, 20, 20, 20, 20, 20, 20, 20, 20, 20, 20, 20, 20, 20, 20, 20, 20, 20, 20, 20, 20, 20, 20, 20, 20, 20, 20, 20, 20, 20, 20, 20, 20, 20, 20, 20, 20, 20, 20, 20, 20, 20, 20, 20, 20, 20, 20, 20, 20, 20, 20, 20, 20, 20, 20, 20, 20, 20, 20, 20, 20, 20, 20, 20, 20, 20, 20, 20, 20, 20, 20, 20, 20, 20, 20, 20, 20, 20, 20, 20, 20, 20, 20, 20, 20, 20, 20, 20, 20, 20, 20, 20, 20, 20, 20, 20, 20, 20, 20, 20, 20, 20, 20, 20, 20, 20, 20, 20, 20, 20, 20, 20, 20, 20, 20, 20, 20, 20, 20, 20, 20, 20, 20, 20, 20, 20, 20, 20, 20, 20, 20, 20, 20, 20, 20, 20, 20, 20, 20, 20, 20, 20, 20, 20, 20, 20, 20, 20, 20, 20, 20, 20, 20, 20, 20, 20, 20, 20, 20, 20, 20, 20, 20, 20, 20, 20, 20, 20, 20, 20, 20, 20, 20, 20, 20, 20, 20, 20, 20, 20, 20, 20, 20, 20, 20, 20, 20, 20, 20, 20, 20, 20, 20, 20, 20, 20, 20, 20, 20, 20, 20, 20, 20, 20, 20, 20, 20, 20, 20, 20, 20, 20, 20, 20, 20, 20, 20, 20, 20, 20, 20, 20, 20, 20, 20, 20, 20, 20, 20, 20, 20, 20, 20, 20, 20, 20, 20, 20, 20, 20, 20, 20, 20, 20, 20, 20, 20, 20, 20, 20, 20, 20, 20, 20, 20, 20, 20, 20, 20, 20, 20, 20, 20, 20, 20, 20, 20, 20, 20, 20, 20, 20, 20, 20, 20, 20, 20, 20, 20, 20, 20, 20, 20, 20, 20, 20, 20, 20, 20, 20, 20, 20, 20, 20, 20, 20, 20, 20, 20, 20, 20, 20, 20, 20, 20, 20, 20, 20, 20, 20, 20, 20, 20, 20, 20, 20, 20, 20, 20, 20, 20, 20, 20, 20, 20, 20, 20, 20, 20, 20, 20, 20, 20, 20, 20, 20, 20, 20, 20, 20, 20, 20, 20, 20, 20, 20, 20, 20, 20, 20, 20, 20, 20, 20, 20, 20, 20, 20, 20, 20, 20, 20, 20, 20, 20, 20, 20, 20, 20, 20, 20, 20, 20, 20, 20, 20, 20, 20, 20, 20, 20, 20, 20, 20, 20, 20, 20, 20, 20, 20, 20, 20, 20, 20, 20, 20, 20, 20, 20, 20, 20, 20, 20, 20, 20, 20, 20, 20, 20, 20, 20, 20, 20, 20, 20, 20, 20, 20, 20, 20, 20, 20, 20, 20, 20, 20, 20, 20, 20, 20, 20, 20, 20, 20, 20, 20, 20, 20, 20, 20, 20, 20, 20, 20, 20, 20, 20, 20, 20, 20, 20, 20, 20, 20, 20, 20, 20, 20, 20, 20, 20, 20, 20, 20, 20, 20, 20, 20, 20, 20, 20, 20, 20, 20, 20, 20, 20, 20, 20, 20, 20, 20, 20, 20, 20, 20, 20, 20, 20, 20, 20, 20, 20, 20, 20, 20, 20, 20, 20, 20, 20, 20, 20, 20, 20, 20, 20, 20, 20, 20, 20, 20, 20, 20, 20, 20, 20, 20, 20, 20, 20, 20, 20, 20, 20, 20, 20, 20, 20, 20, 20, 20, 20, 20, 20, 20, 20, 20, 20, 20, 20, 20, 20, 20, 20, 20, 20, 20, 20, 20, 20, 20, 20, 20, 20, 20, 20, 20, 20, 20, 20, 20, 20, 20, 20, 20, 20, 20, 20, 20, 20, 20, 20, 20, 20, 20, 20, 20, 20, 20, 20, 20, 20, 20, 20, 20, 20, 20, 20, 20, 20, 20, 20, 20, 20, 20, 20, 20, 20, 20, 20, 20, 20, 20, 20, 20, 20, 20, 20, 20, 20, 20, 20, 20, 20, 20, 20, 20, 20, 20, 20, 20, 20, 20, 20, 20, 20, 20, 20, 20, 20, 20, 20, 20, 20, 20, 20, 20, 20, 20, 20, 20, 20, 20, 20, 20, 20, 20, 20, 20, 20, 20, 20, 20, 20, 20, 20, 20, 20, 20, 20, 20, 20, 20, 20, 20, 20, 20, 20, 20, 20, 20, 20, 20, 20, 20, 20, 20, 20, 20, 20, 20, 20, 20, 20, 20, 20, 20, 20, 20, 20, 20, 20, 20, 20, 20, 20, 20, 20, 20, 20, 20, 20, 20, 20, 20, 20, 20, 20, 20, 20, 20, 20, 20, 20, 20, 20, 20, 20, 20, 20, 20, 20, 20, 20, 20, 20, 20, 20, 20, 20, 20, 20, 20, 20, 20, 20, 20, 20, 20, 20, 20, 20, 20, 20, 20, 20, 20, 20, 20, 20, 20, 20, 20, 20, 20, 20, 20, 20, 20, 20, 20, 20, 20, 20, 20, 20, 20, 20, 20, 20, 20, 20, 20, 20, 20, 20, 20, 20, 20, 20, 20, 20, 20, 20, 20, 20, 20, 20, 20, 20, 20, 20, 20, 20, 20, 20, 20, 20, 20, 20, 20, 20, 20, 20, 20, 20, 20, 20, 20, 20, 20, 20, 20, 20, 20, 20, 20, 20, 20, 20, 20, 20, 20, 20, 20, 20, 20, 20, 20, 20, 20, 20, 20, 20, 20, 20, 20, 20, 20, 20, 20, 20, 20, 20, 20, 20, 20, 20, 20, 20, 20, 20, 20, 20, 20, 20, 20, 20, 20, 20, 20, 20, 20, 20, 20, 20, 20, 20, 20, 20, 20, 20, 20, 20, 20, 20, 20, 20, 20, 20, 20, 20, 20, 20, 20, 20, 20, 20, 20, 20, 20, 20, 20, 20, 20, 20, 20, 20, 20, 20, 20, 20, 20, 20, 20, 20, 20, 20, 20, 20, 20, 20, 20, 20, 20, 20, 20, 20, 20, 20, 20, 20, 20, 20, 20, 20, 20, 20, 20, 20, 20, 20, 20, 20, 20, 20, 20, 20, 20, 20, 20, 20, 20, 20, 20, 20, 20, 20, 20, 20, 20, 20, 20, 20, 20, 20, 20, 20, 20, 20, 20, 20, 20, 20, 20, 20, 20, 20, 20, 20, 20, 20, 20, 20, 20, 20, 20, 20, 20, 20, 20, 20, 20, 20, 20, 20, 20, 20, 20, 20, 20, 20, 20, 20, 20, 20, 20, 20, 20, 20, 20, 20, 20, 20, 20, 20, 20, 20, 20, 20, 20, 20, 20, 20, 20, 20, 20, 20, 20, 20, 20, 20, 20, 20, 20, 20, 20, 20, 20, 20, 20, 20, 20, 20, 20, 20, 20, 20, 20, 20, 20, 20, 20, 20, 20, 20, 20, 20, 20, 20, 20, 20, 20, 20, 20, 20, 20, 20, 20, 20, 20, 20, 20, 20, 20, 20, 20, 20, 20, 20, 20, 20, 20, 20, 20, 20, 20, 20, 20, 20, 20, 20, 20, 20, 20, 20, 20, 20, 20, 20, 20, 20, 20, 20, 20, 20, 20, 20, 20, 20, 20, 20, 20, 20, 20, 20, 20, 20, 20, 20, 20, 20, 20, 20, 20, 20, 20, 20, 20, 20, 20, 20, 20, 20, 20, 20, 20, 20, 20, 20, 20, 20, 20, 20, 20, 20, 20, 20, 20, 20, 20, 20, 20, 20, 20, 20, 20, 20, 20, 20, 20, 20, 20, 20, 20, 20, 20, 20, 20, 20, 20, 20, 20, 20, 20, 20, 20, 20, 20, 20, 20, 20, 20, 20, 20, 20, 20, 20, 20, 20, 20, 20, 20, 20, 20, 20, 20, 20, 20, 20, 20, 20, 20, 20, 20, 20, 20, 20, 20, 20, 20, 20, 20, 20, 20, 20, 20, 20, 20, 20, 20, 20, 20, 20, 20, 20, 20, 20, 20, 20, 20, 20, 20, 20, 20, 20, 20, 20, 20, 20, 20, 20, 20, 20, 20, 20, 20, 20, 20, 20, 20, 20, 20, 20, 20, 20, 20, 20, 20, 20, 20, 20, 20, 20, 20, 20, 20, 20, 20, 20, 20, 20, 20, 20, 20, 20, 20, 20, 20, 20, 20, 20, 20, 20, 20, 20, 20, 20, 20, 20, 20, 20, 20, 20, 20, 20, 20, 20, 20, 20, 20, 20, 20, 20, 20, 20, 20, 20, 20, 20, 20, 20, 20, 20, 20, 20, 20, 20, 20, 20, 20, 20, 20, 20, 20, 20, 20, 20, 20, 20, 20, 20, 20, 20, 20, 20, 20, 20, 20, 20, 20, 20, 20, 20, 20, 20, 20, 20, 20, 20, 20, 20, 20, 20, 20, 20, 20, 20, 20, 20, 20, 20, 20, 20, 20, 20, 20, 20, 20, 20, 20, 20, 20, 20, 20, 20, 20, 20, 20, 20, 20, 20, 20, 20, 20, 20, 20, 20, 20, 20, 20, 20, 20, 20, 20, 20, 20, 20, 20, 20, 20, 20, 20, 20, 20, 20, 20, 20, 20, 20, 20, 20, 20, 20, 20, 20, 20, 20, 20, 20, 20, 20, 20, 20, 20, 20, 20, 20, 20, 20, 20, 20, 20, 20, 20, 20, 20, 20, 20, 20, 20, 20, 20, 20, 20, 20, 20, 20, 20, 20, 20, 20, 20, 20, 20, 20, 20, 20, 20, 20, 20, 20, 20, 20, 20, 20, 20, 20, 20, 20, 20, 20, 20, 20, 20, 20, 20, 20, 20, 20, 20, 20, 20, 20, 20, 20, 20, 20, 20, 20, 20, 20, 20, 20, 20, 20, 20, 20, 20, 20, 20, 20, 20, 20, 20, 20, 20, 20, 20, 20, 20, 20, 20, 20, 20, 20, 20, 20, 20, 20, 20, 20, 20, 20, 20, 20, 20, 20, 20, 20, 20, 20, 20, 20, 20, 20, 20, 20, 20, 20, 20, 20, 20, 20, 20, 20, 20, 20, 20, 20, 20, 20, 20, 20, 20, 20, 20, 20, 20, 20, 20, 20, 20, 20, 20, 20, 20, 20, 20, 20, 20, 20, 20, 20, 20, 20, 20, 20, 20, 20, 20, 20, 20, 20, 20, 20, 20, 20, 20, 20, 20, 20, 20, 20, 20, 20, 20, 20, 20, 20, 20, 20, 20, 20, 20, 20, 20, 20, 20, 20, 20, 20, 20, 20, 20, 20, 20, 20, 20, 20, 20, 20, 20, 20, 20, 20, 20, 20, 20, 20, 20, 20, 20, 20, 20, 20, 20, 20, 20, 20, 20, 20, 20, 20, 20, 20, 20, 20, 20, 20, 20, 20, 20, 20, 20, 20, 20, 20, 20, 20, 20, 20, 20, 20, 20, 20, 20, 20, 20, 20, 20, 20, 20, 20, 20, 20, 20, 20, 20, 20, 20, 20, 20, 20, 20, 20, 20, 20, 20, 20, 20, 20, 20, 20, 20, 20, 20, 20, 20, 20, 20, 20, 20, 20, 20, 20, 20, 20, 20, 20, 20, 20, 20, 20, 20, 20, 20, 20, 20, 20, 20, 20, 20, 20, 20, 20, 20, 20, 20, 20, 20, 20, 20, 20, 20, 20, 20, 20, 20, 20, 20, 20, 20, 20, 20, 20, 20, 20, 20, 20, 20, 20, 20, 20, 20, 20, 20, 20, 20, 20, 20, 20, 20, 20, 20, 20, 20, 20, 20, 20, 20, 20, 20, 20, 20, 20, 20, 20, 20, 20, 20, 20, 20, 20, 20, 20, 20, 20, 20, 20, 20, 20, 20, 20, 20, 20, 20, 20, 20, 20, 20, 20, 20, 20, 20, 20, 20, 20, 20, 20, 20, 20, 20, 20, 20, 20, 20, 20, 20, 20, 20, 20, 20, 20, 20, 20, 20, 20, 20, 20, 20, 20, 20, 20, 20, 20, 20, 20, 20, 20, 20, 20, 20, 20, 20, 20, 20, 20, 20, 20, 20, 20, 20, 20, 20, 20, 20, 20, 20, 20, 20, 20, 20, 20, 20, 20, 20, 20, 20, 20, 20, 20, 20, 20, 20, 20, 20, 20, 20, 20, 20, 20, 20, 20, 20, 20, 20, 20, 20, 20, 20, 20, 20, 20, 20, 20, 20, 20, 20, 20, 20, 20, 20, 20, 20, 20, 20, 20, 20, 20, 20, 20, 20, 20, 20, 20, 20, 20, 20, 20, 20, 20, 20, 20, 20, 20, 20, 20, 20, 20, 20, 20, 20, 20, 20, 20, 20, 20, 20, 20, 20, 20, 20, 20, 20, 20, 20, 20, 20, 20, 20, 20, 20, 20, 20, 20, 20, 20, 20, 20, 20, 20, 20, 20, 20, 20, 20, 20, 20, 20, 20, 20, 20, 20, 20, 20, 20, 20, 20, 20, 20, 20, 20, 20, 20, 20, 20, 20, 20, 20, 20, 20, 20, 20, 20, 20, 20, 20, 20, 20, 20, 20, 20, 20, 20, 20, 20, 20, 20, 20, 20, 20, 20, 20, 20, 20, 20, 20, 20, 20, 20, 20, 20, 20, 20, 20, 20, 20, 20, 20, 20, 20, 20, 20, 20, 20, 20, 20, 20, 20, 20, 20, 20, 20, 20, 20, 20, 20, 20, 20, 20, 20, 20, 20, 20, 20, 20, 20, 20, 20, 20, 20, 20, 20, 20, 20, 20, 20, 20, 20, 20, 20, 20, 20, 20, 20, 20, 20, 20, 20, 20, 20, 20, 20, 20, 20, 20, 20, 20, 20, 20, 20, 20, 20, 20, 20, 20, 20, 20, 20, 20, 20, 20, 20, 20, 20, 20, 20, 20, 20, 20, 20, 20, 20, 20, 20, 20, 20, 20, 20, 20, 20, 20, 20, 20, 20, 20, 20, 20, 20, 20, 20, 20, 20, 20, 20, 20, 20, 20, 20, 20, 20, 20, 20, 20, 20, 20, 20, 20, 20, 20, 20, 20, 20, 20, 20, 20, 20, 20, 20, 20, 20, 20, 20, 20, 20, 20, 20, 20, 20, 20, 20, 20, 20, 20, 20, 20, 20, 20, 20, 20, 20, 20, 20, 20, 20, 20, 20, 20, 20, 20, 20, 20, 20, 20, 20, 20, 20, 20, 20, 20, 20, 20, 20, 20, 20, 20, 20, 20, 20, 20, 20, 20, 20, 20, 20, 20, 20, 20, 20, 20, 20, 20, 20, 20, 20, 20, 20, 20, 20, 20, 20, 20, 20, 20, 20, 20, 20, 20, 20, 20, 20, 20, 20, 20, 20, 20, 20, 20, 20, 20, 20, 20, 20, 20, 20, 20, 20, 20, 20, 20, 20, 20, 20, 20, 20, 20, 20, 20, 20, 20, 20, 20, 20, 20, 20, 20, 20, 20, 20, 20, 20, 20, 20, 20, 20, 20, 20, 20, 20, 20, 20, 20, 20, 20, 20, 20, 20, 20, 20, 20, 20, 20, 20, 20, 20, 20, 20, 20, 20, 20, 20, 20, 20, 20, 20, 20, 20, 20, 20, 20, 20, 20, 20, 20, 20, 20, 20, 20, 20, 20, 20, 20, 20, 20, 20, 20, 20, 20, 20, 20, 20, 20, 20, 20, 20, 20, 20, 20, 20, 20, 20, 20, 20, 20, 20, 20, 20, 20, 20, 20, 20, 20, 20, 20, 20, 20, 20, 20, 20, 20, 20, 20, 20, 20, 20, 20, 20, 20, 20, 20, 20, 20, 20, 20, 20, 20, 20, 20, 20, 20, 20, 20, 20, 20, 20, 20, 20, 20, 20, 20, 20, 20, 20, 20, 20, 20, 20, 20, 20, 20, 20, 20, 20, 20, 20, 20, 20, 20, 20, 20, 20, 20, 20, 20, 20, 20, 20, 20, 20, 20, 20, 20, 20, 20, 20, 20, 20, 20, 20, 20, 20, 20, 20, 20, 20, 20, 20, 20, 20, 20, 20, 20, 20, 20, 20, 20, 20, 20, 20, 20, 20, 20, 20, 20, 20, 20, 20, 20, 20, 20, 20, 20, 20, 20, 20, 20, 20, 20, 20, 20, 20, 20, 20, 20, 20, 20, 20, 20, 20, 20, 20, 20, 20, 20, 20, 20, 20, 20, 20, 20, 20, 20, 20, 20, 20, 20, 20, 20, 20, 20, 20, 20, 20, 20, 20, 20, 20, 20, 20, 20, 20, 20, 20, 20, 20, 20, 20, 20, 20, 20, 20, 20, 20, 20, 20, 20, 20, 20, 20, 20, 20, 20, 20, 20, 20, 20, 20, 20, 20, 20, 20, 20, 20, 20, 20, 20, 20, 20, 20, 20, 20, 20, 20, 20, 20, 20, 20, 20, 20, 20, 20, 20, 20, 20, 20, 20, 20, 20, 20, 20, 20, 20, 20, 20, 20, 20, 20, 20, 20, 20, 20, 20, 20, 20, 20, 20, 20, 20, 20, 20, 20, 20, 20, 20, 20, 20, 20, 20, 20, 20, 20, 20, 20, 20, 20, 20, 20, 20, 20, 20, 20, 20, 20, 20, 20, 20, 20, 20, 20, 20, 20, 20, 20, 20, 20, 20, 20, 20, 20, 20, 20, 20, 20, 20, 20, 20, 20, 20, 20, 20, 20, 20, 20, 20, 20, 20, 20, 20, 20, 20, 20, 20, 20, 20, 20, 20, 20, 20, 20, 20, 20, 20, 20, 20]\n",
            "[8, 6, 5, 0, 3, 8, 9, 1, 4, 6, 0, 5, 2, 8, 4, 6, 2, 0, 7, 3, 1, 8, 9, 0, 8, 5, 2, 8, 1, 2, 7, 4, 3, 3, 8, 1, 3, 4, 5, 9, 9, 2, 0, 0, 3, 6, 2, 1, 6, 1, 3, 2, 9, 4, 8, 3, 4, 4, 6, 0, 8, 7, 0, 6, 9, 2, 5, 4, 7, 7, 6, 0, 2, 4, 1, 1, 8, 8, 8, 4, 9, 8, 1, 0, 1, 1, 4, 6, 7, 3, 3, 2, 2, 7, 8, 4, 5, 2, 1, 4, 5, 5, 6, 1, 4, 4, 9, 7, 5, 2, 5, 6, 4, 9, 0, 2, 8, 7, 9, 8, 5, 8, 7, 6, 8, 9, 2, 4, 9, 3, 0, 9, 3, 0, 0, 7, 9, 1, 7, 7, 6, 6, 3, 6, 9, 9, 7, 4, 9, 2, 0, 9, 2, 9, 3, 7, 8, 0, 3, 2, 4, 6, 6, 0, 4, 9, 3, 7, 8, 7, 0, 9, 6, 9, 7, 1, 9, 0, 9, 6, 5, 3, 0, 7, 8, 8, 0, 4, 3, 5, 4, 2, 8, 6, 9, 6, 6, 3, 1, 1, 8, 4, 5, 2, 1, 5, 7, 7, 2, 4, 8, 9, 9, 8, 0, 2, 3, 8, 7, 8, 0, 5, 6, 2, 0, 7, 2, 3, 0, 3, 3, 1, 9, 6, 7, 6, 4, 5, 6, 5, 4, 8, 2, 2, 7, 3, 2, 9, 5, 4, 6, 5, 4, 5, 7, 3, 3, 6, 0, 4, 4, 1, 6, 7, 7, 2, 1, 3, 4, 1, 7, 6, 4, 5, 8, 6, 8, 3, 2, 0, 4, 6, 1, 9, 0, 0, 9, 4, 5, 8, 2, 2, 7, 6, 4, 8, 3, 9, 1, 3, 4, 0, 4, 6, 1, 8, 2, 7, 7, 5, 4, 7, 3, 7, 0, 0, 4, 8, 3, 4, 5, 5, 2, 4, 2, 3, 6, 7, 2, 5, 7, 6, 8, 8, 7, 2, 0, 9, 0, 6, 4, 7, 1, 1, 7, 3, 7, 9, 3, 8, 0, 6, 2, 9, 4, 2, 7, 7, 3, 6, 9, 5, 8, 8, 9, 3, 0, 2, 6, 4, 1, 8, 0, 9, 7, 0, 0, 8, 1, 8, 7, 9, 1, 5, 1, 4, 7, 2, 8, 8, 4, 2, 1, 6, 9, 3, 3, 2, 1, 2, 8, 1, 1, 2, 1, 7, 4, 8, 0, 9, 3, 5, 7, 1, 2, 0, 9, 8, 6, 3, 8, 9, 8, 5, 3, 5, 6, 8, 9, 9, 3, 4, 6, 6, 2, 3, 0, 5, 3, 9, 3, 8, 3, 8, 0, 0, 5, 6, 3, 5, 9, 9, 0, 7, 1, 7, 3, 0, 1, 1, 0, 7, 0, 3, 1, 4, 0, 8, 4, 0, 5, 2, 0, 8, 6, 5, 8, 3, 9, 2, 3, 0, 0, 7, 3, 6, 8, 7, 7, 7, 4, 6, 4, 8, 3, 6, 4, 5, 0, 2, 9, 6, 1, 8, 8, 6, 6, 6, 7, 3, 0, 5, 0, 7, 4, 8, 8, 5, 4, 9, 6, 5, 1, 2, 3, 2, 4, 6, 0, 6, 3, 6, 5, 1, 1, 7, 9, 9, 0, 3, 2, 1, 5, 3, 6, 7, 7, 1, 3, 2, 6, 0, 6, 8, 3, 1, 1, 9, 1, 0, 1, 5, 1, 4, 3, 4, 8, 2, 7, 2, 6, 9, 1, 2, 8, 0, 9, 8, 8, 8, 2, 8, 3, 8, 3, 2, 6, 5, 4, 6, 2, 6, 4, 3, 6, 3, 9, 6, 1, 8, 8, 1, 1, 1, 3, 5, 8, 5, 1, 0, 3, 0, 3, 1, 7, 2, 7, 2, 8, 7, 3, 9, 2, 0, 6, 4, 1, 4, 6, 9, 9, 0, 8, 9, 9, 5, 4, 7, 1, 3, 6, 8, 6, 4, 0, 7, 0, 1, 0, 3, 0, 8, 0, 7, 4, 5, 2, 8, 3, 7, 4, 4, 5, 2, 7, 6, 7, 7, 2, 6, 0, 5, 5, 0, 2, 6, 6, 3, 1, 2, 2, 3, 0, 6, 7, 1, 6, 2, 4, 4, 2, 3, 3, 9, 1, 2, 8, 8, 9, 0, 7, 9, 3, 5, 2, 2, 7, 3, 9, 1, 9, 0, 8, 0, 4, 8, 1, 5, 6, 4, 9, 9, 8, 6, 9, 2, 9, 7, 5, 0, 8, 5, 9, 3, 0, 1, 4, 6, 1, 3, 8, 7, 7, 7, 7, 6, 1, 7, 7, 1, 7, 0, 8, 2, 7, 3, 8, 3, 2, 0, 8, 2, 8, 3, 3, 6, 0, 8, 4, 8, 9, 2, 6, 0, 3, 7, 7, 2, 4, 3, 3, 3, 0, 2, 9, 3, 2, 5, 8, 0, 1, 0, 4, 6, 4, 5, 1, 0, 5, 8, 5, 9, 7, 5, 1, 7, 2, 0, 3, 3, 4, 7, 3, 4, 2, 1, 9, 8, 9, 8, 7, 7, 1, 1, 6, 6, 6, 0, 1, 2, 8, 2, 4, 9, 5, 7, 2, 7, 0, 4, 4, 9, 2, 3, 6, 0, 4, 9, 1, 1, 7, 3, 6, 0, 4, 4, 0, 7, 3, 6, 2, 1, 4, 7, 8, 8, 4, 7, 0, 0, 0, 1, 7, 5, 5, 2, 8, 9, 4, 2, 0, 1, 4, 5, 9, 0, 3, 8, 9, 0, 8, 5, 1, 8, 3, 1, 8, 5, 9, 4, 2, 1, 0, 7, 5, 1, 7, 8, 6, 7, 5, 9, 6, 6, 2, 8, 9, 4, 8, 8, 9, 6, 0, 0, 7, 3, 3, 1, 5, 4, 8, 0, 4, 6, 0, 4, 5, 8, 0, 3, 1, 3, 1, 0, 1, 4, 9, 5, 2, 1, 7, 2, 5, 5, 2, 1, 9, 3, 9, 2, 9, 1, 2, 4, 0, 4, 9, 8, 1, 5, 2, 0, 2, 4, 2, 0, 1, 9, 0, 7, 8, 4, 9, 0, 3, 4, 7, 4, 3, 0, 5, 8, 3, 8, 9, 4, 0, 1, 4, 0, 7, 6, 9, 7, 5, 7, 6, 4, 8, 7, 2, 6, 5, 5, 5, 7, 0, 9, 5, 4, 1, 4, 6, 3, 3, 3, 1, 8, 6, 8, 9, 2, 8, 0, 4, 1, 7, 0, 3, 9, 9, 3, 6, 1, 5, 1, 8, 2, 5, 2, 3, 8, 8, 5, 5, 5, 8, 7, 7, 3, 0, 6, 0, 2, 8, 6, 6, 8, 2, 0, 6, 3, 6, 2, 1, 6, 6, 3, 8, 6, 3, 9, 9, 6, 2, 5, 5, 6, 1, 6, 4, 8, 3, 0, 7, 1, 0, 8, 0, 6, 0, 9, 3, 0, 6, 7, 3, 3, 8, 3, 1, 3, 0, 2, 1, 8, 2, 0, 4, 5, 5, 1, 3, 2, 0, 2, 7, 3, 5, 8, 2, 6, 3, 6, 3, 3, 5, 0, 8, 9, 2, 3, 3, 1, 6, 2, 2, 1, 5, 1, 9, 0, 3, 5, 1, 8, 7, 9, 9, 8, 6, 6, 5, 4, 3, 7, 9, 2, 0, 0, 6, 9, 3, 7, 0, 2, 2, 4, 3, 8, 0, 4, 1, 2, 6, 9, 2, 0, 1, 1, 2, 2, 2, 5, 8, 9, 9, 4, 6, 7, 2, 5, 3, 8, 9, 9, 8, 0, 5, 4, 8, 5, 6, 4, 3, 0, 7, 4, 6, 2, 2, 0, 1, 2, 0, 1, 5, 0, 0, 2, 8, 6, 4, 8, 3, 6, 3, 0, 8, 5, 4, 2, 4, 9, 5, 6, 1, 5, 7, 8, 2, 8, 6, 8, 9, 5, 5, 9, 2, 1, 1, 4, 9, 0, 7, 7, 5, 9, 5, 3, 5, 1, 0, 5, 2, 8, 4, 6, 4, 5, 1, 1, 8, 5, 9, 1, 0, 8, 7, 5, 6, 1, 8, 4, 5, 1, 2, 2, 0, 5, 5, 3, 6, 5, 1, 9, 4, 2, 4, 8, 5, 9, 2, 9, 2, 8, 1, 8, 3, 6, 5, 9, 0, 0, 6, 4, 1, 5, 2, 3, 9, 4, 8, 0, 0, 3, 8, 5, 7, 2, 4, 9, 6, 0, 0, 6, 6, 5, 4, 1, 8, 7, 9, 8, 7, 5, 7, 3, 8, 8, 0, 7, 6, 8, 2, 1, 9, 7, 1, 5, 4, 4, 7, 2, 1, 8, 7, 0, 7, 5, 7, 2, 1, 4, 1, 6, 5, 8, 5, 2, 6, 8, 7, 7, 8, 5, 5, 8, 4, 7, 4, 3, 7, 1, 6, 6, 0, 0, 4, 8, 5, 1, 6, 7, 2, 7, 0, 0, 0, 1, 8, 0, 5, 4, 7, 0, 0, 4, 7, 5, 9, 6, 3, 5, 5, 0, 9, 9, 5, 7, 6, 0, 4, 5, 5, 9, 8, 0, 1, 9, 7, 3, 3, 8, 9, 9, 1, 2, 0, 5, 7, 0, 1, 5, 5, 2, 9, 7, 5, 7, 1, 8, 7, 9, 2, 7, 3, 0, 6, 3, 4, 5, 1, 1, 9, 3, 8, 3, 5, 7, 8, 1, 5, 0, 8, 0, 3, 9, 5, 6, 3, 1, 6, 6, 2, 7, 4, 5, 5, 4, 8, 1, 3, 8, 5, 4, 8, 7, 9, 7, 3, 0, 2, 9, 1, 8, 2, 9, 1, 0, 8, 3, 3, 8, 1, 4, 8, 1, 5, 0, 6, 3, 9, 3, 3, 1, 8, 2, 9, 4, 9, 7, 6, 7, 7, 4, 7, 0, 2, 4, 2, 2, 2, 2, 3, 4, 6, 4, 1, 3, 5, 9, 5, 3, 5, 4, 9, 9, 4, 7, 6, 9, 7, 4, 5, 0, 5, 4, 9, 2, 3, 5, 8, 3, 6, 6, 6, 1, 4, 7, 6, 2, 0, 4, 9, 6, 9, 3, 9, 6, 9, 9, 8, 1, 8, 7, 4, 3, 3, 1, 8, 1, 8, 5, 9, 0, 7, 1, 2, 5, 4, 9, 5, 8, 8, 6, 8, 9, 7, 6, 0, 2, 5, 7, 6, 8, 0, 2, 4, 2, 1, 7, 5, 2, 2, 2, 1, 5, 0, 8, 5, 4, 6, 5, 3, 2, 4, 9, 5, 5, 1, 6, 5, 1, 2, 6, 9, 3, 1, 4, 4, 7, 8, 1, 9, 5, 8, 6, 2, 1, 8, 2, 8, 2, 4, 6, 6, 1, 4, 0, 7, 3, 1, 5, 4, 5, 5, 8, 4, 2, 0, 5, 4, 3, 7, 3, 8, 5, 3, 2, 2, 9, 8, 2, 4, 3, 4, 9, 8, 3, 9, 3, 0, 0, 0, 4, 7, 7, 3, 9, 0, 1, 5, 0, 3, 9, 7, 1, 1, 1, 7, 7, 9, 5, 9, 8, 9, 2, 7, 6, 2, 0, 2, 0, 7, 3, 9, 6, 7, 7, 2, 4, 5, 8, 2, 7, 0, 4, 7, 4, 7, 8, 8, 4, 8, 5, 4, 1, 7, 2, 2, 8, 4, 7, 6, 7, 2, 2, 5, 6, 6, 2, 6, 2, 5, 0, 5, 2, 9, 9, 1, 3, 6, 7, 1, 2, 6, 6, 9, 1, 2, 9, 4, 9, 4, 7, 4, 0, 1, 4, 9, 6, 4, 4, 4, 8, 1, 2, 0, 2, 4, 3, 7, 9, 4, 3, 0, 1, 8, 5, 5, 8, 0, 7, 9, 1, 6, 2, 2, 5, 3, 8, 7, 6, 4, 6, 4, 7, 3, 9, 6, 7, 0, 2, 3, 7, 3, 1, 5, 7, 6, 1, 6, 7, 0, 2, 3, 9, 8, 0, 7, 8, 6, 4, 4, 6, 0, 5, 3, 1, 9, 9, 8, 9, 6, 2, 4, 6, 2, 1, 3, 8, 4, 7, 8, 3, 8, 7, 3, 7, 4, 3, 7, 5, 7, 7, 8, 9, 9, 5, 8, 5, 4, 9, 2, 0, 7, 0, 7, 3, 2, 8, 9, 7, 2, 7, 7, 6, 1, 0, 3, 8, 5, 6, 1, 5, 0, 1, 6, 2, 0, 9, 5, 0, 5, 7, 2, 9, 4, 5, 9, 2, 5, 7, 5, 3, 2, 5, 0, 9, 9, 2, 0, 3, 5, 0, 5, 1, 9, 4, 0, 4, 7, 3, 2, 7, 6, 8, 7, 8, 8, 1, 8, 6, 5, 4, 4, 5, 1, 6, 7, 4, 0, 5, 2, 6, 3, 6, 5, 3, 6, 9, 8, 1, 4, 7, 0, 3, 3, 2, 7, 9, 1, 8, 8, 9, 9, 8, 3, 9, 1, 3, 5, 6, 2, 0, 9, 1, 0, 6, 3, 8, 2, 0, 1, 0, 4, 9, 6, 4, 0, 0, 3, 7, 3, 8, 7, 1, 8, 7, 4, 5, 6, 2, 1, 4, 6, 0, 7, 4, 9, 9, 9, 3, 4, 1, 0, 4, 6, 1, 0, 3, 5, 4, 6, 3, 6, 9, 0, 2, 5, 9, 3, 9, 1, 0, 0, 9, 5, 2, 3, 5, 7, 7, 0, 3, 3, 6, 2, 6, 5, 1, 2, 4, 2, 4, 8, 2, 8, 6, 0, 0, 8, 9, 4, 1, 8, 1, 9, 6, 9, 2, 6, 6, 3, 5, 1, 7, 1, 2, 5, 9, 3, 4, 5, 2, 6, 0, 9, 6, 1, 9, 9, 8, 4, 0, 4, 7, 0, 9, 2, 6, 3, 7, 5, 3, 4, 0, 7, 8, 7, 0, 3, 3, 5, 1, 6, 6, 7, 4, 7, 8, 3, 0, 0, 2, 1, 5, 5, 6, 7, 8, 8, 4, 2, 1, 3, 2, 1, 4, 3, 4, 7, 2, 7, 7, 1, 4, 6, 1, 8, 5, 6, 1, 0, 3, 8, 6, 0, 1, 1, 4, 3, 6, 3, 1, 7, 3, 8, 8, 4, 6, 1, 0, 1, 2, 9, 7, 9, 3, 3, 5, 9, 8, 6, 3, 8, 3, 2, 7, 7, 0, 4, 1, 0, 0, 1, 4, 5, 0, 4, 4, 6, 6, 7, 2, 5, 3, 6, 9, 1, 6, 4, 6, 3, 9, 5, 9, 8, 6, 1, 6, 9, 0, 7, 2, 6, 0, 5, 3, 4, 9, 3, 0, 5, 2, 5, 3, 7, 1, 7, 4, 4, 6, 6, 1, 5, 9, 8, 7, 4, 4, 7, 0, 1, 9, 9, 3, 6, 8, 3, 5, 9, 6, 3, 8, 2, 3, 3, 8, 7, 2, 1, 3, 3, 0, 1, 8, 4, 3, 7, 3, 0, 1, 8, 2, 0, 6, 4, 5, 8, 1, 2, 0, 9, 2, 9, 6, 2, 5, 2, 9, 7, 0, 7, 4, 2, 5, 2, 6, 9, 2, 7, 6, 5, 7, 8, 5, 2, 6, 0, 8, 0, 0, 8, 3, 2, 9, 5, 2, 7, 6, 4, 7, 0, 4, 9, 4, 1, 1, 0, 3, 6, 6, 1, 3, 7, 9, 1, 6, 2, 3, 3, 6, 4, 6, 6, 1, 2, 2, 2, 6, 9, 6, 5, 1, 1, 4, 8, 3, 8, 8, 1, 3, 1, 9, 8, 9, 8, 0, 9, 3, 8, 1, 6, 4, 1, 7, 8, 3, 1, 4, 2, 9, 9, 5, 0, 8, 1, 6, 6, 2, 9, 0, 7, 2, 4, 4, 0, 5, 9, 3, 5, 3, 5, 2, 0, 8, 6, 9, 8, 9, 7, 7, 0, 1, 7, 2, 2, 8, 3, 5, 0, 1, 0, 2, 4, 8, 7, 3, 0, 0, 0, 3, 7, 3, 8, 6, 2, 3, 8, 5, 1, 3, 0, 0, 8, 5, 7, 4, 8, 6, 0, 4, 8, 3, 2, 6, 3, 0, 3, 5, 2, 0, 9, 3, 9, 2, 5, 3, 3, 5, 0, 8, 4, 9, 4, 2, 0, 1, 2, 7, 3, 0, 2, 4, 5, 3, 1, 3, 9, 7, 0, 0, 3, 4, 5, 2, 8, 3, 7, 0, 6, 8, 2, 9, 1, 0, 1, 3, 7, 5, 8, 7, 8, 4, 4, 8, 0, 0, 5, 1, 6, 6, 4, 5, 6, 3, 2, 3, 5, 5, 4, 7, 1, 3, 4, 4, 9, 8, 0, 9, 0, 1, 7, 4, 1, 0, 6, 3, 5, 5, 5, 8, 5, 6, 9, 7, 6, 6, 0, 8, 1, 3, 9, 7, 5, 2, 0, 0, 1, 0, 2, 7, 8, 0, 8, 1, 6, 1, 3, 0, 3, 1, 3, 2, 5, 7, 5, 6, 8, 9, 1, 5, 5, 0, 1, 1, 3, 3, 4, 3, 1, 1, 0, 9, 5, 3, 5, 5, 2, 2, 8, 3, 7, 9, 9, 4, 6, 9, 2, 9, 1, 3, 5, 8, 8, 9, 3, 2, 2, 9, 3, 8, 9, 4, 3, 9, 8, 9, 0, 8, 3, 7, 5, 3, 3, 0, 8, 7, 5, 7, 8, 4, 0, 3, 8, 4, 5, 5, 3, 6, 2, 6, 8, 0, 7, 8, 5, 3, 4, 0, 9, 7, 6, 6, 6, 9, 2, 8, 7, 6, 6, 0, 8, 8, 2, 3, 8, 9, 4, 0, 1, 7, 9, 0, 6, 9, 0, 4, 4, 6, 2, 7, 4, 2, 0, 5, 1, 9, 0, 0, 8, 7, 8, 7, 5, 1, 6, 4, 3, 8, 5, 2, 5, 5, 4, 2, 5, 7, 4, 4, 5, 6, 0, 0, 9, 8, 1, 9, 1, 2, 9, 4, 2, 1, 2, 2, 6, 4, 8, 3, 1, 4, 1, 5, 6, 7, 3, 4, 2, 6, 7, 2, 8, 7, 4, 6, 9, 2, 7, 6, 5, 8, 3, 7, 8, 3, 4, 8, 4, 8, 1, 2, 1, 2, 4, 9, 4, 2, 4, 0, 1, 2, 7, 7, 8, 6, 8, 5, 1, 4, 5, 5, 4, 5, 8, 5, 3, 1, 4, 4, 2, 1, 3, 7, 0, 1, 3, 7, 2, 5, 0, 5, 2, 6, 9, 6, 7, 6, 0, 4, 7, 2, 8, 6, 3, 7, 7, 7, 8, 5, 1, 9, 0, 9, 8, 8, 2, 1, 7, 8, 2, 4, 5, 1, 6, 1, 5, 4, 5, 6, 8, 5, 5, 0, 2, 7, 9, 6, 3, 3, 9, 5, 3, 3, 3, 5, 9, 8, 2, 2, 5, 1, 7, 0, 0, 6, 1, 2, 6, 8, 2, 5, 3, 9, 5, 5, 7, 2, 9, 6, 0, 0, 4, 7, 2, 5, 4, 0, 8, 7, 1, 2, 6, 3, 1, 7, 6, 5, 2, 3, 5, 2, 5, 9, 4, 0, 0, 8, 1, 6, 0, 0, 0, 0, 6, 8, 2, 2, 6, 2, 5, 1, 4, 2, 8, 3, 5, 2, 6, 4, 9, 2, 1, 9, 4, 6, 6, 0, 8, 4, 6, 9, 4, 0, 4, 0, 2, 3, 2, 3, 1, 7, 5, 5, 6, 1, 0, 7, 2, 9, 9, 6, 1, 7, 6, 1, 2, 9, 9, 5, 5, 0, 3, 0, 2, 7, 2, 3, 4, 9, 4, 2, 0, 6, 3, 2, 8, 7, 8, 1, 4, 3, 0, 2, 6, 0, 2, 5, 0, 9, 1, 8, 0, 0, 1, 1, 2, 0, 2, 7, 5, 9, 9, 4, 3, 9, 0, 8, 6, 4, 7, 8, 8, 5, 7, 2, 6, 8, 2, 1, 5, 0, 2, 0, 9, 9, 3, 1, 9, 5, 1, 0, 4, 7, 0, 4, 4, 8, 4, 0, 4, 2, 5, 4, 3, 1, 6, 4, 9, 8, 5, 1, 2, 7, 8, 4, 8, 3, 1, 4, 0, 1, 8, 6, 0, 6, 8, 3, 9, 7, 7, 9, 4, 4, 1, 1, 8, 7, 4, 8, 4, 7, 6, 9, 3, 7, 0, 0, 4, 0, 8, 2, 3, 7, 4, 0, 7, 1, 6, 8, 1, 0, 1, 3, 8, 0, 9, 6, 7, 9, 1, 3, 5, 3, 9, 2, 2, 6, 5, 9, 2, 1, 8, 9, 6, 1, 9, 1, 5, 5, 9, 0, 7, 3, 4, 2, 4, 8, 1, 4, 0, 8, 5, 8, 8, 7, 6, 2, 1, 0, 1, 3, 7, 8, 0, 7, 8, 6, 1, 1, 6, 9, 2, 0, 1, 6, 0, 3, 7, 9, 4, 6, 3, 6, 2, 8, 5, 0, 9, 6, 2, 8, 6, 0, 6, 8, 7, 9, 3, 3, 1, 3, 1, 5, 8, 2, 5, 0, 9, 6, 9, 8, 8, 5, 1, 7, 8, 7, 2, 1, 5, 1, 9, 0, 1, 6, 3, 2, 7, 7, 8, 9, 3, 6, 0, 1, 4, 0, 7, 4, 1, 1, 9, 3, 5, 3, 8, 7, 9, 7, 0, 5, 3, 6, 8, 5, 7, 4, 8, 9, 5, 0, 3, 8, 7, 1, 7, 0, 5, 5, 4, 8, 4, 8, 4, 7, 7, 1, 5, 2, 6, 2, 1, 9, 3, 3, 5, 0, 3, 8, 9, 2, 5, 2, 8, 5, 1, 7, 8, 8, 3, 1, 1, 0, 6, 1, 5, 1, 3, 8, 9, 8, 3, 6, 2, 4, 8, 9, 6, 4, 8, 5, 6, 4, 9, 4, 1, 7, 2, 9, 0, 1, 5, 8, 5, 9, 3, 9, 3, 8, 3, 1, 4, 9, 6, 3, 3, 1, 8, 3, 1, 8, 9, 6, 3, 2, 5, 9, 9, 6, 8, 5, 7, 6, 0, 1, 2, 0, 7, 8, 0, 7, 1, 3, 8, 7, 3, 5, 6, 4, 6, 5, 7, 7, 6, 2, 0, 3, 5, 5, 9, 3, 9, 3, 6, 8, 7, 7, 9, 6, 8, 6, 7, 6, 5, 9, 5, 0, 0, 4, 0, 9, 0, 6, 0, 5, 7, 4, 4, 2, 0, 0, 5, 1, 6, 1, 9, 0, 0, 6, 7, 3, 2, 0, 7, 3, 8, 6, 6, 6, 6, 2, 6, 8, 6, 4, 2, 8, 2, 6, 3, 2, 5, 5, 8, 2, 0, 0, 4, 0, 2, 9, 0, 7, 6, 1, 8, 1, 8, 5, 4, 9, 2, 5, 2, 1, 5, 1, 8, 3, 6, 2, 2, 5, 0, 7, 1, 5, 3, 6, 6, 9, 9, 6, 4, 3, 5, 8, 0, 6, 7, 9, 9, 7, 8, 9, 0, 5, 2, 9, 4, 6, 7, 0, 0, 4, 9, 8, 3, 2, 3, 7, 8, 7, 7, 6, 4, 7, 5, 5, 0, 1, 4, 3, 3, 6, 1, 4, 4, 5, 2, 6, 9, 3, 2, 6, 5, 6, 6, 7, 9, 8, 2, 3, 5, 5, 0, 7, 1, 6, 5, 6, 9, 7, 9, 2, 4, 7, 5, 0, 3, 4, 5, 7, 6, 6, 9, 2, 8, 5, 1, 0, 4, 7, 5, 1, 0, 6, 2, 4, 1, 3, 9, 6, 7, 8, 4, 9, 0, 4, 2, 0, 6, 0, 3, 4, 8, 0, 6, 7, 1, 7, 9, 2, 5, 3, 4, 8, 2, 8, 0, 6, 6, 7, 8, 5, 5, 4, 2, 2, 3, 7, 7, 3, 6, 0, 7, 2, 2, 1, 7, 0, 7, 8, 9, 7, 1, 7, 8, 3, 0, 3, 2, 3, 9, 3, 9, 6, 5, 4, 4, 3, 8, 5, 8, 4, 0, 2, 1, 4, 5, 7, 3, 3, 7, 7, 2, 1, 6, 1, 5, 9, 3, 2, 0, 3, 6, 9, 7, 5, 7, 3, 0, 8, 7, 6, 2, 8, 3, 8, 5, 7, 8, 6, 1, 8, 0, 1, 4, 0, 5, 9, 1, 9, 9, 5, 3, 8, 6, 6, 5, 4, 2, 0, 4, 3, 4, 2, 3, 4, 5, 4, 9, 5, 0, 3, 0, 0, 7, 3, 4, 2, 0, 6, 9, 0, 1, 4, 0, 0, 1, 3, 1, 9, 8, 1, 8, 1, 5, 3, 3, 3, 9, 4, 3, 5, 5, 6, 4, 5, 0, 2, 9, 9, 8, 6, 6, 1, 8, 8, 1, 9, 4, 9, 0, 5, 7, 0, 3, 9, 9, 3, 1, 9, 9, 6, 7, 2, 0, 2, 5, 4, 7, 9, 2, 9, 4, 5, 4, 7, 8, 4, 3, 9, 0, 4, 6, 7, 2, 2, 2, 5, 3, 3, 8, 3, 1, 2, 4, 8, 4, 0, 9, 8, 5, 5, 6, 2, 7, 4, 6, 9, 0, 3, 9, 9, 2, 2, 4, 7, 8, 7, 5, 2, 2, 8, 2, 2, 1, 8, 9, 6, 8, 9, 4, 7, 0, 4, 9, 3, 1, 5, 4, 5, 4, 9, 1, 9, 0, 9, 1, 0, 0, 3, 1, 9, 4, 8, 6, 9, 0, 1, 4, 6, 0, 5, 4, 1, 8, 7, 7, 9, 1, 7, 7, 0, 0, 2, 2, 7, 0, 4, 1, 5, 4, 1, 3, 0, 9, 1, 1, 8, 4, 9, 7, 8, 0, 8, 8, 1, 6, 3, 9, 6, 8, 8, 9, 5, 5, 7, 9, 4, 6, 2, 7, 3, 5, 0, 5, 3, 5, 2, 6, 3, 7, 0, 3, 8, 4, 3, 8, 4, 0, 9, 0, 7, 3, 4, 7, 7, 8, 8, 5, 4, 4, 2, 7, 7, 4, 8, 8, 5, 4, 5, 4, 4, 8, 6, 1, 6, 0, 2, 2, 8, 0, 0, 1, 3, 8, 9, 6, 9, 3, 4, 0, 0, 2, 1, 7, 7, 8, 2, 2, 4, 3, 9, 2, 3, 5, 8, 4, 9, 6, 5, 1, 3, 2, 3, 2, 9, 3, 6, 8, 9, 2, 2, 5, 3, 4, 6, 2, 0, 0, 8, 6, 9, 2, 0, 4, 9, 3, 7, 6, 5, 5, 4, 9, 9, 1, 9, 1, 3, 0, 4, 7, 0, 0, 0, 0, 1, 4, 4, 8, 7, 6, 1, 7, 1, 0, 9, 2, 8, 5, 3, 8, 4, 9, 0, 2, 6, 1, 3, 3, 9, 0, 5, 7, 3, 9, 4, 6, 6, 8, 9, 3, 8, 3, 2, 9, 1, 7, 5, 1, 9, 7, 1, 5, 5, 9, 5, 9, 2, 6, 9, 2, 9, 6, 2, 9, 2, 0, 2, 9, 8, 1, 3, 5, 6, 0, 8, 9, 2, 9, 9, 9, 2, 9, 3, 4, 0, 9, 0, 1, 7, 4, 8, 3, 9, 7, 7, 4, 3, 1, 6, 0, 6, 6, 0, 7, 9, 0, 7, 1, 9, 6, 7, 8, 7, 9, 1, 4, 4, 8, 3, 4, 1, 4, 3, 9, 9, 2, 9, 4, 6, 4, 3, 0, 2, 6, 0, 9, 3, 7, 2, 6, 5, 3, 5, 6, 1, 7, 6, 5, 5, 5, 5, 1, 0, 0, 9, 1, 3, 1, 7, 7, 8, 4, 1, 3, 2, 4, 3, 0, 9, 8, 0, 2, 4, 1, 1, 7, 2, 8, 1, 1, 1, 3, 2, 7, 0, 3, 5, 7, 8, 4, 8, 0, 0, 2, 4, 6, 5, 7, 3, 5, 1, 1, 0, 1, 8, 0, 1, 8, 0, 2, 4, 1, 9, 1, 8, 1, 7, 2, 6, 2, 0, 1, 0, 1, 2, 8, 4, 5, 2, 9, 6, 7, 6, 8, 9, 5, 1, 6, 0, 7, 2, 5, 8, 3, 6, 2, 8, 7, 6, 9, 3, 6, 6, 5, 1, 6, 9, 9, 7, 1, 7, 0, 5, 1, 8, 7, 5, 0, 3, 4, 0, 6, 5, 6, 7, 5, 9, 7, 3, 7, 6, 7, 2, 3, 1, 9, 0, 5, 9, 9, 3, 2, 2, 0, 2, 1, 6, 1, 8, 3, 3, 9, 3, 7, 8, 7, 8, 4, 9, 1, 5, 2, 4, 2, 1, 8, 3, 4, 2, 0, 9, 1, 3, 5, 3, 1, 1, 6, 5, 0, 3, 6, 6, 3, 4, 4, 0, 9, 3, 8, 0, 6, 5, 3, 1, 6, 1, 6, 0, 4, 2, 4, 8, 5, 0, 0, 5, 3, 6, 4, 4, 2, 0, 7, 3, 9, 0, 6, 8, 9, 2, 4, 8, 6, 2, 4, 6, 0, 1, 5, 8, 1, 3, 4, 6, 6, 1, 6, 8, 0, 4, 3, 1, 3, 2, 2, 2, 9, 6, 4, 7, 6, 1, 2, 8, 8, 5, 7, 2, 1, 5, 8, 9, 0, 1, 5, 1, 3, 2, 2, 5, 6, 3, 3, 9, 2, 3, 9, 6, 3, 0, 2, 7, 0, 5, 2, 3, 3, 4, 5, 4, 0, 2, 1, 4, 1, 0, 7, 8, 1, 6, 8, 2, 1, 5, 9, 6, 6, 8, 2, 9, 6, 7, 0, 8, 8, 7, 0, 8, 3, 8, 6, 1, 2, 4, 4, 8, 8, 9, 4, 6, 2, 0, 6, 3, 0, 5, 0, 3, 2, 2, 5, 1, 3, 3, 6, 8, 1, 1, 5, 9, 6, 0, 1, 3, 1, 5, 4, 6, 1, 1, 3, 7, 8, 8, 8, 9, 2, 3, 6, 7, 4, 3, 8, 7, 7, 4, 2, 8, 2, 9, 5, 5, 7, 2, 6, 5, 6, 4, 1, 7, 6, 5, 0, 2, 3, 1, 3, 0, 8, 3, 9, 7, 3, 5, 1, 2, 0, 8, 7, 3, 9, 2, 9, 7, 6, 2, 2, 3, 4, 3, 8, 6, 8, 5, 0, 8, 0, 7, 0, 0, 3, 6, 2, 9, 9, 8, 0, 9, 0, 9, 0, 8, 5, 0, 1, 5, 0, 3, 3, 8, 2, 7, 0, 5, 6, 0, 5, 0, 7, 4, 4, 3, 4, 0, 2, 3, 0, 4, 6, 3, 4, 7, 7, 3, 1, 5, 2, 5, 6, 3, 2, 6, 9, 8, 4, 4, 5, 5, 4, 7, 9, 2, 9, 1, 5, 6, 0, 0, 3, 9, 8, 4, 5, 3, 8, 3, 4, 8, 6, 6, 8, 5, 5, 8, 4, 9, 0, 1, 8, 0, 7, 7, 9, 5, 3, 0, 6, 7, 6, 3, 6, 2, 2, 5, 3, 7, 1, 2, 0, 0, 8, 7, 2, 0, 4, 7, 8, 1, 0, 5, 8, 4, 6, 2, 9, 7, 1, 3, 9, 3, 8, 8, 6, 3, 5, 7, 7, 2, 3, 9, 1, 1, 6, 6, 1, 5, 5, 2, 7, 9, 9, 9, 7, 7, 6, 7, 0, 2, 2, 8, 5, 6, 7, 3, 1, 2, 7, 1, 4, 5, 4, 7, 8, 7, 8, 2, 7, 2, 8, 1, 6, 4, 5, 3, 0, 6, 6, 6, 7, 6, 3, 6, 8, 6, 3, 5, 3, 0, 3, 7, 7, 0, 5, 4, 2, 4, 9, 3, 7, 4, 4, 3, 2, 3, 3, 6, 5, 0, 2, 5, 0, 5, 8, 1, 2, 2, 3, 8, 8, 5, 6, 3, 2, 2, 8, 0, 1, 0, 1, 5, 1, 6, 1, 4, 1, 5, 2, 4, 8, 6, 2, 7, 2, 7, 8, 8, 2, 3, 1, 2, 7, 5, 2, 2, 6, 2, 3, 3, 3, 0, 8, 7, 0, 3, 0, 7, 3, 6, 5, 0, 4, 7, 6, 2, 4, 9, 0, 5, 9, 2, 2, 9, 8, 6, 8, 3, 1, 3, 8, 3, 2, 0, 3, 1, 0, 4, 1, 8, 2, 9, 5, 4, 6, 9, 1, 1, 9, 6, 7, 4, 1, 6, 4, 1, 2, 1, 7, 9, 7, 8, 7, 8, 4, 7, 4, 5, 1, 3, 6, 5, 3, 6, 3, 0, 4, 0, 4, 1, 7, 4, 5, 9, 3, 1, 3, 7, 6, 8, 8, 1, 4, 1, 3, 3, 6, 2, 3, 4, 7, 5, 5, 2, 9, 7, 6, 0, 6, 8, 9, 1, 4, 1, 9, 6, 6, 4, 2, 3, 9, 1, 5, 5, 7, 5, 9, 4, 6, 3, 0, 5, 2, 6, 5, 6, 4, 9, 0, 2, 3, 4, 1, 3, 6, 3, 4, 9, 3, 1, 7, 5, 2, 1, 1, 5, 7, 1, 6, 7, 1, 6, 0, 6, 9, 6, 0, 7, 2, 7, 7, 2, 8, 5, 7, 9, 4, 9, 4, 8, 4, 1, 0, 9, 4, 3, 6, 1, 5, 5, 9, 4, 5, 0, 9, 3, 4, 8, 6, 8, 8, 6, 7, 7, 5, 5, 4, 6, 1, 8, 7, 3, 5, 2, 9, 7, 8, 7, 2, 1, 9, 0, 1, 2, 3, 3, 4, 3, 0, 1, 6, 3, 5, 6, 6, 5, 8, 3, 5, 7, 1, 0, 7, 1, 5, 1, 5, 3, 9, 0, 3, 2, 9, 1, 2, 1, 3, 8, 9, 1, 9, 3, 5, 6, 5, 5, 3, 6, 7, 7, 0, 9, 2, 5, 9, 9, 8, 5, 4, 8, 6, 2, 1, 0, 7, 7, 6, 8, 4, 5, 0, 2, 2, 5, 9, 8, 0, 7, 1, 0, 4, 3, 1, 7, 8, 9, 6, 8, 5, 1, 0, 4, 3, 1, 8, 0, 9, 2, 3, 5, 0, 1, 8, 1, 6, 1, 7, 6, 9, 4, 5, 4, 8, 2, 0, 7, 1, 8, 6, 2, 1, 8, 2, 5, 8, 4, 6, 9, 0, 3, 2, 3, 7, 1, 0, 6, 1, 1, 9, 3, 4, 9, 5, 6, 2, 8, 6, 8, 5, 9, 9, 1, 2, 0, 5, 0, 2, 3, 2, 9, 1, 1, 4, 3, 0, 1, 9, 4, 1, 8, 6, 0, 6, 0, 9, 2, 9, 3, 1, 1, 7, 0, 7, 8, 1, 5, 3, 6, 3, 7, 4, 8, 3, 7, 9, 5, 1, 3, 0, 3, 2, 4, 1, 0, 4, 7, 2, 8, 1, 4, 7, 4, 8, 1, 8, 5, 3, 7, 0, 5, 0, 0, 4, 1, 9, 9, 5, 5, 9, 3, 9, 6, 5, 5, 9, 6, 6, 5, 8, 0, 8, 9, 9, 0, 7, 9, 0, 7, 1, 6, 8, 8, 0, 2, 4, 7, 8, 8, 9, 6, 4, 7, 1, 5, 7, 2, 2, 3, 8, 0, 7, 8, 3, 9, 4, 5, 6, 0, 5, 3, 4, 2, 2, 5, 8, 9, 2, 4, 3, 7, 8, 8, 5, 8, 9, 5, 7, 7, 8, 6, 2, 6, 0, 6, 4, 7, 7, 6, 8, 2, 4, 0, 5, 8, 5, 5, 1, 9, 9, 8, 4, 4, 9, 9, 2, 3, 6, 7, 0, 7, 5, 5, 7, 4, 1, 3, 4, 9, 5, 3, 6, 9, 3, 6, 7, 4, 0, 2, 3, 0, 9, 9, 1, 4, 5, 5, 8, 7, 0, 9, 9, 4, 2, 1, 1, 1, 1, 5, 7, 7, 6, 0, 5, 2, 0, 0, 3, 5, 0, 2, 9, 6, 8, 6, 8, 3, 3, 3, 0, 1, 9, 1, 4, 3, 8, 4, 9, 1, 6, 4, 3, 6, 8, 7, 8, 6, 6, 2, 6, 0, 1, 4, 4, 1, 7, 1, 3, 9, 3, 9, 2, 6, 0, 6, 0, 5, 5, 9, 8, 7, 2, 5, 5, 5, 1, 7, 0, 0, 4, 4, 8, 7, 2, 6, 5, 9, 4, 8, 2, 3, 7, 5, 6, 9, 0, 5, 7, 0, 0, 2, 1, 4, 5, 3, 8, 4, 5, 2, 8, 0, 0, 7, 4, 3, 0, 0, 6, 3, 8, 8, 1, 8, 1, 3, 5, 1, 2, 3, 0, 3, 3, 1, 0, 9, 4, 2, 0, 6, 9, 6, 0, 9, 0, 8, 4, 4, 7, 1, 4, 8, 9, 9, 2, 5, 1, 6, 4, 8, 8, 5, 5, 4, 8, 0, 6, 5, 8, 0, 7, 4, 2, 1, 5, 8, 6, 0, 9, 6, 7, 2, 0, 9, 1, 9, 5, 4, 0, 1, 2, 4, 6, 5, 9, 5, 7, 1, 9, 6, 1, 2, 2, 4, 9, 1, 1, 2, 2, 0, 4, 4, 5, 0, 6, 4, 4, 1, 6, 7, 7, 7, 2, 8, 6, 3, 8, 7, 4, 8, 0, 6, 0, 1, 2, 9, 3, 6, 7, 1, 8, 0, 6, 6, 2, 5, 5, 7, 8, 1, 7, 6, 1, 9, 5, 3, 5, 0, 5, 8, 4, 4, 7, 2, 0, 4, 9, 9, 8, 8, 2, 4, 6, 1, 3, 9, 8, 9, 6, 2, 0, 2, 2, 3, 8, 6, 8, 1, 0, 0, 8, 1, 8, 8, 4, 9, 1, 6, 8, 7, 0, 6, 2, 1, 7, 7, 6, 3, 6, 9, 7, 6, 2, 8, 0, 1, 4, 4, 7, 9, 7, 1, 4, 4, 6, 5, 3, 1, 3, 6, 0, 1, 1, 1, 8, 5, 8, 0, 9, 0, 5, 5, 7, 4, 9, 1, 7, 8, 0, 7, 7, 9, 3, 0, 6, 1, 0, 4, 9, 3, 7, 1, 8, 3, 0, 6, 4, 6, 3, 5, 7, 9, 2, 5, 3, 1, 2, 1, 2, 4, 2, 1, 7, 0, 4, 4, 4, 5, 7, 9, 2, 1, 6, 1, 7, 8, 9, 9, 7, 7, 8, 4, 5, 1, 4, 7, 7, 9, 3, 3, 6, 8, 8, 4, 7, 1, 8, 5, 2, 8, 7, 9, 7, 3, 4, 1, 4, 4, 6, 4, 4, 6, 7, 1, 8, 2, 7, 0, 6, 3, 6, 1, 0, 9, 0, 9, 1, 8, 8, 9, 3, 8, 1, 8, 9, 7, 7, 0, 3, 9, 5, 1, 4, 0, 3, 7, 3, 9, 3, 2, 1, 2, 0, 4, 3, 0, 4, 6, 7, 2, 3, 0, 6, 8, 1, 5, 3, 1, 2, 0, 8, 6, 6, 2, 4, 3, 4, 7, 4, 2, 9, 9, 2, 2, 9, 3, 4, 8, 1, 1, 2, 8, 3, 5, 7, 0, 1, 0, 1, 4, 8, 5, 3, 7, 1, 2, 0, 8, 0, 7, 7, 5, 1, 4, 2, 1, 8, 9, 0, 6, 6, 6, 3, 8, 9, 0, 4, 6, 5, 0, 2, 6, 0, 3, 1, 6, 6, 0, 7, 7, 1, 9, 3, 0, 3, 9, 5, 7, 6, 1, 1, 2, 8, 1, 3, 2, 9, 9, 5, 7, 7, 7, 0, 1, 2, 9, 5, 8, 6, 4, 4, 9, 2, 8, 7, 2, 6, 2, 7, 1, 1, 0, 4, 6, 9, 4, 7, 0, 8, 3, 3, 1, 3, 6, 9, 2, 1, 0, 1, 6, 6, 1, 1, 4, 0, 0, 6, 3, 9, 4, 0, 6, 2, 9, 1, 3, 2, 9, 9, 9, 6, 6, 3, 4, 1, 8, 2, 7, 6, 4, 1, 6, 3, 2, 4, 2, 8, 9, 7, 0, 8, 4, 1, 6, 0, 9, 1, 9, 6, 5, 2, 6, 9, 9, 0, 3, 6, 5, 4, 6, 2, 1, 3, 8, 0, 2, 0, 4, 8, 6, 3, 8, 9, 2, 5, 8, 0, 9, 9, 4, 5, 4, 5, 8, 0, 4, 7, 4, 7, 1, 6, 9, 1, 2, 2, 4, 6, 9, 8, 9, 2, 6, 8, 5, 8, 8, 5, 1, 3, 4, 9, 1, 8, 3, 8, 4, 3, 4, 7, 5, 1, 9, 7, 8, 6, 7, 6, 5, 0, 9, 1, 7, 6, 2, 7, 5, 2, 1, 1, 3, 3, 7, 8, 0, 1, 8, 3, 7, 4, 9, 9, 4, 9, 5, 5, 6, 5, 3, 2, 9, 1, 6, 9, 1, 2, 3, 7, 9, 8, 9, 5, 2, 2, 0, 1, 0, 0, 3, 8, 9, 8, 6, 1, 1, 2, 7, 4, 5, 6, 7, 4, 8, 7, 8, 4, 2, 2, 4, 1, 0, 5, 1, 1, 8, 9, 4, 5, 4, 9, 5, 6, 1, 5, 1, 8, 0, 9, 9, 0, 7, 9, 5, 4, 7, 1, 2, 6, 1, 3, 6, 4, 8, 7, 9, 9, 0, 9, 6, 7, 7, 0, 1, 5, 4, 8, 1, 8, 5, 8, 7, 2, 5, 3, 5, 3, 3, 4, 1, 0, 3, 0, 8, 2, 6, 0, 7, 8, 2, 4, 5, 8, 7, 6, 7, 0, 1, 1, 5, 1, 9, 9, 1, 0, 1, 7, 1, 0, 7, 2, 5, 1, 2, 1, 4, 4, 5, 4, 1, 4, 3, 2, 3, 4, 9, 9, 1, 6, 2, 1, 6, 4, 9, 5, 8, 5, 9, 2, 8, 1, 7, 1, 7, 0, 7, 6, 1, 2, 9, 0, 6, 9, 6, 8, 2, 7, 2, 4, 3, 9, 8, 9, 2, 7, 2, 9, 0, 6, 2, 9, 2, 9, 6, 9, 5, 6, 9, 9, 6, 9, 3, 4, 0, 0, 2, 8, 8, 5, 0, 5, 9, 6, 9, 4, 4, 3, 4, 1, 7, 2, 9, 2, 0, 1, 2, 2, 8, 1, 5, 6, 3, 0, 2, 9, 3, 1, 4, 1, 0, 1, 1, 0, 8, 9, 0, 1, 8, 2, 9, 4, 3, 9, 9, 0, 1, 9, 7, 8, 8, 3, 6, 5, 2, 1, 5, 9, 0, 2, 1, 5, 6, 6, 5, 0, 5, 7, 2, 7, 5, 5, 0, 2, 6, 7, 1, 2, 5, 2, 8, 1, 3, 6, 2, 7, 2, 6, 0, 5, 3, 2, 5, 6, 5, 1, 0, 7, 6, 9, 1, 7, 3, 5, 0, 0, 2, 0, 1, 2, 3, 0, 4, 3, 0, 5, 6, 9, 0, 3, 7, 7, 5, 7, 3, 0, 7, 8, 7, 6, 0, 2, 0, 8, 5, 5, 6, 9, 1, 4, 5, 9, 3, 4, 8, 2, 2, 5, 4, 1, 2, 4, 5, 7, 6, 6, 9, 5, 5, 6, 8, 4, 7, 2, 1, 7, 6, 2, 3, 2, 9, 1, 0, 8, 3, 9, 1, 0, 1, 5, 3, 6, 1, 7, 3, 9, 9, 2, 4, 3, 9, 6, 2, 1, 5, 0, 3, 6, 2, 7, 8, 2, 6, 7, 2, 6, 0, 1, 9, 9, 7, 2, 3, 1, 3, 5, 7, 3, 9, 1, 4, 0, 4, 3, 2, 4, 3, 9, 7, 1, 3, 5, 6, 7, 9, 0, 2, 2, 6, 9, 0, 9, 2, 5, 0, 6, 0, 8, 2, 6, 8, 4, 1, 2, 4, 2, 1, 5, 3, 2, 6, 0, 8, 8, 5, 7, 0, 1, 5, 7, 9, 2, 5, 8, 5, 1, 8, 6, 3, 8, 2, 4, 1, 5, 3, 1, 4, 1, 6, 5, 0, 8, 3, 6, 3, 6, 8, 2, 3, 0, 6, 5, 8, 3, 3, 2, 4, 3, 6, 5, 8, 5, 1, 9, 0, 0, 3, 0, 3, 1, 6, 5, 1, 2, 3, 1, 1, 1, 7, 6, 9, 6, 9, 5, 0, 9, 0, 0, 0, 7, 5, 6, 3, 4, 9, 2, 7, 3, 6, 5, 1, 3, 9, 8, 3, 9, 2, 2, 7, 8, 3, 2, 3, 9, 2, 5, 3, 9, 9, 9, 3, 5, 1, 4, 0, 3, 3, 4, 7, 7, 9, 0, 0, 3, 2, 9, 5, 4, 9, 6, 7, 5, 4, 5, 8, 9, 9, 6, 8, 5, 2, 9, 6, 0, 2, 1, 2, 7, 1, 4, 9, 6, 6, 0, 1, 7, 2, 3, 1, 6, 0, 9, 2, 6, 4, 9, 3, 9, 6, 2, 2, 3, 2, 4, 2, 0, 2, 7, 3, 1, 9, 9, 3, 2, 4, 2, 8, 4, 3, 4, 9, 6, 6, 7, 6, 8, 0, 0, 1, 4, 5, 1, 4, 4, 8, 9, 9, 6, 7, 4, 1, 4, 5, 6, 9, 8, 7, 1, 1, 8, 7, 4, 5, 7, 1, 0, 1, 4, 6, 8, 4, 3, 8, 0, 4, 5, 7, 3, 1, 1, 3, 0, 8, 2, 2, 7, 0, 5, 4, 4, 1, 7, 6, 9, 9, 7, 1, 5, 8, 0, 6, 3, 5, 9, 9, 2, 1, 9, 5, 9, 1, 6, 7, 8, 8, 7, 3, 5, 8, 0, 4, 6, 3, 3, 9, 1, 7, 2, 0, 0, 9, 1, 9, 3, 3, 7, 1, 6, 1, 7, 0, 6, 6, 7, 7, 7, 1, 9, 5, 5, 0, 6, 9, 6, 1, 0, 2, 9, 1, 2, 7, 2, 5, 9, 8, 2, 7, 1, 5, 3, 2, 7, 1, 5, 7, 0, 8, 7, 9, 2, 9, 7, 2, 7, 4, 6, 1, 5, 6, 5, 2, 8, 4, 8, 0, 1, 4, 1, 4, 9, 4, 7, 6, 4, 5, 6, 1, 0, 9, 0, 8, 6, 4, 8, 0, 4, 5, 8, 9, 9, 6, 2, 1, 6, 6, 3, 0, 4, 3, 3, 3, 2, 9, 8, 5, 2, 0, 2, 0, 0, 1, 3, 2, 9, 6, 6, 4, 5, 8, 5, 7, 9, 1, 0, 0, 4, 5, 4, 0, 0, 3, 4, 4, 0, 8, 0, 1, 7, 3, 8, 2, 9, 3, 9, 0, 9, 2, 6, 0, 8, 1, 2, 0, 8, 1, 0, 0, 6, 1, 4, 6, 3, 4, 5, 8, 5, 8, 9, 9, 6, 7, 8, 7, 5, 9, 5, 7, 2, 3, 6, 1, 4, 9, 9, 6, 2, 2, 6, 0, 0, 4, 8, 0, 0, 1, 8, 5, 0, 2, 8, 9, 6, 2, 8, 0, 2, 3, 7, 9, 9, 8, 0, 0, 1, 5, 7, 9, 2, 0, 1, 2, 2, 6, 0, 8, 8, 9, 1, 0, 5, 2, 6, 7, 6, 6, 7, 3, 5, 3, 5, 4, 8, 6, 3, 2, 3, 5, 6, 8, 7, 0, 6, 8, 0, 9, 5, 9, 8, 2, 7, 6, 5, 8, 7, 8, 9, 0, 2, 2, 3, 4, 9, 3, 4, 6, 0, 9, 3, 6, 6, 1, 3, 2, 2, 2, 3, 6, 1, 6, 7, 1, 3, 8, 1, 3, 1, 7, 8, 4, 9, 6, 9, 5, 7, 3, 2, 2, 7, 3, 3, 3, 2, 3, 5, 6, 5, 6, 0, 5, 5, 1, 0, 0, 7, 2, 3, 3, 4, 2, 9, 0, 5, 9, 7, 7, 5, 2, 2, 9, 3, 6, 1, 8, 2, 6, 3, 1, 7, 4, 4, 0, 1, 5, 4, 2, 9, 9, 9, 1, 4, 7, 9, 4, 1, 4, 9, 7, 8, 4, 6, 7, 8, 0, 4, 3, 1, 4, 1, 5, 9, 5, 7, 8, 2, 7, 3, 5, 8, 3, 0, 9, 3, 4, 4, 5, 3, 8, 4, 5, 7, 4, 6, 9, 3, 0, 7, 3, 6, 2, 5, 9, 6, 6, 3, 1, 2, 2, 5, 5, 5, 5, 5, 4, 0, 5, 6, 4, 8, 0, 3, 2, 2, 9, 9, 6, 5, 8, 6, 8, 4, 3, 9, 3, 5, 6, 0, 2, 8, 6, 5, 2, 3, 5, 7, 7, 0, 5, 3, 2, 5, 0, 7, 1, 1, 3, 7, 9, 8, 1, 2, 4, 1, 7, 6, 0, 0, 6, 7, 4, 3, 9, 2, 8, 0, 0, 6, 4, 3, 7, 3, 9, 6, 5, 1, 8, 9, 8, 1, 0, 8, 2, 9, 5, 8, 2, 7, 7, 0, 5, 7, 0, 2, 1, 4, 0, 5, 2, 7, 4, 4, 4, 7, 3, 9, 0, 2, 2, 2, 4, 8, 7, 7, 1, 1, 5, 3, 7, 4, 7, 2, 7, 8, 0, 3, 8, 7, 2, 0, 5, 9, 8, 4, 7, 9, 4, 0, 1, 2, 4, 0, 9, 3, 4, 9, 9, 0, 9, 7, 4, 3, 9, 5, 6, 4, 8, 3, 6, 3, 5, 6, 5, 4, 7, 6, 3, 3, 9, 3, 1, 6, 5, 3, 9, 6, 5, 4, 3, 0, 4, 6, 0, 8, 9, 2, 4, 7, 6, 5, 4, 2, 3, 2, 2, 7, 5, 4, 2, 2, 9, 4, 2, 1, 5, 2, 3, 2, 9, 5, 4, 3, 2, 2, 0, 0, 7, 7, 9, 3, 9, 1, 7, 7, 4, 3, 8, 7, 2, 6, 5, 6, 2, 0, 5, 5, 1, 3, 6, 7, 5, 1, 7, 0, 2, 9, 1, 5, 0, 5, 4, 5, 3, 5, 1, 2, 3, 5, 4, 5, 3, 1, 4, 5, 5, 6, 9, 0, 3, 3, 6, 9, 9, 8, 3, 1, 0, 0, 8, 0, 0, 2, 5, 4, 3, 2, 2, 9, 0, 8, 7, 0, 7, 6, 5, 3, 3, 8, 9, 0, 1, 4, 5, 0, 4, 9, 3, 6, 2, 4, 2, 2, 3, 6, 8, 1, 1, 5, 0, 8, 9, 0, 8, 6, 3, 9, 4, 3, 9, 9, 5, 5, 1, 7, 4, 3, 7, 6, 0, 8, 4, 0, 0, 5, 5, 0, 2, 6, 7, 5, 8, 8, 2, 7, 9, 2, 7, 1, 3, 7, 7, 7, 5, 1, 8, 6, 6, 7, 2, 7, 0, 4, 0, 7, 6, 9, 5, 6, 3, 2, 2, 1, 7, 4, 7, 5, 9, 0, 8, 9, 1, 1, 4, 3, 9, 3, 0, 8, 6, 8, 3, 5, 8, 2, 2, 4, 0, 8, 3, 1, 3, 4, 9, 2, 1, 0, 7, 3, 8, 1, 6, 1, 3, 3, 0, 0, 8, 8, 6, 7, 2, 5, 0, 7, 7, 7, 4, 2, 9, 8, 9, 1, 8, 4, 2, 3, 1, 1, 3, 3, 7, 0, 3, 1, 0, 2, 5, 5, 1, 0, 2, 7, 3, 5, 5, 8, 8, 8, 4, 9, 4, 2, 7, 2, 1, 0, 5, 9, 1, 5, 5, 7, 9, 4, 2, 1, 5, 6, 5, 0, 9, 4, 5, 6, 3, 5, 2, 1, 8, 4, 4, 8, 1, 9, 1, 4, 2, 3, 4, 7, 7, 5, 0, 4, 3, 2, 1, 7, 7, 7, 7, 7, 8, 0, 4, 5, 8, 6, 4, 3, 8, 6, 8, 2, 8, 3, 2, 8, 3, 4, 1, 6, 1, 3, 9, 5, 5, 6, 4, 5, 3, 4, 2, 5, 3, 5, 2, 6, 0, 5, 1, 3, 5, 3, 7, 5, 0, 0, 8, 8, 8, 0, 3, 7, 9, 5, 2, 1, 8, 1, 5, 0, 1, 9, 1, 3, 5, 1, 9, 5, 7, 3, 2, 3, 7, 9, 5, 9, 3, 5, 0, 6, 0, 1, 9, 8, 0, 0, 3, 3, 0, 5, 8, 6, 1, 6, 0, 7, 4, 9, 1, 2, 3, 8, 5, 3, 4, 3, 2, 4, 5, 8, 2, 1, 5, 0, 3, 4, 1, 0, 4, 1, 9, 3, 2, 5, 9, 6, 7, 5, 2, 8, 3, 8, 6, 1, 1, 7, 3, 4, 4, 9, 6, 0, 1, 1, 6, 2, 0, 8, 2, 0, 7, 1, 1, 0, 9, 4, 4, 0, 0, 7, 9, 2, 2, 9, 4, 4, 7, 4, 8, 5, 1, 2, 1, 4, 7, 6, 6, 2, 6, 4, 8, 7, 6, 9, 9, 6, 7, 8, 2, 8, 1, 5, 4, 9, 7, 9, 2, 6, 7, 1, 9, 5, 2, 6, 4, 5, 3, 9, 6, 6, 9, 3, 2, 5, 3, 8, 5, 1, 6, 7, 8, 8, 8, 7, 9, 4, 1, 1, 9, 1, 9, 8, 9, 1, 0, 3, 9, 5, 9, 2, 5, 0, 6, 3, 9, 2, 4, 4, 4, 4, 9, 0, 6, 4, 1, 2, 2, 1, 6, 1, 9, 7, 9, 8, 9, 8, 5, 3, 0, 4, 0, 3, 2, 3, 3, 4, 3, 7, 6, 1, 2, 9, 8, 7, 0, 1, 4, 4, 5, 5, 9, 7, 7, 5, 8, 9, 2, 2, 9, 0, 7, 7, 2, 2, 8, 7, 9, 4, 2, 3, 3, 4, 8, 9, 3, 2, 2, 4, 4, 9, 9, 2, 9, 5, 6, 6, 4, 6, 8, 0, 1, 0, 7, 0, 4, 6, 5, 9, 2, 6, 6, 0, 7, 3, 4, 8, 8, 6, 1, 6, 6, 7, 8, 5, 5, 4, 1, 4, 7, 9, 0, 8, 8, 7, 5, 6, 0, 7, 4, 2, 6, 2, 9, 0, 0, 0, 1, 9, 7, 8, 2, 4, 0, 0, 5, 8, 6, 9, 3, 3, 9, 3, 3, 9, 8, 8, 0, 2, 9, 6, 7, 7, 3, 5, 5, 9, 2, 1, 5, 4, 8, 9, 9, 8, 5, 3, 9, 2, 6, 9, 3, 0, 0, 1, 0, 3, 2, 6, 2, 8, 7, 5, 7, 2, 0, 2, 2, 2, 8, 4, 6, 2, 6, 5, 7, 5, 4, 2, 3, 5, 9, 3, 3, 3, 2, 6, 7, 5, 0, 8, 0, 8, 4, 4, 8, 7, 5, 2, 7, 7, 5, 0, 9, 1, 5, 6, 0, 3, 4, 7, 9, 4, 7, 9, 8, 3, 9, 1, 6, 3, 7, 2, 1, 4, 2, 8, 2, 5, 0, 3, 2, 2, 6, 6, 9, 6, 4, 5, 1, 9, 5, 6, 1, 6, 7, 9, 3, 2, 6, 2, 1, 9, 2, 7, 3, 0, 5, 3, 8, 4, 8, 3, 7, 0, 3, 4, 9, 0, 0, 6, 2, 0, 8, 6, 2, 0, 1, 2, 1, 4, 9, 1, 2, 2, 6, 2, 0, 3, 2, 3, 8, 6, 4, 9, 3, 3, 7, 9, 4, 3, 7, 6, 1, 2, 8, 5, 7, 1, 4, 8, 0, 2, 7, 8, 7, 5, 2, 4, 0, 7, 0, 1, 1, 9, 1, 2, 9, 2, 7, 4, 5, 3, 7, 4, 3, 9, 8, 2, 0, 9, 2, 1, 3, 9, 2, 1, 2, 7, 3, 9, 8, 2, 6, 1, 2, 9, 5, 1, 1, 7, 5, 9, 5, 4, 1, 7, 0, 1, 5, 2, 2, 9, 6, 1, 5, 5, 4, 4, 4, 3, 8, 8, 3, 4, 8, 5, 6, 7, 3, 6, 0, 9, 2, 4, 8, 7, 3, 9, 9, 2, 0, 4, 2, 0, 7, 7, 6, 8, 2, 5, 7, 1, 2, 3, 9, 7, 7, 6, 1, 4, 4, 8, 9, 0, 9, 9, 6, 9, 2, 6, 8, 3, 9, 1, 5, 3, 4, 5, 2, 5, 5, 6, 4, 7, 6, 3, 2, 6, 5, 3, 9, 2, 9, 4, 4, 8, 5, 1, 8, 7, 7, 5, 0, 4, 8, 4, 2, 9, 2, 2, 3, 4, 9, 6, 2, 2, 9, 3, 1, 6, 6, 9, 1, 9, 3, 1, 5, 2, 7, 4, 1, 2, 4, 9, 8, 2, 3, 8, 3, 5, 1, 4, 6, 1, 0, 8, 5, 0, 0, 5, 8, 5, 7, 0, 5, 8, 8, 3, 1, 4, 3, 1, 7, 7, 6, 5, 1, 0, 9, 9, 0, 8, 1, 3, 6, 6, 7, 7, 7, 4, 8, 8, 1, 5, 8, 9, 4, 5, 5, 3, 9, 4, 2, 1, 6, 1, 3, 1, 4, 4, 7, 5, 8, 3, 8, 6, 9, 6, 9, 9, 4, 5, 2, 6, 6, 8, 6, 3, 1, 3, 9, 4, 7, 8, 5, 5, 5, 0, 4, 2, 2, 5, 9, 3, 4, 8, 1, 8, 3, 6, 3, 1, 2, 6, 5, 1, 6, 4, 7, 2, 3, 3, 5, 2, 9, 9, 3, 7, 5, 6, 2, 5, 5, 8, 4, 5, 0, 9, 4, 8, 8, 9, 0, 4, 3, 7, 5, 7, 2, 0, 5, 1, 3, 6, 5, 5, 1, 5, 4, 0, 0, 1, 5, 7, 4, 0, 3, 7, 5, 9, 4, 2, 1, 9, 0, 1, 4, 8, 7, 2, 5, 7, 6, 3, 2, 4, 9, 4, 0, 1, 0, 0, 9, 0, 3, 6, 1, 7, 8, 3, 7, 0, 7, 0, 3, 6, 2, 2, 9, 4, 1, 7, 6, 8, 4, 1, 7, 5, 5, 6, 3, 4, 2, 0, 6, 5, 4, 0, 1, 5, 3, 6, 1, 4, 5, 4, 6, 9, 1, 8, 2, 3, 5, 1, 4, 0, 0, 1, 1, 8, 7, 4, 8, 5, 8, 4, 3, 1, 3, 6, 8, 4, 3, 1, 5, 8, 0, 9, 4, 3, 0, 3, 6, 4, 1, 5, 5, 6, 2, 4, 7, 1, 3, 4, 7, 1, 9, 9, 6, 9, 4, 4, 2, 8, 4, 3, 5, 4, 0, 6, 7, 0, 6, 5, 8, 6, 0, 1, 8, 5, 8, 8, 6, 4, 4, 5, 8, 5, 3, 2, 0, 9, 3, 8, 0, 6, 1, 9, 5, 3, 3, 0, 3, 8, 9, 7, 2, 8, 9, 5, 5, 2, 7, 2, 4, 0, 3, 2, 0, 0, 5, 0, 3, 8, 5, 4, 9, 8, 9, 3, 9, 1, 0, 8, 6, 7, 0, 4, 0, 4, 1, 9, 8, 1, 8, 5, 4, 2, 8, 9, 8, 2, 8, 5, 0, 9, 0, 7, 4, 9, 9, 5, 4, 7, 0, 3, 0, 5, 7, 3, 3, 3, 4, 0, 5, 1, 3, 9, 7, 0, 2, 2, 9, 4, 7, 0, 8, 7, 1, 0, 6, 3, 1, 5, 5, 5, 0, 6, 8, 4, 6, 4, 3, 9, 6, 6, 4, 5, 4, 3, 1, 3, 0, 3, 5, 1, 2, 6, 5, 8, 5, 6, 3, 5, 5, 4, 0, 0, 6, 0, 9, 7, 5, 3, 5, 4, 8, 2, 3, 7, 5, 2, 5, 7, 9, 8, 5, 0, 3, 8, 2, 6, 8, 4, 9, 7, 9, 3, 7, 4, 4, 6, 0, 3, 9, 0, 1, 7, 2, 8, 4, 4, 7, 0, 9, 2, 2, 8, 8, 4, 8, 2, 0, 5, 1, 5, 2, 4, 2, 9, 6, 8, 0, 3, 1, 1, 1, 6, 9, 5, 2, 8, 9, 5, 1, 2, 6, 2, 2, 6, 1, 2, 0, 4, 6, 7, 3, 2, 6, 9, 8, 8, 5, 4, 9, 0, 6, 1, 3, 8, 5, 9, 7, 2, 2, 7, 0, 6, 8, 7, 4, 2, 9, 4, 5, 8, 6, 9, 5, 8, 6, 1, 2, 6, 9, 6, 5, 7, 2, 6, 2, 3, 5, 0, 3, 5, 6, 3, 5, 5, 2, 7, 7, 7, 4, 9, 2, 2, 2, 7, 7, 9, 9, 5, 4, 1, 3, 8, 4, 9, 8, 7, 7, 1, 3, 0, 5, 8, 2, 8, 4, 0, 0, 1, 9, 3, 7, 2, 3, 1, 8, 5, 6, 9, 6, 7, 4, 6, 1, 3, 3, 3, 3, 3, 8, 5, 0, 3, 7, 8, 7, 0, 0, 9, 5, 8, 8, 9, 6, 5, 3, 9, 6, 6, 2, 7, 7, 6, 4, 5, 8, 3, 9, 3, 8, 7, 2, 5, 5, 8, 4, 7, 2, 7, 8, 7, 8, 0, 0, 8, 4, 2, 1, 7, 8, 3, 2, 7, 3, 8, 9, 5, 9, 9, 6, 2, 5, 2, 7, 6, 6, 0, 0, 8, 0, 2, 3, 5, 7, 8, 9, 1, 4, 3, 5, 4, 5, 2, 4, 7, 4, 9, 5, 6, 9, 2, 5, 1, 2, 8, 7, 4, 8, 4, 3, 2, 8, 3, 8, 5, 5, 2, 2, 8, 5, 9, 5, 6, 4, 2, 4, 7, 6, 3, 0, 8, 8, 8, 6, 1, 0, 6, 6, 8, 0, 6, 9, 9, 0, 4, 9, 1, 7, 6, 4, 4, 1, 7, 9, 3, 8, 6, 4, 3, 0, 5, 7, 5, 9, 2, 2, 3, 9, 3, 9, 9, 0, 4, 1, 1, 3, 6, 8, 0, 4, 6, 7, 4, 3, 0, 9, 7, 7, 7, 2, 3, 3, 1, 0, 0, 4, 1, 5, 1, 2, 6, 8, 3, 6, 7, 8, 9, 8, 5, 8, 1, 5, 2, 1, 1, 1, 5, 0, 7, 4, 8, 8, 8, 1, 8, 9, 0, 8, 5, 7, 2, 1, 6, 2, 1, 3, 8, 5, 7, 5, 2, 9, 5, 0, 8, 6, 5, 8, 4, 1, 7, 0, 7, 6, 7, 3, 0, 9, 8, 3, 8, 9, 0, 8, 9, 2, 8, 4, 8, 0, 1, 0, 0, 9, 4, 1, 6, 2, 8, 1, 4, 7, 7, 6, 8, 8, 0, 7, 9, 9, 0, 1, 5, 1, 6, 9, 9, 7, 9, 6, 6, 3, 2, 0, 9, 2, 3, 2, 2, 3, 2, 8, 3, 6, 5, 8, 8, 5, 5, 0, 3, 6, 9, 4, 0, 8, 9, 2, 3, 7, 5, 1, 5, 9, 1, 0, 3, 5, 9, 9, 1, 4, 2, 1, 8, 5, 5, 6, 1, 3, 8, 2, 5, 0, 6, 6, 5, 3, 0, 1, 2, 6, 9, 6, 0, 8, 2, 5, 9, 1, 1, 1, 0, 7, 6, 7, 2, 4, 2, 0, 5, 1, 2, 7, 5, 8, 2, 3, 5, 0, 2, 8, 6, 0, 7, 5, 4, 9, 3, 7, 7, 9, 4, 4, 7, 7, 3, 0, 4, 0, 8, 8, 4, 9, 6, 7, 7, 1, 5, 7, 0, 3, 5, 8, 6, 7, 8, 4, 3, 6, 3, 0, 8, 7, 8, 3, 8, 4, 1, 9, 2, 9, 9, 2, 7, 8, 4, 6, 2, 5, 6, 5, 7, 6, 9, 7, 8, 7, 3, 1, 3, 5, 4, 3, 3, 5, 9, 6, 6, 0, 7, 7, 6, 5, 0, 3, 9, 0, 2, 5, 0, 0, 6, 5, 0, 1, 1, 7, 4, 4, 9, 1, 5, 4, 3, 6, 0, 6, 5, 0, 2, 6, 1, 9, 6, 2, 1, 7, 9, 7, 4, 8, 0, 2, 5, 9, 3, 0, 8, 5, 8, 4, 6, 5]\n",
            "[197, 324, 27, 164, 293, 210, 239, 223, 224, 295, 24, 297, 62, 128, 65, 100, 425, 317, 165, 189, 165, 234, 224, 505, 204, 375, 47, 120, 138, 132, 154, 103, 116, 29, 34, 243, 24, 146, 93, 359, 433, 25, 207, 429, 169, 502, 94, 510, 268, 146, 356, 136, 281, 347, 136, 370, 112, 11, 4, 457, 404, 156, 316, 266, 24, 164, 389, 59, 425, 381, 95, 442, 186, 308, 343, 327, 143, 110, 405, 292, 353, 386, 324, 503, 438, 415, 350, 255, 496, 475, 428, 243, 435, 425, 360, 395, 19, 407, 11, 10, 92, 218, 449, 465, 72, 231, 49, 5, 155, 134, 287, 404, 451, 474, 204, 305, 222, 86, 269, 455, 18, 265, 361, 416, 56, 222, 31, 142, 153, 237, 402, 438, 308, 202, 496, 153, 461, 154, 418, 254, 65, 328, 491, 457, 219, 388, 175, 460, 499, 217, 494, 17, 504, 190, 186, 186, 322, 342, 335, 511, 375, 1, 288, 293, 54, 489, 261, 216, 274, 287, 287, 80, 474, 257, 507, 149, 15, 429, 391, 233, 298, 244, 454, 169, 197, 404, 285, 30, 216, 435, 285, 100, 220, 403, 77, 357, 420, 347, 223, 83, 279, 322, 302, 173, 65, 313, 42, 498, 78, 281, 349, 32, 160, 81, 267, 490, 223, 412, 501, 40, 330, 267, 43, 278, 438, 433, 55, 44, 144, 149, 201, 239, 90, 269, 498, 144, 504, 43, 231, 150, 12, 133, 240, 18, 16, 267, 424, 343, 184, 142, 99, 362, 53, 284, 166, 29, 266, 270, 146, 353, 209, 510, 211, 328, 472, 351, 286, 150, 199, 286, 201, 295, 218, 433, 131, 40, 393, 447, 325, 210, 238, 450, 118, 233, 91, 125, 214, 310, 213, 260, 88, 55, 465, 102, 53, 53, 21, 28, 460, 146, 171, 315, 409, 246, 374, 223, 255, 430, 287, 227, 389, 438, 78, 139, 182, 222, 300, 366, 467, 81, 383, 376, 508, 309, 395, 462, 299, 5, 233, 200, 47, 487, 406, 247, 456, 60, 459, 241, 27, 259, 133, 160, 172, 40, 147, 17, 302, 388, 155, 102, 404, 409, 306, 334, 372, 216, 134, 89, 431, 364, 65, 244, 398, 511, 177, 179, 193, 131, 218, 123, 267, 507, 75, 27, 258, 476, 123, 347, 465, 352, 387, 203, 207, 206, 465, 298, 126, 65, 118, 431, 173, 89, 308, 245, 213, 336, 266, 270, 383, 166, 349, 140, 396, 19, 148, 139, 266, 142, 415, 458, 199, 466, 349, 4, 329, 505, 449, 328, 147, 166, 158, 126, 428, 128, 494, 186, 249, 20, 466, 407, 456, 126, 112, 101, 1, 156, 186, 266, 100, 129, 413, 18, 55, 90, 155, 485, 208, 221, 275, 186, 321, 292, 198, 382, 401, 350, 463, 305, 221, 349, 335, 352, 470, 338, 389, 221, 71, 2, 240, 416, 507, 243, 45, 242, 191, 289, 429, 378, 50, 33, 89, 173, 85, 374, 266, 440, 230, 69, 233, 409, 201, 99, 505, 25, 57, 466, 252, 463, 194, 439, 309, 338, 228, 282, 24, 453, 66, 463, 374, 285, 383, 44, 354, 35, 365, 75, 350, 511, 132, 26, 121, 161, 81, 110, 297, 216, 490, 412, 395, 0, 109, 344, 346, 120, 436, 322, 429, 231, 325, 331, 23, 354, 321, 359, 232, 46, 175, 451, 222, 99, 324, 335, 304, 374, 182, 164, 432, 128, 390, 361, 89, 436, 103, 229, 312, 109, 238, 246, 433, 91, 179, 120, 415, 481, 124, 58, 47, 304, 453, 313, 85, 426, 130, 120, 299, 44, 214, 226, 124, 439, 389, 110, 440, 195, 153, 466, 398, 398, 71, 13, 454, 118, 138, 315, 330, 234, 326, 27, 174, 294, 12, 149, 401, 446, 174, 164, 129, 108, 107, 22, 70, 408, 164, 130, 236, 154, 286, 399, 304, 335, 356, 103, 496, 100, 101, 251, 3, 22, 362, 399, 446, 48, 192, 334, 322, 93, 371, 346, 262, 464, 176, 433, 159, 319, 193, 211, 110, 270, 85, 433, 153, 424, 229, 496, 102, 247, 504, 506, 132, 400, 433, 177, 57, 244, 266, 227, 508, 257, 209, 462, 331, 376, 379, 341, 273, 191, 392, 371, 192, 326, 397, 352, 49, 201, 178, 408, 208, 228, 503, 285, 295, 401, 507, 300, 323, 427, 404, 229, 285, 46, 251, 263, 465, 431, 406, 396, 12, 126, 426, 149, 505, 267, 406, 396, 268, 136, 230, 346, 301, 111, 253, 397, 57, 174, 249, 406, 310, 358, 319, 326, 120, 174, 161, 330, 479, 214, 435, 158, 178, 488, 8, 184, 91, 427, 214, 175, 68, 285, 248, 296, 298, 319, 327, 302, 491, 366, 181, 214, 488, 410, 106, 137, 362, 165, 45, 244, 407, 121, 265, 320, 279, 342, 208, 424, 203, 218, 11, 13, 87, 236, 462, 499, 499, 22, 188, 184, 291, 428, 154, 1, 344, 504, 456, 210, 115, 496, 80, 395, 263, 371, 216, 452, 500, 43, 440, 436, 261, 244, 487, 75, 132, 285, 158, 442, 13, 362, 356, 79, 270, 296, 38, 223, 188, 94, 250, 303, 183, 396, 456, 3, 508, 240, 218, 184, 13, 191, 330, 454, 438, 271, 182, 398, 325, 211, 485, 199, 127, 327, 448, 244, 391, 356, 65, 265, 409, 436, 228, 309, 93, 507, 130, 124, 248, 207, 215, 461, 476, 23, 81, 174, 420, 106, 239, 82, 50, 28, 172, 458, 410, 405, 70, 368, 373, 203, 288, 205, 154, 129, 476, 225, 87, 83, 75, 127, 91, 183, 500, 282, 181, 498, 27, 326, 349, 436, 163, 484, 151, 247, 383, 164, 408, 184, 173, 317, 315, 255, 6, 125, 448, 244, 299, 63, 4, 182, 97, 498, 464, 423, 338, 388, 410, 66, 399, 375, 200, 270, 88, 474, 63, 500, 400, 323, 485, 362, 153, 451, 423, 504, 50, 60, 262, 309, 307, 280, 103, 370, 44, 372, 173, 46, 436, 76, 365, 380, 247, 225, 172, 406, 502, 440, 259, 98, 439, 97, 94, 87, 451, 369, 198, 358, 207, 442, 469, 84, 211, 360, 500, 315, 101, 450, 344, 424, 270, 287, 44, 475, 222, 255, 60, 406, 249, 185, 145, 211, 0, 25, 139, 507, 37, 321, 452, 428, 77, 148, 98, 331, 148, 132, 466, 171, 462, 31, 150, 2, 510, 205, 152, 496, 151, 290, 428, 432, 423, 231, 144, 20, 506, 185, 500, 462, 506, 322, 408, 365, 412, 295, 133, 161, 118, 441, 229, 205, 237, 378, 81, 446, 167, 275, 99, 50, 352, 288, 474, 254, 451, 486, 316, 255, 501, 320, 143, 175, 445, 96, 510, 118, 266, 89, 166, 17, 424, 200, 306, 488, 468, 465, 401, 6, 410, 112, 224, 55, 237, 507, 486, 126, 347, 407, 397, 383, 304, 119, 90, 42, 313, 431, 268, 327, 53, 257, 33, 308, 55, 272, 212, 442, 461, 172, 218, 24, 248, 188, 452, 99, 130, 440, 494, 263, 252, 507, 144, 171, 40, 460, 510, 139, 420, 299, 145, 272, 231, 94, 223, 115, 68, 302, 319, 443, 396, 511, 216, 461, 320, 354, 320, 158, 426, 92, 477, 56, 35, 460, 225, 349, 72, 294, 385, 496, 473, 125, 218, 248, 174, 58, 495, 389, 361, 111, 23, 135, 406, 371, 253, 33, 41, 284, 35, 456, 288, 467, 456, 163, 151, 350, 88, 331, 36, 59, 90, 128, 163, 78, 42, 347, 389, 117, 93, 244, 171, 46, 65, 79, 94, 493, 149, 324, 95, 318, 153, 430, 192, 136, 382, 321, 46, 23, 507, 220, 143, 376, 355, 493, 159, 349, 459, 187, 194, 355, 126, 290, 442, 45, 380, 319, 362, 461, 339, 276, 213, 32, 37, 49, 7, 90, 295, 373, 332, 211, 23, 235, 480, 103, 315, 235, 171, 252, 511, 294, 62, 493, 158, 234, 229, 499, 232, 183, 351, 324, 232, 51, 288, 344, 121, 472, 277, 484, 493, 478, 314, 487, 446, 230, 272, 231, 462, 3, 371, 178, 405, 89, 109, 303, 273, 337, 247, 414, 20, 226, 66, 146, 465, 418, 121, 276, 465, 44, 245, 34, 440, 390, 161, 210, 378, 65, 373, 315, 345, 446, 388, 181, 467, 410, 456, 316, 75, 0, 484, 66, 504, 265, 448, 349, 119, 398, 115, 255, 77, 301, 14, 370, 51, 75, 459, 477, 453, 439, 153, 164, 394, 238, 381, 441, 35, 188, 420, 382, 240, 25, 436, 303, 406, 66, 179, 332, 343, 495, 17, 106, 359, 190, 270, 246, 307, 302, 119, 253, 392, 244, 453, 193, 88, 332, 204, 390, 249, 292, 485, 129, 364, 163, 44, 121, 64, 293, 262, 223, 29, 83, 316, 125, 501, 144, 437, 210, 66, 284, 486, 422, 469, 19, 143, 459, 379, 59, 71, 448, 325, 45, 230, 456, 20, 506, 263, 340, 456, 423, 175, 453, 419, 465, 130, 460, 155, 490, 178, 303, 23, 490, 347, 20, 192, 310, 125, 498, 218, 428, 260, 338, 126, 228, 85, 58, 137, 462, 51, 284, 505, 382, 3, 455, 230, 385, 265, 270, 350, 401, 460, 459, 93, 246, 473, 127, 327, 24, 219, 101, 89, 379, 367, 134, 363, 228, 422, 125, 172, 77, 398, 82, 159, 112, 380, 303, 402, 245, 282, 222, 201, 371, 437, 401, 497, 216, 20, 332, 210, 439, 174, 28, 494, 120, 291, 407, 147, 156, 385, 429, 16, 149, 497, 312, 50, 107, 39, 134, 283, 78, 158, 206, 238, 390, 12, 508, 475, 121, 93, 225, 408, 21, 377, 480, 142, 194, 210, 413, 291, 407, 490, 104, 319, 451, 25, 337, 433, 48, 122, 281, 284, 16, 343, 15, 340, 28, 255, 330, 393, 245, 65, 374, 339, 511, 211, 264, 406, 235, 348, 77, 23, 49, 147, 441, 183, 470, 130, 297, 468, 477, 409, 339, 78, 291, 7, 184, 193, 421, 434, 488, 125, 476, 452, 479, 40, 335, 398, 122, 118, 354, 51, 261, 300, 430, 104, 463, 134, 342, 410, 269, 361, 418, 439, 60, 230, 330, 311, 474, 229, 325, 183, 444, 123, 116, 294, 407, 388, 268, 149, 377, 246, 497, 366, 266, 273, 426, 206, 35, 95, 339, 147, 138, 412, 83, 136, 239, 44, 237, 90, 396, 346, 24, 108, 266, 481, 243, 370, 204, 504, 204, 191, 21, 504, 501, 200, 142, 475, 209, 345, 368, 379, 378, 240, 257, 339, 149, 167, 374, 116, 495, 119, 256, 275, 212, 380, 175, 404, 295, 82, 483, 388, 103, 117, 85, 366, 2, 193, 194, 321, 185, 128, 304, 265, 334, 82, 186, 45, 413, 286, 259, 240, 394, 237, 100, 70, 289, 14, 4, 51, 200, 174, 471, 317, 262, 26, 50, 433, 74, 347, 316, 54, 136, 342, 476, 91, 119, 374, 323, 501, 477, 11, 66, 376, 217, 417, 334, 94, 145, 360, 183, 365, 203, 143, 5, 174, 405, 409, 419, 190, 27, 160, 373, 52, 190, 289, 211, 464, 112, 309, 55, 231, 301, 490, 353, 477, 8, 23, 228, 244, 8, 315, 102, 169, 397, 176, 474, 73, 277, 508, 63, 500, 388, 166, 313, 13, 496, 290, 255, 372, 199, 508, 123, 477, 140, 227, 82, 504, 159, 506, 374, 124, 467, 390, 497, 252, 458, 323, 338, 181, 63, 115, 86, 449, 72, 394, 90, 398, 332, 249, 303, 321, 464, 400, 162, 170, 224, 441, 278, 322, 114, 236, 320, 419, 333, 284, 243, 307, 406, 267, 136, 212, 245, 502, 335, 370, 325, 400, 56, 365, 164, 431, 122, 165, 236, 348, 42, 175, 388, 81, 150, 303, 425, 206, 139, 500, 94, 467, 237, 414, 100, 322, 334, 282, 323, 395, 17, 326, 471, 484, 39, 139, 325, 348, 285, 308, 7, 386, 58, 167, 123, 408, 1, 483, 211, 256, 135, 510, 414, 428, 413, 166, 90, 153, 405, 81, 427, 364, 414, 302, 117, 289, 334, 500, 115, 172, 383, 173, 495, 333, 74, 11, 479, 86, 290, 5, 383, 416, 488, 137, 175, 271, 497, 370, 122, 209, 89, 218, 52, 115, 303, 264, 238, 249, 409, 13, 73, 245, 40, 347, 413, 53, 199, 47, 204, 276, 279, 363, 333, 242, 268, 39, 296, 325, 269, 453, 182, 268, 296, 3, 208, 162, 314, 446, 283, 456, 358, 162, 230, 106, 420, 171, 452, 230, 303, 489, 202, 498, 111, 471, 440, 287, 112, 396, 380, 23, 442, 504, 113, 309, 98, 34, 52, 337, 408, 148, 240, 151, 233, 144, 167, 123, 303, 177, 207, 294, 11, 362, 265, 374, 157, 334, 59, 279, 369, 377, 352, 423, 17, 186, 324, 229, 490, 158, 487, 290, 135, 345, 483, 114, 45, 16, 90, 193, 92, 151, 261, 409, 299, 24, 205, 354, 140, 138, 489, 283, 93, 414, 190, 243, 67, 452, 420, 185, 395, 449, 391, 174, 151, 64, 168, 495, 260, 398, 450, 79, 511, 59, 386, 351, 298, 222, 238, 340, 86, 451, 292, 48, 503, 74, 58, 58, 65, 153, 319, 130, 363, 292, 85, 148, 477, 212, 459, 393, 158, 103, 61, 338, 397, 344, 485, 286, 8, 437, 50, 168, 254, 202, 326, 500, 87, 136, 96, 339, 31, 421, 503, 38, 81, 65, 69, 490, 183, 298, 455, 455, 132, 70, 295, 371, 251, 305, 158, 331, 119, 285, 456, 0, 151, 348, 446, 387, 229, 480, 482, 132, 68, 89, 55, 312, 100, 64, 55, 13, 69, 144, 253, 140, 197, 177, 110, 284, 439, 371, 315, 254, 491, 383, 346, 10, 39, 356, 138, 460, 194, 419, 163, 401, 196, 193, 77, 495, 362, 276, 299, 224, 196, 16, 490, 236, 476, 79, 261, 203, 297, 251, 494, 243, 220, 250, 250, 307, 229, 51, 49, 377, 410, 465, 480, 137, 68, 104, 56, 389, 125, 398, 473, 190, 322, 119, 168, 391, 491, 208, 233, 93, 321, 289, 117, 373, 193, 336, 85, 382, 371, 298, 496, 252, 285, 230, 111, 256, 332, 102, 196, 268, 88, 9, 172, 17, 179, 278, 83, 387, 86, 352, 444, 506, 467, 365, 236, 146, 429, 200, 282, 334, 118, 290, 311, 425, 115, 170, 73, 265, 511, 263, 146, 215, 183, 242, 281, 116, 82, 97, 316, 375, 474, 426, 262, 443, 9, 119, 259, 256, 304, 16, 397, 94, 151, 350, 259, 206, 214, 133, 148, 103, 313, 56, 16, 331, 347, 479, 26, 266, 10, 99, 507, 368, 294, 310, 275, 334, 302, 193, 483, 181, 369, 388, 256, 302, 438, 30, 245, 294, 140, 86, 497, 432, 432, 313, 335, 154, 327, 259, 201, 287, 20, 208, 284, 390, 117, 143, 458, 443, 349, 443, 391, 360, 373, 476, 465, 340, 215, 358, 18, 315, 73, 176, 32, 61, 352, 49, 34, 449, 489, 36, 67, 133, 74, 244, 510, 24, 37, 328, 399, 385, 212, 251, 334, 485, 146, 215, 289, 267, 136, 409, 386, 30, 382, 295, 479, 405, 239, 31, 271, 37, 471, 29, 18, 329, 55, 166, 447, 177, 71, 510, 204, 188, 486, 412, 119, 220, 142, 348, 396, 481, 414, 185, 356, 347, 477, 363, 15, 437, 287, 302, 243, 218, 344, 453, 269, 399, 419, 363, 204, 366, 133, 318, 98, 485, 175, 307, 510, 211, 440, 27, 236, 271, 369, 420, 72, 56, 471, 364, 296, 467, 134, 305, 118, 426, 118, 483, 180, 228, 308, 0, 101, 413, 259, 193, 369, 44, 206, 240, 126, 428, 318, 104, 381, 447, 11, 390, 227, 428, 350, 53, 210, 93, 301, 391, 485, 374, 331, 404, 424, 103, 154, 66, 365, 341, 122, 196, 147, 41, 143, 197, 62, 188, 237, 9, 70, 50, 109, 433, 47, 116, 58, 153, 172, 485, 142, 384, 487, 304, 74, 351, 326, 471, 455, 244, 443, 474, 274, 118, 121, 282, 270, 87, 50, 408, 62, 70, 430, 442, 15, 450, 152, 333, 447, 404, 387, 480, 426, 195, 105, 455, 339, 441, 47, 284, 320, 286, 351, 49, 270, 237, 476, 227, 243, 43, 483, 487, 500, 358, 382, 178, 254, 83, 417, 248, 450, 217, 222, 263, 41, 308, 43, 465, 124, 356, 62, 201, 123, 164, 314, 484, 3, 199, 253, 434, 137, 41, 64, 494, 183, 90, 485, 88, 429, 470, 340, 463, 71, 435, 14, 288, 124, 427, 349, 407, 61, 28, 212, 109, 264, 30, 20, 490, 463, 294, 217, 11, 77, 483, 189, 333, 125, 98, 190, 352, 331, 93, 21, 494, 413, 155, 509, 274, 400, 56, 440, 322, 272, 501, 60, 32, 359, 466, 310, 508, 378, 442, 337, 101, 341, 468, 390, 240, 196, 350, 165, 180, 132, 50, 448, 458, 70, 13, 104, 75, 305, 237, 507, 95, 40, 249, 94, 116, 296, 489, 453, 49, 221, 347, 187, 282, 293, 193, 64, 200, 162, 31, 214, 87, 479, 25, 459, 209, 495, 105, 423, 145, 103, 219, 460, 0, 93, 486, 290, 10, 62, 356, 397, 277, 133, 500, 411, 422, 330, 175, 252, 192, 38, 288, 199, 447, 37, 162, 156, 155, 263, 389, 52, 218, 81, 127, 502, 114, 444, 342, 24, 496, 506, 491, 501, 376, 205, 225, 270, 155, 317, 106, 467, 317, 248, 443, 267, 224, 260, 449, 487, 23, 404, 186, 139, 32, 462, 252, 508, 189, 390, 399, 51, 296, 105, 202, 105, 284, 367, 375, 40, 356, 9, 468, 262, 245, 56, 147, 348, 468, 497, 22, 387, 48, 318, 142, 192, 377, 357, 63, 100, 295, 381, 445, 312, 485, 307, 305, 277, 207, 27, 116, 196, 395, 459, 272, 457, 17, 129, 199, 256, 149, 265, 56, 315, 382, 385, 69, 357, 323, 143, 114, 226, 219, 324, 208, 15, 503, 241, 299, 222, 69, 90, 449, 261, 261, 184, 299, 366, 420, 245, 206, 406, 37, 459, 326, 252, 461, 237, 272, 35, 462, 304, 258, 92, 378, 203, 175, 9, 79, 227, 343, 308, 56, 31, 274, 111, 456, 308, 134, 155, 22, 46, 145, 28, 162, 313, 77, 188, 197, 154, 79, 66, 372, 266, 493, 119, 452, 327, 489, 98, 74, 412, 217, 343, 453, 268, 78, 346, 435, 31, 79, 414, 479, 82, 506, 405, 149, 111, 119, 124, 438, 231, 344, 284, 495, 74, 57, 402, 8, 232, 155, 394, 257, 431, 94, 363, 484, 239, 43, 229, 252, 393, 332, 119, 160, 276, 389, 248, 95, 483, 457, 94, 262, 236, 404, 434, 372, 220, 184, 238, 483, 22, 83, 494, 449, 482, 406, 448, 230, 399, 192, 385, 228, 414, 48, 203, 249, 324, 319, 28, 37, 163, 201, 190, 56, 257, 18, 126, 384, 247, 2, 197, 325, 42, 294, 236, 258, 508, 246, 414, 490, 5, 6, 160, 305, 232, 227, 396, 232, 288, 233, 423, 208, 162, 25, 22, 390, 95, 194, 124, 201, 183, 386, 166, 332, 171, 450, 368, 430, 132, 160, 133, 180, 168, 207, 495, 210, 136, 495, 413, 24, 498, 415, 66, 33, 68, 219, 166, 389, 471, 165, 447, 193, 308, 119, 254, 105, 377, 301, 181, 142, 62, 96, 23, 50, 287, 392, 340, 165, 425, 118, 222, 273, 156, 263, 5, 328, 385, 345, 90, 257, 119, 183, 48, 480, 309, 412, 119, 174, 177, 447, 58, 292, 46, 366, 118, 474, 292, 194, 350, 476, 493, 31, 429, 101, 294, 239, 391, 51, 214, 233, 121, 341, 113, 195, 312, 72, 467, 142, 182, 358, 382, 193, 42, 245, 199, 166, 482, 510, 474, 115, 292, 101, 295, 285, 468, 394, 469, 485, 318, 281, 140, 35, 38, 165, 4, 415, 15, 351, 339, 240, 134, 376, 10, 480, 227, 375, 412, 354, 225, 210, 328, 124, 109, 434, 34, 315, 246, 233, 106, 337, 84, 459, 148, 25, 270, 298, 91, 208, 68, 491, 136, 63, 474, 402, 263, 460, 198, 494, 501, 364, 390, 459, 365, 206, 283, 78, 457, 349, 40, 347, 290, 70, 80, 117, 262, 350, 74, 322, 268, 375, 366, 359, 452, 185, 98, 255, 451, 494, 496, 354, 101, 448, 248, 287, 58, 156, 90, 262, 437, 331, 362, 36, 412, 463, 143, 444, 415, 331, 220, 14, 175, 202, 82, 99, 68, 480, 245, 381, 451, 130, 175, 320, 475, 450, 311, 259, 64, 295, 238, 317, 282, 339, 484, 24, 241, 167, 257, 452, 167, 487, 509, 312, 329, 288, 341, 317, 352, 390, 380, 64, 234, 337, 246, 184, 451, 174, 167, 356, 114, 24, 147, 481, 490, 340, 427, 337, 0, 218, 238, 256, 324, 474, 240, 112, 383, 138, 52, 328, 53, 489, 247, 40, 266, 503, 344, 116, 222, 40, 136, 9, 210, 14, 259, 1, 41, 224, 158, 396, 212, 109, 79, 332, 294, 433, 373, 80, 402, 324, 396, 433, 71, 64, 34, 101, 122, 444, 428, 438, 489, 403, 338, 509, 434, 400, 152, 141, 310, 471, 405, 193, 265, 195, 273, 321, 164, 101, 345, 327, 88, 34, 279, 283, 74, 165, 377, 67, 413, 507, 220, 266, 303, 7, 397, 119, 373, 349, 440, 142, 208, 305, 475, 335, 271, 450, 243, 309, 97, 325, 44, 129, 312, 428, 45, 63, 109, 19, 414, 97, 451, 53, 308, 30, 328, 252, 233, 395, 303, 2, 211, 197, 169, 73, 1, 220, 429, 214, 54, 340, 116, 464, 386, 243, 203, 423, 167, 14, 154, 419, 464, 154, 296, 386, 111, 412, 68, 490, 142, 18, 388, 462, 326, 471, 500, 476, 333, 197, 427, 293, 122, 54, 324, 471, 33, 175, 118, 511, 128, 435, 262, 329, 191, 123, 412, 342, 324, 303, 141, 109, 226, 278, 211, 336, 7, 140, 172, 164, 186, 44, 478, 364, 273, 336, 442, 484, 452, 494, 168, 196, 32, 160, 435, 58, 256, 421, 240, 412, 139, 27, 247, 472, 379, 433, 146, 50, 139, 422, 23, 482, 3, 275, 172, 96, 353, 313, 37, 189, 152, 295, 155, 351, 71, 30, 309, 92, 27, 332, 55, 163, 210, 393, 54, 277, 84, 354, 230, 400, 241, 202, 57, 294, 287, 58, 257, 474, 455, 269, 51, 322, 60, 158, 446, 203, 289, 292, 100, 254, 395, 71, 500, 365, 228, 291, 431, 277, 316, 11, 502, 338, 456, 326, 496, 419, 426, 75, 442, 344, 117, 95, 239, 78, 376, 405, 342, 509, 413, 157, 291, 156, 205, 321, 459, 172, 147, 467, 126, 175, 53, 433, 99, 44, 2, 270, 486, 167, 262, 45, 144, 364, 413, 243, 46, 22, 101, 126, 99, 347, 122, 319, 279, 283, 37, 511, 256, 480, 356, 231, 134, 252, 472, 110, 374, 55, 399, 412, 477, 11, 471, 404, 183, 135, 73, 203, 293, 455, 379, 139, 259, 15, 259, 393, 409, 192, 205, 55, 138, 191, 9, 491, 497, 141, 276, 0, 254, 70, 304, 416, 203, 78, 205, 358, 215, 367, 445, 154, 242, 262, 420, 39, 106, 380, 418, 192, 330, 196, 360, 372, 189, 209, 467, 49, 491, 86, 414, 441, 76, 439, 440, 171, 389, 216, 255, 342, 445, 216, 486, 124, 342, 103, 298, 509, 318, 484, 344, 345, 138, 180, 510, 271, 160, 232, 219, 403, 160, 214, 207, 315, 233, 284, 197, 221, 112, 55, 358, 411, 192, 209, 496, 128, 109, 224, 236, 404, 251, 328, 460, 480, 319, 409, 394, 205, 439, 275, 452, 95, 388, 436, 37, 260, 113, 131, 150, 175, 134, 135, 167, 353, 479, 76, 402, 119, 69, 248, 270, 400, 257, 367, 326, 216, 247, 424, 150, 67, 364, 389, 467, 251, 304, 74, 321, 281, 131, 427, 215, 399, 88, 118, 1, 189, 217, 405, 264, 29, 443, 141, 235, 506, 407, 88, 391, 504, 490, 272, 219, 252, 236, 359, 55, 130, 128, 17, 187, 226, 418, 405, 174, 283, 43, 386, 151, 484, 268, 184, 58, 47, 297, 212, 225, 462, 289, 29, 60, 166, 148, 82, 328, 448, 505, 220, 60, 472, 402, 15, 296, 182, 249, 354, 70, 413, 436, 288, 372, 94, 39, 230, 222, 112, 492, 26, 385, 217, 435, 126, 280, 459, 191, 183, 191, 179, 334, 349, 89, 429, 326, 41, 453, 308, 449, 172, 342, 237, 176, 263, 415, 250, 360, 466, 181, 249, 76, 50, 176, 257, 210, 152, 247, 385, 374, 492, 252, 264, 233, 304, 464, 169, 274, 63, 52, 234, 103, 420, 402, 75, 204, 280, 442, 186, 176, 362, 413, 299, 141, 0, 264, 297, 61, 286, 454, 83, 415, 338, 498, 495, 470, 172, 253, 196, 437, 23, 309, 399, 235, 465, 327, 430, 354, 169, 380, 176, 302, 175, 504, 345, 238, 359, 42, 32, 162, 14, 491, 220, 282, 491, 78, 442, 419, 211, 408, 51, 386, 459, 265, 385, 472, 409, 466, 343, 343, 462, 99, 111, 207, 81, 404, 280, 245, 492, 385, 82, 225, 232, 19, 488, 11, 265, 21, 22, 418, 485, 295, 459, 112, 15, 280, 276, 193, 284, 449, 298, 347, 401, 156, 380, 301, 83, 203, 341, 456, 206, 407, 197, 467, 95, 203, 326, 434, 350, 357, 26, 281, 387, 103, 281, 360, 194, 417, 180, 225, 492, 20, 88, 69, 93, 154, 327, 468, 230, 235, 58, 259, 487, 294, 396, 78, 48, 360, 484, 287, 312, 132, 151, 200, 29, 250, 378, 456, 26, 206, 402, 387, 206, 318, 52, 494, 361, 135, 254, 9, 254, 441, 238, 447, 378, 288, 101, 288, 494, 202, 115, 467, 482, 144, 191, 386, 314, 227, 292, 398, 490, 377, 275, 165, 423, 107, 407, 294, 215, 252, 37, 480, 31, 44, 237, 340, 257, 352, 263, 97, 11, 476, 246, 333, 508, 504, 391, 215, 148, 493, 138, 138, 171, 399, 419, 347, 207, 88, 5, 23, 279, 198, 210, 396, 37, 229, 129, 414, 461, 144, 445, 505, 141, 174, 366, 120, 254, 253, 323, 425, 460, 369, 336, 247, 263, 206, 249, 487, 355, 470, 101, 256, 33, 446, 492, 324, 355, 156, 175, 411, 187, 250, 352, 120, 445, 16, 75, 122, 220, 472, 372, 105, 79, 108, 181, 407, 284, 406, 48, 455, 417, 90, 68, 332, 416, 459, 503, 484, 290, 30, 364, 110, 419, 447, 391, 430, 120, 176, 441, 19, 206, 504, 68, 79, 81, 504, 174, 453, 406, 469, 166, 222, 182, 228, 140, 5, 16, 481, 439, 131, 176, 284, 211, 161, 502, 358, 471, 136, 27, 457, 129, 294, 244, 341, 427, 12, 260, 154, 293, 386, 19, 406, 16, 156, 394, 18, 119, 254, 467, 265, 408, 99, 329, 187, 6, 347, 55, 37, 364, 250, 128, 394, 78, 196, 78, 38, 421, 242, 61, 309, 244, 166, 449, 4, 415, 134, 31, 435, 15, 358, 37, 80, 263, 73, 96, 413, 122, 216, 333, 262, 253, 36, 318, 315, 162, 296, 6, 397, 150, 285, 345, 205, 303, 109, 264, 444, 416, 35, 475, 431, 15, 421, 422, 262, 126, 124, 368, 389, 224, 164, 55, 400, 336, 147, 434, 493, 310, 259, 464, 448, 150, 369, 489, 111, 294, 329, 305, 230, 49, 29, 171, 462, 349, 439, 178, 455, 139, 207, 193, 476, 473, 393, 399, 74, 17, 150, 194, 504, 128, 118, 388, 37, 456, 14, 443, 164, 115, 153, 307, 273, 145, 477, 103, 81, 435, 35, 354, 277, 191, 487, 292, 154, 183, 70, 11, 392, 292, 205, 404, 392, 328, 46, 164, 354, 406, 199, 193, 383, 471, 152, 480, 100, 12, 454, 351, 508, 32, 215, 152, 71, 455, 281, 98, 360, 21, 49, 200, 150, 356, 480, 93, 394, 88, 257, 362, 246, 175, 177, 121, 33, 204, 349, 482, 362, 284, 416, 40, 424, 97, 385, 28, 305, 131, 262, 281, 14, 400, 203, 375, 171, 439, 369, 242, 133, 499, 338, 347, 420, 451, 32, 87, 234, 294, 276, 173, 135, 301, 359, 495, 198, 325, 318, 375, 504, 422, 456, 234, 108, 127, 18, 99, 457, 17, 471, 174, 122, 362, 328, 434, 36, 47, 446, 297, 190, 293, 29, 87, 117, 81, 295, 106, 453, 146, 204, 465, 293, 249, 335, 459, 356, 433, 39, 127, 26, 197, 138, 52, 463, 348, 88, 154, 441, 143, 190, 80, 55, 61, 142, 21, 258, 160, 125, 495, 490, 275, 472, 383, 186, 274, 357, 493, 269, 283, 413, 212, 232, 13, 416, 387, 221, 249, 397, 65, 373, 231, 355, 494, 108, 19, 494, 114, 104, 315, 85, 83, 424, 131, 389, 136, 472, 228, 194, 458, 489, 147, 114, 88, 152, 341, 24, 235, 135, 252, 48, 442, 66, 489, 237, 324, 305, 375, 350, 77, 488, 108, 64, 198, 313, 443, 339, 355, 7, 156, 420, 248, 509, 111, 168, 182, 458, 262, 414, 96, 30, 398, 41, 176, 441, 484, 23, 182, 396, 429, 426, 304, 90, 10, 462, 242, 474, 328, 262, 188, 269, 12, 309, 93, 353, 462, 55, 347, 459, 434, 467, 409, 479, 15, 288, 471, 3, 58, 29, 488, 338, 115, 62, 340, 227, 6, 243, 74, 341, 381, 422, 66, 282, 36, 424, 328, 226, 385, 190, 170, 298, 364, 427, 16, 188, 214, 334, 246, 304, 249, 488, 216, 449, 73, 159, 138, 270, 408, 420, 191, 130, 214, 498, 173, 99, 89, 235, 503, 159, 487, 123, 261, 49, 75, 447, 135, 74, 481, 274, 370, 465, 205, 49, 445, 491, 422, 233, 342, 410, 188, 401, 283, 157, 417, 218, 48, 316, 288, 183, 134, 384, 206, 474, 334, 17, 467, 95, 384, 291, 118, 456, 313, 370, 227, 349, 245, 24, 215, 74, 391, 281, 91, 395, 240, 457, 90, 161, 453, 265, 371, 442, 223, 37, 142, 27, 66, 9, 171, 164, 334, 455, 455, 360, 477, 329, 196, 486, 439, 131, 467, 299, 42, 451, 508, 194, 204, 451, 381, 108, 456, 118, 128, 474, 505, 377, 412, 358, 350, 5, 189, 378, 154, 49, 324, 226, 474, 231, 448, 509, 179, 166, 219, 161, 315, 127, 149, 377, 162, 493, 48, 72, 296, 80, 504, 116, 288, 11, 200, 23, 347, 92, 337, 464, 111, 172, 435, 94, 486, 468, 223, 140, 14, 192, 136, 429, 56, 111, 231, 231, 36, 172, 385, 140, 351, 187, 105, 227, 50, 164, 341, 249, 64, 140, 343, 452, 393, 246, 209, 5, 47, 242, 484, 486, 111, 320, 187, 402, 181, 245, 126, 156, 382, 101, 278, 406, 96, 504, 225, 57, 30, 396, 300, 156, 65, 8, 175, 92, 294, 264, 10, 28, 436, 81, 271, 93, 336, 385, 364, 350, 167, 345, 308, 97, 310, 487, 47, 488, 473, 25, 438, 471, 417, 102, 166, 303, 353, 79, 178, 292, 505, 337, 357, 363, 189, 190, 394, 377, 305, 215, 338, 279, 63, 285, 32, 346, 130, 273, 311, 237, 226, 258, 405, 426, 28, 128, 136, 204, 133, 80, 287, 434, 56, 167, 359, 284, 118, 240, 60, 338, 465, 77, 2, 204, 254, 85, 353, 447, 477, 119, 357, 66, 467, 130, 287, 301, 91, 439, 332, 287, 401, 39, 402, 7, 342, 395, 305, 430, 299, 275, 377, 158, 305, 509, 488, 85, 14, 477, 474, 195, 365, 147, 261, 197, 282, 466, 282, 109, 387, 280, 62, 434, 111, 300, 383, 233, 412, 480, 355, 17, 373, 495, 215, 399, 414, 316, 442, 505, 105, 12, 234, 17, 130, 226, 457, 263, 357, 204, 263, 349, 319, 357, 261, 226, 70, 423, 103, 180, 391, 107, 265, 70, 476, 381, 132, 385, 371, 212, 362, 335, 31, 169, 194, 94, 501, 469, 19, 73, 122, 118, 112, 366, 221, 493, 252, 325, 109, 12, 251, 23, 388, 346, 171, 94, 0, 510, 310, 382, 155, 367, 162, 69, 168, 13, 332, 83, 318, 28, 109, 443, 275, 302, 485, 281, 251, 173, 63, 461, 329, 472, 298, 312, 346, 258, 105, 491, 96, 252, 308, 139, 183, 294, 270, 353, 139, 283, 331, 214, 505, 375, 220, 500, 198, 41, 288, 181, 148, 232, 274, 349, 46, 409, 292, 482, 317, 153, 430, 95, 447, 411, 75, 331, 290, 202, 254, 10, 278, 352, 10, 281, 312, 51, 115, 191, 308, 420, 83, 352, 60, 165, 155, 282, 110, 185, 358, 255, 155, 486, 184, 3, 499, 421, 362, 37, 155, 440, 67, 191, 264, 64, 332, 328, 226, 265, 347, 395, 283, 468, 228, 298, 313, 88, 401, 252, 154, 280, 178, 428, 460, 115, 338, 429, 198, 53, 354, 500, 46, 90, 394, 154, 39, 152, 14, 52, 56, 475, 40, 282, 231, 492, 468, 226, 413, 276, 120, 229, 263, 341, 437, 427, 445, 160, 20, 385, 95, 442, 280, 143, 324, 246, 245, 115, 189, 406, 45, 142, 24, 414, 25, 77, 356, 199, 503, 41, 170, 94, 431, 224, 229, 206, 346, 441, 59, 115, 427, 177, 333, 129, 185, 308, 79, 413, 212, 349, 115, 402, 270, 475, 331, 443, 511, 190, 464, 111, 18, 56, 129, 39, 265, 357, 254, 478, 185, 432, 19, 366, 16, 330, 395, 399, 46, 326, 210, 498, 407, 287, 199, 35, 465, 12, 80, 418, 378, 418, 2, 62, 396, 187, 69, 59, 115, 109, 368, 181, 246, 460, 192, 507, 29, 212, 45, 63, 139, 57, 87, 438, 385, 105, 263, 204, 260, 203, 169, 456, 367, 438, 190, 83, 47, 420, 123, 230, 309, 504, 230, 161, 489, 412, 326, 282, 72, 191, 431, 463, 319, 479, 356, 380, 63, 298, 454, 92, 426, 448, 507, 510, 36, 491, 216, 187, 89, 461, 65, 396, 497, 75, 503, 335, 476, 33, 381, 12, 331, 171, 383, 307, 305, 357, 134, 504, 313, 358, 366, 20, 310, 75, 202, 452, 118, 60, 19, 484, 78, 88, 9, 430, 509, 367, 272, 23, 10, 445, 241, 471, 105, 169, 437, 209, 169, 509, 192, 333, 249, 417, 458, 454, 418, 355, 478, 29, 259, 11, 233, 430, 26, 171, 144, 175, 450, 118, 355, 135, 359, 334, 305, 113, 338, 173, 468, 4, 244, 87, 351, 495, 26, 20, 508, 283, 8, 444, 438, 348, 464, 205, 17, 370, 56, 344, 260, 152, 404, 78, 152, 445, 399, 113, 3, 176, 198, 254, 511, 225, 495, 440, 335, 442, 89, 290, 470, 42, 149, 436, 189, 225, 366, 422, 507, 362, 200, 44, 151, 0, 397, 352, 344, 320, 143, 381, 388, 247, 473, 406, 220, 26, 492, 10, 171, 479, 393, 112, 167, 199, 341, 354, 123, 429, 485, 381, 244, 97, 498, 138, 19, 39, 407, 506, 426, 103, 191, 348, 17, 304, 257, 402, 293, 192, 307, 60, 438, 393, 433, 1, 367, 335, 423, 461, 459, 325, 282, 136, 97, 499, 342, 127, 181, 51, 196, 179, 166, 83, 279, 311, 391, 276, 344, 425, 32, 410, 259, 21, 146, 55, 363, 182, 73, 52, 349, 290, 371, 19, 343, 207, 286, 391, 474, 444, 180, 200, 371, 378, 178, 73, 199, 11, 494, 392, 66, 166, 140, 407, 228, 173, 309, 266, 423, 437, 228, 124, 373, 221, 259, 13, 55, 223, 189, 323, 366, 353, 240, 459, 137, 198, 111, 376, 253, 185, 227, 123, 415, 447, 87, 96, 294, 446, 150, 356, 395, 300, 182, 236, 431, 262, 290, 504, 35, 417, 375, 505, 238, 9, 218, 41, 455, 14, 107, 443, 11, 219, 249, 378, 449, 204, 71, 428, 385, 9, 185, 357, 209, 14, 409, 51, 354, 168, 375, 475, 380, 426, 111, 343, 195, 131, 94, 181, 324, 202, 237, 93, 214, 211, 267, 203, 70, 407, 30, 365, 27, 281, 182, 88, 353, 237, 297, 148, 137, 156, 308, 99, 504, 409, 436, 175, 288, 202, 219, 172, 81, 480, 301, 192, 330, 438, 210, 13, 404, 224, 62, 277, 357, 214, 79, 21, 41, 211, 492, 267, 349, 371, 347, 133, 455, 426, 289, 147, 358, 488, 452, 301, 333, 484, 1, 154, 218, 484, 180, 324, 207, 401, 213, 112, 171, 227, 507, 201, 103, 86, 208, 77, 374, 470, 17, 107, 278, 401, 132, 138, 152, 503, 395, 26, 163, 414, 92, 380, 403, 188, 226, 504, 67, 257, 292, 14, 196, 401, 240, 435, 502, 288, 501, 5, 65, 511, 233, 170, 24, 277, 448, 333, 179, 257, 45, 417, 327, 189, 135, 317, 125, 445, 0, 157, 150, 295, 322, 297, 438, 52, 415, 463, 277, 384, 197, 163, 300, 239, 132, 443, 282, 86, 74, 57, 297, 145, 416, 480, 76, 42, 406, 148, 413, 469, 189, 5, 415, 238, 361, 347, 261, 34, 244, 338, 136, 410, 273, 254, 190, 181, 263, 369, 109, 472, 284, 226, 427, 184, 140, 194, 179, 250, 158, 345, 266, 264, 218, 259, 182, 508, 158, 154, 423, 267, 223, 222, 300, 68, 275, 476, 333, 53, 258, 476, 108, 128, 158, 113, 128, 81, 424, 183, 101, 510, 301, 358, 290, 292, 110, 475, 102, 483, 347, 350, 322, 500, 387, 195, 201, 122, 418, 304, 463, 413, 217, 361, 251, 329, 22, 61, 290, 283, 59, 438, 233, 175, 345, 333, 506, 257, 231, 298, 12, 360, 389, 285, 438, 317, 292, 112, 489, 213, 200, 468, 93, 168, 303, 40, 38, 57, 474, 383, 212, 424, 125, 126, 50, 510, 387, 53, 425, 150, 463, 385, 337, 5, 448, 286, 13, 157, 321, 414, 142, 322, 448, 307, 302, 90, 253, 431, 27, 31, 491, 2, 78, 28, 377, 366, 314, 469, 405, 332, 144, 339, 363, 65, 119, 260, 297, 498, 55, 255, 12, 96, 367, 78, 326, 44, 302, 422, 131, 458, 107, 443, 211, 511, 472, 349, 487, 175, 357, 107, 285, 204, 193, 387, 259, 407, 235, 204, 156, 319, 268, 215, 177, 309, 380, 158, 469, 177, 147, 352, 194, 27, 271, 209, 286, 320, 70, 173, 330, 98, 216, 363, 187, 282, 200, 220, 41, 8, 241, 18, 413, 160, 395, 234, 159, 284, 124, 274, 404, 159, 412, 50, 28, 415, 213, 438, 170, 511, 361, 201, 246, 401, 362, 361, 433, 400, 128, 406, 187, 381, 273, 173, 392, 234, 244, 336, 257, 73, 471, 88, 53, 75, 310, 376, 300, 447, 156, 24, 505, 325, 438, 137, 287, 91, 449, 180, 272, 475, 72, 156, 174, 274, 430, 300, 146, 235, 396, 304, 119, 75, 239, 59, 144, 440, 422, 42, 130, 210, 266, 330, 56, 76, 449, 24, 310, 86, 15, 222, 10, 151, 473, 1, 111, 331, 23, 412, 325, 500, 461, 135, 61, 2, 471, 366, 115, 455, 193, 233, 32, 343, 40, 145, 74, 310, 39, 289, 114, 315, 57, 35, 166, 176, 330, 56, 45, 433, 293, 416, 347, 205, 325, 26, 76, 303, 80, 424, 407, 386, 190, 483, 419, 481, 165, 182, 277, 183, 165, 20, 300, 4, 494, 294, 401, 300, 193, 499, 93, 321, 57, 428, 186, 78, 24, 320, 436, 179, 178, 160, 7, 162, 64, 447, 289, 166, 484, 90, 187, 376, 227, 338, 355, 345, 24, 238, 485, 198, 395, 183, 377, 396, 23, 383, 413, 433, 331, 344, 329, 377, 336, 155, 140, 350, 434, 41, 203, 231, 459, 92, 450, 258, 377, 149, 283, 459, 157, 416, 223, 383, 451, 496, 276, 100, 382, 422, 374, 235, 201, 497, 131, 5, 336, 86, 227, 164, 120, 282, 258, 404, 67, 50, 1, 191, 179, 421, 198, 497, 334, 439, 403, 280, 170, 156, 91, 500, 303, 191, 111, 84, 439, 403, 483, 431, 377, 455, 115, 504, 425, 99, 36, 263, 331, 114, 79, 376, 121, 43, 254, 493, 298, 446, 101, 467, 356, 212, 204, 401, 494, 90, 470, 432, 421, 349, 122, 470, 429, 326, 78, 8, 329, 423, 187, 186, 328, 31, 308, 435, 342, 248, 274, 76, 91, 358, 208, 209, 415, 345, 99, 361, 397, 370, 474, 483, 149, 356, 238, 118, 123, 395, 416, 385, 50, 479, 53, 89, 240, 333, 427, 511, 248, 121, 423, 439, 32, 142, 444, 187, 483, 299, 57, 261, 119, 224, 143, 211, 177, 234, 70, 415, 291, 446, 311, 269, 429, 39, 208, 377, 289, 28, 358, 146, 290, 113, 358, 489, 123, 74, 306, 203, 386, 160, 175, 486, 335, 411, 331, 199, 231, 427, 283, 173, 368, 216, 372, 288, 31, 364, 493, 175, 16, 243, 485, 324, 308, 159, 350, 147, 475, 253, 30, 167, 402, 387, 196, 473, 275, 39, 7, 401, 221, 121, 450, 329, 130, 43, 383, 139, 238, 258, 45, 335, 72, 9, 4, 481, 288, 294, 415, 475, 108, 342, 62, 426, 147, 386, 335, 235, 326, 344, 52, 190, 352, 426, 483, 68, 385, 434, 289, 278, 386, 9, 334, 394, 141, 166, 35, 426, 400, 127, 353, 489, 92, 66, 356, 162, 179, 318, 487, 153, 44, 376, 209, 484, 74, 111, 412, 418, 438, 12, 305, 140, 490, 355, 61, 475, 500, 215, 253, 358, 63, 457, 250, 177, 274, 287, 102, 68, 374, 157, 63, 395, 202, 216, 31, 28, 229, 97, 186, 418, 127, 458, 168, 319, 251, 75, 374, 272, 258, 132, 210, 172, 411, 256, 487, 334, 387, 116, 228, 441, 493, 478, 253, 441, 298, 245, 511, 279, 161, 234, 21, 362, 303, 276, 40, 54, 498, 2, 469, 422, 323, 0, 162, 112, 397, 174, 511, 438, 170, 225, 505, 13, 185, 417, 445, 493, 340, 301, 59, 85, 481, 475, 308, 449, 148, 476, 452, 139, 44, 264, 304, 369, 486, 342, 50, 48, 420, 442, 230, 0, 465, 118, 104, 253, 494, 400, 37, 407, 39, 292, 485, 377, 163, 0, 487, 136, 413, 50, 11, 423, 273, 413, 240, 151, 110, 503, 258, 397, 402, 419, 203, 14, 475, 25, 234, 197, 99, 155, 504, 199, 325, 93, 387, 105, 377, 109, 47, 469, 331, 253, 316, 224, 136, 505, 64, 331, 219, 68, 47, 454, 336, 451, 66, 266, 176, 43, 80, 99, 422, 55, 188, 137, 309, 297, 182, 9, 172, 222, 278, 471, 331, 159, 491, 275, 474, 367, 65, 251, 297, 110, 458, 317, 85, 140, 424, 218, 170, 420, 125, 235, 244, 459, 103, 337, 404, 139, 5, 118, 97, 332, 208, 353, 22, 470, 144, 495, 10, 87, 313, 61, 223, 215, 263, 165, 269, 431, 346, 71, 224, 433, 250, 409, 154, 426, 104, 196, 152, 455, 47, 352, 127, 83, 377, 496, 432, 118, 142, 28, 430, 246, 114, 179, 411, 27, 250, 358, 220, 9, 365, 56, 470, 213, 356, 48, 218, 130, 52, 109, 495, 178, 225, 251, 30, 214, 415, 67, 90, 459, 447, 497, 397, 475, 430, 478, 81, 307, 198, 381, 64, 465, 373, 47, 285, 370, 199, 66, 168, 141, 269, 277, 269, 235, 180, 227, 134, 241, 505, 50, 85, 204, 481, 64, 199, 144, 471, 249, 408, 79, 112, 12, 257, 394, 501, 307, 48, 481, 481, 509, 269, 502, 383, 219, 269, 474, 193, 79, 314, 371, 316, 87, 357, 238, 117, 154, 468, 89, 155, 438, 343, 124, 205, 179, 78, 469, 9, 58, 443, 211, 148, 99, 158, 398, 395, 388, 152, 287, 498, 489, 127, 423, 113, 185, 335, 55, 62, 297, 197, 347, 118, 455, 9, 493, 139, 418, 223, 351, 35, 490, 373, 74, 157, 243, 238, 253, 106, 417, 434, 271, 479, 240, 188, 30, 352, 11, 257, 32, 251, 258, 334, 98, 70, 201, 384, 493, 190, 42, 501, 169, 401, 285, 183, 64, 233, 396, 20, 311, 265, 27, 412, 154, 120, 205, 428, 172, 504, 53, 185, 179, 279, 445, 116, 24, 393, 320, 368, 361, 274, 204, 13, 229, 132, 349, 243, 161, 16, 379, 204, 137, 175, 398, 196, 354, 118, 113, 110, 63, 133, 319, 495, 186, 401, 61, 423, 114, 400, 243, 230, 375, 15, 130, 101, 190, 34, 143, 379, 101, 411, 215, 421, 480, 34, 64, 284, 62, 121, 434, 119, 343, 58, 315, 302, 186, 376, 115, 8, 73, 299, 307, 21, 412, 185, 314, 319, 473, 476, 156, 413, 245, 63, 436, 372, 444, 488, 402, 28, 229, 72, 303, 326, 10, 362, 346, 417, 190, 498, 322, 195, 478, 7, 50, 311, 435, 453, 389, 255, 245, 508, 421, 306, 376, 94, 371, 204, 162, 294, 67, 371, 402, 370, 491, 165, 468, 98, 220, 366, 227, 233, 226, 410, 137, 465, 504, 426, 14, 506, 264, 108, 144, 375, 152, 466, 318, 373, 48, 311, 506, 155, 10, 58, 173, 370, 208, 22, 52, 446, 360, 397, 355, 202, 398, 366, 367, 49, 505, 459, 459, 113, 348, 29, 413, 165, 75, 259, 116, 488, 433, 311, 231, 20, 38, 352, 246, 57, 187, 413, 434, 14, 115, 235, 287, 194, 59, 87, 205, 320, 73, 298, 346, 182, 273, 161, 430, 170, 201, 251, 214, 208, 228, 255, 273, 347, 308, 487, 68, 141, 229, 412, 340, 247, 162, 411, 201, 284, 424, 377, 36, 95, 70, 203, 259, 347, 107, 201, 199, 155, 34, 496, 197, 299, 177, 15, 271, 285, 263, 46, 170, 63, 427, 356, 159, 487, 142, 73, 488, 223, 424, 109, 121, 106, 53, 491, 392, 259, 420, 127, 219, 170, 39, 200, 289, 409, 307, 410, 286, 274, 269, 137, 51, 129, 496, 427, 373, 420, 113, 127, 144, 235, 109, 395, 255, 185, 447, 441, 41, 57, 128, 350, 373, 379, 269, 187, 31, 391, 429, 371, 53, 448, 373, 424, 196, 35, 303, 170, 481, 463, 370, 188, 460, 26, 212, 101, 379, 198, 323, 469, 355, 56, 49, 20, 139, 151, 336, 69, 35, 181, 415, 195, 70, 283, 478, 127, 154, 363, 211, 410, 227, 271, 276, 159, 95, 72, 168, 281, 29, 207, 84, 51, 64, 188, 305, 210, 70, 225, 94, 322, 79, 232, 410, 54, 352, 303, 161, 437, 262, 243, 455, 229, 439, 142, 42, 494, 145, 247, 47, 299, 277, 213, 300, 374, 17, 61, 353, 501, 150, 335, 221, 389, 275, 93, 143, 65, 340, 483, 383, 474, 270, 485, 279, 409, 219, 34, 364, 141, 373, 460, 317, 69, 142, 190, 197, 458, 162, 80, 364, 402, 444, 332, 119, 221, 480, 250, 440, 240, 363, 391, 447, 419, 411, 461, 256, 92, 482, 418, 204, 87, 209, 274, 71, 448, 381, 308, 182, 334, 255, 118, 504, 177, 476, 305, 93, 445, 322, 90, 503, 156, 321, 223, 410, 276, 270, 137, 265, 27, 75, 485, 47, 48, 397, 326, 86, 151, 459, 412, 198, 110, 274, 64, 342, 275, 99, 6, 287, 490, 75, 129, 280, 459, 126, 212, 275, 397, 57, 445, 191, 2, 256, 343, 117, 282, 242, 1, 466, 9, 256, 43, 479, 201, 377, 54, 115, 493, 267, 32, 504, 47, 142, 20, 227, 250, 358, 337, 245, 185, 102, 341, 157, 496, 289, 359, 26, 149, 342, 436, 113, 171, 200, 211, 276, 70, 157, 225, 147, 413, 438, 354, 188, 44, 308, 263, 127, 299, 360, 77, 122, 336, 64, 208, 300, 115, 379, 321, 19, 472, 487, 236, 314, 40, 252, 205, 169, 454, 423, 170, 316, 153, 48, 86, 290, 381, 365, 99, 44, 332, 486, 53, 175, 151, 140, 94, 138, 415, 372, 188, 217, 215, 143, 131, 110, 157, 477, 359, 182, 99, 383, 392, 385, 97, 231, 163, 208, 305, 265, 226, 189, 365, 42, 321, 118, 505, 20, 287, 227, 215, 201, 396, 368, 509, 48, 118, 370, 457, 340, 409, 61, 55, 314, 134, 133, 240, 29, 207, 40, 458, 435, 377, 432, 190, 275, 406, 229, 215, 267, 464, 236, 145, 246, 416, 71, 347, 363, 260, 130, 98, 287, 151, 321, 364, 348, 305, 155, 506, 185, 302, 339, 79, 297, 479, 492, 434, 425, 368, 510, 423, 217, 498, 478, 334, 443, 249, 507, 15, 495, 404, 0, 127, 176, 429, 73, 309, 88, 208, 290, 304, 378, 104, 210, 44, 209, 450, 321, 218, 501, 242, 123, 414, 444, 456, 84, 326, 502, 59, 243, 444, 417, 92, 112, 115, 221, 209, 194, 172, 365, 285, 391, 38, 53, 250, 138, 19, 193, 413, 392, 296, 88, 95, 359, 304, 303, 465, 506, 342, 217, 408, 105, 433, 234, 53, 428, 426, 241, 381, 148, 25, 167, 303, 358, 15, 226, 331, 374, 135, 299, 342, 413, 400, 246, 272, 380, 155, 154, 104, 494, 101, 283, 230, 229, 68, 207, 472, 374, 26, 343, 402, 64, 399, 238, 250, 339, 256, 379, 46, 242, 423, 259, 324, 502, 247, 454, 53, 428, 159, 235, 501, 7, 190, 17, 461, 458, 433, 221, 309, 252, 453, 9, 458, 202, 429, 366, 394, 55, 486, 412, 379, 132, 5, 70, 463, 101, 419, 290, 489, 327, 163, 376, 24, 222, 479, 27, 425, 209, 350, 205, 126, 373, 174, 501, 314, 244, 135, 47, 411, 100, 389, 201, 432, 243, 281, 492, 201, 52, 27, 364, 88, 436, 397, 416, 187, 359, 284, 474, 116, 476, 367, 35, 66, 502, 213, 149, 51, 220, 439, 412, 134, 238, 452, 1, 170, 137, 296, 86, 166, 359, 24, 415, 162, 426, 270, 176, 396, 38, 254, 76, 340, 155, 31, 346, 329, 408, 9, 103, 351, 311, 196, 494, 1, 184, 24, 390, 392, 94, 94, 508, 410, 386, 419, 263, 507, 399, 54, 127, 74, 205, 33, 438, 65, 494, 230, 8, 5, 126, 286, 172, 162, 221, 91, 185, 380, 192, 40, 1, 372, 11, 426, 0, 106, 250, 443, 96, 18, 416, 496, 349, 197, 55, 274, 295, 222, 321, 501, 198, 443, 408, 275, 94, 472, 263, 134, 65, 381, 384, 209, 461, 284, 410, 101, 70, 95, 147, 216, 332, 308, 308, 49, 152, 165, 114, 64, 342, 74, 243, 197, 338, 429, 421, 214, 431, 325, 192, 202, 62, 20, 311, 25, 364, 223, 269, 99, 339, 345, 145, 135, 458, 154, 154, 234, 201, 509, 251, 5, 394, 175, 153, 384, 489, 276, 126, 286, 484, 430, 95, 92, 194, 203, 169, 389, 401, 96, 88, 397, 191, 239, 255, 437, 401, 359, 59, 337, 125, 383, 446, 250, 376, 67, 337, 362, 24, 258, 437, 486, 56, 266, 204, 9, 279, 43, 127, 32, 43, 129, 225, 207, 259, 217, 88, 187, 421, 159, 234, 77, 110, 500, 298, 418, 311, 27, 404, 133, 185, 304, 308, 443, 345, 405, 287, 478, 224, 417, 336, 427, 211, 372, 180, 280, 387, 165, 346, 110, 43, 54, 318, 313, 1, 191, 3, 344, 294, 375, 82, 178, 345, 210, 268, 296, 230, 469, 97, 342, 505, 1, 322, 250, 36, 285, 501, 413, 479, 141, 142, 238, 334, 39, 381, 300, 106, 98, 360, 40, 269, 477, 172, 103, 222, 460, 391, 53, 183, 347, 431, 29, 249, 440, 325, 465, 430, 479, 99, 152, 351, 297, 275, 28, 481, 27, 500, 165, 451, 299, 122, 94, 230, 257, 242, 188, 398, 426, 39, 142, 170, 423, 186, 370, 50, 347, 430, 18, 90, 63, 20, 85, 339, 277, 58, 235, 365, 362, 44, 310, 417, 311, 117, 383, 323, 396, 210, 236, 429, 233, 462, 233, 196, 148, 218, 345, 289, 425, 385, 485, 79, 396, 72, 442, 411, 47, 159, 288, 3, 365, 24, 336, 335, 74, 69, 240, 287, 372, 349, 54, 8, 31, 41, 201, 181, 38, 469, 380, 270, 27, 170, 62, 427, 5, 471, 343, 163, 116, 382, 493, 45, 275, 493, 210, 436, 308, 149, 380, 386, 445, 263, 410, 274, 387, 225, 154, 330, 206, 358, 40, 60, 460, 357, 127, 59, 314, 161, 139, 6, 58, 72, 193, 510, 231, 253, 438, 379, 52, 478, 451, 450, 265, 384, 308, 68, 202, 68, 334, 246, 38, 324, 376, 190, 291, 190, 94, 83, 276, 173, 226, 79, 430, 25, 172, 188, 174, 127, 214, 77, 441, 143, 58, 389, 402, 194, 171, 41, 28, 444, 441, 488, 18, 120, 209, 468, 253, 319, 502, 272, 67, 276, 135, 7, 410, 389, 255, 88, 221, 160, 460, 192, 293, 52, 173, 285, 211, 273, 268, 244, 32, 307, 25, 282, 436, 433, 348, 42, 309, 143, 363, 213, 449, 478, 324, 160, 152, 398, 332, 417, 41, 360, 355, 140, 427, 342, 61, 220, 42, 357, 272, 458, 3, 393, 105, 238, 137, 329, 244, 434, 336, 117, 12, 55, 370, 368, 215, 189, 175, 291, 437, 511, 209, 240, 457, 4, 314, 32, 423, 352, 63, 124, 300, 37, 310, 326, 488, 21, 84, 276, 232, 176, 501, 30, 21, 344, 99, 323, 352, 233, 68, 321, 428, 423, 428, 502, 441, 356, 71, 203, 21, 387, 337, 179, 24, 9, 187, 344, 172, 62, 162, 124, 389, 364, 297, 269, 381, 105, 268, 168, 105, 133, 371, 323, 107, 306, 89, 213, 464, 491, 24, 455, 450, 53, 192, 187, 319, 329, 137, 365, 157, 148, 333, 9, 369, 372, 391, 5, 13, 129, 466, 172, 282, 71, 166, 230, 486, 311, 322, 61, 91, 383, 266, 383, 36, 89, 252, 28, 329, 437, 31, 486, 321, 387, 193, 250, 451, 352, 423, 145, 424, 150, 114, 196, 223, 142, 276, 233, 85, 394, 93, 156, 112, 253, 410, 158, 115, 308, 508, 76, 317, 40, 254, 137, 1, 504, 326, 84, 455, 289, 39, 386, 233, 392, 383, 37, 304, 258, 292, 9, 11, 108, 506, 234, 226, 373, 83, 97, 276, 385, 485, 485, 499, 169, 345, 243, 367, 320, 83, 263, 365, 372, 458, 310, 44, 290, 368, 102, 280, 121, 279, 23, 83, 343, 208, 125, 308, 172, 228, 186, 79, 480, 294, 490, 405, 99, 264, 187, 407, 255, 368, 465, 204, 70, 300, 321, 18, 432, 189, 380, 425, 376, 421, 401, 360, 351, 6, 29, 192, 134, 43, 307, 438, 502, 344, 499, 95, 46, 202, 156, 77, 481, 450, 260, 425, 390, 375, 222, 50, 60, 360, 504, 366, 199, 35, 197, 447, 150, 116, 335, 412, 194, 339, 142, 101, 63, 43, 302, 470, 214, 192, 416, 149, 326, 257, 329, 192, 273, 317, 62, 16, 306, 54, 171, 222, 29, 72, 493, 238, 432, 157, 252, 104, 298, 101, 91, 129, 371, 501, 238, 173, 364, 64, 391, 434, 501, 240, 450, 456, 179, 103, 41, 451, 30, 253, 405, 479, 260, 315, 447, 331, 462, 428, 387, 434, 372, 404, 353, 346, 322, 380, 240, 153, 234, 173, 182, 213, 38, 5, 457, 438, 477, 334, 56, 217, 249, 118, 243, 507, 350, 373, 422, 483, 379, 164, 495, 178, 151, 189, 414, 258, 409, 283, 160, 353, 160, 162, 471, 380, 427, 228, 371, 21, 235, 439, 276, 59, 228, 46, 53, 387, 12, 272, 258, 500, 335, 26, 144, 407, 67, 366, 361, 404, 179, 224, 201, 72, 279, 201, 248, 106, 178, 404, 253, 480, 89, 162, 30, 281, 296, 230, 287, 239, 431, 175, 427, 374, 357, 193, 164, 169, 39, 134, 104, 501, 339, 269, 10, 198, 297, 306, 416, 99, 127, 360, 88, 177, 285, 300, 240, 294, 107, 101, 95, 498, 34, 70, 359, 367, 19, 424, 454, 168, 447, 110, 397, 3, 391, 479, 472, 141, 73, 219, 266, 403, 35, 3, 37, 272, 249, 396, 149, 189, 181, 478, 136, 97, 255, 64, 438, 322, 96, 393, 198, 318, 72, 429, 75, 449, 446, 187, 368, 407, 348, 404, 112, 379, 17, 393, 386, 483, 173, 392, 411, 366, 412, 376, 144, 56, 226, 123, 405, 410, 395, 23, 28, 392, 46, 384, 118, 115, 431, 245, 45, 184, 414, 90, 424, 319, 373, 132, 510, 421, 14, 347, 366, 254, 8, 445, 253, 141, 38, 35, 280, 498, 227, 264, 119, 410, 452, 88, 311, 466, 224, 113, 455, 482, 187, 85, 62, 395, 113, 363, 4, 203, 507, 248, 10, 198, 94, 71, 270, 164, 372, 153, 435, 369, 273, 154, 22, 71, 182, 455, 64, 224, 360, 93, 34, 309, 285, 269, 108, 195, 412, 298, 446, 40, 86, 397, 257, 262, 466, 221, 360, 287, 36, 134, 6, 315, 240, 190, 249, 210, 389, 269, 233, 386, 443, 452, 477, 303, 42, 17, 333, 70, 291, 93, 276, 93, 193, 46, 29, 98, 195, 170, 437, 196, 511, 342, 269, 283, 41, 452, 255, 94, 11, 256, 269, 80, 8, 88, 165, 254, 403, 480, 122, 46, 186, 331, 444, 395, 476, 24, 338, 479, 148, 40, 247, 261, 373, 241, 433, 143, 405, 24, 357, 370, 343, 113, 288, 399, 493, 397, 336, 30, 250, 93, 412, 472, 474, 322, 105, 410, 71, 277, 11, 196, 307, 169, 264, 498, 77, 341, 102, 6, 244, 464, 124, 119, 288, 209, 383, 22, 128, 48, 225, 498, 195, 235, 99, 320, 317, 145, 448, 74, 30, 353, 5, 148, 271, 34, 448, 453, 240, 348, 424, 232, 286, 419, 497, 140, 373, 294, 170, 469, 281, 342, 59, 284, 457, 428, 494, 84, 262, 246, 148, 283, 27, 38, 348, 347, 69, 344, 446, 486, 439, 20, 413, 370, 394, 402, 61, 96, 317, 144, 50, 172, 122, 130, 197, 180, 441, 423, 261, 470, 256, 100, 467, 331, 56, 324, 223, 146, 177, 239, 297, 37, 118, 129, 437, 44, 86, 485, 463, 139, 491, 54, 412, 367, 52, 179, 375, 447, 452, 104, 356, 479, 168, 382, 137, 241, 435, 228, 507, 219, 61, 10, 258, 4, 311, 242, 249, 180, 15, 168, 1, 141, 252, 509, 368, 472, 423, 208, 153, 10, 59, 436, 240, 119, 337, 22, 352, 164, 249, 90, 186, 45, 331, 135, 270, 64, 420, 75, 106, 72, 29, 233, 237, 142, 206, 155, 165, 141, 142, 210, 234, 477, 437, 101, 4, 324, 468, 486, 270, 268, 219, 169, 6, 187, 508, 165, 11, 281, 392, 314, 66, 252, 467, 194, 68, 263, 489, 370, 46, 9, 159, 426, 302, 409, 438, 178, 199, 224, 147, 390, 191, 242, 456, 27, 322, 257, 264, 130, 418, 465, 10, 446, 15, 20, 501, 355, 147, 95, 141, 77, 374, 206, 215, 458, 357, 211, 197, 65, 8, 95, 283, 506, 429, 273, 379, 360, 354, 220, 342, 397, 490, 316, 392, 337, 473, 241, 252, 271, 22, 218, 219, 475, 167, 114, 160, 340, 348, 273, 189, 462, 78, 366, 458, 14, 168, 257, 369, 452, 241, 299, 409, 311, 187, 417, 245, 287, 510, 78, 270, 37, 251, 491, 103, 271, 15, 389, 421, 473, 348, 495, 417, 134, 320, 320, 325, 188, 86, 441, 407, 507, 88, 442, 328, 411, 93, 67, 191, 172, 129, 289, 199, 221, 464, 455, 477, 480, 422, 313, 204, 380, 17, 431, 405, 113, 95, 401, 464, 64, 137, 387, 113, 83, 280, 406, 39, 287, 5, 269, 161, 373, 469, 125, 254, 157, 303, 279, 92, 44, 207, 306, 251, 303, 1, 411, 436, 276, 387, 346, 464, 417, 123, 253, 295, 276, 15, 179, 87, 222, 268, 488, 275, 250, 141, 195, 313, 334, 106, 322, 364, 357, 303, 264, 272, 419, 458, 486, 385, 258, 236, 214, 67, 110, 351, 140, 494, 372, 373, 377, 488, 337, 7, 258, 511, 109, 139, 261, 483, 148, 69, 333, 150, 139, 315, 128, 250, 425, 479, 462, 33, 265, 344, 43, 176, 341, 421, 359, 251, 350, 444, 47, 73, 370, 375, 497, 468, 195, 83, 312, 178, 67, 17, 344, 387, 421, 253, 33, 328, 431, 357, 21, 484, 491, 394, 418, 59, 213, 447, 164, 256, 220, 283, 402, 275, 142, 480, 79, 47, 462, 398, 403, 457, 434, 35, 397, 270, 325, 259, 256, 25, 145, 371, 508, 174, 408, 61, 418, 336, 219, 401, 96, 287, 257, 278, 39, 293, 7, 90, 477, 355, 133, 333, 13, 485, 416, 311, 505, 179, 493, 124, 385, 295, 146, 49, 352, 458, 221, 494, 383, 236, 464, 142, 184, 24, 13, 110, 456, 281, 151, 470, 8, 330, 180, 369, 228, 500, 127, 216, 494, 437, 124, 176, 280, 213, 215, 258, 237, 406, 382, 25, 20, 42, 362, 327, 290, 494, 351, 7, 451, 450, 489, 19, 152, 178, 148, 201, 287, 41, 268, 202, 79, 253, 485, 324, 299, 218, 21, 337, 73, 128, 161, 66, 484, 226, 341, 451, 437, 365, 501, 42, 408, 101, 503, 7, 131, 248, 205, 248, 448, 205, 443, 477, 371, 114, 80, 184, 434, 32, 220, 259, 344, 354, 19, 81, 328, 433, 391, 124, 34, 219, 360, 385, 317, 411, 265, 442, 229, 184, 34, 396, 96, 408, 403, 491, 82, 331, 32, 306, 151, 226, 232, 395, 338, 438, 146, 322, 462, 452, 195, 50, 374, 328, 399, 449, 445, 463, 276, 151, 168, 364, 377, 274, 407, 380, 284, 274, 165, 313]\n",
            " Injection:  9999"
          ]
        }
      ],
      "metadata": {}
    },
    {
      "cell_type": "code",
      "execution_count": 39,
      "source": [
        "model_actions.test(mwifc)"
      ],
      "outputs": [
        {
          "output_type": "stream",
          "name": "stdout",
          "text": [
            " [================================================================>]  Step: 49s322ms | Tot: 29m22s | Loss: 4.129 | Acc: 35.660% (3566/10000)                                                                                                                                                                                                                                                                                                                                                                                                                                                                                                                                                                                                                                                                                                                                                                                                                                                                                           100/100 \n"
          ]
        },
        {
          "output_type": "execute_result",
          "data": {
            "text/plain": [
              "0.3566"
            ]
          },
          "metadata": {},
          "execution_count": 39
        }
      ],
      "metadata": {}
    },
    {
      "cell_type": "code",
      "execution_count": 1,
      "source": [
        "from scipy.stats import binom\r\n",
        "import matplotlib.pyplot as plt\r\n",
        "\r\n",
        "\r\n"
      ],
      "outputs": [
        {
          "output_type": "display_data",
          "data": {
            "image/png": "[encoded data removed]",
            "text/plain": [
              "<Figure size 432x288 with 1 Axes>"
            ]
          },
          "metadata": {
            "needs_background": "light"
          }
        }
      ],
      "metadata": {}
    },
    {
      "cell_type": "code",
      "execution_count": 13,
      "source": [
        "fig, ax = plt.subplots(1, 1)\r\n",
        "ndata=10\r\n",
        "trials=10\r\n",
        "n, p, x = trials, 1/ndata, ndata\r\n",
        "binom.pmf(x, n, p)\r\n",
        "ax.plot(x, binom.pmf(x, n, p), 'bo', ms=8, label='binom pmf')\r\n",
        "ax.vlines(x, 0, binom.pmf(x, n, p), colors='b', lw=5, alpha=0.5)\r\n",
        "fig.show()"
      ],
      "outputs": [
        {
          "output_type": "display_data",
          "data": {
            "image/png": "[encoded data removed]",
            "text/plain": [
              "<Figure size 432x288 with 1 Axes>"
            ]
          },
          "metadata": {
            "needs_background": "light"
          }
        }
      ],
      "metadata": {}
    },
    {
      "cell_type": "code",
      "execution_count": 19,
      "source": [
        "ndata=10\r\n",
        "trials=10\r\n",
        "\r\n",
        "prob_v=[]\r\n",
        "for trial in range(trials):\r\n",
        "    n, p, x = trial, 1/ndata, ndata\r\n",
        "    prob=binom.pmf(x, n+1, p)\r\n",
        "    prob_v.append(prob)\r\n",
        "fig, ax = plt.subplots(1, 1)\r\n",
        "ax.plot(prob_v, 'bo', ms=8, label='binom pmf')\r\n",
        "fig.show()"
      ],
      "outputs": [
        {
          "output_type": "display_data",
          "data": {
            "image/png": "[encoded data removed]",
            "text/plain": [
              "<Figure size 432x288 with 1 Axes>"
            ]
          },
          "metadata": {
            "needs_background": "light"
          }
        }
      ],
      "metadata": {}
    },
    {
      "cell_type": "code",
      "execution_count": 24,
      "source": [
        "!conda install sympy --yes\r\n",
        "import sympy"
      ],
      "outputs": [
        {
          "output_type": "stream",
          "name": "stdout",
          "text": [
            "Collecting package metadata (current_repodata.json): done\n",
            "Solving environment: | \n",
            "The environment is inconsistent, please check the package plan carefully\n",
            "The following packages are causing the inconsistency:\n",
            "\n",
            "  - anaconda/linux-64::numpy==1.19.1=py38hbc911f0_0\n",
            "  - pytorch/linux-64::torchaudio==0.9.0=py38\n",
            "  - anaconda/linux-64::mkl-service==2.3.0=py38he904b0f_0\n",
            "  - anaconda/linux-64::ipykernel==5.3.4=py38h5ca1d4c_0\n",
            "  - anaconda/noarch::python-dateutil==2.8.1=py_0\n",
            "  - anaconda/linux-64::mkl_fft==1.2.0=py38h23d657b_0\n",
            "  - pytorch/linux-64::torchvision==0.10.0=py38_cu102\n",
            "  - pytorch/linux-64::pytorch==1.9.0=py3.8_cuda10.2_cudnn7.6.5_0\n",
            "  - defaults/linux-64::py-xgboost==1.3.3=py38h06a4308_0\n",
            "  - anaconda/linux-64::mkl_random==1.1.0=py38h962f231_0\n",
            "  - anaconda/noarch::jupyter_client==6.1.7=py_0\n",
            "failed with initial frozen solve. Retrying with flexible solve.\n",
            "Solving environment: failed with repodata from current_repodata.json, will retry with next repodata source.\n",
            "Collecting package metadata (repodata.json): done\n",
            "Solving environment: | \n",
            "The environment is inconsistent, please check the package plan carefully\n",
            "The following packages are causing the inconsistency:\n",
            "\n",
            "  - anaconda/linux-64::numpy==1.19.1=py38hbc911f0_0\n",
            "  - pytorch/linux-64::torchaudio==0.9.0=py38\n",
            "  - anaconda/linux-64::mkl-service==2.3.0=py38he904b0f_0\n",
            "  - anaconda/linux-64::ipykernel==5.3.4=py38h5ca1d4c_0\n",
            "  - anaconda/noarch::python-dateutil==2.8.1=py_0\n",
            "  - anaconda/linux-64::mkl_fft==1.2.0=py38h23d657b_0\n",
            "  - pytorch/linux-64::torchvision==0.10.0=py38_cu102\n",
            "  - pytorch/linux-64::pytorch==1.9.0=py3.8_cuda10.2_cudnn7.6.5_0\n",
            "  - defaults/linux-64::py-xgboost==1.3.3=py38h06a4308_0\n",
            "  - anaconda/linux-64::mkl_random==1.1.0=py38h962f231_0\n",
            "  - anaconda/noarch::jupyter_client==6.1.7=py_0\n",
            "done\n",
            "\n",
            "\n",
            "==> WARNING: A newer version of conda exists. <==\n",
            "  current version: 4.10.1\n",
            "  latest version: 4.10.3\n",
            "\n",
            "Please update conda by running\n",
            "\n",
            "    $ conda update -n base -c defaults conda\n",
            "\n",
            "\n",
            "\n",
            "## Package Plan ##\n",
            "\n",
            "  environment location: /anaconda/envs/azureml_py38\n",
            "\n",
            "  added / updated specs:\n",
            "    - sympy\n",
            "\n",
            "\n",
            "The following packages will be downloaded:\n",
            "\n",
            "    package                    |            build\n",
            "    ---------------------------|-----------------\n",
            "    ca-certificates-2021.7.5   |       h06a4308_1         113 KB\n",
            "    gmpy2-2.0.8                |   py38hd5f6e3b_3         162 KB\n",
            "    ipython-7.22.0             |   py38hb070fc8_0         982 KB\n",
            "    jedi-0.17.0                |           py38_0         780 KB\n",
            "    joblib-1.0.1               |     pyhd3eb1b0_0         208 KB\n",
            "    lcms2-2.12                 |       h3be6417_0         312 KB\n",
            "    mpc-1.1.0                  |       h10f8cd9_1          90 KB\n",
            "    mpfr-4.0.2                 |       hb69a4c5_1         487 KB\n",
            "    mpmath-1.2.1               |   py38h06a4308_0         766 KB\n",
            "    numpy-base-1.19.1          |   py38hfa32c7d_0         4.2 MB\n",
            "    openjpeg-2.3.0             |       h05c96fa_1         301 KB\n",
            "    pillow-8.3.1               |   py38h2c7a002_0         638 KB\n",
            "    scikit-learn-0.24.2        |   py38ha9443f7_0         5.4 MB\n",
            "    scipy-1.6.2                |   py38h91f5cce_0        15.6 MB\n",
            "    six-1.16.0                 |     pyhd3eb1b0_0          18 KB\n",
            "    sympy-1.8                  |   py38h06a4308_0         9.1 MB\n",
            "    typing_extensions-3.10.0.0 |     pyh06a4308_0          27 KB\n",
            "    ------------------------------------------------------------\n",
            "                                           Total:        39.0 MB\n",
            "\n",
            "The following NEW packages will be INSTALLED:\n",
            "\n",
            "  gmpy2              pkgs/main/linux-64::gmpy2-2.0.8-py38hd5f6e3b_3\n",
            "  ipython            pkgs/main/linux-64::ipython-7.22.0-py38hb070fc8_0\n",
            "  joblib             pkgs/main/noarch::joblib-1.0.1-pyhd3eb1b0_0\n",
            "  lcms2              pkgs/main/linux-64::lcms2-2.12-h3be6417_0\n",
            "  mpc                pkgs/main/linux-64::mpc-1.1.0-h10f8cd9_1\n",
            "  mpfr               pkgs/main/linux-64::mpfr-4.0.2-hb69a4c5_1\n",
            "  mpmath             pkgs/main/linux-64::mpmath-1.2.1-py38h06a4308_0\n",
            "  numpy-base         pkgs/main/linux-64::numpy-base-1.19.1-py38hfa32c7d_0\n",
            "  openjpeg           pkgs/main/linux-64::openjpeg-2.3.0-h05c96fa_1\n",
            "  pillow             pkgs/main/linux-64::pillow-8.3.1-py38h2c7a002_0\n",
            "  scikit-learn       pkgs/main/linux-64::scikit-learn-0.24.2-py38ha9443f7_0\n",
            "  scipy              pkgs/main/linux-64::scipy-1.6.2-py38h91f5cce_0\n",
            "  six                pkgs/main/noarch::six-1.16.0-pyhd3eb1b0_0\n",
            "  sympy              pkgs/main/linux-64::sympy-1.8-py38h06a4308_0\n",
            "  typing_extensions  pkgs/main/noarch::typing_extensions-3.10.0.0-pyh06a4308_0\n",
            "\n",
            "The following packages will be UPDATED:\n",
            "\n",
            "  ca-certificates                      2021.5.25-h06a4308_1 --> 2021.7.5-h06a4308_1\n",
            "\n",
            "The following packages will be DOWNGRADED:\n",
            "\n",
            "  jedi                                0.18.0-py38h06a4308_1 --> 0.17.0-py38_0\n",
            "\n",
            "\n",
            "\n",
            "Downloading and Extracting Packages\n",
            "scikit-learn-0.24.2  | 5.4 MB    | ##################################### | 100% \n",
            "scipy-1.6.2          | 15.6 MB   | ##################################### | 100% \n",
            "openjpeg-2.3.0       | 301 KB    | ##################################### | 100% \n",
            "pillow-8.3.1         | 638 KB    | ##################################### | 100% \n",
            "joblib-1.0.1         | 208 KB    | ##################################### | 100% \n",
            "mpc-1.1.0            | 90 KB     | ##################################### | 100% \n",
            "numpy-base-1.19.1    | 4.2 MB    | ##################################### | 100% \n",
            "jedi-0.17.0          | 780 KB    | ##################################### | 100% \n",
            "mpmath-1.2.1         | 766 KB    | ##################################### | 100% \n",
            "lcms2-2.12           | 312 KB    | ##################################### | 100% \n",
            "typing_extensions-3. | 27 KB     | ##################################### | 100% \n",
            "gmpy2-2.0.8          | 162 KB    | ##################################### | 100% \n",
            "ipython-7.22.0       | 982 KB    | ##################################### | 100% \n",
            "sympy-1.8            | 9.1 MB    | ##################################### | 100% \n",
            "six-1.16.0           | 18 KB     | ##################################### | 100% \n",
            "ca-certificates-2021 | 113 KB    | ##################################### | 100% \n",
            "mpfr-4.0.2           | 487 KB    | ##################################### | 100% \n",
            "Preparing transaction: done\n",
            "Verifying transaction: done\n",
            "Executing transaction: - \n",
            "\n",
            "    Installed package of scikit-learn can be accelerated using scikit-learn-intelex.\n",
            "    More details are available here: https://intel.github.io/scikit-learn-intelex\n",
            "\n",
            "    For example:\n",
            "\n",
            "        $ conda install scikit-learn-intelex\n",
            "        $ python -m sklearnex my_application.py\n",
            "\n",
            "    \n",
            "\n",
            "done\n"
          ]
        }
      ],
      "metadata": {}
    },
    {
      "cell_type": "code",
      "execution_count": 33,
      "source": [
        "from sympy.functions.combinatorial.numbers import stirling"
      ],
      "outputs": [],
      "metadata": {}
    },
    {
      "cell_type": "code",
      "execution_count": 64,
      "source": [
        "!conda update pillow --yes"
      ],
      "outputs": [],
      "metadata": {}
    },
    {
      "cell_type": "code",
      "execution_count": 48,
      "source": [
        "#n: number of trials\n",
        "#k: number of elements\n",
        "n=4\n",
        "k=2\n",
        "res=stirling(n,k)\n",
        "print(res)"
      ],
      "outputs": [
        {
          "output_type": "stream",
          "name": "stdout",
          "text": [
            "7\n"
          ]
        }
      ],
      "metadata": {}
    },
    {
      "cell_type": "code",
      "execution_count": 39,
      "source": [],
      "outputs": [
        {
          "output_type": "error",
          "ename": "SyntaxError",
          "evalue": "invalid syntax (<ipython-input-39-ca0e74cc687f>, line 1)",
          "traceback": [
            "\u001b[0;36m  File \u001b[0;32m\"<ipython-input-39-ca0e74cc687f>\"\u001b[0;36m, line \u001b[0;32m1\u001b[0m\n\u001b[0;31m    from numpy import math.factorial\u001b[0m\n\u001b[0m                          ^\u001b[0m\n\u001b[0;31mSyntaxError\u001b[0m\u001b[0;31m:\u001b[0m invalid syntax\n"
          ]
        }
      ],
      "metadata": {}
    },
    {
      "cell_type": "code",
      "execution_count": 58,
      "source": [
        "prob=np.math.factorial(k)*float(stirling(n,k))/(k**n)\r\n",
        "print(res)"
      ],
      "outputs": [
        {
          "output_type": "stream",
          "name": "stdout",
          "text": [
            "0.875\n"
          ]
        }
      ],
      "metadata": {}
    },
    {
      "cell_type": "code",
      "execution_count": 61,
      "source": [
        "from matplotlib import pyplot as plt\r\n",
        "from sympy.functions.combinatorial.numbers import stirling\r\n",
        "prob_v=[]\r\n",
        "k=10\r\n",
        "n_max=100\r\n",
        "for n in range(1,n_max):\r\n",
        "    prob=np.math.factorial(k)*float(stirling(n,k))/(k**n)\r\n",
        "    prob_v.append(prob)\r\n",
        "plt.plot(prob_v)\r\n"
      ],
      "outputs": [
        {
          "output_type": "execute_result",
          "data": {
            "text/plain": [
              "[<matplotlib.lines.Line2D at 0x7f828a730c10>]"
            ]
          },
          "metadata": {},
          "execution_count": 61
        },
        {
          "output_type": "error",
          "ename": "AttributeError",
          "evalue": "module 'PIL' has no attribute 'Image'",
          "traceback": [
            "\u001b[0;31m---------------------------------------------------------------------------\u001b[0m",
            "\u001b[0;31mAttributeError\u001b[0m                            Traceback (most recent call last)",
            "\u001b[0;32m/anaconda/envs/azureml_py38/lib/python3.8/site-packages/IPython/core/formatters.py\u001b[0m in \u001b[0;36m__call__\u001b[0;34m(self, obj)\u001b[0m\n\u001b[1;32m    339\u001b[0m                 \u001b[0;32mpass\u001b[0m\u001b[0;34m\u001b[0m\u001b[0;34m\u001b[0m\u001b[0m\n\u001b[1;32m    340\u001b[0m             \u001b[0;32melse\u001b[0m\u001b[0;34m:\u001b[0m\u001b[0;34m\u001b[0m\u001b[0;34m\u001b[0m\u001b[0m\n\u001b[0;32m--> 341\u001b[0;31m                 \u001b[0;32mreturn\u001b[0m \u001b[0mprinter\u001b[0m\u001b[0;34m(\u001b[0m\u001b[0mobj\u001b[0m\u001b[0;34m)\u001b[0m\u001b[0;34m\u001b[0m\u001b[0;34m\u001b[0m\u001b[0m\n\u001b[0m\u001b[1;32m    342\u001b[0m             \u001b[0;31m# Finally look for special method names\u001b[0m\u001b[0;34m\u001b[0m\u001b[0;34m\u001b[0m\u001b[0;34m\u001b[0m\u001b[0m\n\u001b[1;32m    343\u001b[0m             \u001b[0mmethod\u001b[0m \u001b[0;34m=\u001b[0m \u001b[0mget_real_method\u001b[0m\u001b[0;34m(\u001b[0m\u001b[0mobj\u001b[0m\u001b[0;34m,\u001b[0m \u001b[0mself\u001b[0m\u001b[0;34m.\u001b[0m\u001b[0mprint_method\u001b[0m\u001b[0;34m)\u001b[0m\u001b[0;34m\u001b[0m\u001b[0;34m\u001b[0m\u001b[0m\n",
            "\u001b[0;32m/anaconda/envs/azureml_py38/lib/python3.8/site-packages/IPython/core/pylabtools.py\u001b[0m in \u001b[0;36m<lambda>\u001b[0;34m(fig)\u001b[0m\n\u001b[1;32m    248\u001b[0m         \u001b[0mpng_formatter\u001b[0m\u001b[0;34m.\u001b[0m\u001b[0mfor_type\u001b[0m\u001b[0;34m(\u001b[0m\u001b[0mFigure\u001b[0m\u001b[0;34m,\u001b[0m \u001b[0;32mlambda\u001b[0m \u001b[0mfig\u001b[0m\u001b[0;34m:\u001b[0m \u001b[0mprint_figure\u001b[0m\u001b[0;34m(\u001b[0m\u001b[0mfig\u001b[0m\u001b[0;34m,\u001b[0m \u001b[0;34m'png'\u001b[0m\u001b[0;34m,\u001b[0m \u001b[0;34m**\u001b[0m\u001b[0mkwargs\u001b[0m\u001b[0;34m)\u001b[0m\u001b[0;34m)\u001b[0m\u001b[0;34m\u001b[0m\u001b[0;34m\u001b[0m\u001b[0m\n\u001b[1;32m    249\u001b[0m     \u001b[0;32mif\u001b[0m \u001b[0;34m'retina'\u001b[0m \u001b[0;32min\u001b[0m \u001b[0mformats\u001b[0m \u001b[0;32mor\u001b[0m \u001b[0;34m'png2x'\u001b[0m \u001b[0;32min\u001b[0m \u001b[0mformats\u001b[0m\u001b[0;34m:\u001b[0m\u001b[0;34m\u001b[0m\u001b[0;34m\u001b[0m\u001b[0m\n\u001b[0;32m--> 250\u001b[0;31m         \u001b[0mpng_formatter\u001b[0m\u001b[0;34m.\u001b[0m\u001b[0mfor_type\u001b[0m\u001b[0;34m(\u001b[0m\u001b[0mFigure\u001b[0m\u001b[0;34m,\u001b[0m \u001b[0;32mlambda\u001b[0m \u001b[0mfig\u001b[0m\u001b[0;34m:\u001b[0m \u001b[0mretina_figure\u001b[0m\u001b[0;34m(\u001b[0m\u001b[0mfig\u001b[0m\u001b[0;34m,\u001b[0m \u001b[0;34m**\u001b[0m\u001b[0mkwargs\u001b[0m\u001b[0;34m)\u001b[0m\u001b[0;34m)\u001b[0m\u001b[0;34m\u001b[0m\u001b[0;34m\u001b[0m\u001b[0m\n\u001b[0m\u001b[1;32m    251\u001b[0m     \u001b[0;32mif\u001b[0m \u001b[0;34m'jpg'\u001b[0m \u001b[0;32min\u001b[0m \u001b[0mformats\u001b[0m \u001b[0;32mor\u001b[0m \u001b[0;34m'jpeg'\u001b[0m \u001b[0;32min\u001b[0m \u001b[0mformats\u001b[0m\u001b[0;34m:\u001b[0m\u001b[0;34m\u001b[0m\u001b[0;34m\u001b[0m\u001b[0m\n\u001b[1;32m    252\u001b[0m         \u001b[0mjpg_formatter\u001b[0m\u001b[0;34m.\u001b[0m\u001b[0mfor_type\u001b[0m\u001b[0;34m(\u001b[0m\u001b[0mFigure\u001b[0m\u001b[0;34m,\u001b[0m \u001b[0;32mlambda\u001b[0m \u001b[0mfig\u001b[0m\u001b[0;34m:\u001b[0m \u001b[0mprint_figure\u001b[0m\u001b[0;34m(\u001b[0m\u001b[0mfig\u001b[0m\u001b[0;34m,\u001b[0m \u001b[0;34m'jpg'\u001b[0m\u001b[0;34m,\u001b[0m \u001b[0;34m**\u001b[0m\u001b[0mkwargs\u001b[0m\u001b[0;34m)\u001b[0m\u001b[0;34m)\u001b[0m\u001b[0;34m\u001b[0m\u001b[0;34m\u001b[0m\u001b[0m\n",
            "\u001b[0;32m/anaconda/envs/azureml_py38/lib/python3.8/site-packages/IPython/core/pylabtools.py\u001b[0m in \u001b[0;36mprint_figure\u001b[0;34m(fig, fmt, bbox_inches, **kwargs)\u001b[0m\n\u001b[1;32m    132\u001b[0m     \u001b[0mfig\u001b[0m\u001b[0;34m.\u001b[0m\u001b[0mcanvas\u001b[0m\u001b[0;34m.\u001b[0m\u001b[0mprint_figure\u001b[0m\u001b[0;34m(\u001b[0m\u001b[0mbytes_io\u001b[0m\u001b[0;34m,\u001b[0m \u001b[0;34m**\u001b[0m\u001b[0mkw\u001b[0m\u001b[0;34m)\u001b[0m\u001b[0;34m\u001b[0m\u001b[0;34m\u001b[0m\u001b[0m\n\u001b[1;32m    133\u001b[0m     \u001b[0mdata\u001b[0m \u001b[0;34m=\u001b[0m \u001b[0mbytes_io\u001b[0m\u001b[0;34m.\u001b[0m\u001b[0mgetvalue\u001b[0m\u001b[0;34m(\u001b[0m\u001b[0;34m)\u001b[0m\u001b[0;34m\u001b[0m\u001b[0;34m\u001b[0m\u001b[0m\n\u001b[0;32m--> 134\u001b[0;31m     \u001b[0;32mif\u001b[0m \u001b[0mfmt\u001b[0m \u001b[0;34m==\u001b[0m \u001b[0;34m'svg'\u001b[0m\u001b[0;34m:\u001b[0m\u001b[0;34m\u001b[0m\u001b[0;34m\u001b[0m\u001b[0m\n\u001b[0m\u001b[1;32m    135\u001b[0m         \u001b[0mdata\u001b[0m \u001b[0;34m=\u001b[0m \u001b[0mdata\u001b[0m\u001b[0;34m.\u001b[0m\u001b[0mdecode\u001b[0m\u001b[0;34m(\u001b[0m\u001b[0;34m'utf-8'\u001b[0m\u001b[0;34m)\u001b[0m\u001b[0;34m\u001b[0m\u001b[0;34m\u001b[0m\u001b[0m\n\u001b[1;32m    136\u001b[0m     \u001b[0;32mreturn\u001b[0m \u001b[0mdata\u001b[0m\u001b[0;34m\u001b[0m\u001b[0;34m\u001b[0m\u001b[0m\n",
            "\u001b[0;32m/anaconda/envs/azureml_py38/lib/python3.8/site-packages/matplotlib/backend_bases.py\u001b[0m in \u001b[0;36mprint_figure\u001b[0;34m(self, filename, dpi, facecolor, edgecolor, orientation, format, bbox_inches, pad_inches, bbox_extra_artists, backend, **kwargs)\u001b[0m\n\u001b[1;32m   2253\u001b[0m                 \u001b[0;31m# force the figure dpi to 72), so we need to set it again here.\u001b[0m\u001b[0;34m\u001b[0m\u001b[0;34m\u001b[0m\u001b[0;34m\u001b[0m\u001b[0m\n\u001b[1;32m   2254\u001b[0m                 \u001b[0;32mwith\u001b[0m \u001b[0mcbook\u001b[0m\u001b[0;34m.\u001b[0m\u001b[0m_setattr_cm\u001b[0m\u001b[0;34m(\u001b[0m\u001b[0mself\u001b[0m\u001b[0;34m.\u001b[0m\u001b[0mfigure\u001b[0m\u001b[0;34m,\u001b[0m \u001b[0mdpi\u001b[0m\u001b[0;34m=\u001b[0m\u001b[0mdpi\u001b[0m\u001b[0;34m)\u001b[0m\u001b[0;34m:\u001b[0m\u001b[0;34m\u001b[0m\u001b[0;34m\u001b[0m\u001b[0m\n\u001b[0;32m-> 2255\u001b[0;31m                     result = print_method(\n\u001b[0m\u001b[1;32m   2256\u001b[0m                         \u001b[0mfilename\u001b[0m\u001b[0;34m,\u001b[0m\u001b[0;34m\u001b[0m\u001b[0;34m\u001b[0m\u001b[0m\n\u001b[1;32m   2257\u001b[0m                         \u001b[0mfacecolor\u001b[0m\u001b[0;34m=\u001b[0m\u001b[0mfacecolor\u001b[0m\u001b[0;34m,\u001b[0m\u001b[0;34m\u001b[0m\u001b[0;34m\u001b[0m\u001b[0m\n",
            "\u001b[0;32m/anaconda/envs/azureml_py38/lib/python3.8/site-packages/matplotlib/backend_bases.py\u001b[0m in \u001b[0;36mwrapper\u001b[0;34m(*args, **kwargs)\u001b[0m\n\u001b[1;32m   1667\u001b[0m             \u001b[0mkwargs\u001b[0m\u001b[0;34m.\u001b[0m\u001b[0mpop\u001b[0m\u001b[0;34m(\u001b[0m\u001b[0marg\u001b[0m\u001b[0;34m)\u001b[0m\u001b[0;34m\u001b[0m\u001b[0;34m\u001b[0m\u001b[0m\n\u001b[1;32m   1668\u001b[0m \u001b[0;34m\u001b[0m\u001b[0m\n\u001b[0;32m-> 1669\u001b[0;31m         \u001b[0;32mreturn\u001b[0m \u001b[0mfunc\u001b[0m\u001b[0;34m(\u001b[0m\u001b[0;34m*\u001b[0m\u001b[0margs\u001b[0m\u001b[0;34m,\u001b[0m \u001b[0;34m**\u001b[0m\u001b[0mkwargs\u001b[0m\u001b[0;34m)\u001b[0m\u001b[0;34m\u001b[0m\u001b[0;34m\u001b[0m\u001b[0m\n\u001b[0m\u001b[1;32m   1670\u001b[0m \u001b[0;34m\u001b[0m\u001b[0m\n\u001b[1;32m   1671\u001b[0m     \u001b[0;32mreturn\u001b[0m \u001b[0mwrapper\u001b[0m\u001b[0;34m\u001b[0m\u001b[0;34m\u001b[0m\u001b[0m\n",
            "\u001b[0;32m/anaconda/envs/azureml_py38/lib/python3.8/site-packages/matplotlib/backends/backend_agg.py\u001b[0m in \u001b[0;36mprint_png\u001b[0;34m(self, filename_or_obj, metadata, pil_kwargs, *args)\u001b[0m\n\u001b[1;32m    507\u001b[0m         \"\"\"\n\u001b[1;32m    508\u001b[0m         \u001b[0mFigureCanvasAgg\u001b[0m\u001b[0;34m.\u001b[0m\u001b[0mdraw\u001b[0m\u001b[0;34m(\u001b[0m\u001b[0mself\u001b[0m\u001b[0;34m)\u001b[0m\u001b[0;34m\u001b[0m\u001b[0;34m\u001b[0m\u001b[0m\n\u001b[0;32m--> 509\u001b[0;31m         mpl.image.imsave(\n\u001b[0m\u001b[1;32m    510\u001b[0m             \u001b[0mfilename_or_obj\u001b[0m\u001b[0;34m,\u001b[0m \u001b[0mself\u001b[0m\u001b[0;34m.\u001b[0m\u001b[0mbuffer_rgba\u001b[0m\u001b[0;34m(\u001b[0m\u001b[0;34m)\u001b[0m\u001b[0;34m,\u001b[0m \u001b[0mformat\u001b[0m\u001b[0;34m=\u001b[0m\u001b[0;34m\"png\"\u001b[0m\u001b[0;34m,\u001b[0m \u001b[0morigin\u001b[0m\u001b[0;34m=\u001b[0m\u001b[0;34m\"upper\"\u001b[0m\u001b[0;34m,\u001b[0m\u001b[0;34m\u001b[0m\u001b[0;34m\u001b[0m\u001b[0m\n\u001b[1;32m    511\u001b[0m             dpi=self.figure.dpi, metadata=metadata, pil_kwargs=pil_kwargs)\n",
            "\u001b[0;32m/anaconda/envs/azureml_py38/lib/python3.8/site-packages/matplotlib/image.py\u001b[0m in \u001b[0;36mimsave\u001b[0;34m(fname, arr, vmin, vmax, cmap, format, origin, dpi, metadata, pil_kwargs)\u001b[0m\n\u001b[1;32m   1584\u001b[0m             \u001b[0mpil_kwargs\u001b[0m \u001b[0;34m=\u001b[0m \u001b[0;34m{\u001b[0m\u001b[0;34m}\u001b[0m\u001b[0;34m\u001b[0m\u001b[0;34m\u001b[0m\u001b[0m\n\u001b[1;32m   1585\u001b[0m         \u001b[0mpil_shape\u001b[0m \u001b[0;34m=\u001b[0m \u001b[0;34m(\u001b[0m\u001b[0mrgba\u001b[0m\u001b[0;34m.\u001b[0m\u001b[0mshape\u001b[0m\u001b[0;34m[\u001b[0m\u001b[0;36m1\u001b[0m\u001b[0;34m]\u001b[0m\u001b[0;34m,\u001b[0m \u001b[0mrgba\u001b[0m\u001b[0;34m.\u001b[0m\u001b[0mshape\u001b[0m\u001b[0;34m[\u001b[0m\u001b[0;36m0\u001b[0m\u001b[0;34m]\u001b[0m\u001b[0;34m)\u001b[0m\u001b[0;34m\u001b[0m\u001b[0;34m\u001b[0m\u001b[0m\n\u001b[0;32m-> 1586\u001b[0;31m         image = PIL.Image.frombuffer(\n\u001b[0m\u001b[1;32m   1587\u001b[0m             \"RGBA\", pil_shape, rgba, \"raw\", \"RGBA\", 0, 1)\n\u001b[1;32m   1588\u001b[0m         \u001b[0;32mif\u001b[0m \u001b[0mformat\u001b[0m \u001b[0;34m==\u001b[0m \u001b[0;34m\"png\"\u001b[0m\u001b[0;34m:\u001b[0m\u001b[0;34m\u001b[0m\u001b[0;34m\u001b[0m\u001b[0m\n",
            "\u001b[0;32m/anaconda/envs/azureml_py38/lib/python3.8/site-packages/PIL/__init__.py\u001b[0m in \u001b[0;36m__getattr__\u001b[0;34m(name)\u001b[0m\n\u001b[1;32m     40\u001b[0m             \u001b[0m_raise_version_warning\u001b[0m\u001b[0;34m(\u001b[0m\u001b[0;34m)\u001b[0m\u001b[0;34m\u001b[0m\u001b[0;34m\u001b[0m\u001b[0m\n\u001b[1;32m     41\u001b[0m             \u001b[0;32mreturn\u001b[0m \u001b[0m__version__\u001b[0m\u001b[0;34m\u001b[0m\u001b[0;34m\u001b[0m\u001b[0m\n\u001b[0;32m---> 42\u001b[0;31m         \u001b[0;32mraise\u001b[0m \u001b[0mAttributeError\u001b[0m\u001b[0;34m(\u001b[0m\u001b[0;34mf\"module '{__name__}' has no attribute '{name}'\"\u001b[0m\u001b[0;34m)\u001b[0m\u001b[0;34m\u001b[0m\u001b[0;34m\u001b[0m\u001b[0m\n\u001b[0m\u001b[1;32m     43\u001b[0m \u001b[0;34m\u001b[0m\u001b[0m\n\u001b[1;32m     44\u001b[0m \u001b[0;34m\u001b[0m\u001b[0m\n",
            "\u001b[0;31mAttributeError\u001b[0m: module 'PIL' has no attribute 'Image'"
          ]
        },
        {
          "output_type": "display_data",
          "data": {
            "text/plain": [
              "<Figure size 432x288 with 1 Axes>"
            ]
          },
          "metadata": {
            "needs_background": "light"
          }
        }
      ],
      "metadata": {}
    },
    {
      "cell_type": "code",
      "execution_count": null,
      "source": [
        "K!S(N,K)/K^N"
      ],
      "outputs": [],
      "metadata": {}
    },
    {
      "cell_type": "code",
      "execution_count": 47,
      "source": [
        "print(stirling(4,2))"
      ],
      "outputs": [
        {
          "output_type": "stream",
          "name": "stdout",
          "text": [
            "7\n"
          ]
        }
      ],
      "metadata": {}
    },
    {
      "cell_type": "markdown",
      "source": [
        "# Progressive injections:"
      ],
      "metadata": {}
    },
    {
      "cell_type": "code",
      "execution_count": 8,
      "source": [
        "import load\r\n",
        "net_default=load.load('checkpoint_default',num_classes=1000)\r\n",
        "#net_256=load.load('default_b_size_256')\r\n",
        "#net_512=load.load('default_b_size_512')\r\n",
        "import model_actions\r\n",
        "import many_inj"
      ],
      "outputs": [
        {
          "output_type": "stream",
          "name": "stdout",
          "text": [
            "Files already downloaded and verified\n"
          ]
        }
      ],
      "metadata": {}
    },
    {
      "cell_type": "code",
      "execution_count": 9,
      "source": [
        "from pytorchfi_c.core import fault_injection as pfi_core"
      ],
      "outputs": [],
      "metadata": {}
    },
    {
      "cell_type": "code",
      "execution_count": 10,
      "source": [
        "pfi_model = pfi_core(net_default.eval(), h, w, test_batch_size, c=c,debug=True,use_cuda=torch.cuda.is_available())"
      ],
      "outputs": [
        {
          "output_type": "stream",
          "name": "stderr",
          "text": [
            "/anaconda/envs/azureml_py36/lib/python3.6/site-packages/torch/nn/functional.py:718: UserWarning: Named tensors and all their associated APIs are an experimental feature and subject to change. Please do not use them for anything important until they are released as stable. (Triggered internally at  /pytorch/c10/core/TensorImpl.h:1156.)\n",
            "  return torch.max_pool2d(input, kernel_size, stride, padding, dilation, ceil_mode)\n"
          ]
        }
      ],
      "metadata": {}
    },
    {
      "cell_type": "code",
      "execution_count": 9,
      "source": [
        "#progresive random -1,1 w injections\r\n",
        "# avg_v=[]\r\n",
        "# for k in range(1):\r\n",
        "#     print(k)\r\n",
        "#     j=k*10\r\n",
        "#     acc_v=[]\r\n",
        "#     for i in range(0,10):\r\n",
        "#         model_m_inj = many_inj.many_w_injections(pfi_model,j)\r\n",
        "#         acc=model_actions.test(model_m_inj)\r\n",
        "#         acc_v.append(acc)\r\n",
        "#     av=np.average(acc_v)\r\n",
        "#     print(av)\r\n",
        "#     avg_v.append(av)"
      ],
      "outputs": [
        {
          "output_type": "stream",
          "name": "stdout",
          "text": [
            "0\n",
            "N injections:  0\n",
            " [================================================================>]  Step: 25m34s | Tot: 25m34s | Loss: 0.563 | Acc: 81.020% (8102/10000) 100/100 \n",
            "N injections:  0\n",
            " [================================================================>]  Step: 9s427ms | Tot: 25m43s | Loss: 0.563 | Acc: 81.020% (8102/10000) 100/100 \n",
            "N injections:  0\n",
            " [================================================================>]  Step: 7s738ms | Tot: 25m51s | Loss: 0.563 | Acc: 81.020% (8102/10000) 100/100 \n",
            "N injections:  0\n",
            " [================================================================>]  Step: 8s573ms | Tot: 26m273ms | Loss: 0.563 | Acc: 81.020% (8102/10000) 100/100 \n",
            "N injections:  0\n",
            " [================================================================>]  Step: 9s803ms | Tot: 26m10s | Loss: 0.563 | Acc: 81.020% (8102/10000) 100/100 \n",
            "N injections:  0\n",
            " [================================================================>]  Step: 9s713ms | Tot: 26m19s | Loss: 0.563 | Acc: 81.020% (8102/10000) 100/100 \n",
            "N injections:  0\n",
            " [================================================================>]  Step: 9s717ms | Tot: 26m29s | Loss: 0.563 | Acc: 81.020% (8102/10000) 100/100 \n",
            "N injections:  0\n",
            " [================================================================>]  Step: 9s4ms | Tot: 26m38s | Loss: 0.563 | Acc: 81.020% (8102/10000) 100/100 \n",
            "N injections:  0\n",
            " [================================================================>]  Step: 8s830ms | Tot: 26m47s | Loss: 0.563 | Acc: 81.020% (8102/10000) 100/100 \n",
            "N injections:  0\n",
            " [================================================================>]  Step: 9s171ms | Tot: 26m56s | Loss: 0.563 | Acc: 81.020% (8102/10000) 100/100 \n",
            "0.8102\n"
          ]
        }
      ],
      "metadata": {}
    },
    {
      "cell_type": "code",
      "execution_count": 11,
      "source": [
        "def progressive_inj(i,n,step=10):\r\n",
        "    '''i:n steps; n: n experiments'''\r\n",
        "    avg_v=[]\r\n",
        "    for k in range(i):\r\n",
        "        print(k)\r\n",
        "        j=k*step\r\n",
        "        acc_v=[]\r\n",
        "        for i in range(0,n):\r\n",
        "            model_m_inj = many_inj.many_w_injections(pfi_model,j)\r\n",
        "            acc=model_actions.test(model_m_inj)\r\n",
        "            acc_v.append(acc)\r\n",
        "        av=np.average(acc_v)\r\n",
        "        print(av)\r\n",
        "        avg_v.append(av)\r\n",
        "    return avg_v"
      ],
      "outputs": [],
      "metadata": {}
    },
    {
      "cell_type": "code",
      "execution_count": 39,
      "source": [
        "# import importlib\r\n",
        "# importlib.reload(log)"
      ],
      "outputs": [
        {
          "output_type": "execute_result",
          "data": {
            "text/plain": [
              "<module 'log' from '/mnt/batch/tasks/shared/LS_root/mounts/clusters/ins07220148/code/Users/S242660/thesis/log.py'>"
            ]
          },
          "metadata": {},
          "execution_count": 39
        }
      ],
      "metadata": {}
    },
    {
      "cell_type": "code",
      "execution_count": 12,
      "source": [
        "import log"
      ],
      "outputs": [],
      "metadata": {}
    },
    {
      "cell_type": "code",
      "execution_count": 13,
      "source": [
        "log.log(\"test\")"
      ],
      "outputs": [],
      "metadata": {}
    },
    {
      "cell_type": "code",
      "execution_count": 40,
      "source": [
        "#log.log_save(progressive_inj,\"test.json\")(3,1)"
      ],
      "outputs": [
        {
          "output_type": "stream",
          "name": "stdout",
          "text": [
            "0\n",
            "N injections:  0\n",
            " [================================================================>]  Step: 36s87ms | Tot: 33m7s | Loss: 0.563 | Acc: 81.020% (8102/10000)                                                                                                                                                                                                                                                                                                                                                                                                                                                                                                                                                                                                                                                                                                                                                                                                                                                                                             100/100 \n",
            "0.8102\n",
            "1\n",
            "N injections:  10\n",
            " [================================================================>]  Step: 2s42ms | Tot: 33m9s | Loss: 0.563 | Acc: 81.020% (8102/10000)                                                                                                                                                                                                                                                                                                                                                                                                                                                                                                                                                                                                                                                                                                                                                                                                                                                                                              100/100 \n",
            "0.8102\n",
            "2\n",
            "N injections:  20\n",
            " [================================================================>]  Step: 2s15ms | Tot: 33m11s | Loss: 0.563 | Acc: 81.020% (8102/10000)                                                                                                                                                                                                                                                                                                                                                                                                                                                                                                                                                                                                                                                                                                                                                                                                                                                                                             100/100 \n",
            "0.8102\n"
          ]
        }
      ],
      "metadata": {}
    },
    {
      "cell_type": "code",
      "execution_count": null,
      "source": [],
      "outputs": [],
      "metadata": {}
    },
    {
      "cell_type": "code",
      "execution_count": 15,
      "source": [
        "#import log\r\n",
        "\r\n",
        "log.log_save(progressive_inj,\"prog_w_inj_100_20_100.json\")(10,10,step=1000)"
      ],
      "outputs": [
        {
          "output_type": "stream",
          "name": "stdout",
          "text": [
            "0\n",
            "N injections:  0\n",
            " [================================================================>]  Step: 5m19s | Tot: 5m19s | Loss: 0.563 | Acc: 81.020% (8102/10000)                                                                                                                                                                                                                                                                                                                                                                                                                                                                                                                                                                                                                                                                                                                                                                                                                                                                                               100/100 \n",
            "N injections:  0\n",
            " [================================================================>]  Step: 1s788ms | Tot: 5m21s | Loss: 0.563 | Acc: 81.020% (8102/10000)                                                                                                                                                                                                                                                                                                                                                                                                                                                                                                                                                                                                                                                                                                                                                                                                                                                                                             100/100 \n",
            "N injections:  0\n",
            " [================================================================>]  Step: 1s767ms | Tot: 5m23s | Loss: 0.563 | Acc: 81.020% (8102/10000)                                                                                                                                                                                                                                                                                                                                                                                                                                                                                                                                                                                                                                                                                                                                                                                                                                                                                             100/100 \n",
            "N injections:  0\n",
            " [================================================================>]  Step: 1s796ms | Tot: 5m24s | Loss: 0.563 | Acc: 81.020% (8102/10000)                                                                                                                                                                                                                                                                                                                                                                                                                                                                                                                                                                                                                                                                                                                                                                                                                                                                                             100/100 \n",
            "N injections:  0\n",
            " [================================================================>]  Step: 1s776ms | Tot: 5m26s | Loss: 0.563 | Acc: 81.020% (8102/10000)                                                                                                                                                                                                                                                                                                                                                                                                                                                                                                                                                                                                                                                                                                                                                                                                                                                                                             100/100 \n",
            "N injections:  0\n",
            " [================================================================>]  Step: 1s784ms | Tot: 5m28s | Loss: 0.563 | Acc: 81.020% (8102/10000)                                                                                                                                                                                                                                                                                                                                                                                                                                                                                                                                                                                                                                                                                                                                                                                                                                                                                             100/100 \n",
            "N injections:  0\n",
            " [================================================================>]  Step: 1s761ms | Tot: 5m30s | Loss: 0.563 | Acc: 81.020% (8102/10000)                                                                                                                                                                                                                                                                                                                                                                                                                                                                                                                                                                                                                                                                                                                                                                                                                                                                                             100/100 \n",
            "N injections:  0\n",
            " [================================================================>]  Step: 1s781ms | Tot: 5m31s | Loss: 0.563 | Acc: 81.020% (8102/10000)                                                                                                                                                                                                                                                                                                                                                                                                                                                                                                                                                                                                                                                                                                                                                                                                                                                                                             100/100 \n",
            "N injections:  0\n",
            " [================================================================>]  Step: 1s757ms | Tot: 5m33s | Loss: 0.563 | Acc: 81.020% (8102/10000)                                                                                                                                                                                                                                                                                                                                                                                                                                                                                                                                                                                                                                                                                                                                                                                                                                                                                             100/100 \n",
            "N injections:  0\n",
            " [================================================================>]  Step: 1s771ms | Tot: 5m35s | Loss: 0.563 | Acc: 81.020% (8102/10000)                                                                                                                                                                                                                                                                                                                                                                                                                                                                                                                                                                                                                                                                                                                                                                                                                                                                                             100/100 \n",
            "0.8102\n",
            "1\n",
            "N injections:  1000\n",
            " Injection:  999 [================================================================>]  Step: 2s935ms | Tot: 5m38s | Loss: 0.612 | Acc: 79.400% (7940/10000)                                                                                                                                                                                                                                                                                                                                                                                                                                                                                                                                                                                                                                                                                                                                                                                                                                                                                             100/100 \n",
            "N injections:  1000\n",
            " Injection:  999 [================================================================>]  Step: 2s895ms | Tot: 5m41s | Loss: 0.651 | Acc: 78.290% (7829/10000)                                                                                                                                                                                                                                                                                                                                                                                                                                                                                                                                                                                                                                                                                                                                                                                                                                                                                             100/100 \n",
            "N injections:  1000\n",
            " Injection:  999 [================================================================>]  Step: 2s882ms | Tot: 5m44s | Loss: 0.710 | Acc: 76.140% (7614/10000)                                                                                                                                                                                                                                                                                                                                                                                                                                                                                                                                                                                                                                                                                                                                                                                                                                                                                             100/100 \n",
            "N injections:  1000\n",
            " Injection:  999 [================================================================>]  Step: 2s902ms | Tot: 5m47s | Loss: 0.666 | Acc: 77.720% (7772/10000)                                                                                                                                                                                                                                                                                                                                                                                                                                                                                                                                                                                                                                                                                                                                                                                                                                                                                             100/100 \n",
            "N injections:  1000\n",
            " Injection:  999 [================================================================>]  Step: 2s836ms | Tot: 5m49s | Loss: 0.701 | Acc: 76.940% (7694/10000)                                                                                                                                                                                                                                                                                                                                                                                                                                                                                                                                                                                                                                                                                                                                                                                                                                                                                             100/100 \n",
            "N injections:  1000\n",
            " Injection:  999 [================================================================>]  Step: 2s845ms | Tot: 5m52s | Loss: 0.675 | Acc: 77.240% (7724/10000)                                                                                                                                                                                                                                                                                                                                                                                                                                                                                                                                                                                                                                                                                                                                                                                                                                                                                             100/100 \n",
            "N injections:  1000\n",
            " Injection:  999 [================================================================>]  Step: 2s867ms | Tot: 5m55s | Loss: 0.658 | Acc: 77.610% (7761/10000)                                                                                                                                                                                                                                                                                                                                                                                                                                                                                                                                                                                                                                                                                                                                                                                                                                                                                             100/100 \n",
            "N injections:  1000\n",
            " Injection:  999 [================================================================>]  Step: 2s858ms | Tot: 5m58s | Loss: 0.641 | Acc: 78.320% (7832/10000)                                                                                                                                                                                                                                                                                                                                                                                                                                                                                                                                                                                                                                                                                                                                                                                                                                                                                             100/100 \n",
            "N injections:  1000\n",
            " Injection:  999 [================================================================>]  Step: 2s884ms | Tot: 6m1s | Loss: 0.729 | Acc: 75.480% (7548/10000)                                                                                                                                                                                                                                                                                                                                                                                                                                                                                                                                                                                                                                                                                                                                                                                                                                                                                              100/100 \n",
            "N injections:  1000\n",
            " Injection:  999 [================================================================>]  Step: 2s867ms | Tot: 6m4s | Loss: 0.734 | Acc: 75.240% (7524/10000)                                                                                                                                                                                                                                                                                                                                                                                                                                                                                                                                                                                                                                                                                                                                                                                                                                                                                              100/100 \n",
            "0.77238\n",
            "2\n",
            "N injections:  2000\n",
            " Injection:  1999 [================================================================>]  Step: 3s983ms | Tot: 6m8s | Loss: 0.840 | Acc: 71.850% (7185/10000)                                                                                                                                                                                                                                                                                                                                                                                                                                                                                                                                                                                                                                                                                                                                                                                                                                                                                              100/100 \n",
            "N injections:  2000\n",
            " Injection:  1999 [================================================================>]  Step: 3s971ms | Tot: 6m12s | Loss: 0.781 | Acc: 73.720% (7372/10000)                                                                                                                                                                                                                                                                                                                                                                                                                                                                                                                                                                                                                                                                                                                                                                                                                                                                                             100/100 \n",
            "N injections:  2000\n",
            " Injection:  1999 [================================================================>]  Step: 3s965ms | Tot: 6m16s | Loss: 0.918 | Acc: 69.420% (6942/10000)                                                                                                                                                                                                                                                                                                                                                                                                                                                                                                                                                                                                                                                                                                                                                                                                                                                                                             100/100 \n",
            "N injections:  2000\n",
            " Injection:  1999 [================================================================>]  Step: 3s986ms | Tot: 6m20s | Loss: 0.711 | Acc: 75.900% (7590/10000)                                                                                                                                                                                                                                                                                                                                                                                                                                                                                                                                                                                                                                                                                                                                                                                                                                                                                             100/100 \n",
            "N injections:  2000\n",
            " Injection:  1999 [================================================================>]  Step: 3s991ms | Tot: 6m24s | Loss: 0.889 | Acc: 70.320% (7032/10000)                                                                                                                                                                                                                                                                                                                                                                                                                                                                                                                                                                                                                                                                                                                                                                                                                                                                                             100/100 \n",
            "N injections:  2000\n",
            " Injection:  1999 [================================================================>]  Step: 3s961ms | Tot: 6m28s | Loss: 0.825 | Acc: 72.290% (7229/10000)                                                                                                                                                                                                                                                                                                                                                                                                                                                                                                                                                                                                                                                                                                                                                                                                                                                                                             100/100 \n",
            "N injections:  2000\n",
            " Injection:  1999 [================================================================>]  Step: 3s966ms | Tot: 6m32s | Loss: 0.797 | Acc: 72.620% (7262/10000)                                                                                                                                                                                                                                                                                                                                                                                                                                                                                                                                                                                                                                                                                                                                                                                                                                                                                             100/100 \n",
            "N injections:  2000\n",
            " Injection:  1999 [================================================================>]  Step: 3s957ms | Tot: 6m36s | Loss: 0.823 | Acc: 72.140% (7214/10000)                                                                                                                                                                                                                                                                                                                                                                                                                                                                                                                                                                                                                                                                                                                                                                                                                                                                                             100/100 \n",
            "N injections:  2000\n",
            " Injection:  1999 [================================================================>]  Step: 4s6ms | Tot: 6m40s | Loss: 0.688 | Acc: 77.270% (7727/10000)                                                                                                                                                                                                                                                                                                                                                                                                                                                                                                                                                                                                                                                                                                                                                                                                                                                                                               100/100 \n",
            "N injections:  2000\n",
            " Injection:  1999 [================================================================>]  Step: 3s948ms | Tot: 6m43s | Loss: 0.778 | Acc: 73.720% (7372/10000)                                                                                                                                                                                                                                                                                                                                                                                                                                                                                                                                                                                                                                                                                                                                                                                                                                                                                             100/100 \n",
            "0.7292500000000001\n",
            "3\n",
            "N injections:  3000\n",
            " Injection:  2999 [================================================================>]  Step: 5s203ms | Tot: 6m49s | Loss: 0.923 | Acc: 69.380% (6938/10000)                                                                                                                                                                                                                                                                                                                                                                                                                                                                                                                                                                                                                                                                                                                                                                                                                                                                                             100/100 \n",
            "N injections:  3000\n",
            " Injection:  2999 [================================================================>]  Step: 5s41ms | Tot: 6m54s | Loss: 1.011 | Acc: 66.910% (6691/10000)                                                                                                                                                                                                                                                                                                                                                                                                                                                                                                                                                                                                                                                                                                                                                                                                                                                                                              100/100 \n",
            "N injections:  3000\n",
            " Injection:  2999 [================================================================>]  Step: 5s64ms | Tot: 6m59s | Loss: 0.997 | Acc: 67.020% (6702/10000)                                                                                                                                                                                                                                                                                                                                                                                                                                                                                                                                                                                                                                                                                                                                                                                                                                                                                              100/100 \n",
            "N injections:  3000\n",
            " Injection:  2999 [================================================================>]  Step: 5s3ms | Tot: 7m4s | Loss: 1.110 | Acc: 63.070% (6307/10000)                                                                                                                                                                                                                                                                                                                                                                                                                                                                                                                                                                                                                                                                                                                                                                                                                                                                                                100/100 \n",
            "N injections:  3000\n",
            " Injection:  2999 [================================================================>]  Step: 5s76ms | Tot: 7m9s | Loss: 1.065 | Acc: 65.040% (6504/10000)                                                                                                                                                                                                                                                                                                                                                                                                                                                                                                                                                                                                                                                                                                                                                                                                                                                                                               100/100 \n",
            "N injections:  3000\n",
            " Injection:  2999 [================================================================>]  Step: 5s85ms | Tot: 7m14s | Loss: 0.924 | Acc: 68.390% (6839/10000)                                                                                                                                                                                                                                                                                                                                                                                                                                                                                                                                                                                                                                                                                                                                                                                                                                                                                              100/100 \n",
            "N injections:  3000\n",
            " Injection:  2999 [================================================================>]  Step: 5s108ms | Tot: 7m19s | Loss: 0.868 | Acc: 70.880% (7088/10000)                                                                                                                                                                                                                                                                                                                                                                                                                                                                                                                                                                                                                                                                                                                                                                                                                                                                                             100/100 \n",
            "N injections:  3000\n",
            " Injection:  2999 [================================================================>]  Step: 5s107ms | Tot: 7m24s | Loss: 0.995 | Acc: 65.760% (6576/10000)                                                                                                                                                                                                                                                                                                                                                                                                                                                                                                                                                                                                                                                                                                                                                                                                                                                                                             100/100 \n",
            "N injections:  3000\n",
            " Injection:  2999 [================================================================>]  Step: 5s47ms | Tot: 7m29s | Loss: 0.854 | Acc: 71.010% (7101/10000)                                                                                                                                                                                                                                                                                                                                                                                                                                                                                                                                                                                                                                                                                                                                                                                                                                                                                              100/100 \n",
            "N injections:  3000\n",
            " Injection:  2999 [================================================================>]  Step: 5s63ms | Tot: 7m34s | Loss: 0.990 | Acc: 67.010% (6701/10000)                                                                                                                                                                                                                                                                                                                                                                                                                                                                                                                                                                                                                                                                                                                                                                                                                                                                                              100/100 \n",
            "0.6744699999999999\n",
            "4\n",
            "N injections:  4000\n",
            " Injection:  3999 [================================================================>]  Step: 6s231ms | Tot: 7m40s | Loss: 1.056 | Acc: 63.380% (6338/10000)                                                                                                                                                                                                                                                                                                                                                                                                                                                                                                                                                                                                                                                                                                                                                                                                                                                                                             100/100 \n",
            "N injections:  4000\n",
            " Injection:  3999 [================================================================>]  Step: 6s119ms | Tot: 7m47s | Loss: 1.542 | Acc: 53.230% (5323/10000)                                                                                                                                                                                                                                                                                                                                                                                                                                                                                                                                                                                                                                                                                                                                                                                                                                                                                             100/100 \n",
            "N injections:  4000\n",
            " Injection:  3999 [================================================================>]  Step: 6s159ms | Tot: 7m53s | Loss: 1.062 | Acc: 64.520% (6452/10000)                                                                                                                                                                                                                                                                                                                                                                                                                                                                                                                                                                                                                                                                                                                                                                                                                                                                                             100/100 \n",
            "N injections:  4000\n",
            " Injection:  3999 [================================================================>]  Step: 6s135ms | Tot: 7m59s | Loss: 1.150 | Acc: 61.860% (6186/10000)                                                                                                                                                                                                                                                                                                                                                                                                                                                                                                                                                                                                                                                                                                                                                                                                                                                                                             100/100 \n",
            "N injections:  4000\n",
            " Injection:  3999 [================================================================>]  Step: 6s189ms | Tot: 8m5s | Loss: 1.283 | Acc: 58.090% (5809/10000)                                                                                                                                                                                                                                                                                                                                                                                                                                                                                                                                                                                                                                                                                                                                                                                                                                                                                              100/100 \n",
            "N injections:  4000\n",
            " Injection:  3999 [================================================================>]  Step: 6s167ms | Tot: 8m11s | Loss: 1.378 | Acc: 56.580% (5658/10000)                                                                                                                                                                                                                                                                                                                                                                                                                                                                                                                                                                                                                                                                                                                                                                                                                                                                                             100/100 \n",
            "N injections:  4000\n",
            " Injection:  3999 [================================================================>]  Step: 6s214ms | Tot: 8m17s | Loss: 1.146 | Acc: 61.120% (6112/10000)                                                                                                                                                                                                                                                                                                                                                                                                                                                                                                                                                                                                                                                                                                                                                                                                                                                                                             100/100 \n",
            "N injections:  4000\n",
            " Injection:  3999 [================================================================>]  Step: 6s267ms | Tot: 8m24s | Loss: 1.144 | Acc: 61.150% (6115/10000)                                                                                                                                                                                                                                                                                                                                                                                                                                                                                                                                                                                                                                                                                                                                                                                                                                                                                             100/100 \n",
            "N injections:  4000\n",
            " Injection:  3999 [================================================================>]  Step: 6s182ms | Tot: 8m30s | Loss: 1.267 | Acc: 56.830% (5683/10000)                                                                                                                                                                                                                                                                                                                                                                                                                                                                                                                                                                                                                                                                                                                                                                                                                                                                                             100/100 \n",
            "N injections:  4000\n",
            " Injection:  3999 [================================================================>]  Step: 6s148ms | Tot: 8m36s | Loss: 0.945 | Acc: 68.220% (6822/10000)                                                                                                                                                                                                                                                                                                                                                                                                                                                                                                                                                                                                                                                                                                                                                                                                                                                                                             100/100 \n",
            "0.6049800000000001\n",
            "5\n",
            "N injections:  5000\n",
            " Injection:  4999 [================================================================>]  Step: 7s220ms | Tot: 8m43s | Loss: 1.340 | Acc: 55.200% (5520/10000)                                                                                                                                                                                                                                                                                                                                                                                                                                                                                                                                                                                                                                                                                                                                                                                                                                                                                             100/100 \n",
            "N injections:  5000\n",
            " Injection:  4999 [================================================================>]  Step: 7s230ms | Tot: 8m51s | Loss: 1.479 | Acc: 51.540% (5154/10000)                                                                                                                                                                                                                                                                                                                                                                                                                                                                                                                                                                                                                                                                                                                                                                                                                                                                                             100/100 \n",
            "N injections:  5000\n",
            " Injection:  4999 [================================================================>]  Step: 7s184ms | Tot: 8m58s | Loss: 1.355 | Acc: 57.370% (5737/10000)                                                                                                                                                                                                                                                                                                                                                                                                                                                                                                                                                                                                                                                                                                                                                                                                                                                                                             100/100 \n",
            "N injections:  5000\n",
            " Injection:  4999 [================================================================>]  Step: 7s329ms | Tot: 9m5s | Loss: 1.257 | Acc: 57.770% (5777/10000)                                                                                                                                                                                                                                                                                                                                                                                                                                                                                                                                                                                                                                                                                                                                                                                                                                                                                              100/100 \n",
            "N injections:  5000\n",
            " Injection:  4999 [================================================================>]  Step: 7s380ms | Tot: 9m12s | Loss: 1.537 | Acc: 49.360% (4936/10000)                                                                                                                                                                                                                                                                                                                                                                                                                                                                                                                                                                                                                                                                                                                                                                                                                                                                                             100/100 \n",
            "N injections:  5000\n",
            " Injection:  4999 [================================================================>]  Step: 7s298ms | Tot: 9m20s | Loss: 1.330 | Acc: 55.330% (5533/10000)                                                                                                                                                                                                                                                                                                                                                                                                                                                                                                                                                                                                                                                                                                                                                                                                                                                                                             100/100 \n",
            "N injections:  5000\n",
            " Injection:  4999 [================================================================>]  Step: 7s280ms | Tot: 9m27s | Loss: 1.582 | Acc: 49.360% (4936/10000)                                                                                                                                                                                                                                                                                                                                                                                                                                                                                                                                                                                                                                                                                                                                                                                                                                                                                             100/100 \n",
            "N injections:  5000\n",
            " Injection:  4999 [================================================================>]  Step: 7s277ms | Tot: 9m34s | Loss: 1.848 | Acc: 41.650% (4165/10000)                                                                                                                                                                                                                                                                                                                                                                                                                                                                                                                                                                                                                                                                                                                                                                                                                                                                                             100/100 \n",
            "N injections:  5000\n",
            " Injection:  4999 [================================================================>]  Step: 7s231ms | Tot: 9m42s | Loss: 1.258 | Acc: 56.910% (5691/10000)                                                                                                                                                                                                                                                                                                                                                                                                                                                                                                                                                                                                                                                                                                                                                                                                                                                                                             100/100 \n",
            "N injections:  5000\n",
            " Injection:  4999 [================================================================>]  Step: 7s297ms | Tot: 9m49s | Loss: 1.481 | Acc: 54.740% (5474/10000)                                                                                                                                                                                                                                                                                                                                                                                                                                                                                                                                                                                                                                                                                                                                                                                                                                                                                             100/100 \n",
            "0.5292299999999999\n",
            "6\n",
            "N injections:  6000\n",
            " Injection:  5999 [================================================================>]  Step: 8s516ms | Tot: 9m57s | Loss: 1.755 | Acc: 43.900% (4390/10000)                                                                                                                                                                                                                                                                                                                                                                                                                                                                                                                                                                                                                                                                                                                                                                                                                                                                                             100/100 \n",
            "N injections:  6000\n",
            " Injection:  5999 [================================================================>]  Step: 8s311ms | Tot: 10m6s | Loss: 1.681 | Acc: 45.430% (4543/10000)                                                                                                                                                                                                                                                                                                                                                                                                                                                                                                                                                                                                                                                                                                                                                                                                                                                                                             100/100 \n",
            "N injections:  6000\n",
            " Injection:  5999 [================================================================>]  Step: 8s396ms | Tot: 10m14s | Loss: 2.613 | Acc: 28.260% (2826/10000)                                                                                                                                                                                                                                                                                                                                                                                                                                                                                                                                                                                                                                                                                                                                                                                                                                                                                            100/100 \n",
            "N injections:  6000\n",
            " Injection:  5999 [================================================================>]  Step: 8s381ms | Tot: 10m22s | Loss: 1.302 | Acc: 54.940% (5494/10000)                                                                                                                                                                                                                                                                                                                                                                                                                                                                                                                                                                                                                                                                                                                                                                                                                                                                                            100/100 \n",
            "N injections:  6000\n",
            " Injection:  5999 [================================================================>]  Step: 8s371ms | Tot: 10m31s | Loss: 1.752 | Acc: 43.190% (4319/10000)                                                                                                                                                                                                                                                                                                                                                                                                                                                                                                                                                                                                                                                                                                                                                                                                                                                                                            100/100 \n",
            "N injections:  6000\n",
            " Injection:  5999 [================================================================>]  Step: 8s318ms | Tot: 10m39s | Loss: 1.622 | Acc: 45.830% (4583/10000)                                                                                                                                                                                                                                                                                                                                                                                                                                                                                                                                                                                                                                                                                                                                                                                                                                                                                            100/100 \n",
            "N injections:  6000\n",
            " Injection:  5999 [================================================================>]  Step: 8s485ms | Tot: 10m48s | Loss: 1.891 | Acc: 43.480% (4348/10000)                                                                                                                                                                                                                                                                                                                                                                                                                                                                                                                                                                                                                                                                                                                                                                                                                                                                                            100/100 \n",
            "N injections:  6000\n",
            " Injection:  5999 [================================================================>]  Step: 8s381ms | Tot: 10m56s | Loss: 1.878 | Acc: 40.640% (4064/10000)                                                                                                                                                                                                                                                                                                                                                                                                                                                                                                                                                                                                                                                                                                                                                                                                                                                                                            100/100 \n",
            "N injections:  6000\n",
            " Injection:  5999 [================================================================>]  Step: 8s409ms | Tot: 11m4s | Loss: 1.715 | Acc: 45.490% (4549/10000)                                                                                                                                                                                                                                                                                                                                                                                                                                                                                                                                                                                                                                                                                                                                                                                                                                                                                             100/100 \n",
            "N injections:  6000\n",
            " Injection:  5999 [================================================================>]  Step: 8s353ms | Tot: 11m13s | Loss: 1.961 | Acc: 41.450% (4145/10000)                                                                                                                                                                                                                                                                                                                                                                                                                                                                                                                                                                                                                                                                                                                                                                                                                                                                                            100/100 \n",
            "0.43260999999999994\n",
            "7\n",
            "N injections:  7000\n",
            " Injection:  6999 [================================================================>]  Step: 9s484ms | Tot: 11m22s | Loss: 2.226 | Acc: 32.820% (3282/10000)                                                                                                                                                                                                                                                                                                                                                                                                                                                                                                                                                                                                                                                                                                                                                                                                                                                                                            100/100 \n",
            "N injections:  7000\n",
            " Injection:  6999 [================================================================>]  Step: 9s666ms | Tot: 11m32s | Loss: 2.674 | Acc: 30.780% (3078/10000)                                                                                                                                                                                                                                                                                                                                                                                                                                                                                                                                                                                                                                                                                                                                                                                                                                                                                            100/100 \n",
            "N injections:  7000\n",
            " Injection:  6999 [================================================================>]  Step: 9s397ms | Tot: 11m41s | Loss: 1.978 | Acc: 36.590% (3659/10000)                                                                                                                                                                                                                                                                                                                                                                                                                                                                                                                                                                                                                                                                                                                                                                                                                                                                                            100/100 \n",
            "N injections:  7000\n",
            " Injection:  6999 [================================================================>]  Step: 9s431ms | Tot: 11m51s | Loss: 2.510 | Acc: 27.710% (2771/10000)                                                                                                                                                                                                                                                                                                                                                                                                                                                                                                                                                                                                                                                                                                                                                                                                                                                                                            100/100 \n",
            "N injections:  7000\n",
            " Injection:  6999 [================================================================>]  Step: 9s240ms | Tot: 12m449ms | Loss: 1.753 | Acc: 41.230% (4123/10000)                                                                                                                                                                                                                                                                                                                                                                                                                                                                                                                                                                                                                                                                                                                                                                                                                                                                                          100/100 \n",
            "N injections:  7000\n",
            " Injection:  6999 [================================================================>]  Step: 9s287ms | Tot: 12m9s | Loss: 1.984 | Acc: 38.130% (3813/10000)                                                                                                                                                                                                                                                                                                                                                                                                                                                                                                                                                                                                                                                                                                                                                                                                                                                                                             100/100 \n",
            "N injections:  7000\n",
            " Injection:  6999 [================================================================>]  Step: 9s328ms | Tot: 12m19s | Loss: 1.978 | Acc: 40.020% (4002/10000)                                                                                                                                                                                                                                                                                                                                                                                                                                                                                                                                                                                                                                                                                                                                                                                                                                                                                            100/100 \n",
            "N injections:  7000\n",
            " Injection:  6999 [================================================================>]  Step: 9s247ms | Tot: 12m28s | Loss: 1.875 | Acc: 39.210% (3921/10000)                                                                                                                                                                                                                                                                                                                                                                                                                                                                                                                                                                                                                                                                                                                                                                                                                                                                                            100/100 \n",
            "N injections:  7000\n",
            " Injection:  6999 [================================================================>]  Step: 9s266ms | Tot: 12m37s | Loss: 1.967 | Acc: 37.120% (3712/10000)                                                                                                                                                                                                                                                                                                                                                                                                                                                                                                                                                                                                                                                                                                                                                                                                                                                                                            100/100 \n",
            "N injections:  7000\n",
            " Injection:  6999 [================================================================>]  Step: 9s208ms | Tot: 12m46s | Loss: 1.448 | Acc: 50.250% (5025/10000)                                                                                                                                                                                                                                                                                                                                                                                                                                                                                                                                                                                                                                                                                                                                                                                                                                                                                            100/100 \n",
            "0.37385999999999997\n",
            "8\n",
            "N injections:  8000\n",
            " Injection:  7999 [================================================================>]  Step: 10s255ms | Tot: 12m57s | Loss: 2.028 | Acc: 37.260% (3726/10000)                                                                                                                                                                                                                                                                                                                                                                                                                                                                                                                                                                                                                                                                                                                                                                                                                                                                                           100/100 \n",
            "N injections:  8000\n",
            " Injection:  7999 [================================================================>]  Step: 10s423ms | Tot: 13m7s | Loss: 2.779 | Acc: 23.370% (2337/10000)                                                                                                                                                                                                                                                                                                                                                                                                                                                                                                                                                                                                                                                                                                                                                                                                                                                                                            100/100 \n",
            "N injections:  8000\n",
            " Injection:  7999 [================================================================>]  Step: 10s266ms | Tot: 13m17s | Loss: 2.041 | Acc: 37.810% (3781/10000)                                                                                                                                                                                                                                                                                                                                                                                                                                                                                                                                                                                                                                                                                                                                                                                                                                                                                           100/100 \n",
            "N injections:  8000\n",
            " Injection:  7999 [================================================================>]  Step: 10s216ms | Tot: 13m27s | Loss: 1.971 | Acc: 38.810% (3881/10000)                                                                                                                                                                                                                                                                                                                                                                                                                                                                                                                                                                                                                                                                                                                                                                                                                                                                                           100/100 \n",
            "N injections:  8000\n",
            " Injection:  7999 [================================================================>]  Step: 10s230ms | Tot: 13m38s | Loss: 2.352 | Acc: 31.690% (3169/10000)                                                                                                                                                                                                                                                                                                                                                                                                                                                                                                                                                                                                                                                                                                                                                                                                                                                                                           100/100 \n",
            "N injections:  8000\n",
            " Injection:  7999 [================================================================>]  Step: 10s188ms | Tot: 13m48s | Loss: 2.124 | Acc: 36.960% (3696/10000)                                                                                                                                                                                                                                                                                                                                                                                                                                                                                                                                                                                                                                                                                                                                                                                                                                                                                           100/100 \n",
            "N injections:  8000\n",
            " Injection:  7999 [================================================================>]  Step: 10s364ms | Tot: 13m58s | Loss: 2.108 | Acc: 32.720% (3272/10000)                                                                                                                                                                                                                                                                                                                                                                                                                                                                                                                                                                                                                                                                                                                                                                                                                                                                                           100/100 \n",
            "N injections:  8000\n",
            " Injection:  7999 [================================================================>]  Step: 10s215ms | Tot: 14m8s | Loss: 2.550 | Acc: 30.790% (3079/10000)                                                                                                                                                                                                                                                                                                                                                                                                                                                                                                                                                                                                                                                                                                                                                                                                                                                                                            100/100 \n",
            "N injections:  8000\n",
            " Injection:  7999 [================================================================>]  Step: 10s277ms | Tot: 14m19s | Loss: 2.767 | Acc: 24.200% (2420/10000)                                                                                                                                                                                                                                                                                                                                                                                                                                                                                                                                                                                                                                                                                                                                                                                                                                                                                           100/100 \n",
            "N injections:  8000\n",
            " Injection:  7999 [================================================================>]  Step: 10s220ms | Tot: 14m29s | Loss: 2.038 | Acc: 40.720% (4072/10000)                                                                                                                                                                                                                                                                                                                                                                                                                                                                                                                                                                                                                                                                                                                                                                                                                                                                                           100/100 \n",
            "0.33433\n",
            "9\n",
            "N injections:  9000\n",
            " Injection:  8999 [================================================================>]  Step: 11s498ms | Tot: 14m40s | Loss: 2.691 | Acc: 25.870% (2587/10000)                                                                                                                                                                                                                                                                                                                                                                                                                                                                                                                                                                                                                                                                                                                                                                                                                                                                                           100/100 \n",
            "N injections:  9000\n",
            " Injection:  8999 [================================================================>]  Step: 11s275ms | Tot: 14m52s | Loss: 2.096 | Acc: 32.650% (3265/10000)                                                                                                                                                                                                                                                                                                                                                                                                                                                                                                                                                                                                                                                                                                                                                                                                                                                                                           100/100 \n",
            "N injections:  9000\n",
            " Injection:  8999 [================================================================>]  Step: 11s433ms | Tot: 15m3s | Loss: 3.167 | Acc: 23.360% (2336/10000)                                                                                                                                                                                                                                                                                                                                                                                                                                                                                                                                                                                                                                                                                                                                                                                                                                                                                            100/100 \n",
            "N injections:  9000\n",
            " Injection:  8999 [================================================================>]  Step: 11s299ms | Tot: 15m14s | Loss: 2.863 | Acc: 24.710% (2471/10000)                                                                                                                                                                                                                                                                                                                                                                                                                                                                                                                                                                                                                                                                                                                                                                                                                                                                                           100/100 \n",
            "N injections:  9000\n",
            " Injection:  8999 [================================================================>]  Step: 11s520ms | Tot: 15m26s | Loss: 2.441 | Acc: 25.790% (2579/10000)                                                                                                                                                                                                                                                                                                                                                                                                                                                                                                                                                                                                                                                                                                                                                                                                                                                                                           100/100 \n",
            "N injections:  9000\n",
            " Injection:  8999 [================================================================>]  Step: 11s392ms | Tot: 15m37s | Loss: 2.249 | Acc: 36.150% (3615/10000)                                                                                                                                                                                                                                                                                                                                                                                                                                                                                                                                                                                                                                                                                                                                                                                                                                                                                           100/100 \n",
            "N injections:  9000\n",
            " Injection:  8999 [================================================================>]  Step: 11s471ms | Tot: 15m49s | Loss: 3.268 | Acc: 20.220% (2022/10000)                                                                                                                                                                                                                                                                                                                                                                                                                                                                                                                                                                                                                                                                                                                                                                                                                                                                                           100/100 \n",
            "N injections:  9000\n",
            " Injection:  8999 [================================================================>]  Step: 11s276ms | Tot: 16m615ms | Loss: 2.915 | Acc: 19.510% (1951/10000)                                                                                                                                                                                                                                                                                                                                                                                                                                                                                                                                                                                                                                                                                                                                                                                                                                                                                         100/100 \n",
            "N injections:  9000\n",
            " Injection:  8999 [================================================================>]  Step: 11s500ms | Tot: 16m12s | Loss: 3.523 | Acc: 18.660% (1866/10000)                                                                                                                                                                                                                                                                                                                                                                                                                                                                                                                                                                                                                                                                                                                                                                                                                                                                                           100/100 \n",
            "N injections:  9000\n",
            " Injection:  8999 [================================================================>]  Step: 11s379ms | Tot: 16m23s | Loss: 2.849 | Acc: 25.720% (2572/10000)                                                                                                                                                                                                                                                                                                                                                                                                                                                                                                                                                                                                                                                                                                                                                                                                                                                                                           100/100 \n",
            "0.25264000000000003\n"
          ]
        }
      ],
      "metadata": {}
    },
    {
      "cell_type": "code",
      "execution_count": null,
      "source": [
        "log.log(\"test\")"
      ],
      "outputs": [],
      "metadata": {}
    },
    {
      "cell_type": "code",
      "execution_count": 41,
      "source": [
        "import json\r\n",
        "with open(\"results/test.json\", 'r+') as fh:\r\n",
        "  orig=json.load(fh)"
      ],
      "outputs": [],
      "metadata": {}
    },
    {
      "cell_type": "code",
      "execution_count": 42,
      "source": [
        "orig"
      ],
      "outputs": [
        {
          "output_type": "execute_result",
          "data": {
            "text/plain": [
              "[0.8102]"
            ]
          },
          "metadata": {},
          "execution_count": 42
        }
      ],
      "metadata": {}
    },
    {
      "cell_type": "code",
      "execution_count": 17,
      "source": [
        "import az_manage_proc as az\r\n",
        "from log import log_save\r\n",
        "az.run_and_delete_test(log_save(progressive_inj,\"test2.json\"))(1,1,step=100)"
      ],
      "outputs": [
        {
          "output_type": "stream",
          "name": "stdout",
          "text": [
            "0\n",
            "N injections:  0\n",
            " [================================================================>]  Step: 3m20s | Tot: 22m43s | Loss: 0.563 | Acc: 81.020% (8102/10000)                                                                                                                                                                                                                                                                                                                                                                                                                                                                                                                                                                                                                                                                                                                                                                                                                                                                                              100/100 \n",
            "0.8102\n"
          ]
        }
      ],
      "metadata": {}
    },
    {
      "cell_type": "markdown",
      "source": [
        "Progresive figs"
      ],
      "metadata": {}
    },
    {
      "cell_type": "code",
      "execution_count": 40,
      "source": [
        "x=[x*1000 for x in range(10)]"
      ],
      "outputs": [],
      "metadata": {}
    },
    {
      "cell_type": "code",
      "execution_count": 41,
      "source": [
        "name=\"prog_w_inj_10_10_1000.json\"\r\n",
        "load=log.load(name)\r\n",
        "fig, ax = plt.subplots()\r\n",
        "ax.plot(x,load)\r\n",
        "fig.savefig(\"images/\"+name+\".png\")\r\n"
      ],
      "outputs": [
        {
          "output_type": "display_data",
          "data": {
            "image/png": "[encoded data removed]",
            "text/plain": [
              "<Figure size 432x288 with 1 Axes>"
            ]
          },
          "metadata": {
            "needs_background": "light"
          }
        }
      ],
      "metadata": {}
    },
    {
      "cell_type": "markdown",
      "source": [
        "## Weight inj with value 0"
      ],
      "metadata": {
        "nteract": {
          "transient": {
            "deleting": false
          }
        }
      }
    },
    {
      "cell_type": "code",
      "execution_count": 2,
      "source": [
        "\r\n",
        "\r\n",
        "#Set up Test Variables:\r\n",
        "\r\n",
        "#Change test batch size\r\n",
        "num_batches=100\r\n",
        "\r\n",
        "transform_test = transforms.Compose([\r\n",
        "        transforms.ToTensor(),\r\n",
        "        transforms.Normalize((0.4914, 0.4822, 0.4465), (0.2023, 0.1994, 0.2010)),\r\n",
        "    ])\r\n",
        "\r\n",
        "testset = torchvision.datasets.CIFAR10(\r\n",
        "        root='./data', train=False, download=True, transform=transform_test)\r\n",
        "\r\n",
        "test_batch_size=int(numpy.shape(testset.data)[0]/num_batches)\r\n",
        "#test_batch_size=100\r\n",
        "\r\n",
        "testloader = torch.utils.data.DataLoader(\r\n",
        "    testset, batch_size=test_batch_size, shuffle=False, num_workers=2)\r\n",
        "\r\n",
        "test_features, test_labels = next(iter(testloader))\r\n",
        "#Get num channels, width and height of input data\r\n",
        "c,w,h=list(test_features[0].size())\r\n",
        "#Batchsize, see load18.py or main.py for batch size\r\n",
        "num_batches=int(numpy.shape(testset.data)[0]/test_batch_size)\r\n",
        "\r\n",
        "#Check GPU avilability\r\n",
        "torch.cuda.is_available()\r\n",
        "\r\n",
        "from many_inj import progressive_inj_zero"
      ],
      "outputs": [
        {
          "output_type": "stream",
          "name": "stdout",
          "text": [
            "Files already downloaded and verified\n"
          ]
        },
        {
          "output_type": "execute_result",
          "data": {
            "text/plain": [
              "True"
            ]
          },
          "metadata": {},
          "execution_count": 2
        }
      ],
      "metadata": {
        "collapsed": true,
        "jupyter": {
          "source_hidden": false,
          "outputs_hidden": false
        },
        "nteract": {
          "transient": {
            "deleting": false
          }
        }
      }
    },
    {
      "cell_type": "code",
      "execution_count": 3,
      "source": [
        "from many_inj import progressive_inj_zero"
      ],
      "outputs": [],
      "metadata": {}
    },
    {
      "cell_type": "code",
      "execution_count": 40,
      "source": [
        "model = load.load('bs_1024_sch_cosine/bs_1024_sch_cosine_best_acc')\r\n",
        "\r\n",
        "pfi_model = pfi_core(model.eval(), h, w, test_batch_size, c=c,debug=True,use_cuda=torch.cuda.is_available())\r\n",
        "\r\n",
        "res= progressive_inj_zero(pfi_model,10,5,step=100)\r\n",
        "\r\n",
        "# log.save(res,\"\")"
      ],
      "outputs": [
        {
          "output_type": "stream",
          "name": "stdout",
          "text": [
            "0\n",
            "N injections:  0\n",
            "N injections:  0\n",
            "N injections:  0\n",
            "N injections:  0\n",
            "N injections:  0\n",
            "0.7622\n",
            "1\n",
            "N injections:  100\n",
            " Injection:  99N injections:  100\n",
            " Injection:  99N injections:  100\n",
            " Injection:  99N injections:  100\n",
            " Injection:  99N injections:  100\n",
            " Injection:  990.76196\n",
            "2\n",
            "N injections:  200\n",
            " Injection:  199N injections:  200\n",
            " Injection:  199N injections:  200\n",
            " Injection:  199N injections:  200\n",
            " Injection:  199N injections:  200\n",
            " Injection:  1990.76152\n",
            "3\n",
            "N injections:  300\n",
            " Injection:  299N injections:  300\n",
            " Injection:  299N injections:  300\n",
            " Injection:  299N injections:  300\n",
            " Injection:  299N injections:  300\n",
            " Injection:  2990.7603\n",
            "4\n",
            "N injections:  400\n",
            " Injection:  399N injections:  400\n",
            " Injection:  399N injections:  400\n",
            " Injection:  399N injections:  400\n",
            " Injection:  399N injections:  400\n",
            " Injection:  3990.7614799999999999\n",
            "5\n",
            "N injections:  500\n",
            " Injection:  499N injections:  500\n",
            " Injection:  499N injections:  500\n",
            " Injection:  499N injections:  500\n",
            " Injection:  499N injections:  500\n",
            " Injection:  4990.76202\n",
            "6\n",
            "N injections:  600\n",
            " Injection:  599N injections:  600\n",
            " Injection:  599N injections:  600\n",
            " Injection:  599N injections:  600\n",
            " Injection:  599N injections:  600\n",
            " Injection:  5990.7609400000000001\n",
            "7\n",
            "N injections:  700\n",
            " Injection:  699N injections:  700\n",
            " Injection:  699N injections:  700\n",
            " Injection:  699N injections:  700\n",
            " Injection:  699N injections:  700\n",
            " Injection:  6990.7626000000000001\n",
            "8\n",
            "N injections:  800\n",
            " Injection:  799N injections:  800\n",
            " Injection:  799N injections:  800\n",
            " Injection:  799N injections:  800\n",
            " Injection:  799N injections:  800\n",
            " Injection:  7990.76\n",
            "9\n",
            "N injections:  900\n",
            " Injection:  899N injections:  900\n",
            " Injection:  899N injections:  900\n",
            " Injection:  899N injections:  900\n",
            " Injection:  899N injections:  900\n",
            " Injection:  8990.75974\n"
          ]
        }
      ],
      "metadata": {}
    },
    {
      "cell_type": "code",
      "execution_count": 41,
      "source": [
        "res"
      ],
      "outputs": [
        {
          "output_type": "execute_result",
          "data": {
            "text/plain": [
              "[0.7622,\n",
              " 0.76196,\n",
              " 0.76152,\n",
              " 0.7603,\n",
              " 0.7614799999999999,\n",
              " 0.76202,\n",
              " 0.7609400000000001,\n",
              " 0.7626000000000001,\n",
              " 0.76,\n",
              " 0.75974]"
            ]
          },
          "metadata": {},
          "execution_count": 41
        }
      ],
      "metadata": {}
    },
    {
      "cell_type": "code",
      "execution_count": 44,
      "source": [
        "\r\n",
        "\r\n",
        "model = load.load('bs_64_sch_cosine_wd_5e-4/bs_64_sch_cosine_wd_5e-4_epoch_300')\r\n",
        "\r\n",
        "pfi_model = pfi_core(model.eval(), h, w, test_batch_size, c=c,debug=True,use_cuda=torch.cuda.is_available())\r\n",
        "\r\n",
        "\r\n",
        "\r\n",
        "res= progressive_inj_zero(pfi_model,20,5,step=100)"
      ],
      "outputs": [
        {
          "output_type": "stream",
          "name": "stdout",
          "text": [
            "0\n",
            "N injections:  0\n",
            "N injections:  0\n",
            "N injections:  0\n",
            "N injections:  0\n",
            "N injections:  0\n",
            "0.673\n",
            "1\n",
            "N injections:  100\n",
            " Injection:  99N injections:  100\n",
            " Injection:  99N injections:  100\n",
            " Injection:  99N injections:  100\n",
            " Injection:  99N injections:  100\n",
            " Injection:  990.6724\n",
            "2\n",
            "N injections:  200\n",
            " Injection:  199N injections:  200\n",
            " Injection:  199N injections:  200\n",
            " Injection:  199N injections:  200\n",
            " Injection:  199N injections:  200\n",
            " Injection:  1990.6719\n",
            "3\n",
            "N injections:  300\n",
            " Injection:  299N injections:  300\n",
            " Injection:  299N injections:  300\n",
            " Injection:  299N injections:  300\n",
            " Injection:  299N injections:  300\n",
            " Injection:  2990.67288\n",
            "4\n",
            "N injections:  400\n",
            " Injection:  399N injections:  400\n",
            " Injection:  399N injections:  400\n",
            " Injection:  399N injections:  400\n",
            " Injection:  399N injections:  400\n",
            " Injection:  3990.67274\n",
            "5\n",
            "N injections:  500\n",
            " Injection:  499N injections:  500\n",
            " Injection:  499N injections:  500\n",
            " Injection:  499N injections:  500\n",
            " Injection:  499N injections:  500\n",
            " Injection:  4990.6739599999999999\n",
            "6\n",
            "N injections:  600\n",
            " Injection:  599N injections:  600\n",
            " Injection:  599N injections:  600\n",
            " Injection:  599N injections:  600\n",
            " Injection:  599N injections:  600\n",
            " Injection:  5990.6731\n",
            "7\n",
            "N injections:  700\n",
            " Injection:  699N injections:  700\n",
            " Injection:  699N injections:  700\n",
            " Injection:  699N injections:  700\n",
            " Injection:  699N injections:  700\n",
            " Injection:  6990.67438\n",
            "8\n",
            "N injections:  800\n",
            " Injection:  799N injections:  800\n",
            " Injection:  799N injections:  800\n",
            " Injection:  799N injections:  800\n",
            " Injection:  799N injections:  800\n",
            " Injection:  7990.6717\n",
            "9\n",
            "N injections:  900\n",
            " Injection:  899N injections:  900\n",
            " Injection:  899N injections:  900\n",
            " Injection:  899N injections:  900\n",
            " Injection:  899N injections:  900\n",
            " Injection:  8990.6692799999999999\n",
            "10\n",
            "N injections:  1000\n",
            " Injection:  999N injections:  1000\n",
            " Injection:  999N injections:  1000\n",
            " Injection:  999N injections:  1000\n",
            " Injection:  999N injections:  1000\n",
            " Injection:  9990.6714399999999999\n",
            "11\n",
            "N injections:  1100\n",
            " Injection:  1099N injections:  1100\n",
            " Injection:  1099N injections:  1100\n",
            " Injection:  1099N injections:  1100\n",
            " Injection:  1099N injections:  1100\n",
            " Injection:  10990.6730600000000001\n",
            "12\n",
            "N injections:  1200\n",
            " Injection:  1199N injections:  1200\n",
            " Injection:  1199N injections:  1200\n",
            " Injection:  1199N injections:  1200\n",
            " Injection:  1199N injections:  1200\n",
            " Injection:  11990.6739599999999999\n",
            "13\n",
            "N injections:  1300\n",
            " Injection:  1299N injections:  1300\n",
            " Injection:  1299N injections:  1300\n",
            " Injection:  1299N injections:  1300\n",
            " Injection:  1299N injections:  1300\n",
            " Injection:  12990.6694199999999999\n",
            "14\n",
            "N injections:  1400\n",
            " Injection:  1399N injections:  1400\n",
            " Injection:  1399N injections:  1400\n",
            " Injection:  1399N injections:  1400\n",
            " Injection:  1399N injections:  1400\n",
            " Injection:  13990.6662\n",
            "15\n",
            "N injections:  1500\n",
            " Injection:  1499N injections:  1500\n",
            " Injection:  1499N injections:  1500\n",
            " Injection:  1499N injections:  1500\n",
            " Injection:  1499N injections:  1500\n",
            " Injection:  14990.67006\n",
            "16\n",
            "N injections:  1600\n",
            " Injection:  1599N injections:  1600\n",
            " Injection:  1599N injections:  1600\n",
            " Injection:  1599N injections:  1600\n",
            " Injection:  1599N injections:  1600\n",
            " Injection:  15990.67282\n",
            "17\n",
            "N injections:  1700\n",
            " Injection:  1699N injections:  1700\n",
            " Injection:  1699N injections:  1700\n",
            " Injection:  1699N injections:  1700\n",
            " Injection:  1699N injections:  1700\n",
            " Injection:  16990.6721\n",
            "18\n",
            "N injections:  1800\n",
            " Injection:  1799N injections:  1800\n",
            " Injection:  1799N injections:  1800\n",
            " Injection:  1799N injections:  1800\n",
            " Injection:  1799N injections:  1800\n",
            " Injection:  17990.67514\n",
            "19\n",
            "N injections:  1900\n",
            " Injection:  1899N injections:  1900\n",
            " Injection:  1899N injections:  1900\n",
            " Injection:  1899N injections:  1900\n",
            " Injection:  1899N injections:  1900\n",
            " Injection:  18990.6732799999999999\n"
          ]
        }
      ],
      "metadata": {}
    },
    {
      "cell_type": "code",
      "execution_count": 49,
      "source": [
        "name= \"bs_64_sch_cosine\" + \"_prog_inj_zero\" + \"_2k_step_100\"\r\n",
        "log.save(res,name)"
      ],
      "outputs": [],
      "metadata": {}
    },
    {
      "cell_type": "code",
      "execution_count": 47,
      "source": [
        "plt.plot(res)"
      ],
      "outputs": [
        {
          "output_type": "execute_result",
          "data": {
            "text/plain": [
              "[<matplotlib.lines.Line2D at 0x2c68c681130>]"
            ]
          },
          "metadata": {},
          "execution_count": 47
        },
        {
          "output_type": "display_data",
          "data": {
            "image/png": "[encoded data removed]",
            "image/svg+xml": "<?xml version=\"1.0\" encoding=\"utf-8\" standalone=\"no\"?>\r\n<!DOCTYPE svg PUBLIC \"-//W3C//DTD SVG 1.1//EN\"\r\n  \"http://www.w3.org/Graphics/SVG/1.1/DTD/svg11.dtd\">\r\n<svg height=\"248.518125pt\" version=\"1.1\" viewBox=\"0 0 384.828125 248.518125\" width=\"384.828125pt\" xmlns=\"http://www.w3.org/2000/svg\" xmlns:xlink=\"http://www.w3.org/1999/xlink\">\r\n <metadata>\r\n  <rdf:RDF xmlns:cc=\"http://creativecommons.org/ns#\" xmlns:dc=\"http://purl.org/dc/elements/1.1/\" xmlns:rdf=\"http://www.w3.org/1999/02/22-rdf-syntax-ns#\">\r\n   <cc:Work>\r\n    <dc:type rdf:resource=\"http://purl.org/dc/dcmitype/StillImage\"/>\r\n    <dc:date>2021-08-21T22:28:26.274540</dc:date>\r\n    <dc:format>image/svg+xml</dc:format>\r\n    <dc:creator>\r\n     <cc:Agent>\r\n      <dc:title>Matplotlib v3.4.3, https://matplotlib.org/</dc:title>\r\n     </cc:Agent>\r\n    </dc:creator>\r\n   </cc:Work>\r\n  </rdf:RDF>\r\n </metadata>\r\n <defs>\r\n  <style type=\"text/css\">*{stroke-linecap:butt;stroke-linejoin:round;}</style>\r\n </defs>\r\n <g id=\"figure_1\">\r\n  <g id=\"patch_1\">\r\n   <path d=\"M 0 248.518125 \r\nL 384.828125 248.518125 \r\nL 384.828125 0 \r\nL 0 0 \r\nz\r\n\"/>\r\n  </g>\r\n  <g id=\"axes_1\">\r\n   <g id=\"patch_2\">\r\n    <path d=\"M 42.828125 224.64 \r\nL 377.628125 224.64 \r\nL 377.628125 7.2 \r\nL 42.828125 7.2 \r\nz\r\n\"/>\r\n   </g>\r\n   <g id=\"matplotlib.axis_1\">\r\n    <g id=\"xtick_1\">\r\n     <g id=\"line2d_1\">\r\n      <defs>\r\n       <path d=\"M 0 0 \r\nL 0 3.5 \r\n\" id=\"m7d814576f1\" style=\"stroke:#ffffff;stroke-width:0.8;\"/>\r\n      </defs>\r\n      <g>\r\n       <use style=\"fill:#ffffff;stroke:#ffffff;stroke-width:0.8;\" x=\"58.046307\" xlink:href=\"#m7d814576f1\" y=\"224.64\"/>\r\n      </g>\r\n     </g>\r\n     <g id=\"text_1\">\r\n      <!-- 0.0 -->\r\n      <g style=\"fill:#ffffff;\" transform=\"translate(50.094744 239.238438)scale(0.1 -0.1)\">\r\n       <defs>\r\n        <path d=\"M 2034 4250 \r\nQ 1547 4250 1301 3770 \r\nQ 1056 3291 1056 2328 \r\nQ 1056 1369 1301 889 \r\nQ 1547 409 2034 409 \r\nQ 2525 409 2770 889 \r\nQ 3016 1369 3016 2328 \r\nQ 3016 3291 2770 3770 \r\nQ 2525 4250 2034 4250 \r\nz\r\nM 2034 4750 \r\nQ 2819 4750 3233 4129 \r\nQ 3647 3509 3647 2328 \r\nQ 3647 1150 3233 529 \r\nQ 2819 -91 2034 -91 \r\nQ 1250 -91 836 529 \r\nQ 422 1150 422 2328 \r\nQ 422 3509 836 4129 \r\nQ 1250 4750 2034 4750 \r\nz\r\n\" id=\"DejaVuSans-30\" transform=\"scale(0.015625)\"/>\r\n        <path d=\"M 684 794 \r\nL 1344 794 \r\nL 1344 0 \r\nL 684 0 \r\nL 684 794 \r\nz\r\n\" id=\"DejaVuSans-2e\" transform=\"scale(0.015625)\"/>\r\n       </defs>\r\n       <use xlink:href=\"#DejaVuSans-30\"/>\r\n       <use x=\"63.623047\" xlink:href=\"#DejaVuSans-2e\"/>\r\n       <use x=\"95.410156\" xlink:href=\"#DejaVuSans-30\"/>\r\n      </g>\r\n     </g>\r\n    </g>\r\n    <g id=\"xtick_2\">\r\n     <g id=\"line2d_2\">\r\n      <g>\r\n       <use style=\"fill:#ffffff;stroke:#ffffff;stroke-width:0.8;\" x=\"98.094154\" xlink:href=\"#m7d814576f1\" y=\"224.64\"/>\r\n      </g>\r\n     </g>\r\n     <g id=\"text_2\">\r\n      <!-- 2.5 -->\r\n      <g style=\"fill:#ffffff;\" transform=\"translate(90.142591 239.238438)scale(0.1 -0.1)\">\r\n       <defs>\r\n        <path d=\"M 1228 531 \r\nL 3431 531 \r\nL 3431 0 \r\nL 469 0 \r\nL 469 531 \r\nQ 828 903 1448 1529 \r\nQ 2069 2156 2228 2338 \r\nQ 2531 2678 2651 2914 \r\nQ 2772 3150 2772 3378 \r\nQ 2772 3750 2511 3984 \r\nQ 2250 4219 1831 4219 \r\nQ 1534 4219 1204 4116 \r\nQ 875 4013 500 3803 \r\nL 500 4441 \r\nQ 881 4594 1212 4672 \r\nQ 1544 4750 1819 4750 \r\nQ 2544 4750 2975 4387 \r\nQ 3406 4025 3406 3419 \r\nQ 3406 3131 3298 2873 \r\nQ 3191 2616 2906 2266 \r\nQ 2828 2175 2409 1742 \r\nQ 1991 1309 1228 531 \r\nz\r\n\" id=\"DejaVuSans-32\" transform=\"scale(0.015625)\"/>\r\n        <path d=\"M 691 4666 \r\nL 3169 4666 \r\nL 3169 4134 \r\nL 1269 4134 \r\nL 1269 2991 \r\nQ 1406 3038 1543 3061 \r\nQ 1681 3084 1819 3084 \r\nQ 2600 3084 3056 2656 \r\nQ 3513 2228 3513 1497 \r\nQ 3513 744 3044 326 \r\nQ 2575 -91 1722 -91 \r\nQ 1428 -91 1123 -41 \r\nQ 819 9 494 109 \r\nL 494 744 \r\nQ 775 591 1075 516 \r\nQ 1375 441 1709 441 \r\nQ 2250 441 2565 725 \r\nQ 2881 1009 2881 1497 \r\nQ 2881 1984 2565 2268 \r\nQ 2250 2553 1709 2553 \r\nQ 1456 2553 1204 2497 \r\nQ 953 2441 691 2322 \r\nL 691 4666 \r\nz\r\n\" id=\"DejaVuSans-35\" transform=\"scale(0.015625)\"/>\r\n       </defs>\r\n       <use xlink:href=\"#DejaVuSans-32\"/>\r\n       <use x=\"63.623047\" xlink:href=\"#DejaVuSans-2e\"/>\r\n       <use x=\"95.410156\" xlink:href=\"#DejaVuSans-35\"/>\r\n      </g>\r\n     </g>\r\n    </g>\r\n    <g id=\"xtick_3\">\r\n     <g id=\"line2d_3\">\r\n      <g>\r\n       <use style=\"fill:#ffffff;stroke:#ffffff;stroke-width:0.8;\" x=\"138.142001\" xlink:href=\"#m7d814576f1\" y=\"224.64\"/>\r\n      </g>\r\n     </g>\r\n     <g id=\"text_3\">\r\n      <!-- 5.0 -->\r\n      <g style=\"fill:#ffffff;\" transform=\"translate(130.190438 239.238438)scale(0.1 -0.1)\">\r\n       <use xlink:href=\"#DejaVuSans-35\"/>\r\n       <use x=\"63.623047\" xlink:href=\"#DejaVuSans-2e\"/>\r\n       <use x=\"95.410156\" xlink:href=\"#DejaVuSans-30\"/>\r\n      </g>\r\n     </g>\r\n    </g>\r\n    <g id=\"xtick_4\">\r\n     <g id=\"line2d_4\">\r\n      <g>\r\n       <use style=\"fill:#ffffff;stroke:#ffffff;stroke-width:0.8;\" x=\"178.189847\" xlink:href=\"#m7d814576f1\" y=\"224.64\"/>\r\n      </g>\r\n     </g>\r\n     <g id=\"text_4\">\r\n      <!-- 7.5 -->\r\n      <g style=\"fill:#ffffff;\" transform=\"translate(170.238285 239.238438)scale(0.1 -0.1)\">\r\n       <defs>\r\n        <path d=\"M 525 4666 \r\nL 3525 4666 \r\nL 3525 4397 \r\nL 1831 0 \r\nL 1172 0 \r\nL 2766 4134 \r\nL 525 4134 \r\nL 525 4666 \r\nz\r\n\" id=\"DejaVuSans-37\" transform=\"scale(0.015625)\"/>\r\n       </defs>\r\n       <use xlink:href=\"#DejaVuSans-37\"/>\r\n       <use x=\"63.623047\" xlink:href=\"#DejaVuSans-2e\"/>\r\n       <use x=\"95.410156\" xlink:href=\"#DejaVuSans-35\"/>\r\n      </g>\r\n     </g>\r\n    </g>\r\n    <g id=\"xtick_5\">\r\n     <g id=\"line2d_5\">\r\n      <g>\r\n       <use style=\"fill:#ffffff;stroke:#ffffff;stroke-width:0.8;\" x=\"218.237694\" xlink:href=\"#m7d814576f1\" y=\"224.64\"/>\r\n      </g>\r\n     </g>\r\n     <g id=\"text_5\">\r\n      <!-- 10.0 -->\r\n      <g style=\"fill:#ffffff;\" transform=\"translate(207.104882 239.238438)scale(0.1 -0.1)\">\r\n       <defs>\r\n        <path d=\"M 794 531 \r\nL 1825 531 \r\nL 1825 4091 \r\nL 703 3866 \r\nL 703 4441 \r\nL 1819 4666 \r\nL 2450 4666 \r\nL 2450 531 \r\nL 3481 531 \r\nL 3481 0 \r\nL 794 0 \r\nL 794 531 \r\nz\r\n\" id=\"DejaVuSans-31\" transform=\"scale(0.015625)\"/>\r\n       </defs>\r\n       <use xlink:href=\"#DejaVuSans-31\"/>\r\n       <use x=\"63.623047\" xlink:href=\"#DejaVuSans-30\"/>\r\n       <use x=\"127.246094\" xlink:href=\"#DejaVuSans-2e\"/>\r\n       <use x=\"159.033203\" xlink:href=\"#DejaVuSans-30\"/>\r\n      </g>\r\n     </g>\r\n    </g>\r\n    <g id=\"xtick_6\">\r\n     <g id=\"line2d_6\">\r\n      <g>\r\n       <use style=\"fill:#ffffff;stroke:#ffffff;stroke-width:0.8;\" x=\"258.285541\" xlink:href=\"#m7d814576f1\" y=\"224.64\"/>\r\n      </g>\r\n     </g>\r\n     <g id=\"text_6\">\r\n      <!-- 12.5 -->\r\n      <g style=\"fill:#ffffff;\" transform=\"translate(247.152729 239.238438)scale(0.1 -0.1)\">\r\n       <use xlink:href=\"#DejaVuSans-31\"/>\r\n       <use x=\"63.623047\" xlink:href=\"#DejaVuSans-32\"/>\r\n       <use x=\"127.246094\" xlink:href=\"#DejaVuSans-2e\"/>\r\n       <use x=\"159.033203\" xlink:href=\"#DejaVuSans-35\"/>\r\n      </g>\r\n     </g>\r\n    </g>\r\n    <g id=\"xtick_7\">\r\n     <g id=\"line2d_7\">\r\n      <g>\r\n       <use style=\"fill:#ffffff;stroke:#ffffff;stroke-width:0.8;\" x=\"298.333388\" xlink:href=\"#m7d814576f1\" y=\"224.64\"/>\r\n      </g>\r\n     </g>\r\n     <g id=\"text_7\">\r\n      <!-- 15.0 -->\r\n      <g style=\"fill:#ffffff;\" transform=\"translate(287.200576 239.238438)scale(0.1 -0.1)\">\r\n       <use xlink:href=\"#DejaVuSans-31\"/>\r\n       <use x=\"63.623047\" xlink:href=\"#DejaVuSans-35\"/>\r\n       <use x=\"127.246094\" xlink:href=\"#DejaVuSans-2e\"/>\r\n       <use x=\"159.033203\" xlink:href=\"#DejaVuSans-30\"/>\r\n      </g>\r\n     </g>\r\n    </g>\r\n    <g id=\"xtick_8\">\r\n     <g id=\"line2d_8\">\r\n      <g>\r\n       <use style=\"fill:#ffffff;stroke:#ffffff;stroke-width:0.8;\" x=\"338.381235\" xlink:href=\"#m7d814576f1\" y=\"224.64\"/>\r\n      </g>\r\n     </g>\r\n     <g id=\"text_8\">\r\n      <!-- 17.5 -->\r\n      <g style=\"fill:#ffffff;\" transform=\"translate(327.248423 239.238438)scale(0.1 -0.1)\">\r\n       <use xlink:href=\"#DejaVuSans-31\"/>\r\n       <use x=\"63.623047\" xlink:href=\"#DejaVuSans-37\"/>\r\n       <use x=\"127.246094\" xlink:href=\"#DejaVuSans-2e\"/>\r\n       <use x=\"159.033203\" xlink:href=\"#DejaVuSans-35\"/>\r\n      </g>\r\n     </g>\r\n    </g>\r\n   </g>\r\n   <g id=\"matplotlib.axis_2\">\r\n    <g id=\"ytick_1\">\r\n     <g id=\"line2d_9\">\r\n      <defs>\r\n       <path d=\"M 0 0 \r\nL -3.5 0 \r\n\" id=\"md6cdf0454b\" style=\"stroke:#ffffff;stroke-width:0.8;\"/>\r\n      </defs>\r\n      <g>\r\n       <use style=\"fill:#ffffff;stroke:#ffffff;stroke-width:0.8;\" x=\"42.828125\" xlink:href=\"#md6cdf0454b\" y=\"219.178572\"/>\r\n      </g>\r\n     </g>\r\n     <g id=\"text_9\">\r\n      <!-- 0.666 -->\r\n      <g style=\"fill:#ffffff;\" transform=\"translate(7.2 222.977791)scale(0.1 -0.1)\">\r\n       <defs>\r\n        <path d=\"M 2113 2584 \r\nQ 1688 2584 1439 2293 \r\nQ 1191 2003 1191 1497 \r\nQ 1191 994 1439 701 \r\nQ 1688 409 2113 409 \r\nQ 2538 409 2786 701 \r\nQ 3034 994 3034 1497 \r\nQ 3034 2003 2786 2293 \r\nQ 2538 2584 2113 2584 \r\nz\r\nM 3366 4563 \r\nL 3366 3988 \r\nQ 3128 4100 2886 4159 \r\nQ 2644 4219 2406 4219 \r\nQ 1781 4219 1451 3797 \r\nQ 1122 3375 1075 2522 \r\nQ 1259 2794 1537 2939 \r\nQ 1816 3084 2150 3084 \r\nQ 2853 3084 3261 2657 \r\nQ 3669 2231 3669 1497 \r\nQ 3669 778 3244 343 \r\nQ 2819 -91 2113 -91 \r\nQ 1303 -91 875 529 \r\nQ 447 1150 447 2328 \r\nQ 447 3434 972 4092 \r\nQ 1497 4750 2381 4750 \r\nQ 2619 4750 2861 4703 \r\nQ 3103 4656 3366 4563 \r\nz\r\n\" id=\"DejaVuSans-36\" transform=\"scale(0.015625)\"/>\r\n       </defs>\r\n       <use xlink:href=\"#DejaVuSans-30\"/>\r\n       <use x=\"63.623047\" xlink:href=\"#DejaVuSans-2e\"/>\r\n       <use x=\"95.410156\" xlink:href=\"#DejaVuSans-36\"/>\r\n       <use x=\"159.033203\" xlink:href=\"#DejaVuSans-36\"/>\r\n       <use x=\"222.65625\" xlink:href=\"#DejaVuSans-36\"/>\r\n      </g>\r\n     </g>\r\n    </g>\r\n    <g id=\"ytick_2\">\r\n     <g id=\"line2d_10\">\r\n      <g>\r\n       <use style=\"fill:#ffffff;stroke:#ffffff;stroke-width:0.8;\" x=\"42.828125\" xlink:href=\"#md6cdf0454b\" y=\"174.956486\"/>\r\n      </g>\r\n     </g>\r\n     <g id=\"text_10\">\r\n      <!-- 0.668 -->\r\n      <g style=\"fill:#ffffff;\" transform=\"translate(7.2 178.755704)scale(0.1 -0.1)\">\r\n       <defs>\r\n        <path d=\"M 2034 2216 \r\nQ 1584 2216 1326 1975 \r\nQ 1069 1734 1069 1313 \r\nQ 1069 891 1326 650 \r\nQ 1584 409 2034 409 \r\nQ 2484 409 2743 651 \r\nQ 3003 894 3003 1313 \r\nQ 3003 1734 2745 1975 \r\nQ 2488 2216 2034 2216 \r\nz\r\nM 1403 2484 \r\nQ 997 2584 770 2862 \r\nQ 544 3141 544 3541 \r\nQ 544 4100 942 4425 \r\nQ 1341 4750 2034 4750 \r\nQ 2731 4750 3128 4425 \r\nQ 3525 4100 3525 3541 \r\nQ 3525 3141 3298 2862 \r\nQ 3072 2584 2669 2484 \r\nQ 3125 2378 3379 2068 \r\nQ 3634 1759 3634 1313 \r\nQ 3634 634 3220 271 \r\nQ 2806 -91 2034 -91 \r\nQ 1263 -91 848 271 \r\nQ 434 634 434 1313 \r\nQ 434 1759 690 2068 \r\nQ 947 2378 1403 2484 \r\nz\r\nM 1172 3481 \r\nQ 1172 3119 1398 2916 \r\nQ 1625 2713 2034 2713 \r\nQ 2441 2713 2670 2916 \r\nQ 2900 3119 2900 3481 \r\nQ 2900 3844 2670 4047 \r\nQ 2441 4250 2034 4250 \r\nQ 1625 4250 1398 4047 \r\nQ 1172 3844 1172 3481 \r\nz\r\n\" id=\"DejaVuSans-38\" transform=\"scale(0.015625)\"/>\r\n       </defs>\r\n       <use xlink:href=\"#DejaVuSans-30\"/>\r\n       <use x=\"63.623047\" xlink:href=\"#DejaVuSans-2e\"/>\r\n       <use x=\"95.410156\" xlink:href=\"#DejaVuSans-36\"/>\r\n       <use x=\"159.033203\" xlink:href=\"#DejaVuSans-36\"/>\r\n       <use x=\"222.65625\" xlink:href=\"#DejaVuSans-38\"/>\r\n      </g>\r\n     </g>\r\n    </g>\r\n    <g id=\"ytick_3\">\r\n     <g id=\"line2d_11\">\r\n      <g>\r\n       <use style=\"fill:#ffffff;stroke:#ffffff;stroke-width:0.8;\" x=\"42.828125\" xlink:href=\"#md6cdf0454b\" y=\"130.734399\"/>\r\n      </g>\r\n     </g>\r\n     <g id=\"text_11\">\r\n      <!-- 0.670 -->\r\n      <g style=\"fill:#ffffff;\" transform=\"translate(7.2 134.533618)scale(0.1 -0.1)\">\r\n       <use xlink:href=\"#DejaVuSans-30\"/>\r\n       <use x=\"63.623047\" xlink:href=\"#DejaVuSans-2e\"/>\r\n       <use x=\"95.410156\" xlink:href=\"#DejaVuSans-36\"/>\r\n       <use x=\"159.033203\" xlink:href=\"#DejaVuSans-37\"/>\r\n       <use x=\"222.65625\" xlink:href=\"#DejaVuSans-30\"/>\r\n      </g>\r\n     </g>\r\n    </g>\r\n    <g id=\"ytick_4\">\r\n     <g id=\"line2d_12\">\r\n      <g>\r\n       <use style=\"fill:#ffffff;stroke:#ffffff;stroke-width:0.8;\" x=\"42.828125\" xlink:href=\"#md6cdf0454b\" y=\"86.512312\"/>\r\n      </g>\r\n     </g>\r\n     <g id=\"text_12\">\r\n      <!-- 0.672 -->\r\n      <g style=\"fill:#ffffff;\" transform=\"translate(7.2 90.311531)scale(0.1 -0.1)\">\r\n       <use xlink:href=\"#DejaVuSans-30\"/>\r\n       <use x=\"63.623047\" xlink:href=\"#DejaVuSans-2e\"/>\r\n       <use x=\"95.410156\" xlink:href=\"#DejaVuSans-36\"/>\r\n       <use x=\"159.033203\" xlink:href=\"#DejaVuSans-37\"/>\r\n       <use x=\"222.65625\" xlink:href=\"#DejaVuSans-32\"/>\r\n      </g>\r\n     </g>\r\n    </g>\r\n    <g id=\"ytick_5\">\r\n     <g id=\"line2d_13\">\r\n      <g>\r\n       <use style=\"fill:#ffffff;stroke:#ffffff;stroke-width:0.8;\" x=\"42.828125\" xlink:href=\"#md6cdf0454b\" y=\"42.290226\"/>\r\n      </g>\r\n     </g>\r\n     <g id=\"text_13\">\r\n      <!-- 0.674 -->\r\n      <g style=\"fill:#ffffff;\" transform=\"translate(7.2 46.089444)scale(0.1 -0.1)\">\r\n       <defs>\r\n        <path d=\"M 2419 4116 \r\nL 825 1625 \r\nL 2419 1625 \r\nL 2419 4116 \r\nz\r\nM 2253 4666 \r\nL 3047 4666 \r\nL 3047 1625 \r\nL 3713 1625 \r\nL 3713 1100 \r\nL 3047 1100 \r\nL 3047 0 \r\nL 2419 0 \r\nL 2419 1100 \r\nL 313 1100 \r\nL 313 1709 \r\nL 2253 4666 \r\nz\r\n\" id=\"DejaVuSans-34\" transform=\"scale(0.015625)\"/>\r\n       </defs>\r\n       <use xlink:href=\"#DejaVuSans-30\"/>\r\n       <use x=\"63.623047\" xlink:href=\"#DejaVuSans-2e\"/>\r\n       <use x=\"95.410156\" xlink:href=\"#DejaVuSans-36\"/>\r\n       <use x=\"159.033203\" xlink:href=\"#DejaVuSans-37\"/>\r\n       <use x=\"222.65625\" xlink:href=\"#DejaVuSans-34\"/>\r\n      </g>\r\n     </g>\r\n    </g>\r\n   </g>\r\n   <g id=\"line2d_14\">\r\n    <path clip-path=\"url(#p1b5bf4c791)\" d=\"M 58.046307 64.401269 \r\nL 74.065446 77.667895 \r\nL 90.084584 88.723417 \r\nL 106.103723 67.054594 \r\nL 122.122862 70.15014 \r\nL 138.142001 43.174667 \r\nL 154.161139 62.190165 \r\nL 170.180278 33.888029 \r\nL 186.199417 93.145625 \r\nL 202.218556 146.65435 \r\nL 218.237694 98.894497 \r\nL 234.256833 63.074606 \r\nL 250.275972 43.174667 \r\nL 266.295111 143.558804 \r\nL 282.314249 214.756364 \r\nL 298.333388 129.407736 \r\nL 314.352527 68.381257 \r\nL 330.371666 84.301208 \r\nL 346.390804 17.083636 \r\nL 362.409943 58.210177 \r\n\" style=\"fill:none;stroke:#8dd3c7;stroke-linecap:square;stroke-width:1.5;\"/>\r\n   </g>\r\n   <g id=\"patch_3\">\r\n    <path d=\"M 42.828125 224.64 \r\nL 42.828125 7.2 \r\n\" style=\"fill:none;stroke:#ffffff;stroke-linecap:square;stroke-linejoin:miter;stroke-width:0.8;\"/>\r\n   </g>\r\n   <g id=\"patch_4\">\r\n    <path d=\"M 377.628125 224.64 \r\nL 377.628125 7.2 \r\n\" style=\"fill:none;stroke:#ffffff;stroke-linecap:square;stroke-linejoin:miter;stroke-width:0.8;\"/>\r\n   </g>\r\n   <g id=\"patch_5\">\r\n    <path d=\"M 42.828125 224.64 \r\nL 377.628125 224.64 \r\n\" style=\"fill:none;stroke:#ffffff;stroke-linecap:square;stroke-linejoin:miter;stroke-width:0.8;\"/>\r\n   </g>\r\n   <g id=\"patch_6\">\r\n    <path d=\"M 42.828125 7.2 \r\nL 377.628125 7.2 \r\n\" style=\"fill:none;stroke:#ffffff;stroke-linecap:square;stroke-linejoin:miter;stroke-width:0.8;\"/>\r\n   </g>\r\n  </g>\r\n </g>\r\n <defs>\r\n  <clipPath id=\"p1b5bf4c791\">\r\n   <rect height=\"217.44\" width=\"334.8\" x=\"42.828125\" y=\"7.2\"/>\r\n  </clipPath>\r\n </defs>\r\n</svg>\r\n",
            "text/plain": [
              "<Figure size 432x288 with 1 Axes>"
            ]
          },
          "metadata": {}
        }
      ],
      "metadata": {}
    },
    {
      "cell_type": "code",
      "execution_count": 50,
      "source": [
        "model = load.load('bs_64_sch_cosine_wd_5e-4/bs_64_sch_cosine_wd_5e-4_epoch_300')\r\n",
        "\r\n",
        "pfi_model = pfi_core(model.eval(), h, w, test_batch_size, c=c,debug=True,use_cuda=torch.cuda.is_available())\r\n",
        "\r\n",
        "\r\n",
        "\r\n",
        "res= progressive_inj_zero(pfi_model,30,5,step=100)"
      ],
      "outputs": [
        {
          "output_type": "stream",
          "name": "stdout",
          "text": [
            "0\n",
            "N injections:  0\n",
            "N injections:  0\n",
            "N injections:  0\n",
            "N injections:  0\n",
            "N injections:  0\n",
            "0.673\n",
            "1\n",
            "N injections:  100\n",
            " Injection:  99N injections:  100\n",
            " Injection:  99N injections:  100\n",
            " Injection:  99N injections:  100\n",
            " Injection:  99N injections:  100\n",
            " Injection:  990.6717000000000001\n",
            "2\n",
            "N injections:  200\n",
            " Injection:  199N injections:  200\n",
            " Injection:  199N injections:  200\n",
            " Injection:  199N injections:  200\n",
            " Injection:  199N injections:  200\n",
            " Injection:  1990.6734600000000001\n",
            "3\n",
            "N injections:  300\n",
            " Injection:  299N injections:  300\n",
            " Injection:  299N injections:  300\n",
            " Injection:  299N injections:  300\n",
            " Injection:  299N injections:  300\n",
            " Injection:  2990.67326\n",
            "4\n",
            "N injections:  400\n",
            " Injection:  399N injections:  400\n",
            " Injection:  399N injections:  400\n",
            " Injection:  399N injections:  400\n",
            " Injection:  399N injections:  400\n",
            " Injection:  3990.67242\n",
            "5\n",
            "N injections:  500\n",
            " Injection:  499N injections:  500\n",
            " Injection:  499N injections:  500\n",
            " Injection:  499N injections:  500\n",
            " Injection:  499N injections:  500\n",
            " Injection:  4990.67204\n",
            "6\n",
            "N injections:  600\n",
            " Injection:  599N injections:  600\n",
            " Injection:  599"
          ]
        }
      ],
      "metadata": {}
    },
    {
      "cell_type": "code",
      "execution_count": null,
      "source": [
        "name= \"bs_64_sch_cosine\" + \"_prog_inj_zero\" + \"_3k_step_100\"\r\n",
        "log.save(res,name)"
      ],
      "outputs": [],
      "metadata": {}
    },
    {
      "cell_type": "code",
      "execution_count": 10,
      "source": [
        "model = load.load('bs_1024_sch_cosine/bs_1024_sch_cosine_best_acc')\r\n",
        "\r\n",
        "pfi_model = pfi_core(model.eval(), h, w, test_batch_size, c=c,debug=True,use_cuda=torch.cuda.is_available())\r\n",
        "\r\n",
        "res= progressive_inj_zero(pfi_model,30,5,step=100)\r\n",
        "\r\n",
        "name= \"bs_1024_sch_cosine\" + \"_prog_inj_zero\" + \"_3k_step_100\"\r\n",
        "log.save(res,name)"
      ],
      "outputs": [
        {
          "output_type": "error",
          "ename": "TypeError",
          "evalue": "progressive_inj_zero() got multiple values for argument 'step'",
          "traceback": [
            "\u001b[1;31m---------------------------------------------------------------------------\u001b[0m",
            "\u001b[1;31mTypeError\u001b[0m                                 Traceback (most recent call last)",
            "\u001b[1;32m~\\AppData\\Local\\Temp/ipykernel_10660/2607452550.py\u001b[0m in \u001b[0;36m<module>\u001b[1;34m\u001b[0m\n\u001b[0;32m      3\u001b[0m \u001b[0mpfi_model\u001b[0m \u001b[1;33m=\u001b[0m \u001b[0mpfi_core\u001b[0m\u001b[1;33m(\u001b[0m\u001b[0mmodel\u001b[0m\u001b[1;33m.\u001b[0m\u001b[0meval\u001b[0m\u001b[1;33m(\u001b[0m\u001b[1;33m)\u001b[0m\u001b[1;33m,\u001b[0m \u001b[0mh\u001b[0m\u001b[1;33m,\u001b[0m \u001b[0mw\u001b[0m\u001b[1;33m,\u001b[0m \u001b[0mtest_batch_size\u001b[0m\u001b[1;33m,\u001b[0m \u001b[0mc\u001b[0m\u001b[1;33m=\u001b[0m\u001b[0mc\u001b[0m\u001b[1;33m,\u001b[0m\u001b[0mdebug\u001b[0m\u001b[1;33m=\u001b[0m\u001b[1;32mTrue\u001b[0m\u001b[1;33m,\u001b[0m\u001b[0muse_cuda\u001b[0m\u001b[1;33m=\u001b[0m\u001b[0mtorch\u001b[0m\u001b[1;33m.\u001b[0m\u001b[0mcuda\u001b[0m\u001b[1;33m.\u001b[0m\u001b[0mis_available\u001b[0m\u001b[1;33m(\u001b[0m\u001b[1;33m)\u001b[0m\u001b[1;33m)\u001b[0m\u001b[1;33m\u001b[0m\u001b[1;33m\u001b[0m\u001b[0m\n\u001b[0;32m      4\u001b[0m \u001b[1;33m\u001b[0m\u001b[0m\n\u001b[1;32m----> 5\u001b[1;33m \u001b[0mres\u001b[0m\u001b[1;33m=\u001b[0m \u001b[0mprogressive_inj_zero\u001b[0m\u001b[1;33m(\u001b[0m\u001b[0mpfi_model\u001b[0m\u001b[1;33m,\u001b[0m\u001b[1;36m30\u001b[0m\u001b[1;33m,\u001b[0m\u001b[1;36m5\u001b[0m\u001b[1;33m,\u001b[0m\u001b[0mstep\u001b[0m\u001b[1;33m=\u001b[0m\u001b[1;36m100\u001b[0m\u001b[1;33m)\u001b[0m\u001b[1;33m\u001b[0m\u001b[1;33m\u001b[0m\u001b[0m\n\u001b[0m\u001b[0;32m      6\u001b[0m \u001b[1;33m\u001b[0m\u001b[0m\n\u001b[0;32m      7\u001b[0m \u001b[0mname\u001b[0m\u001b[1;33m=\u001b[0m \u001b[1;34m\"bs_1024_sch_cosine\"\u001b[0m \u001b[1;33m+\u001b[0m \u001b[1;34m\"_prog_inj_zero\"\u001b[0m \u001b[1;33m+\u001b[0m \u001b[1;34m\"_3k_step_100\"\u001b[0m\u001b[1;33m\u001b[0m\u001b[1;33m\u001b[0m\u001b[0m\n",
            "\u001b[1;31mTypeError\u001b[0m: progressive_inj_zero() got multiple values for argument 'step'"
          ]
        }
      ],
      "metadata": {}
    },
    {
      "cell_type": "code",
      "execution_count": 9,
      "source": [
        "model_name = \"bs_1024_sch_cosine\"\r\n",
        "model_exact_name = model_name + \"_best_acc\"\r\n",
        "\r\n",
        "model = load.load(model_name + '/' + model_exact_name)\r\n",
        "\r\n",
        "pfi_model = pfi_core(model.eval(), h, w, test_batch_size, c=c,debug=True,use_cuda=torch.cuda.is_available())\r\n",
        "\r\n",
        "avg,std= progressive_inj_zero(pfi_model,10000,1000,5)\r\n",
        "\r\n",
        "res = [avg,std]\r\n",
        "\r\n",
        "name= model_name + \"_prog_inj_zero\" + \"_10k_step_1k\"\r\n",
        "log.save(res,name)"
      ],
      "outputs": [
        {
          "output_type": "stream",
          "name": "stdout",
          "text": [
            "N injections:  0\n",
            "N injections:  0\n",
            "N injections:  0\n",
            "N injections:  0\n",
            "N injections:  0\n",
            "N injections:  1000\n",
            " Injection:  999N injections:  1000\n",
            " Injection:  999N injections:  1000\n",
            " Injection:  999N injections:  1000\n",
            " Injection:  999N injections:  1000\n",
            " Injection:  999N injections:  2000\n",
            " Injection:  1999N injections:  2000\n",
            " Injection:  1999N injections:  2000\n",
            " Injection:  1999N injections:  2000\n",
            " Injection:  1999N injections:  2000\n",
            " Injection:  1999N injections:  3000\n",
            " Injection:  2999N injections:  3000\n",
            " Injection:  2999N injections:  3000\n",
            " Injection:  2999N injections:  3000\n",
            " Injection:  2999N injections:  3000\n",
            " Injection:  2999N injections:  4000\n",
            " Injection:  3999N injections:  4000\n",
            " Injection:  3999N injections:  4000\n",
            " Injection:  3999N injections:  4000\n",
            " Injection:  3999N injections:  4000\n",
            " Injection:  3999N injections:  5000\n",
            " Injection:  4999N injections:  5000\n",
            " Injection:  4999N injections:  5000\n",
            " Injection:  4999N injections:  5000\n",
            " Injection:  4999N injections:  5000\n",
            " Injection:  4999N injections:  6000\n",
            " Injection:  5999N injections:  6000\n",
            " Injection:  5999N injections:  6000\n",
            " Injection:  5999N injections:  6000\n",
            " Injection:  5999N injections:  6000\n",
            " Injection:  5999N injections:  7000\n",
            " Injection:  6999N injections:  7000\n",
            " Injection:  6999N injections:  7000\n",
            " Injection:  6999N injections:  7000\n",
            " Injection:  6999N injections:  7000\n",
            " Injection:  6999N injections:  8000\n",
            " Injection:  7999N injections:  8000\n",
            " Injection:  7999N injections:  8000\n",
            " Injection:  7999N injections:  8000\n",
            " Injection:  7999N injections:  8000\n",
            " Injection:  7999N injections:  9000\n",
            " Injection:  8999N injections:  9000\n",
            " Injection:  8999N injections:  9000\n",
            " Injection:  8999N injections:  9000\n",
            " Injection:  8999N injections:  9000\n",
            " Injection:  8999"
          ]
        }
      ],
      "metadata": {}
    },
    {
      "cell_type": "code",
      "execution_count": 11,
      "source": [
        "res"
      ],
      "outputs": [
        {
          "output_type": "execute_result",
          "data": {
            "text/plain": [
              "[[0.7622,\n",
              "  0.75762,\n",
              "  0.7577200000000001,\n",
              "  0.75466,\n",
              "  0.75684,\n",
              "  0.74412,\n",
              "  0.7484999999999999,\n",
              "  0.75288,\n",
              "  0.7505400000000001,\n",
              "  0.73616],\n",
              " [0.0,\n",
              "  0.003547618919782666,\n",
              "  0.0010906878563548667,\n",
              "  0.0073904262393991995,\n",
              "  0.002210520300743678,\n",
              "  0.010030633080718285,\n",
              "  0.006793231925968669,\n",
              "  0.005885031860576462,\n",
              "  0.006256069053327347,\n",
              "  0.01114820164869654]]"
            ]
          },
          "metadata": {},
          "execution_count": 11
        }
      ],
      "metadata": {}
    },
    {
      "cell_type": "code",
      "execution_count": 22,
      "source": [
        "np.array(res[0]) - np.array(res[1])"
      ],
      "outputs": [
        {
          "output_type": "execute_result",
          "data": {
            "text/plain": [
              "array([0.7622    , 0.75407238, 0.75662931, 0.74726957, 0.75462948,\n",
              "       0.73408937, 0.74170677, 0.74699497, 0.74428393, 0.7250118 ])"
            ]
          },
          "metadata": {},
          "execution_count": 22
        }
      ],
      "metadata": {}
    },
    {
      "cell_type": "code",
      "execution_count": 27,
      "source": [
        "mean-standard_dev"
      ],
      "outputs": [
        {
          "output_type": "execute_result",
          "data": {
            "text/plain": [
              "array([0.7622    , 0.75407238, 0.75662931, 0.74726957, 0.75462948,\n",
              "       0.73408937, 0.74170677, 0.74699497, 0.74428393, 0.7250118 ])"
            ]
          },
          "metadata": {},
          "execution_count": 27
        }
      ],
      "metadata": {}
    },
    {
      "cell_type": "code",
      "execution_count": 46,
      "source": [
        "mean= np.array(res[0])\r\n",
        "standard_dev= np.array(res[1])/2\r\n",
        "\r\n",
        "y=range(10)\r\n",
        "\r\n",
        "plt.clf()\r\n",
        "\r\n",
        "plt.plot(y,mean)\r\n",
        "\r\n",
        "plt.fill_between(y, mean-standard_dev, mean+standard_dev, alpha = 0.1)"
      ],
      "outputs": [
        {
          "output_type": "execute_result",
          "data": {
            "text/plain": [
              "<matplotlib.collections.PolyCollection at 0x28231929760>"
            ]
          },
          "metadata": {},
          "execution_count": 46
        },
        {
          "output_type": "display_data",
          "data": {
            "image/png": "[encoded data removed]",
            "image/svg+xml": "<?xml version=\"1.0\" encoding=\"utf-8\" standalone=\"no\"?>\r\n<!DOCTYPE svg PUBLIC \"-//W3C//DTD SVG 1.1//EN\"\r\n  \"http://www.w3.org/Graphics/SVG/1.1/DTD/svg11.dtd\">\r\n<svg height=\"248.518125pt\" version=\"1.1\" viewBox=\"0 0 384.828125 248.518125\" width=\"384.828125pt\" xmlns=\"http://www.w3.org/2000/svg\" xmlns:xlink=\"http://www.w3.org/1999/xlink\">\r\n <metadata>\r\n  <rdf:RDF xmlns:cc=\"http://creativecommons.org/ns#\" xmlns:dc=\"http://purl.org/dc/elements/1.1/\" xmlns:rdf=\"http://www.w3.org/1999/02/22-rdf-syntax-ns#\">\r\n   <cc:Work>\r\n    <dc:type rdf:resource=\"http://purl.org/dc/dcmitype/StillImage\"/>\r\n    <dc:date>2021-08-22T23:12:00.633774</dc:date>\r\n    <dc:format>image/svg+xml</dc:format>\r\n    <dc:creator>\r\n     <cc:Agent>\r\n      <dc:title>Matplotlib v3.4.3, https://matplotlib.org/</dc:title>\r\n     </cc:Agent>\r\n    </dc:creator>\r\n   </cc:Work>\r\n  </rdf:RDF>\r\n </metadata>\r\n <defs>\r\n  <style type=\"text/css\">*{stroke-linecap:butt;stroke-linejoin:round;}</style>\r\n </defs>\r\n <g id=\"figure_1\">\r\n  <g id=\"patch_1\">\r\n   <path d=\"M 0 248.518125 \r\nL 384.828125 248.518125 \r\nL 384.828125 0 \r\nL 0 0 \r\nz\r\n\"/>\r\n  </g>\r\n  <g id=\"axes_1\">\r\n   <g id=\"patch_2\">\r\n    <path d=\"M 42.828125 224.64 \r\nL 377.628125 224.64 \r\nL 377.628125 7.2 \r\nL 42.828125 7.2 \r\nz\r\n\"/>\r\n   </g>\r\n   <g id=\"PolyCollection_1\">\r\n    <path clip-path=\"url(#p48f148c4fd)\" d=\"M 58.046307 17.083636 \r\nL 58.046307 17.083636 \r\nL 91.864489 56.811948 \r\nL 125.68267 48.505483 \r\nL 159.500852 87.333783 \r\nL 193.319034 57.508813 \r\nL 227.137216 161.491166 \r\nL 260.955398 123.983235 \r\nL 294.77358 93.757175 \r\nL 328.591761 109.548424 \r\nL 362.409943 214.756364 \r\nL 362.409943 145.050272 \r\nL 362.409943 145.050272 \r\nL 328.591761 70.431252 \r\nL 294.77358 56.959978 \r\nL 260.955398 81.507358 \r\nL 227.137216 98.772868 \r\nL 193.319034 43.687146 \r\nL 159.500852 41.123843 \r\nL 125.68267 41.685766 \r\nL 91.864489 34.629836 \r\nL 58.046307 17.083636 \r\nz\r\n\" style=\"fill:#8dd3c7;fill-opacity:0.1;\"/>\r\n   </g>\r\n   <g id=\"matplotlib.axis_1\">\r\n    <g id=\"xtick_1\">\r\n     <g id=\"line2d_1\">\r\n      <defs>\r\n       <path d=\"M 0 0 \r\nL 0 3.5 \r\n\" id=\"mac8ae0dee6\" style=\"stroke:#ffffff;stroke-width:0.8;\"/>\r\n      </defs>\r\n      <g>\r\n       <use style=\"fill:#ffffff;stroke:#ffffff;stroke-width:0.8;\" x=\"58.046307\" xlink:href=\"#mac8ae0dee6\" y=\"224.64\"/>\r\n      </g>\r\n     </g>\r\n     <g id=\"text_1\">\r\n      <!-- 0 -->\r\n      <g style=\"fill:#ffffff;\" transform=\"translate(54.865057 239.238437)scale(0.1 -0.1)\">\r\n       <defs>\r\n        <path d=\"M 2034 4250 \r\nQ 1547 4250 1301 3770 \r\nQ 1056 3291 1056 2328 \r\nQ 1056 1369 1301 889 \r\nQ 1547 409 2034 409 \r\nQ 2525 409 2770 889 \r\nQ 3016 1369 3016 2328 \r\nQ 3016 3291 2770 3770 \r\nQ 2525 4250 2034 4250 \r\nz\r\nM 2034 4750 \r\nQ 2819 4750 3233 4129 \r\nQ 3647 3509 3647 2328 \r\nQ 3647 1150 3233 529 \r\nQ 2819 -91 2034 -91 \r\nQ 1250 -91 836 529 \r\nQ 422 1150 422 2328 \r\nQ 422 3509 836 4129 \r\nQ 1250 4750 2034 4750 \r\nz\r\n\" id=\"DejaVuSans-30\" transform=\"scale(0.015625)\"/>\r\n       </defs>\r\n       <use xlink:href=\"#DejaVuSans-30\"/>\r\n      </g>\r\n     </g>\r\n    </g>\r\n    <g id=\"xtick_2\">\r\n     <g id=\"line2d_2\">\r\n      <g>\r\n       <use style=\"fill:#ffffff;stroke:#ffffff;stroke-width:0.8;\" x=\"125.68267\" xlink:href=\"#mac8ae0dee6\" y=\"224.64\"/>\r\n      </g>\r\n     </g>\r\n     <g id=\"text_2\">\r\n      <!-- 2 -->\r\n      <g style=\"fill:#ffffff;\" transform=\"translate(122.50142 239.238437)scale(0.1 -0.1)\">\r\n       <defs>\r\n        <path d=\"M 1228 531 \r\nL 3431 531 \r\nL 3431 0 \r\nL 469 0 \r\nL 469 531 \r\nQ 828 903 1448 1529 \r\nQ 2069 2156 2228 2338 \r\nQ 2531 2678 2651 2914 \r\nQ 2772 3150 2772 3378 \r\nQ 2772 3750 2511 3984 \r\nQ 2250 4219 1831 4219 \r\nQ 1534 4219 1204 4116 \r\nQ 875 4013 500 3803 \r\nL 500 4441 \r\nQ 881 4594 1212 4672 \r\nQ 1544 4750 1819 4750 \r\nQ 2544 4750 2975 4387 \r\nQ 3406 4025 3406 3419 \r\nQ 3406 3131 3298 2873 \r\nQ 3191 2616 2906 2266 \r\nQ 2828 2175 2409 1742 \r\nQ 1991 1309 1228 531 \r\nz\r\n\" id=\"DejaVuSans-32\" transform=\"scale(0.015625)\"/>\r\n       </defs>\r\n       <use xlink:href=\"#DejaVuSans-32\"/>\r\n      </g>\r\n     </g>\r\n    </g>\r\n    <g id=\"xtick_3\">\r\n     <g id=\"line2d_3\">\r\n      <g>\r\n       <use style=\"fill:#ffffff;stroke:#ffffff;stroke-width:0.8;\" x=\"193.319034\" xlink:href=\"#mac8ae0dee6\" y=\"224.64\"/>\r\n      </g>\r\n     </g>\r\n     <g id=\"text_3\">\r\n      <!-- 4 -->\r\n      <g style=\"fill:#ffffff;\" transform=\"translate(190.137784 239.238437)scale(0.1 -0.1)\">\r\n       <defs>\r\n        <path d=\"M 2419 4116 \r\nL 825 1625 \r\nL 2419 1625 \r\nL 2419 4116 \r\nz\r\nM 2253 4666 \r\nL 3047 4666 \r\nL 3047 1625 \r\nL 3713 1625 \r\nL 3713 1100 \r\nL 3047 1100 \r\nL 3047 0 \r\nL 2419 0 \r\nL 2419 1100 \r\nL 313 1100 \r\nL 313 1709 \r\nL 2253 4666 \r\nz\r\n\" id=\"DejaVuSans-34\" transform=\"scale(0.015625)\"/>\r\n       </defs>\r\n       <use xlink:href=\"#DejaVuSans-34\"/>\r\n      </g>\r\n     </g>\r\n    </g>\r\n    <g id=\"xtick_4\">\r\n     <g id=\"line2d_4\">\r\n      <g>\r\n       <use style=\"fill:#ffffff;stroke:#ffffff;stroke-width:0.8;\" x=\"260.955398\" xlink:href=\"#mac8ae0dee6\" y=\"224.64\"/>\r\n      </g>\r\n     </g>\r\n     <g id=\"text_4\">\r\n      <!-- 6 -->\r\n      <g style=\"fill:#ffffff;\" transform=\"translate(257.774148 239.238437)scale(0.1 -0.1)\">\r\n       <defs>\r\n        <path d=\"M 2113 2584 \r\nQ 1688 2584 1439 2293 \r\nQ 1191 2003 1191 1497 \r\nQ 1191 994 1439 701 \r\nQ 1688 409 2113 409 \r\nQ 2538 409 2786 701 \r\nQ 3034 994 3034 1497 \r\nQ 3034 2003 2786 2293 \r\nQ 2538 2584 2113 2584 \r\nz\r\nM 3366 4563 \r\nL 3366 3988 \r\nQ 3128 4100 2886 4159 \r\nQ 2644 4219 2406 4219 \r\nQ 1781 4219 1451 3797 \r\nQ 1122 3375 1075 2522 \r\nQ 1259 2794 1537 2939 \r\nQ 1816 3084 2150 3084 \r\nQ 2853 3084 3261 2657 \r\nQ 3669 2231 3669 1497 \r\nQ 3669 778 3244 343 \r\nQ 2819 -91 2113 -91 \r\nQ 1303 -91 875 529 \r\nQ 447 1150 447 2328 \r\nQ 447 3434 972 4092 \r\nQ 1497 4750 2381 4750 \r\nQ 2619 4750 2861 4703 \r\nQ 3103 4656 3366 4563 \r\nz\r\n\" id=\"DejaVuSans-36\" transform=\"scale(0.015625)\"/>\r\n       </defs>\r\n       <use xlink:href=\"#DejaVuSans-36\"/>\r\n      </g>\r\n     </g>\r\n    </g>\r\n    <g id=\"xtick_5\">\r\n     <g id=\"line2d_5\">\r\n      <g>\r\n       <use style=\"fill:#ffffff;stroke:#ffffff;stroke-width:0.8;\" x=\"328.591761\" xlink:href=\"#mac8ae0dee6\" y=\"224.64\"/>\r\n      </g>\r\n     </g>\r\n     <g id=\"text_5\">\r\n      <!-- 8 -->\r\n      <g style=\"fill:#ffffff;\" transform=\"translate(325.410511 239.238437)scale(0.1 -0.1)\">\r\n       <defs>\r\n        <path d=\"M 2034 2216 \r\nQ 1584 2216 1326 1975 \r\nQ 1069 1734 1069 1313 \r\nQ 1069 891 1326 650 \r\nQ 1584 409 2034 409 \r\nQ 2484 409 2743 651 \r\nQ 3003 894 3003 1313 \r\nQ 3003 1734 2745 1975 \r\nQ 2488 2216 2034 2216 \r\nz\r\nM 1403 2484 \r\nQ 997 2584 770 2862 \r\nQ 544 3141 544 3541 \r\nQ 544 4100 942 4425 \r\nQ 1341 4750 2034 4750 \r\nQ 2731 4750 3128 4425 \r\nQ 3525 4100 3525 3541 \r\nQ 3525 3141 3298 2862 \r\nQ 3072 2584 2669 2484 \r\nQ 3125 2378 3379 2068 \r\nQ 3634 1759 3634 1313 \r\nQ 3634 634 3220 271 \r\nQ 2806 -91 2034 -91 \r\nQ 1263 -91 848 271 \r\nQ 434 634 434 1313 \r\nQ 434 1759 690 2068 \r\nQ 947 2378 1403 2484 \r\nz\r\nM 1172 3481 \r\nQ 1172 3119 1398 2916 \r\nQ 1625 2713 2034 2713 \r\nQ 2441 2713 2670 2916 \r\nQ 2900 3119 2900 3481 \r\nQ 2900 3844 2670 4047 \r\nQ 2441 4250 2034 4250 \r\nQ 1625 4250 1398 4047 \r\nQ 1172 3844 1172 3481 \r\nz\r\n\" id=\"DejaVuSans-38\" transform=\"scale(0.015625)\"/>\r\n       </defs>\r\n       <use xlink:href=\"#DejaVuSans-38\"/>\r\n      </g>\r\n     </g>\r\n    </g>\r\n   </g>\r\n   <g id=\"matplotlib.axis_2\">\r\n    <g id=\"ytick_1\">\r\n     <g id=\"line2d_6\">\r\n      <defs>\r\n       <path d=\"M 0 0 \r\nL -3.5 0 \r\n\" id=\"m828e7e1a68\" style=\"stroke:#ffffff;stroke-width:0.8;\"/>\r\n      </defs>\r\n      <g>\r\n       <use style=\"fill:#ffffff;stroke:#ffffff;stroke-width:0.8;\" x=\"42.828125\" xlink:href=\"#m828e7e1a68\" y=\"218.419801\"/>\r\n      </g>\r\n     </g>\r\n     <g id=\"text_6\">\r\n      <!-- 0.730 -->\r\n      <g style=\"fill:#ffffff;\" transform=\"translate(7.2 222.21902)scale(0.1 -0.1)\">\r\n       <defs>\r\n        <path d=\"M 684 794 \r\nL 1344 794 \r\nL 1344 0 \r\nL 684 0 \r\nL 684 794 \r\nz\r\n\" id=\"DejaVuSans-2e\" transform=\"scale(0.015625)\"/>\r\n        <path d=\"M 525 4666 \r\nL 3525 4666 \r\nL 3525 4397 \r\nL 1831 0 \r\nL 1172 0 \r\nL 2766 4134 \r\nL 525 4134 \r\nL 525 4666 \r\nz\r\n\" id=\"DejaVuSans-37\" transform=\"scale(0.015625)\"/>\r\n        <path d=\"M 2597 2516 \r\nQ 3050 2419 3304 2112 \r\nQ 3559 1806 3559 1356 \r\nQ 3559 666 3084 287 \r\nQ 2609 -91 1734 -91 \r\nQ 1441 -91 1130 -33 \r\nQ 819 25 488 141 \r\nL 488 750 \r\nQ 750 597 1062 519 \r\nQ 1375 441 1716 441 \r\nQ 2309 441 2620 675 \r\nQ 2931 909 2931 1356 \r\nQ 2931 1769 2642 2001 \r\nQ 2353 2234 1838 2234 \r\nL 1294 2234 \r\nL 1294 2753 \r\nL 1863 2753 \r\nQ 2328 2753 2575 2939 \r\nQ 2822 3125 2822 3475 \r\nQ 2822 3834 2567 4026 \r\nQ 2313 4219 1838 4219 \r\nQ 1578 4219 1281 4162 \r\nQ 984 4106 628 3988 \r\nL 628 4550 \r\nQ 988 4650 1302 4700 \r\nQ 1616 4750 1894 4750 \r\nQ 2613 4750 3031 4423 \r\nQ 3450 4097 3450 3541 \r\nQ 3450 3153 3228 2886 \r\nQ 3006 2619 2597 2516 \r\nz\r\n\" id=\"DejaVuSans-33\" transform=\"scale(0.015625)\"/>\r\n       </defs>\r\n       <use xlink:href=\"#DejaVuSans-30\"/>\r\n       <use x=\"63.623047\" xlink:href=\"#DejaVuSans-2e\"/>\r\n       <use x=\"95.410156\" xlink:href=\"#DejaVuSans-37\"/>\r\n       <use x=\"159.033203\" xlink:href=\"#DejaVuSans-33\"/>\r\n       <use x=\"222.65625\" xlink:href=\"#DejaVuSans-30\"/>\r\n      </g>\r\n     </g>\r\n    </g>\r\n    <g id=\"ytick_2\">\r\n     <g id=\"line2d_7\">\r\n      <g>\r\n       <use style=\"fill:#ffffff;stroke:#ffffff;stroke-width:0.8;\" x=\"42.828125\" xlink:href=\"#m828e7e1a68\" y=\"187.156422\"/>\r\n      </g>\r\n     </g>\r\n     <g id=\"text_7\">\r\n      <!-- 0.735 -->\r\n      <g style=\"fill:#ffffff;\" transform=\"translate(7.2 190.95564)scale(0.1 -0.1)\">\r\n       <defs>\r\n        <path d=\"M 691 4666 \r\nL 3169 4666 \r\nL 3169 4134 \r\nL 1269 4134 \r\nL 1269 2991 \r\nQ 1406 3038 1543 3061 \r\nQ 1681 3084 1819 3084 \r\nQ 2600 3084 3056 2656 \r\nQ 3513 2228 3513 1497 \r\nQ 3513 744 3044 326 \r\nQ 2575 -91 1722 -91 \r\nQ 1428 -91 1123 -41 \r\nQ 819 9 494 109 \r\nL 494 744 \r\nQ 775 591 1075 516 \r\nQ 1375 441 1709 441 \r\nQ 2250 441 2565 725 \r\nQ 2881 1009 2881 1497 \r\nQ 2881 1984 2565 2268 \r\nQ 2250 2553 1709 2553 \r\nQ 1456 2553 1204 2497 \r\nQ 953 2441 691 2322 \r\nL 691 4666 \r\nz\r\n\" id=\"DejaVuSans-35\" transform=\"scale(0.015625)\"/>\r\n       </defs>\r\n       <use xlink:href=\"#DejaVuSans-30\"/>\r\n       <use x=\"63.623047\" xlink:href=\"#DejaVuSans-2e\"/>\r\n       <use x=\"95.410156\" xlink:href=\"#DejaVuSans-37\"/>\r\n       <use x=\"159.033203\" xlink:href=\"#DejaVuSans-33\"/>\r\n       <use x=\"222.65625\" xlink:href=\"#DejaVuSans-35\"/>\r\n      </g>\r\n     </g>\r\n    </g>\r\n    <g id=\"ytick_3\">\r\n     <g id=\"line2d_8\">\r\n      <g>\r\n       <use style=\"fill:#ffffff;stroke:#ffffff;stroke-width:0.8;\" x=\"42.828125\" xlink:href=\"#m828e7e1a68\" y=\"155.893042\"/>\r\n      </g>\r\n     </g>\r\n     <g id=\"text_8\">\r\n      <!-- 0.740 -->\r\n      <g style=\"fill:#ffffff;\" transform=\"translate(7.2 159.692261)scale(0.1 -0.1)\">\r\n       <use xlink:href=\"#DejaVuSans-30\"/>\r\n       <use x=\"63.623047\" xlink:href=\"#DejaVuSans-2e\"/>\r\n       <use x=\"95.410156\" xlink:href=\"#DejaVuSans-37\"/>\r\n       <use x=\"159.033203\" xlink:href=\"#DejaVuSans-34\"/>\r\n       <use x=\"222.65625\" xlink:href=\"#DejaVuSans-30\"/>\r\n      </g>\r\n     </g>\r\n    </g>\r\n    <g id=\"ytick_4\">\r\n     <g id=\"line2d_9\">\r\n      <g>\r\n       <use style=\"fill:#ffffff;stroke:#ffffff;stroke-width:0.8;\" x=\"42.828125\" xlink:href=\"#m828e7e1a68\" y=\"124.629662\"/>\r\n      </g>\r\n     </g>\r\n     <g id=\"text_9\">\r\n      <!-- 0.745 -->\r\n      <g style=\"fill:#ffffff;\" transform=\"translate(7.2 128.428881)scale(0.1 -0.1)\">\r\n       <use xlink:href=\"#DejaVuSans-30\"/>\r\n       <use x=\"63.623047\" xlink:href=\"#DejaVuSans-2e\"/>\r\n       <use x=\"95.410156\" xlink:href=\"#DejaVuSans-37\"/>\r\n       <use x=\"159.033203\" xlink:href=\"#DejaVuSans-34\"/>\r\n       <use x=\"222.65625\" xlink:href=\"#DejaVuSans-35\"/>\r\n      </g>\r\n     </g>\r\n    </g>\r\n    <g id=\"ytick_5\">\r\n     <g id=\"line2d_10\">\r\n      <g>\r\n       <use style=\"fill:#ffffff;stroke:#ffffff;stroke-width:0.8;\" x=\"42.828125\" xlink:href=\"#m828e7e1a68\" y=\"93.366283\"/>\r\n      </g>\r\n     </g>\r\n     <g id=\"text_10\">\r\n      <!-- 0.750 -->\r\n      <g style=\"fill:#ffffff;\" transform=\"translate(7.2 97.165501)scale(0.1 -0.1)\">\r\n       <use xlink:href=\"#DejaVuSans-30\"/>\r\n       <use x=\"63.623047\" xlink:href=\"#DejaVuSans-2e\"/>\r\n       <use x=\"95.410156\" xlink:href=\"#DejaVuSans-37\"/>\r\n       <use x=\"159.033203\" xlink:href=\"#DejaVuSans-35\"/>\r\n       <use x=\"222.65625\" xlink:href=\"#DejaVuSans-30\"/>\r\n      </g>\r\n     </g>\r\n    </g>\r\n    <g id=\"ytick_6\">\r\n     <g id=\"line2d_11\">\r\n      <g>\r\n       <use style=\"fill:#ffffff;stroke:#ffffff;stroke-width:0.8;\" x=\"42.828125\" xlink:href=\"#m828e7e1a68\" y=\"62.102903\"/>\r\n      </g>\r\n     </g>\r\n     <g id=\"text_11\">\r\n      <!-- 0.755 -->\r\n      <g style=\"fill:#ffffff;\" transform=\"translate(7.2 65.902122)scale(0.1 -0.1)\">\r\n       <use xlink:href=\"#DejaVuSans-30\"/>\r\n       <use x=\"63.623047\" xlink:href=\"#DejaVuSans-2e\"/>\r\n       <use x=\"95.410156\" xlink:href=\"#DejaVuSans-37\"/>\r\n       <use x=\"159.033203\" xlink:href=\"#DejaVuSans-35\"/>\r\n       <use x=\"222.65625\" xlink:href=\"#DejaVuSans-35\"/>\r\n      </g>\r\n     </g>\r\n    </g>\r\n    <g id=\"ytick_7\">\r\n     <g id=\"line2d_12\">\r\n      <g>\r\n       <use style=\"fill:#ffffff;stroke:#ffffff;stroke-width:0.8;\" x=\"42.828125\" xlink:href=\"#m828e7e1a68\" y=\"30.839523\"/>\r\n      </g>\r\n     </g>\r\n     <g id=\"text_12\">\r\n      <!-- 0.760 -->\r\n      <g style=\"fill:#ffffff;\" transform=\"translate(7.2 34.638742)scale(0.1 -0.1)\">\r\n       <use xlink:href=\"#DejaVuSans-30\"/>\r\n       <use x=\"63.623047\" xlink:href=\"#DejaVuSans-2e\"/>\r\n       <use x=\"95.410156\" xlink:href=\"#DejaVuSans-37\"/>\r\n       <use x=\"159.033203\" xlink:href=\"#DejaVuSans-36\"/>\r\n       <use x=\"222.65625\" xlink:href=\"#DejaVuSans-30\"/>\r\n      </g>\r\n     </g>\r\n    </g>\r\n   </g>\r\n   <g id=\"line2d_13\">\r\n    <path clip-path=\"url(#p48f148c4fd)\" d=\"M 58.046307 17.083636 \r\nL 91.864489 45.720892 \r\nL 125.68267 45.095625 \r\nL 159.500852 64.228813 \r\nL 193.319034 50.597979 \r\nL 227.137216 130.132017 \r\nL 260.955398 102.745297 \r\nL 294.77358 75.358576 \r\nL 328.591761 89.989838 \r\nL 362.409943 179.903318 \r\n\" style=\"fill:none;stroke:#8dd3c7;stroke-linecap:square;stroke-width:1.5;\"/>\r\n   </g>\r\n   <g id=\"patch_3\">\r\n    <path d=\"M 42.828125 224.64 \r\nL 42.828125 7.2 \r\n\" style=\"fill:none;stroke:#ffffff;stroke-linecap:square;stroke-linejoin:miter;stroke-width:0.8;\"/>\r\n   </g>\r\n   <g id=\"patch_4\">\r\n    <path d=\"M 377.628125 224.64 \r\nL 377.628125 7.2 \r\n\" style=\"fill:none;stroke:#ffffff;stroke-linecap:square;stroke-linejoin:miter;stroke-width:0.8;\"/>\r\n   </g>\r\n   <g id=\"patch_5\">\r\n    <path d=\"M 42.828125 224.64 \r\nL 377.628125 224.64 \r\n\" style=\"fill:none;stroke:#ffffff;stroke-linecap:square;stroke-linejoin:miter;stroke-width:0.8;\"/>\r\n   </g>\r\n   <g id=\"patch_6\">\r\n    <path d=\"M 42.828125 7.2 \r\nL 377.628125 7.2 \r\n\" style=\"fill:none;stroke:#ffffff;stroke-linecap:square;stroke-linejoin:miter;stroke-width:0.8;\"/>\r\n   </g>\r\n  </g>\r\n </g>\r\n <defs>\r\n  <clipPath id=\"p48f148c4fd\">\r\n   <rect height=\"217.44\" width=\"334.8\" x=\"42.828125\" y=\"7.2\"/>\r\n  </clipPath>\r\n </defs>\r\n</svg>\r\n",
            "text/plain": [
              "<Figure size 432x288 with 1 Axes>"
            ]
          },
          "metadata": {}
        }
      ],
      "metadata": {}
    },
    {
      "cell_type": "code",
      "execution_count": 26,
      "source": [
        "mean"
      ],
      "outputs": [
        {
          "output_type": "execute_result",
          "data": {
            "text/plain": [
              "array([0.7622 , 0.75762, 0.75772, 0.75466, 0.75684, 0.74412, 0.7485 ,\n",
              "       0.75288, 0.75054, 0.73616])"
            ]
          },
          "metadata": {},
          "execution_count": 26
        }
      ],
      "metadata": {}
    },
    {
      "cell_type": "code",
      "execution_count": null,
      "source": [
        "def testeo():\r\n",
        "    return 1,2\r\n",
        "\r\n",
        "res = uno,dos = testeo()"
      ],
      "outputs": [],
      "metadata": {}
    },
    {
      "cell_type": "code",
      "execution_count": null,
      "source": [
        "#Countinue in file: weight_inj_zero.ipynb"
      ],
      "outputs": [],
      "metadata": {}
    },
    {
      "cell_type": "markdown",
      "source": [
        "# Weight Statistics"
      ],
      "metadata": {}
    },
    {
      "cell_type": "code",
      "execution_count": 12,
      "source": [
        "import load\r\n",
        "net_default=load.load('checkpoint_default',num_classes=1000)\r\n",
        "net_256=load.load('default_b_size_256')\r\n",
        "net_512=load.load('default_b_size_512')"
      ],
      "outputs": [],
      "metadata": {}
    },
    {
      "cell_type": "code",
      "execution_count": 1,
      "source": [
        "#run only if you want to load the git resnet\r\n",
        "%run load18.py"
      ],
      "outputs": [],
      "metadata": {}
    },
    {
      "cell_type": "code",
      "execution_count": 2,
      "source": [
        "net_default=net #just to avoid changing following lines"
      ],
      "outputs": [],
      "metadata": {}
    },
    {
      "cell_type": "code",
      "execution_count": 7,
      "source": [
        "list(net_default.named_parameters())[0][1]"
      ],
      "outputs": [
        {
          "output_type": "execute_result",
          "data": {
            "text/plain": [
              "Parameter containing:\n",
              "tensor([[[[ 6.8073e-02,  4.7469e-02,  4.3604e-02,  ...,  4.4675e-02,\n",
              "            9.6731e-03,  9.0030e-02],\n",
              "          [ 4.2317e-02,  2.4179e-02,  3.2747e-03,  ...,  2.8515e-02,\n",
              "            1.3432e-02,  1.3141e-01],\n",
              "          [-5.5065e-02, -3.2383e-02, -3.8204e-02,  ..., -4.2792e-03,\n",
              "            1.5569e-02,  1.6446e-01],\n",
              "          ...,\n",
              "          [-9.7793e-02, -1.0946e-01, -1.3131e-01,  ...,  3.1130e-03,\n",
              "            9.1944e-02,  2.4652e-01],\n",
              "          [-6.1215e-02, -9.2855e-02, -1.3321e-01,  ..., -1.4340e-03,\n",
              "            6.3432e-02,  2.2755e-01],\n",
              "          [-6.4873e-02, -8.5755e-02, -1.1503e-01,  ..., -1.9613e-02,\n",
              "            2.2816e-02,  1.8432e-01]],\n",
              "\n",
              "         [[ 3.4517e-02,  3.8950e-02,  2.2077e-02,  ..., -1.0147e-02,\n",
              "           -5.4227e-02,  6.6323e-02],\n",
              "          [ 1.7346e-02,  3.2819e-02,  9.6627e-03,  ..., -4.7523e-02,\n",
              "           -6.8340e-02,  9.2135e-02],\n",
              "          [-6.7472e-02, -3.3941e-03, -2.7016e-03,  ..., -5.7532e-02,\n",
              "           -5.8558e-02,  1.3055e-01],\n",
              "          ...,\n",
              "          [-9.0998e-02, -6.7260e-02, -8.4818e-02,  ..., -1.2619e-02,\n",
              "            6.3363e-02,  2.5497e-01],\n",
              "          [-5.7972e-02, -5.8759e-02, -9.4942e-02,  ..., -8.6295e-03,\n",
              "            3.9963e-02,  2.4236e-01],\n",
              "          [-7.4578e-02, -7.5387e-02, -9.5291e-02,  ..., -8.0039e-03,\n",
              "            2.1954e-02,  2.0461e-01]],\n",
              "\n",
              "         [[-1.6018e-02, -1.1286e-02, -8.2473e-03,  ...,  1.9191e-02,\n",
              "           -2.5459e-02,  7.5701e-02],\n",
              "          [-4.8579e-03,  8.7488e-03,  6.7591e-03,  ...,  1.3386e-02,\n",
              "           -1.7602e-02,  1.1194e-01],\n",
              "          [-7.4926e-02, -7.5181e-03,  1.5692e-02,  ...,  1.2883e-02,\n",
              "           -8.3562e-03,  1.4212e-01],\n",
              "          ...,\n",
              "          [-9.7892e-02, -5.9915e-02, -6.1719e-02,  ...,  1.9610e-02,\n",
              "            1.0061e-01,  2.6752e-01],\n",
              "          [-7.2903e-02, -6.5473e-02, -7.8693e-02,  ...,  3.5321e-03,\n",
              "            5.6484e-02,  2.4147e-01],\n",
              "          [-6.5207e-02, -6.6476e-02, -7.5404e-02,  ...,  1.1621e-02,\n",
              "            2.8725e-02,  1.9272e-01]]],\n",
              "\n",
              "\n",
              "        [[[-3.8695e-02, -6.5008e-02,  8.9574e-04,  ...,  2.6039e-01,\n",
              "            9.3553e-02, -5.2633e-02],\n",
              "          [-2.8266e-02, -9.9404e-02, -1.6719e-01,  ...,  4.0050e-01,\n",
              "            3.6091e-01,  3.1375e-02],\n",
              "          [ 3.9845e-02, -1.3930e-02, -1.7566e-01,  ..., -1.1680e-01,\n",
              "            3.7300e-01,  2.5426e-01],\n",
              "          ...,\n",
              "          [ 8.5565e-02,  9.2581e-02,  1.2357e-01,  ..., -4.4474e-01,\n",
              "           -3.6548e-01,  2.0220e-01],\n",
              "          [ 3.4036e-02,  2.6741e-02,  3.3958e-02,  ..., -1.2128e-01,\n",
              "           -3.6426e-01, -1.9056e-02],\n",
              "          [-6.6979e-03,  5.9526e-03, -3.0858e-03,  ...,  8.0099e-02,\n",
              "           -1.7071e-01, -7.7905e-02]],\n",
              "\n",
              "         [[-1.1868e-02, -2.2310e-02,  3.6407e-02,  ...,  1.2347e-01,\n",
              "           -1.2641e-02, -7.1427e-02],\n",
              "          [-5.6039e-02, -7.0482e-02, -9.5103e-02,  ...,  2.9358e-01,\n",
              "            2.2717e-01, -2.1929e-02],\n",
              "          [-3.9690e-02, -3.4887e-02, -1.0902e-01,  ..., -1.1905e-01,\n",
              "            2.3442e-01,  1.0189e-01],\n",
              "          ...,\n",
              "          [ 1.0010e-03,  1.1938e-02,  7.2495e-02,  ..., -3.0797e-01,\n",
              "           -3.3631e-01,  9.8428e-02],\n",
              "          [-1.2798e-02, -3.0635e-02, -5.9173e-02,  ..., -6.9745e-02,\n",
              "           -3.2758e-01, -5.3915e-02],\n",
              "          [-6.0678e-03, -1.9150e-02, -7.5642e-02,  ...,  3.9880e-02,\n",
              "           -1.7782e-01, -9.4681e-02]],\n",
              "\n",
              "         [[ 3.3271e-02, -3.9319e-02, -2.9052e-02,  ..., -4.0768e-02,\n",
              "           -1.5944e-01, -2.2418e-01],\n",
              "          [ 4.8762e-02, -1.0634e-03, -1.5607e-02,  ...,  1.9844e-01,\n",
              "            4.2831e-02, -2.4022e-01],\n",
              "          [ 2.5762e-02,  2.3451e-02,  8.5590e-03,  ...,  1.2332e-02,\n",
              "            1.6889e-01, -1.3884e-01],\n",
              "          ...,\n",
              "          [-5.2589e-02, -6.2824e-02,  5.3766e-02,  ..., -9.3712e-03,\n",
              "           -6.3355e-02,  1.2019e-01],\n",
              "          [-5.5866e-02, -1.1806e-01, -1.0933e-01,  ...,  1.0169e-01,\n",
              "           -7.7160e-02,  5.1612e-02],\n",
              "          [-4.3016e-02, -1.0939e-01, -1.2482e-01,  ...,  1.3232e-01,\n",
              "            1.2836e-02,  7.9633e-03]]],\n",
              "\n",
              "\n",
              "        [[[-1.4079e-02,  1.6575e-02,  6.0766e-02,  ...,  3.3072e-02,\n",
              "           -1.2999e-03,  9.8544e-03],\n",
              "          [-5.1246e-02,  8.6533e-03,  5.2232e-02,  ...,  7.4132e-02,\n",
              "            1.9946e-02,  4.4648e-02],\n",
              "          [-5.5915e-02, -3.0430e-02,  6.2518e-03,  ...,  1.0730e-01,\n",
              "            5.6651e-02,  5.9636e-02],\n",
              "          ...,\n",
              "          [ 7.9061e-03, -1.6811e-02, -2.9337e-02,  ..., -4.6786e-02,\n",
              "           -5.0317e-02, -1.1562e-02],\n",
              "          [ 2.8916e-02, -1.7379e-02, -1.5711e-02,  ...,  1.4941e-03,\n",
              "            3.9261e-03,  8.5162e-03],\n",
              "          [ 2.7135e-02, -4.5250e-02, -7.5486e-02,  ..., -5.4996e-02,\n",
              "           -5.9865e-02, -1.1096e-01]],\n",
              "\n",
              "         [[-2.4249e-02,  4.8017e-03,  4.0008e-02,  ...,  4.0187e-02,\n",
              "            2.1609e-02,  3.4269e-02],\n",
              "          [-3.8423e-02,  1.9298e-02,  5.0613e-02,  ...,  1.0817e-01,\n",
              "            7.2821e-02,  8.1563e-02],\n",
              "          [-6.2536e-02, -4.3689e-02, -2.7283e-02,  ...,  1.0446e-01,\n",
              "            7.0504e-02,  5.2202e-02],\n",
              "          ...,\n",
              "          [-4.2151e-03, -5.3100e-02, -8.4108e-02,  ..., -1.1797e-01,\n",
              "           -1.2337e-01, -1.1737e-01],\n",
              "          [ 4.3103e-02, -2.3486e-02, -3.0306e-02,  ..., -3.1702e-02,\n",
              "           -3.9452e-02, -5.8388e-02],\n",
              "          [ 8.5088e-02, -6.3023e-03, -4.5202e-02,  ..., -4.7462e-02,\n",
              "           -6.0473e-02, -1.2448e-01]],\n",
              "\n",
              "         [[ 4.0286e-02,  9.3316e-02,  1.3180e-01,  ...,  1.6549e-01,\n",
              "            1.5108e-01,  1.6836e-01],\n",
              "          [ 2.0274e-02,  1.0355e-01,  1.5047e-01,  ...,  2.5287e-01,\n",
              "            2.1878e-01,  2.2374e-01],\n",
              "          [-4.7709e-02, -8.8521e-03,  2.0514e-02,  ...,  1.8361e-01,\n",
              "            1.5865e-01,  1.4721e-01],\n",
              "          ...,\n",
              "          [-5.5818e-02, -1.0136e-01, -1.3768e-01,  ..., -1.6904e-01,\n",
              "           -1.6170e-01, -1.2589e-01],\n",
              "          [-2.6974e-02, -8.8789e-02, -9.9407e-02,  ..., -1.1652e-01,\n",
              "           -1.0367e-01, -9.7787e-02],\n",
              "          [-2.5428e-03, -9.2478e-02, -1.2653e-01,  ..., -1.4157e-01,\n",
              "           -1.3257e-01, -1.7387e-01]]],\n",
              "\n",
              "\n",
              "        ...,\n",
              "\n",
              "\n",
              "        [[[ 5.4444e-02,  6.6321e-02,  6.6632e-02,  ...,  6.1769e-02,\n",
              "            1.0371e-02, -3.9827e-02],\n",
              "          [ 1.9004e-02,  4.0463e-02,  9.3534e-02,  ...,  1.1149e-01,\n",
              "            8.9558e-02,  3.8320e-02],\n",
              "          [-1.9945e-02,  3.5133e-02,  1.0731e-01,  ...,  1.1020e-01,\n",
              "            1.0676e-01,  6.3999e-02],\n",
              "          ...,\n",
              "          [-5.1312e-02, -9.7637e-03,  3.2438e-02,  ...,  4.5925e-02,\n",
              "            7.0504e-02,  6.1356e-02],\n",
              "          [-9.4394e-02, -4.1494e-02,  4.9844e-03,  ...,  3.2492e-02,\n",
              "            5.5875e-02,  4.8936e-02],\n",
              "          [-9.3858e-02, -7.7025e-02, -3.3334e-02,  ...,  8.6682e-03,\n",
              "            3.6757e-02,  2.6761e-02]],\n",
              "\n",
              "         [[ 1.7767e-02,  3.1942e-02,  1.8035e-02,  ...,  6.0515e-03,\n",
              "           -2.8813e-02, -5.9075e-02],\n",
              "          [-1.3805e-02,  6.6332e-03,  3.1607e-02,  ...,  1.6184e-02,\n",
              "            1.1874e-02, -2.1775e-02],\n",
              "          [-4.6148e-02,  3.2513e-03,  4.8748e-02,  ...,  2.0313e-02,\n",
              "            2.1615e-02, -1.5327e-02],\n",
              "          ...,\n",
              "          [-6.3388e-02, -2.4007e-02,  7.3096e-03,  ...,  9.6671e-03,\n",
              "            2.8188e-02,  2.0869e-02],\n",
              "          [-8.2053e-02, -4.7768e-02, -1.6166e-02,  ...,  1.8134e-02,\n",
              "            3.5352e-02,  2.8973e-02],\n",
              "          [-7.4645e-02, -8.1552e-02, -5.8657e-02,  ..., -8.9507e-03,\n",
              "            2.0588e-02,  1.4595e-02]],\n",
              "\n",
              "         [[-8.5004e-04,  4.3605e-02,  2.3808e-02,  ...,  1.2362e-02,\n",
              "           -3.8085e-02, -7.3823e-02],\n",
              "          [-6.0357e-03,  4.8995e-02,  6.5774e-02,  ...,  4.0466e-02,\n",
              "            1.6981e-02, -2.6683e-02],\n",
              "          [-1.6586e-02,  6.0853e-02,  1.0409e-01,  ...,  6.6371e-02,\n",
              "            4.4992e-02,  1.9657e-03],\n",
              "          ...,\n",
              "          [-2.9932e-02,  3.5588e-02,  6.4876e-02,  ...,  7.6609e-02,\n",
              "            7.5763e-02,  6.0973e-02],\n",
              "          [-4.5750e-02,  9.7216e-03,  3.5423e-02,  ...,  8.0733e-02,\n",
              "            8.7004e-02,  7.4747e-02],\n",
              "          [-4.1003e-02, -2.8809e-02, -1.0858e-02,  ...,  4.4369e-02,\n",
              "            6.6647e-02,  6.5270e-02]]],\n",
              "\n",
              "\n",
              "        [[[-1.1374e-02, -1.7105e-02,  6.9684e-02,  ...,  1.0877e-01,\n",
              "            1.3577e-01,  1.9726e-02],\n",
              "          [ 1.3411e-02,  1.7928e-02,  3.2818e-02,  ...,  5.0562e-02,\n",
              "            9.3296e-02,  3.5485e-02],\n",
              "          [-5.1884e-02, -3.2252e-02, -3.3108e-02,  ...,  2.6110e-02,\n",
              "            1.7485e-02, -7.5437e-02],\n",
              "          ...,\n",
              "          [-8.9759e-02, -1.6512e-01, -2.5596e-01,  ..., -4.2664e-01,\n",
              "           -2.7462e-01, -2.6804e-01],\n",
              "          [ 7.8305e-02,  9.2131e-02,  8.9461e-02,  ...,  3.8613e-02,\n",
              "            4.4993e-02, -1.7806e-02],\n",
              "          [ 1.9131e-01,  2.0898e-01,  2.2777e-01,  ...,  3.3045e-01,\n",
              "            3.3419e-01,  2.8228e-01]],\n",
              "\n",
              "         [[-3.4478e-02, -2.0017e-02,  5.4055e-02,  ...,  5.2772e-02,\n",
              "            5.8500e-02, -6.2798e-02],\n",
              "          [-9.3904e-03,  6.5515e-03, -2.4430e-03,  ...,  8.6118e-03,\n",
              "            2.4947e-02, -3.1674e-02],\n",
              "          [-4.2750e-02, -3.6185e-03, -2.4380e-02,  ...,  5.6350e-02,\n",
              "            2.1468e-02, -7.6341e-02],\n",
              "          ...,\n",
              "          [-4.6092e-02, -6.4968e-02, -1.2798e-01,  ..., -2.7048e-01,\n",
              "           -1.4166e-01, -1.8334e-01],\n",
              "          [ 3.7079e-02,  8.9053e-02,  8.0973e-02,  ...,  3.4935e-02,\n",
              "            1.6006e-02, -6.6860e-02],\n",
              "          [ 8.7297e-02,  1.2464e-01,  1.1414e-01,  ...,  1.8487e-01,\n",
              "            1.6672e-01,  1.2395e-01]],\n",
              "\n",
              "         [[-1.5644e-02, -7.0259e-03,  3.7511e-02,  ...,  2.6024e-02,\n",
              "            3.6255e-02, -5.8889e-02],\n",
              "          [-1.2751e-03,  9.2206e-03, -2.6895e-02,  ..., -3.5926e-02,\n",
              "           -1.0610e-02, -2.2643e-02],\n",
              "          [-2.8397e-02,  2.2750e-02, -1.7460e-03,  ...,  7.0325e-02,\n",
              "            3.5372e-02, -2.1160e-02],\n",
              "          ...,\n",
              "          [-3.2552e-02, -2.2629e-02, -4.7428e-02,  ..., -1.3986e-01,\n",
              "           -3.1936e-02, -7.2424e-02],\n",
              "          [-6.6878e-03,  5.5979e-02,  5.1689e-02,  ...,  2.9898e-02,\n",
              "            1.5833e-02, -4.3225e-02],\n",
              "          [ 4.8092e-03,  2.5251e-02,  7.2296e-03,  ...,  7.4844e-02,\n",
              "            7.3692e-02,  6.9444e-02]]],\n",
              "\n",
              "\n",
              "        [[[-1.9053e-04, -1.2299e-04, -3.4408e-05,  ...,  8.4865e-05,\n",
              "            6.1217e-05, -1.1511e-05],\n",
              "          [-1.0940e-04, -1.5860e-05,  7.4269e-05,  ...,  1.4428e-04,\n",
              "            9.8511e-05,  1.1813e-04],\n",
              "          [-1.0964e-04, -1.1039e-04, -2.2605e-05,  ...,  1.3861e-04,\n",
              "            5.4406e-05,  7.2429e-05],\n",
              "          ...,\n",
              "          [ 6.9718e-05,  1.0411e-04,  4.7110e-05,  ...,  1.5669e-04,\n",
              "            1.5070e-04,  6.8277e-06],\n",
              "          [ 9.6016e-05,  1.8563e-04,  1.1179e-04,  ...,  1.6941e-04,\n",
              "            1.2464e-04,  4.8423e-06],\n",
              "          [ 9.7780e-05,  1.0998e-04,  1.6024e-05,  ..., -1.9378e-05,\n",
              "            2.8357e-05, -4.9551e-05]],\n",
              "\n",
              "         [[-1.4936e-04, -8.9343e-05,  2.7779e-05,  ...,  4.6755e-05,\n",
              "            1.6488e-05, -2.8255e-05],\n",
              "          [-6.9019e-05,  1.1111e-05,  1.0092e-04,  ...,  8.4377e-05,\n",
              "            3.4295e-05,  1.1036e-04],\n",
              "          [-9.5576e-05, -9.8575e-05, -2.0519e-05,  ...,  7.6335e-05,\n",
              "            2.0391e-05,  7.6402e-05],\n",
              "          ...,\n",
              "          [ 1.4294e-04,  1.5055e-04,  2.9645e-05,  ...,  6.3041e-05,\n",
              "            9.3797e-05, -4.5987e-05],\n",
              "          [ 1.8001e-04,  2.1926e-04,  5.6821e-05,  ...,  2.9974e-05,\n",
              "            3.7542e-05, -3.4315e-05],\n",
              "          [ 1.5872e-04,  1.0649e-04, -6.5954e-05,  ..., -1.3948e-04,\n",
              "           -3.3218e-05, -4.4756e-05]],\n",
              "\n",
              "         [[-1.5780e-04, -9.9001e-05, -8.5233e-06,  ...,  3.4852e-05,\n",
              "           -2.6358e-05, -6.2656e-05],\n",
              "          [-7.7837e-05,  1.8045e-05,  8.0142e-05,  ...,  6.2141e-05,\n",
              "           -9.6806e-06,  5.9116e-05],\n",
              "          [-8.9428e-05, -7.6571e-05, -1.3123e-05,  ...,  9.0519e-05,\n",
              "            3.7916e-05,  8.6452e-05],\n",
              "          ...,\n",
              "          [ 2.0603e-04,  1.9542e-04,  4.5566e-05,  ...,  6.0417e-05,\n",
              "            1.0218e-04, -4.2488e-05],\n",
              "          [ 2.1170e-04,  2.4753e-04,  5.4473e-05,  ..., -1.3630e-05,\n",
              "           -1.3417e-05, -7.3569e-05],\n",
              "          [ 1.8122e-04,  1.4214e-04, -6.0779e-05,  ..., -1.6733e-04,\n",
              "           -7.3594e-05, -6.5720e-05]]]], requires_grad=True)"
            ]
          },
          "metadata": {},
          "execution_count": 7
        }
      ],
      "metadata": {}
    },
    {
      "cell_type": "code",
      "execution_count": 18,
      "source": [
        "list(net_default.named_parameters())[0][1].size()==torch.Size([64, 3, 7, 7])"
      ],
      "outputs": [
        {
          "output_type": "execute_result",
          "data": {
            "text/plain": [
              "True"
            ]
          },
          "metadata": {},
          "execution_count": 18
        }
      ],
      "metadata": {}
    },
    {
      "cell_type": "code",
      "execution_count": 5,
      "source": [
        "ts=torch.Size([64, 3, 7, 7])"
      ],
      "outputs": [],
      "metadata": {}
    },
    {
      "cell_type": "code",
      "execution_count": 8,
      "source": [],
      "outputs": [
        {
          "output_type": "execute_result",
          "data": {
            "text/plain": [
              "64"
            ]
          },
          "metadata": {},
          "execution_count": 8
        }
      ],
      "metadata": {}
    },
    {
      "cell_type": "code",
      "execution_count": 8,
      "source": [
        "net_default"
      ],
      "outputs": [
        {
          "output_type": "execute_result",
          "data": {
            "text/plain": [
              "DataParallel(\n",
              "  (module): ResNet(\n",
              "    (conv1): Conv2d(3, 64, kernel_size=(7, 7), stride=(2, 2), padding=(3, 3), bias=False)\n",
              "    (bn1): BatchNorm2d(64, eps=1e-05, momentum=0.1, affine=True, track_running_stats=True)\n",
              "    (relu): ReLU(inplace=True)\n",
              "    (maxpool): MaxPool2d(kernel_size=3, stride=2, padding=1, dilation=1, ceil_mode=False)\n",
              "    (layer1): Sequential(\n",
              "      (0): BasicBlock(\n",
              "        (conv1): Conv2d(64, 64, kernel_size=(3, 3), stride=(1, 1), padding=(1, 1), bias=False)\n",
              "        (bn1): BatchNorm2d(64, eps=1e-05, momentum=0.1, affine=True, track_running_stats=True)\n",
              "        (relu): ReLU(inplace=True)\n",
              "        (conv2): Conv2d(64, 64, kernel_size=(3, 3), stride=(1, 1), padding=(1, 1), bias=False)\n",
              "        (bn2): BatchNorm2d(64, eps=1e-05, momentum=0.1, affine=True, track_running_stats=True)\n",
              "      )\n",
              "      (1): BasicBlock(\n",
              "        (conv1): Conv2d(64, 64, kernel_size=(3, 3), stride=(1, 1), padding=(1, 1), bias=False)\n",
              "        (bn1): BatchNorm2d(64, eps=1e-05, momentum=0.1, affine=True, track_running_stats=True)\n",
              "        (relu): ReLU(inplace=True)\n",
              "        (conv2): Conv2d(64, 64, kernel_size=(3, 3), stride=(1, 1), padding=(1, 1), bias=False)\n",
              "        (bn2): BatchNorm2d(64, eps=1e-05, momentum=0.1, affine=True, track_running_stats=True)\n",
              "      )\n",
              "    )\n",
              "    (layer2): Sequential(\n",
              "      (0): BasicBlock(\n",
              "        (conv1): Conv2d(64, 128, kernel_size=(3, 3), stride=(2, 2), padding=(1, 1), bias=False)\n",
              "        (bn1): BatchNorm2d(128, eps=1e-05, momentum=0.1, affine=True, track_running_stats=True)\n",
              "        (relu): ReLU(inplace=True)\n",
              "        (conv2): Conv2d(128, 128, kernel_size=(3, 3), stride=(1, 1), padding=(1, 1), bias=False)\n",
              "        (bn2): BatchNorm2d(128, eps=1e-05, momentum=0.1, affine=True, track_running_stats=True)\n",
              "        (downsample): Sequential(\n",
              "          (0): Conv2d(64, 128, kernel_size=(1, 1), stride=(2, 2), bias=False)\n",
              "          (1): BatchNorm2d(128, eps=1e-05, momentum=0.1, affine=True, track_running_stats=True)\n",
              "        )\n",
              "      )\n",
              "      (1): BasicBlock(\n",
              "        (conv1): Conv2d(128, 128, kernel_size=(3, 3), stride=(1, 1), padding=(1, 1), bias=False)\n",
              "        (bn1): BatchNorm2d(128, eps=1e-05, momentum=0.1, affine=True, track_running_stats=True)\n",
              "        (relu): ReLU(inplace=True)\n",
              "        (conv2): Conv2d(128, 128, kernel_size=(3, 3), stride=(1, 1), padding=(1, 1), bias=False)\n",
              "        (bn2): BatchNorm2d(128, eps=1e-05, momentum=0.1, affine=True, track_running_stats=True)\n",
              "      )\n",
              "    )\n",
              "    (layer3): Sequential(\n",
              "      (0): BasicBlock(\n",
              "        (conv1): Conv2d(128, 256, kernel_size=(3, 3), stride=(2, 2), padding=(1, 1), bias=False)\n",
              "        (bn1): BatchNorm2d(256, eps=1e-05, momentum=0.1, affine=True, track_running_stats=True)\n",
              "        (relu): ReLU(inplace=True)\n",
              "        (conv2): Conv2d(256, 256, kernel_size=(3, 3), stride=(1, 1), padding=(1, 1), bias=False)\n",
              "        (bn2): BatchNorm2d(256, eps=1e-05, momentum=0.1, affine=True, track_running_stats=True)\n",
              "        (downsample): Sequential(\n",
              "          (0): Conv2d(128, 256, kernel_size=(1, 1), stride=(2, 2), bias=False)\n",
              "          (1): BatchNorm2d(256, eps=1e-05, momentum=0.1, affine=True, track_running_stats=True)\n",
              "        )\n",
              "      )\n",
              "      (1): BasicBlock(\n",
              "        (conv1): Conv2d(256, 256, kernel_size=(3, 3), stride=(1, 1), padding=(1, 1), bias=False)\n",
              "        (bn1): BatchNorm2d(256, eps=1e-05, momentum=0.1, affine=True, track_running_stats=True)\n",
              "        (relu): ReLU(inplace=True)\n",
              "        (conv2): Conv2d(256, 256, kernel_size=(3, 3), stride=(1, 1), padding=(1, 1), bias=False)\n",
              "        (bn2): BatchNorm2d(256, eps=1e-05, momentum=0.1, affine=True, track_running_stats=True)\n",
              "      )\n",
              "    )\n",
              "    (layer4): Sequential(\n",
              "      (0): BasicBlock(\n",
              "        (conv1): Conv2d(256, 512, kernel_size=(3, 3), stride=(2, 2), padding=(1, 1), bias=False)\n",
              "        (bn1): BatchNorm2d(512, eps=1e-05, momentum=0.1, affine=True, track_running_stats=True)\n",
              "        (relu): ReLU(inplace=True)\n",
              "        (conv2): Conv2d(512, 512, kernel_size=(3, 3), stride=(1, 1), padding=(1, 1), bias=False)\n",
              "        (bn2): BatchNorm2d(512, eps=1e-05, momentum=0.1, affine=True, track_running_stats=True)\n",
              "        (downsample): Sequential(\n",
              "          (0): Conv2d(256, 512, kernel_size=(1, 1), stride=(2, 2), bias=False)\n",
              "          (1): BatchNorm2d(512, eps=1e-05, momentum=0.1, affine=True, track_running_stats=True)\n",
              "        )\n",
              "      )\n",
              "      (1): BasicBlock(\n",
              "        (conv1): Conv2d(512, 512, kernel_size=(3, 3), stride=(1, 1), padding=(1, 1), bias=False)\n",
              "        (bn1): BatchNorm2d(512, eps=1e-05, momentum=0.1, affine=True, track_running_stats=True)\n",
              "        (relu): ReLU(inplace=True)\n",
              "        (conv2): Conv2d(512, 512, kernel_size=(3, 3), stride=(1, 1), padding=(1, 1), bias=False)\n",
              "        (bn2): BatchNorm2d(512, eps=1e-05, momentum=0.1, affine=True, track_running_stats=True)\n",
              "      )\n",
              "    )\n",
              "    (avgpool): AdaptiveAvgPool2d(output_size=(1, 1))\n",
              "    (fc): Linear(in_features=512, out_features=1000, bias=True)\n",
              "  )\n",
              ")"
            ]
          },
          "metadata": {},
          "execution_count": 8
        }
      ],
      "metadata": {}
    },
    {
      "cell_type": "code",
      "execution_count": 3,
      "source": [
        "conv_w=[]\n",
        "for name, param in net_default.named_parameters():\n",
        "    if \"conv\" in name and param.size()[2] == 3:\n",
        "        for i in param.tolist():\n",
        "            for j in i:\n",
        "                conv_w.append(j)\n"
      ],
      "outputs": [],
      "metadata": {}
    },
    {
      "cell_type": "code",
      "execution_count": 9,
      "source": [
        "conv_w_np=np.array(conv_w)"
      ],
      "outputs": [],
      "metadata": {}
    },
    {
      "cell_type": "code",
      "execution_count": 10,
      "source": [
        "print(min(np.array(conv_w).flatten()))\n",
        "print(max(np.array(conv_w).flatten()))\n",
        "print(np.array(conv_w).flatten().mean())\n",
        "print(np.array(conv_w).flatten().std())"
      ],
      "outputs": [
        {
          "output_type": "stream",
          "name": "stdout",
          "text": [
            "-0.43172767758369446\n",
            "0.523142397403717\n",
            "-0.00043260394141426636\n",
            "0.006091553020564397\n"
          ]
        }
      ],
      "metadata": {}
    },
    {
      "cell_type": "code",
      "execution_count": 11,
      "source": [
        "print(conv_w_np.mean(axis=0))\n",
        "print(conv_w_np.std(axis=0))"
      ],
      "outputs": [
        {
          "output_type": "stream",
          "name": "stdout",
          "text": [
            "[[-0.00033941 -0.0003761  -0.00041287]\n",
            " [-0.00041262 -0.0005359  -0.0004768 ]\n",
            " [-0.00040751 -0.00046638 -0.00046583]]\n",
            "[[0.00568966 0.00603247 0.00596442]\n",
            " [0.00594336 0.00615067 0.00631569]\n",
            " [0.00595921 0.00641953 0.00631134]]\n"
          ]
        }
      ],
      "metadata": {}
    },
    {
      "cell_type": "code",
      "execution_count": 12,
      "source": [
        "conv_w_np.shape"
      ],
      "outputs": [
        {
          "output_type": "execute_result",
          "data": {
            "text/plain": [
              "(1220800, 3, 3)"
            ]
          },
          "metadata": {},
          "execution_count": 12
        }
      ],
      "metadata": {}
    },
    {
      "cell_type": "code",
      "execution_count": 13,
      "source": [
        "slicing=[]\n",
        "for i in range(3):\n",
        "    for j in range(3):\n",
        "        slicing.append(conv_w_np[:,i,j])"
      ],
      "outputs": [],
      "metadata": {}
    },
    {
      "cell_type": "code",
      "execution_count": 86,
      "source": [
        "slicing[0]"
      ],
      "outputs": [
        {
          "output_type": "execute_result",
          "data": {
            "text/plain": [
              "array([-7.53056351e-03,  3.21827978e-02, -5.10245450e-02, ...,\n",
              "        6.87719082e-09,  1.09565281e-08, -6.25728847e-09])"
            ]
          },
          "metadata": {},
          "execution_count": 86
        }
      ],
      "metadata": {}
    },
    {
      "cell_type": "code",
      "execution_count": 14,
      "source": [
        "from matplotlib import pyplot as plt\n",
        "_=plt.hist(slicing[0], bins=500, density=True)"
      ],
      "outputs": [
        {
          "output_type": "display_data",
          "data": {
            "image/png": "[encoded data removed]",
            "text/plain": [
              "<Figure size 432x288 with 1 Axes>"
            ]
          },
          "metadata": {
            "needs_background": "light"
          }
        }
      ],
      "metadata": {}
    },
    {
      "cell_type": "code",
      "execution_count": 23,
      "source": [
        "p1=np.percentile(slicing[0],1,interpolation=\"nearest\")\n",
        "p90=np.percentile(slicing[0],95,interpolation=\"nearest\")"
      ],
      "outputs": [],
      "metadata": {}
    },
    {
      "cell_type": "code",
      "execution_count": 24,
      "source": [
        "slicing[0].sort()"
      ],
      "outputs": [],
      "metadata": {}
    },
    {
      "cell_type": "code",
      "execution_count": 25,
      "source": [
        "slicing[0]"
      ],
      "outputs": [
        {
          "output_type": "execute_result",
          "data": {
            "text/plain": [
              "array([-0.26463583, -0.14968054, -0.14266723, ...,  0.12593283,\n",
              "        0.12597671,  0.13650124])"
            ]
          },
          "metadata": {},
          "execution_count": 25
        }
      ],
      "metadata": {}
    },
    {
      "cell_type": "code",
      "execution_count": 26,
      "source": [
        "p1idx=np.where(slicing[0]==p1)[0][0]\n",
        "p90idx=np.where(slicing[0]==p90)[0][0]"
      ],
      "outputs": [],
      "metadata": {}
    },
    {
      "cell_type": "code",
      "execution_count": 27,
      "source": [
        "p90idx"
      ],
      "outputs": [
        {
          "output_type": "execute_result",
          "data": {
            "text/plain": [
              "1159759"
            ]
          },
          "metadata": {},
          "execution_count": 27
        }
      ],
      "metadata": {}
    },
    {
      "cell_type": "code",
      "execution_count": 28,
      "source": [
        "slicing_p=slicing[0][p1idx:p90idx]"
      ],
      "outputs": [],
      "metadata": {}
    },
    {
      "cell_type": "code",
      "execution_count": 29,
      "source": [
        "_=plt.hist(slicing_p,bins=500)"
      ],
      "outputs": [
        {
          "output_type": "display_data",
          "data": {
            "image/png": "[encoded data removed]",
            "text/plain": [
              "<Figure size 432x288 with 1 Axes>"
            ]
          },
          "metadata": {
            "needs_background": "light"
          }
        }
      ],
      "metadata": {}
    },
    {
      "cell_type": "code",
      "execution_count": 30,
      "source": [
        "#Most frequent values:\r\n",
        "values, counts = np.unique(slicing[0], return_counts=True)\r\n",
        "\r\n",
        "ind = np.argmax(counts)\r\n",
        "print(values[ind])  # prints the most frequent element\r\n",
        "\r\n",
        "ind = np.argpartition(-counts, kth=10)[:10]\r\n",
        "print(values[ind])  # prints the 10 most frequent elements\r\n",
        "max(counts)"
      ],
      "outputs": [
        {
          "output_type": "stream",
          "name": "stdout",
          "text": [
            "-0.0046138884499669075\n",
            "[ 0.00260003  0.00169403 -0.0006878   0.00080859 -0.00241939 -0.00300754\n",
            "  0.00316674 -0.00046397  0.00207949 -0.00219031]\n"
          ]
        },
        {
          "output_type": "execute_result",
          "data": {
            "text/plain": [
              "3"
            ]
          },
          "metadata": {},
          "execution_count": 30
        }
      ],
      "metadata": {}
    },
    {
      "cell_type": "code",
      "execution_count": 31,
      "source": [
        "from scipy import stats\r\n",
        "\r\n",
        "stats.kurtosis(slicing[0])\r\n",
        "#The distributions has a high kurtosis"
      ],
      "outputs": [
        {
          "output_type": "execute_result",
          "data": {
            "text/plain": [
              "18.021676918224284"
            ]
          },
          "metadata": {},
          "execution_count": 31
        }
      ],
      "metadata": {}
    },
    {
      "cell_type": "markdown",
      "source": [
        "# Train Test"
      ],
      "metadata": {}
    },
    {
      "cell_type": "code",
      "execution_count": 31,
      "source": [
        "print.__name__"
      ],
      "outputs": [
        {
          "output_type": "execute_result",
          "data": {
            "text/plain": [
              "'print'"
            ]
          },
          "metadata": {},
          "execution_count": 31
        }
      ],
      "metadata": {}
    },
    {
      "cell_type": "markdown",
      "source": [
        "# End Process"
      ],
      "metadata": {
        "nteract": {
          "transient": {
            "deleting": false
          }
        }
      }
    },
    {
      "cell_type": "code",
      "execution_count": null,
      "source": [
        "import az_manage_proc\r\n",
        "az_manage_proc.delete()"
      ],
      "outputs": [
        {
          "output_type": "stream",
          "name": "stdout",
          "text": [
            "Found existing instance, use it.\n",
            "Deleting...."
          ]
        }
      ],
      "metadata": {
        "collapsed": true,
        "jupyter": {
          "source_hidden": false,
          "outputs_hidden": false
        },
        "nteract": {
          "transient": {
            "deleting": false
          }
        },
        "gather": {
          "logged": 1625718926035
        }
      }
    }
  ],
  "metadata": {
    "colab": {
      "name": "weight_injections.ipynb",
      "provenance": [],
      "collapsed_sections": [
        "CUTSgXGmCKCS",
        "9Ry19OvoPkts"
      ],
      "mount_file_id": "1LcrhbhN0MFCCzapt9JGkjaImubD_xoIn",
      "authorship_tag": "ABX9TyNCZTsO2OlYP/IyY8g5mQtM"
    },
    "kernelspec": {
      "name": "python3",
      "display_name": "Python 3.9.1 64-bit ('base': conda)"
    },
    "accelerator": "GPU",
    "kernel_info": {
      "name": "python3"
    },
    "nteract": {
      "version": "nteract-front-end@1.0.0"
    },
    "interpreter": {
      "hash": "dee0b18f5efeed97723793285cb915e0fd443adf8426f935c8cb81cf81e23c84"
    },
    "language_info": {
      "name": "python",
      "version": "3.9.1",
      "mimetype": "text/x-python",
      "codemirror_mode": {
        "name": "ipython",
        "version": 3
      },
      "pygments_lexer": "ipython3",
      "nbconvert_exporter": "python",
      "file_extension": ".py"
    }
  },
  "nbformat": 4,
  "nbformat_minor": 2
}